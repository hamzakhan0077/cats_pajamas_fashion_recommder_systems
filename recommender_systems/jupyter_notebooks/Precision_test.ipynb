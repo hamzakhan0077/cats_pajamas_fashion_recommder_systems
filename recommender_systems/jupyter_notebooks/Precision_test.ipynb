{
 "cells": [
  {
   "cell_type": "markdown",
   "id": "fb453d82",
   "metadata": {},
   "source": [
    "<h1> Precision Test </h1>\n",
    "<ul>\n",
    "    <li>Random Recommender</li>\n",
    "    <li>Popularity Based Recommender</li>\n",
    "    <li>Test Set Creation</li>\n",
    "    <li>Popularity Based Recommender Precision</li>\n",
    "</ul>"
   ]
  },
  {
   "cell_type": "code",
   "execution_count": 44,
   "id": "669bfe5f",
   "metadata": {},
   "outputs": [
    {
     "name": "stdout",
     "output_type": "stream",
     "text": [
      "The autoreload extension is already loaded. To reload it, use:\n",
      "  %reload_ext autoreload\n"
     ]
    }
   ],
   "source": [
    "%load_ext autoreload\n",
    "%autoreload 2\n",
    "%matplotlib inline\n"
   ]
  },
  {
   "cell_type": "code",
   "execution_count": 45,
   "id": "cf630c50",
   "metadata": {},
   "outputs": [],
   "source": [
    "import pandas as pd\n",
    "import numpy as np\n",
    "import random\n",
    "from sklearn.feature_extraction.text import TfidfVectorizer, CountVectorizer\n",
    "from sklearn.metrics.pairwise import linear_kernel\n",
    "from tqdm.auto import tqdm"
   ]
  },
  {
   "cell_type": "code",
   "execution_count": 46,
   "id": "bf064f2b",
   "metadata": {},
   "outputs": [
    {
     "data": {
      "text/plain": [
       "(26722, 26)"
      ]
     },
     "execution_count": 46,
     "metadata": {},
     "output_type": "execute_result"
    }
   ],
   "source": [
    "articles_df = pd.read_csv(\"../datasets/articles_transactions_5.csv\")\n",
    "articles_df.shape"
   ]
  },
  {
   "cell_type": "code",
   "execution_count": 47,
   "id": "b874c9ee",
   "metadata": {},
   "outputs": [],
   "source": [
    "articles_df = pd.read_csv(\"../datasets/articles_transactions_5.csv\")\n",
    "T = pd.read_csv(\"../datasets/transactions_5.csv\")\n",
    "pd.set_option(\"display.max_rows\", None)\n",
    "i = articles_df.copy()\n",
    "i['detail_desc'] = i['detail_desc'].fillna(\"\")"
   ]
  },
  {
   "cell_type": "markdown",
   "id": "f815eff0",
   "metadata": {},
   "source": [
    "<h2>Random Recommender</h2>"
   ]
  },
  {
   "cell_type": "code",
   "execution_count": 48,
   "id": "e0124ec2",
   "metadata": {},
   "outputs": [],
   "source": [
    "def random_recommender(customer):\n",
    "    # print(f\"{customer.customer_id} \", np.random.choice(articles_df['article_id'].values,5))\n",
    "    return random.sample(sorted(articles_df['article_id'].values),5)"
   ]
  },
  {
   "cell_type": "markdown",
   "id": "489653ef",
   "metadata": {},
   "source": [
    "<h2>Popularity Based Recommender</h2>"
   ]
  },
  {
   "cell_type": "code",
   "execution_count": 49,
   "id": "e29d2dad",
   "metadata": {},
   "outputs": [],
   "source": [
    "def popularity_recommender(customer):\n",
    "    # Top 5 most bought\n",
    "    popular_products = T['article_id'].value_counts().nlargest(5).to_frame()['article_id'].keys().values\n",
    "    return popular_products"
   ]
  },
  {
   "cell_type": "markdown",
   "id": "1189969c",
   "metadata": {},
   "source": [
    "<h2>Content Based Recommender Using TFID\n",
    "</h2>"
   ]
  },
  {
   "cell_type": "code",
   "execution_count": 50,
   "id": "d6f13f87",
   "metadata": {
    "scrolled": true
   },
   "outputs": [
    {
     "name": "stdout",
     "output_type": "stream",
     "text": [
      "(26722, 2148)\n",
      "[[1.         0.15415515 0.15415515 ... 0.         0.17445125 0.06544307]\n",
      " [0.15415515 1.         1.         ... 0.03417172 0.02818911 0.18738553]\n",
      " [0.15415515 1.         1.         ... 0.03417172 0.02818911 0.18738553]\n",
      " ...\n",
      " [0.         0.03417172 0.03417172 ... 1.         0.         0.01974166]\n",
      " [0.17445125 0.02818911 0.02818911 ... 0.         1.         0.05267121]\n",
      " [0.06544307 0.18738553 0.18738553 ... 0.01974166 0.05267121 1.        ]]\n"
     ]
    }
   ],
   "source": [
    "vectorizer = TfidfVectorizer(stop_words = \"english\")\n",
    "candidate_profile_X = vectorizer.fit_transform(i[\"detail_desc\"])\n",
    "print(candidate_profile_X.shape)\n",
    "cosine_similarity = linear_kernel(candidate_profile_X,candidate_profile_X) \n",
    "print(cosine_similarity)\n",
    "indices = pd.Series(i.index,index=i[\"article_id\"]).drop_duplicates()"
   ]
  },
  {
   "cell_type": "code",
   "execution_count": 51,
   "id": "95dc0aed",
   "metadata": {},
   "outputs": [],
   "source": [
    "def rec_Tfid(article_id,cosine_similarity):\n",
    "    idx = indices[article_id]\n",
    "    scores = enumerate(cosine_similarity[idx])\n",
    "    scores = sorted(scores,key=lambda val:val[1])\n",
    "    scores = scores[-6:-1]\n",
    "    # scores = scores[-2:-1] # we want the one before the Identical one (THE MOST SIMILAR)\n",
    "    # print(scores)\n",
    "    # return [i['article_id'].iloc[tar[0]] for tar  in scores]\n",
    "    return scores # now returns a list of tuple"
   ]
  },
  {
   "cell_type": "code",
   "execution_count": 43,
   "id": "01cd8a6d",
   "metadata": {},
   "outputs": [],
   "source": [
    "def content_based_recommender_Tfid(customer):\n",
    "    tuple_list = [] # list with similarity and index\n",
    "    customer_purchases = T['article_id'][T['customer_id'] == customer].drop_duplicates().values\n",
    "    for product in customer_purchases:\n",
    "        tuple_list += rec_Tfid(product,cosine_similarity)\n",
    "    tuple_list = set(tuple_list)\n",
    "    tuple_list = list(tuple_list)\n",
    "    scores = sorted(tuple_list, key=lambda val: val[1])\n",
    "    scores = scores[-6:-1] # pick bottom 5, with the highest scores\n",
    "    return [i['article_id'].iloc[tar[0]] for tar in scores]"
   ]
  },
  {
   "cell_type": "markdown",
   "id": "6b7d3c8a",
   "metadata": {},
   "source": [
    "<h2>Content Based Recommender Using Count Vectorizer\n",
    "</h2>"
   ]
  },
  {
   "cell_type": "code",
   "execution_count": 52,
   "id": "2e3c82c5",
   "metadata": {},
   "outputs": [],
   "source": [
    "count_vectorizer = CountVectorizer(binary=True,stop_words = \"english\")\n",
    "profiles = count_vectorizer.fit_transform(i[\"detail_desc\"])\n",
    "similarity = linear_kernel(profiles,profiles) \n",
    "indices = pd.Series(i.index,index=i[\"article_id\"]).drop_duplicates()\n",
    "# indices"
   ]
  },
  {
   "cell_type": "code",
   "execution_count": 53,
   "id": "7d3b559c",
   "metadata": {},
   "outputs": [],
   "source": [
    "def rec_count(article_id,similarity):\n",
    "    idx = indices[article_id]\n",
    "#     print(idx)\n",
    "    scores = enumerate(similarity[idx])\n",
    "    scores = sorted(scores,key=lambda val:val[1])\n",
    "    scores = scores[-6:-1]\n",
    "    # scores = scores[-2:-1] # we want the one before the Identical one (THE MOST SIMILAR)\n",
    "    # print(scores)\n",
    "    # return [i['article_id'].iloc[tar[0]] for tar  in scores]\n",
    "    return scores # now returns a list of tuple"
   ]
  },
  {
   "cell_type": "code",
   "execution_count": 54,
   "id": "6d11c0e1",
   "metadata": {},
   "outputs": [],
   "source": [
    "def content_based_recommender_count(customer):\n",
    "    tuple_list = [] # list with similarity and index\n",
    "    customer_purchases = T['article_id'][T['customer_id'] == customer].drop_duplicates().values\n",
    "    for product in customer_purchases:\n",
    "        tuple_list += rec_count(product,similarity)\n",
    "    tuple_list = set(tuple_list)\n",
    "    tuple_list = list(tuple_list)\n",
    "    scores = sorted(tuple_list, key=lambda val: val[1])\n",
    "    scores = scores[-6:-1] # pick bottom 5, with the highest scores\n",
    "    return [i['article_id'].iloc[tar[0]] for tar in scores]"
   ]
  },
  {
   "cell_type": "code",
   "execution_count": 55,
   "id": "f7eba831",
   "metadata": {},
   "outputs": [],
   "source": [
    "# print(content_based_recommender_count('65cb62c794232651e2ac711faa11c2b4e3d41d5f3b59b50bee3ffde1d5776644'))"
   ]
  },
  {
   "cell_type": "markdown",
   "id": "cccaae31",
   "metadata": {},
   "source": [
    "<h2>Test Set Creation</h2>"
   ]
  },
  {
   "cell_type": "markdown",
   "id": "8b263453",
   "metadata": {},
   "source": [
    "<p>\n",
    "From the Kaggle transactions, extract a set T for just one month.\n",
    "Let U be the users who have at least one transaction inT.\n",
    "Let I be the items that are in at least one transaction in T.\n",
    "\n",
    "For any user u who has fewer than 5 transactions in T, \n",
    "- delete u from U\n",
    "- delete u's transactions from T.\n",
    "\n",
    "From U, choose 1000 users at random. Call these test-U.\n",
    "\n",
    "For each user u in test-U, \n",
    "- move the last 20% of their transactions from T to test-T (i.e. delete them from T, insert them into test-T).\n",
    "\n",
    "Train a recommender system on T. (This does not apply to the random recommender, but it does apply to the popularity recommender because you need to know which items in T are the most popular.)\n",
    "\n",
    "Test the recommender as follows; for each u in test-U,\n",
    "- obtain n recommendations (e.g. 5 recommendations)\n",
    "- compute precision (based on how many of u's recommendations are in test-T for user u)\n",
    "Afterwards, you have the precision for each user in test-U. So now compute the mean of these.\n",
    "\n",
    "</p>"
   ]
  },
  {
   "cell_type": "code",
   "execution_count": 56,
   "id": "530f441a",
   "metadata": {},
   "outputs": [
    {
     "data": {
      "text/plain": [
       "(788257, 7)"
      ]
     },
     "execution_count": 56,
     "metadata": {},
     "output_type": "execute_result"
    }
   ],
   "source": [
    "T.shape"
   ]
  },
  {
   "cell_type": "code",
   "execution_count": 57,
   "id": "b2ff17f1",
   "metadata": {},
   "outputs": [],
   "source": [
    "u = T['customer_id'].drop_duplicates().to_frame()"
   ]
  },
  {
   "cell_type": "code",
   "execution_count": 58,
   "id": "b4d1658b",
   "metadata": {
    "scrolled": false
   },
   "outputs": [
    {
     "data": {
      "text/plain": [
       "(84234, 1)"
      ]
     },
     "execution_count": 58,
     "metadata": {},
     "output_type": "execute_result"
    }
   ],
   "source": [
    "u.shape"
   ]
  },
  {
   "cell_type": "code",
   "execution_count": 59,
   "id": "0ca3e43f",
   "metadata": {},
   "outputs": [
    {
     "data": {
      "text/plain": [
       "(26722, 1)"
      ]
     },
     "execution_count": 59,
     "metadata": {},
     "output_type": "execute_result"
    }
   ],
   "source": [
    "i = T['article_id'].drop_duplicates().to_frame()\n",
    "i.shape"
   ]
  },
  {
   "cell_type": "code",
   "execution_count": 60,
   "id": "0ab24620",
   "metadata": {},
   "outputs": [
    {
     "name": "stderr",
     "output_type": "stream",
     "text": [
      "C:\\Users\\Hammozi\\AppData\\Local\\Temp\\ipykernel_22716\\801327109.py:7: FutureWarning: The frame.append method is deprecated and will be removed from pandas in a future version. Use pandas.concat instead.\n",
      "  test_t = test_t.append(bottom_transac)\n",
      "C:\\Users\\Hammozi\\AppData\\Local\\Temp\\ipykernel_22716\\801327109.py:7: FutureWarning: The frame.append method is deprecated and will be removed from pandas in a future version. Use pandas.concat instead.\n",
      "  test_t = test_t.append(bottom_transac)\n",
      "C:\\Users\\Hammozi\\AppData\\Local\\Temp\\ipykernel_22716\\801327109.py:7: FutureWarning: The frame.append method is deprecated and will be removed from pandas in a future version. Use pandas.concat instead.\n",
      "  test_t = test_t.append(bottom_transac)\n"
     ]
    },
    {
     "name": "stdout",
     "output_type": "stream",
     "text": [
      "0\n",
      "1\n",
      "2\n",
      "3\n"
     ]
    },
    {
     "name": "stderr",
     "output_type": "stream",
     "text": [
      "C:\\Users\\Hammozi\\AppData\\Local\\Temp\\ipykernel_22716\\801327109.py:7: FutureWarning: The frame.append method is deprecated and will be removed from pandas in a future version. Use pandas.concat instead.\n",
      "  test_t = test_t.append(bottom_transac)\n",
      "C:\\Users\\Hammozi\\AppData\\Local\\Temp\\ipykernel_22716\\801327109.py:7: FutureWarning: The frame.append method is deprecated and will be removed from pandas in a future version. Use pandas.concat instead.\n",
      "  test_t = test_t.append(bottom_transac)\n",
      "C:\\Users\\Hammozi\\AppData\\Local\\Temp\\ipykernel_22716\\801327109.py:7: FutureWarning: The frame.append method is deprecated and will be removed from pandas in a future version. Use pandas.concat instead.\n",
      "  test_t = test_t.append(bottom_transac)\n"
     ]
    },
    {
     "name": "stdout",
     "output_type": "stream",
     "text": [
      "4\n",
      "5\n",
      "6\n",
      "7\n"
     ]
    },
    {
     "name": "stderr",
     "output_type": "stream",
     "text": [
      "C:\\Users\\Hammozi\\AppData\\Local\\Temp\\ipykernel_22716\\801327109.py:7: FutureWarning: The frame.append method is deprecated and will be removed from pandas in a future version. Use pandas.concat instead.\n",
      "  test_t = test_t.append(bottom_transac)\n",
      "C:\\Users\\Hammozi\\AppData\\Local\\Temp\\ipykernel_22716\\801327109.py:7: FutureWarning: The frame.append method is deprecated and will be removed from pandas in a future version. Use pandas.concat instead.\n",
      "  test_t = test_t.append(bottom_transac)\n",
      "C:\\Users\\Hammozi\\AppData\\Local\\Temp\\ipykernel_22716\\801327109.py:7: FutureWarning: The frame.append method is deprecated and will be removed from pandas in a future version. Use pandas.concat instead.\n",
      "  test_t = test_t.append(bottom_transac)\n"
     ]
    },
    {
     "name": "stdout",
     "output_type": "stream",
     "text": [
      "8\n",
      "9\n",
      "10\n",
      "11\n"
     ]
    },
    {
     "name": "stderr",
     "output_type": "stream",
     "text": [
      "C:\\Users\\Hammozi\\AppData\\Local\\Temp\\ipykernel_22716\\801327109.py:7: FutureWarning: The frame.append method is deprecated and will be removed from pandas in a future version. Use pandas.concat instead.\n",
      "  test_t = test_t.append(bottom_transac)\n",
      "C:\\Users\\Hammozi\\AppData\\Local\\Temp\\ipykernel_22716\\801327109.py:7: FutureWarning: The frame.append method is deprecated and will be removed from pandas in a future version. Use pandas.concat instead.\n",
      "  test_t = test_t.append(bottom_transac)\n",
      "C:\\Users\\Hammozi\\AppData\\Local\\Temp\\ipykernel_22716\\801327109.py:7: FutureWarning: The frame.append method is deprecated and will be removed from pandas in a future version. Use pandas.concat instead.\n",
      "  test_t = test_t.append(bottom_transac)\n",
      "C:\\Users\\Hammozi\\AppData\\Local\\Temp\\ipykernel_22716\\801327109.py:7: FutureWarning: The frame.append method is deprecated and will be removed from pandas in a future version. Use pandas.concat instead.\n",
      "  test_t = test_t.append(bottom_transac)\n",
      "C:\\Users\\Hammozi\\AppData\\Local\\Temp\\ipykernel_22716\\801327109.py:7: FutureWarning: The frame.append method is deprecated and will be removed from pandas in a future version. Use pandas.concat instead.\n",
      "  test_t = test_t.append(bottom_transac)\n",
      "C:\\Users\\Hammozi\\AppData\\Local\\Temp\\ipykernel_22716\\801327109.py:7: FutureWarning: The frame.append method is deprecated and will be removed from pandas in a future version. Use pandas.concat instead.\n",
      "  test_t = test_t.append(bottom_transac)\n"
     ]
    },
    {
     "name": "stdout",
     "output_type": "stream",
     "text": [
      "12\n",
      "13\n",
      "14\n",
      "15\n"
     ]
    },
    {
     "name": "stderr",
     "output_type": "stream",
     "text": [
      "C:\\Users\\Hammozi\\AppData\\Local\\Temp\\ipykernel_22716\\801327109.py:7: FutureWarning: The frame.append method is deprecated and will be removed from pandas in a future version. Use pandas.concat instead.\n",
      "  test_t = test_t.append(bottom_transac)\n",
      "C:\\Users\\Hammozi\\AppData\\Local\\Temp\\ipykernel_22716\\801327109.py:7: FutureWarning: The frame.append method is deprecated and will be removed from pandas in a future version. Use pandas.concat instead.\n",
      "  test_t = test_t.append(bottom_transac)\n",
      "C:\\Users\\Hammozi\\AppData\\Local\\Temp\\ipykernel_22716\\801327109.py:7: FutureWarning: The frame.append method is deprecated and will be removed from pandas in a future version. Use pandas.concat instead.\n",
      "  test_t = test_t.append(bottom_transac)\n"
     ]
    },
    {
     "name": "stdout",
     "output_type": "stream",
     "text": [
      "16\n",
      "17\n",
      "18\n"
     ]
    },
    {
     "name": "stderr",
     "output_type": "stream",
     "text": [
      "C:\\Users\\Hammozi\\AppData\\Local\\Temp\\ipykernel_22716\\801327109.py:7: FutureWarning: The frame.append method is deprecated and will be removed from pandas in a future version. Use pandas.concat instead.\n",
      "  test_t = test_t.append(bottom_transac)\n",
      "C:\\Users\\Hammozi\\AppData\\Local\\Temp\\ipykernel_22716\\801327109.py:7: FutureWarning: The frame.append method is deprecated and will be removed from pandas in a future version. Use pandas.concat instead.\n",
      "  test_t = test_t.append(bottom_transac)\n",
      "C:\\Users\\Hammozi\\AppData\\Local\\Temp\\ipykernel_22716\\801327109.py:7: FutureWarning: The frame.append method is deprecated and will be removed from pandas in a future version. Use pandas.concat instead.\n",
      "  test_t = test_t.append(bottom_transac)\n"
     ]
    },
    {
     "name": "stdout",
     "output_type": "stream",
     "text": [
      "19\n",
      "20\n",
      "21\n",
      "22\n"
     ]
    },
    {
     "name": "stderr",
     "output_type": "stream",
     "text": [
      "C:\\Users\\Hammozi\\AppData\\Local\\Temp\\ipykernel_22716\\801327109.py:7: FutureWarning: The frame.append method is deprecated and will be removed from pandas in a future version. Use pandas.concat instead.\n",
      "  test_t = test_t.append(bottom_transac)\n",
      "C:\\Users\\Hammozi\\AppData\\Local\\Temp\\ipykernel_22716\\801327109.py:7: FutureWarning: The frame.append method is deprecated and will be removed from pandas in a future version. Use pandas.concat instead.\n",
      "  test_t = test_t.append(bottom_transac)\n",
      "C:\\Users\\Hammozi\\AppData\\Local\\Temp\\ipykernel_22716\\801327109.py:7: FutureWarning: The frame.append method is deprecated and will be removed from pandas in a future version. Use pandas.concat instead.\n",
      "  test_t = test_t.append(bottom_transac)\n"
     ]
    },
    {
     "name": "stdout",
     "output_type": "stream",
     "text": [
      "23\n",
      "24\n",
      "25\n"
     ]
    },
    {
     "name": "stderr",
     "output_type": "stream",
     "text": [
      "C:\\Users\\Hammozi\\AppData\\Local\\Temp\\ipykernel_22716\\801327109.py:7: FutureWarning: The frame.append method is deprecated and will be removed from pandas in a future version. Use pandas.concat instead.\n",
      "  test_t = test_t.append(bottom_transac)\n",
      "C:\\Users\\Hammozi\\AppData\\Local\\Temp\\ipykernel_22716\\801327109.py:7: FutureWarning: The frame.append method is deprecated and will be removed from pandas in a future version. Use pandas.concat instead.\n",
      "  test_t = test_t.append(bottom_transac)\n",
      "C:\\Users\\Hammozi\\AppData\\Local\\Temp\\ipykernel_22716\\801327109.py:7: FutureWarning: The frame.append method is deprecated and will be removed from pandas in a future version. Use pandas.concat instead.\n",
      "  test_t = test_t.append(bottom_transac)\n"
     ]
    },
    {
     "name": "stdout",
     "output_type": "stream",
     "text": [
      "26\n",
      "27\n",
      "28\n",
      "29\n"
     ]
    },
    {
     "name": "stderr",
     "output_type": "stream",
     "text": [
      "C:\\Users\\Hammozi\\AppData\\Local\\Temp\\ipykernel_22716\\801327109.py:7: FutureWarning: The frame.append method is deprecated and will be removed from pandas in a future version. Use pandas.concat instead.\n",
      "  test_t = test_t.append(bottom_transac)\n",
      "C:\\Users\\Hammozi\\AppData\\Local\\Temp\\ipykernel_22716\\801327109.py:7: FutureWarning: The frame.append method is deprecated and will be removed from pandas in a future version. Use pandas.concat instead.\n",
      "  test_t = test_t.append(bottom_transac)\n",
      "C:\\Users\\Hammozi\\AppData\\Local\\Temp\\ipykernel_22716\\801327109.py:7: FutureWarning: The frame.append method is deprecated and will be removed from pandas in a future version. Use pandas.concat instead.\n",
      "  test_t = test_t.append(bottom_transac)\n",
      "C:\\Users\\Hammozi\\AppData\\Local\\Temp\\ipykernel_22716\\801327109.py:7: FutureWarning: The frame.append method is deprecated and will be removed from pandas in a future version. Use pandas.concat instead.\n",
      "  test_t = test_t.append(bottom_transac)\n",
      "C:\\Users\\Hammozi\\AppData\\Local\\Temp\\ipykernel_22716\\801327109.py:7: FutureWarning: The frame.append method is deprecated and will be removed from pandas in a future version. Use pandas.concat instead.\n",
      "  test_t = test_t.append(bottom_transac)\n",
      "C:\\Users\\Hammozi\\AppData\\Local\\Temp\\ipykernel_22716\\801327109.py:7: FutureWarning: The frame.append method is deprecated and will be removed from pandas in a future version. Use pandas.concat instead.\n",
      "  test_t = test_t.append(bottom_transac)\n"
     ]
    },
    {
     "name": "stdout",
     "output_type": "stream",
     "text": [
      "30\n",
      "31\n",
      "32\n",
      "33\n"
     ]
    },
    {
     "name": "stderr",
     "output_type": "stream",
     "text": [
      "C:\\Users\\Hammozi\\AppData\\Local\\Temp\\ipykernel_22716\\801327109.py:7: FutureWarning: The frame.append method is deprecated and will be removed from pandas in a future version. Use pandas.concat instead.\n",
      "  test_t = test_t.append(bottom_transac)\n",
      "C:\\Users\\Hammozi\\AppData\\Local\\Temp\\ipykernel_22716\\801327109.py:7: FutureWarning: The frame.append method is deprecated and will be removed from pandas in a future version. Use pandas.concat instead.\n",
      "  test_t = test_t.append(bottom_transac)\n",
      "C:\\Users\\Hammozi\\AppData\\Local\\Temp\\ipykernel_22716\\801327109.py:7: FutureWarning: The frame.append method is deprecated and will be removed from pandas in a future version. Use pandas.concat instead.\n",
      "  test_t = test_t.append(bottom_transac)\n"
     ]
    },
    {
     "name": "stdout",
     "output_type": "stream",
     "text": [
      "34\n",
      "35\n",
      "36\n",
      "37\n"
     ]
    },
    {
     "name": "stderr",
     "output_type": "stream",
     "text": [
      "C:\\Users\\Hammozi\\AppData\\Local\\Temp\\ipykernel_22716\\801327109.py:7: FutureWarning: The frame.append method is deprecated and will be removed from pandas in a future version. Use pandas.concat instead.\n",
      "  test_t = test_t.append(bottom_transac)\n",
      "C:\\Users\\Hammozi\\AppData\\Local\\Temp\\ipykernel_22716\\801327109.py:7: FutureWarning: The frame.append method is deprecated and will be removed from pandas in a future version. Use pandas.concat instead.\n",
      "  test_t = test_t.append(bottom_transac)\n",
      "C:\\Users\\Hammozi\\AppData\\Local\\Temp\\ipykernel_22716\\801327109.py:7: FutureWarning: The frame.append method is deprecated and will be removed from pandas in a future version. Use pandas.concat instead.\n",
      "  test_t = test_t.append(bottom_transac)\n"
     ]
    },
    {
     "name": "stdout",
     "output_type": "stream",
     "text": [
      "38\n",
      "39\n",
      "40\n",
      "41\n"
     ]
    },
    {
     "name": "stderr",
     "output_type": "stream",
     "text": [
      "C:\\Users\\Hammozi\\AppData\\Local\\Temp\\ipykernel_22716\\801327109.py:7: FutureWarning: The frame.append method is deprecated and will be removed from pandas in a future version. Use pandas.concat instead.\n",
      "  test_t = test_t.append(bottom_transac)\n",
      "C:\\Users\\Hammozi\\AppData\\Local\\Temp\\ipykernel_22716\\801327109.py:7: FutureWarning: The frame.append method is deprecated and will be removed from pandas in a future version. Use pandas.concat instead.\n",
      "  test_t = test_t.append(bottom_transac)\n",
      "C:\\Users\\Hammozi\\AppData\\Local\\Temp\\ipykernel_22716\\801327109.py:7: FutureWarning: The frame.append method is deprecated and will be removed from pandas in a future version. Use pandas.concat instead.\n",
      "  test_t = test_t.append(bottom_transac)\n",
      "C:\\Users\\Hammozi\\AppData\\Local\\Temp\\ipykernel_22716\\801327109.py:7: FutureWarning: The frame.append method is deprecated and will be removed from pandas in a future version. Use pandas.concat instead.\n",
      "  test_t = test_t.append(bottom_transac)\n",
      "C:\\Users\\Hammozi\\AppData\\Local\\Temp\\ipykernel_22716\\801327109.py:7: FutureWarning: The frame.append method is deprecated and will be removed from pandas in a future version. Use pandas.concat instead.\n",
      "  test_t = test_t.append(bottom_transac)\n",
      "C:\\Users\\Hammozi\\AppData\\Local\\Temp\\ipykernel_22716\\801327109.py:7: FutureWarning: The frame.append method is deprecated and will be removed from pandas in a future version. Use pandas.concat instead.\n",
      "  test_t = test_t.append(bottom_transac)\n"
     ]
    },
    {
     "name": "stdout",
     "output_type": "stream",
     "text": [
      "42\n",
      "43\n",
      "44\n"
     ]
    },
    {
     "name": "stderr",
     "output_type": "stream",
     "text": [
      "C:\\Users\\Hammozi\\AppData\\Local\\Temp\\ipykernel_22716\\801327109.py:7: FutureWarning: The frame.append method is deprecated and will be removed from pandas in a future version. Use pandas.concat instead.\n",
      "  test_t = test_t.append(bottom_transac)\n",
      "C:\\Users\\Hammozi\\AppData\\Local\\Temp\\ipykernel_22716\\801327109.py:7: FutureWarning: The frame.append method is deprecated and will be removed from pandas in a future version. Use pandas.concat instead.\n",
      "  test_t = test_t.append(bottom_transac)\n",
      "C:\\Users\\Hammozi\\AppData\\Local\\Temp\\ipykernel_22716\\801327109.py:7: FutureWarning: The frame.append method is deprecated and will be removed from pandas in a future version. Use pandas.concat instead.\n",
      "  test_t = test_t.append(bottom_transac)\n"
     ]
    },
    {
     "name": "stdout",
     "output_type": "stream",
     "text": [
      "45\n",
      "46\n",
      "47\n",
      "48\n"
     ]
    },
    {
     "name": "stderr",
     "output_type": "stream",
     "text": [
      "C:\\Users\\Hammozi\\AppData\\Local\\Temp\\ipykernel_22716\\801327109.py:7: FutureWarning: The frame.append method is deprecated and will be removed from pandas in a future version. Use pandas.concat instead.\n",
      "  test_t = test_t.append(bottom_transac)\n",
      "C:\\Users\\Hammozi\\AppData\\Local\\Temp\\ipykernel_22716\\801327109.py:7: FutureWarning: The frame.append method is deprecated and will be removed from pandas in a future version. Use pandas.concat instead.\n",
      "  test_t = test_t.append(bottom_transac)\n",
      "C:\\Users\\Hammozi\\AppData\\Local\\Temp\\ipykernel_22716\\801327109.py:7: FutureWarning: The frame.append method is deprecated and will be removed from pandas in a future version. Use pandas.concat instead.\n",
      "  test_t = test_t.append(bottom_transac)\n"
     ]
    },
    {
     "name": "stdout",
     "output_type": "stream",
     "text": [
      "49\n",
      "50\n",
      "51\n",
      "52\n"
     ]
    },
    {
     "name": "stderr",
     "output_type": "stream",
     "text": [
      "C:\\Users\\Hammozi\\AppData\\Local\\Temp\\ipykernel_22716\\801327109.py:7: FutureWarning: The frame.append method is deprecated and will be removed from pandas in a future version. Use pandas.concat instead.\n",
      "  test_t = test_t.append(bottom_transac)\n",
      "C:\\Users\\Hammozi\\AppData\\Local\\Temp\\ipykernel_22716\\801327109.py:7: FutureWarning: The frame.append method is deprecated and will be removed from pandas in a future version. Use pandas.concat instead.\n",
      "  test_t = test_t.append(bottom_transac)\n",
      "C:\\Users\\Hammozi\\AppData\\Local\\Temp\\ipykernel_22716\\801327109.py:7: FutureWarning: The frame.append method is deprecated and will be removed from pandas in a future version. Use pandas.concat instead.\n",
      "  test_t = test_t.append(bottom_transac)\n"
     ]
    },
    {
     "name": "stdout",
     "output_type": "stream",
     "text": [
      "53\n",
      "54\n",
      "55\n",
      "56\n"
     ]
    },
    {
     "name": "stderr",
     "output_type": "stream",
     "text": [
      "C:\\Users\\Hammozi\\AppData\\Local\\Temp\\ipykernel_22716\\801327109.py:7: FutureWarning: The frame.append method is deprecated and will be removed from pandas in a future version. Use pandas.concat instead.\n",
      "  test_t = test_t.append(bottom_transac)\n",
      "C:\\Users\\Hammozi\\AppData\\Local\\Temp\\ipykernel_22716\\801327109.py:7: FutureWarning: The frame.append method is deprecated and will be removed from pandas in a future version. Use pandas.concat instead.\n",
      "  test_t = test_t.append(bottom_transac)\n",
      "C:\\Users\\Hammozi\\AppData\\Local\\Temp\\ipykernel_22716\\801327109.py:7: FutureWarning: The frame.append method is deprecated and will be removed from pandas in a future version. Use pandas.concat instead.\n",
      "  test_t = test_t.append(bottom_transac)\n",
      "C:\\Users\\Hammozi\\AppData\\Local\\Temp\\ipykernel_22716\\801327109.py:7: FutureWarning: The frame.append method is deprecated and will be removed from pandas in a future version. Use pandas.concat instead.\n",
      "  test_t = test_t.append(bottom_transac)\n",
      "C:\\Users\\Hammozi\\AppData\\Local\\Temp\\ipykernel_22716\\801327109.py:7: FutureWarning: The frame.append method is deprecated and will be removed from pandas in a future version. Use pandas.concat instead.\n",
      "  test_t = test_t.append(bottom_transac)\n",
      "C:\\Users\\Hammozi\\AppData\\Local\\Temp\\ipykernel_22716\\801327109.py:7: FutureWarning: The frame.append method is deprecated and will be removed from pandas in a future version. Use pandas.concat instead.\n",
      "  test_t = test_t.append(bottom_transac)\n"
     ]
    },
    {
     "name": "stdout",
     "output_type": "stream",
     "text": [
      "57\n",
      "58\n",
      "59\n",
      "60\n"
     ]
    },
    {
     "name": "stderr",
     "output_type": "stream",
     "text": [
      "C:\\Users\\Hammozi\\AppData\\Local\\Temp\\ipykernel_22716\\801327109.py:7: FutureWarning: The frame.append method is deprecated and will be removed from pandas in a future version. Use pandas.concat instead.\n",
      "  test_t = test_t.append(bottom_transac)\n",
      "C:\\Users\\Hammozi\\AppData\\Local\\Temp\\ipykernel_22716\\801327109.py:7: FutureWarning: The frame.append method is deprecated and will be removed from pandas in a future version. Use pandas.concat instead.\n",
      "  test_t = test_t.append(bottom_transac)\n",
      "C:\\Users\\Hammozi\\AppData\\Local\\Temp\\ipykernel_22716\\801327109.py:7: FutureWarning: The frame.append method is deprecated and will be removed from pandas in a future version. Use pandas.concat instead.\n",
      "  test_t = test_t.append(bottom_transac)\n"
     ]
    },
    {
     "name": "stdout",
     "output_type": "stream",
     "text": [
      "61\n",
      "62\n",
      "63\n"
     ]
    },
    {
     "name": "stderr",
     "output_type": "stream",
     "text": [
      "C:\\Users\\Hammozi\\AppData\\Local\\Temp\\ipykernel_22716\\801327109.py:7: FutureWarning: The frame.append method is deprecated and will be removed from pandas in a future version. Use pandas.concat instead.\n",
      "  test_t = test_t.append(bottom_transac)\n",
      "C:\\Users\\Hammozi\\AppData\\Local\\Temp\\ipykernel_22716\\801327109.py:7: FutureWarning: The frame.append method is deprecated and will be removed from pandas in a future version. Use pandas.concat instead.\n",
      "  test_t = test_t.append(bottom_transac)\n",
      "C:\\Users\\Hammozi\\AppData\\Local\\Temp\\ipykernel_22716\\801327109.py:7: FutureWarning: The frame.append method is deprecated and will be removed from pandas in a future version. Use pandas.concat instead.\n",
      "  test_t = test_t.append(bottom_transac)\n"
     ]
    },
    {
     "name": "stdout",
     "output_type": "stream",
     "text": [
      "64\n",
      "65\n",
      "66\n",
      "67\n"
     ]
    },
    {
     "name": "stderr",
     "output_type": "stream",
     "text": [
      "C:\\Users\\Hammozi\\AppData\\Local\\Temp\\ipykernel_22716\\801327109.py:7: FutureWarning: The frame.append method is deprecated and will be removed from pandas in a future version. Use pandas.concat instead.\n",
      "  test_t = test_t.append(bottom_transac)\n",
      "C:\\Users\\Hammozi\\AppData\\Local\\Temp\\ipykernel_22716\\801327109.py:7: FutureWarning: The frame.append method is deprecated and will be removed from pandas in a future version. Use pandas.concat instead.\n",
      "  test_t = test_t.append(bottom_transac)\n",
      "C:\\Users\\Hammozi\\AppData\\Local\\Temp\\ipykernel_22716\\801327109.py:7: FutureWarning: The frame.append method is deprecated and will be removed from pandas in a future version. Use pandas.concat instead.\n",
      "  test_t = test_t.append(bottom_transac)\n"
     ]
    },
    {
     "name": "stdout",
     "output_type": "stream",
     "text": [
      "68\n",
      "69\n",
      "70\n",
      "71\n"
     ]
    },
    {
     "name": "stderr",
     "output_type": "stream",
     "text": [
      "C:\\Users\\Hammozi\\AppData\\Local\\Temp\\ipykernel_22716\\801327109.py:7: FutureWarning: The frame.append method is deprecated and will be removed from pandas in a future version. Use pandas.concat instead.\n",
      "  test_t = test_t.append(bottom_transac)\n",
      "C:\\Users\\Hammozi\\AppData\\Local\\Temp\\ipykernel_22716\\801327109.py:7: FutureWarning: The frame.append method is deprecated and will be removed from pandas in a future version. Use pandas.concat instead.\n",
      "  test_t = test_t.append(bottom_transac)\n",
      "C:\\Users\\Hammozi\\AppData\\Local\\Temp\\ipykernel_22716\\801327109.py:7: FutureWarning: The frame.append method is deprecated and will be removed from pandas in a future version. Use pandas.concat instead.\n",
      "  test_t = test_t.append(bottom_transac)\n",
      "C:\\Users\\Hammozi\\AppData\\Local\\Temp\\ipykernel_22716\\801327109.py:7: FutureWarning: The frame.append method is deprecated and will be removed from pandas in a future version. Use pandas.concat instead.\n",
      "  test_t = test_t.append(bottom_transac)\n",
      "C:\\Users\\Hammozi\\AppData\\Local\\Temp\\ipykernel_22716\\801327109.py:7: FutureWarning: The frame.append method is deprecated and will be removed from pandas in a future version. Use pandas.concat instead.\n",
      "  test_t = test_t.append(bottom_transac)\n",
      "C:\\Users\\Hammozi\\AppData\\Local\\Temp\\ipykernel_22716\\801327109.py:7: FutureWarning: The frame.append method is deprecated and will be removed from pandas in a future version. Use pandas.concat instead.\n",
      "  test_t = test_t.append(bottom_transac)\n"
     ]
    },
    {
     "name": "stdout",
     "output_type": "stream",
     "text": [
      "72\n",
      "73\n",
      "74\n",
      "75\n"
     ]
    },
    {
     "name": "stderr",
     "output_type": "stream",
     "text": [
      "C:\\Users\\Hammozi\\AppData\\Local\\Temp\\ipykernel_22716\\801327109.py:7: FutureWarning: The frame.append method is deprecated and will be removed from pandas in a future version. Use pandas.concat instead.\n",
      "  test_t = test_t.append(bottom_transac)\n",
      "C:\\Users\\Hammozi\\AppData\\Local\\Temp\\ipykernel_22716\\801327109.py:7: FutureWarning: The frame.append method is deprecated and will be removed from pandas in a future version. Use pandas.concat instead.\n",
      "  test_t = test_t.append(bottom_transac)\n",
      "C:\\Users\\Hammozi\\AppData\\Local\\Temp\\ipykernel_22716\\801327109.py:7: FutureWarning: The frame.append method is deprecated and will be removed from pandas in a future version. Use pandas.concat instead.\n",
      "  test_t = test_t.append(bottom_transac)\n"
     ]
    },
    {
     "name": "stdout",
     "output_type": "stream",
     "text": [
      "76\n",
      "77\n",
      "78\n",
      "79\n"
     ]
    },
    {
     "name": "stderr",
     "output_type": "stream",
     "text": [
      "C:\\Users\\Hammozi\\AppData\\Local\\Temp\\ipykernel_22716\\801327109.py:7: FutureWarning: The frame.append method is deprecated and will be removed from pandas in a future version. Use pandas.concat instead.\n",
      "  test_t = test_t.append(bottom_transac)\n",
      "C:\\Users\\Hammozi\\AppData\\Local\\Temp\\ipykernel_22716\\801327109.py:7: FutureWarning: The frame.append method is deprecated and will be removed from pandas in a future version. Use pandas.concat instead.\n",
      "  test_t = test_t.append(bottom_transac)\n",
      "C:\\Users\\Hammozi\\AppData\\Local\\Temp\\ipykernel_22716\\801327109.py:7: FutureWarning: The frame.append method is deprecated and will be removed from pandas in a future version. Use pandas.concat instead.\n",
      "  test_t = test_t.append(bottom_transac)\n"
     ]
    },
    {
     "name": "stdout",
     "output_type": "stream",
     "text": [
      "80\n",
      "81\n",
      "82\n",
      "83\n"
     ]
    },
    {
     "name": "stderr",
     "output_type": "stream",
     "text": [
      "C:\\Users\\Hammozi\\AppData\\Local\\Temp\\ipykernel_22716\\801327109.py:7: FutureWarning: The frame.append method is deprecated and will be removed from pandas in a future version. Use pandas.concat instead.\n",
      "  test_t = test_t.append(bottom_transac)\n",
      "C:\\Users\\Hammozi\\AppData\\Local\\Temp\\ipykernel_22716\\801327109.py:7: FutureWarning: The frame.append method is deprecated and will be removed from pandas in a future version. Use pandas.concat instead.\n",
      "  test_t = test_t.append(bottom_transac)\n",
      "C:\\Users\\Hammozi\\AppData\\Local\\Temp\\ipykernel_22716\\801327109.py:7: FutureWarning: The frame.append method is deprecated and will be removed from pandas in a future version. Use pandas.concat instead.\n",
      "  test_t = test_t.append(bottom_transac)\n",
      "C:\\Users\\Hammozi\\AppData\\Local\\Temp\\ipykernel_22716\\801327109.py:7: FutureWarning: The frame.append method is deprecated and will be removed from pandas in a future version. Use pandas.concat instead.\n",
      "  test_t = test_t.append(bottom_transac)\n",
      "C:\\Users\\Hammozi\\AppData\\Local\\Temp\\ipykernel_22716\\801327109.py:7: FutureWarning: The frame.append method is deprecated and will be removed from pandas in a future version. Use pandas.concat instead.\n",
      "  test_t = test_t.append(bottom_transac)\n",
      "C:\\Users\\Hammozi\\AppData\\Local\\Temp\\ipykernel_22716\\801327109.py:7: FutureWarning: The frame.append method is deprecated and will be removed from pandas in a future version. Use pandas.concat instead.\n",
      "  test_t = test_t.append(bottom_transac)\n"
     ]
    },
    {
     "name": "stdout",
     "output_type": "stream",
     "text": [
      "84\n",
      "85\n",
      "86\n",
      "87\n"
     ]
    },
    {
     "name": "stderr",
     "output_type": "stream",
     "text": [
      "C:\\Users\\Hammozi\\AppData\\Local\\Temp\\ipykernel_22716\\801327109.py:7: FutureWarning: The frame.append method is deprecated and will be removed from pandas in a future version. Use pandas.concat instead.\n",
      "  test_t = test_t.append(bottom_transac)\n",
      "C:\\Users\\Hammozi\\AppData\\Local\\Temp\\ipykernel_22716\\801327109.py:7: FutureWarning: The frame.append method is deprecated and will be removed from pandas in a future version. Use pandas.concat instead.\n",
      "  test_t = test_t.append(bottom_transac)\n",
      "C:\\Users\\Hammozi\\AppData\\Local\\Temp\\ipykernel_22716\\801327109.py:7: FutureWarning: The frame.append method is deprecated and will be removed from pandas in a future version. Use pandas.concat instead.\n",
      "  test_t = test_t.append(bottom_transac)\n"
     ]
    },
    {
     "name": "stdout",
     "output_type": "stream",
     "text": [
      "88\n",
      "89\n",
      "90\n",
      "91\n"
     ]
    },
    {
     "name": "stderr",
     "output_type": "stream",
     "text": [
      "C:\\Users\\Hammozi\\AppData\\Local\\Temp\\ipykernel_22716\\801327109.py:7: FutureWarning: The frame.append method is deprecated and will be removed from pandas in a future version. Use pandas.concat instead.\n",
      "  test_t = test_t.append(bottom_transac)\n",
      "C:\\Users\\Hammozi\\AppData\\Local\\Temp\\ipykernel_22716\\801327109.py:7: FutureWarning: The frame.append method is deprecated and will be removed from pandas in a future version. Use pandas.concat instead.\n",
      "  test_t = test_t.append(bottom_transac)\n",
      "C:\\Users\\Hammozi\\AppData\\Local\\Temp\\ipykernel_22716\\801327109.py:7: FutureWarning: The frame.append method is deprecated and will be removed from pandas in a future version. Use pandas.concat instead.\n",
      "  test_t = test_t.append(bottom_transac)\n"
     ]
    },
    {
     "name": "stdout",
     "output_type": "stream",
     "text": [
      "92\n",
      "93\n",
      "94\n",
      "95\n"
     ]
    },
    {
     "name": "stderr",
     "output_type": "stream",
     "text": [
      "C:\\Users\\Hammozi\\AppData\\Local\\Temp\\ipykernel_22716\\801327109.py:7: FutureWarning: The frame.append method is deprecated and will be removed from pandas in a future version. Use pandas.concat instead.\n",
      "  test_t = test_t.append(bottom_transac)\n",
      "C:\\Users\\Hammozi\\AppData\\Local\\Temp\\ipykernel_22716\\801327109.py:7: FutureWarning: The frame.append method is deprecated and will be removed from pandas in a future version. Use pandas.concat instead.\n",
      "  test_t = test_t.append(bottom_transac)\n",
      "C:\\Users\\Hammozi\\AppData\\Local\\Temp\\ipykernel_22716\\801327109.py:7: FutureWarning: The frame.append method is deprecated and will be removed from pandas in a future version. Use pandas.concat instead.\n",
      "  test_t = test_t.append(bottom_transac)\n",
      "C:\\Users\\Hammozi\\AppData\\Local\\Temp\\ipykernel_22716\\801327109.py:7: FutureWarning: The frame.append method is deprecated and will be removed from pandas in a future version. Use pandas.concat instead.\n",
      "  test_t = test_t.append(bottom_transac)\n",
      "C:\\Users\\Hammozi\\AppData\\Local\\Temp\\ipykernel_22716\\801327109.py:7: FutureWarning: The frame.append method is deprecated and will be removed from pandas in a future version. Use pandas.concat instead.\n",
      "  test_t = test_t.append(bottom_transac)\n",
      "C:\\Users\\Hammozi\\AppData\\Local\\Temp\\ipykernel_22716\\801327109.py:7: FutureWarning: The frame.append method is deprecated and will be removed from pandas in a future version. Use pandas.concat instead.\n",
      "  test_t = test_t.append(bottom_transac)\n"
     ]
    },
    {
     "name": "stdout",
     "output_type": "stream",
     "text": [
      "96\n",
      "97\n",
      "98\n",
      "99\n"
     ]
    },
    {
     "name": "stderr",
     "output_type": "stream",
     "text": [
      "C:\\Users\\Hammozi\\AppData\\Local\\Temp\\ipykernel_22716\\801327109.py:7: FutureWarning: The frame.append method is deprecated and will be removed from pandas in a future version. Use pandas.concat instead.\n",
      "  test_t = test_t.append(bottom_transac)\n",
      "C:\\Users\\Hammozi\\AppData\\Local\\Temp\\ipykernel_22716\\801327109.py:7: FutureWarning: The frame.append method is deprecated and will be removed from pandas in a future version. Use pandas.concat instead.\n",
      "  test_t = test_t.append(bottom_transac)\n",
      "C:\\Users\\Hammozi\\AppData\\Local\\Temp\\ipykernel_22716\\801327109.py:7: FutureWarning: The frame.append method is deprecated and will be removed from pandas in a future version. Use pandas.concat instead.\n",
      "  test_t = test_t.append(bottom_transac)\n"
     ]
    },
    {
     "name": "stdout",
     "output_type": "stream",
     "text": [
      "100\n",
      "101\n",
      "102\n",
      "103\n"
     ]
    },
    {
     "name": "stderr",
     "output_type": "stream",
     "text": [
      "C:\\Users\\Hammozi\\AppData\\Local\\Temp\\ipykernel_22716\\801327109.py:7: FutureWarning: The frame.append method is deprecated and will be removed from pandas in a future version. Use pandas.concat instead.\n",
      "  test_t = test_t.append(bottom_transac)\n",
      "C:\\Users\\Hammozi\\AppData\\Local\\Temp\\ipykernel_22716\\801327109.py:7: FutureWarning: The frame.append method is deprecated and will be removed from pandas in a future version. Use pandas.concat instead.\n",
      "  test_t = test_t.append(bottom_transac)\n",
      "C:\\Users\\Hammozi\\AppData\\Local\\Temp\\ipykernel_22716\\801327109.py:7: FutureWarning: The frame.append method is deprecated and will be removed from pandas in a future version. Use pandas.concat instead.\n",
      "  test_t = test_t.append(bottom_transac)\n"
     ]
    },
    {
     "name": "stdout",
     "output_type": "stream",
     "text": [
      "104\n",
      "105\n",
      "106\n",
      "107\n"
     ]
    },
    {
     "name": "stderr",
     "output_type": "stream",
     "text": [
      "C:\\Users\\Hammozi\\AppData\\Local\\Temp\\ipykernel_22716\\801327109.py:7: FutureWarning: The frame.append method is deprecated and will be removed from pandas in a future version. Use pandas.concat instead.\n",
      "  test_t = test_t.append(bottom_transac)\n",
      "C:\\Users\\Hammozi\\AppData\\Local\\Temp\\ipykernel_22716\\801327109.py:7: FutureWarning: The frame.append method is deprecated and will be removed from pandas in a future version. Use pandas.concat instead.\n",
      "  test_t = test_t.append(bottom_transac)\n",
      "C:\\Users\\Hammozi\\AppData\\Local\\Temp\\ipykernel_22716\\801327109.py:7: FutureWarning: The frame.append method is deprecated and will be removed from pandas in a future version. Use pandas.concat instead.\n",
      "  test_t = test_t.append(bottom_transac)\n",
      "C:\\Users\\Hammozi\\AppData\\Local\\Temp\\ipykernel_22716\\801327109.py:7: FutureWarning: The frame.append method is deprecated and will be removed from pandas in a future version. Use pandas.concat instead.\n",
      "  test_t = test_t.append(bottom_transac)\n",
      "C:\\Users\\Hammozi\\AppData\\Local\\Temp\\ipykernel_22716\\801327109.py:7: FutureWarning: The frame.append method is deprecated and will be removed from pandas in a future version. Use pandas.concat instead.\n",
      "  test_t = test_t.append(bottom_transac)\n",
      "C:\\Users\\Hammozi\\AppData\\Local\\Temp\\ipykernel_22716\\801327109.py:7: FutureWarning: The frame.append method is deprecated and will be removed from pandas in a future version. Use pandas.concat instead.\n",
      "  test_t = test_t.append(bottom_transac)\n"
     ]
    },
    {
     "name": "stdout",
     "output_type": "stream",
     "text": [
      "108\n",
      "109\n",
      "110\n",
      "111\n"
     ]
    },
    {
     "name": "stderr",
     "output_type": "stream",
     "text": [
      "C:\\Users\\Hammozi\\AppData\\Local\\Temp\\ipykernel_22716\\801327109.py:7: FutureWarning: The frame.append method is deprecated and will be removed from pandas in a future version. Use pandas.concat instead.\n",
      "  test_t = test_t.append(bottom_transac)\n",
      "C:\\Users\\Hammozi\\AppData\\Local\\Temp\\ipykernel_22716\\801327109.py:7: FutureWarning: The frame.append method is deprecated and will be removed from pandas in a future version. Use pandas.concat instead.\n",
      "  test_t = test_t.append(bottom_transac)\n",
      "C:\\Users\\Hammozi\\AppData\\Local\\Temp\\ipykernel_22716\\801327109.py:7: FutureWarning: The frame.append method is deprecated and will be removed from pandas in a future version. Use pandas.concat instead.\n",
      "  test_t = test_t.append(bottom_transac)\n"
     ]
    },
    {
     "name": "stdout",
     "output_type": "stream",
     "text": [
      "112\n",
      "113\n",
      "114\n",
      "115\n"
     ]
    },
    {
     "name": "stderr",
     "output_type": "stream",
     "text": [
      "C:\\Users\\Hammozi\\AppData\\Local\\Temp\\ipykernel_22716\\801327109.py:7: FutureWarning: The frame.append method is deprecated and will be removed from pandas in a future version. Use pandas.concat instead.\n",
      "  test_t = test_t.append(bottom_transac)\n",
      "C:\\Users\\Hammozi\\AppData\\Local\\Temp\\ipykernel_22716\\801327109.py:7: FutureWarning: The frame.append method is deprecated and will be removed from pandas in a future version. Use pandas.concat instead.\n",
      "  test_t = test_t.append(bottom_transac)\n",
      "C:\\Users\\Hammozi\\AppData\\Local\\Temp\\ipykernel_22716\\801327109.py:7: FutureWarning: The frame.append method is deprecated and will be removed from pandas in a future version. Use pandas.concat instead.\n",
      "  test_t = test_t.append(bottom_transac)\n"
     ]
    },
    {
     "name": "stdout",
     "output_type": "stream",
     "text": [
      "116\n",
      "117\n",
      "118\n",
      "119\n"
     ]
    },
    {
     "name": "stderr",
     "output_type": "stream",
     "text": [
      "C:\\Users\\Hammozi\\AppData\\Local\\Temp\\ipykernel_22716\\801327109.py:7: FutureWarning: The frame.append method is deprecated and will be removed from pandas in a future version. Use pandas.concat instead.\n",
      "  test_t = test_t.append(bottom_transac)\n",
      "C:\\Users\\Hammozi\\AppData\\Local\\Temp\\ipykernel_22716\\801327109.py:7: FutureWarning: The frame.append method is deprecated and will be removed from pandas in a future version. Use pandas.concat instead.\n",
      "  test_t = test_t.append(bottom_transac)\n",
      "C:\\Users\\Hammozi\\AppData\\Local\\Temp\\ipykernel_22716\\801327109.py:7: FutureWarning: The frame.append method is deprecated and will be removed from pandas in a future version. Use pandas.concat instead.\n",
      "  test_t = test_t.append(bottom_transac)\n",
      "C:\\Users\\Hammozi\\AppData\\Local\\Temp\\ipykernel_22716\\801327109.py:7: FutureWarning: The frame.append method is deprecated and will be removed from pandas in a future version. Use pandas.concat instead.\n",
      "  test_t = test_t.append(bottom_transac)\n",
      "C:\\Users\\Hammozi\\AppData\\Local\\Temp\\ipykernel_22716\\801327109.py:7: FutureWarning: The frame.append method is deprecated and will be removed from pandas in a future version. Use pandas.concat instead.\n",
      "  test_t = test_t.append(bottom_transac)\n",
      "C:\\Users\\Hammozi\\AppData\\Local\\Temp\\ipykernel_22716\\801327109.py:7: FutureWarning: The frame.append method is deprecated and will be removed from pandas in a future version. Use pandas.concat instead.\n",
      "  test_t = test_t.append(bottom_transac)\n"
     ]
    },
    {
     "name": "stdout",
     "output_type": "stream",
     "text": [
      "120\n",
      "121\n",
      "122\n",
      "123\n"
     ]
    },
    {
     "name": "stderr",
     "output_type": "stream",
     "text": [
      "C:\\Users\\Hammozi\\AppData\\Local\\Temp\\ipykernel_22716\\801327109.py:7: FutureWarning: The frame.append method is deprecated and will be removed from pandas in a future version. Use pandas.concat instead.\n",
      "  test_t = test_t.append(bottom_transac)\n",
      "C:\\Users\\Hammozi\\AppData\\Local\\Temp\\ipykernel_22716\\801327109.py:7: FutureWarning: The frame.append method is deprecated and will be removed from pandas in a future version. Use pandas.concat instead.\n",
      "  test_t = test_t.append(bottom_transac)\n",
      "C:\\Users\\Hammozi\\AppData\\Local\\Temp\\ipykernel_22716\\801327109.py:7: FutureWarning: The frame.append method is deprecated and will be removed from pandas in a future version. Use pandas.concat instead.\n",
      "  test_t = test_t.append(bottom_transac)\n"
     ]
    },
    {
     "name": "stdout",
     "output_type": "stream",
     "text": [
      "124\n",
      "125\n",
      "126\n",
      "127\n"
     ]
    },
    {
     "name": "stderr",
     "output_type": "stream",
     "text": [
      "C:\\Users\\Hammozi\\AppData\\Local\\Temp\\ipykernel_22716\\801327109.py:7: FutureWarning: The frame.append method is deprecated and will be removed from pandas in a future version. Use pandas.concat instead.\n",
      "  test_t = test_t.append(bottom_transac)\n",
      "C:\\Users\\Hammozi\\AppData\\Local\\Temp\\ipykernel_22716\\801327109.py:7: FutureWarning: The frame.append method is deprecated and will be removed from pandas in a future version. Use pandas.concat instead.\n",
      "  test_t = test_t.append(bottom_transac)\n",
      "C:\\Users\\Hammozi\\AppData\\Local\\Temp\\ipykernel_22716\\801327109.py:7: FutureWarning: The frame.append method is deprecated and will be removed from pandas in a future version. Use pandas.concat instead.\n",
      "  test_t = test_t.append(bottom_transac)\n"
     ]
    },
    {
     "name": "stdout",
     "output_type": "stream",
     "text": [
      "128\n",
      "129\n",
      "130\n",
      "131\n"
     ]
    },
    {
     "name": "stderr",
     "output_type": "stream",
     "text": [
      "C:\\Users\\Hammozi\\AppData\\Local\\Temp\\ipykernel_22716\\801327109.py:7: FutureWarning: The frame.append method is deprecated and will be removed from pandas in a future version. Use pandas.concat instead.\n",
      "  test_t = test_t.append(bottom_transac)\n",
      "C:\\Users\\Hammozi\\AppData\\Local\\Temp\\ipykernel_22716\\801327109.py:7: FutureWarning: The frame.append method is deprecated and will be removed from pandas in a future version. Use pandas.concat instead.\n",
      "  test_t = test_t.append(bottom_transac)\n",
      "C:\\Users\\Hammozi\\AppData\\Local\\Temp\\ipykernel_22716\\801327109.py:7: FutureWarning: The frame.append method is deprecated and will be removed from pandas in a future version. Use pandas.concat instead.\n",
      "  test_t = test_t.append(bottom_transac)\n",
      "C:\\Users\\Hammozi\\AppData\\Local\\Temp\\ipykernel_22716\\801327109.py:7: FutureWarning: The frame.append method is deprecated and will be removed from pandas in a future version. Use pandas.concat instead.\n",
      "  test_t = test_t.append(bottom_transac)\n",
      "C:\\Users\\Hammozi\\AppData\\Local\\Temp\\ipykernel_22716\\801327109.py:7: FutureWarning: The frame.append method is deprecated and will be removed from pandas in a future version. Use pandas.concat instead.\n",
      "  test_t = test_t.append(bottom_transac)\n",
      "C:\\Users\\Hammozi\\AppData\\Local\\Temp\\ipykernel_22716\\801327109.py:7: FutureWarning: The frame.append method is deprecated and will be removed from pandas in a future version. Use pandas.concat instead.\n",
      "  test_t = test_t.append(bottom_transac)\n"
     ]
    },
    {
     "name": "stdout",
     "output_type": "stream",
     "text": [
      "132\n",
      "133\n",
      "134\n"
     ]
    },
    {
     "name": "stderr",
     "output_type": "stream",
     "text": [
      "C:\\Users\\Hammozi\\AppData\\Local\\Temp\\ipykernel_22716\\801327109.py:7: FutureWarning: The frame.append method is deprecated and will be removed from pandas in a future version. Use pandas.concat instead.\n",
      "  test_t = test_t.append(bottom_transac)\n",
      "C:\\Users\\Hammozi\\AppData\\Local\\Temp\\ipykernel_22716\\801327109.py:7: FutureWarning: The frame.append method is deprecated and will be removed from pandas in a future version. Use pandas.concat instead.\n",
      "  test_t = test_t.append(bottom_transac)\n",
      "C:\\Users\\Hammozi\\AppData\\Local\\Temp\\ipykernel_22716\\801327109.py:7: FutureWarning: The frame.append method is deprecated and will be removed from pandas in a future version. Use pandas.concat instead.\n",
      "  test_t = test_t.append(bottom_transac)\n"
     ]
    },
    {
     "name": "stdout",
     "output_type": "stream",
     "text": [
      "135\n",
      "136\n",
      "137\n",
      "138\n"
     ]
    },
    {
     "name": "stderr",
     "output_type": "stream",
     "text": [
      "C:\\Users\\Hammozi\\AppData\\Local\\Temp\\ipykernel_22716\\801327109.py:7: FutureWarning: The frame.append method is deprecated and will be removed from pandas in a future version. Use pandas.concat instead.\n",
      "  test_t = test_t.append(bottom_transac)\n",
      "C:\\Users\\Hammozi\\AppData\\Local\\Temp\\ipykernel_22716\\801327109.py:7: FutureWarning: The frame.append method is deprecated and will be removed from pandas in a future version. Use pandas.concat instead.\n",
      "  test_t = test_t.append(bottom_transac)\n",
      "C:\\Users\\Hammozi\\AppData\\Local\\Temp\\ipykernel_22716\\801327109.py:7: FutureWarning: The frame.append method is deprecated and will be removed from pandas in a future version. Use pandas.concat instead.\n",
      "  test_t = test_t.append(bottom_transac)\n"
     ]
    },
    {
     "name": "stdout",
     "output_type": "stream",
     "text": [
      "139\n",
      "140\n",
      "141\n",
      "142\n"
     ]
    },
    {
     "name": "stderr",
     "output_type": "stream",
     "text": [
      "C:\\Users\\Hammozi\\AppData\\Local\\Temp\\ipykernel_22716\\801327109.py:7: FutureWarning: The frame.append method is deprecated and will be removed from pandas in a future version. Use pandas.concat instead.\n",
      "  test_t = test_t.append(bottom_transac)\n",
      "C:\\Users\\Hammozi\\AppData\\Local\\Temp\\ipykernel_22716\\801327109.py:7: FutureWarning: The frame.append method is deprecated and will be removed from pandas in a future version. Use pandas.concat instead.\n",
      "  test_t = test_t.append(bottom_transac)\n",
      "C:\\Users\\Hammozi\\AppData\\Local\\Temp\\ipykernel_22716\\801327109.py:7: FutureWarning: The frame.append method is deprecated and will be removed from pandas in a future version. Use pandas.concat instead.\n",
      "  test_t = test_t.append(bottom_transac)\n"
     ]
    },
    {
     "name": "stdout",
     "output_type": "stream",
     "text": [
      "143\n",
      "144\n",
      "145\n",
      "146\n"
     ]
    },
    {
     "name": "stderr",
     "output_type": "stream",
     "text": [
      "C:\\Users\\Hammozi\\AppData\\Local\\Temp\\ipykernel_22716\\801327109.py:7: FutureWarning: The frame.append method is deprecated and will be removed from pandas in a future version. Use pandas.concat instead.\n",
      "  test_t = test_t.append(bottom_transac)\n",
      "C:\\Users\\Hammozi\\AppData\\Local\\Temp\\ipykernel_22716\\801327109.py:7: FutureWarning: The frame.append method is deprecated and will be removed from pandas in a future version. Use pandas.concat instead.\n",
      "  test_t = test_t.append(bottom_transac)\n",
      "C:\\Users\\Hammozi\\AppData\\Local\\Temp\\ipykernel_22716\\801327109.py:7: FutureWarning: The frame.append method is deprecated and will be removed from pandas in a future version. Use pandas.concat instead.\n",
      "  test_t = test_t.append(bottom_transac)\n",
      "C:\\Users\\Hammozi\\AppData\\Local\\Temp\\ipykernel_22716\\801327109.py:7: FutureWarning: The frame.append method is deprecated and will be removed from pandas in a future version. Use pandas.concat instead.\n",
      "  test_t = test_t.append(bottom_transac)\n",
      "C:\\Users\\Hammozi\\AppData\\Local\\Temp\\ipykernel_22716\\801327109.py:7: FutureWarning: The frame.append method is deprecated and will be removed from pandas in a future version. Use pandas.concat instead.\n",
      "  test_t = test_t.append(bottom_transac)\n",
      "C:\\Users\\Hammozi\\AppData\\Local\\Temp\\ipykernel_22716\\801327109.py:7: FutureWarning: The frame.append method is deprecated and will be removed from pandas in a future version. Use pandas.concat instead.\n",
      "  test_t = test_t.append(bottom_transac)\n"
     ]
    },
    {
     "name": "stdout",
     "output_type": "stream",
     "text": [
      "147\n",
      "148\n",
      "149\n",
      "150\n"
     ]
    },
    {
     "name": "stderr",
     "output_type": "stream",
     "text": [
      "C:\\Users\\Hammozi\\AppData\\Local\\Temp\\ipykernel_22716\\801327109.py:7: FutureWarning: The frame.append method is deprecated and will be removed from pandas in a future version. Use pandas.concat instead.\n",
      "  test_t = test_t.append(bottom_transac)\n",
      "C:\\Users\\Hammozi\\AppData\\Local\\Temp\\ipykernel_22716\\801327109.py:7: FutureWarning: The frame.append method is deprecated and will be removed from pandas in a future version. Use pandas.concat instead.\n",
      "  test_t = test_t.append(bottom_transac)\n",
      "C:\\Users\\Hammozi\\AppData\\Local\\Temp\\ipykernel_22716\\801327109.py:7: FutureWarning: The frame.append method is deprecated and will be removed from pandas in a future version. Use pandas.concat instead.\n",
      "  test_t = test_t.append(bottom_transac)\n"
     ]
    },
    {
     "name": "stdout",
     "output_type": "stream",
     "text": [
      "151\n",
      "152\n",
      "153\n",
      "154\n"
     ]
    },
    {
     "name": "stderr",
     "output_type": "stream",
     "text": [
      "C:\\Users\\Hammozi\\AppData\\Local\\Temp\\ipykernel_22716\\801327109.py:7: FutureWarning: The frame.append method is deprecated and will be removed from pandas in a future version. Use pandas.concat instead.\n",
      "  test_t = test_t.append(bottom_transac)\n",
      "C:\\Users\\Hammozi\\AppData\\Local\\Temp\\ipykernel_22716\\801327109.py:7: FutureWarning: The frame.append method is deprecated and will be removed from pandas in a future version. Use pandas.concat instead.\n",
      "  test_t = test_t.append(bottom_transac)\n",
      "C:\\Users\\Hammozi\\AppData\\Local\\Temp\\ipykernel_22716\\801327109.py:7: FutureWarning: The frame.append method is deprecated and will be removed from pandas in a future version. Use pandas.concat instead.\n",
      "  test_t = test_t.append(bottom_transac)\n"
     ]
    },
    {
     "name": "stdout",
     "output_type": "stream",
     "text": [
      "155\n",
      "156\n",
      "157\n",
      "158\n"
     ]
    },
    {
     "name": "stderr",
     "output_type": "stream",
     "text": [
      "C:\\Users\\Hammozi\\AppData\\Local\\Temp\\ipykernel_22716\\801327109.py:7: FutureWarning: The frame.append method is deprecated and will be removed from pandas in a future version. Use pandas.concat instead.\n",
      "  test_t = test_t.append(bottom_transac)\n",
      "C:\\Users\\Hammozi\\AppData\\Local\\Temp\\ipykernel_22716\\801327109.py:7: FutureWarning: The frame.append method is deprecated and will be removed from pandas in a future version. Use pandas.concat instead.\n",
      "  test_t = test_t.append(bottom_transac)\n",
      "C:\\Users\\Hammozi\\AppData\\Local\\Temp\\ipykernel_22716\\801327109.py:7: FutureWarning: The frame.append method is deprecated and will be removed from pandas in a future version. Use pandas.concat instead.\n",
      "  test_t = test_t.append(bottom_transac)\n",
      "C:\\Users\\Hammozi\\AppData\\Local\\Temp\\ipykernel_22716\\801327109.py:7: FutureWarning: The frame.append method is deprecated and will be removed from pandas in a future version. Use pandas.concat instead.\n",
      "  test_t = test_t.append(bottom_transac)\n",
      "C:\\Users\\Hammozi\\AppData\\Local\\Temp\\ipykernel_22716\\801327109.py:7: FutureWarning: The frame.append method is deprecated and will be removed from pandas in a future version. Use pandas.concat instead.\n",
      "  test_t = test_t.append(bottom_transac)\n",
      "C:\\Users\\Hammozi\\AppData\\Local\\Temp\\ipykernel_22716\\801327109.py:7: FutureWarning: The frame.append method is deprecated and will be removed from pandas in a future version. Use pandas.concat instead.\n",
      "  test_t = test_t.append(bottom_transac)\n"
     ]
    },
    {
     "name": "stdout",
     "output_type": "stream",
     "text": [
      "159\n",
      "160\n",
      "161\n",
      "162\n"
     ]
    },
    {
     "name": "stderr",
     "output_type": "stream",
     "text": [
      "C:\\Users\\Hammozi\\AppData\\Local\\Temp\\ipykernel_22716\\801327109.py:7: FutureWarning: The frame.append method is deprecated and will be removed from pandas in a future version. Use pandas.concat instead.\n",
      "  test_t = test_t.append(bottom_transac)\n",
      "C:\\Users\\Hammozi\\AppData\\Local\\Temp\\ipykernel_22716\\801327109.py:7: FutureWarning: The frame.append method is deprecated and will be removed from pandas in a future version. Use pandas.concat instead.\n",
      "  test_t = test_t.append(bottom_transac)\n",
      "C:\\Users\\Hammozi\\AppData\\Local\\Temp\\ipykernel_22716\\801327109.py:7: FutureWarning: The frame.append method is deprecated and will be removed from pandas in a future version. Use pandas.concat instead.\n",
      "  test_t = test_t.append(bottom_transac)\n"
     ]
    },
    {
     "name": "stdout",
     "output_type": "stream",
     "text": [
      "163\n",
      "164\n",
      "165\n",
      "166\n"
     ]
    },
    {
     "name": "stderr",
     "output_type": "stream",
     "text": [
      "C:\\Users\\Hammozi\\AppData\\Local\\Temp\\ipykernel_22716\\801327109.py:7: FutureWarning: The frame.append method is deprecated and will be removed from pandas in a future version. Use pandas.concat instead.\n",
      "  test_t = test_t.append(bottom_transac)\n",
      "C:\\Users\\Hammozi\\AppData\\Local\\Temp\\ipykernel_22716\\801327109.py:7: FutureWarning: The frame.append method is deprecated and will be removed from pandas in a future version. Use pandas.concat instead.\n",
      "  test_t = test_t.append(bottom_transac)\n",
      "C:\\Users\\Hammozi\\AppData\\Local\\Temp\\ipykernel_22716\\801327109.py:7: FutureWarning: The frame.append method is deprecated and will be removed from pandas in a future version. Use pandas.concat instead.\n",
      "  test_t = test_t.append(bottom_transac)\n"
     ]
    },
    {
     "name": "stdout",
     "output_type": "stream",
     "text": [
      "167\n",
      "168\n",
      "169\n",
      "170\n"
     ]
    },
    {
     "name": "stderr",
     "output_type": "stream",
     "text": [
      "C:\\Users\\Hammozi\\AppData\\Local\\Temp\\ipykernel_22716\\801327109.py:7: FutureWarning: The frame.append method is deprecated and will be removed from pandas in a future version. Use pandas.concat instead.\n",
      "  test_t = test_t.append(bottom_transac)\n",
      "C:\\Users\\Hammozi\\AppData\\Local\\Temp\\ipykernel_22716\\801327109.py:7: FutureWarning: The frame.append method is deprecated and will be removed from pandas in a future version. Use pandas.concat instead.\n",
      "  test_t = test_t.append(bottom_transac)\n",
      "C:\\Users\\Hammozi\\AppData\\Local\\Temp\\ipykernel_22716\\801327109.py:7: FutureWarning: The frame.append method is deprecated and will be removed from pandas in a future version. Use pandas.concat instead.\n",
      "  test_t = test_t.append(bottom_transac)\n",
      "C:\\Users\\Hammozi\\AppData\\Local\\Temp\\ipykernel_22716\\801327109.py:7: FutureWarning: The frame.append method is deprecated and will be removed from pandas in a future version. Use pandas.concat instead.\n",
      "  test_t = test_t.append(bottom_transac)\n",
      "C:\\Users\\Hammozi\\AppData\\Local\\Temp\\ipykernel_22716\\801327109.py:7: FutureWarning: The frame.append method is deprecated and will be removed from pandas in a future version. Use pandas.concat instead.\n",
      "  test_t = test_t.append(bottom_transac)\n",
      "C:\\Users\\Hammozi\\AppData\\Local\\Temp\\ipykernel_22716\\801327109.py:7: FutureWarning: The frame.append method is deprecated and will be removed from pandas in a future version. Use pandas.concat instead.\n",
      "  test_t = test_t.append(bottom_transac)\n"
     ]
    },
    {
     "name": "stdout",
     "output_type": "stream",
     "text": [
      "171\n",
      "172\n",
      "173\n",
      "174\n"
     ]
    },
    {
     "name": "stderr",
     "output_type": "stream",
     "text": [
      "C:\\Users\\Hammozi\\AppData\\Local\\Temp\\ipykernel_22716\\801327109.py:7: FutureWarning: The frame.append method is deprecated and will be removed from pandas in a future version. Use pandas.concat instead.\n",
      "  test_t = test_t.append(bottom_transac)\n",
      "C:\\Users\\Hammozi\\AppData\\Local\\Temp\\ipykernel_22716\\801327109.py:7: FutureWarning: The frame.append method is deprecated and will be removed from pandas in a future version. Use pandas.concat instead.\n",
      "  test_t = test_t.append(bottom_transac)\n",
      "C:\\Users\\Hammozi\\AppData\\Local\\Temp\\ipykernel_22716\\801327109.py:7: FutureWarning: The frame.append method is deprecated and will be removed from pandas in a future version. Use pandas.concat instead.\n",
      "  test_t = test_t.append(bottom_transac)\n"
     ]
    },
    {
     "name": "stdout",
     "output_type": "stream",
     "text": [
      "175\n",
      "176\n",
      "177\n"
     ]
    },
    {
     "name": "stderr",
     "output_type": "stream",
     "text": [
      "C:\\Users\\Hammozi\\AppData\\Local\\Temp\\ipykernel_22716\\801327109.py:7: FutureWarning: The frame.append method is deprecated and will be removed from pandas in a future version. Use pandas.concat instead.\n",
      "  test_t = test_t.append(bottom_transac)\n",
      "C:\\Users\\Hammozi\\AppData\\Local\\Temp\\ipykernel_22716\\801327109.py:7: FutureWarning: The frame.append method is deprecated and will be removed from pandas in a future version. Use pandas.concat instead.\n",
      "  test_t = test_t.append(bottom_transac)\n",
      "C:\\Users\\Hammozi\\AppData\\Local\\Temp\\ipykernel_22716\\801327109.py:7: FutureWarning: The frame.append method is deprecated and will be removed from pandas in a future version. Use pandas.concat instead.\n",
      "  test_t = test_t.append(bottom_transac)\n"
     ]
    },
    {
     "name": "stdout",
     "output_type": "stream",
     "text": [
      "178\n",
      "179\n",
      "180\n",
      "181\n"
     ]
    },
    {
     "name": "stderr",
     "output_type": "stream",
     "text": [
      "C:\\Users\\Hammozi\\AppData\\Local\\Temp\\ipykernel_22716\\801327109.py:7: FutureWarning: The frame.append method is deprecated and will be removed from pandas in a future version. Use pandas.concat instead.\n",
      "  test_t = test_t.append(bottom_transac)\n",
      "C:\\Users\\Hammozi\\AppData\\Local\\Temp\\ipykernel_22716\\801327109.py:7: FutureWarning: The frame.append method is deprecated and will be removed from pandas in a future version. Use pandas.concat instead.\n",
      "  test_t = test_t.append(bottom_transac)\n",
      "C:\\Users\\Hammozi\\AppData\\Local\\Temp\\ipykernel_22716\\801327109.py:7: FutureWarning: The frame.append method is deprecated and will be removed from pandas in a future version. Use pandas.concat instead.\n",
      "  test_t = test_t.append(bottom_transac)\n"
     ]
    },
    {
     "name": "stdout",
     "output_type": "stream",
     "text": [
      "182\n",
      "183\n",
      "184\n",
      "185\n"
     ]
    },
    {
     "name": "stderr",
     "output_type": "stream",
     "text": [
      "C:\\Users\\Hammozi\\AppData\\Local\\Temp\\ipykernel_22716\\801327109.py:7: FutureWarning: The frame.append method is deprecated and will be removed from pandas in a future version. Use pandas.concat instead.\n",
      "  test_t = test_t.append(bottom_transac)\n",
      "C:\\Users\\Hammozi\\AppData\\Local\\Temp\\ipykernel_22716\\801327109.py:7: FutureWarning: The frame.append method is deprecated and will be removed from pandas in a future version. Use pandas.concat instead.\n",
      "  test_t = test_t.append(bottom_transac)\n",
      "C:\\Users\\Hammozi\\AppData\\Local\\Temp\\ipykernel_22716\\801327109.py:7: FutureWarning: The frame.append method is deprecated and will be removed from pandas in a future version. Use pandas.concat instead.\n",
      "  test_t = test_t.append(bottom_transac)\n",
      "C:\\Users\\Hammozi\\AppData\\Local\\Temp\\ipykernel_22716\\801327109.py:7: FutureWarning: The frame.append method is deprecated and will be removed from pandas in a future version. Use pandas.concat instead.\n",
      "  test_t = test_t.append(bottom_transac)\n",
      "C:\\Users\\Hammozi\\AppData\\Local\\Temp\\ipykernel_22716\\801327109.py:7: FutureWarning: The frame.append method is deprecated and will be removed from pandas in a future version. Use pandas.concat instead.\n",
      "  test_t = test_t.append(bottom_transac)\n",
      "C:\\Users\\Hammozi\\AppData\\Local\\Temp\\ipykernel_22716\\801327109.py:7: FutureWarning: The frame.append method is deprecated and will be removed from pandas in a future version. Use pandas.concat instead.\n",
      "  test_t = test_t.append(bottom_transac)\n"
     ]
    },
    {
     "name": "stdout",
     "output_type": "stream",
     "text": [
      "186\n",
      "187\n",
      "188\n",
      "189\n"
     ]
    },
    {
     "name": "stderr",
     "output_type": "stream",
     "text": [
      "C:\\Users\\Hammozi\\AppData\\Local\\Temp\\ipykernel_22716\\801327109.py:7: FutureWarning: The frame.append method is deprecated and will be removed from pandas in a future version. Use pandas.concat instead.\n",
      "  test_t = test_t.append(bottom_transac)\n",
      "C:\\Users\\Hammozi\\AppData\\Local\\Temp\\ipykernel_22716\\801327109.py:7: FutureWarning: The frame.append method is deprecated and will be removed from pandas in a future version. Use pandas.concat instead.\n",
      "  test_t = test_t.append(bottom_transac)\n",
      "C:\\Users\\Hammozi\\AppData\\Local\\Temp\\ipykernel_22716\\801327109.py:7: FutureWarning: The frame.append method is deprecated and will be removed from pandas in a future version. Use pandas.concat instead.\n",
      "  test_t = test_t.append(bottom_transac)\n"
     ]
    },
    {
     "name": "stdout",
     "output_type": "stream",
     "text": [
      "190\n",
      "191\n",
      "192\n",
      "193\n"
     ]
    },
    {
     "name": "stderr",
     "output_type": "stream",
     "text": [
      "C:\\Users\\Hammozi\\AppData\\Local\\Temp\\ipykernel_22716\\801327109.py:7: FutureWarning: The frame.append method is deprecated and will be removed from pandas in a future version. Use pandas.concat instead.\n",
      "  test_t = test_t.append(bottom_transac)\n",
      "C:\\Users\\Hammozi\\AppData\\Local\\Temp\\ipykernel_22716\\801327109.py:7: FutureWarning: The frame.append method is deprecated and will be removed from pandas in a future version. Use pandas.concat instead.\n",
      "  test_t = test_t.append(bottom_transac)\n",
      "C:\\Users\\Hammozi\\AppData\\Local\\Temp\\ipykernel_22716\\801327109.py:7: FutureWarning: The frame.append method is deprecated and will be removed from pandas in a future version. Use pandas.concat instead.\n",
      "  test_t = test_t.append(bottom_transac)\n"
     ]
    },
    {
     "name": "stdout",
     "output_type": "stream",
     "text": [
      "194\n",
      "195\n",
      "196\n",
      "197\n"
     ]
    },
    {
     "name": "stderr",
     "output_type": "stream",
     "text": [
      "C:\\Users\\Hammozi\\AppData\\Local\\Temp\\ipykernel_22716\\801327109.py:7: FutureWarning: The frame.append method is deprecated and will be removed from pandas in a future version. Use pandas.concat instead.\n",
      "  test_t = test_t.append(bottom_transac)\n",
      "C:\\Users\\Hammozi\\AppData\\Local\\Temp\\ipykernel_22716\\801327109.py:7: FutureWarning: The frame.append method is deprecated and will be removed from pandas in a future version. Use pandas.concat instead.\n",
      "  test_t = test_t.append(bottom_transac)\n",
      "C:\\Users\\Hammozi\\AppData\\Local\\Temp\\ipykernel_22716\\801327109.py:7: FutureWarning: The frame.append method is deprecated and will be removed from pandas in a future version. Use pandas.concat instead.\n",
      "  test_t = test_t.append(bottom_transac)\n",
      "C:\\Users\\Hammozi\\AppData\\Local\\Temp\\ipykernel_22716\\801327109.py:7: FutureWarning: The frame.append method is deprecated and will be removed from pandas in a future version. Use pandas.concat instead.\n",
      "  test_t = test_t.append(bottom_transac)\n",
      "C:\\Users\\Hammozi\\AppData\\Local\\Temp\\ipykernel_22716\\801327109.py:7: FutureWarning: The frame.append method is deprecated and will be removed from pandas in a future version. Use pandas.concat instead.\n",
      "  test_t = test_t.append(bottom_transac)\n",
      "C:\\Users\\Hammozi\\AppData\\Local\\Temp\\ipykernel_22716\\801327109.py:7: FutureWarning: The frame.append method is deprecated and will be removed from pandas in a future version. Use pandas.concat instead.\n",
      "  test_t = test_t.append(bottom_transac)\n"
     ]
    },
    {
     "name": "stdout",
     "output_type": "stream",
     "text": [
      "198\n",
      "199\n",
      "200\n",
      "201\n"
     ]
    },
    {
     "name": "stderr",
     "output_type": "stream",
     "text": [
      "C:\\Users\\Hammozi\\AppData\\Local\\Temp\\ipykernel_22716\\801327109.py:7: FutureWarning: The frame.append method is deprecated and will be removed from pandas in a future version. Use pandas.concat instead.\n",
      "  test_t = test_t.append(bottom_transac)\n",
      "C:\\Users\\Hammozi\\AppData\\Local\\Temp\\ipykernel_22716\\801327109.py:7: FutureWarning: The frame.append method is deprecated and will be removed from pandas in a future version. Use pandas.concat instead.\n",
      "  test_t = test_t.append(bottom_transac)\n",
      "C:\\Users\\Hammozi\\AppData\\Local\\Temp\\ipykernel_22716\\801327109.py:7: FutureWarning: The frame.append method is deprecated and will be removed from pandas in a future version. Use pandas.concat instead.\n",
      "  test_t = test_t.append(bottom_transac)\n"
     ]
    },
    {
     "name": "stdout",
     "output_type": "stream",
     "text": [
      "202\n",
      "203\n",
      "204\n",
      "205\n"
     ]
    },
    {
     "name": "stderr",
     "output_type": "stream",
     "text": [
      "C:\\Users\\Hammozi\\AppData\\Local\\Temp\\ipykernel_22716\\801327109.py:7: FutureWarning: The frame.append method is deprecated and will be removed from pandas in a future version. Use pandas.concat instead.\n",
      "  test_t = test_t.append(bottom_transac)\n",
      "C:\\Users\\Hammozi\\AppData\\Local\\Temp\\ipykernel_22716\\801327109.py:7: FutureWarning: The frame.append method is deprecated and will be removed from pandas in a future version. Use pandas.concat instead.\n",
      "  test_t = test_t.append(bottom_transac)\n",
      "C:\\Users\\Hammozi\\AppData\\Local\\Temp\\ipykernel_22716\\801327109.py:7: FutureWarning: The frame.append method is deprecated and will be removed from pandas in a future version. Use pandas.concat instead.\n",
      "  test_t = test_t.append(bottom_transac)\n"
     ]
    },
    {
     "name": "stdout",
     "output_type": "stream",
     "text": [
      "206\n",
      "207\n",
      "208\n",
      "209\n"
     ]
    },
    {
     "name": "stderr",
     "output_type": "stream",
     "text": [
      "C:\\Users\\Hammozi\\AppData\\Local\\Temp\\ipykernel_22716\\801327109.py:7: FutureWarning: The frame.append method is deprecated and will be removed from pandas in a future version. Use pandas.concat instead.\n",
      "  test_t = test_t.append(bottom_transac)\n",
      "C:\\Users\\Hammozi\\AppData\\Local\\Temp\\ipykernel_22716\\801327109.py:7: FutureWarning: The frame.append method is deprecated and will be removed from pandas in a future version. Use pandas.concat instead.\n",
      "  test_t = test_t.append(bottom_transac)\n",
      "C:\\Users\\Hammozi\\AppData\\Local\\Temp\\ipykernel_22716\\801327109.py:7: FutureWarning: The frame.append method is deprecated and will be removed from pandas in a future version. Use pandas.concat instead.\n",
      "  test_t = test_t.append(bottom_transac)\n",
      "C:\\Users\\Hammozi\\AppData\\Local\\Temp\\ipykernel_22716\\801327109.py:7: FutureWarning: The frame.append method is deprecated and will be removed from pandas in a future version. Use pandas.concat instead.\n",
      "  test_t = test_t.append(bottom_transac)\n",
      "C:\\Users\\Hammozi\\AppData\\Local\\Temp\\ipykernel_22716\\801327109.py:7: FutureWarning: The frame.append method is deprecated and will be removed from pandas in a future version. Use pandas.concat instead.\n",
      "  test_t = test_t.append(bottom_transac)\n",
      "C:\\Users\\Hammozi\\AppData\\Local\\Temp\\ipykernel_22716\\801327109.py:7: FutureWarning: The frame.append method is deprecated and will be removed from pandas in a future version. Use pandas.concat instead.\n",
      "  test_t = test_t.append(bottom_transac)\n"
     ]
    },
    {
     "name": "stdout",
     "output_type": "stream",
     "text": [
      "210\n",
      "211\n",
      "212\n",
      "213\n"
     ]
    },
    {
     "name": "stderr",
     "output_type": "stream",
     "text": [
      "C:\\Users\\Hammozi\\AppData\\Local\\Temp\\ipykernel_22716\\801327109.py:7: FutureWarning: The frame.append method is deprecated and will be removed from pandas in a future version. Use pandas.concat instead.\n",
      "  test_t = test_t.append(bottom_transac)\n",
      "C:\\Users\\Hammozi\\AppData\\Local\\Temp\\ipykernel_22716\\801327109.py:7: FutureWarning: The frame.append method is deprecated and will be removed from pandas in a future version. Use pandas.concat instead.\n",
      "  test_t = test_t.append(bottom_transac)\n",
      "C:\\Users\\Hammozi\\AppData\\Local\\Temp\\ipykernel_22716\\801327109.py:7: FutureWarning: The frame.append method is deprecated and will be removed from pandas in a future version. Use pandas.concat instead.\n",
      "  test_t = test_t.append(bottom_transac)\n"
     ]
    },
    {
     "name": "stdout",
     "output_type": "stream",
     "text": [
      "214\n",
      "215\n",
      "216\n",
      "217\n"
     ]
    },
    {
     "name": "stderr",
     "output_type": "stream",
     "text": [
      "C:\\Users\\Hammozi\\AppData\\Local\\Temp\\ipykernel_22716\\801327109.py:7: FutureWarning: The frame.append method is deprecated and will be removed from pandas in a future version. Use pandas.concat instead.\n",
      "  test_t = test_t.append(bottom_transac)\n",
      "C:\\Users\\Hammozi\\AppData\\Local\\Temp\\ipykernel_22716\\801327109.py:7: FutureWarning: The frame.append method is deprecated and will be removed from pandas in a future version. Use pandas.concat instead.\n",
      "  test_t = test_t.append(bottom_transac)\n",
      "C:\\Users\\Hammozi\\AppData\\Local\\Temp\\ipykernel_22716\\801327109.py:7: FutureWarning: The frame.append method is deprecated and will be removed from pandas in a future version. Use pandas.concat instead.\n",
      "  test_t = test_t.append(bottom_transac)\n"
     ]
    },
    {
     "name": "stdout",
     "output_type": "stream",
     "text": [
      "218\n",
      "219\n",
      "220\n",
      "221\n"
     ]
    },
    {
     "name": "stderr",
     "output_type": "stream",
     "text": [
      "C:\\Users\\Hammozi\\AppData\\Local\\Temp\\ipykernel_22716\\801327109.py:7: FutureWarning: The frame.append method is deprecated and will be removed from pandas in a future version. Use pandas.concat instead.\n",
      "  test_t = test_t.append(bottom_transac)\n",
      "C:\\Users\\Hammozi\\AppData\\Local\\Temp\\ipykernel_22716\\801327109.py:7: FutureWarning: The frame.append method is deprecated and will be removed from pandas in a future version. Use pandas.concat instead.\n",
      "  test_t = test_t.append(bottom_transac)\n",
      "C:\\Users\\Hammozi\\AppData\\Local\\Temp\\ipykernel_22716\\801327109.py:7: FutureWarning: The frame.append method is deprecated and will be removed from pandas in a future version. Use pandas.concat instead.\n",
      "  test_t = test_t.append(bottom_transac)\n",
      "C:\\Users\\Hammozi\\AppData\\Local\\Temp\\ipykernel_22716\\801327109.py:7: FutureWarning: The frame.append method is deprecated and will be removed from pandas in a future version. Use pandas.concat instead.\n",
      "  test_t = test_t.append(bottom_transac)\n",
      "C:\\Users\\Hammozi\\AppData\\Local\\Temp\\ipykernel_22716\\801327109.py:7: FutureWarning: The frame.append method is deprecated and will be removed from pandas in a future version. Use pandas.concat instead.\n",
      "  test_t = test_t.append(bottom_transac)\n",
      "C:\\Users\\Hammozi\\AppData\\Local\\Temp\\ipykernel_22716\\801327109.py:7: FutureWarning: The frame.append method is deprecated and will be removed from pandas in a future version. Use pandas.concat instead.\n",
      "  test_t = test_t.append(bottom_transac)\n"
     ]
    },
    {
     "name": "stdout",
     "output_type": "stream",
     "text": [
      "222\n",
      "223\n",
      "224\n",
      "225\n"
     ]
    },
    {
     "name": "stderr",
     "output_type": "stream",
     "text": [
      "C:\\Users\\Hammozi\\AppData\\Local\\Temp\\ipykernel_22716\\801327109.py:7: FutureWarning: The frame.append method is deprecated and will be removed from pandas in a future version. Use pandas.concat instead.\n",
      "  test_t = test_t.append(bottom_transac)\n",
      "C:\\Users\\Hammozi\\AppData\\Local\\Temp\\ipykernel_22716\\801327109.py:7: FutureWarning: The frame.append method is deprecated and will be removed from pandas in a future version. Use pandas.concat instead.\n",
      "  test_t = test_t.append(bottom_transac)\n",
      "C:\\Users\\Hammozi\\AppData\\Local\\Temp\\ipykernel_22716\\801327109.py:7: FutureWarning: The frame.append method is deprecated and will be removed from pandas in a future version. Use pandas.concat instead.\n",
      "  test_t = test_t.append(bottom_transac)\n"
     ]
    },
    {
     "name": "stdout",
     "output_type": "stream",
     "text": [
      "226\n",
      "227\n",
      "228\n",
      "229\n"
     ]
    },
    {
     "name": "stderr",
     "output_type": "stream",
     "text": [
      "C:\\Users\\Hammozi\\AppData\\Local\\Temp\\ipykernel_22716\\801327109.py:7: FutureWarning: The frame.append method is deprecated and will be removed from pandas in a future version. Use pandas.concat instead.\n",
      "  test_t = test_t.append(bottom_transac)\n",
      "C:\\Users\\Hammozi\\AppData\\Local\\Temp\\ipykernel_22716\\801327109.py:7: FutureWarning: The frame.append method is deprecated and will be removed from pandas in a future version. Use pandas.concat instead.\n",
      "  test_t = test_t.append(bottom_transac)\n",
      "C:\\Users\\Hammozi\\AppData\\Local\\Temp\\ipykernel_22716\\801327109.py:7: FutureWarning: The frame.append method is deprecated and will be removed from pandas in a future version. Use pandas.concat instead.\n",
      "  test_t = test_t.append(bottom_transac)\n"
     ]
    },
    {
     "name": "stdout",
     "output_type": "stream",
     "text": [
      "230\n",
      "231\n",
      "232\n"
     ]
    },
    {
     "name": "stderr",
     "output_type": "stream",
     "text": [
      "C:\\Users\\Hammozi\\AppData\\Local\\Temp\\ipykernel_22716\\801327109.py:7: FutureWarning: The frame.append method is deprecated and will be removed from pandas in a future version. Use pandas.concat instead.\n",
      "  test_t = test_t.append(bottom_transac)\n",
      "C:\\Users\\Hammozi\\AppData\\Local\\Temp\\ipykernel_22716\\801327109.py:7: FutureWarning: The frame.append method is deprecated and will be removed from pandas in a future version. Use pandas.concat instead.\n",
      "  test_t = test_t.append(bottom_transac)\n",
      "C:\\Users\\Hammozi\\AppData\\Local\\Temp\\ipykernel_22716\\801327109.py:7: FutureWarning: The frame.append method is deprecated and will be removed from pandas in a future version. Use pandas.concat instead.\n",
      "  test_t = test_t.append(bottom_transac)\n"
     ]
    },
    {
     "name": "stdout",
     "output_type": "stream",
     "text": [
      "233\n",
      "234\n",
      "235\n",
      "236\n"
     ]
    },
    {
     "name": "stderr",
     "output_type": "stream",
     "text": [
      "C:\\Users\\Hammozi\\AppData\\Local\\Temp\\ipykernel_22716\\801327109.py:7: FutureWarning: The frame.append method is deprecated and will be removed from pandas in a future version. Use pandas.concat instead.\n",
      "  test_t = test_t.append(bottom_transac)\n",
      "C:\\Users\\Hammozi\\AppData\\Local\\Temp\\ipykernel_22716\\801327109.py:7: FutureWarning: The frame.append method is deprecated and will be removed from pandas in a future version. Use pandas.concat instead.\n",
      "  test_t = test_t.append(bottom_transac)\n",
      "C:\\Users\\Hammozi\\AppData\\Local\\Temp\\ipykernel_22716\\801327109.py:7: FutureWarning: The frame.append method is deprecated and will be removed from pandas in a future version. Use pandas.concat instead.\n",
      "  test_t = test_t.append(bottom_transac)\n",
      "C:\\Users\\Hammozi\\AppData\\Local\\Temp\\ipykernel_22716\\801327109.py:7: FutureWarning: The frame.append method is deprecated and will be removed from pandas in a future version. Use pandas.concat instead.\n",
      "  test_t = test_t.append(bottom_transac)\n",
      "C:\\Users\\Hammozi\\AppData\\Local\\Temp\\ipykernel_22716\\801327109.py:7: FutureWarning: The frame.append method is deprecated and will be removed from pandas in a future version. Use pandas.concat instead.\n",
      "  test_t = test_t.append(bottom_transac)\n",
      "C:\\Users\\Hammozi\\AppData\\Local\\Temp\\ipykernel_22716\\801327109.py:7: FutureWarning: The frame.append method is deprecated and will be removed from pandas in a future version. Use pandas.concat instead.\n",
      "  test_t = test_t.append(bottom_transac)\n"
     ]
    },
    {
     "name": "stdout",
     "output_type": "stream",
     "text": [
      "237\n",
      "238\n",
      "239\n",
      "240\n"
     ]
    },
    {
     "name": "stderr",
     "output_type": "stream",
     "text": [
      "C:\\Users\\Hammozi\\AppData\\Local\\Temp\\ipykernel_22716\\801327109.py:7: FutureWarning: The frame.append method is deprecated and will be removed from pandas in a future version. Use pandas.concat instead.\n",
      "  test_t = test_t.append(bottom_transac)\n",
      "C:\\Users\\Hammozi\\AppData\\Local\\Temp\\ipykernel_22716\\801327109.py:7: FutureWarning: The frame.append method is deprecated and will be removed from pandas in a future version. Use pandas.concat instead.\n",
      "  test_t = test_t.append(bottom_transac)\n",
      "C:\\Users\\Hammozi\\AppData\\Local\\Temp\\ipykernel_22716\\801327109.py:7: FutureWarning: The frame.append method is deprecated and will be removed from pandas in a future version. Use pandas.concat instead.\n",
      "  test_t = test_t.append(bottom_transac)\n"
     ]
    },
    {
     "name": "stdout",
     "output_type": "stream",
     "text": [
      "241\n",
      "242\n",
      "243\n",
      "244\n"
     ]
    },
    {
     "name": "stderr",
     "output_type": "stream",
     "text": [
      "C:\\Users\\Hammozi\\AppData\\Local\\Temp\\ipykernel_22716\\801327109.py:7: FutureWarning: The frame.append method is deprecated and will be removed from pandas in a future version. Use pandas.concat instead.\n",
      "  test_t = test_t.append(bottom_transac)\n",
      "C:\\Users\\Hammozi\\AppData\\Local\\Temp\\ipykernel_22716\\801327109.py:7: FutureWarning: The frame.append method is deprecated and will be removed from pandas in a future version. Use pandas.concat instead.\n",
      "  test_t = test_t.append(bottom_transac)\n",
      "C:\\Users\\Hammozi\\AppData\\Local\\Temp\\ipykernel_22716\\801327109.py:7: FutureWarning: The frame.append method is deprecated and will be removed from pandas in a future version. Use pandas.concat instead.\n",
      "  test_t = test_t.append(bottom_transac)\n"
     ]
    },
    {
     "name": "stdout",
     "output_type": "stream",
     "text": [
      "245\n",
      "246\n",
      "247\n",
      "248\n"
     ]
    },
    {
     "name": "stderr",
     "output_type": "stream",
     "text": [
      "C:\\Users\\Hammozi\\AppData\\Local\\Temp\\ipykernel_22716\\801327109.py:7: FutureWarning: The frame.append method is deprecated and will be removed from pandas in a future version. Use pandas.concat instead.\n",
      "  test_t = test_t.append(bottom_transac)\n",
      "C:\\Users\\Hammozi\\AppData\\Local\\Temp\\ipykernel_22716\\801327109.py:7: FutureWarning: The frame.append method is deprecated and will be removed from pandas in a future version. Use pandas.concat instead.\n",
      "  test_t = test_t.append(bottom_transac)\n",
      "C:\\Users\\Hammozi\\AppData\\Local\\Temp\\ipykernel_22716\\801327109.py:7: FutureWarning: The frame.append method is deprecated and will be removed from pandas in a future version. Use pandas.concat instead.\n",
      "  test_t = test_t.append(bottom_transac)\n",
      "C:\\Users\\Hammozi\\AppData\\Local\\Temp\\ipykernel_22716\\801327109.py:7: FutureWarning: The frame.append method is deprecated and will be removed from pandas in a future version. Use pandas.concat instead.\n",
      "  test_t = test_t.append(bottom_transac)\n",
      "C:\\Users\\Hammozi\\AppData\\Local\\Temp\\ipykernel_22716\\801327109.py:7: FutureWarning: The frame.append method is deprecated and will be removed from pandas in a future version. Use pandas.concat instead.\n",
      "  test_t = test_t.append(bottom_transac)\n",
      "C:\\Users\\Hammozi\\AppData\\Local\\Temp\\ipykernel_22716\\801327109.py:7: FutureWarning: The frame.append method is deprecated and will be removed from pandas in a future version. Use pandas.concat instead.\n",
      "  test_t = test_t.append(bottom_transac)\n"
     ]
    },
    {
     "name": "stdout",
     "output_type": "stream",
     "text": [
      "249\n",
      "250\n",
      "251\n",
      "252\n"
     ]
    },
    {
     "name": "stderr",
     "output_type": "stream",
     "text": [
      "C:\\Users\\Hammozi\\AppData\\Local\\Temp\\ipykernel_22716\\801327109.py:7: FutureWarning: The frame.append method is deprecated and will be removed from pandas in a future version. Use pandas.concat instead.\n",
      "  test_t = test_t.append(bottom_transac)\n",
      "C:\\Users\\Hammozi\\AppData\\Local\\Temp\\ipykernel_22716\\801327109.py:7: FutureWarning: The frame.append method is deprecated and will be removed from pandas in a future version. Use pandas.concat instead.\n",
      "  test_t = test_t.append(bottom_transac)\n",
      "C:\\Users\\Hammozi\\AppData\\Local\\Temp\\ipykernel_22716\\801327109.py:7: FutureWarning: The frame.append method is deprecated and will be removed from pandas in a future version. Use pandas.concat instead.\n",
      "  test_t = test_t.append(bottom_transac)\n"
     ]
    },
    {
     "name": "stdout",
     "output_type": "stream",
     "text": [
      "253\n",
      "254\n",
      "255\n",
      "256\n"
     ]
    },
    {
     "name": "stderr",
     "output_type": "stream",
     "text": [
      "C:\\Users\\Hammozi\\AppData\\Local\\Temp\\ipykernel_22716\\801327109.py:7: FutureWarning: The frame.append method is deprecated and will be removed from pandas in a future version. Use pandas.concat instead.\n",
      "  test_t = test_t.append(bottom_transac)\n",
      "C:\\Users\\Hammozi\\AppData\\Local\\Temp\\ipykernel_22716\\801327109.py:7: FutureWarning: The frame.append method is deprecated and will be removed from pandas in a future version. Use pandas.concat instead.\n",
      "  test_t = test_t.append(bottom_transac)\n",
      "C:\\Users\\Hammozi\\AppData\\Local\\Temp\\ipykernel_22716\\801327109.py:7: FutureWarning: The frame.append method is deprecated and will be removed from pandas in a future version. Use pandas.concat instead.\n",
      "  test_t = test_t.append(bottom_transac)\n"
     ]
    },
    {
     "name": "stdout",
     "output_type": "stream",
     "text": [
      "257\n",
      "258\n",
      "259\n",
      "260\n"
     ]
    },
    {
     "name": "stderr",
     "output_type": "stream",
     "text": [
      "C:\\Users\\Hammozi\\AppData\\Local\\Temp\\ipykernel_22716\\801327109.py:7: FutureWarning: The frame.append method is deprecated and will be removed from pandas in a future version. Use pandas.concat instead.\n",
      "  test_t = test_t.append(bottom_transac)\n",
      "C:\\Users\\Hammozi\\AppData\\Local\\Temp\\ipykernel_22716\\801327109.py:7: FutureWarning: The frame.append method is deprecated and will be removed from pandas in a future version. Use pandas.concat instead.\n",
      "  test_t = test_t.append(bottom_transac)\n",
      "C:\\Users\\Hammozi\\AppData\\Local\\Temp\\ipykernel_22716\\801327109.py:7: FutureWarning: The frame.append method is deprecated and will be removed from pandas in a future version. Use pandas.concat instead.\n",
      "  test_t = test_t.append(bottom_transac)\n",
      "C:\\Users\\Hammozi\\AppData\\Local\\Temp\\ipykernel_22716\\801327109.py:7: FutureWarning: The frame.append method is deprecated and will be removed from pandas in a future version. Use pandas.concat instead.\n",
      "  test_t = test_t.append(bottom_transac)\n",
      "C:\\Users\\Hammozi\\AppData\\Local\\Temp\\ipykernel_22716\\801327109.py:7: FutureWarning: The frame.append method is deprecated and will be removed from pandas in a future version. Use pandas.concat instead.\n",
      "  test_t = test_t.append(bottom_transac)\n",
      "C:\\Users\\Hammozi\\AppData\\Local\\Temp\\ipykernel_22716\\801327109.py:7: FutureWarning: The frame.append method is deprecated and will be removed from pandas in a future version. Use pandas.concat instead.\n",
      "  test_t = test_t.append(bottom_transac)\n"
     ]
    },
    {
     "name": "stdout",
     "output_type": "stream",
     "text": [
      "261\n",
      "262\n",
      "263\n"
     ]
    },
    {
     "name": "stderr",
     "output_type": "stream",
     "text": [
      "C:\\Users\\Hammozi\\AppData\\Local\\Temp\\ipykernel_22716\\801327109.py:7: FutureWarning: The frame.append method is deprecated and will be removed from pandas in a future version. Use pandas.concat instead.\n",
      "  test_t = test_t.append(bottom_transac)\n",
      "C:\\Users\\Hammozi\\AppData\\Local\\Temp\\ipykernel_22716\\801327109.py:7: FutureWarning: The frame.append method is deprecated and will be removed from pandas in a future version. Use pandas.concat instead.\n",
      "  test_t = test_t.append(bottom_transac)\n",
      "C:\\Users\\Hammozi\\AppData\\Local\\Temp\\ipykernel_22716\\801327109.py:7: FutureWarning: The frame.append method is deprecated and will be removed from pandas in a future version. Use pandas.concat instead.\n",
      "  test_t = test_t.append(bottom_transac)\n"
     ]
    },
    {
     "name": "stdout",
     "output_type": "stream",
     "text": [
      "264\n",
      "265\n",
      "266\n",
      "267\n"
     ]
    },
    {
     "name": "stderr",
     "output_type": "stream",
     "text": [
      "C:\\Users\\Hammozi\\AppData\\Local\\Temp\\ipykernel_22716\\801327109.py:7: FutureWarning: The frame.append method is deprecated and will be removed from pandas in a future version. Use pandas.concat instead.\n",
      "  test_t = test_t.append(bottom_transac)\n",
      "C:\\Users\\Hammozi\\AppData\\Local\\Temp\\ipykernel_22716\\801327109.py:7: FutureWarning: The frame.append method is deprecated and will be removed from pandas in a future version. Use pandas.concat instead.\n",
      "  test_t = test_t.append(bottom_transac)\n",
      "C:\\Users\\Hammozi\\AppData\\Local\\Temp\\ipykernel_22716\\801327109.py:7: FutureWarning: The frame.append method is deprecated and will be removed from pandas in a future version. Use pandas.concat instead.\n",
      "  test_t = test_t.append(bottom_transac)\n"
     ]
    },
    {
     "name": "stdout",
     "output_type": "stream",
     "text": [
      "268\n",
      "269\n",
      "270\n",
      "271\n"
     ]
    },
    {
     "name": "stderr",
     "output_type": "stream",
     "text": [
      "C:\\Users\\Hammozi\\AppData\\Local\\Temp\\ipykernel_22716\\801327109.py:7: FutureWarning: The frame.append method is deprecated and will be removed from pandas in a future version. Use pandas.concat instead.\n",
      "  test_t = test_t.append(bottom_transac)\n",
      "C:\\Users\\Hammozi\\AppData\\Local\\Temp\\ipykernel_22716\\801327109.py:7: FutureWarning: The frame.append method is deprecated and will be removed from pandas in a future version. Use pandas.concat instead.\n",
      "  test_t = test_t.append(bottom_transac)\n",
      "C:\\Users\\Hammozi\\AppData\\Local\\Temp\\ipykernel_22716\\801327109.py:7: FutureWarning: The frame.append method is deprecated and will be removed from pandas in a future version. Use pandas.concat instead.\n",
      "  test_t = test_t.append(bottom_transac)\n"
     ]
    },
    {
     "name": "stdout",
     "output_type": "stream",
     "text": [
      "272\n",
      "273\n",
      "274\n",
      "275\n"
     ]
    },
    {
     "name": "stderr",
     "output_type": "stream",
     "text": [
      "C:\\Users\\Hammozi\\AppData\\Local\\Temp\\ipykernel_22716\\801327109.py:7: FutureWarning: The frame.append method is deprecated and will be removed from pandas in a future version. Use pandas.concat instead.\n",
      "  test_t = test_t.append(bottom_transac)\n",
      "C:\\Users\\Hammozi\\AppData\\Local\\Temp\\ipykernel_22716\\801327109.py:7: FutureWarning: The frame.append method is deprecated and will be removed from pandas in a future version. Use pandas.concat instead.\n",
      "  test_t = test_t.append(bottom_transac)\n",
      "C:\\Users\\Hammozi\\AppData\\Local\\Temp\\ipykernel_22716\\801327109.py:7: FutureWarning: The frame.append method is deprecated and will be removed from pandas in a future version. Use pandas.concat instead.\n",
      "  test_t = test_t.append(bottom_transac)\n",
      "C:\\Users\\Hammozi\\AppData\\Local\\Temp\\ipykernel_22716\\801327109.py:7: FutureWarning: The frame.append method is deprecated and will be removed from pandas in a future version. Use pandas.concat instead.\n",
      "  test_t = test_t.append(bottom_transac)\n",
      "C:\\Users\\Hammozi\\AppData\\Local\\Temp\\ipykernel_22716\\801327109.py:7: FutureWarning: The frame.append method is deprecated and will be removed from pandas in a future version. Use pandas.concat instead.\n",
      "  test_t = test_t.append(bottom_transac)\n",
      "C:\\Users\\Hammozi\\AppData\\Local\\Temp\\ipykernel_22716\\801327109.py:7: FutureWarning: The frame.append method is deprecated and will be removed from pandas in a future version. Use pandas.concat instead.\n",
      "  test_t = test_t.append(bottom_transac)\n"
     ]
    },
    {
     "name": "stdout",
     "output_type": "stream",
     "text": [
      "276\n",
      "277\n",
      "278\n",
      "279\n"
     ]
    },
    {
     "name": "stderr",
     "output_type": "stream",
     "text": [
      "C:\\Users\\Hammozi\\AppData\\Local\\Temp\\ipykernel_22716\\801327109.py:7: FutureWarning: The frame.append method is deprecated and will be removed from pandas in a future version. Use pandas.concat instead.\n",
      "  test_t = test_t.append(bottom_transac)\n",
      "C:\\Users\\Hammozi\\AppData\\Local\\Temp\\ipykernel_22716\\801327109.py:7: FutureWarning: The frame.append method is deprecated and will be removed from pandas in a future version. Use pandas.concat instead.\n",
      "  test_t = test_t.append(bottom_transac)\n",
      "C:\\Users\\Hammozi\\AppData\\Local\\Temp\\ipykernel_22716\\801327109.py:7: FutureWarning: The frame.append method is deprecated and will be removed from pandas in a future version. Use pandas.concat instead.\n",
      "  test_t = test_t.append(bottom_transac)\n"
     ]
    },
    {
     "name": "stdout",
     "output_type": "stream",
     "text": [
      "280\n",
      "281\n",
      "282\n",
      "283\n"
     ]
    },
    {
     "name": "stderr",
     "output_type": "stream",
     "text": [
      "C:\\Users\\Hammozi\\AppData\\Local\\Temp\\ipykernel_22716\\801327109.py:7: FutureWarning: The frame.append method is deprecated and will be removed from pandas in a future version. Use pandas.concat instead.\n",
      "  test_t = test_t.append(bottom_transac)\n",
      "C:\\Users\\Hammozi\\AppData\\Local\\Temp\\ipykernel_22716\\801327109.py:7: FutureWarning: The frame.append method is deprecated and will be removed from pandas in a future version. Use pandas.concat instead.\n",
      "  test_t = test_t.append(bottom_transac)\n",
      "C:\\Users\\Hammozi\\AppData\\Local\\Temp\\ipykernel_22716\\801327109.py:7: FutureWarning: The frame.append method is deprecated and will be removed from pandas in a future version. Use pandas.concat instead.\n",
      "  test_t = test_t.append(bottom_transac)\n"
     ]
    },
    {
     "name": "stdout",
     "output_type": "stream",
     "text": [
      "284\n",
      "285\n",
      "286\n",
      "287\n"
     ]
    },
    {
     "name": "stderr",
     "output_type": "stream",
     "text": [
      "C:\\Users\\Hammozi\\AppData\\Local\\Temp\\ipykernel_22716\\801327109.py:7: FutureWarning: The frame.append method is deprecated and will be removed from pandas in a future version. Use pandas.concat instead.\n",
      "  test_t = test_t.append(bottom_transac)\n",
      "C:\\Users\\Hammozi\\AppData\\Local\\Temp\\ipykernel_22716\\801327109.py:7: FutureWarning: The frame.append method is deprecated and will be removed from pandas in a future version. Use pandas.concat instead.\n",
      "  test_t = test_t.append(bottom_transac)\n",
      "C:\\Users\\Hammozi\\AppData\\Local\\Temp\\ipykernel_22716\\801327109.py:7: FutureWarning: The frame.append method is deprecated and will be removed from pandas in a future version. Use pandas.concat instead.\n",
      "  test_t = test_t.append(bottom_transac)\n",
      "C:\\Users\\Hammozi\\AppData\\Local\\Temp\\ipykernel_22716\\801327109.py:7: FutureWarning: The frame.append method is deprecated and will be removed from pandas in a future version. Use pandas.concat instead.\n",
      "  test_t = test_t.append(bottom_transac)\n",
      "C:\\Users\\Hammozi\\AppData\\Local\\Temp\\ipykernel_22716\\801327109.py:7: FutureWarning: The frame.append method is deprecated and will be removed from pandas in a future version. Use pandas.concat instead.\n",
      "  test_t = test_t.append(bottom_transac)\n",
      "C:\\Users\\Hammozi\\AppData\\Local\\Temp\\ipykernel_22716\\801327109.py:7: FutureWarning: The frame.append method is deprecated and will be removed from pandas in a future version. Use pandas.concat instead.\n",
      "  test_t = test_t.append(bottom_transac)\n"
     ]
    },
    {
     "name": "stdout",
     "output_type": "stream",
     "text": [
      "288\n",
      "289\n",
      "290\n",
      "291\n"
     ]
    },
    {
     "name": "stderr",
     "output_type": "stream",
     "text": [
      "C:\\Users\\Hammozi\\AppData\\Local\\Temp\\ipykernel_22716\\801327109.py:7: FutureWarning: The frame.append method is deprecated and will be removed from pandas in a future version. Use pandas.concat instead.\n",
      "  test_t = test_t.append(bottom_transac)\n",
      "C:\\Users\\Hammozi\\AppData\\Local\\Temp\\ipykernel_22716\\801327109.py:7: FutureWarning: The frame.append method is deprecated and will be removed from pandas in a future version. Use pandas.concat instead.\n",
      "  test_t = test_t.append(bottom_transac)\n",
      "C:\\Users\\Hammozi\\AppData\\Local\\Temp\\ipykernel_22716\\801327109.py:7: FutureWarning: The frame.append method is deprecated and will be removed from pandas in a future version. Use pandas.concat instead.\n",
      "  test_t = test_t.append(bottom_transac)\n"
     ]
    },
    {
     "name": "stdout",
     "output_type": "stream",
     "text": [
      "292\n",
      "293\n",
      "294\n"
     ]
    },
    {
     "name": "stderr",
     "output_type": "stream",
     "text": [
      "C:\\Users\\Hammozi\\AppData\\Local\\Temp\\ipykernel_22716\\801327109.py:7: FutureWarning: The frame.append method is deprecated and will be removed from pandas in a future version. Use pandas.concat instead.\n",
      "  test_t = test_t.append(bottom_transac)\n",
      "C:\\Users\\Hammozi\\AppData\\Local\\Temp\\ipykernel_22716\\801327109.py:7: FutureWarning: The frame.append method is deprecated and will be removed from pandas in a future version. Use pandas.concat instead.\n",
      "  test_t = test_t.append(bottom_transac)\n",
      "C:\\Users\\Hammozi\\AppData\\Local\\Temp\\ipykernel_22716\\801327109.py:7: FutureWarning: The frame.append method is deprecated and will be removed from pandas in a future version. Use pandas.concat instead.\n",
      "  test_t = test_t.append(bottom_transac)\n"
     ]
    },
    {
     "name": "stdout",
     "output_type": "stream",
     "text": [
      "295\n",
      "296\n",
      "297\n",
      "298\n"
     ]
    },
    {
     "name": "stderr",
     "output_type": "stream",
     "text": [
      "C:\\Users\\Hammozi\\AppData\\Local\\Temp\\ipykernel_22716\\801327109.py:7: FutureWarning: The frame.append method is deprecated and will be removed from pandas in a future version. Use pandas.concat instead.\n",
      "  test_t = test_t.append(bottom_transac)\n",
      "C:\\Users\\Hammozi\\AppData\\Local\\Temp\\ipykernel_22716\\801327109.py:7: FutureWarning: The frame.append method is deprecated and will be removed from pandas in a future version. Use pandas.concat instead.\n",
      "  test_t = test_t.append(bottom_transac)\n",
      "C:\\Users\\Hammozi\\AppData\\Local\\Temp\\ipykernel_22716\\801327109.py:7: FutureWarning: The frame.append method is deprecated and will be removed from pandas in a future version. Use pandas.concat instead.\n",
      "  test_t = test_t.append(bottom_transac)\n"
     ]
    },
    {
     "name": "stdout",
     "output_type": "stream",
     "text": [
      "299\n",
      "300\n",
      "301\n"
     ]
    },
    {
     "name": "stderr",
     "output_type": "stream",
     "text": [
      "C:\\Users\\Hammozi\\AppData\\Local\\Temp\\ipykernel_22716\\801327109.py:7: FutureWarning: The frame.append method is deprecated and will be removed from pandas in a future version. Use pandas.concat instead.\n",
      "  test_t = test_t.append(bottom_transac)\n",
      "C:\\Users\\Hammozi\\AppData\\Local\\Temp\\ipykernel_22716\\801327109.py:7: FutureWarning: The frame.append method is deprecated and will be removed from pandas in a future version. Use pandas.concat instead.\n",
      "  test_t = test_t.append(bottom_transac)\n",
      "C:\\Users\\Hammozi\\AppData\\Local\\Temp\\ipykernel_22716\\801327109.py:7: FutureWarning: The frame.append method is deprecated and will be removed from pandas in a future version. Use pandas.concat instead.\n",
      "  test_t = test_t.append(bottom_transac)\n"
     ]
    },
    {
     "name": "stdout",
     "output_type": "stream",
     "text": [
      "302\n",
      "303\n",
      "304\n",
      "305\n"
     ]
    },
    {
     "name": "stderr",
     "output_type": "stream",
     "text": [
      "C:\\Users\\Hammozi\\AppData\\Local\\Temp\\ipykernel_22716\\801327109.py:7: FutureWarning: The frame.append method is deprecated and will be removed from pandas in a future version. Use pandas.concat instead.\n",
      "  test_t = test_t.append(bottom_transac)\n",
      "C:\\Users\\Hammozi\\AppData\\Local\\Temp\\ipykernel_22716\\801327109.py:7: FutureWarning: The frame.append method is deprecated and will be removed from pandas in a future version. Use pandas.concat instead.\n",
      "  test_t = test_t.append(bottom_transac)\n",
      "C:\\Users\\Hammozi\\AppData\\Local\\Temp\\ipykernel_22716\\801327109.py:7: FutureWarning: The frame.append method is deprecated and will be removed from pandas in a future version. Use pandas.concat instead.\n",
      "  test_t = test_t.append(bottom_transac)\n",
      "C:\\Users\\Hammozi\\AppData\\Local\\Temp\\ipykernel_22716\\801327109.py:7: FutureWarning: The frame.append method is deprecated and will be removed from pandas in a future version. Use pandas.concat instead.\n",
      "  test_t = test_t.append(bottom_transac)\n",
      "C:\\Users\\Hammozi\\AppData\\Local\\Temp\\ipykernel_22716\\801327109.py:7: FutureWarning: The frame.append method is deprecated and will be removed from pandas in a future version. Use pandas.concat instead.\n",
      "  test_t = test_t.append(bottom_transac)\n",
      "C:\\Users\\Hammozi\\AppData\\Local\\Temp\\ipykernel_22716\\801327109.py:7: FutureWarning: The frame.append method is deprecated and will be removed from pandas in a future version. Use pandas.concat instead.\n",
      "  test_t = test_t.append(bottom_transac)\n"
     ]
    },
    {
     "name": "stdout",
     "output_type": "stream",
     "text": [
      "306\n",
      "307\n",
      "308\n",
      "309\n"
     ]
    },
    {
     "name": "stderr",
     "output_type": "stream",
     "text": [
      "C:\\Users\\Hammozi\\AppData\\Local\\Temp\\ipykernel_22716\\801327109.py:7: FutureWarning: The frame.append method is deprecated and will be removed from pandas in a future version. Use pandas.concat instead.\n",
      "  test_t = test_t.append(bottom_transac)\n",
      "C:\\Users\\Hammozi\\AppData\\Local\\Temp\\ipykernel_22716\\801327109.py:7: FutureWarning: The frame.append method is deprecated and will be removed from pandas in a future version. Use pandas.concat instead.\n",
      "  test_t = test_t.append(bottom_transac)\n",
      "C:\\Users\\Hammozi\\AppData\\Local\\Temp\\ipykernel_22716\\801327109.py:7: FutureWarning: The frame.append method is deprecated and will be removed from pandas in a future version. Use pandas.concat instead.\n",
      "  test_t = test_t.append(bottom_transac)\n"
     ]
    },
    {
     "name": "stdout",
     "output_type": "stream",
     "text": [
      "310\n",
      "311\n",
      "312\n",
      "313\n"
     ]
    },
    {
     "name": "stderr",
     "output_type": "stream",
     "text": [
      "C:\\Users\\Hammozi\\AppData\\Local\\Temp\\ipykernel_22716\\801327109.py:7: FutureWarning: The frame.append method is deprecated and will be removed from pandas in a future version. Use pandas.concat instead.\n",
      "  test_t = test_t.append(bottom_transac)\n",
      "C:\\Users\\Hammozi\\AppData\\Local\\Temp\\ipykernel_22716\\801327109.py:7: FutureWarning: The frame.append method is deprecated and will be removed from pandas in a future version. Use pandas.concat instead.\n",
      "  test_t = test_t.append(bottom_transac)\n",
      "C:\\Users\\Hammozi\\AppData\\Local\\Temp\\ipykernel_22716\\801327109.py:7: FutureWarning: The frame.append method is deprecated and will be removed from pandas in a future version. Use pandas.concat instead.\n",
      "  test_t = test_t.append(bottom_transac)\n"
     ]
    },
    {
     "name": "stdout",
     "output_type": "stream",
     "text": [
      "314\n",
      "315\n",
      "316\n",
      "317\n"
     ]
    },
    {
     "name": "stderr",
     "output_type": "stream",
     "text": [
      "C:\\Users\\Hammozi\\AppData\\Local\\Temp\\ipykernel_22716\\801327109.py:7: FutureWarning: The frame.append method is deprecated and will be removed from pandas in a future version. Use pandas.concat instead.\n",
      "  test_t = test_t.append(bottom_transac)\n",
      "C:\\Users\\Hammozi\\AppData\\Local\\Temp\\ipykernel_22716\\801327109.py:7: FutureWarning: The frame.append method is deprecated and will be removed from pandas in a future version. Use pandas.concat instead.\n",
      "  test_t = test_t.append(bottom_transac)\n",
      "C:\\Users\\Hammozi\\AppData\\Local\\Temp\\ipykernel_22716\\801327109.py:7: FutureWarning: The frame.append method is deprecated and will be removed from pandas in a future version. Use pandas.concat instead.\n",
      "  test_t = test_t.append(bottom_transac)\n",
      "C:\\Users\\Hammozi\\AppData\\Local\\Temp\\ipykernel_22716\\801327109.py:7: FutureWarning: The frame.append method is deprecated and will be removed from pandas in a future version. Use pandas.concat instead.\n",
      "  test_t = test_t.append(bottom_transac)\n",
      "C:\\Users\\Hammozi\\AppData\\Local\\Temp\\ipykernel_22716\\801327109.py:7: FutureWarning: The frame.append method is deprecated and will be removed from pandas in a future version. Use pandas.concat instead.\n",
      "  test_t = test_t.append(bottom_transac)\n",
      "C:\\Users\\Hammozi\\AppData\\Local\\Temp\\ipykernel_22716\\801327109.py:7: FutureWarning: The frame.append method is deprecated and will be removed from pandas in a future version. Use pandas.concat instead.\n",
      "  test_t = test_t.append(bottom_transac)\n"
     ]
    },
    {
     "name": "stdout",
     "output_type": "stream",
     "text": [
      "318\n",
      "319\n",
      "320\n"
     ]
    },
    {
     "name": "stderr",
     "output_type": "stream",
     "text": [
      "C:\\Users\\Hammozi\\AppData\\Local\\Temp\\ipykernel_22716\\801327109.py:7: FutureWarning: The frame.append method is deprecated and will be removed from pandas in a future version. Use pandas.concat instead.\n",
      "  test_t = test_t.append(bottom_transac)\n",
      "C:\\Users\\Hammozi\\AppData\\Local\\Temp\\ipykernel_22716\\801327109.py:7: FutureWarning: The frame.append method is deprecated and will be removed from pandas in a future version. Use pandas.concat instead.\n",
      "  test_t = test_t.append(bottom_transac)\n",
      "C:\\Users\\Hammozi\\AppData\\Local\\Temp\\ipykernel_22716\\801327109.py:7: FutureWarning: The frame.append method is deprecated and will be removed from pandas in a future version. Use pandas.concat instead.\n",
      "  test_t = test_t.append(bottom_transac)\n"
     ]
    },
    {
     "name": "stdout",
     "output_type": "stream",
     "text": [
      "321\n",
      "322\n",
      "323\n",
      "324\n"
     ]
    },
    {
     "name": "stderr",
     "output_type": "stream",
     "text": [
      "C:\\Users\\Hammozi\\AppData\\Local\\Temp\\ipykernel_22716\\801327109.py:7: FutureWarning: The frame.append method is deprecated and will be removed from pandas in a future version. Use pandas.concat instead.\n",
      "  test_t = test_t.append(bottom_transac)\n",
      "C:\\Users\\Hammozi\\AppData\\Local\\Temp\\ipykernel_22716\\801327109.py:7: FutureWarning: The frame.append method is deprecated and will be removed from pandas in a future version. Use pandas.concat instead.\n",
      "  test_t = test_t.append(bottom_transac)\n",
      "C:\\Users\\Hammozi\\AppData\\Local\\Temp\\ipykernel_22716\\801327109.py:7: FutureWarning: The frame.append method is deprecated and will be removed from pandas in a future version. Use pandas.concat instead.\n",
      "  test_t = test_t.append(bottom_transac)\n"
     ]
    },
    {
     "name": "stdout",
     "output_type": "stream",
     "text": [
      "325\n",
      "326\n",
      "327\n",
      "328\n"
     ]
    },
    {
     "name": "stderr",
     "output_type": "stream",
     "text": [
      "C:\\Users\\Hammozi\\AppData\\Local\\Temp\\ipykernel_22716\\801327109.py:7: FutureWarning: The frame.append method is deprecated and will be removed from pandas in a future version. Use pandas.concat instead.\n",
      "  test_t = test_t.append(bottom_transac)\n",
      "C:\\Users\\Hammozi\\AppData\\Local\\Temp\\ipykernel_22716\\801327109.py:7: FutureWarning: The frame.append method is deprecated and will be removed from pandas in a future version. Use pandas.concat instead.\n",
      "  test_t = test_t.append(bottom_transac)\n",
      "C:\\Users\\Hammozi\\AppData\\Local\\Temp\\ipykernel_22716\\801327109.py:7: FutureWarning: The frame.append method is deprecated and will be removed from pandas in a future version. Use pandas.concat instead.\n",
      "  test_t = test_t.append(bottom_transac)\n"
     ]
    },
    {
     "name": "stdout",
     "output_type": "stream",
     "text": [
      "329\n",
      "330\n",
      "331\n",
      "332\n"
     ]
    },
    {
     "name": "stderr",
     "output_type": "stream",
     "text": [
      "C:\\Users\\Hammozi\\AppData\\Local\\Temp\\ipykernel_22716\\801327109.py:7: FutureWarning: The frame.append method is deprecated and will be removed from pandas in a future version. Use pandas.concat instead.\n",
      "  test_t = test_t.append(bottom_transac)\n",
      "C:\\Users\\Hammozi\\AppData\\Local\\Temp\\ipykernel_22716\\801327109.py:7: FutureWarning: The frame.append method is deprecated and will be removed from pandas in a future version. Use pandas.concat instead.\n",
      "  test_t = test_t.append(bottom_transac)\n",
      "C:\\Users\\Hammozi\\AppData\\Local\\Temp\\ipykernel_22716\\801327109.py:7: FutureWarning: The frame.append method is deprecated and will be removed from pandas in a future version. Use pandas.concat instead.\n",
      "  test_t = test_t.append(bottom_transac)\n",
      "C:\\Users\\Hammozi\\AppData\\Local\\Temp\\ipykernel_22716\\801327109.py:7: FutureWarning: The frame.append method is deprecated and will be removed from pandas in a future version. Use pandas.concat instead.\n",
      "  test_t = test_t.append(bottom_transac)\n",
      "C:\\Users\\Hammozi\\AppData\\Local\\Temp\\ipykernel_22716\\801327109.py:7: FutureWarning: The frame.append method is deprecated and will be removed from pandas in a future version. Use pandas.concat instead.\n",
      "  test_t = test_t.append(bottom_transac)\n",
      "C:\\Users\\Hammozi\\AppData\\Local\\Temp\\ipykernel_22716\\801327109.py:7: FutureWarning: The frame.append method is deprecated and will be removed from pandas in a future version. Use pandas.concat instead.\n",
      "  test_t = test_t.append(bottom_transac)\n"
     ]
    },
    {
     "name": "stdout",
     "output_type": "stream",
     "text": [
      "333\n",
      "334\n",
      "335\n",
      "336\n"
     ]
    },
    {
     "name": "stderr",
     "output_type": "stream",
     "text": [
      "C:\\Users\\Hammozi\\AppData\\Local\\Temp\\ipykernel_22716\\801327109.py:7: FutureWarning: The frame.append method is deprecated and will be removed from pandas in a future version. Use pandas.concat instead.\n",
      "  test_t = test_t.append(bottom_transac)\n",
      "C:\\Users\\Hammozi\\AppData\\Local\\Temp\\ipykernel_22716\\801327109.py:7: FutureWarning: The frame.append method is deprecated and will be removed from pandas in a future version. Use pandas.concat instead.\n",
      "  test_t = test_t.append(bottom_transac)\n",
      "C:\\Users\\Hammozi\\AppData\\Local\\Temp\\ipykernel_22716\\801327109.py:7: FutureWarning: The frame.append method is deprecated and will be removed from pandas in a future version. Use pandas.concat instead.\n",
      "  test_t = test_t.append(bottom_transac)\n"
     ]
    },
    {
     "name": "stdout",
     "output_type": "stream",
     "text": [
      "337\n",
      "338\n",
      "339\n",
      "340\n"
     ]
    },
    {
     "name": "stderr",
     "output_type": "stream",
     "text": [
      "C:\\Users\\Hammozi\\AppData\\Local\\Temp\\ipykernel_22716\\801327109.py:7: FutureWarning: The frame.append method is deprecated and will be removed from pandas in a future version. Use pandas.concat instead.\n",
      "  test_t = test_t.append(bottom_transac)\n",
      "C:\\Users\\Hammozi\\AppData\\Local\\Temp\\ipykernel_22716\\801327109.py:7: FutureWarning: The frame.append method is deprecated and will be removed from pandas in a future version. Use pandas.concat instead.\n",
      "  test_t = test_t.append(bottom_transac)\n",
      "C:\\Users\\Hammozi\\AppData\\Local\\Temp\\ipykernel_22716\\801327109.py:7: FutureWarning: The frame.append method is deprecated and will be removed from pandas in a future version. Use pandas.concat instead.\n",
      "  test_t = test_t.append(bottom_transac)\n"
     ]
    },
    {
     "name": "stdout",
     "output_type": "stream",
     "text": [
      "341\n",
      "342\n",
      "343\n",
      "344\n"
     ]
    },
    {
     "name": "stderr",
     "output_type": "stream",
     "text": [
      "C:\\Users\\Hammozi\\AppData\\Local\\Temp\\ipykernel_22716\\801327109.py:7: FutureWarning: The frame.append method is deprecated and will be removed from pandas in a future version. Use pandas.concat instead.\n",
      "  test_t = test_t.append(bottom_transac)\n",
      "C:\\Users\\Hammozi\\AppData\\Local\\Temp\\ipykernel_22716\\801327109.py:7: FutureWarning: The frame.append method is deprecated and will be removed from pandas in a future version. Use pandas.concat instead.\n",
      "  test_t = test_t.append(bottom_transac)\n",
      "C:\\Users\\Hammozi\\AppData\\Local\\Temp\\ipykernel_22716\\801327109.py:7: FutureWarning: The frame.append method is deprecated and will be removed from pandas in a future version. Use pandas.concat instead.\n",
      "  test_t = test_t.append(bottom_transac)\n",
      "C:\\Users\\Hammozi\\AppData\\Local\\Temp\\ipykernel_22716\\801327109.py:7: FutureWarning: The frame.append method is deprecated and will be removed from pandas in a future version. Use pandas.concat instead.\n",
      "  test_t = test_t.append(bottom_transac)\n",
      "C:\\Users\\Hammozi\\AppData\\Local\\Temp\\ipykernel_22716\\801327109.py:7: FutureWarning: The frame.append method is deprecated and will be removed from pandas in a future version. Use pandas.concat instead.\n",
      "  test_t = test_t.append(bottom_transac)\n",
      "C:\\Users\\Hammozi\\AppData\\Local\\Temp\\ipykernel_22716\\801327109.py:7: FutureWarning: The frame.append method is deprecated and will be removed from pandas in a future version. Use pandas.concat instead.\n",
      "  test_t = test_t.append(bottom_transac)\n"
     ]
    },
    {
     "name": "stdout",
     "output_type": "stream",
     "text": [
      "345\n",
      "346\n",
      "347\n",
      "348\n"
     ]
    },
    {
     "name": "stderr",
     "output_type": "stream",
     "text": [
      "C:\\Users\\Hammozi\\AppData\\Local\\Temp\\ipykernel_22716\\801327109.py:7: FutureWarning: The frame.append method is deprecated and will be removed from pandas in a future version. Use pandas.concat instead.\n",
      "  test_t = test_t.append(bottom_transac)\n",
      "C:\\Users\\Hammozi\\AppData\\Local\\Temp\\ipykernel_22716\\801327109.py:7: FutureWarning: The frame.append method is deprecated and will be removed from pandas in a future version. Use pandas.concat instead.\n",
      "  test_t = test_t.append(bottom_transac)\n",
      "C:\\Users\\Hammozi\\AppData\\Local\\Temp\\ipykernel_22716\\801327109.py:7: FutureWarning: The frame.append method is deprecated and will be removed from pandas in a future version. Use pandas.concat instead.\n",
      "  test_t = test_t.append(bottom_transac)\n"
     ]
    },
    {
     "name": "stdout",
     "output_type": "stream",
     "text": [
      "349\n",
      "350\n",
      "351\n",
      "352\n"
     ]
    },
    {
     "name": "stderr",
     "output_type": "stream",
     "text": [
      "C:\\Users\\Hammozi\\AppData\\Local\\Temp\\ipykernel_22716\\801327109.py:7: FutureWarning: The frame.append method is deprecated and will be removed from pandas in a future version. Use pandas.concat instead.\n",
      "  test_t = test_t.append(bottom_transac)\n",
      "C:\\Users\\Hammozi\\AppData\\Local\\Temp\\ipykernel_22716\\801327109.py:7: FutureWarning: The frame.append method is deprecated and will be removed from pandas in a future version. Use pandas.concat instead.\n",
      "  test_t = test_t.append(bottom_transac)\n",
      "C:\\Users\\Hammozi\\AppData\\Local\\Temp\\ipykernel_22716\\801327109.py:7: FutureWarning: The frame.append method is deprecated and will be removed from pandas in a future version. Use pandas.concat instead.\n",
      "  test_t = test_t.append(bottom_transac)\n"
     ]
    },
    {
     "name": "stdout",
     "output_type": "stream",
     "text": [
      "353\n",
      "354\n",
      "355\n",
      "356\n"
     ]
    },
    {
     "name": "stderr",
     "output_type": "stream",
     "text": [
      "C:\\Users\\Hammozi\\AppData\\Local\\Temp\\ipykernel_22716\\801327109.py:7: FutureWarning: The frame.append method is deprecated and will be removed from pandas in a future version. Use pandas.concat instead.\n",
      "  test_t = test_t.append(bottom_transac)\n",
      "C:\\Users\\Hammozi\\AppData\\Local\\Temp\\ipykernel_22716\\801327109.py:7: FutureWarning: The frame.append method is deprecated and will be removed from pandas in a future version. Use pandas.concat instead.\n",
      "  test_t = test_t.append(bottom_transac)\n",
      "C:\\Users\\Hammozi\\AppData\\Local\\Temp\\ipykernel_22716\\801327109.py:7: FutureWarning: The frame.append method is deprecated and will be removed from pandas in a future version. Use pandas.concat instead.\n",
      "  test_t = test_t.append(bottom_transac)\n",
      "C:\\Users\\Hammozi\\AppData\\Local\\Temp\\ipykernel_22716\\801327109.py:7: FutureWarning: The frame.append method is deprecated and will be removed from pandas in a future version. Use pandas.concat instead.\n",
      "  test_t = test_t.append(bottom_transac)\n",
      "C:\\Users\\Hammozi\\AppData\\Local\\Temp\\ipykernel_22716\\801327109.py:7: FutureWarning: The frame.append method is deprecated and will be removed from pandas in a future version. Use pandas.concat instead.\n",
      "  test_t = test_t.append(bottom_transac)\n",
      "C:\\Users\\Hammozi\\AppData\\Local\\Temp\\ipykernel_22716\\801327109.py:7: FutureWarning: The frame.append method is deprecated and will be removed from pandas in a future version. Use pandas.concat instead.\n",
      "  test_t = test_t.append(bottom_transac)\n"
     ]
    },
    {
     "name": "stdout",
     "output_type": "stream",
     "text": [
      "357\n",
      "358\n",
      "359\n",
      "360\n"
     ]
    },
    {
     "name": "stderr",
     "output_type": "stream",
     "text": [
      "C:\\Users\\Hammozi\\AppData\\Local\\Temp\\ipykernel_22716\\801327109.py:7: FutureWarning: The frame.append method is deprecated and will be removed from pandas in a future version. Use pandas.concat instead.\n",
      "  test_t = test_t.append(bottom_transac)\n",
      "C:\\Users\\Hammozi\\AppData\\Local\\Temp\\ipykernel_22716\\801327109.py:7: FutureWarning: The frame.append method is deprecated and will be removed from pandas in a future version. Use pandas.concat instead.\n",
      "  test_t = test_t.append(bottom_transac)\n",
      "C:\\Users\\Hammozi\\AppData\\Local\\Temp\\ipykernel_22716\\801327109.py:7: FutureWarning: The frame.append method is deprecated and will be removed from pandas in a future version. Use pandas.concat instead.\n",
      "  test_t = test_t.append(bottom_transac)\n"
     ]
    },
    {
     "name": "stdout",
     "output_type": "stream",
     "text": [
      "361\n",
      "362\n",
      "363\n",
      "364\n"
     ]
    },
    {
     "name": "stderr",
     "output_type": "stream",
     "text": [
      "C:\\Users\\Hammozi\\AppData\\Local\\Temp\\ipykernel_22716\\801327109.py:7: FutureWarning: The frame.append method is deprecated and will be removed from pandas in a future version. Use pandas.concat instead.\n",
      "  test_t = test_t.append(bottom_transac)\n",
      "C:\\Users\\Hammozi\\AppData\\Local\\Temp\\ipykernel_22716\\801327109.py:7: FutureWarning: The frame.append method is deprecated and will be removed from pandas in a future version. Use pandas.concat instead.\n",
      "  test_t = test_t.append(bottom_transac)\n",
      "C:\\Users\\Hammozi\\AppData\\Local\\Temp\\ipykernel_22716\\801327109.py:7: FutureWarning: The frame.append method is deprecated and will be removed from pandas in a future version. Use pandas.concat instead.\n",
      "  test_t = test_t.append(bottom_transac)\n"
     ]
    },
    {
     "name": "stdout",
     "output_type": "stream",
     "text": [
      "365\n",
      "366\n",
      "367\n",
      "368\n"
     ]
    },
    {
     "name": "stderr",
     "output_type": "stream",
     "text": [
      "C:\\Users\\Hammozi\\AppData\\Local\\Temp\\ipykernel_22716\\801327109.py:7: FutureWarning: The frame.append method is deprecated and will be removed from pandas in a future version. Use pandas.concat instead.\n",
      "  test_t = test_t.append(bottom_transac)\n",
      "C:\\Users\\Hammozi\\AppData\\Local\\Temp\\ipykernel_22716\\801327109.py:7: FutureWarning: The frame.append method is deprecated and will be removed from pandas in a future version. Use pandas.concat instead.\n",
      "  test_t = test_t.append(bottom_transac)\n",
      "C:\\Users\\Hammozi\\AppData\\Local\\Temp\\ipykernel_22716\\801327109.py:7: FutureWarning: The frame.append method is deprecated and will be removed from pandas in a future version. Use pandas.concat instead.\n",
      "  test_t = test_t.append(bottom_transac)\n",
      "C:\\Users\\Hammozi\\AppData\\Local\\Temp\\ipykernel_22716\\801327109.py:7: FutureWarning: The frame.append method is deprecated and will be removed from pandas in a future version. Use pandas.concat instead.\n",
      "  test_t = test_t.append(bottom_transac)\n",
      "C:\\Users\\Hammozi\\AppData\\Local\\Temp\\ipykernel_22716\\801327109.py:7: FutureWarning: The frame.append method is deprecated and will be removed from pandas in a future version. Use pandas.concat instead.\n",
      "  test_t = test_t.append(bottom_transac)\n",
      "C:\\Users\\Hammozi\\AppData\\Local\\Temp\\ipykernel_22716\\801327109.py:7: FutureWarning: The frame.append method is deprecated and will be removed from pandas in a future version. Use pandas.concat instead.\n",
      "  test_t = test_t.append(bottom_transac)\n"
     ]
    },
    {
     "name": "stdout",
     "output_type": "stream",
     "text": [
      "369\n",
      "370\n",
      "371\n",
      "372\n"
     ]
    },
    {
     "name": "stderr",
     "output_type": "stream",
     "text": [
      "C:\\Users\\Hammozi\\AppData\\Local\\Temp\\ipykernel_22716\\801327109.py:7: FutureWarning: The frame.append method is deprecated and will be removed from pandas in a future version. Use pandas.concat instead.\n",
      "  test_t = test_t.append(bottom_transac)\n",
      "C:\\Users\\Hammozi\\AppData\\Local\\Temp\\ipykernel_22716\\801327109.py:7: FutureWarning: The frame.append method is deprecated and will be removed from pandas in a future version. Use pandas.concat instead.\n",
      "  test_t = test_t.append(bottom_transac)\n",
      "C:\\Users\\Hammozi\\AppData\\Local\\Temp\\ipykernel_22716\\801327109.py:7: FutureWarning: The frame.append method is deprecated and will be removed from pandas in a future version. Use pandas.concat instead.\n",
      "  test_t = test_t.append(bottom_transac)\n"
     ]
    },
    {
     "name": "stdout",
     "output_type": "stream",
     "text": [
      "373\n",
      "374\n",
      "375\n",
      "376\n"
     ]
    },
    {
     "name": "stderr",
     "output_type": "stream",
     "text": [
      "C:\\Users\\Hammozi\\AppData\\Local\\Temp\\ipykernel_22716\\801327109.py:7: FutureWarning: The frame.append method is deprecated and will be removed from pandas in a future version. Use pandas.concat instead.\n",
      "  test_t = test_t.append(bottom_transac)\n",
      "C:\\Users\\Hammozi\\AppData\\Local\\Temp\\ipykernel_22716\\801327109.py:7: FutureWarning: The frame.append method is deprecated and will be removed from pandas in a future version. Use pandas.concat instead.\n",
      "  test_t = test_t.append(bottom_transac)\n",
      "C:\\Users\\Hammozi\\AppData\\Local\\Temp\\ipykernel_22716\\801327109.py:7: FutureWarning: The frame.append method is deprecated and will be removed from pandas in a future version. Use pandas.concat instead.\n",
      "  test_t = test_t.append(bottom_transac)\n"
     ]
    },
    {
     "name": "stdout",
     "output_type": "stream",
     "text": [
      "377\n",
      "378\n",
      "379\n",
      "380\n"
     ]
    },
    {
     "name": "stderr",
     "output_type": "stream",
     "text": [
      "C:\\Users\\Hammozi\\AppData\\Local\\Temp\\ipykernel_22716\\801327109.py:7: FutureWarning: The frame.append method is deprecated and will be removed from pandas in a future version. Use pandas.concat instead.\n",
      "  test_t = test_t.append(bottom_transac)\n",
      "C:\\Users\\Hammozi\\AppData\\Local\\Temp\\ipykernel_22716\\801327109.py:7: FutureWarning: The frame.append method is deprecated and will be removed from pandas in a future version. Use pandas.concat instead.\n",
      "  test_t = test_t.append(bottom_transac)\n",
      "C:\\Users\\Hammozi\\AppData\\Local\\Temp\\ipykernel_22716\\801327109.py:7: FutureWarning: The frame.append method is deprecated and will be removed from pandas in a future version. Use pandas.concat instead.\n",
      "  test_t = test_t.append(bottom_transac)\n",
      "C:\\Users\\Hammozi\\AppData\\Local\\Temp\\ipykernel_22716\\801327109.py:7: FutureWarning: The frame.append method is deprecated and will be removed from pandas in a future version. Use pandas.concat instead.\n",
      "  test_t = test_t.append(bottom_transac)\n",
      "C:\\Users\\Hammozi\\AppData\\Local\\Temp\\ipykernel_22716\\801327109.py:7: FutureWarning: The frame.append method is deprecated and will be removed from pandas in a future version. Use pandas.concat instead.\n",
      "  test_t = test_t.append(bottom_transac)\n",
      "C:\\Users\\Hammozi\\AppData\\Local\\Temp\\ipykernel_22716\\801327109.py:7: FutureWarning: The frame.append method is deprecated and will be removed from pandas in a future version. Use pandas.concat instead.\n",
      "  test_t = test_t.append(bottom_transac)\n"
     ]
    },
    {
     "name": "stdout",
     "output_type": "stream",
     "text": [
      "381\n",
      "382\n",
      "383\n",
      "384\n"
     ]
    },
    {
     "name": "stderr",
     "output_type": "stream",
     "text": [
      "C:\\Users\\Hammozi\\AppData\\Local\\Temp\\ipykernel_22716\\801327109.py:7: FutureWarning: The frame.append method is deprecated and will be removed from pandas in a future version. Use pandas.concat instead.\n",
      "  test_t = test_t.append(bottom_transac)\n",
      "C:\\Users\\Hammozi\\AppData\\Local\\Temp\\ipykernel_22716\\801327109.py:7: FutureWarning: The frame.append method is deprecated and will be removed from pandas in a future version. Use pandas.concat instead.\n",
      "  test_t = test_t.append(bottom_transac)\n",
      "C:\\Users\\Hammozi\\AppData\\Local\\Temp\\ipykernel_22716\\801327109.py:7: FutureWarning: The frame.append method is deprecated and will be removed from pandas in a future version. Use pandas.concat instead.\n",
      "  test_t = test_t.append(bottom_transac)\n"
     ]
    },
    {
     "name": "stdout",
     "output_type": "stream",
     "text": [
      "385\n",
      "386\n",
      "387\n"
     ]
    },
    {
     "name": "stderr",
     "output_type": "stream",
     "text": [
      "C:\\Users\\Hammozi\\AppData\\Local\\Temp\\ipykernel_22716\\801327109.py:7: FutureWarning: The frame.append method is deprecated and will be removed from pandas in a future version. Use pandas.concat instead.\n",
      "  test_t = test_t.append(bottom_transac)\n",
      "C:\\Users\\Hammozi\\AppData\\Local\\Temp\\ipykernel_22716\\801327109.py:7: FutureWarning: The frame.append method is deprecated and will be removed from pandas in a future version. Use pandas.concat instead.\n",
      "  test_t = test_t.append(bottom_transac)\n",
      "C:\\Users\\Hammozi\\AppData\\Local\\Temp\\ipykernel_22716\\801327109.py:7: FutureWarning: The frame.append method is deprecated and will be removed from pandas in a future version. Use pandas.concat instead.\n",
      "  test_t = test_t.append(bottom_transac)\n"
     ]
    },
    {
     "name": "stdout",
     "output_type": "stream",
     "text": [
      "388\n",
      "389\n",
      "390\n",
      "391\n"
     ]
    },
    {
     "name": "stderr",
     "output_type": "stream",
     "text": [
      "C:\\Users\\Hammozi\\AppData\\Local\\Temp\\ipykernel_22716\\801327109.py:7: FutureWarning: The frame.append method is deprecated and will be removed from pandas in a future version. Use pandas.concat instead.\n",
      "  test_t = test_t.append(bottom_transac)\n",
      "C:\\Users\\Hammozi\\AppData\\Local\\Temp\\ipykernel_22716\\801327109.py:7: FutureWarning: The frame.append method is deprecated and will be removed from pandas in a future version. Use pandas.concat instead.\n",
      "  test_t = test_t.append(bottom_transac)\n",
      "C:\\Users\\Hammozi\\AppData\\Local\\Temp\\ipykernel_22716\\801327109.py:7: FutureWarning: The frame.append method is deprecated and will be removed from pandas in a future version. Use pandas.concat instead.\n",
      "  test_t = test_t.append(bottom_transac)\n"
     ]
    },
    {
     "name": "stdout",
     "output_type": "stream",
     "text": [
      "392\n",
      "393\n",
      "394\n",
      "395\n"
     ]
    },
    {
     "name": "stderr",
     "output_type": "stream",
     "text": [
      "C:\\Users\\Hammozi\\AppData\\Local\\Temp\\ipykernel_22716\\801327109.py:7: FutureWarning: The frame.append method is deprecated and will be removed from pandas in a future version. Use pandas.concat instead.\n",
      "  test_t = test_t.append(bottom_transac)\n",
      "C:\\Users\\Hammozi\\AppData\\Local\\Temp\\ipykernel_22716\\801327109.py:7: FutureWarning: The frame.append method is deprecated and will be removed from pandas in a future version. Use pandas.concat instead.\n",
      "  test_t = test_t.append(bottom_transac)\n",
      "C:\\Users\\Hammozi\\AppData\\Local\\Temp\\ipykernel_22716\\801327109.py:7: FutureWarning: The frame.append method is deprecated and will be removed from pandas in a future version. Use pandas.concat instead.\n",
      "  test_t = test_t.append(bottom_transac)\n",
      "C:\\Users\\Hammozi\\AppData\\Local\\Temp\\ipykernel_22716\\801327109.py:7: FutureWarning: The frame.append method is deprecated and will be removed from pandas in a future version. Use pandas.concat instead.\n",
      "  test_t = test_t.append(bottom_transac)\n",
      "C:\\Users\\Hammozi\\AppData\\Local\\Temp\\ipykernel_22716\\801327109.py:7: FutureWarning: The frame.append method is deprecated and will be removed from pandas in a future version. Use pandas.concat instead.\n",
      "  test_t = test_t.append(bottom_transac)\n",
      "C:\\Users\\Hammozi\\AppData\\Local\\Temp\\ipykernel_22716\\801327109.py:7: FutureWarning: The frame.append method is deprecated and will be removed from pandas in a future version. Use pandas.concat instead.\n",
      "  test_t = test_t.append(bottom_transac)\n"
     ]
    },
    {
     "name": "stdout",
     "output_type": "stream",
     "text": [
      "396\n",
      "397\n",
      "398\n",
      "399\n"
     ]
    },
    {
     "name": "stderr",
     "output_type": "stream",
     "text": [
      "C:\\Users\\Hammozi\\AppData\\Local\\Temp\\ipykernel_22716\\801327109.py:7: FutureWarning: The frame.append method is deprecated and will be removed from pandas in a future version. Use pandas.concat instead.\n",
      "  test_t = test_t.append(bottom_transac)\n",
      "C:\\Users\\Hammozi\\AppData\\Local\\Temp\\ipykernel_22716\\801327109.py:7: FutureWarning: The frame.append method is deprecated and will be removed from pandas in a future version. Use pandas.concat instead.\n",
      "  test_t = test_t.append(bottom_transac)\n",
      "C:\\Users\\Hammozi\\AppData\\Local\\Temp\\ipykernel_22716\\801327109.py:7: FutureWarning: The frame.append method is deprecated and will be removed from pandas in a future version. Use pandas.concat instead.\n",
      "  test_t = test_t.append(bottom_transac)\n"
     ]
    },
    {
     "name": "stdout",
     "output_type": "stream",
     "text": [
      "400\n",
      "401\n",
      "402\n",
      "403\n"
     ]
    },
    {
     "name": "stderr",
     "output_type": "stream",
     "text": [
      "C:\\Users\\Hammozi\\AppData\\Local\\Temp\\ipykernel_22716\\801327109.py:7: FutureWarning: The frame.append method is deprecated and will be removed from pandas in a future version. Use pandas.concat instead.\n",
      "  test_t = test_t.append(bottom_transac)\n",
      "C:\\Users\\Hammozi\\AppData\\Local\\Temp\\ipykernel_22716\\801327109.py:7: FutureWarning: The frame.append method is deprecated and will be removed from pandas in a future version. Use pandas.concat instead.\n",
      "  test_t = test_t.append(bottom_transac)\n",
      "C:\\Users\\Hammozi\\AppData\\Local\\Temp\\ipykernel_22716\\801327109.py:7: FutureWarning: The frame.append method is deprecated and will be removed from pandas in a future version. Use pandas.concat instead.\n",
      "  test_t = test_t.append(bottom_transac)\n"
     ]
    },
    {
     "name": "stdout",
     "output_type": "stream",
     "text": [
      "404\n",
      "405\n",
      "406\n",
      "407\n"
     ]
    },
    {
     "name": "stderr",
     "output_type": "stream",
     "text": [
      "C:\\Users\\Hammozi\\AppData\\Local\\Temp\\ipykernel_22716\\801327109.py:7: FutureWarning: The frame.append method is deprecated and will be removed from pandas in a future version. Use pandas.concat instead.\n",
      "  test_t = test_t.append(bottom_transac)\n",
      "C:\\Users\\Hammozi\\AppData\\Local\\Temp\\ipykernel_22716\\801327109.py:7: FutureWarning: The frame.append method is deprecated and will be removed from pandas in a future version. Use pandas.concat instead.\n",
      "  test_t = test_t.append(bottom_transac)\n",
      "C:\\Users\\Hammozi\\AppData\\Local\\Temp\\ipykernel_22716\\801327109.py:7: FutureWarning: The frame.append method is deprecated and will be removed from pandas in a future version. Use pandas.concat instead.\n",
      "  test_t = test_t.append(bottom_transac)\n",
      "C:\\Users\\Hammozi\\AppData\\Local\\Temp\\ipykernel_22716\\801327109.py:7: FutureWarning: The frame.append method is deprecated and will be removed from pandas in a future version. Use pandas.concat instead.\n",
      "  test_t = test_t.append(bottom_transac)\n",
      "C:\\Users\\Hammozi\\AppData\\Local\\Temp\\ipykernel_22716\\801327109.py:7: FutureWarning: The frame.append method is deprecated and will be removed from pandas in a future version. Use pandas.concat instead.\n",
      "  test_t = test_t.append(bottom_transac)\n",
      "C:\\Users\\Hammozi\\AppData\\Local\\Temp\\ipykernel_22716\\801327109.py:7: FutureWarning: The frame.append method is deprecated and will be removed from pandas in a future version. Use pandas.concat instead.\n",
      "  test_t = test_t.append(bottom_transac)\n"
     ]
    },
    {
     "name": "stdout",
     "output_type": "stream",
     "text": [
      "408\n",
      "409\n",
      "410\n",
      "411\n"
     ]
    },
    {
     "name": "stderr",
     "output_type": "stream",
     "text": [
      "C:\\Users\\Hammozi\\AppData\\Local\\Temp\\ipykernel_22716\\801327109.py:7: FutureWarning: The frame.append method is deprecated and will be removed from pandas in a future version. Use pandas.concat instead.\n",
      "  test_t = test_t.append(bottom_transac)\n",
      "C:\\Users\\Hammozi\\AppData\\Local\\Temp\\ipykernel_22716\\801327109.py:7: FutureWarning: The frame.append method is deprecated and will be removed from pandas in a future version. Use pandas.concat instead.\n",
      "  test_t = test_t.append(bottom_transac)\n",
      "C:\\Users\\Hammozi\\AppData\\Local\\Temp\\ipykernel_22716\\801327109.py:7: FutureWarning: The frame.append method is deprecated and will be removed from pandas in a future version. Use pandas.concat instead.\n",
      "  test_t = test_t.append(bottom_transac)\n"
     ]
    },
    {
     "name": "stdout",
     "output_type": "stream",
     "text": [
      "412\n",
      "413\n",
      "414\n",
      "415\n"
     ]
    },
    {
     "name": "stderr",
     "output_type": "stream",
     "text": [
      "C:\\Users\\Hammozi\\AppData\\Local\\Temp\\ipykernel_22716\\801327109.py:7: FutureWarning: The frame.append method is deprecated and will be removed from pandas in a future version. Use pandas.concat instead.\n",
      "  test_t = test_t.append(bottom_transac)\n",
      "C:\\Users\\Hammozi\\AppData\\Local\\Temp\\ipykernel_22716\\801327109.py:7: FutureWarning: The frame.append method is deprecated and will be removed from pandas in a future version. Use pandas.concat instead.\n",
      "  test_t = test_t.append(bottom_transac)\n",
      "C:\\Users\\Hammozi\\AppData\\Local\\Temp\\ipykernel_22716\\801327109.py:7: FutureWarning: The frame.append method is deprecated and will be removed from pandas in a future version. Use pandas.concat instead.\n",
      "  test_t = test_t.append(bottom_transac)\n"
     ]
    },
    {
     "name": "stdout",
     "output_type": "stream",
     "text": [
      "416\n",
      "417\n",
      "418\n",
      "419\n"
     ]
    },
    {
     "name": "stderr",
     "output_type": "stream",
     "text": [
      "C:\\Users\\Hammozi\\AppData\\Local\\Temp\\ipykernel_22716\\801327109.py:7: FutureWarning: The frame.append method is deprecated and will be removed from pandas in a future version. Use pandas.concat instead.\n",
      "  test_t = test_t.append(bottom_transac)\n",
      "C:\\Users\\Hammozi\\AppData\\Local\\Temp\\ipykernel_22716\\801327109.py:7: FutureWarning: The frame.append method is deprecated and will be removed from pandas in a future version. Use pandas.concat instead.\n",
      "  test_t = test_t.append(bottom_transac)\n",
      "C:\\Users\\Hammozi\\AppData\\Local\\Temp\\ipykernel_22716\\801327109.py:7: FutureWarning: The frame.append method is deprecated and will be removed from pandas in a future version. Use pandas.concat instead.\n",
      "  test_t = test_t.append(bottom_transac)\n",
      "C:\\Users\\Hammozi\\AppData\\Local\\Temp\\ipykernel_22716\\801327109.py:7: FutureWarning: The frame.append method is deprecated and will be removed from pandas in a future version. Use pandas.concat instead.\n",
      "  test_t = test_t.append(bottom_transac)\n",
      "C:\\Users\\Hammozi\\AppData\\Local\\Temp\\ipykernel_22716\\801327109.py:7: FutureWarning: The frame.append method is deprecated and will be removed from pandas in a future version. Use pandas.concat instead.\n",
      "  test_t = test_t.append(bottom_transac)\n",
      "C:\\Users\\Hammozi\\AppData\\Local\\Temp\\ipykernel_22716\\801327109.py:7: FutureWarning: The frame.append method is deprecated and will be removed from pandas in a future version. Use pandas.concat instead.\n",
      "  test_t = test_t.append(bottom_transac)\n"
     ]
    },
    {
     "name": "stdout",
     "output_type": "stream",
     "text": [
      "420\n",
      "421\n",
      "422\n",
      "423\n"
     ]
    },
    {
     "name": "stderr",
     "output_type": "stream",
     "text": [
      "C:\\Users\\Hammozi\\AppData\\Local\\Temp\\ipykernel_22716\\801327109.py:7: FutureWarning: The frame.append method is deprecated and will be removed from pandas in a future version. Use pandas.concat instead.\n",
      "  test_t = test_t.append(bottom_transac)\n",
      "C:\\Users\\Hammozi\\AppData\\Local\\Temp\\ipykernel_22716\\801327109.py:7: FutureWarning: The frame.append method is deprecated and will be removed from pandas in a future version. Use pandas.concat instead.\n",
      "  test_t = test_t.append(bottom_transac)\n",
      "C:\\Users\\Hammozi\\AppData\\Local\\Temp\\ipykernel_22716\\801327109.py:7: FutureWarning: The frame.append method is deprecated and will be removed from pandas in a future version. Use pandas.concat instead.\n",
      "  test_t = test_t.append(bottom_transac)\n"
     ]
    },
    {
     "name": "stdout",
     "output_type": "stream",
     "text": [
      "424\n",
      "425\n",
      "426\n",
      "427\n"
     ]
    },
    {
     "name": "stderr",
     "output_type": "stream",
     "text": [
      "C:\\Users\\Hammozi\\AppData\\Local\\Temp\\ipykernel_22716\\801327109.py:7: FutureWarning: The frame.append method is deprecated and will be removed from pandas in a future version. Use pandas.concat instead.\n",
      "  test_t = test_t.append(bottom_transac)\n",
      "C:\\Users\\Hammozi\\AppData\\Local\\Temp\\ipykernel_22716\\801327109.py:7: FutureWarning: The frame.append method is deprecated and will be removed from pandas in a future version. Use pandas.concat instead.\n",
      "  test_t = test_t.append(bottom_transac)\n",
      "C:\\Users\\Hammozi\\AppData\\Local\\Temp\\ipykernel_22716\\801327109.py:7: FutureWarning: The frame.append method is deprecated and will be removed from pandas in a future version. Use pandas.concat instead.\n",
      "  test_t = test_t.append(bottom_transac)\n"
     ]
    },
    {
     "name": "stdout",
     "output_type": "stream",
     "text": [
      "428\n",
      "429\n",
      "430\n",
      "431\n"
     ]
    },
    {
     "name": "stderr",
     "output_type": "stream",
     "text": [
      "C:\\Users\\Hammozi\\AppData\\Local\\Temp\\ipykernel_22716\\801327109.py:7: FutureWarning: The frame.append method is deprecated and will be removed from pandas in a future version. Use pandas.concat instead.\n",
      "  test_t = test_t.append(bottom_transac)\n",
      "C:\\Users\\Hammozi\\AppData\\Local\\Temp\\ipykernel_22716\\801327109.py:7: FutureWarning: The frame.append method is deprecated and will be removed from pandas in a future version. Use pandas.concat instead.\n",
      "  test_t = test_t.append(bottom_transac)\n",
      "C:\\Users\\Hammozi\\AppData\\Local\\Temp\\ipykernel_22716\\801327109.py:7: FutureWarning: The frame.append method is deprecated and will be removed from pandas in a future version. Use pandas.concat instead.\n",
      "  test_t = test_t.append(bottom_transac)\n",
      "C:\\Users\\Hammozi\\AppData\\Local\\Temp\\ipykernel_22716\\801327109.py:7: FutureWarning: The frame.append method is deprecated and will be removed from pandas in a future version. Use pandas.concat instead.\n",
      "  test_t = test_t.append(bottom_transac)\n",
      "C:\\Users\\Hammozi\\AppData\\Local\\Temp\\ipykernel_22716\\801327109.py:7: FutureWarning: The frame.append method is deprecated and will be removed from pandas in a future version. Use pandas.concat instead.\n",
      "  test_t = test_t.append(bottom_transac)\n",
      "C:\\Users\\Hammozi\\AppData\\Local\\Temp\\ipykernel_22716\\801327109.py:7: FutureWarning: The frame.append method is deprecated and will be removed from pandas in a future version. Use pandas.concat instead.\n",
      "  test_t = test_t.append(bottom_transac)\n"
     ]
    },
    {
     "name": "stdout",
     "output_type": "stream",
     "text": [
      "432\n",
      "433\n",
      "434\n",
      "435\n"
     ]
    },
    {
     "name": "stderr",
     "output_type": "stream",
     "text": [
      "C:\\Users\\Hammozi\\AppData\\Local\\Temp\\ipykernel_22716\\801327109.py:7: FutureWarning: The frame.append method is deprecated and will be removed from pandas in a future version. Use pandas.concat instead.\n",
      "  test_t = test_t.append(bottom_transac)\n",
      "C:\\Users\\Hammozi\\AppData\\Local\\Temp\\ipykernel_22716\\801327109.py:7: FutureWarning: The frame.append method is deprecated and will be removed from pandas in a future version. Use pandas.concat instead.\n",
      "  test_t = test_t.append(bottom_transac)\n",
      "C:\\Users\\Hammozi\\AppData\\Local\\Temp\\ipykernel_22716\\801327109.py:7: FutureWarning: The frame.append method is deprecated and will be removed from pandas in a future version. Use pandas.concat instead.\n",
      "  test_t = test_t.append(bottom_transac)\n"
     ]
    },
    {
     "name": "stdout",
     "output_type": "stream",
     "text": [
      "436\n",
      "437\n",
      "438\n",
      "439\n"
     ]
    },
    {
     "name": "stderr",
     "output_type": "stream",
     "text": [
      "C:\\Users\\Hammozi\\AppData\\Local\\Temp\\ipykernel_22716\\801327109.py:7: FutureWarning: The frame.append method is deprecated and will be removed from pandas in a future version. Use pandas.concat instead.\n",
      "  test_t = test_t.append(bottom_transac)\n",
      "C:\\Users\\Hammozi\\AppData\\Local\\Temp\\ipykernel_22716\\801327109.py:7: FutureWarning: The frame.append method is deprecated and will be removed from pandas in a future version. Use pandas.concat instead.\n",
      "  test_t = test_t.append(bottom_transac)\n",
      "C:\\Users\\Hammozi\\AppData\\Local\\Temp\\ipykernel_22716\\801327109.py:7: FutureWarning: The frame.append method is deprecated and will be removed from pandas in a future version. Use pandas.concat instead.\n",
      "  test_t = test_t.append(bottom_transac)\n"
     ]
    },
    {
     "name": "stdout",
     "output_type": "stream",
     "text": [
      "440\n",
      "441\n",
      "442\n",
      "443\n"
     ]
    },
    {
     "name": "stderr",
     "output_type": "stream",
     "text": [
      "C:\\Users\\Hammozi\\AppData\\Local\\Temp\\ipykernel_22716\\801327109.py:7: FutureWarning: The frame.append method is deprecated and will be removed from pandas in a future version. Use pandas.concat instead.\n",
      "  test_t = test_t.append(bottom_transac)\n",
      "C:\\Users\\Hammozi\\AppData\\Local\\Temp\\ipykernel_22716\\801327109.py:7: FutureWarning: The frame.append method is deprecated and will be removed from pandas in a future version. Use pandas.concat instead.\n",
      "  test_t = test_t.append(bottom_transac)\n",
      "C:\\Users\\Hammozi\\AppData\\Local\\Temp\\ipykernel_22716\\801327109.py:7: FutureWarning: The frame.append method is deprecated and will be removed from pandas in a future version. Use pandas.concat instead.\n",
      "  test_t = test_t.append(bottom_transac)\n",
      "C:\\Users\\Hammozi\\AppData\\Local\\Temp\\ipykernel_22716\\801327109.py:7: FutureWarning: The frame.append method is deprecated and will be removed from pandas in a future version. Use pandas.concat instead.\n",
      "  test_t = test_t.append(bottom_transac)\n",
      "C:\\Users\\Hammozi\\AppData\\Local\\Temp\\ipykernel_22716\\801327109.py:7: FutureWarning: The frame.append method is deprecated and will be removed from pandas in a future version. Use pandas.concat instead.\n",
      "  test_t = test_t.append(bottom_transac)\n",
      "C:\\Users\\Hammozi\\AppData\\Local\\Temp\\ipykernel_22716\\801327109.py:7: FutureWarning: The frame.append method is deprecated and will be removed from pandas in a future version. Use pandas.concat instead.\n",
      "  test_t = test_t.append(bottom_transac)\n"
     ]
    },
    {
     "name": "stdout",
     "output_type": "stream",
     "text": [
      "444\n",
      "445\n",
      "446\n",
      "447\n"
     ]
    },
    {
     "name": "stderr",
     "output_type": "stream",
     "text": [
      "C:\\Users\\Hammozi\\AppData\\Local\\Temp\\ipykernel_22716\\801327109.py:7: FutureWarning: The frame.append method is deprecated and will be removed from pandas in a future version. Use pandas.concat instead.\n",
      "  test_t = test_t.append(bottom_transac)\n",
      "C:\\Users\\Hammozi\\AppData\\Local\\Temp\\ipykernel_22716\\801327109.py:7: FutureWarning: The frame.append method is deprecated and will be removed from pandas in a future version. Use pandas.concat instead.\n",
      "  test_t = test_t.append(bottom_transac)\n",
      "C:\\Users\\Hammozi\\AppData\\Local\\Temp\\ipykernel_22716\\801327109.py:7: FutureWarning: The frame.append method is deprecated and will be removed from pandas in a future version. Use pandas.concat instead.\n",
      "  test_t = test_t.append(bottom_transac)\n"
     ]
    },
    {
     "name": "stdout",
     "output_type": "stream",
     "text": [
      "448\n",
      "449\n",
      "450\n",
      "451\n"
     ]
    },
    {
     "name": "stderr",
     "output_type": "stream",
     "text": [
      "C:\\Users\\Hammozi\\AppData\\Local\\Temp\\ipykernel_22716\\801327109.py:7: FutureWarning: The frame.append method is deprecated and will be removed from pandas in a future version. Use pandas.concat instead.\n",
      "  test_t = test_t.append(bottom_transac)\n",
      "C:\\Users\\Hammozi\\AppData\\Local\\Temp\\ipykernel_22716\\801327109.py:7: FutureWarning: The frame.append method is deprecated and will be removed from pandas in a future version. Use pandas.concat instead.\n",
      "  test_t = test_t.append(bottom_transac)\n",
      "C:\\Users\\Hammozi\\AppData\\Local\\Temp\\ipykernel_22716\\801327109.py:7: FutureWarning: The frame.append method is deprecated and will be removed from pandas in a future version. Use pandas.concat instead.\n",
      "  test_t = test_t.append(bottom_transac)\n"
     ]
    },
    {
     "name": "stdout",
     "output_type": "stream",
     "text": [
      "452\n",
      "453\n",
      "454\n",
      "455\n"
     ]
    },
    {
     "name": "stderr",
     "output_type": "stream",
     "text": [
      "C:\\Users\\Hammozi\\AppData\\Local\\Temp\\ipykernel_22716\\801327109.py:7: FutureWarning: The frame.append method is deprecated and will be removed from pandas in a future version. Use pandas.concat instead.\n",
      "  test_t = test_t.append(bottom_transac)\n",
      "C:\\Users\\Hammozi\\AppData\\Local\\Temp\\ipykernel_22716\\801327109.py:7: FutureWarning: The frame.append method is deprecated and will be removed from pandas in a future version. Use pandas.concat instead.\n",
      "  test_t = test_t.append(bottom_transac)\n",
      "C:\\Users\\Hammozi\\AppData\\Local\\Temp\\ipykernel_22716\\801327109.py:7: FutureWarning: The frame.append method is deprecated and will be removed from pandas in a future version. Use pandas.concat instead.\n",
      "  test_t = test_t.append(bottom_transac)\n",
      "C:\\Users\\Hammozi\\AppData\\Local\\Temp\\ipykernel_22716\\801327109.py:7: FutureWarning: The frame.append method is deprecated and will be removed from pandas in a future version. Use pandas.concat instead.\n",
      "  test_t = test_t.append(bottom_transac)\n",
      "C:\\Users\\Hammozi\\AppData\\Local\\Temp\\ipykernel_22716\\801327109.py:7: FutureWarning: The frame.append method is deprecated and will be removed from pandas in a future version. Use pandas.concat instead.\n",
      "  test_t = test_t.append(bottom_transac)\n",
      "C:\\Users\\Hammozi\\AppData\\Local\\Temp\\ipykernel_22716\\801327109.py:7: FutureWarning: The frame.append method is deprecated and will be removed from pandas in a future version. Use pandas.concat instead.\n",
      "  test_t = test_t.append(bottom_transac)\n"
     ]
    },
    {
     "name": "stdout",
     "output_type": "stream",
     "text": [
      "456\n",
      "457\n",
      "458\n",
      "459\n"
     ]
    },
    {
     "name": "stderr",
     "output_type": "stream",
     "text": [
      "C:\\Users\\Hammozi\\AppData\\Local\\Temp\\ipykernel_22716\\801327109.py:7: FutureWarning: The frame.append method is deprecated and will be removed from pandas in a future version. Use pandas.concat instead.\n",
      "  test_t = test_t.append(bottom_transac)\n",
      "C:\\Users\\Hammozi\\AppData\\Local\\Temp\\ipykernel_22716\\801327109.py:7: FutureWarning: The frame.append method is deprecated and will be removed from pandas in a future version. Use pandas.concat instead.\n",
      "  test_t = test_t.append(bottom_transac)\n",
      "C:\\Users\\Hammozi\\AppData\\Local\\Temp\\ipykernel_22716\\801327109.py:7: FutureWarning: The frame.append method is deprecated and will be removed from pandas in a future version. Use pandas.concat instead.\n",
      "  test_t = test_t.append(bottom_transac)\n"
     ]
    },
    {
     "name": "stdout",
     "output_type": "stream",
     "text": [
      "460\n",
      "461\n",
      "462\n",
      "463\n"
     ]
    },
    {
     "name": "stderr",
     "output_type": "stream",
     "text": [
      "C:\\Users\\Hammozi\\AppData\\Local\\Temp\\ipykernel_22716\\801327109.py:7: FutureWarning: The frame.append method is deprecated and will be removed from pandas in a future version. Use pandas.concat instead.\n",
      "  test_t = test_t.append(bottom_transac)\n",
      "C:\\Users\\Hammozi\\AppData\\Local\\Temp\\ipykernel_22716\\801327109.py:7: FutureWarning: The frame.append method is deprecated and will be removed from pandas in a future version. Use pandas.concat instead.\n",
      "  test_t = test_t.append(bottom_transac)\n",
      "C:\\Users\\Hammozi\\AppData\\Local\\Temp\\ipykernel_22716\\801327109.py:7: FutureWarning: The frame.append method is deprecated and will be removed from pandas in a future version. Use pandas.concat instead.\n",
      "  test_t = test_t.append(bottom_transac)\n"
     ]
    },
    {
     "name": "stdout",
     "output_type": "stream",
     "text": [
      "464\n",
      "465\n",
      "466\n",
      "467\n"
     ]
    },
    {
     "name": "stderr",
     "output_type": "stream",
     "text": [
      "C:\\Users\\Hammozi\\AppData\\Local\\Temp\\ipykernel_22716\\801327109.py:7: FutureWarning: The frame.append method is deprecated and will be removed from pandas in a future version. Use pandas.concat instead.\n",
      "  test_t = test_t.append(bottom_transac)\n",
      "C:\\Users\\Hammozi\\AppData\\Local\\Temp\\ipykernel_22716\\801327109.py:7: FutureWarning: The frame.append method is deprecated and will be removed from pandas in a future version. Use pandas.concat instead.\n",
      "  test_t = test_t.append(bottom_transac)\n",
      "C:\\Users\\Hammozi\\AppData\\Local\\Temp\\ipykernel_22716\\801327109.py:7: FutureWarning: The frame.append method is deprecated and will be removed from pandas in a future version. Use pandas.concat instead.\n",
      "  test_t = test_t.append(bottom_transac)\n",
      "C:\\Users\\Hammozi\\AppData\\Local\\Temp\\ipykernel_22716\\801327109.py:7: FutureWarning: The frame.append method is deprecated and will be removed from pandas in a future version. Use pandas.concat instead.\n",
      "  test_t = test_t.append(bottom_transac)\n",
      "C:\\Users\\Hammozi\\AppData\\Local\\Temp\\ipykernel_22716\\801327109.py:7: FutureWarning: The frame.append method is deprecated and will be removed from pandas in a future version. Use pandas.concat instead.\n",
      "  test_t = test_t.append(bottom_transac)\n",
      "C:\\Users\\Hammozi\\AppData\\Local\\Temp\\ipykernel_22716\\801327109.py:7: FutureWarning: The frame.append method is deprecated and will be removed from pandas in a future version. Use pandas.concat instead.\n",
      "  test_t = test_t.append(bottom_transac)\n"
     ]
    },
    {
     "name": "stdout",
     "output_type": "stream",
     "text": [
      "468\n",
      "469\n",
      "470\n",
      "471\n"
     ]
    },
    {
     "name": "stderr",
     "output_type": "stream",
     "text": [
      "C:\\Users\\Hammozi\\AppData\\Local\\Temp\\ipykernel_22716\\801327109.py:7: FutureWarning: The frame.append method is deprecated and will be removed from pandas in a future version. Use pandas.concat instead.\n",
      "  test_t = test_t.append(bottom_transac)\n",
      "C:\\Users\\Hammozi\\AppData\\Local\\Temp\\ipykernel_22716\\801327109.py:7: FutureWarning: The frame.append method is deprecated and will be removed from pandas in a future version. Use pandas.concat instead.\n",
      "  test_t = test_t.append(bottom_transac)\n",
      "C:\\Users\\Hammozi\\AppData\\Local\\Temp\\ipykernel_22716\\801327109.py:7: FutureWarning: The frame.append method is deprecated and will be removed from pandas in a future version. Use pandas.concat instead.\n",
      "  test_t = test_t.append(bottom_transac)\n"
     ]
    },
    {
     "name": "stdout",
     "output_type": "stream",
     "text": [
      "472\n",
      "473\n",
      "474\n",
      "475\n"
     ]
    },
    {
     "name": "stderr",
     "output_type": "stream",
     "text": [
      "C:\\Users\\Hammozi\\AppData\\Local\\Temp\\ipykernel_22716\\801327109.py:7: FutureWarning: The frame.append method is deprecated and will be removed from pandas in a future version. Use pandas.concat instead.\n",
      "  test_t = test_t.append(bottom_transac)\n",
      "C:\\Users\\Hammozi\\AppData\\Local\\Temp\\ipykernel_22716\\801327109.py:7: FutureWarning: The frame.append method is deprecated and will be removed from pandas in a future version. Use pandas.concat instead.\n",
      "  test_t = test_t.append(bottom_transac)\n",
      "C:\\Users\\Hammozi\\AppData\\Local\\Temp\\ipykernel_22716\\801327109.py:7: FutureWarning: The frame.append method is deprecated and will be removed from pandas in a future version. Use pandas.concat instead.\n",
      "  test_t = test_t.append(bottom_transac)\n"
     ]
    },
    {
     "name": "stdout",
     "output_type": "stream",
     "text": [
      "476\n",
      "477\n",
      "478\n",
      "479\n"
     ]
    },
    {
     "name": "stderr",
     "output_type": "stream",
     "text": [
      "C:\\Users\\Hammozi\\AppData\\Local\\Temp\\ipykernel_22716\\801327109.py:7: FutureWarning: The frame.append method is deprecated and will be removed from pandas in a future version. Use pandas.concat instead.\n",
      "  test_t = test_t.append(bottom_transac)\n",
      "C:\\Users\\Hammozi\\AppData\\Local\\Temp\\ipykernel_22716\\801327109.py:7: FutureWarning: The frame.append method is deprecated and will be removed from pandas in a future version. Use pandas.concat instead.\n",
      "  test_t = test_t.append(bottom_transac)\n",
      "C:\\Users\\Hammozi\\AppData\\Local\\Temp\\ipykernel_22716\\801327109.py:7: FutureWarning: The frame.append method is deprecated and will be removed from pandas in a future version. Use pandas.concat instead.\n",
      "  test_t = test_t.append(bottom_transac)\n",
      "C:\\Users\\Hammozi\\AppData\\Local\\Temp\\ipykernel_22716\\801327109.py:7: FutureWarning: The frame.append method is deprecated and will be removed from pandas in a future version. Use pandas.concat instead.\n",
      "  test_t = test_t.append(bottom_transac)\n",
      "C:\\Users\\Hammozi\\AppData\\Local\\Temp\\ipykernel_22716\\801327109.py:7: FutureWarning: The frame.append method is deprecated and will be removed from pandas in a future version. Use pandas.concat instead.\n",
      "  test_t = test_t.append(bottom_transac)\n",
      "C:\\Users\\Hammozi\\AppData\\Local\\Temp\\ipykernel_22716\\801327109.py:7: FutureWarning: The frame.append method is deprecated and will be removed from pandas in a future version. Use pandas.concat instead.\n",
      "  test_t = test_t.append(bottom_transac)\n"
     ]
    },
    {
     "name": "stdout",
     "output_type": "stream",
     "text": [
      "480\n",
      "481\n",
      "482\n",
      "483\n"
     ]
    },
    {
     "name": "stderr",
     "output_type": "stream",
     "text": [
      "C:\\Users\\Hammozi\\AppData\\Local\\Temp\\ipykernel_22716\\801327109.py:7: FutureWarning: The frame.append method is deprecated and will be removed from pandas in a future version. Use pandas.concat instead.\n",
      "  test_t = test_t.append(bottom_transac)\n",
      "C:\\Users\\Hammozi\\AppData\\Local\\Temp\\ipykernel_22716\\801327109.py:7: FutureWarning: The frame.append method is deprecated and will be removed from pandas in a future version. Use pandas.concat instead.\n",
      "  test_t = test_t.append(bottom_transac)\n",
      "C:\\Users\\Hammozi\\AppData\\Local\\Temp\\ipykernel_22716\\801327109.py:7: FutureWarning: The frame.append method is deprecated and will be removed from pandas in a future version. Use pandas.concat instead.\n",
      "  test_t = test_t.append(bottom_transac)\n"
     ]
    },
    {
     "name": "stdout",
     "output_type": "stream",
     "text": [
      "484\n",
      "485\n",
      "486\n",
      "487\n"
     ]
    },
    {
     "name": "stderr",
     "output_type": "stream",
     "text": [
      "C:\\Users\\Hammozi\\AppData\\Local\\Temp\\ipykernel_22716\\801327109.py:7: FutureWarning: The frame.append method is deprecated and will be removed from pandas in a future version. Use pandas.concat instead.\n",
      "  test_t = test_t.append(bottom_transac)\n",
      "C:\\Users\\Hammozi\\AppData\\Local\\Temp\\ipykernel_22716\\801327109.py:7: FutureWarning: The frame.append method is deprecated and will be removed from pandas in a future version. Use pandas.concat instead.\n",
      "  test_t = test_t.append(bottom_transac)\n",
      "C:\\Users\\Hammozi\\AppData\\Local\\Temp\\ipykernel_22716\\801327109.py:7: FutureWarning: The frame.append method is deprecated and will be removed from pandas in a future version. Use pandas.concat instead.\n",
      "  test_t = test_t.append(bottom_transac)\n"
     ]
    },
    {
     "name": "stdout",
     "output_type": "stream",
     "text": [
      "488\n",
      "489\n",
      "490\n",
      "491\n"
     ]
    },
    {
     "name": "stderr",
     "output_type": "stream",
     "text": [
      "C:\\Users\\Hammozi\\AppData\\Local\\Temp\\ipykernel_22716\\801327109.py:7: FutureWarning: The frame.append method is deprecated and will be removed from pandas in a future version. Use pandas.concat instead.\n",
      "  test_t = test_t.append(bottom_transac)\n",
      "C:\\Users\\Hammozi\\AppData\\Local\\Temp\\ipykernel_22716\\801327109.py:7: FutureWarning: The frame.append method is deprecated and will be removed from pandas in a future version. Use pandas.concat instead.\n",
      "  test_t = test_t.append(bottom_transac)\n",
      "C:\\Users\\Hammozi\\AppData\\Local\\Temp\\ipykernel_22716\\801327109.py:7: FutureWarning: The frame.append method is deprecated and will be removed from pandas in a future version. Use pandas.concat instead.\n",
      "  test_t = test_t.append(bottom_transac)\n",
      "C:\\Users\\Hammozi\\AppData\\Local\\Temp\\ipykernel_22716\\801327109.py:7: FutureWarning: The frame.append method is deprecated and will be removed from pandas in a future version. Use pandas.concat instead.\n",
      "  test_t = test_t.append(bottom_transac)\n",
      "C:\\Users\\Hammozi\\AppData\\Local\\Temp\\ipykernel_22716\\801327109.py:7: FutureWarning: The frame.append method is deprecated and will be removed from pandas in a future version. Use pandas.concat instead.\n",
      "  test_t = test_t.append(bottom_transac)\n",
      "C:\\Users\\Hammozi\\AppData\\Local\\Temp\\ipykernel_22716\\801327109.py:7: FutureWarning: The frame.append method is deprecated and will be removed from pandas in a future version. Use pandas.concat instead.\n",
      "  test_t = test_t.append(bottom_transac)\n"
     ]
    },
    {
     "name": "stdout",
     "output_type": "stream",
     "text": [
      "492\n",
      "493\n",
      "494\n"
     ]
    },
    {
     "name": "stderr",
     "output_type": "stream",
     "text": [
      "C:\\Users\\Hammozi\\AppData\\Local\\Temp\\ipykernel_22716\\801327109.py:7: FutureWarning: The frame.append method is deprecated and will be removed from pandas in a future version. Use pandas.concat instead.\n",
      "  test_t = test_t.append(bottom_transac)\n",
      "C:\\Users\\Hammozi\\AppData\\Local\\Temp\\ipykernel_22716\\801327109.py:7: FutureWarning: The frame.append method is deprecated and will be removed from pandas in a future version. Use pandas.concat instead.\n",
      "  test_t = test_t.append(bottom_transac)\n",
      "C:\\Users\\Hammozi\\AppData\\Local\\Temp\\ipykernel_22716\\801327109.py:7: FutureWarning: The frame.append method is deprecated and will be removed from pandas in a future version. Use pandas.concat instead.\n",
      "  test_t = test_t.append(bottom_transac)\n"
     ]
    },
    {
     "name": "stdout",
     "output_type": "stream",
     "text": [
      "495\n",
      "496\n",
      "497\n",
      "498\n"
     ]
    },
    {
     "name": "stderr",
     "output_type": "stream",
     "text": [
      "C:\\Users\\Hammozi\\AppData\\Local\\Temp\\ipykernel_22716\\801327109.py:7: FutureWarning: The frame.append method is deprecated and will be removed from pandas in a future version. Use pandas.concat instead.\n",
      "  test_t = test_t.append(bottom_transac)\n",
      "C:\\Users\\Hammozi\\AppData\\Local\\Temp\\ipykernel_22716\\801327109.py:7: FutureWarning: The frame.append method is deprecated and will be removed from pandas in a future version. Use pandas.concat instead.\n",
      "  test_t = test_t.append(bottom_transac)\n",
      "C:\\Users\\Hammozi\\AppData\\Local\\Temp\\ipykernel_22716\\801327109.py:7: FutureWarning: The frame.append method is deprecated and will be removed from pandas in a future version. Use pandas.concat instead.\n",
      "  test_t = test_t.append(bottom_transac)\n"
     ]
    },
    {
     "name": "stdout",
     "output_type": "stream",
     "text": [
      "499\n",
      "500\n",
      "501\n",
      "502\n"
     ]
    },
    {
     "name": "stderr",
     "output_type": "stream",
     "text": [
      "C:\\Users\\Hammozi\\AppData\\Local\\Temp\\ipykernel_22716\\801327109.py:7: FutureWarning: The frame.append method is deprecated and will be removed from pandas in a future version. Use pandas.concat instead.\n",
      "  test_t = test_t.append(bottom_transac)\n",
      "C:\\Users\\Hammozi\\AppData\\Local\\Temp\\ipykernel_22716\\801327109.py:7: FutureWarning: The frame.append method is deprecated and will be removed from pandas in a future version. Use pandas.concat instead.\n",
      "  test_t = test_t.append(bottom_transac)\n",
      "C:\\Users\\Hammozi\\AppData\\Local\\Temp\\ipykernel_22716\\801327109.py:7: FutureWarning: The frame.append method is deprecated and will be removed from pandas in a future version. Use pandas.concat instead.\n",
      "  test_t = test_t.append(bottom_transac)\n"
     ]
    },
    {
     "name": "stdout",
     "output_type": "stream",
     "text": [
      "503\n",
      "504\n",
      "505\n",
      "506\n"
     ]
    },
    {
     "name": "stderr",
     "output_type": "stream",
     "text": [
      "C:\\Users\\Hammozi\\AppData\\Local\\Temp\\ipykernel_22716\\801327109.py:7: FutureWarning: The frame.append method is deprecated and will be removed from pandas in a future version. Use pandas.concat instead.\n",
      "  test_t = test_t.append(bottom_transac)\n",
      "C:\\Users\\Hammozi\\AppData\\Local\\Temp\\ipykernel_22716\\801327109.py:7: FutureWarning: The frame.append method is deprecated and will be removed from pandas in a future version. Use pandas.concat instead.\n",
      "  test_t = test_t.append(bottom_transac)\n",
      "C:\\Users\\Hammozi\\AppData\\Local\\Temp\\ipykernel_22716\\801327109.py:7: FutureWarning: The frame.append method is deprecated and will be removed from pandas in a future version. Use pandas.concat instead.\n",
      "  test_t = test_t.append(bottom_transac)\n",
      "C:\\Users\\Hammozi\\AppData\\Local\\Temp\\ipykernel_22716\\801327109.py:7: FutureWarning: The frame.append method is deprecated and will be removed from pandas in a future version. Use pandas.concat instead.\n",
      "  test_t = test_t.append(bottom_transac)\n",
      "C:\\Users\\Hammozi\\AppData\\Local\\Temp\\ipykernel_22716\\801327109.py:7: FutureWarning: The frame.append method is deprecated and will be removed from pandas in a future version. Use pandas.concat instead.\n",
      "  test_t = test_t.append(bottom_transac)\n",
      "C:\\Users\\Hammozi\\AppData\\Local\\Temp\\ipykernel_22716\\801327109.py:7: FutureWarning: The frame.append method is deprecated and will be removed from pandas in a future version. Use pandas.concat instead.\n",
      "  test_t = test_t.append(bottom_transac)\n"
     ]
    },
    {
     "name": "stdout",
     "output_type": "stream",
     "text": [
      "507\n",
      "508\n",
      "509\n",
      "510\n"
     ]
    },
    {
     "name": "stderr",
     "output_type": "stream",
     "text": [
      "C:\\Users\\Hammozi\\AppData\\Local\\Temp\\ipykernel_22716\\801327109.py:7: FutureWarning: The frame.append method is deprecated and will be removed from pandas in a future version. Use pandas.concat instead.\n",
      "  test_t = test_t.append(bottom_transac)\n",
      "C:\\Users\\Hammozi\\AppData\\Local\\Temp\\ipykernel_22716\\801327109.py:7: FutureWarning: The frame.append method is deprecated and will be removed from pandas in a future version. Use pandas.concat instead.\n",
      "  test_t = test_t.append(bottom_transac)\n",
      "C:\\Users\\Hammozi\\AppData\\Local\\Temp\\ipykernel_22716\\801327109.py:7: FutureWarning: The frame.append method is deprecated and will be removed from pandas in a future version. Use pandas.concat instead.\n",
      "  test_t = test_t.append(bottom_transac)\n"
     ]
    },
    {
     "name": "stdout",
     "output_type": "stream",
     "text": [
      "511\n",
      "512\n",
      "513\n",
      "514\n"
     ]
    },
    {
     "name": "stderr",
     "output_type": "stream",
     "text": [
      "C:\\Users\\Hammozi\\AppData\\Local\\Temp\\ipykernel_22716\\801327109.py:7: FutureWarning: The frame.append method is deprecated and will be removed from pandas in a future version. Use pandas.concat instead.\n",
      "  test_t = test_t.append(bottom_transac)\n",
      "C:\\Users\\Hammozi\\AppData\\Local\\Temp\\ipykernel_22716\\801327109.py:7: FutureWarning: The frame.append method is deprecated and will be removed from pandas in a future version. Use pandas.concat instead.\n",
      "  test_t = test_t.append(bottom_transac)\n",
      "C:\\Users\\Hammozi\\AppData\\Local\\Temp\\ipykernel_22716\\801327109.py:7: FutureWarning: The frame.append method is deprecated and will be removed from pandas in a future version. Use pandas.concat instead.\n",
      "  test_t = test_t.append(bottom_transac)\n"
     ]
    },
    {
     "name": "stdout",
     "output_type": "stream",
     "text": [
      "515\n",
      "516\n",
      "517\n",
      "518\n"
     ]
    },
    {
     "name": "stderr",
     "output_type": "stream",
     "text": [
      "C:\\Users\\Hammozi\\AppData\\Local\\Temp\\ipykernel_22716\\801327109.py:7: FutureWarning: The frame.append method is deprecated and will be removed from pandas in a future version. Use pandas.concat instead.\n",
      "  test_t = test_t.append(bottom_transac)\n",
      "C:\\Users\\Hammozi\\AppData\\Local\\Temp\\ipykernel_22716\\801327109.py:7: FutureWarning: The frame.append method is deprecated and will be removed from pandas in a future version. Use pandas.concat instead.\n",
      "  test_t = test_t.append(bottom_transac)\n",
      "C:\\Users\\Hammozi\\AppData\\Local\\Temp\\ipykernel_22716\\801327109.py:7: FutureWarning: The frame.append method is deprecated and will be removed from pandas in a future version. Use pandas.concat instead.\n",
      "  test_t = test_t.append(bottom_transac)\n",
      "C:\\Users\\Hammozi\\AppData\\Local\\Temp\\ipykernel_22716\\801327109.py:7: FutureWarning: The frame.append method is deprecated and will be removed from pandas in a future version. Use pandas.concat instead.\n",
      "  test_t = test_t.append(bottom_transac)\n",
      "C:\\Users\\Hammozi\\AppData\\Local\\Temp\\ipykernel_22716\\801327109.py:7: FutureWarning: The frame.append method is deprecated and will be removed from pandas in a future version. Use pandas.concat instead.\n",
      "  test_t = test_t.append(bottom_transac)\n",
      "C:\\Users\\Hammozi\\AppData\\Local\\Temp\\ipykernel_22716\\801327109.py:7: FutureWarning: The frame.append method is deprecated and will be removed from pandas in a future version. Use pandas.concat instead.\n",
      "  test_t = test_t.append(bottom_transac)\n"
     ]
    },
    {
     "name": "stdout",
     "output_type": "stream",
     "text": [
      "519\n",
      "520\n",
      "521\n",
      "522\n"
     ]
    },
    {
     "name": "stderr",
     "output_type": "stream",
     "text": [
      "C:\\Users\\Hammozi\\AppData\\Local\\Temp\\ipykernel_22716\\801327109.py:7: FutureWarning: The frame.append method is deprecated and will be removed from pandas in a future version. Use pandas.concat instead.\n",
      "  test_t = test_t.append(bottom_transac)\n",
      "C:\\Users\\Hammozi\\AppData\\Local\\Temp\\ipykernel_22716\\801327109.py:7: FutureWarning: The frame.append method is deprecated and will be removed from pandas in a future version. Use pandas.concat instead.\n",
      "  test_t = test_t.append(bottom_transac)\n",
      "C:\\Users\\Hammozi\\AppData\\Local\\Temp\\ipykernel_22716\\801327109.py:7: FutureWarning: The frame.append method is deprecated and will be removed from pandas in a future version. Use pandas.concat instead.\n",
      "  test_t = test_t.append(bottom_transac)\n"
     ]
    },
    {
     "name": "stdout",
     "output_type": "stream",
     "text": [
      "523\n",
      "524\n",
      "525\n",
      "526\n"
     ]
    },
    {
     "name": "stderr",
     "output_type": "stream",
     "text": [
      "C:\\Users\\Hammozi\\AppData\\Local\\Temp\\ipykernel_22716\\801327109.py:7: FutureWarning: The frame.append method is deprecated and will be removed from pandas in a future version. Use pandas.concat instead.\n",
      "  test_t = test_t.append(bottom_transac)\n",
      "C:\\Users\\Hammozi\\AppData\\Local\\Temp\\ipykernel_22716\\801327109.py:7: FutureWarning: The frame.append method is deprecated and will be removed from pandas in a future version. Use pandas.concat instead.\n",
      "  test_t = test_t.append(bottom_transac)\n",
      "C:\\Users\\Hammozi\\AppData\\Local\\Temp\\ipykernel_22716\\801327109.py:7: FutureWarning: The frame.append method is deprecated and will be removed from pandas in a future version. Use pandas.concat instead.\n",
      "  test_t = test_t.append(bottom_transac)\n"
     ]
    },
    {
     "name": "stdout",
     "output_type": "stream",
     "text": [
      "527\n",
      "528\n",
      "529\n",
      "530\n"
     ]
    },
    {
     "name": "stderr",
     "output_type": "stream",
     "text": [
      "C:\\Users\\Hammozi\\AppData\\Local\\Temp\\ipykernel_22716\\801327109.py:7: FutureWarning: The frame.append method is deprecated and will be removed from pandas in a future version. Use pandas.concat instead.\n",
      "  test_t = test_t.append(bottom_transac)\n",
      "C:\\Users\\Hammozi\\AppData\\Local\\Temp\\ipykernel_22716\\801327109.py:7: FutureWarning: The frame.append method is deprecated and will be removed from pandas in a future version. Use pandas.concat instead.\n",
      "  test_t = test_t.append(bottom_transac)\n",
      "C:\\Users\\Hammozi\\AppData\\Local\\Temp\\ipykernel_22716\\801327109.py:7: FutureWarning: The frame.append method is deprecated and will be removed from pandas in a future version. Use pandas.concat instead.\n",
      "  test_t = test_t.append(bottom_transac)\n",
      "C:\\Users\\Hammozi\\AppData\\Local\\Temp\\ipykernel_22716\\801327109.py:7: FutureWarning: The frame.append method is deprecated and will be removed from pandas in a future version. Use pandas.concat instead.\n",
      "  test_t = test_t.append(bottom_transac)\n",
      "C:\\Users\\Hammozi\\AppData\\Local\\Temp\\ipykernel_22716\\801327109.py:7: FutureWarning: The frame.append method is deprecated and will be removed from pandas in a future version. Use pandas.concat instead.\n",
      "  test_t = test_t.append(bottom_transac)\n",
      "C:\\Users\\Hammozi\\AppData\\Local\\Temp\\ipykernel_22716\\801327109.py:7: FutureWarning: The frame.append method is deprecated and will be removed from pandas in a future version. Use pandas.concat instead.\n",
      "  test_t = test_t.append(bottom_transac)\n"
     ]
    },
    {
     "name": "stdout",
     "output_type": "stream",
     "text": [
      "531\n",
      "532\n",
      "533\n",
      "534\n"
     ]
    },
    {
     "name": "stderr",
     "output_type": "stream",
     "text": [
      "C:\\Users\\Hammozi\\AppData\\Local\\Temp\\ipykernel_22716\\801327109.py:7: FutureWarning: The frame.append method is deprecated and will be removed from pandas in a future version. Use pandas.concat instead.\n",
      "  test_t = test_t.append(bottom_transac)\n",
      "C:\\Users\\Hammozi\\AppData\\Local\\Temp\\ipykernel_22716\\801327109.py:7: FutureWarning: The frame.append method is deprecated and will be removed from pandas in a future version. Use pandas.concat instead.\n",
      "  test_t = test_t.append(bottom_transac)\n",
      "C:\\Users\\Hammozi\\AppData\\Local\\Temp\\ipykernel_22716\\801327109.py:7: FutureWarning: The frame.append method is deprecated and will be removed from pandas in a future version. Use pandas.concat instead.\n",
      "  test_t = test_t.append(bottom_transac)\n"
     ]
    },
    {
     "name": "stdout",
     "output_type": "stream",
     "text": [
      "535\n",
      "536\n",
      "537\n",
      "538\n"
     ]
    },
    {
     "name": "stderr",
     "output_type": "stream",
     "text": [
      "C:\\Users\\Hammozi\\AppData\\Local\\Temp\\ipykernel_22716\\801327109.py:7: FutureWarning: The frame.append method is deprecated and will be removed from pandas in a future version. Use pandas.concat instead.\n",
      "  test_t = test_t.append(bottom_transac)\n",
      "C:\\Users\\Hammozi\\AppData\\Local\\Temp\\ipykernel_22716\\801327109.py:7: FutureWarning: The frame.append method is deprecated and will be removed from pandas in a future version. Use pandas.concat instead.\n",
      "  test_t = test_t.append(bottom_transac)\n",
      "C:\\Users\\Hammozi\\AppData\\Local\\Temp\\ipykernel_22716\\801327109.py:7: FutureWarning: The frame.append method is deprecated and will be removed from pandas in a future version. Use pandas.concat instead.\n",
      "  test_t = test_t.append(bottom_transac)\n"
     ]
    },
    {
     "name": "stdout",
     "output_type": "stream",
     "text": [
      "539\n",
      "540\n",
      "541\n",
      "542\n"
     ]
    },
    {
     "name": "stderr",
     "output_type": "stream",
     "text": [
      "C:\\Users\\Hammozi\\AppData\\Local\\Temp\\ipykernel_22716\\801327109.py:7: FutureWarning: The frame.append method is deprecated and will be removed from pandas in a future version. Use pandas.concat instead.\n",
      "  test_t = test_t.append(bottom_transac)\n",
      "C:\\Users\\Hammozi\\AppData\\Local\\Temp\\ipykernel_22716\\801327109.py:7: FutureWarning: The frame.append method is deprecated and will be removed from pandas in a future version. Use pandas.concat instead.\n",
      "  test_t = test_t.append(bottom_transac)\n",
      "C:\\Users\\Hammozi\\AppData\\Local\\Temp\\ipykernel_22716\\801327109.py:7: FutureWarning: The frame.append method is deprecated and will be removed from pandas in a future version. Use pandas.concat instead.\n",
      "  test_t = test_t.append(bottom_transac)\n",
      "C:\\Users\\Hammozi\\AppData\\Local\\Temp\\ipykernel_22716\\801327109.py:7: FutureWarning: The frame.append method is deprecated and will be removed from pandas in a future version. Use pandas.concat instead.\n",
      "  test_t = test_t.append(bottom_transac)\n",
      "C:\\Users\\Hammozi\\AppData\\Local\\Temp\\ipykernel_22716\\801327109.py:7: FutureWarning: The frame.append method is deprecated and will be removed from pandas in a future version. Use pandas.concat instead.\n",
      "  test_t = test_t.append(bottom_transac)\n",
      "C:\\Users\\Hammozi\\AppData\\Local\\Temp\\ipykernel_22716\\801327109.py:7: FutureWarning: The frame.append method is deprecated and will be removed from pandas in a future version. Use pandas.concat instead.\n",
      "  test_t = test_t.append(bottom_transac)\n"
     ]
    },
    {
     "name": "stdout",
     "output_type": "stream",
     "text": [
      "543\n",
      "544\n",
      "545\n",
      "546\n"
     ]
    },
    {
     "name": "stderr",
     "output_type": "stream",
     "text": [
      "C:\\Users\\Hammozi\\AppData\\Local\\Temp\\ipykernel_22716\\801327109.py:7: FutureWarning: The frame.append method is deprecated and will be removed from pandas in a future version. Use pandas.concat instead.\n",
      "  test_t = test_t.append(bottom_transac)\n",
      "C:\\Users\\Hammozi\\AppData\\Local\\Temp\\ipykernel_22716\\801327109.py:7: FutureWarning: The frame.append method is deprecated and will be removed from pandas in a future version. Use pandas.concat instead.\n",
      "  test_t = test_t.append(bottom_transac)\n",
      "C:\\Users\\Hammozi\\AppData\\Local\\Temp\\ipykernel_22716\\801327109.py:7: FutureWarning: The frame.append method is deprecated and will be removed from pandas in a future version. Use pandas.concat instead.\n",
      "  test_t = test_t.append(bottom_transac)\n"
     ]
    },
    {
     "name": "stdout",
     "output_type": "stream",
     "text": [
      "547\n",
      "548\n",
      "549\n",
      "550\n"
     ]
    },
    {
     "name": "stderr",
     "output_type": "stream",
     "text": [
      "C:\\Users\\Hammozi\\AppData\\Local\\Temp\\ipykernel_22716\\801327109.py:7: FutureWarning: The frame.append method is deprecated and will be removed from pandas in a future version. Use pandas.concat instead.\n",
      "  test_t = test_t.append(bottom_transac)\n",
      "C:\\Users\\Hammozi\\AppData\\Local\\Temp\\ipykernel_22716\\801327109.py:7: FutureWarning: The frame.append method is deprecated and will be removed from pandas in a future version. Use pandas.concat instead.\n",
      "  test_t = test_t.append(bottom_transac)\n",
      "C:\\Users\\Hammozi\\AppData\\Local\\Temp\\ipykernel_22716\\801327109.py:7: FutureWarning: The frame.append method is deprecated and will be removed from pandas in a future version. Use pandas.concat instead.\n",
      "  test_t = test_t.append(bottom_transac)\n"
     ]
    },
    {
     "name": "stdout",
     "output_type": "stream",
     "text": [
      "551\n",
      "552\n",
      "553\n",
      "554\n"
     ]
    },
    {
     "name": "stderr",
     "output_type": "stream",
     "text": [
      "C:\\Users\\Hammozi\\AppData\\Local\\Temp\\ipykernel_22716\\801327109.py:7: FutureWarning: The frame.append method is deprecated and will be removed from pandas in a future version. Use pandas.concat instead.\n",
      "  test_t = test_t.append(bottom_transac)\n",
      "C:\\Users\\Hammozi\\AppData\\Local\\Temp\\ipykernel_22716\\801327109.py:7: FutureWarning: The frame.append method is deprecated and will be removed from pandas in a future version. Use pandas.concat instead.\n",
      "  test_t = test_t.append(bottom_transac)\n",
      "C:\\Users\\Hammozi\\AppData\\Local\\Temp\\ipykernel_22716\\801327109.py:7: FutureWarning: The frame.append method is deprecated and will be removed from pandas in a future version. Use pandas.concat instead.\n",
      "  test_t = test_t.append(bottom_transac)\n",
      "C:\\Users\\Hammozi\\AppData\\Local\\Temp\\ipykernel_22716\\801327109.py:7: FutureWarning: The frame.append method is deprecated and will be removed from pandas in a future version. Use pandas.concat instead.\n",
      "  test_t = test_t.append(bottom_transac)\n",
      "C:\\Users\\Hammozi\\AppData\\Local\\Temp\\ipykernel_22716\\801327109.py:7: FutureWarning: The frame.append method is deprecated and will be removed from pandas in a future version. Use pandas.concat instead.\n",
      "  test_t = test_t.append(bottom_transac)\n",
      "C:\\Users\\Hammozi\\AppData\\Local\\Temp\\ipykernel_22716\\801327109.py:7: FutureWarning: The frame.append method is deprecated and will be removed from pandas in a future version. Use pandas.concat instead.\n",
      "  test_t = test_t.append(bottom_transac)\n"
     ]
    },
    {
     "name": "stdout",
     "output_type": "stream",
     "text": [
      "555\n",
      "556\n",
      "557\n"
     ]
    },
    {
     "name": "stderr",
     "output_type": "stream",
     "text": [
      "C:\\Users\\Hammozi\\AppData\\Local\\Temp\\ipykernel_22716\\801327109.py:7: FutureWarning: The frame.append method is deprecated and will be removed from pandas in a future version. Use pandas.concat instead.\n",
      "  test_t = test_t.append(bottom_transac)\n",
      "C:\\Users\\Hammozi\\AppData\\Local\\Temp\\ipykernel_22716\\801327109.py:7: FutureWarning: The frame.append method is deprecated and will be removed from pandas in a future version. Use pandas.concat instead.\n",
      "  test_t = test_t.append(bottom_transac)\n",
      "C:\\Users\\Hammozi\\AppData\\Local\\Temp\\ipykernel_22716\\801327109.py:7: FutureWarning: The frame.append method is deprecated and will be removed from pandas in a future version. Use pandas.concat instead.\n",
      "  test_t = test_t.append(bottom_transac)\n"
     ]
    },
    {
     "name": "stdout",
     "output_type": "stream",
     "text": [
      "558\n",
      "559\n",
      "560\n",
      "561\n"
     ]
    },
    {
     "name": "stderr",
     "output_type": "stream",
     "text": [
      "C:\\Users\\Hammozi\\AppData\\Local\\Temp\\ipykernel_22716\\801327109.py:7: FutureWarning: The frame.append method is deprecated and will be removed from pandas in a future version. Use pandas.concat instead.\n",
      "  test_t = test_t.append(bottom_transac)\n",
      "C:\\Users\\Hammozi\\AppData\\Local\\Temp\\ipykernel_22716\\801327109.py:7: FutureWarning: The frame.append method is deprecated and will be removed from pandas in a future version. Use pandas.concat instead.\n",
      "  test_t = test_t.append(bottom_transac)\n",
      "C:\\Users\\Hammozi\\AppData\\Local\\Temp\\ipykernel_22716\\801327109.py:7: FutureWarning: The frame.append method is deprecated and will be removed from pandas in a future version. Use pandas.concat instead.\n",
      "  test_t = test_t.append(bottom_transac)\n"
     ]
    },
    {
     "name": "stdout",
     "output_type": "stream",
     "text": [
      "562\n",
      "563\n",
      "564\n"
     ]
    },
    {
     "name": "stderr",
     "output_type": "stream",
     "text": [
      "C:\\Users\\Hammozi\\AppData\\Local\\Temp\\ipykernel_22716\\801327109.py:7: FutureWarning: The frame.append method is deprecated and will be removed from pandas in a future version. Use pandas.concat instead.\n",
      "  test_t = test_t.append(bottom_transac)\n",
      "C:\\Users\\Hammozi\\AppData\\Local\\Temp\\ipykernel_22716\\801327109.py:7: FutureWarning: The frame.append method is deprecated and will be removed from pandas in a future version. Use pandas.concat instead.\n",
      "  test_t = test_t.append(bottom_transac)\n",
      "C:\\Users\\Hammozi\\AppData\\Local\\Temp\\ipykernel_22716\\801327109.py:7: FutureWarning: The frame.append method is deprecated and will be removed from pandas in a future version. Use pandas.concat instead.\n",
      "  test_t = test_t.append(bottom_transac)\n"
     ]
    },
    {
     "name": "stdout",
     "output_type": "stream",
     "text": [
      "565\n",
      "566\n",
      "567\n",
      "568\n"
     ]
    },
    {
     "name": "stderr",
     "output_type": "stream",
     "text": [
      "C:\\Users\\Hammozi\\AppData\\Local\\Temp\\ipykernel_22716\\801327109.py:7: FutureWarning: The frame.append method is deprecated and will be removed from pandas in a future version. Use pandas.concat instead.\n",
      "  test_t = test_t.append(bottom_transac)\n",
      "C:\\Users\\Hammozi\\AppData\\Local\\Temp\\ipykernel_22716\\801327109.py:7: FutureWarning: The frame.append method is deprecated and will be removed from pandas in a future version. Use pandas.concat instead.\n",
      "  test_t = test_t.append(bottom_transac)\n",
      "C:\\Users\\Hammozi\\AppData\\Local\\Temp\\ipykernel_22716\\801327109.py:7: FutureWarning: The frame.append method is deprecated and will be removed from pandas in a future version. Use pandas.concat instead.\n",
      "  test_t = test_t.append(bottom_transac)\n"
     ]
    },
    {
     "name": "stdout",
     "output_type": "stream",
     "text": [
      "569\n",
      "570\n",
      "571\n",
      "572\n"
     ]
    },
    {
     "name": "stderr",
     "output_type": "stream",
     "text": [
      "C:\\Users\\Hammozi\\AppData\\Local\\Temp\\ipykernel_22716\\801327109.py:7: FutureWarning: The frame.append method is deprecated and will be removed from pandas in a future version. Use pandas.concat instead.\n",
      "  test_t = test_t.append(bottom_transac)\n",
      "C:\\Users\\Hammozi\\AppData\\Local\\Temp\\ipykernel_22716\\801327109.py:7: FutureWarning: The frame.append method is deprecated and will be removed from pandas in a future version. Use pandas.concat instead.\n",
      "  test_t = test_t.append(bottom_transac)\n",
      "C:\\Users\\Hammozi\\AppData\\Local\\Temp\\ipykernel_22716\\801327109.py:7: FutureWarning: The frame.append method is deprecated and will be removed from pandas in a future version. Use pandas.concat instead.\n",
      "  test_t = test_t.append(bottom_transac)\n",
      "C:\\Users\\Hammozi\\AppData\\Local\\Temp\\ipykernel_22716\\801327109.py:7: FutureWarning: The frame.append method is deprecated and will be removed from pandas in a future version. Use pandas.concat instead.\n",
      "  test_t = test_t.append(bottom_transac)\n",
      "C:\\Users\\Hammozi\\AppData\\Local\\Temp\\ipykernel_22716\\801327109.py:7: FutureWarning: The frame.append method is deprecated and will be removed from pandas in a future version. Use pandas.concat instead.\n",
      "  test_t = test_t.append(bottom_transac)\n",
      "C:\\Users\\Hammozi\\AppData\\Local\\Temp\\ipykernel_22716\\801327109.py:7: FutureWarning: The frame.append method is deprecated and will be removed from pandas in a future version. Use pandas.concat instead.\n",
      "  test_t = test_t.append(bottom_transac)\n"
     ]
    },
    {
     "name": "stdout",
     "output_type": "stream",
     "text": [
      "573\n",
      "574\n",
      "575\n",
      "576\n"
     ]
    },
    {
     "name": "stderr",
     "output_type": "stream",
     "text": [
      "C:\\Users\\Hammozi\\AppData\\Local\\Temp\\ipykernel_22716\\801327109.py:7: FutureWarning: The frame.append method is deprecated and will be removed from pandas in a future version. Use pandas.concat instead.\n",
      "  test_t = test_t.append(bottom_transac)\n",
      "C:\\Users\\Hammozi\\AppData\\Local\\Temp\\ipykernel_22716\\801327109.py:7: FutureWarning: The frame.append method is deprecated and will be removed from pandas in a future version. Use pandas.concat instead.\n",
      "  test_t = test_t.append(bottom_transac)\n",
      "C:\\Users\\Hammozi\\AppData\\Local\\Temp\\ipykernel_22716\\801327109.py:7: FutureWarning: The frame.append method is deprecated and will be removed from pandas in a future version. Use pandas.concat instead.\n",
      "  test_t = test_t.append(bottom_transac)\n"
     ]
    },
    {
     "name": "stdout",
     "output_type": "stream",
     "text": [
      "577\n",
      "578\n",
      "579\n",
      "580\n"
     ]
    },
    {
     "name": "stderr",
     "output_type": "stream",
     "text": [
      "C:\\Users\\Hammozi\\AppData\\Local\\Temp\\ipykernel_22716\\801327109.py:7: FutureWarning: The frame.append method is deprecated and will be removed from pandas in a future version. Use pandas.concat instead.\n",
      "  test_t = test_t.append(bottom_transac)\n",
      "C:\\Users\\Hammozi\\AppData\\Local\\Temp\\ipykernel_22716\\801327109.py:7: FutureWarning: The frame.append method is deprecated and will be removed from pandas in a future version. Use pandas.concat instead.\n",
      "  test_t = test_t.append(bottom_transac)\n",
      "C:\\Users\\Hammozi\\AppData\\Local\\Temp\\ipykernel_22716\\801327109.py:7: FutureWarning: The frame.append method is deprecated and will be removed from pandas in a future version. Use pandas.concat instead.\n",
      "  test_t = test_t.append(bottom_transac)\n"
     ]
    },
    {
     "name": "stdout",
     "output_type": "stream",
     "text": [
      "581\n",
      "582\n",
      "583\n",
      "584\n"
     ]
    },
    {
     "name": "stderr",
     "output_type": "stream",
     "text": [
      "C:\\Users\\Hammozi\\AppData\\Local\\Temp\\ipykernel_22716\\801327109.py:7: FutureWarning: The frame.append method is deprecated and will be removed from pandas in a future version. Use pandas.concat instead.\n",
      "  test_t = test_t.append(bottom_transac)\n",
      "C:\\Users\\Hammozi\\AppData\\Local\\Temp\\ipykernel_22716\\801327109.py:7: FutureWarning: The frame.append method is deprecated and will be removed from pandas in a future version. Use pandas.concat instead.\n",
      "  test_t = test_t.append(bottom_transac)\n",
      "C:\\Users\\Hammozi\\AppData\\Local\\Temp\\ipykernel_22716\\801327109.py:7: FutureWarning: The frame.append method is deprecated and will be removed from pandas in a future version. Use pandas.concat instead.\n",
      "  test_t = test_t.append(bottom_transac)\n",
      "C:\\Users\\Hammozi\\AppData\\Local\\Temp\\ipykernel_22716\\801327109.py:7: FutureWarning: The frame.append method is deprecated and will be removed from pandas in a future version. Use pandas.concat instead.\n",
      "  test_t = test_t.append(bottom_transac)\n",
      "C:\\Users\\Hammozi\\AppData\\Local\\Temp\\ipykernel_22716\\801327109.py:7: FutureWarning: The frame.append method is deprecated and will be removed from pandas in a future version. Use pandas.concat instead.\n",
      "  test_t = test_t.append(bottom_transac)\n",
      "C:\\Users\\Hammozi\\AppData\\Local\\Temp\\ipykernel_22716\\801327109.py:7: FutureWarning: The frame.append method is deprecated and will be removed from pandas in a future version. Use pandas.concat instead.\n",
      "  test_t = test_t.append(bottom_transac)\n"
     ]
    },
    {
     "name": "stdout",
     "output_type": "stream",
     "text": [
      "585\n",
      "586\n",
      "587\n",
      "588\n"
     ]
    },
    {
     "name": "stderr",
     "output_type": "stream",
     "text": [
      "C:\\Users\\Hammozi\\AppData\\Local\\Temp\\ipykernel_22716\\801327109.py:7: FutureWarning: The frame.append method is deprecated and will be removed from pandas in a future version. Use pandas.concat instead.\n",
      "  test_t = test_t.append(bottom_transac)\n",
      "C:\\Users\\Hammozi\\AppData\\Local\\Temp\\ipykernel_22716\\801327109.py:7: FutureWarning: The frame.append method is deprecated and will be removed from pandas in a future version. Use pandas.concat instead.\n",
      "  test_t = test_t.append(bottom_transac)\n",
      "C:\\Users\\Hammozi\\AppData\\Local\\Temp\\ipykernel_22716\\801327109.py:7: FutureWarning: The frame.append method is deprecated and will be removed from pandas in a future version. Use pandas.concat instead.\n",
      "  test_t = test_t.append(bottom_transac)\n"
     ]
    },
    {
     "name": "stdout",
     "output_type": "stream",
     "text": [
      "589\n",
      "590\n",
      "591\n",
      "592\n"
     ]
    },
    {
     "name": "stderr",
     "output_type": "stream",
     "text": [
      "C:\\Users\\Hammozi\\AppData\\Local\\Temp\\ipykernel_22716\\801327109.py:7: FutureWarning: The frame.append method is deprecated and will be removed from pandas in a future version. Use pandas.concat instead.\n",
      "  test_t = test_t.append(bottom_transac)\n",
      "C:\\Users\\Hammozi\\AppData\\Local\\Temp\\ipykernel_22716\\801327109.py:7: FutureWarning: The frame.append method is deprecated and will be removed from pandas in a future version. Use pandas.concat instead.\n",
      "  test_t = test_t.append(bottom_transac)\n",
      "C:\\Users\\Hammozi\\AppData\\Local\\Temp\\ipykernel_22716\\801327109.py:7: FutureWarning: The frame.append method is deprecated and will be removed from pandas in a future version. Use pandas.concat instead.\n",
      "  test_t = test_t.append(bottom_transac)\n"
     ]
    },
    {
     "name": "stdout",
     "output_type": "stream",
     "text": [
      "593\n",
      "594\n",
      "595\n",
      "596\n"
     ]
    },
    {
     "name": "stderr",
     "output_type": "stream",
     "text": [
      "C:\\Users\\Hammozi\\AppData\\Local\\Temp\\ipykernel_22716\\801327109.py:7: FutureWarning: The frame.append method is deprecated and will be removed from pandas in a future version. Use pandas.concat instead.\n",
      "  test_t = test_t.append(bottom_transac)\n",
      "C:\\Users\\Hammozi\\AppData\\Local\\Temp\\ipykernel_22716\\801327109.py:7: FutureWarning: The frame.append method is deprecated and will be removed from pandas in a future version. Use pandas.concat instead.\n",
      "  test_t = test_t.append(bottom_transac)\n",
      "C:\\Users\\Hammozi\\AppData\\Local\\Temp\\ipykernel_22716\\801327109.py:7: FutureWarning: The frame.append method is deprecated and will be removed from pandas in a future version. Use pandas.concat instead.\n",
      "  test_t = test_t.append(bottom_transac)\n",
      "C:\\Users\\Hammozi\\AppData\\Local\\Temp\\ipykernel_22716\\801327109.py:7: FutureWarning: The frame.append method is deprecated and will be removed from pandas in a future version. Use pandas.concat instead.\n",
      "  test_t = test_t.append(bottom_transac)\n",
      "C:\\Users\\Hammozi\\AppData\\Local\\Temp\\ipykernel_22716\\801327109.py:7: FutureWarning: The frame.append method is deprecated and will be removed from pandas in a future version. Use pandas.concat instead.\n",
      "  test_t = test_t.append(bottom_transac)\n",
      "C:\\Users\\Hammozi\\AppData\\Local\\Temp\\ipykernel_22716\\801327109.py:7: FutureWarning: The frame.append method is deprecated and will be removed from pandas in a future version. Use pandas.concat instead.\n",
      "  test_t = test_t.append(bottom_transac)\n"
     ]
    },
    {
     "name": "stdout",
     "output_type": "stream",
     "text": [
      "597\n",
      "598\n",
      "599\n",
      "600\n"
     ]
    },
    {
     "name": "stderr",
     "output_type": "stream",
     "text": [
      "C:\\Users\\Hammozi\\AppData\\Local\\Temp\\ipykernel_22716\\801327109.py:7: FutureWarning: The frame.append method is deprecated and will be removed from pandas in a future version. Use pandas.concat instead.\n",
      "  test_t = test_t.append(bottom_transac)\n",
      "C:\\Users\\Hammozi\\AppData\\Local\\Temp\\ipykernel_22716\\801327109.py:7: FutureWarning: The frame.append method is deprecated and will be removed from pandas in a future version. Use pandas.concat instead.\n",
      "  test_t = test_t.append(bottom_transac)\n",
      "C:\\Users\\Hammozi\\AppData\\Local\\Temp\\ipykernel_22716\\801327109.py:7: FutureWarning: The frame.append method is deprecated and will be removed from pandas in a future version. Use pandas.concat instead.\n",
      "  test_t = test_t.append(bottom_transac)\n"
     ]
    },
    {
     "name": "stdout",
     "output_type": "stream",
     "text": [
      "601\n",
      "602\n",
      "603\n",
      "604\n"
     ]
    },
    {
     "name": "stderr",
     "output_type": "stream",
     "text": [
      "C:\\Users\\Hammozi\\AppData\\Local\\Temp\\ipykernel_22716\\801327109.py:7: FutureWarning: The frame.append method is deprecated and will be removed from pandas in a future version. Use pandas.concat instead.\n",
      "  test_t = test_t.append(bottom_transac)\n",
      "C:\\Users\\Hammozi\\AppData\\Local\\Temp\\ipykernel_22716\\801327109.py:7: FutureWarning: The frame.append method is deprecated and will be removed from pandas in a future version. Use pandas.concat instead.\n",
      "  test_t = test_t.append(bottom_transac)\n",
      "C:\\Users\\Hammozi\\AppData\\Local\\Temp\\ipykernel_22716\\801327109.py:7: FutureWarning: The frame.append method is deprecated and will be removed from pandas in a future version. Use pandas.concat instead.\n",
      "  test_t = test_t.append(bottom_transac)\n"
     ]
    },
    {
     "name": "stdout",
     "output_type": "stream",
     "text": [
      "605\n",
      "606\n",
      "607\n"
     ]
    },
    {
     "name": "stderr",
     "output_type": "stream",
     "text": [
      "C:\\Users\\Hammozi\\AppData\\Local\\Temp\\ipykernel_22716\\801327109.py:7: FutureWarning: The frame.append method is deprecated and will be removed from pandas in a future version. Use pandas.concat instead.\n",
      "  test_t = test_t.append(bottom_transac)\n",
      "C:\\Users\\Hammozi\\AppData\\Local\\Temp\\ipykernel_22716\\801327109.py:7: FutureWarning: The frame.append method is deprecated and will be removed from pandas in a future version. Use pandas.concat instead.\n",
      "  test_t = test_t.append(bottom_transac)\n",
      "C:\\Users\\Hammozi\\AppData\\Local\\Temp\\ipykernel_22716\\801327109.py:7: FutureWarning: The frame.append method is deprecated and will be removed from pandas in a future version. Use pandas.concat instead.\n",
      "  test_t = test_t.append(bottom_transac)\n"
     ]
    },
    {
     "name": "stdout",
     "output_type": "stream",
     "text": [
      "608\n",
      "609\n",
      "610\n",
      "611\n"
     ]
    },
    {
     "name": "stderr",
     "output_type": "stream",
     "text": [
      "C:\\Users\\Hammozi\\AppData\\Local\\Temp\\ipykernel_22716\\801327109.py:7: FutureWarning: The frame.append method is deprecated and will be removed from pandas in a future version. Use pandas.concat instead.\n",
      "  test_t = test_t.append(bottom_transac)\n",
      "C:\\Users\\Hammozi\\AppData\\Local\\Temp\\ipykernel_22716\\801327109.py:7: FutureWarning: The frame.append method is deprecated and will be removed from pandas in a future version. Use pandas.concat instead.\n",
      "  test_t = test_t.append(bottom_transac)\n",
      "C:\\Users\\Hammozi\\AppData\\Local\\Temp\\ipykernel_22716\\801327109.py:7: FutureWarning: The frame.append method is deprecated and will be removed from pandas in a future version. Use pandas.concat instead.\n",
      "  test_t = test_t.append(bottom_transac)\n",
      "C:\\Users\\Hammozi\\AppData\\Local\\Temp\\ipykernel_22716\\801327109.py:7: FutureWarning: The frame.append method is deprecated and will be removed from pandas in a future version. Use pandas.concat instead.\n",
      "  test_t = test_t.append(bottom_transac)\n",
      "C:\\Users\\Hammozi\\AppData\\Local\\Temp\\ipykernel_22716\\801327109.py:7: FutureWarning: The frame.append method is deprecated and will be removed from pandas in a future version. Use pandas.concat instead.\n",
      "  test_t = test_t.append(bottom_transac)\n",
      "C:\\Users\\Hammozi\\AppData\\Local\\Temp\\ipykernel_22716\\801327109.py:7: FutureWarning: The frame.append method is deprecated and will be removed from pandas in a future version. Use pandas.concat instead.\n",
      "  test_t = test_t.append(bottom_transac)\n"
     ]
    },
    {
     "name": "stdout",
     "output_type": "stream",
     "text": [
      "612\n",
      "613\n",
      "614\n",
      "615\n"
     ]
    },
    {
     "name": "stderr",
     "output_type": "stream",
     "text": [
      "C:\\Users\\Hammozi\\AppData\\Local\\Temp\\ipykernel_22716\\801327109.py:7: FutureWarning: The frame.append method is deprecated and will be removed from pandas in a future version. Use pandas.concat instead.\n",
      "  test_t = test_t.append(bottom_transac)\n",
      "C:\\Users\\Hammozi\\AppData\\Local\\Temp\\ipykernel_22716\\801327109.py:7: FutureWarning: The frame.append method is deprecated and will be removed from pandas in a future version. Use pandas.concat instead.\n",
      "  test_t = test_t.append(bottom_transac)\n",
      "C:\\Users\\Hammozi\\AppData\\Local\\Temp\\ipykernel_22716\\801327109.py:7: FutureWarning: The frame.append method is deprecated and will be removed from pandas in a future version. Use pandas.concat instead.\n",
      "  test_t = test_t.append(bottom_transac)\n"
     ]
    },
    {
     "name": "stdout",
     "output_type": "stream",
     "text": [
      "616\n",
      "617\n",
      "618\n",
      "619\n"
     ]
    },
    {
     "name": "stderr",
     "output_type": "stream",
     "text": [
      "C:\\Users\\Hammozi\\AppData\\Local\\Temp\\ipykernel_22716\\801327109.py:7: FutureWarning: The frame.append method is deprecated and will be removed from pandas in a future version. Use pandas.concat instead.\n",
      "  test_t = test_t.append(bottom_transac)\n",
      "C:\\Users\\Hammozi\\AppData\\Local\\Temp\\ipykernel_22716\\801327109.py:7: FutureWarning: The frame.append method is deprecated and will be removed from pandas in a future version. Use pandas.concat instead.\n",
      "  test_t = test_t.append(bottom_transac)\n",
      "C:\\Users\\Hammozi\\AppData\\Local\\Temp\\ipykernel_22716\\801327109.py:7: FutureWarning: The frame.append method is deprecated and will be removed from pandas in a future version. Use pandas.concat instead.\n",
      "  test_t = test_t.append(bottom_transac)\n"
     ]
    },
    {
     "name": "stdout",
     "output_type": "stream",
     "text": [
      "620\n",
      "621\n",
      "622\n",
      "623\n"
     ]
    },
    {
     "name": "stderr",
     "output_type": "stream",
     "text": [
      "C:\\Users\\Hammozi\\AppData\\Local\\Temp\\ipykernel_22716\\801327109.py:7: FutureWarning: The frame.append method is deprecated and will be removed from pandas in a future version. Use pandas.concat instead.\n",
      "  test_t = test_t.append(bottom_transac)\n",
      "C:\\Users\\Hammozi\\AppData\\Local\\Temp\\ipykernel_22716\\801327109.py:7: FutureWarning: The frame.append method is deprecated and will be removed from pandas in a future version. Use pandas.concat instead.\n",
      "  test_t = test_t.append(bottom_transac)\n",
      "C:\\Users\\Hammozi\\AppData\\Local\\Temp\\ipykernel_22716\\801327109.py:7: FutureWarning: The frame.append method is deprecated and will be removed from pandas in a future version. Use pandas.concat instead.\n",
      "  test_t = test_t.append(bottom_transac)\n",
      "C:\\Users\\Hammozi\\AppData\\Local\\Temp\\ipykernel_22716\\801327109.py:7: FutureWarning: The frame.append method is deprecated and will be removed from pandas in a future version. Use pandas.concat instead.\n",
      "  test_t = test_t.append(bottom_transac)\n",
      "C:\\Users\\Hammozi\\AppData\\Local\\Temp\\ipykernel_22716\\801327109.py:7: FutureWarning: The frame.append method is deprecated and will be removed from pandas in a future version. Use pandas.concat instead.\n",
      "  test_t = test_t.append(bottom_transac)\n",
      "C:\\Users\\Hammozi\\AppData\\Local\\Temp\\ipykernel_22716\\801327109.py:7: FutureWarning: The frame.append method is deprecated and will be removed from pandas in a future version. Use pandas.concat instead.\n",
      "  test_t = test_t.append(bottom_transac)\n"
     ]
    },
    {
     "name": "stdout",
     "output_type": "stream",
     "text": [
      "624\n",
      "625\n",
      "626\n",
      "627\n"
     ]
    },
    {
     "name": "stderr",
     "output_type": "stream",
     "text": [
      "C:\\Users\\Hammozi\\AppData\\Local\\Temp\\ipykernel_22716\\801327109.py:7: FutureWarning: The frame.append method is deprecated and will be removed from pandas in a future version. Use pandas.concat instead.\n",
      "  test_t = test_t.append(bottom_transac)\n",
      "C:\\Users\\Hammozi\\AppData\\Local\\Temp\\ipykernel_22716\\801327109.py:7: FutureWarning: The frame.append method is deprecated and will be removed from pandas in a future version. Use pandas.concat instead.\n",
      "  test_t = test_t.append(bottom_transac)\n",
      "C:\\Users\\Hammozi\\AppData\\Local\\Temp\\ipykernel_22716\\801327109.py:7: FutureWarning: The frame.append method is deprecated and will be removed from pandas in a future version. Use pandas.concat instead.\n",
      "  test_t = test_t.append(bottom_transac)\n"
     ]
    },
    {
     "name": "stdout",
     "output_type": "stream",
     "text": [
      "628\n",
      "629\n",
      "630\n",
      "631\n"
     ]
    },
    {
     "name": "stderr",
     "output_type": "stream",
     "text": [
      "C:\\Users\\Hammozi\\AppData\\Local\\Temp\\ipykernel_22716\\801327109.py:7: FutureWarning: The frame.append method is deprecated and will be removed from pandas in a future version. Use pandas.concat instead.\n",
      "  test_t = test_t.append(bottom_transac)\n",
      "C:\\Users\\Hammozi\\AppData\\Local\\Temp\\ipykernel_22716\\801327109.py:7: FutureWarning: The frame.append method is deprecated and will be removed from pandas in a future version. Use pandas.concat instead.\n",
      "  test_t = test_t.append(bottom_transac)\n",
      "C:\\Users\\Hammozi\\AppData\\Local\\Temp\\ipykernel_22716\\801327109.py:7: FutureWarning: The frame.append method is deprecated and will be removed from pandas in a future version. Use pandas.concat instead.\n",
      "  test_t = test_t.append(bottom_transac)\n"
     ]
    },
    {
     "name": "stdout",
     "output_type": "stream",
     "text": [
      "632\n",
      "633\n",
      "634\n",
      "635\n"
     ]
    },
    {
     "name": "stderr",
     "output_type": "stream",
     "text": [
      "C:\\Users\\Hammozi\\AppData\\Local\\Temp\\ipykernel_22716\\801327109.py:7: FutureWarning: The frame.append method is deprecated and will be removed from pandas in a future version. Use pandas.concat instead.\n",
      "  test_t = test_t.append(bottom_transac)\n",
      "C:\\Users\\Hammozi\\AppData\\Local\\Temp\\ipykernel_22716\\801327109.py:7: FutureWarning: The frame.append method is deprecated and will be removed from pandas in a future version. Use pandas.concat instead.\n",
      "  test_t = test_t.append(bottom_transac)\n",
      "C:\\Users\\Hammozi\\AppData\\Local\\Temp\\ipykernel_22716\\801327109.py:7: FutureWarning: The frame.append method is deprecated and will be removed from pandas in a future version. Use pandas.concat instead.\n",
      "  test_t = test_t.append(bottom_transac)\n",
      "C:\\Users\\Hammozi\\AppData\\Local\\Temp\\ipykernel_22716\\801327109.py:7: FutureWarning: The frame.append method is deprecated and will be removed from pandas in a future version. Use pandas.concat instead.\n",
      "  test_t = test_t.append(bottom_transac)\n",
      "C:\\Users\\Hammozi\\AppData\\Local\\Temp\\ipykernel_22716\\801327109.py:7: FutureWarning: The frame.append method is deprecated and will be removed from pandas in a future version. Use pandas.concat instead.\n",
      "  test_t = test_t.append(bottom_transac)\n",
      "C:\\Users\\Hammozi\\AppData\\Local\\Temp\\ipykernel_22716\\801327109.py:7: FutureWarning: The frame.append method is deprecated and will be removed from pandas in a future version. Use pandas.concat instead.\n",
      "  test_t = test_t.append(bottom_transac)\n"
     ]
    },
    {
     "name": "stdout",
     "output_type": "stream",
     "text": [
      "636\n",
      "637\n",
      "638\n",
      "639\n"
     ]
    },
    {
     "name": "stderr",
     "output_type": "stream",
     "text": [
      "C:\\Users\\Hammozi\\AppData\\Local\\Temp\\ipykernel_22716\\801327109.py:7: FutureWarning: The frame.append method is deprecated and will be removed from pandas in a future version. Use pandas.concat instead.\n",
      "  test_t = test_t.append(bottom_transac)\n",
      "C:\\Users\\Hammozi\\AppData\\Local\\Temp\\ipykernel_22716\\801327109.py:7: FutureWarning: The frame.append method is deprecated and will be removed from pandas in a future version. Use pandas.concat instead.\n",
      "  test_t = test_t.append(bottom_transac)\n",
      "C:\\Users\\Hammozi\\AppData\\Local\\Temp\\ipykernel_22716\\801327109.py:7: FutureWarning: The frame.append method is deprecated and will be removed from pandas in a future version. Use pandas.concat instead.\n",
      "  test_t = test_t.append(bottom_transac)\n"
     ]
    },
    {
     "name": "stdout",
     "output_type": "stream",
     "text": [
      "640\n",
      "641\n",
      "642\n",
      "643\n"
     ]
    },
    {
     "name": "stderr",
     "output_type": "stream",
     "text": [
      "C:\\Users\\Hammozi\\AppData\\Local\\Temp\\ipykernel_22716\\801327109.py:7: FutureWarning: The frame.append method is deprecated and will be removed from pandas in a future version. Use pandas.concat instead.\n",
      "  test_t = test_t.append(bottom_transac)\n",
      "C:\\Users\\Hammozi\\AppData\\Local\\Temp\\ipykernel_22716\\801327109.py:7: FutureWarning: The frame.append method is deprecated and will be removed from pandas in a future version. Use pandas.concat instead.\n",
      "  test_t = test_t.append(bottom_transac)\n",
      "C:\\Users\\Hammozi\\AppData\\Local\\Temp\\ipykernel_22716\\801327109.py:7: FutureWarning: The frame.append method is deprecated and will be removed from pandas in a future version. Use pandas.concat instead.\n",
      "  test_t = test_t.append(bottom_transac)\n"
     ]
    },
    {
     "name": "stdout",
     "output_type": "stream",
     "text": [
      "644\n",
      "645\n",
      "646\n",
      "647\n"
     ]
    },
    {
     "name": "stderr",
     "output_type": "stream",
     "text": [
      "C:\\Users\\Hammozi\\AppData\\Local\\Temp\\ipykernel_22716\\801327109.py:7: FutureWarning: The frame.append method is deprecated and will be removed from pandas in a future version. Use pandas.concat instead.\n",
      "  test_t = test_t.append(bottom_transac)\n",
      "C:\\Users\\Hammozi\\AppData\\Local\\Temp\\ipykernel_22716\\801327109.py:7: FutureWarning: The frame.append method is deprecated and will be removed from pandas in a future version. Use pandas.concat instead.\n",
      "  test_t = test_t.append(bottom_transac)\n",
      "C:\\Users\\Hammozi\\AppData\\Local\\Temp\\ipykernel_22716\\801327109.py:7: FutureWarning: The frame.append method is deprecated and will be removed from pandas in a future version. Use pandas.concat instead.\n",
      "  test_t = test_t.append(bottom_transac)\n",
      "C:\\Users\\Hammozi\\AppData\\Local\\Temp\\ipykernel_22716\\801327109.py:7: FutureWarning: The frame.append method is deprecated and will be removed from pandas in a future version. Use pandas.concat instead.\n",
      "  test_t = test_t.append(bottom_transac)\n",
      "C:\\Users\\Hammozi\\AppData\\Local\\Temp\\ipykernel_22716\\801327109.py:7: FutureWarning: The frame.append method is deprecated and will be removed from pandas in a future version. Use pandas.concat instead.\n",
      "  test_t = test_t.append(bottom_transac)\n",
      "C:\\Users\\Hammozi\\AppData\\Local\\Temp\\ipykernel_22716\\801327109.py:7: FutureWarning: The frame.append method is deprecated and will be removed from pandas in a future version. Use pandas.concat instead.\n",
      "  test_t = test_t.append(bottom_transac)\n"
     ]
    },
    {
     "name": "stdout",
     "output_type": "stream",
     "text": [
      "648\n",
      "649\n",
      "650\n",
      "651\n"
     ]
    },
    {
     "name": "stderr",
     "output_type": "stream",
     "text": [
      "C:\\Users\\Hammozi\\AppData\\Local\\Temp\\ipykernel_22716\\801327109.py:7: FutureWarning: The frame.append method is deprecated and will be removed from pandas in a future version. Use pandas.concat instead.\n",
      "  test_t = test_t.append(bottom_transac)\n",
      "C:\\Users\\Hammozi\\AppData\\Local\\Temp\\ipykernel_22716\\801327109.py:7: FutureWarning: The frame.append method is deprecated and will be removed from pandas in a future version. Use pandas.concat instead.\n",
      "  test_t = test_t.append(bottom_transac)\n",
      "C:\\Users\\Hammozi\\AppData\\Local\\Temp\\ipykernel_22716\\801327109.py:7: FutureWarning: The frame.append method is deprecated and will be removed from pandas in a future version. Use pandas.concat instead.\n",
      "  test_t = test_t.append(bottom_transac)\n"
     ]
    },
    {
     "name": "stdout",
     "output_type": "stream",
     "text": [
      "652\n",
      "653\n",
      "654\n",
      "655\n"
     ]
    },
    {
     "name": "stderr",
     "output_type": "stream",
     "text": [
      "C:\\Users\\Hammozi\\AppData\\Local\\Temp\\ipykernel_22716\\801327109.py:7: FutureWarning: The frame.append method is deprecated and will be removed from pandas in a future version. Use pandas.concat instead.\n",
      "  test_t = test_t.append(bottom_transac)\n",
      "C:\\Users\\Hammozi\\AppData\\Local\\Temp\\ipykernel_22716\\801327109.py:7: FutureWarning: The frame.append method is deprecated and will be removed from pandas in a future version. Use pandas.concat instead.\n",
      "  test_t = test_t.append(bottom_transac)\n",
      "C:\\Users\\Hammozi\\AppData\\Local\\Temp\\ipykernel_22716\\801327109.py:7: FutureWarning: The frame.append method is deprecated and will be removed from pandas in a future version. Use pandas.concat instead.\n",
      "  test_t = test_t.append(bottom_transac)\n"
     ]
    },
    {
     "name": "stdout",
     "output_type": "stream",
     "text": [
      "656\n",
      "657\n",
      "658\n",
      "659\n"
     ]
    },
    {
     "name": "stderr",
     "output_type": "stream",
     "text": [
      "C:\\Users\\Hammozi\\AppData\\Local\\Temp\\ipykernel_22716\\801327109.py:7: FutureWarning: The frame.append method is deprecated and will be removed from pandas in a future version. Use pandas.concat instead.\n",
      "  test_t = test_t.append(bottom_transac)\n",
      "C:\\Users\\Hammozi\\AppData\\Local\\Temp\\ipykernel_22716\\801327109.py:7: FutureWarning: The frame.append method is deprecated and will be removed from pandas in a future version. Use pandas.concat instead.\n",
      "  test_t = test_t.append(bottom_transac)\n",
      "C:\\Users\\Hammozi\\AppData\\Local\\Temp\\ipykernel_22716\\801327109.py:7: FutureWarning: The frame.append method is deprecated and will be removed from pandas in a future version. Use pandas.concat instead.\n",
      "  test_t = test_t.append(bottom_transac)\n",
      "C:\\Users\\Hammozi\\AppData\\Local\\Temp\\ipykernel_22716\\801327109.py:7: FutureWarning: The frame.append method is deprecated and will be removed from pandas in a future version. Use pandas.concat instead.\n",
      "  test_t = test_t.append(bottom_transac)\n",
      "C:\\Users\\Hammozi\\AppData\\Local\\Temp\\ipykernel_22716\\801327109.py:7: FutureWarning: The frame.append method is deprecated and will be removed from pandas in a future version. Use pandas.concat instead.\n",
      "  test_t = test_t.append(bottom_transac)\n",
      "C:\\Users\\Hammozi\\AppData\\Local\\Temp\\ipykernel_22716\\801327109.py:7: FutureWarning: The frame.append method is deprecated and will be removed from pandas in a future version. Use pandas.concat instead.\n",
      "  test_t = test_t.append(bottom_transac)\n"
     ]
    },
    {
     "name": "stdout",
     "output_type": "stream",
     "text": [
      "660\n",
      "661\n",
      "662\n",
      "663\n"
     ]
    },
    {
     "name": "stderr",
     "output_type": "stream",
     "text": [
      "C:\\Users\\Hammozi\\AppData\\Local\\Temp\\ipykernel_22716\\801327109.py:7: FutureWarning: The frame.append method is deprecated and will be removed from pandas in a future version. Use pandas.concat instead.\n",
      "  test_t = test_t.append(bottom_transac)\n",
      "C:\\Users\\Hammozi\\AppData\\Local\\Temp\\ipykernel_22716\\801327109.py:7: FutureWarning: The frame.append method is deprecated and will be removed from pandas in a future version. Use pandas.concat instead.\n",
      "  test_t = test_t.append(bottom_transac)\n",
      "C:\\Users\\Hammozi\\AppData\\Local\\Temp\\ipykernel_22716\\801327109.py:7: FutureWarning: The frame.append method is deprecated and will be removed from pandas in a future version. Use pandas.concat instead.\n",
      "  test_t = test_t.append(bottom_transac)\n"
     ]
    },
    {
     "name": "stdout",
     "output_type": "stream",
     "text": [
      "664\n",
      "665\n",
      "666\n",
      "667\n"
     ]
    },
    {
     "name": "stderr",
     "output_type": "stream",
     "text": [
      "C:\\Users\\Hammozi\\AppData\\Local\\Temp\\ipykernel_22716\\801327109.py:7: FutureWarning: The frame.append method is deprecated and will be removed from pandas in a future version. Use pandas.concat instead.\n",
      "  test_t = test_t.append(bottom_transac)\n",
      "C:\\Users\\Hammozi\\AppData\\Local\\Temp\\ipykernel_22716\\801327109.py:7: FutureWarning: The frame.append method is deprecated and will be removed from pandas in a future version. Use pandas.concat instead.\n",
      "  test_t = test_t.append(bottom_transac)\n",
      "C:\\Users\\Hammozi\\AppData\\Local\\Temp\\ipykernel_22716\\801327109.py:7: FutureWarning: The frame.append method is deprecated and will be removed from pandas in a future version. Use pandas.concat instead.\n",
      "  test_t = test_t.append(bottom_transac)\n"
     ]
    },
    {
     "name": "stdout",
     "output_type": "stream",
     "text": [
      "668\n",
      "669\n",
      "670\n",
      "671\n"
     ]
    },
    {
     "name": "stderr",
     "output_type": "stream",
     "text": [
      "C:\\Users\\Hammozi\\AppData\\Local\\Temp\\ipykernel_22716\\801327109.py:7: FutureWarning: The frame.append method is deprecated and will be removed from pandas in a future version. Use pandas.concat instead.\n",
      "  test_t = test_t.append(bottom_transac)\n",
      "C:\\Users\\Hammozi\\AppData\\Local\\Temp\\ipykernel_22716\\801327109.py:7: FutureWarning: The frame.append method is deprecated and will be removed from pandas in a future version. Use pandas.concat instead.\n",
      "  test_t = test_t.append(bottom_transac)\n",
      "C:\\Users\\Hammozi\\AppData\\Local\\Temp\\ipykernel_22716\\801327109.py:7: FutureWarning: The frame.append method is deprecated and will be removed from pandas in a future version. Use pandas.concat instead.\n",
      "  test_t = test_t.append(bottom_transac)\n",
      "C:\\Users\\Hammozi\\AppData\\Local\\Temp\\ipykernel_22716\\801327109.py:7: FutureWarning: The frame.append method is deprecated and will be removed from pandas in a future version. Use pandas.concat instead.\n",
      "  test_t = test_t.append(bottom_transac)\n",
      "C:\\Users\\Hammozi\\AppData\\Local\\Temp\\ipykernel_22716\\801327109.py:7: FutureWarning: The frame.append method is deprecated and will be removed from pandas in a future version. Use pandas.concat instead.\n",
      "  test_t = test_t.append(bottom_transac)\n",
      "C:\\Users\\Hammozi\\AppData\\Local\\Temp\\ipykernel_22716\\801327109.py:7: FutureWarning: The frame.append method is deprecated and will be removed from pandas in a future version. Use pandas.concat instead.\n",
      "  test_t = test_t.append(bottom_transac)\n"
     ]
    },
    {
     "name": "stdout",
     "output_type": "stream",
     "text": [
      "672\n",
      "673\n",
      "674\n",
      "675\n"
     ]
    },
    {
     "name": "stderr",
     "output_type": "stream",
     "text": [
      "C:\\Users\\Hammozi\\AppData\\Local\\Temp\\ipykernel_22716\\801327109.py:7: FutureWarning: The frame.append method is deprecated and will be removed from pandas in a future version. Use pandas.concat instead.\n",
      "  test_t = test_t.append(bottom_transac)\n",
      "C:\\Users\\Hammozi\\AppData\\Local\\Temp\\ipykernel_22716\\801327109.py:7: FutureWarning: The frame.append method is deprecated and will be removed from pandas in a future version. Use pandas.concat instead.\n",
      "  test_t = test_t.append(bottom_transac)\n",
      "C:\\Users\\Hammozi\\AppData\\Local\\Temp\\ipykernel_22716\\801327109.py:7: FutureWarning: The frame.append method is deprecated and will be removed from pandas in a future version. Use pandas.concat instead.\n",
      "  test_t = test_t.append(bottom_transac)\n"
     ]
    },
    {
     "name": "stdout",
     "output_type": "stream",
     "text": [
      "676\n",
      "677\n",
      "678\n",
      "679\n"
     ]
    },
    {
     "name": "stderr",
     "output_type": "stream",
     "text": [
      "C:\\Users\\Hammozi\\AppData\\Local\\Temp\\ipykernel_22716\\801327109.py:7: FutureWarning: The frame.append method is deprecated and will be removed from pandas in a future version. Use pandas.concat instead.\n",
      "  test_t = test_t.append(bottom_transac)\n",
      "C:\\Users\\Hammozi\\AppData\\Local\\Temp\\ipykernel_22716\\801327109.py:7: FutureWarning: The frame.append method is deprecated and will be removed from pandas in a future version. Use pandas.concat instead.\n",
      "  test_t = test_t.append(bottom_transac)\n",
      "C:\\Users\\Hammozi\\AppData\\Local\\Temp\\ipykernel_22716\\801327109.py:7: FutureWarning: The frame.append method is deprecated and will be removed from pandas in a future version. Use pandas.concat instead.\n",
      "  test_t = test_t.append(bottom_transac)\n"
     ]
    },
    {
     "name": "stdout",
     "output_type": "stream",
     "text": [
      "680\n",
      "681\n",
      "682\n",
      "683\n"
     ]
    },
    {
     "name": "stderr",
     "output_type": "stream",
     "text": [
      "C:\\Users\\Hammozi\\AppData\\Local\\Temp\\ipykernel_22716\\801327109.py:7: FutureWarning: The frame.append method is deprecated and will be removed from pandas in a future version. Use pandas.concat instead.\n",
      "  test_t = test_t.append(bottom_transac)\n",
      "C:\\Users\\Hammozi\\AppData\\Local\\Temp\\ipykernel_22716\\801327109.py:7: FutureWarning: The frame.append method is deprecated and will be removed from pandas in a future version. Use pandas.concat instead.\n",
      "  test_t = test_t.append(bottom_transac)\n",
      "C:\\Users\\Hammozi\\AppData\\Local\\Temp\\ipykernel_22716\\801327109.py:7: FutureWarning: The frame.append method is deprecated and will be removed from pandas in a future version. Use pandas.concat instead.\n",
      "  test_t = test_t.append(bottom_transac)\n",
      "C:\\Users\\Hammozi\\AppData\\Local\\Temp\\ipykernel_22716\\801327109.py:7: FutureWarning: The frame.append method is deprecated and will be removed from pandas in a future version. Use pandas.concat instead.\n",
      "  test_t = test_t.append(bottom_transac)\n",
      "C:\\Users\\Hammozi\\AppData\\Local\\Temp\\ipykernel_22716\\801327109.py:7: FutureWarning: The frame.append method is deprecated and will be removed from pandas in a future version. Use pandas.concat instead.\n",
      "  test_t = test_t.append(bottom_transac)\n",
      "C:\\Users\\Hammozi\\AppData\\Local\\Temp\\ipykernel_22716\\801327109.py:7: FutureWarning: The frame.append method is deprecated and will be removed from pandas in a future version. Use pandas.concat instead.\n",
      "  test_t = test_t.append(bottom_transac)\n"
     ]
    },
    {
     "name": "stdout",
     "output_type": "stream",
     "text": [
      "684\n",
      "685\n",
      "686\n"
     ]
    },
    {
     "name": "stderr",
     "output_type": "stream",
     "text": [
      "C:\\Users\\Hammozi\\AppData\\Local\\Temp\\ipykernel_22716\\801327109.py:7: FutureWarning: The frame.append method is deprecated and will be removed from pandas in a future version. Use pandas.concat instead.\n",
      "  test_t = test_t.append(bottom_transac)\n",
      "C:\\Users\\Hammozi\\AppData\\Local\\Temp\\ipykernel_22716\\801327109.py:7: FutureWarning: The frame.append method is deprecated and will be removed from pandas in a future version. Use pandas.concat instead.\n",
      "  test_t = test_t.append(bottom_transac)\n",
      "C:\\Users\\Hammozi\\AppData\\Local\\Temp\\ipykernel_22716\\801327109.py:7: FutureWarning: The frame.append method is deprecated and will be removed from pandas in a future version. Use pandas.concat instead.\n",
      "  test_t = test_t.append(bottom_transac)\n"
     ]
    },
    {
     "name": "stdout",
     "output_type": "stream",
     "text": [
      "687\n",
      "688\n",
      "689\n",
      "690\n"
     ]
    },
    {
     "name": "stderr",
     "output_type": "stream",
     "text": [
      "C:\\Users\\Hammozi\\AppData\\Local\\Temp\\ipykernel_22716\\801327109.py:7: FutureWarning: The frame.append method is deprecated and will be removed from pandas in a future version. Use pandas.concat instead.\n",
      "  test_t = test_t.append(bottom_transac)\n",
      "C:\\Users\\Hammozi\\AppData\\Local\\Temp\\ipykernel_22716\\801327109.py:7: FutureWarning: The frame.append method is deprecated and will be removed from pandas in a future version. Use pandas.concat instead.\n",
      "  test_t = test_t.append(bottom_transac)\n",
      "C:\\Users\\Hammozi\\AppData\\Local\\Temp\\ipykernel_22716\\801327109.py:7: FutureWarning: The frame.append method is deprecated and will be removed from pandas in a future version. Use pandas.concat instead.\n",
      "  test_t = test_t.append(bottom_transac)\n"
     ]
    },
    {
     "name": "stdout",
     "output_type": "stream",
     "text": [
      "691\n",
      "692\n",
      "693\n",
      "694\n"
     ]
    },
    {
     "name": "stderr",
     "output_type": "stream",
     "text": [
      "C:\\Users\\Hammozi\\AppData\\Local\\Temp\\ipykernel_22716\\801327109.py:7: FutureWarning: The frame.append method is deprecated and will be removed from pandas in a future version. Use pandas.concat instead.\n",
      "  test_t = test_t.append(bottom_transac)\n",
      "C:\\Users\\Hammozi\\AppData\\Local\\Temp\\ipykernel_22716\\801327109.py:7: FutureWarning: The frame.append method is deprecated and will be removed from pandas in a future version. Use pandas.concat instead.\n",
      "  test_t = test_t.append(bottom_transac)\n",
      "C:\\Users\\Hammozi\\AppData\\Local\\Temp\\ipykernel_22716\\801327109.py:7: FutureWarning: The frame.append method is deprecated and will be removed from pandas in a future version. Use pandas.concat instead.\n",
      "  test_t = test_t.append(bottom_transac)\n"
     ]
    },
    {
     "name": "stdout",
     "output_type": "stream",
     "text": [
      "695\n",
      "696\n",
      "697\n",
      "698\n"
     ]
    },
    {
     "name": "stderr",
     "output_type": "stream",
     "text": [
      "C:\\Users\\Hammozi\\AppData\\Local\\Temp\\ipykernel_22716\\801327109.py:7: FutureWarning: The frame.append method is deprecated and will be removed from pandas in a future version. Use pandas.concat instead.\n",
      "  test_t = test_t.append(bottom_transac)\n",
      "C:\\Users\\Hammozi\\AppData\\Local\\Temp\\ipykernel_22716\\801327109.py:7: FutureWarning: The frame.append method is deprecated and will be removed from pandas in a future version. Use pandas.concat instead.\n",
      "  test_t = test_t.append(bottom_transac)\n",
      "C:\\Users\\Hammozi\\AppData\\Local\\Temp\\ipykernel_22716\\801327109.py:7: FutureWarning: The frame.append method is deprecated and will be removed from pandas in a future version. Use pandas.concat instead.\n",
      "  test_t = test_t.append(bottom_transac)\n",
      "C:\\Users\\Hammozi\\AppData\\Local\\Temp\\ipykernel_22716\\801327109.py:7: FutureWarning: The frame.append method is deprecated and will be removed from pandas in a future version. Use pandas.concat instead.\n",
      "  test_t = test_t.append(bottom_transac)\n",
      "C:\\Users\\Hammozi\\AppData\\Local\\Temp\\ipykernel_22716\\801327109.py:7: FutureWarning: The frame.append method is deprecated and will be removed from pandas in a future version. Use pandas.concat instead.\n",
      "  test_t = test_t.append(bottom_transac)\n",
      "C:\\Users\\Hammozi\\AppData\\Local\\Temp\\ipykernel_22716\\801327109.py:7: FutureWarning: The frame.append method is deprecated and will be removed from pandas in a future version. Use pandas.concat instead.\n",
      "  test_t = test_t.append(bottom_transac)\n"
     ]
    },
    {
     "name": "stdout",
     "output_type": "stream",
     "text": [
      "699\n",
      "700\n",
      "701\n",
      "702\n"
     ]
    },
    {
     "name": "stderr",
     "output_type": "stream",
     "text": [
      "C:\\Users\\Hammozi\\AppData\\Local\\Temp\\ipykernel_22716\\801327109.py:7: FutureWarning: The frame.append method is deprecated and will be removed from pandas in a future version. Use pandas.concat instead.\n",
      "  test_t = test_t.append(bottom_transac)\n",
      "C:\\Users\\Hammozi\\AppData\\Local\\Temp\\ipykernel_22716\\801327109.py:7: FutureWarning: The frame.append method is deprecated and will be removed from pandas in a future version. Use pandas.concat instead.\n",
      "  test_t = test_t.append(bottom_transac)\n",
      "C:\\Users\\Hammozi\\AppData\\Local\\Temp\\ipykernel_22716\\801327109.py:7: FutureWarning: The frame.append method is deprecated and will be removed from pandas in a future version. Use pandas.concat instead.\n",
      "  test_t = test_t.append(bottom_transac)\n"
     ]
    },
    {
     "name": "stdout",
     "output_type": "stream",
     "text": [
      "703\n",
      "704\n",
      "705\n",
      "706\n"
     ]
    },
    {
     "name": "stderr",
     "output_type": "stream",
     "text": [
      "C:\\Users\\Hammozi\\AppData\\Local\\Temp\\ipykernel_22716\\801327109.py:7: FutureWarning: The frame.append method is deprecated and will be removed from pandas in a future version. Use pandas.concat instead.\n",
      "  test_t = test_t.append(bottom_transac)\n",
      "C:\\Users\\Hammozi\\AppData\\Local\\Temp\\ipykernel_22716\\801327109.py:7: FutureWarning: The frame.append method is deprecated and will be removed from pandas in a future version. Use pandas.concat instead.\n",
      "  test_t = test_t.append(bottom_transac)\n",
      "C:\\Users\\Hammozi\\AppData\\Local\\Temp\\ipykernel_22716\\801327109.py:7: FutureWarning: The frame.append method is deprecated and will be removed from pandas in a future version. Use pandas.concat instead.\n",
      "  test_t = test_t.append(bottom_transac)\n"
     ]
    },
    {
     "name": "stdout",
     "output_type": "stream",
     "text": [
      "707\n",
      "708\n",
      "709\n",
      "710\n"
     ]
    },
    {
     "name": "stderr",
     "output_type": "stream",
     "text": [
      "C:\\Users\\Hammozi\\AppData\\Local\\Temp\\ipykernel_22716\\801327109.py:7: FutureWarning: The frame.append method is deprecated and will be removed from pandas in a future version. Use pandas.concat instead.\n",
      "  test_t = test_t.append(bottom_transac)\n",
      "C:\\Users\\Hammozi\\AppData\\Local\\Temp\\ipykernel_22716\\801327109.py:7: FutureWarning: The frame.append method is deprecated and will be removed from pandas in a future version. Use pandas.concat instead.\n",
      "  test_t = test_t.append(bottom_transac)\n",
      "C:\\Users\\Hammozi\\AppData\\Local\\Temp\\ipykernel_22716\\801327109.py:7: FutureWarning: The frame.append method is deprecated and will be removed from pandas in a future version. Use pandas.concat instead.\n",
      "  test_t = test_t.append(bottom_transac)\n",
      "C:\\Users\\Hammozi\\AppData\\Local\\Temp\\ipykernel_22716\\801327109.py:7: FutureWarning: The frame.append method is deprecated and will be removed from pandas in a future version. Use pandas.concat instead.\n",
      "  test_t = test_t.append(bottom_transac)\n",
      "C:\\Users\\Hammozi\\AppData\\Local\\Temp\\ipykernel_22716\\801327109.py:7: FutureWarning: The frame.append method is deprecated and will be removed from pandas in a future version. Use pandas.concat instead.\n",
      "  test_t = test_t.append(bottom_transac)\n",
      "C:\\Users\\Hammozi\\AppData\\Local\\Temp\\ipykernel_22716\\801327109.py:7: FutureWarning: The frame.append method is deprecated and will be removed from pandas in a future version. Use pandas.concat instead.\n",
      "  test_t = test_t.append(bottom_transac)\n"
     ]
    },
    {
     "name": "stdout",
     "output_type": "stream",
     "text": [
      "711\n",
      "712\n",
      "713\n",
      "714\n"
     ]
    },
    {
     "name": "stderr",
     "output_type": "stream",
     "text": [
      "C:\\Users\\Hammozi\\AppData\\Local\\Temp\\ipykernel_22716\\801327109.py:7: FutureWarning: The frame.append method is deprecated and will be removed from pandas in a future version. Use pandas.concat instead.\n",
      "  test_t = test_t.append(bottom_transac)\n",
      "C:\\Users\\Hammozi\\AppData\\Local\\Temp\\ipykernel_22716\\801327109.py:7: FutureWarning: The frame.append method is deprecated and will be removed from pandas in a future version. Use pandas.concat instead.\n",
      "  test_t = test_t.append(bottom_transac)\n",
      "C:\\Users\\Hammozi\\AppData\\Local\\Temp\\ipykernel_22716\\801327109.py:7: FutureWarning: The frame.append method is deprecated and will be removed from pandas in a future version. Use pandas.concat instead.\n",
      "  test_t = test_t.append(bottom_transac)\n"
     ]
    },
    {
     "name": "stdout",
     "output_type": "stream",
     "text": [
      "715\n",
      "716\n",
      "717\n",
      "718\n"
     ]
    },
    {
     "name": "stderr",
     "output_type": "stream",
     "text": [
      "C:\\Users\\Hammozi\\AppData\\Local\\Temp\\ipykernel_22716\\801327109.py:7: FutureWarning: The frame.append method is deprecated and will be removed from pandas in a future version. Use pandas.concat instead.\n",
      "  test_t = test_t.append(bottom_transac)\n",
      "C:\\Users\\Hammozi\\AppData\\Local\\Temp\\ipykernel_22716\\801327109.py:7: FutureWarning: The frame.append method is deprecated and will be removed from pandas in a future version. Use pandas.concat instead.\n",
      "  test_t = test_t.append(bottom_transac)\n",
      "C:\\Users\\Hammozi\\AppData\\Local\\Temp\\ipykernel_22716\\801327109.py:7: FutureWarning: The frame.append method is deprecated and will be removed from pandas in a future version. Use pandas.concat instead.\n",
      "  test_t = test_t.append(bottom_transac)\n"
     ]
    },
    {
     "name": "stdout",
     "output_type": "stream",
     "text": [
      "719\n",
      "720\n",
      "721\n",
      "722\n"
     ]
    },
    {
     "name": "stderr",
     "output_type": "stream",
     "text": [
      "C:\\Users\\Hammozi\\AppData\\Local\\Temp\\ipykernel_22716\\801327109.py:7: FutureWarning: The frame.append method is deprecated and will be removed from pandas in a future version. Use pandas.concat instead.\n",
      "  test_t = test_t.append(bottom_transac)\n",
      "C:\\Users\\Hammozi\\AppData\\Local\\Temp\\ipykernel_22716\\801327109.py:7: FutureWarning: The frame.append method is deprecated and will be removed from pandas in a future version. Use pandas.concat instead.\n",
      "  test_t = test_t.append(bottom_transac)\n",
      "C:\\Users\\Hammozi\\AppData\\Local\\Temp\\ipykernel_22716\\801327109.py:7: FutureWarning: The frame.append method is deprecated and will be removed from pandas in a future version. Use pandas.concat instead.\n",
      "  test_t = test_t.append(bottom_transac)\n",
      "C:\\Users\\Hammozi\\AppData\\Local\\Temp\\ipykernel_22716\\801327109.py:7: FutureWarning: The frame.append method is deprecated and will be removed from pandas in a future version. Use pandas.concat instead.\n",
      "  test_t = test_t.append(bottom_transac)\n",
      "C:\\Users\\Hammozi\\AppData\\Local\\Temp\\ipykernel_22716\\801327109.py:7: FutureWarning: The frame.append method is deprecated and will be removed from pandas in a future version. Use pandas.concat instead.\n",
      "  test_t = test_t.append(bottom_transac)\n",
      "C:\\Users\\Hammozi\\AppData\\Local\\Temp\\ipykernel_22716\\801327109.py:7: FutureWarning: The frame.append method is deprecated and will be removed from pandas in a future version. Use pandas.concat instead.\n",
      "  test_t = test_t.append(bottom_transac)\n"
     ]
    },
    {
     "name": "stdout",
     "output_type": "stream",
     "text": [
      "723\n",
      "724\n",
      "725\n",
      "726\n"
     ]
    },
    {
     "name": "stderr",
     "output_type": "stream",
     "text": [
      "C:\\Users\\Hammozi\\AppData\\Local\\Temp\\ipykernel_22716\\801327109.py:7: FutureWarning: The frame.append method is deprecated and will be removed from pandas in a future version. Use pandas.concat instead.\n",
      "  test_t = test_t.append(bottom_transac)\n",
      "C:\\Users\\Hammozi\\AppData\\Local\\Temp\\ipykernel_22716\\801327109.py:7: FutureWarning: The frame.append method is deprecated and will be removed from pandas in a future version. Use pandas.concat instead.\n",
      "  test_t = test_t.append(bottom_transac)\n",
      "C:\\Users\\Hammozi\\AppData\\Local\\Temp\\ipykernel_22716\\801327109.py:7: FutureWarning: The frame.append method is deprecated and will be removed from pandas in a future version. Use pandas.concat instead.\n",
      "  test_t = test_t.append(bottom_transac)\n"
     ]
    },
    {
     "name": "stdout",
     "output_type": "stream",
     "text": [
      "727\n",
      "728\n",
      "729\n",
      "730\n"
     ]
    },
    {
     "name": "stderr",
     "output_type": "stream",
     "text": [
      "C:\\Users\\Hammozi\\AppData\\Local\\Temp\\ipykernel_22716\\801327109.py:7: FutureWarning: The frame.append method is deprecated and will be removed from pandas in a future version. Use pandas.concat instead.\n",
      "  test_t = test_t.append(bottom_transac)\n",
      "C:\\Users\\Hammozi\\AppData\\Local\\Temp\\ipykernel_22716\\801327109.py:7: FutureWarning: The frame.append method is deprecated and will be removed from pandas in a future version. Use pandas.concat instead.\n",
      "  test_t = test_t.append(bottom_transac)\n",
      "C:\\Users\\Hammozi\\AppData\\Local\\Temp\\ipykernel_22716\\801327109.py:7: FutureWarning: The frame.append method is deprecated and will be removed from pandas in a future version. Use pandas.concat instead.\n",
      "  test_t = test_t.append(bottom_transac)\n"
     ]
    },
    {
     "name": "stdout",
     "output_type": "stream",
     "text": [
      "731\n",
      "732\n",
      "733\n",
      "734\n"
     ]
    },
    {
     "name": "stderr",
     "output_type": "stream",
     "text": [
      "C:\\Users\\Hammozi\\AppData\\Local\\Temp\\ipykernel_22716\\801327109.py:7: FutureWarning: The frame.append method is deprecated and will be removed from pandas in a future version. Use pandas.concat instead.\n",
      "  test_t = test_t.append(bottom_transac)\n",
      "C:\\Users\\Hammozi\\AppData\\Local\\Temp\\ipykernel_22716\\801327109.py:7: FutureWarning: The frame.append method is deprecated and will be removed from pandas in a future version. Use pandas.concat instead.\n",
      "  test_t = test_t.append(bottom_transac)\n",
      "C:\\Users\\Hammozi\\AppData\\Local\\Temp\\ipykernel_22716\\801327109.py:7: FutureWarning: The frame.append method is deprecated and will be removed from pandas in a future version. Use pandas.concat instead.\n",
      "  test_t = test_t.append(bottom_transac)\n",
      "C:\\Users\\Hammozi\\AppData\\Local\\Temp\\ipykernel_22716\\801327109.py:7: FutureWarning: The frame.append method is deprecated and will be removed from pandas in a future version. Use pandas.concat instead.\n",
      "  test_t = test_t.append(bottom_transac)\n",
      "C:\\Users\\Hammozi\\AppData\\Local\\Temp\\ipykernel_22716\\801327109.py:7: FutureWarning: The frame.append method is deprecated and will be removed from pandas in a future version. Use pandas.concat instead.\n",
      "  test_t = test_t.append(bottom_transac)\n",
      "C:\\Users\\Hammozi\\AppData\\Local\\Temp\\ipykernel_22716\\801327109.py:7: FutureWarning: The frame.append method is deprecated and will be removed from pandas in a future version. Use pandas.concat instead.\n",
      "  test_t = test_t.append(bottom_transac)\n"
     ]
    },
    {
     "name": "stdout",
     "output_type": "stream",
     "text": [
      "735\n",
      "736\n",
      "737\n",
      "738\n"
     ]
    },
    {
     "name": "stderr",
     "output_type": "stream",
     "text": [
      "C:\\Users\\Hammozi\\AppData\\Local\\Temp\\ipykernel_22716\\801327109.py:7: FutureWarning: The frame.append method is deprecated and will be removed from pandas in a future version. Use pandas.concat instead.\n",
      "  test_t = test_t.append(bottom_transac)\n",
      "C:\\Users\\Hammozi\\AppData\\Local\\Temp\\ipykernel_22716\\801327109.py:7: FutureWarning: The frame.append method is deprecated and will be removed from pandas in a future version. Use pandas.concat instead.\n",
      "  test_t = test_t.append(bottom_transac)\n",
      "C:\\Users\\Hammozi\\AppData\\Local\\Temp\\ipykernel_22716\\801327109.py:7: FutureWarning: The frame.append method is deprecated and will be removed from pandas in a future version. Use pandas.concat instead.\n",
      "  test_t = test_t.append(bottom_transac)\n"
     ]
    },
    {
     "name": "stdout",
     "output_type": "stream",
     "text": [
      "739\n",
      "740\n",
      "741\n",
      "742\n"
     ]
    },
    {
     "name": "stderr",
     "output_type": "stream",
     "text": [
      "C:\\Users\\Hammozi\\AppData\\Local\\Temp\\ipykernel_22716\\801327109.py:7: FutureWarning: The frame.append method is deprecated and will be removed from pandas in a future version. Use pandas.concat instead.\n",
      "  test_t = test_t.append(bottom_transac)\n",
      "C:\\Users\\Hammozi\\AppData\\Local\\Temp\\ipykernel_22716\\801327109.py:7: FutureWarning: The frame.append method is deprecated and will be removed from pandas in a future version. Use pandas.concat instead.\n",
      "  test_t = test_t.append(bottom_transac)\n",
      "C:\\Users\\Hammozi\\AppData\\Local\\Temp\\ipykernel_22716\\801327109.py:7: FutureWarning: The frame.append method is deprecated and will be removed from pandas in a future version. Use pandas.concat instead.\n",
      "  test_t = test_t.append(bottom_transac)\n"
     ]
    },
    {
     "name": "stdout",
     "output_type": "stream",
     "text": [
      "743\n",
      "744\n",
      "745\n",
      "746\n"
     ]
    },
    {
     "name": "stderr",
     "output_type": "stream",
     "text": [
      "C:\\Users\\Hammozi\\AppData\\Local\\Temp\\ipykernel_22716\\801327109.py:7: FutureWarning: The frame.append method is deprecated and will be removed from pandas in a future version. Use pandas.concat instead.\n",
      "  test_t = test_t.append(bottom_transac)\n",
      "C:\\Users\\Hammozi\\AppData\\Local\\Temp\\ipykernel_22716\\801327109.py:7: FutureWarning: The frame.append method is deprecated and will be removed from pandas in a future version. Use pandas.concat instead.\n",
      "  test_t = test_t.append(bottom_transac)\n",
      "C:\\Users\\Hammozi\\AppData\\Local\\Temp\\ipykernel_22716\\801327109.py:7: FutureWarning: The frame.append method is deprecated and will be removed from pandas in a future version. Use pandas.concat instead.\n",
      "  test_t = test_t.append(bottom_transac)\n",
      "C:\\Users\\Hammozi\\AppData\\Local\\Temp\\ipykernel_22716\\801327109.py:7: FutureWarning: The frame.append method is deprecated and will be removed from pandas in a future version. Use pandas.concat instead.\n",
      "  test_t = test_t.append(bottom_transac)\n",
      "C:\\Users\\Hammozi\\AppData\\Local\\Temp\\ipykernel_22716\\801327109.py:7: FutureWarning: The frame.append method is deprecated and will be removed from pandas in a future version. Use pandas.concat instead.\n",
      "  test_t = test_t.append(bottom_transac)\n",
      "C:\\Users\\Hammozi\\AppData\\Local\\Temp\\ipykernel_22716\\801327109.py:7: FutureWarning: The frame.append method is deprecated and will be removed from pandas in a future version. Use pandas.concat instead.\n",
      "  test_t = test_t.append(bottom_transac)\n"
     ]
    },
    {
     "name": "stdout",
     "output_type": "stream",
     "text": [
      "747\n",
      "748\n",
      "749\n"
     ]
    },
    {
     "name": "stderr",
     "output_type": "stream",
     "text": [
      "C:\\Users\\Hammozi\\AppData\\Local\\Temp\\ipykernel_22716\\801327109.py:7: FutureWarning: The frame.append method is deprecated and will be removed from pandas in a future version. Use pandas.concat instead.\n",
      "  test_t = test_t.append(bottom_transac)\n",
      "C:\\Users\\Hammozi\\AppData\\Local\\Temp\\ipykernel_22716\\801327109.py:7: FutureWarning: The frame.append method is deprecated and will be removed from pandas in a future version. Use pandas.concat instead.\n",
      "  test_t = test_t.append(bottom_transac)\n",
      "C:\\Users\\Hammozi\\AppData\\Local\\Temp\\ipykernel_22716\\801327109.py:7: FutureWarning: The frame.append method is deprecated and will be removed from pandas in a future version. Use pandas.concat instead.\n",
      "  test_t = test_t.append(bottom_transac)\n"
     ]
    },
    {
     "name": "stdout",
     "output_type": "stream",
     "text": [
      "750\n",
      "751\n",
      "752\n",
      "753\n"
     ]
    },
    {
     "name": "stderr",
     "output_type": "stream",
     "text": [
      "C:\\Users\\Hammozi\\AppData\\Local\\Temp\\ipykernel_22716\\801327109.py:7: FutureWarning: The frame.append method is deprecated and will be removed from pandas in a future version. Use pandas.concat instead.\n",
      "  test_t = test_t.append(bottom_transac)\n",
      "C:\\Users\\Hammozi\\AppData\\Local\\Temp\\ipykernel_22716\\801327109.py:7: FutureWarning: The frame.append method is deprecated and will be removed from pandas in a future version. Use pandas.concat instead.\n",
      "  test_t = test_t.append(bottom_transac)\n",
      "C:\\Users\\Hammozi\\AppData\\Local\\Temp\\ipykernel_22716\\801327109.py:7: FutureWarning: The frame.append method is deprecated and will be removed from pandas in a future version. Use pandas.concat instead.\n",
      "  test_t = test_t.append(bottom_transac)\n"
     ]
    },
    {
     "name": "stdout",
     "output_type": "stream",
     "text": [
      "754\n",
      "755\n",
      "756\n"
     ]
    },
    {
     "name": "stderr",
     "output_type": "stream",
     "text": [
      "C:\\Users\\Hammozi\\AppData\\Local\\Temp\\ipykernel_22716\\801327109.py:7: FutureWarning: The frame.append method is deprecated and will be removed from pandas in a future version. Use pandas.concat instead.\n",
      "  test_t = test_t.append(bottom_transac)\n",
      "C:\\Users\\Hammozi\\AppData\\Local\\Temp\\ipykernel_22716\\801327109.py:7: FutureWarning: The frame.append method is deprecated and will be removed from pandas in a future version. Use pandas.concat instead.\n",
      "  test_t = test_t.append(bottom_transac)\n",
      "C:\\Users\\Hammozi\\AppData\\Local\\Temp\\ipykernel_22716\\801327109.py:7: FutureWarning: The frame.append method is deprecated and will be removed from pandas in a future version. Use pandas.concat instead.\n",
      "  test_t = test_t.append(bottom_transac)\n"
     ]
    },
    {
     "name": "stdout",
     "output_type": "stream",
     "text": [
      "757\n",
      "758\n",
      "759\n",
      "760\n"
     ]
    },
    {
     "name": "stderr",
     "output_type": "stream",
     "text": [
      "C:\\Users\\Hammozi\\AppData\\Local\\Temp\\ipykernel_22716\\801327109.py:7: FutureWarning: The frame.append method is deprecated and will be removed from pandas in a future version. Use pandas.concat instead.\n",
      "  test_t = test_t.append(bottom_transac)\n",
      "C:\\Users\\Hammozi\\AppData\\Local\\Temp\\ipykernel_22716\\801327109.py:7: FutureWarning: The frame.append method is deprecated and will be removed from pandas in a future version. Use pandas.concat instead.\n",
      "  test_t = test_t.append(bottom_transac)\n",
      "C:\\Users\\Hammozi\\AppData\\Local\\Temp\\ipykernel_22716\\801327109.py:7: FutureWarning: The frame.append method is deprecated and will be removed from pandas in a future version. Use pandas.concat instead.\n",
      "  test_t = test_t.append(bottom_transac)\n"
     ]
    },
    {
     "name": "stdout",
     "output_type": "stream",
     "text": [
      "761\n",
      "762\n",
      "763\n",
      "764\n"
     ]
    },
    {
     "name": "stderr",
     "output_type": "stream",
     "text": [
      "C:\\Users\\Hammozi\\AppData\\Local\\Temp\\ipykernel_22716\\801327109.py:7: FutureWarning: The frame.append method is deprecated and will be removed from pandas in a future version. Use pandas.concat instead.\n",
      "  test_t = test_t.append(bottom_transac)\n",
      "C:\\Users\\Hammozi\\AppData\\Local\\Temp\\ipykernel_22716\\801327109.py:7: FutureWarning: The frame.append method is deprecated and will be removed from pandas in a future version. Use pandas.concat instead.\n",
      "  test_t = test_t.append(bottom_transac)\n",
      "C:\\Users\\Hammozi\\AppData\\Local\\Temp\\ipykernel_22716\\801327109.py:7: FutureWarning: The frame.append method is deprecated and will be removed from pandas in a future version. Use pandas.concat instead.\n",
      "  test_t = test_t.append(bottom_transac)\n",
      "C:\\Users\\Hammozi\\AppData\\Local\\Temp\\ipykernel_22716\\801327109.py:7: FutureWarning: The frame.append method is deprecated and will be removed from pandas in a future version. Use pandas.concat instead.\n",
      "  test_t = test_t.append(bottom_transac)\n",
      "C:\\Users\\Hammozi\\AppData\\Local\\Temp\\ipykernel_22716\\801327109.py:7: FutureWarning: The frame.append method is deprecated and will be removed from pandas in a future version. Use pandas.concat instead.\n",
      "  test_t = test_t.append(bottom_transac)\n",
      "C:\\Users\\Hammozi\\AppData\\Local\\Temp\\ipykernel_22716\\801327109.py:7: FutureWarning: The frame.append method is deprecated and will be removed from pandas in a future version. Use pandas.concat instead.\n",
      "  test_t = test_t.append(bottom_transac)\n"
     ]
    },
    {
     "name": "stdout",
     "output_type": "stream",
     "text": [
      "765\n",
      "766\n",
      "767\n",
      "768\n"
     ]
    },
    {
     "name": "stderr",
     "output_type": "stream",
     "text": [
      "C:\\Users\\Hammozi\\AppData\\Local\\Temp\\ipykernel_22716\\801327109.py:7: FutureWarning: The frame.append method is deprecated and will be removed from pandas in a future version. Use pandas.concat instead.\n",
      "  test_t = test_t.append(bottom_transac)\n",
      "C:\\Users\\Hammozi\\AppData\\Local\\Temp\\ipykernel_22716\\801327109.py:7: FutureWarning: The frame.append method is deprecated and will be removed from pandas in a future version. Use pandas.concat instead.\n",
      "  test_t = test_t.append(bottom_transac)\n",
      "C:\\Users\\Hammozi\\AppData\\Local\\Temp\\ipykernel_22716\\801327109.py:7: FutureWarning: The frame.append method is deprecated and will be removed from pandas in a future version. Use pandas.concat instead.\n",
      "  test_t = test_t.append(bottom_transac)\n"
     ]
    },
    {
     "name": "stdout",
     "output_type": "stream",
     "text": [
      "769\n",
      "770\n",
      "771\n",
      "772\n"
     ]
    },
    {
     "name": "stderr",
     "output_type": "stream",
     "text": [
      "C:\\Users\\Hammozi\\AppData\\Local\\Temp\\ipykernel_22716\\801327109.py:7: FutureWarning: The frame.append method is deprecated and will be removed from pandas in a future version. Use pandas.concat instead.\n",
      "  test_t = test_t.append(bottom_transac)\n",
      "C:\\Users\\Hammozi\\AppData\\Local\\Temp\\ipykernel_22716\\801327109.py:7: FutureWarning: The frame.append method is deprecated and will be removed from pandas in a future version. Use pandas.concat instead.\n",
      "  test_t = test_t.append(bottom_transac)\n",
      "C:\\Users\\Hammozi\\AppData\\Local\\Temp\\ipykernel_22716\\801327109.py:7: FutureWarning: The frame.append method is deprecated and will be removed from pandas in a future version. Use pandas.concat instead.\n",
      "  test_t = test_t.append(bottom_transac)\n"
     ]
    },
    {
     "name": "stdout",
     "output_type": "stream",
     "text": [
      "773\n",
      "774\n",
      "775\n",
      "776\n"
     ]
    },
    {
     "name": "stderr",
     "output_type": "stream",
     "text": [
      "C:\\Users\\Hammozi\\AppData\\Local\\Temp\\ipykernel_22716\\801327109.py:7: FutureWarning: The frame.append method is deprecated and will be removed from pandas in a future version. Use pandas.concat instead.\n",
      "  test_t = test_t.append(bottom_transac)\n",
      "C:\\Users\\Hammozi\\AppData\\Local\\Temp\\ipykernel_22716\\801327109.py:7: FutureWarning: The frame.append method is deprecated and will be removed from pandas in a future version. Use pandas.concat instead.\n",
      "  test_t = test_t.append(bottom_transac)\n",
      "C:\\Users\\Hammozi\\AppData\\Local\\Temp\\ipykernel_22716\\801327109.py:7: FutureWarning: The frame.append method is deprecated and will be removed from pandas in a future version. Use pandas.concat instead.\n",
      "  test_t = test_t.append(bottom_transac)\n",
      "C:\\Users\\Hammozi\\AppData\\Local\\Temp\\ipykernel_22716\\801327109.py:7: FutureWarning: The frame.append method is deprecated and will be removed from pandas in a future version. Use pandas.concat instead.\n",
      "  test_t = test_t.append(bottom_transac)\n",
      "C:\\Users\\Hammozi\\AppData\\Local\\Temp\\ipykernel_22716\\801327109.py:7: FutureWarning: The frame.append method is deprecated and will be removed from pandas in a future version. Use pandas.concat instead.\n",
      "  test_t = test_t.append(bottom_transac)\n",
      "C:\\Users\\Hammozi\\AppData\\Local\\Temp\\ipykernel_22716\\801327109.py:7: FutureWarning: The frame.append method is deprecated and will be removed from pandas in a future version. Use pandas.concat instead.\n",
      "  test_t = test_t.append(bottom_transac)\n"
     ]
    },
    {
     "name": "stdout",
     "output_type": "stream",
     "text": [
      "777\n",
      "778\n",
      "779\n",
      "780\n"
     ]
    },
    {
     "name": "stderr",
     "output_type": "stream",
     "text": [
      "C:\\Users\\Hammozi\\AppData\\Local\\Temp\\ipykernel_22716\\801327109.py:7: FutureWarning: The frame.append method is deprecated and will be removed from pandas in a future version. Use pandas.concat instead.\n",
      "  test_t = test_t.append(bottom_transac)\n",
      "C:\\Users\\Hammozi\\AppData\\Local\\Temp\\ipykernel_22716\\801327109.py:7: FutureWarning: The frame.append method is deprecated and will be removed from pandas in a future version. Use pandas.concat instead.\n",
      "  test_t = test_t.append(bottom_transac)\n",
      "C:\\Users\\Hammozi\\AppData\\Local\\Temp\\ipykernel_22716\\801327109.py:7: FutureWarning: The frame.append method is deprecated and will be removed from pandas in a future version. Use pandas.concat instead.\n",
      "  test_t = test_t.append(bottom_transac)\n"
     ]
    },
    {
     "name": "stdout",
     "output_type": "stream",
     "text": [
      "781\n",
      "782\n",
      "783\n",
      "784\n"
     ]
    },
    {
     "name": "stderr",
     "output_type": "stream",
     "text": [
      "C:\\Users\\Hammozi\\AppData\\Local\\Temp\\ipykernel_22716\\801327109.py:7: FutureWarning: The frame.append method is deprecated and will be removed from pandas in a future version. Use pandas.concat instead.\n",
      "  test_t = test_t.append(bottom_transac)\n",
      "C:\\Users\\Hammozi\\AppData\\Local\\Temp\\ipykernel_22716\\801327109.py:7: FutureWarning: The frame.append method is deprecated and will be removed from pandas in a future version. Use pandas.concat instead.\n",
      "  test_t = test_t.append(bottom_transac)\n",
      "C:\\Users\\Hammozi\\AppData\\Local\\Temp\\ipykernel_22716\\801327109.py:7: FutureWarning: The frame.append method is deprecated and will be removed from pandas in a future version. Use pandas.concat instead.\n",
      "  test_t = test_t.append(bottom_transac)\n"
     ]
    },
    {
     "name": "stdout",
     "output_type": "stream",
     "text": [
      "785\n",
      "786\n",
      "787\n"
     ]
    },
    {
     "name": "stderr",
     "output_type": "stream",
     "text": [
      "C:\\Users\\Hammozi\\AppData\\Local\\Temp\\ipykernel_22716\\801327109.py:7: FutureWarning: The frame.append method is deprecated and will be removed from pandas in a future version. Use pandas.concat instead.\n",
      "  test_t = test_t.append(bottom_transac)\n",
      "C:\\Users\\Hammozi\\AppData\\Local\\Temp\\ipykernel_22716\\801327109.py:7: FutureWarning: The frame.append method is deprecated and will be removed from pandas in a future version. Use pandas.concat instead.\n",
      "  test_t = test_t.append(bottom_transac)\n",
      "C:\\Users\\Hammozi\\AppData\\Local\\Temp\\ipykernel_22716\\801327109.py:7: FutureWarning: The frame.append method is deprecated and will be removed from pandas in a future version. Use pandas.concat instead.\n",
      "  test_t = test_t.append(bottom_transac)\n"
     ]
    },
    {
     "name": "stdout",
     "output_type": "stream",
     "text": [
      "788\n",
      "789\n",
      "790\n",
      "791\n"
     ]
    },
    {
     "name": "stderr",
     "output_type": "stream",
     "text": [
      "C:\\Users\\Hammozi\\AppData\\Local\\Temp\\ipykernel_22716\\801327109.py:7: FutureWarning: The frame.append method is deprecated and will be removed from pandas in a future version. Use pandas.concat instead.\n",
      "  test_t = test_t.append(bottom_transac)\n",
      "C:\\Users\\Hammozi\\AppData\\Local\\Temp\\ipykernel_22716\\801327109.py:7: FutureWarning: The frame.append method is deprecated and will be removed from pandas in a future version. Use pandas.concat instead.\n",
      "  test_t = test_t.append(bottom_transac)\n",
      "C:\\Users\\Hammozi\\AppData\\Local\\Temp\\ipykernel_22716\\801327109.py:7: FutureWarning: The frame.append method is deprecated and will be removed from pandas in a future version. Use pandas.concat instead.\n",
      "  test_t = test_t.append(bottom_transac)\n",
      "C:\\Users\\Hammozi\\AppData\\Local\\Temp\\ipykernel_22716\\801327109.py:7: FutureWarning: The frame.append method is deprecated and will be removed from pandas in a future version. Use pandas.concat instead.\n",
      "  test_t = test_t.append(bottom_transac)\n",
      "C:\\Users\\Hammozi\\AppData\\Local\\Temp\\ipykernel_22716\\801327109.py:7: FutureWarning: The frame.append method is deprecated and will be removed from pandas in a future version. Use pandas.concat instead.\n",
      "  test_t = test_t.append(bottom_transac)\n",
      "C:\\Users\\Hammozi\\AppData\\Local\\Temp\\ipykernel_22716\\801327109.py:7: FutureWarning: The frame.append method is deprecated and will be removed from pandas in a future version. Use pandas.concat instead.\n",
      "  test_t = test_t.append(bottom_transac)\n"
     ]
    },
    {
     "name": "stdout",
     "output_type": "stream",
     "text": [
      "792\n",
      "793\n",
      "794\n",
      "795\n"
     ]
    },
    {
     "name": "stderr",
     "output_type": "stream",
     "text": [
      "C:\\Users\\Hammozi\\AppData\\Local\\Temp\\ipykernel_22716\\801327109.py:7: FutureWarning: The frame.append method is deprecated and will be removed from pandas in a future version. Use pandas.concat instead.\n",
      "  test_t = test_t.append(bottom_transac)\n",
      "C:\\Users\\Hammozi\\AppData\\Local\\Temp\\ipykernel_22716\\801327109.py:7: FutureWarning: The frame.append method is deprecated and will be removed from pandas in a future version. Use pandas.concat instead.\n",
      "  test_t = test_t.append(bottom_transac)\n",
      "C:\\Users\\Hammozi\\AppData\\Local\\Temp\\ipykernel_22716\\801327109.py:7: FutureWarning: The frame.append method is deprecated and will be removed from pandas in a future version. Use pandas.concat instead.\n",
      "  test_t = test_t.append(bottom_transac)\n"
     ]
    },
    {
     "name": "stdout",
     "output_type": "stream",
     "text": [
      "796\n",
      "797\n",
      "798\n",
      "799\n"
     ]
    },
    {
     "name": "stderr",
     "output_type": "stream",
     "text": [
      "C:\\Users\\Hammozi\\AppData\\Local\\Temp\\ipykernel_22716\\801327109.py:7: FutureWarning: The frame.append method is deprecated and will be removed from pandas in a future version. Use pandas.concat instead.\n",
      "  test_t = test_t.append(bottom_transac)\n",
      "C:\\Users\\Hammozi\\AppData\\Local\\Temp\\ipykernel_22716\\801327109.py:7: FutureWarning: The frame.append method is deprecated and will be removed from pandas in a future version. Use pandas.concat instead.\n",
      "  test_t = test_t.append(bottom_transac)\n",
      "C:\\Users\\Hammozi\\AppData\\Local\\Temp\\ipykernel_22716\\801327109.py:7: FutureWarning: The frame.append method is deprecated and will be removed from pandas in a future version. Use pandas.concat instead.\n",
      "  test_t = test_t.append(bottom_transac)\n"
     ]
    },
    {
     "name": "stdout",
     "output_type": "stream",
     "text": [
      "800\n",
      "801\n",
      "802\n",
      "803\n"
     ]
    },
    {
     "name": "stderr",
     "output_type": "stream",
     "text": [
      "C:\\Users\\Hammozi\\AppData\\Local\\Temp\\ipykernel_22716\\801327109.py:7: FutureWarning: The frame.append method is deprecated and will be removed from pandas in a future version. Use pandas.concat instead.\n",
      "  test_t = test_t.append(bottom_transac)\n",
      "C:\\Users\\Hammozi\\AppData\\Local\\Temp\\ipykernel_22716\\801327109.py:7: FutureWarning: The frame.append method is deprecated and will be removed from pandas in a future version. Use pandas.concat instead.\n",
      "  test_t = test_t.append(bottom_transac)\n",
      "C:\\Users\\Hammozi\\AppData\\Local\\Temp\\ipykernel_22716\\801327109.py:7: FutureWarning: The frame.append method is deprecated and will be removed from pandas in a future version. Use pandas.concat instead.\n",
      "  test_t = test_t.append(bottom_transac)\n",
      "C:\\Users\\Hammozi\\AppData\\Local\\Temp\\ipykernel_22716\\801327109.py:7: FutureWarning: The frame.append method is deprecated and will be removed from pandas in a future version. Use pandas.concat instead.\n",
      "  test_t = test_t.append(bottom_transac)\n",
      "C:\\Users\\Hammozi\\AppData\\Local\\Temp\\ipykernel_22716\\801327109.py:7: FutureWarning: The frame.append method is deprecated and will be removed from pandas in a future version. Use pandas.concat instead.\n",
      "  test_t = test_t.append(bottom_transac)\n",
      "C:\\Users\\Hammozi\\AppData\\Local\\Temp\\ipykernel_22716\\801327109.py:7: FutureWarning: The frame.append method is deprecated and will be removed from pandas in a future version. Use pandas.concat instead.\n",
      "  test_t = test_t.append(bottom_transac)\n"
     ]
    },
    {
     "name": "stdout",
     "output_type": "stream",
     "text": [
      "804\n",
      "805\n",
      "806\n"
     ]
    },
    {
     "name": "stderr",
     "output_type": "stream",
     "text": [
      "C:\\Users\\Hammozi\\AppData\\Local\\Temp\\ipykernel_22716\\801327109.py:7: FutureWarning: The frame.append method is deprecated and will be removed from pandas in a future version. Use pandas.concat instead.\n",
      "  test_t = test_t.append(bottom_transac)\n",
      "C:\\Users\\Hammozi\\AppData\\Local\\Temp\\ipykernel_22716\\801327109.py:7: FutureWarning: The frame.append method is deprecated and will be removed from pandas in a future version. Use pandas.concat instead.\n",
      "  test_t = test_t.append(bottom_transac)\n",
      "C:\\Users\\Hammozi\\AppData\\Local\\Temp\\ipykernel_22716\\801327109.py:7: FutureWarning: The frame.append method is deprecated and will be removed from pandas in a future version. Use pandas.concat instead.\n",
      "  test_t = test_t.append(bottom_transac)\n"
     ]
    },
    {
     "name": "stdout",
     "output_type": "stream",
     "text": [
      "807\n",
      "808\n",
      "809\n",
      "810\n"
     ]
    },
    {
     "name": "stderr",
     "output_type": "stream",
     "text": [
      "C:\\Users\\Hammozi\\AppData\\Local\\Temp\\ipykernel_22716\\801327109.py:7: FutureWarning: The frame.append method is deprecated and will be removed from pandas in a future version. Use pandas.concat instead.\n",
      "  test_t = test_t.append(bottom_transac)\n",
      "C:\\Users\\Hammozi\\AppData\\Local\\Temp\\ipykernel_22716\\801327109.py:7: FutureWarning: The frame.append method is deprecated and will be removed from pandas in a future version. Use pandas.concat instead.\n",
      "  test_t = test_t.append(bottom_transac)\n",
      "C:\\Users\\Hammozi\\AppData\\Local\\Temp\\ipykernel_22716\\801327109.py:7: FutureWarning: The frame.append method is deprecated and will be removed from pandas in a future version. Use pandas.concat instead.\n",
      "  test_t = test_t.append(bottom_transac)\n"
     ]
    },
    {
     "name": "stdout",
     "output_type": "stream",
     "text": [
      "811\n",
      "812\n",
      "813\n",
      "814\n"
     ]
    },
    {
     "name": "stderr",
     "output_type": "stream",
     "text": [
      "C:\\Users\\Hammozi\\AppData\\Local\\Temp\\ipykernel_22716\\801327109.py:7: FutureWarning: The frame.append method is deprecated and will be removed from pandas in a future version. Use pandas.concat instead.\n",
      "  test_t = test_t.append(bottom_transac)\n",
      "C:\\Users\\Hammozi\\AppData\\Local\\Temp\\ipykernel_22716\\801327109.py:7: FutureWarning: The frame.append method is deprecated and will be removed from pandas in a future version. Use pandas.concat instead.\n",
      "  test_t = test_t.append(bottom_transac)\n",
      "C:\\Users\\Hammozi\\AppData\\Local\\Temp\\ipykernel_22716\\801327109.py:7: FutureWarning: The frame.append method is deprecated and will be removed from pandas in a future version. Use pandas.concat instead.\n",
      "  test_t = test_t.append(bottom_transac)\n"
     ]
    },
    {
     "name": "stdout",
     "output_type": "stream",
     "text": [
      "815\n",
      "816\n",
      "817\n",
      "818\n"
     ]
    },
    {
     "name": "stderr",
     "output_type": "stream",
     "text": [
      "C:\\Users\\Hammozi\\AppData\\Local\\Temp\\ipykernel_22716\\801327109.py:7: FutureWarning: The frame.append method is deprecated and will be removed from pandas in a future version. Use pandas.concat instead.\n",
      "  test_t = test_t.append(bottom_transac)\n",
      "C:\\Users\\Hammozi\\AppData\\Local\\Temp\\ipykernel_22716\\801327109.py:7: FutureWarning: The frame.append method is deprecated and will be removed from pandas in a future version. Use pandas.concat instead.\n",
      "  test_t = test_t.append(bottom_transac)\n",
      "C:\\Users\\Hammozi\\AppData\\Local\\Temp\\ipykernel_22716\\801327109.py:7: FutureWarning: The frame.append method is deprecated and will be removed from pandas in a future version. Use pandas.concat instead.\n",
      "  test_t = test_t.append(bottom_transac)\n",
      "C:\\Users\\Hammozi\\AppData\\Local\\Temp\\ipykernel_22716\\801327109.py:7: FutureWarning: The frame.append method is deprecated and will be removed from pandas in a future version. Use pandas.concat instead.\n",
      "  test_t = test_t.append(bottom_transac)\n",
      "C:\\Users\\Hammozi\\AppData\\Local\\Temp\\ipykernel_22716\\801327109.py:7: FutureWarning: The frame.append method is deprecated and will be removed from pandas in a future version. Use pandas.concat instead.\n",
      "  test_t = test_t.append(bottom_transac)\n",
      "C:\\Users\\Hammozi\\AppData\\Local\\Temp\\ipykernel_22716\\801327109.py:7: FutureWarning: The frame.append method is deprecated and will be removed from pandas in a future version. Use pandas.concat instead.\n",
      "  test_t = test_t.append(bottom_transac)\n"
     ]
    },
    {
     "name": "stdout",
     "output_type": "stream",
     "text": [
      "819\n",
      "820\n",
      "821\n"
     ]
    },
    {
     "name": "stderr",
     "output_type": "stream",
     "text": [
      "C:\\Users\\Hammozi\\AppData\\Local\\Temp\\ipykernel_22716\\801327109.py:7: FutureWarning: The frame.append method is deprecated and will be removed from pandas in a future version. Use pandas.concat instead.\n",
      "  test_t = test_t.append(bottom_transac)\n",
      "C:\\Users\\Hammozi\\AppData\\Local\\Temp\\ipykernel_22716\\801327109.py:7: FutureWarning: The frame.append method is deprecated and will be removed from pandas in a future version. Use pandas.concat instead.\n",
      "  test_t = test_t.append(bottom_transac)\n",
      "C:\\Users\\Hammozi\\AppData\\Local\\Temp\\ipykernel_22716\\801327109.py:7: FutureWarning: The frame.append method is deprecated and will be removed from pandas in a future version. Use pandas.concat instead.\n",
      "  test_t = test_t.append(bottom_transac)\n"
     ]
    },
    {
     "name": "stdout",
     "output_type": "stream",
     "text": [
      "822\n",
      "823\n",
      "824\n",
      "825\n"
     ]
    },
    {
     "name": "stderr",
     "output_type": "stream",
     "text": [
      "C:\\Users\\Hammozi\\AppData\\Local\\Temp\\ipykernel_22716\\801327109.py:7: FutureWarning: The frame.append method is deprecated and will be removed from pandas in a future version. Use pandas.concat instead.\n",
      "  test_t = test_t.append(bottom_transac)\n",
      "C:\\Users\\Hammozi\\AppData\\Local\\Temp\\ipykernel_22716\\801327109.py:7: FutureWarning: The frame.append method is deprecated and will be removed from pandas in a future version. Use pandas.concat instead.\n",
      "  test_t = test_t.append(bottom_transac)\n",
      "C:\\Users\\Hammozi\\AppData\\Local\\Temp\\ipykernel_22716\\801327109.py:7: FutureWarning: The frame.append method is deprecated and will be removed from pandas in a future version. Use pandas.concat instead.\n",
      "  test_t = test_t.append(bottom_transac)\n"
     ]
    },
    {
     "name": "stdout",
     "output_type": "stream",
     "text": [
      "826\n",
      "827\n",
      "828\n",
      "829\n"
     ]
    },
    {
     "name": "stderr",
     "output_type": "stream",
     "text": [
      "C:\\Users\\Hammozi\\AppData\\Local\\Temp\\ipykernel_22716\\801327109.py:7: FutureWarning: The frame.append method is deprecated and will be removed from pandas in a future version. Use pandas.concat instead.\n",
      "  test_t = test_t.append(bottom_transac)\n",
      "C:\\Users\\Hammozi\\AppData\\Local\\Temp\\ipykernel_22716\\801327109.py:7: FutureWarning: The frame.append method is deprecated and will be removed from pandas in a future version. Use pandas.concat instead.\n",
      "  test_t = test_t.append(bottom_transac)\n",
      "C:\\Users\\Hammozi\\AppData\\Local\\Temp\\ipykernel_22716\\801327109.py:7: FutureWarning: The frame.append method is deprecated and will be removed from pandas in a future version. Use pandas.concat instead.\n",
      "  test_t = test_t.append(bottom_transac)\n"
     ]
    },
    {
     "name": "stdout",
     "output_type": "stream",
     "text": [
      "830\n",
      "831\n",
      "832\n",
      "833\n"
     ]
    },
    {
     "name": "stderr",
     "output_type": "stream",
     "text": [
      "C:\\Users\\Hammozi\\AppData\\Local\\Temp\\ipykernel_22716\\801327109.py:7: FutureWarning: The frame.append method is deprecated and will be removed from pandas in a future version. Use pandas.concat instead.\n",
      "  test_t = test_t.append(bottom_transac)\n",
      "C:\\Users\\Hammozi\\AppData\\Local\\Temp\\ipykernel_22716\\801327109.py:7: FutureWarning: The frame.append method is deprecated and will be removed from pandas in a future version. Use pandas.concat instead.\n",
      "  test_t = test_t.append(bottom_transac)\n",
      "C:\\Users\\Hammozi\\AppData\\Local\\Temp\\ipykernel_22716\\801327109.py:7: FutureWarning: The frame.append method is deprecated and will be removed from pandas in a future version. Use pandas.concat instead.\n",
      "  test_t = test_t.append(bottom_transac)\n",
      "C:\\Users\\Hammozi\\AppData\\Local\\Temp\\ipykernel_22716\\801327109.py:7: FutureWarning: The frame.append method is deprecated and will be removed from pandas in a future version. Use pandas.concat instead.\n",
      "  test_t = test_t.append(bottom_transac)\n",
      "C:\\Users\\Hammozi\\AppData\\Local\\Temp\\ipykernel_22716\\801327109.py:7: FutureWarning: The frame.append method is deprecated and will be removed from pandas in a future version. Use pandas.concat instead.\n",
      "  test_t = test_t.append(bottom_transac)\n",
      "C:\\Users\\Hammozi\\AppData\\Local\\Temp\\ipykernel_22716\\801327109.py:7: FutureWarning: The frame.append method is deprecated and will be removed from pandas in a future version. Use pandas.concat instead.\n",
      "  test_t = test_t.append(bottom_transac)\n"
     ]
    },
    {
     "name": "stdout",
     "output_type": "stream",
     "text": [
      "834\n",
      "835\n",
      "836\n",
      "837\n"
     ]
    },
    {
     "name": "stderr",
     "output_type": "stream",
     "text": [
      "C:\\Users\\Hammozi\\AppData\\Local\\Temp\\ipykernel_22716\\801327109.py:7: FutureWarning: The frame.append method is deprecated and will be removed from pandas in a future version. Use pandas.concat instead.\n",
      "  test_t = test_t.append(bottom_transac)\n",
      "C:\\Users\\Hammozi\\AppData\\Local\\Temp\\ipykernel_22716\\801327109.py:7: FutureWarning: The frame.append method is deprecated and will be removed from pandas in a future version. Use pandas.concat instead.\n",
      "  test_t = test_t.append(bottom_transac)\n",
      "C:\\Users\\Hammozi\\AppData\\Local\\Temp\\ipykernel_22716\\801327109.py:7: FutureWarning: The frame.append method is deprecated and will be removed from pandas in a future version. Use pandas.concat instead.\n",
      "  test_t = test_t.append(bottom_transac)\n"
     ]
    },
    {
     "name": "stdout",
     "output_type": "stream",
     "text": [
      "838\n",
      "839\n",
      "840\n",
      "841\n"
     ]
    },
    {
     "name": "stderr",
     "output_type": "stream",
     "text": [
      "C:\\Users\\Hammozi\\AppData\\Local\\Temp\\ipykernel_22716\\801327109.py:7: FutureWarning: The frame.append method is deprecated and will be removed from pandas in a future version. Use pandas.concat instead.\n",
      "  test_t = test_t.append(bottom_transac)\n",
      "C:\\Users\\Hammozi\\AppData\\Local\\Temp\\ipykernel_22716\\801327109.py:7: FutureWarning: The frame.append method is deprecated and will be removed from pandas in a future version. Use pandas.concat instead.\n",
      "  test_t = test_t.append(bottom_transac)\n",
      "C:\\Users\\Hammozi\\AppData\\Local\\Temp\\ipykernel_22716\\801327109.py:7: FutureWarning: The frame.append method is deprecated and will be removed from pandas in a future version. Use pandas.concat instead.\n",
      "  test_t = test_t.append(bottom_transac)\n"
     ]
    },
    {
     "name": "stdout",
     "output_type": "stream",
     "text": [
      "842\n",
      "843\n",
      "844\n",
      "845\n"
     ]
    },
    {
     "name": "stderr",
     "output_type": "stream",
     "text": [
      "C:\\Users\\Hammozi\\AppData\\Local\\Temp\\ipykernel_22716\\801327109.py:7: FutureWarning: The frame.append method is deprecated and will be removed from pandas in a future version. Use pandas.concat instead.\n",
      "  test_t = test_t.append(bottom_transac)\n",
      "C:\\Users\\Hammozi\\AppData\\Local\\Temp\\ipykernel_22716\\801327109.py:7: FutureWarning: The frame.append method is deprecated and will be removed from pandas in a future version. Use pandas.concat instead.\n",
      "  test_t = test_t.append(bottom_transac)\n",
      "C:\\Users\\Hammozi\\AppData\\Local\\Temp\\ipykernel_22716\\801327109.py:7: FutureWarning: The frame.append method is deprecated and will be removed from pandas in a future version. Use pandas.concat instead.\n",
      "  test_t = test_t.append(bottom_transac)\n",
      "C:\\Users\\Hammozi\\AppData\\Local\\Temp\\ipykernel_22716\\801327109.py:7: FutureWarning: The frame.append method is deprecated and will be removed from pandas in a future version. Use pandas.concat instead.\n",
      "  test_t = test_t.append(bottom_transac)\n",
      "C:\\Users\\Hammozi\\AppData\\Local\\Temp\\ipykernel_22716\\801327109.py:7: FutureWarning: The frame.append method is deprecated and will be removed from pandas in a future version. Use pandas.concat instead.\n",
      "  test_t = test_t.append(bottom_transac)\n",
      "C:\\Users\\Hammozi\\AppData\\Local\\Temp\\ipykernel_22716\\801327109.py:7: FutureWarning: The frame.append method is deprecated and will be removed from pandas in a future version. Use pandas.concat instead.\n",
      "  test_t = test_t.append(bottom_transac)\n"
     ]
    },
    {
     "name": "stdout",
     "output_type": "stream",
     "text": [
      "846\n",
      "847\n",
      "848\n",
      "849\n"
     ]
    },
    {
     "name": "stderr",
     "output_type": "stream",
     "text": [
      "C:\\Users\\Hammozi\\AppData\\Local\\Temp\\ipykernel_22716\\801327109.py:7: FutureWarning: The frame.append method is deprecated and will be removed from pandas in a future version. Use pandas.concat instead.\n",
      "  test_t = test_t.append(bottom_transac)\n",
      "C:\\Users\\Hammozi\\AppData\\Local\\Temp\\ipykernel_22716\\801327109.py:7: FutureWarning: The frame.append method is deprecated and will be removed from pandas in a future version. Use pandas.concat instead.\n",
      "  test_t = test_t.append(bottom_transac)\n",
      "C:\\Users\\Hammozi\\AppData\\Local\\Temp\\ipykernel_22716\\801327109.py:7: FutureWarning: The frame.append method is deprecated and will be removed from pandas in a future version. Use pandas.concat instead.\n",
      "  test_t = test_t.append(bottom_transac)\n"
     ]
    },
    {
     "name": "stdout",
     "output_type": "stream",
     "text": [
      "850\n",
      "851\n",
      "852\n"
     ]
    },
    {
     "name": "stderr",
     "output_type": "stream",
     "text": [
      "C:\\Users\\Hammozi\\AppData\\Local\\Temp\\ipykernel_22716\\801327109.py:7: FutureWarning: The frame.append method is deprecated and will be removed from pandas in a future version. Use pandas.concat instead.\n",
      "  test_t = test_t.append(bottom_transac)\n",
      "C:\\Users\\Hammozi\\AppData\\Local\\Temp\\ipykernel_22716\\801327109.py:7: FutureWarning: The frame.append method is deprecated and will be removed from pandas in a future version. Use pandas.concat instead.\n",
      "  test_t = test_t.append(bottom_transac)\n",
      "C:\\Users\\Hammozi\\AppData\\Local\\Temp\\ipykernel_22716\\801327109.py:7: FutureWarning: The frame.append method is deprecated and will be removed from pandas in a future version. Use pandas.concat instead.\n",
      "  test_t = test_t.append(bottom_transac)\n"
     ]
    },
    {
     "name": "stdout",
     "output_type": "stream",
     "text": [
      "853\n",
      "854\n",
      "855\n",
      "856\n"
     ]
    },
    {
     "name": "stderr",
     "output_type": "stream",
     "text": [
      "C:\\Users\\Hammozi\\AppData\\Local\\Temp\\ipykernel_22716\\801327109.py:7: FutureWarning: The frame.append method is deprecated and will be removed from pandas in a future version. Use pandas.concat instead.\n",
      "  test_t = test_t.append(bottom_transac)\n",
      "C:\\Users\\Hammozi\\AppData\\Local\\Temp\\ipykernel_22716\\801327109.py:7: FutureWarning: The frame.append method is deprecated and will be removed from pandas in a future version. Use pandas.concat instead.\n",
      "  test_t = test_t.append(bottom_transac)\n",
      "C:\\Users\\Hammozi\\AppData\\Local\\Temp\\ipykernel_22716\\801327109.py:7: FutureWarning: The frame.append method is deprecated and will be removed from pandas in a future version. Use pandas.concat instead.\n",
      "  test_t = test_t.append(bottom_transac)\n"
     ]
    },
    {
     "name": "stdout",
     "output_type": "stream",
     "text": [
      "857\n",
      "858\n",
      "859\n"
     ]
    },
    {
     "name": "stderr",
     "output_type": "stream",
     "text": [
      "C:\\Users\\Hammozi\\AppData\\Local\\Temp\\ipykernel_22716\\801327109.py:7: FutureWarning: The frame.append method is deprecated and will be removed from pandas in a future version. Use pandas.concat instead.\n",
      "  test_t = test_t.append(bottom_transac)\n",
      "C:\\Users\\Hammozi\\AppData\\Local\\Temp\\ipykernel_22716\\801327109.py:7: FutureWarning: The frame.append method is deprecated and will be removed from pandas in a future version. Use pandas.concat instead.\n",
      "  test_t = test_t.append(bottom_transac)\n",
      "C:\\Users\\Hammozi\\AppData\\Local\\Temp\\ipykernel_22716\\801327109.py:7: FutureWarning: The frame.append method is deprecated and will be removed from pandas in a future version. Use pandas.concat instead.\n",
      "  test_t = test_t.append(bottom_transac)\n"
     ]
    },
    {
     "name": "stdout",
     "output_type": "stream",
     "text": [
      "860\n",
      "861\n",
      "862\n"
     ]
    },
    {
     "name": "stderr",
     "output_type": "stream",
     "text": [
      "C:\\Users\\Hammozi\\AppData\\Local\\Temp\\ipykernel_22716\\801327109.py:7: FutureWarning: The frame.append method is deprecated and will be removed from pandas in a future version. Use pandas.concat instead.\n",
      "  test_t = test_t.append(bottom_transac)\n",
      "C:\\Users\\Hammozi\\AppData\\Local\\Temp\\ipykernel_22716\\801327109.py:7: FutureWarning: The frame.append method is deprecated and will be removed from pandas in a future version. Use pandas.concat instead.\n",
      "  test_t = test_t.append(bottom_transac)\n",
      "C:\\Users\\Hammozi\\AppData\\Local\\Temp\\ipykernel_22716\\801327109.py:7: FutureWarning: The frame.append method is deprecated and will be removed from pandas in a future version. Use pandas.concat instead.\n",
      "  test_t = test_t.append(bottom_transac)\n"
     ]
    },
    {
     "name": "stdout",
     "output_type": "stream",
     "text": [
      "863\n",
      "864\n",
      "865\n",
      "866\n"
     ]
    },
    {
     "name": "stderr",
     "output_type": "stream",
     "text": [
      "C:\\Users\\Hammozi\\AppData\\Local\\Temp\\ipykernel_22716\\801327109.py:7: FutureWarning: The frame.append method is deprecated and will be removed from pandas in a future version. Use pandas.concat instead.\n",
      "  test_t = test_t.append(bottom_transac)\n",
      "C:\\Users\\Hammozi\\AppData\\Local\\Temp\\ipykernel_22716\\801327109.py:7: FutureWarning: The frame.append method is deprecated and will be removed from pandas in a future version. Use pandas.concat instead.\n",
      "  test_t = test_t.append(bottom_transac)\n",
      "C:\\Users\\Hammozi\\AppData\\Local\\Temp\\ipykernel_22716\\801327109.py:7: FutureWarning: The frame.append method is deprecated and will be removed from pandas in a future version. Use pandas.concat instead.\n",
      "  test_t = test_t.append(bottom_transac)\n",
      "C:\\Users\\Hammozi\\AppData\\Local\\Temp\\ipykernel_22716\\801327109.py:7: FutureWarning: The frame.append method is deprecated and will be removed from pandas in a future version. Use pandas.concat instead.\n",
      "  test_t = test_t.append(bottom_transac)\n",
      "C:\\Users\\Hammozi\\AppData\\Local\\Temp\\ipykernel_22716\\801327109.py:7: FutureWarning: The frame.append method is deprecated and will be removed from pandas in a future version. Use pandas.concat instead.\n",
      "  test_t = test_t.append(bottom_transac)\n",
      "C:\\Users\\Hammozi\\AppData\\Local\\Temp\\ipykernel_22716\\801327109.py:7: FutureWarning: The frame.append method is deprecated and will be removed from pandas in a future version. Use pandas.concat instead.\n",
      "  test_t = test_t.append(bottom_transac)\n"
     ]
    },
    {
     "name": "stdout",
     "output_type": "stream",
     "text": [
      "867\n",
      "868\n",
      "869\n"
     ]
    },
    {
     "name": "stderr",
     "output_type": "stream",
     "text": [
      "C:\\Users\\Hammozi\\AppData\\Local\\Temp\\ipykernel_22716\\801327109.py:7: FutureWarning: The frame.append method is deprecated and will be removed from pandas in a future version. Use pandas.concat instead.\n",
      "  test_t = test_t.append(bottom_transac)\n",
      "C:\\Users\\Hammozi\\AppData\\Local\\Temp\\ipykernel_22716\\801327109.py:7: FutureWarning: The frame.append method is deprecated and will be removed from pandas in a future version. Use pandas.concat instead.\n",
      "  test_t = test_t.append(bottom_transac)\n",
      "C:\\Users\\Hammozi\\AppData\\Local\\Temp\\ipykernel_22716\\801327109.py:7: FutureWarning: The frame.append method is deprecated and will be removed from pandas in a future version. Use pandas.concat instead.\n",
      "  test_t = test_t.append(bottom_transac)\n"
     ]
    },
    {
     "name": "stdout",
     "output_type": "stream",
     "text": [
      "870\n",
      "871\n",
      "872\n"
     ]
    },
    {
     "name": "stderr",
     "output_type": "stream",
     "text": [
      "C:\\Users\\Hammozi\\AppData\\Local\\Temp\\ipykernel_22716\\801327109.py:7: FutureWarning: The frame.append method is deprecated and will be removed from pandas in a future version. Use pandas.concat instead.\n",
      "  test_t = test_t.append(bottom_transac)\n",
      "C:\\Users\\Hammozi\\AppData\\Local\\Temp\\ipykernel_22716\\801327109.py:7: FutureWarning: The frame.append method is deprecated and will be removed from pandas in a future version. Use pandas.concat instead.\n",
      "  test_t = test_t.append(bottom_transac)\n",
      "C:\\Users\\Hammozi\\AppData\\Local\\Temp\\ipykernel_22716\\801327109.py:7: FutureWarning: The frame.append method is deprecated and will be removed from pandas in a future version. Use pandas.concat instead.\n",
      "  test_t = test_t.append(bottom_transac)\n"
     ]
    },
    {
     "name": "stdout",
     "output_type": "stream",
     "text": [
      "873\n",
      "874\n",
      "875\n",
      "876\n"
     ]
    },
    {
     "name": "stderr",
     "output_type": "stream",
     "text": [
      "C:\\Users\\Hammozi\\AppData\\Local\\Temp\\ipykernel_22716\\801327109.py:7: FutureWarning: The frame.append method is deprecated and will be removed from pandas in a future version. Use pandas.concat instead.\n",
      "  test_t = test_t.append(bottom_transac)\n",
      "C:\\Users\\Hammozi\\AppData\\Local\\Temp\\ipykernel_22716\\801327109.py:7: FutureWarning: The frame.append method is deprecated and will be removed from pandas in a future version. Use pandas.concat instead.\n",
      "  test_t = test_t.append(bottom_transac)\n",
      "C:\\Users\\Hammozi\\AppData\\Local\\Temp\\ipykernel_22716\\801327109.py:7: FutureWarning: The frame.append method is deprecated and will be removed from pandas in a future version. Use pandas.concat instead.\n",
      "  test_t = test_t.append(bottom_transac)\n"
     ]
    },
    {
     "name": "stdout",
     "output_type": "stream",
     "text": [
      "877\n",
      "878\n",
      "879\n"
     ]
    },
    {
     "name": "stderr",
     "output_type": "stream",
     "text": [
      "C:\\Users\\Hammozi\\AppData\\Local\\Temp\\ipykernel_22716\\801327109.py:7: FutureWarning: The frame.append method is deprecated and will be removed from pandas in a future version. Use pandas.concat instead.\n",
      "  test_t = test_t.append(bottom_transac)\n",
      "C:\\Users\\Hammozi\\AppData\\Local\\Temp\\ipykernel_22716\\801327109.py:7: FutureWarning: The frame.append method is deprecated and will be removed from pandas in a future version. Use pandas.concat instead.\n",
      "  test_t = test_t.append(bottom_transac)\n",
      "C:\\Users\\Hammozi\\AppData\\Local\\Temp\\ipykernel_22716\\801327109.py:7: FutureWarning: The frame.append method is deprecated and will be removed from pandas in a future version. Use pandas.concat instead.\n",
      "  test_t = test_t.append(bottom_transac)\n"
     ]
    },
    {
     "name": "stdout",
     "output_type": "stream",
     "text": [
      "880\n",
      "881\n",
      "882\n"
     ]
    },
    {
     "name": "stderr",
     "output_type": "stream",
     "text": [
      "C:\\Users\\Hammozi\\AppData\\Local\\Temp\\ipykernel_22716\\801327109.py:7: FutureWarning: The frame.append method is deprecated and will be removed from pandas in a future version. Use pandas.concat instead.\n",
      "  test_t = test_t.append(bottom_transac)\n",
      "C:\\Users\\Hammozi\\AppData\\Local\\Temp\\ipykernel_22716\\801327109.py:7: FutureWarning: The frame.append method is deprecated and will be removed from pandas in a future version. Use pandas.concat instead.\n",
      "  test_t = test_t.append(bottom_transac)\n",
      "C:\\Users\\Hammozi\\AppData\\Local\\Temp\\ipykernel_22716\\801327109.py:7: FutureWarning: The frame.append method is deprecated and will be removed from pandas in a future version. Use pandas.concat instead.\n",
      "  test_t = test_t.append(bottom_transac)\n"
     ]
    },
    {
     "name": "stdout",
     "output_type": "stream",
     "text": [
      "883\n",
      "884\n",
      "885\n",
      "886\n"
     ]
    },
    {
     "name": "stderr",
     "output_type": "stream",
     "text": [
      "C:\\Users\\Hammozi\\AppData\\Local\\Temp\\ipykernel_22716\\801327109.py:7: FutureWarning: The frame.append method is deprecated and will be removed from pandas in a future version. Use pandas.concat instead.\n",
      "  test_t = test_t.append(bottom_transac)\n",
      "C:\\Users\\Hammozi\\AppData\\Local\\Temp\\ipykernel_22716\\801327109.py:7: FutureWarning: The frame.append method is deprecated and will be removed from pandas in a future version. Use pandas.concat instead.\n",
      "  test_t = test_t.append(bottom_transac)\n",
      "C:\\Users\\Hammozi\\AppData\\Local\\Temp\\ipykernel_22716\\801327109.py:7: FutureWarning: The frame.append method is deprecated and will be removed from pandas in a future version. Use pandas.concat instead.\n",
      "  test_t = test_t.append(bottom_transac)\n"
     ]
    },
    {
     "name": "stdout",
     "output_type": "stream",
     "text": [
      "887\n",
      "888\n",
      "889\n",
      "890\n"
     ]
    },
    {
     "name": "stderr",
     "output_type": "stream",
     "text": [
      "C:\\Users\\Hammozi\\AppData\\Local\\Temp\\ipykernel_22716\\801327109.py:7: FutureWarning: The frame.append method is deprecated and will be removed from pandas in a future version. Use pandas.concat instead.\n",
      "  test_t = test_t.append(bottom_transac)\n",
      "C:\\Users\\Hammozi\\AppData\\Local\\Temp\\ipykernel_22716\\801327109.py:7: FutureWarning: The frame.append method is deprecated and will be removed from pandas in a future version. Use pandas.concat instead.\n",
      "  test_t = test_t.append(bottom_transac)\n",
      "C:\\Users\\Hammozi\\AppData\\Local\\Temp\\ipykernel_22716\\801327109.py:7: FutureWarning: The frame.append method is deprecated and will be removed from pandas in a future version. Use pandas.concat instead.\n",
      "  test_t = test_t.append(bottom_transac)\n",
      "C:\\Users\\Hammozi\\AppData\\Local\\Temp\\ipykernel_22716\\801327109.py:7: FutureWarning: The frame.append method is deprecated and will be removed from pandas in a future version. Use pandas.concat instead.\n",
      "  test_t = test_t.append(bottom_transac)\n",
      "C:\\Users\\Hammozi\\AppData\\Local\\Temp\\ipykernel_22716\\801327109.py:7: FutureWarning: The frame.append method is deprecated and will be removed from pandas in a future version. Use pandas.concat instead.\n",
      "  test_t = test_t.append(bottom_transac)\n",
      "C:\\Users\\Hammozi\\AppData\\Local\\Temp\\ipykernel_22716\\801327109.py:7: FutureWarning: The frame.append method is deprecated and will be removed from pandas in a future version. Use pandas.concat instead.\n",
      "  test_t = test_t.append(bottom_transac)\n"
     ]
    },
    {
     "name": "stdout",
     "output_type": "stream",
     "text": [
      "891\n",
      "892\n",
      "893\n",
      "894\n"
     ]
    },
    {
     "name": "stderr",
     "output_type": "stream",
     "text": [
      "C:\\Users\\Hammozi\\AppData\\Local\\Temp\\ipykernel_22716\\801327109.py:7: FutureWarning: The frame.append method is deprecated and will be removed from pandas in a future version. Use pandas.concat instead.\n",
      "  test_t = test_t.append(bottom_transac)\n",
      "C:\\Users\\Hammozi\\AppData\\Local\\Temp\\ipykernel_22716\\801327109.py:7: FutureWarning: The frame.append method is deprecated and will be removed from pandas in a future version. Use pandas.concat instead.\n",
      "  test_t = test_t.append(bottom_transac)\n",
      "C:\\Users\\Hammozi\\AppData\\Local\\Temp\\ipykernel_22716\\801327109.py:7: FutureWarning: The frame.append method is deprecated and will be removed from pandas in a future version. Use pandas.concat instead.\n",
      "  test_t = test_t.append(bottom_transac)\n"
     ]
    },
    {
     "name": "stdout",
     "output_type": "stream",
     "text": [
      "895\n",
      "896\n",
      "897\n",
      "898\n"
     ]
    },
    {
     "name": "stderr",
     "output_type": "stream",
     "text": [
      "C:\\Users\\Hammozi\\AppData\\Local\\Temp\\ipykernel_22716\\801327109.py:7: FutureWarning: The frame.append method is deprecated and will be removed from pandas in a future version. Use pandas.concat instead.\n",
      "  test_t = test_t.append(bottom_transac)\n",
      "C:\\Users\\Hammozi\\AppData\\Local\\Temp\\ipykernel_22716\\801327109.py:7: FutureWarning: The frame.append method is deprecated and will be removed from pandas in a future version. Use pandas.concat instead.\n",
      "  test_t = test_t.append(bottom_transac)\n",
      "C:\\Users\\Hammozi\\AppData\\Local\\Temp\\ipykernel_22716\\801327109.py:7: FutureWarning: The frame.append method is deprecated and will be removed from pandas in a future version. Use pandas.concat instead.\n",
      "  test_t = test_t.append(bottom_transac)\n"
     ]
    },
    {
     "name": "stdout",
     "output_type": "stream",
     "text": [
      "899\n",
      "900\n",
      "901\n"
     ]
    },
    {
     "name": "stderr",
     "output_type": "stream",
     "text": [
      "C:\\Users\\Hammozi\\AppData\\Local\\Temp\\ipykernel_22716\\801327109.py:7: FutureWarning: The frame.append method is deprecated and will be removed from pandas in a future version. Use pandas.concat instead.\n",
      "  test_t = test_t.append(bottom_transac)\n",
      "C:\\Users\\Hammozi\\AppData\\Local\\Temp\\ipykernel_22716\\801327109.py:7: FutureWarning: The frame.append method is deprecated and will be removed from pandas in a future version. Use pandas.concat instead.\n",
      "  test_t = test_t.append(bottom_transac)\n",
      "C:\\Users\\Hammozi\\AppData\\Local\\Temp\\ipykernel_22716\\801327109.py:7: FutureWarning: The frame.append method is deprecated and will be removed from pandas in a future version. Use pandas.concat instead.\n",
      "  test_t = test_t.append(bottom_transac)\n"
     ]
    },
    {
     "name": "stdout",
     "output_type": "stream",
     "text": [
      "902\n",
      "903\n",
      "904\n",
      "905\n"
     ]
    },
    {
     "name": "stderr",
     "output_type": "stream",
     "text": [
      "C:\\Users\\Hammozi\\AppData\\Local\\Temp\\ipykernel_22716\\801327109.py:7: FutureWarning: The frame.append method is deprecated and will be removed from pandas in a future version. Use pandas.concat instead.\n",
      "  test_t = test_t.append(bottom_transac)\n",
      "C:\\Users\\Hammozi\\AppData\\Local\\Temp\\ipykernel_22716\\801327109.py:7: FutureWarning: The frame.append method is deprecated and will be removed from pandas in a future version. Use pandas.concat instead.\n",
      "  test_t = test_t.append(bottom_transac)\n",
      "C:\\Users\\Hammozi\\AppData\\Local\\Temp\\ipykernel_22716\\801327109.py:7: FutureWarning: The frame.append method is deprecated and will be removed from pandas in a future version. Use pandas.concat instead.\n",
      "  test_t = test_t.append(bottom_transac)\n",
      "C:\\Users\\Hammozi\\AppData\\Local\\Temp\\ipykernel_22716\\801327109.py:7: FutureWarning: The frame.append method is deprecated and will be removed from pandas in a future version. Use pandas.concat instead.\n",
      "  test_t = test_t.append(bottom_transac)\n",
      "C:\\Users\\Hammozi\\AppData\\Local\\Temp\\ipykernel_22716\\801327109.py:7: FutureWarning: The frame.append method is deprecated and will be removed from pandas in a future version. Use pandas.concat instead.\n",
      "  test_t = test_t.append(bottom_transac)\n",
      "C:\\Users\\Hammozi\\AppData\\Local\\Temp\\ipykernel_22716\\801327109.py:7: FutureWarning: The frame.append method is deprecated and will be removed from pandas in a future version. Use pandas.concat instead.\n",
      "  test_t = test_t.append(bottom_transac)\n"
     ]
    },
    {
     "name": "stdout",
     "output_type": "stream",
     "text": [
      "906\n",
      "907\n",
      "908\n"
     ]
    },
    {
     "name": "stderr",
     "output_type": "stream",
     "text": [
      "C:\\Users\\Hammozi\\AppData\\Local\\Temp\\ipykernel_22716\\801327109.py:7: FutureWarning: The frame.append method is deprecated and will be removed from pandas in a future version. Use pandas.concat instead.\n",
      "  test_t = test_t.append(bottom_transac)\n",
      "C:\\Users\\Hammozi\\AppData\\Local\\Temp\\ipykernel_22716\\801327109.py:7: FutureWarning: The frame.append method is deprecated and will be removed from pandas in a future version. Use pandas.concat instead.\n",
      "  test_t = test_t.append(bottom_transac)\n",
      "C:\\Users\\Hammozi\\AppData\\Local\\Temp\\ipykernel_22716\\801327109.py:7: FutureWarning: The frame.append method is deprecated and will be removed from pandas in a future version. Use pandas.concat instead.\n",
      "  test_t = test_t.append(bottom_transac)\n"
     ]
    },
    {
     "name": "stdout",
     "output_type": "stream",
     "text": [
      "909\n",
      "910\n",
      "911\n"
     ]
    },
    {
     "name": "stderr",
     "output_type": "stream",
     "text": [
      "C:\\Users\\Hammozi\\AppData\\Local\\Temp\\ipykernel_22716\\801327109.py:7: FutureWarning: The frame.append method is deprecated and will be removed from pandas in a future version. Use pandas.concat instead.\n",
      "  test_t = test_t.append(bottom_transac)\n",
      "C:\\Users\\Hammozi\\AppData\\Local\\Temp\\ipykernel_22716\\801327109.py:7: FutureWarning: The frame.append method is deprecated and will be removed from pandas in a future version. Use pandas.concat instead.\n",
      "  test_t = test_t.append(bottom_transac)\n",
      "C:\\Users\\Hammozi\\AppData\\Local\\Temp\\ipykernel_22716\\801327109.py:7: FutureWarning: The frame.append method is deprecated and will be removed from pandas in a future version. Use pandas.concat instead.\n",
      "  test_t = test_t.append(bottom_transac)\n"
     ]
    },
    {
     "name": "stdout",
     "output_type": "stream",
     "text": [
      "912\n",
      "913\n",
      "914\n",
      "915\n"
     ]
    },
    {
     "name": "stderr",
     "output_type": "stream",
     "text": [
      "C:\\Users\\Hammozi\\AppData\\Local\\Temp\\ipykernel_22716\\801327109.py:7: FutureWarning: The frame.append method is deprecated and will be removed from pandas in a future version. Use pandas.concat instead.\n",
      "  test_t = test_t.append(bottom_transac)\n",
      "C:\\Users\\Hammozi\\AppData\\Local\\Temp\\ipykernel_22716\\801327109.py:7: FutureWarning: The frame.append method is deprecated and will be removed from pandas in a future version. Use pandas.concat instead.\n",
      "  test_t = test_t.append(bottom_transac)\n",
      "C:\\Users\\Hammozi\\AppData\\Local\\Temp\\ipykernel_22716\\801327109.py:7: FutureWarning: The frame.append method is deprecated and will be removed from pandas in a future version. Use pandas.concat instead.\n",
      "  test_t = test_t.append(bottom_transac)\n"
     ]
    },
    {
     "name": "stdout",
     "output_type": "stream",
     "text": [
      "916\n",
      "917\n",
      "918\n",
      "919\n"
     ]
    },
    {
     "name": "stderr",
     "output_type": "stream",
     "text": [
      "C:\\Users\\Hammozi\\AppData\\Local\\Temp\\ipykernel_22716\\801327109.py:7: FutureWarning: The frame.append method is deprecated and will be removed from pandas in a future version. Use pandas.concat instead.\n",
      "  test_t = test_t.append(bottom_transac)\n",
      "C:\\Users\\Hammozi\\AppData\\Local\\Temp\\ipykernel_22716\\801327109.py:7: FutureWarning: The frame.append method is deprecated and will be removed from pandas in a future version. Use pandas.concat instead.\n",
      "  test_t = test_t.append(bottom_transac)\n",
      "C:\\Users\\Hammozi\\AppData\\Local\\Temp\\ipykernel_22716\\801327109.py:7: FutureWarning: The frame.append method is deprecated and will be removed from pandas in a future version. Use pandas.concat instead.\n",
      "  test_t = test_t.append(bottom_transac)\n"
     ]
    },
    {
     "name": "stdout",
     "output_type": "stream",
     "text": [
      "920\n",
      "921\n",
      "922\n",
      "923\n"
     ]
    },
    {
     "name": "stderr",
     "output_type": "stream",
     "text": [
      "C:\\Users\\Hammozi\\AppData\\Local\\Temp\\ipykernel_22716\\801327109.py:7: FutureWarning: The frame.append method is deprecated and will be removed from pandas in a future version. Use pandas.concat instead.\n",
      "  test_t = test_t.append(bottom_transac)\n",
      "C:\\Users\\Hammozi\\AppData\\Local\\Temp\\ipykernel_22716\\801327109.py:7: FutureWarning: The frame.append method is deprecated and will be removed from pandas in a future version. Use pandas.concat instead.\n",
      "  test_t = test_t.append(bottom_transac)\n",
      "C:\\Users\\Hammozi\\AppData\\Local\\Temp\\ipykernel_22716\\801327109.py:7: FutureWarning: The frame.append method is deprecated and will be removed from pandas in a future version. Use pandas.concat instead.\n",
      "  test_t = test_t.append(bottom_transac)\n",
      "C:\\Users\\Hammozi\\AppData\\Local\\Temp\\ipykernel_22716\\801327109.py:7: FutureWarning: The frame.append method is deprecated and will be removed from pandas in a future version. Use pandas.concat instead.\n",
      "  test_t = test_t.append(bottom_transac)\n",
      "C:\\Users\\Hammozi\\AppData\\Local\\Temp\\ipykernel_22716\\801327109.py:7: FutureWarning: The frame.append method is deprecated and will be removed from pandas in a future version. Use pandas.concat instead.\n",
      "  test_t = test_t.append(bottom_transac)\n",
      "C:\\Users\\Hammozi\\AppData\\Local\\Temp\\ipykernel_22716\\801327109.py:7: FutureWarning: The frame.append method is deprecated and will be removed from pandas in a future version. Use pandas.concat instead.\n",
      "  test_t = test_t.append(bottom_transac)\n"
     ]
    },
    {
     "name": "stdout",
     "output_type": "stream",
     "text": [
      "924\n",
      "925\n",
      "926\n",
      "927\n"
     ]
    },
    {
     "name": "stderr",
     "output_type": "stream",
     "text": [
      "C:\\Users\\Hammozi\\AppData\\Local\\Temp\\ipykernel_22716\\801327109.py:7: FutureWarning: The frame.append method is deprecated and will be removed from pandas in a future version. Use pandas.concat instead.\n",
      "  test_t = test_t.append(bottom_transac)\n",
      "C:\\Users\\Hammozi\\AppData\\Local\\Temp\\ipykernel_22716\\801327109.py:7: FutureWarning: The frame.append method is deprecated and will be removed from pandas in a future version. Use pandas.concat instead.\n",
      "  test_t = test_t.append(bottom_transac)\n",
      "C:\\Users\\Hammozi\\AppData\\Local\\Temp\\ipykernel_22716\\801327109.py:7: FutureWarning: The frame.append method is deprecated and will be removed from pandas in a future version. Use pandas.concat instead.\n",
      "  test_t = test_t.append(bottom_transac)\n"
     ]
    },
    {
     "name": "stdout",
     "output_type": "stream",
     "text": [
      "928\n",
      "929\n",
      "930\n"
     ]
    },
    {
     "name": "stderr",
     "output_type": "stream",
     "text": [
      "C:\\Users\\Hammozi\\AppData\\Local\\Temp\\ipykernel_22716\\801327109.py:7: FutureWarning: The frame.append method is deprecated and will be removed from pandas in a future version. Use pandas.concat instead.\n",
      "  test_t = test_t.append(bottom_transac)\n",
      "C:\\Users\\Hammozi\\AppData\\Local\\Temp\\ipykernel_22716\\801327109.py:7: FutureWarning: The frame.append method is deprecated and will be removed from pandas in a future version. Use pandas.concat instead.\n",
      "  test_t = test_t.append(bottom_transac)\n",
      "C:\\Users\\Hammozi\\AppData\\Local\\Temp\\ipykernel_22716\\801327109.py:7: FutureWarning: The frame.append method is deprecated and will be removed from pandas in a future version. Use pandas.concat instead.\n",
      "  test_t = test_t.append(bottom_transac)\n"
     ]
    },
    {
     "name": "stdout",
     "output_type": "stream",
     "text": [
      "931\n",
      "932\n",
      "933\n"
     ]
    },
    {
     "name": "stderr",
     "output_type": "stream",
     "text": [
      "C:\\Users\\Hammozi\\AppData\\Local\\Temp\\ipykernel_22716\\801327109.py:7: FutureWarning: The frame.append method is deprecated and will be removed from pandas in a future version. Use pandas.concat instead.\n",
      "  test_t = test_t.append(bottom_transac)\n",
      "C:\\Users\\Hammozi\\AppData\\Local\\Temp\\ipykernel_22716\\801327109.py:7: FutureWarning: The frame.append method is deprecated and will be removed from pandas in a future version. Use pandas.concat instead.\n",
      "  test_t = test_t.append(bottom_transac)\n",
      "C:\\Users\\Hammozi\\AppData\\Local\\Temp\\ipykernel_22716\\801327109.py:7: FutureWarning: The frame.append method is deprecated and will be removed from pandas in a future version. Use pandas.concat instead.\n",
      "  test_t = test_t.append(bottom_transac)\n"
     ]
    },
    {
     "name": "stdout",
     "output_type": "stream",
     "text": [
      "934\n",
      "935\n",
      "936\n"
     ]
    },
    {
     "name": "stderr",
     "output_type": "stream",
     "text": [
      "C:\\Users\\Hammozi\\AppData\\Local\\Temp\\ipykernel_22716\\801327109.py:7: FutureWarning: The frame.append method is deprecated and will be removed from pandas in a future version. Use pandas.concat instead.\n",
      "  test_t = test_t.append(bottom_transac)\n",
      "C:\\Users\\Hammozi\\AppData\\Local\\Temp\\ipykernel_22716\\801327109.py:7: FutureWarning: The frame.append method is deprecated and will be removed from pandas in a future version. Use pandas.concat instead.\n",
      "  test_t = test_t.append(bottom_transac)\n",
      "C:\\Users\\Hammozi\\AppData\\Local\\Temp\\ipykernel_22716\\801327109.py:7: FutureWarning: The frame.append method is deprecated and will be removed from pandas in a future version. Use pandas.concat instead.\n",
      "  test_t = test_t.append(bottom_transac)\n"
     ]
    },
    {
     "name": "stdout",
     "output_type": "stream",
     "text": [
      "937\n",
      "938\n",
      "939\n",
      "940\n"
     ]
    },
    {
     "name": "stderr",
     "output_type": "stream",
     "text": [
      "C:\\Users\\Hammozi\\AppData\\Local\\Temp\\ipykernel_22716\\801327109.py:7: FutureWarning: The frame.append method is deprecated and will be removed from pandas in a future version. Use pandas.concat instead.\n",
      "  test_t = test_t.append(bottom_transac)\n",
      "C:\\Users\\Hammozi\\AppData\\Local\\Temp\\ipykernel_22716\\801327109.py:7: FutureWarning: The frame.append method is deprecated and will be removed from pandas in a future version. Use pandas.concat instead.\n",
      "  test_t = test_t.append(bottom_transac)\n",
      "C:\\Users\\Hammozi\\AppData\\Local\\Temp\\ipykernel_22716\\801327109.py:7: FutureWarning: The frame.append method is deprecated and will be removed from pandas in a future version. Use pandas.concat instead.\n",
      "  test_t = test_t.append(bottom_transac)\n"
     ]
    },
    {
     "name": "stdout",
     "output_type": "stream",
     "text": [
      "941\n",
      "942\n",
      "943\n",
      "944\n"
     ]
    },
    {
     "name": "stderr",
     "output_type": "stream",
     "text": [
      "C:\\Users\\Hammozi\\AppData\\Local\\Temp\\ipykernel_22716\\801327109.py:7: FutureWarning: The frame.append method is deprecated and will be removed from pandas in a future version. Use pandas.concat instead.\n",
      "  test_t = test_t.append(bottom_transac)\n",
      "C:\\Users\\Hammozi\\AppData\\Local\\Temp\\ipykernel_22716\\801327109.py:7: FutureWarning: The frame.append method is deprecated and will be removed from pandas in a future version. Use pandas.concat instead.\n",
      "  test_t = test_t.append(bottom_transac)\n",
      "C:\\Users\\Hammozi\\AppData\\Local\\Temp\\ipykernel_22716\\801327109.py:7: FutureWarning: The frame.append method is deprecated and will be removed from pandas in a future version. Use pandas.concat instead.\n",
      "  test_t = test_t.append(bottom_transac)\n",
      "C:\\Users\\Hammozi\\AppData\\Local\\Temp\\ipykernel_22716\\801327109.py:7: FutureWarning: The frame.append method is deprecated and will be removed from pandas in a future version. Use pandas.concat instead.\n",
      "  test_t = test_t.append(bottom_transac)\n",
      "C:\\Users\\Hammozi\\AppData\\Local\\Temp\\ipykernel_22716\\801327109.py:7: FutureWarning: The frame.append method is deprecated and will be removed from pandas in a future version. Use pandas.concat instead.\n",
      "  test_t = test_t.append(bottom_transac)\n",
      "C:\\Users\\Hammozi\\AppData\\Local\\Temp\\ipykernel_22716\\801327109.py:7: FutureWarning: The frame.append method is deprecated and will be removed from pandas in a future version. Use pandas.concat instead.\n",
      "  test_t = test_t.append(bottom_transac)\n"
     ]
    },
    {
     "name": "stdout",
     "output_type": "stream",
     "text": [
      "945\n",
      "946\n",
      "947\n",
      "948\n"
     ]
    },
    {
     "name": "stderr",
     "output_type": "stream",
     "text": [
      "C:\\Users\\Hammozi\\AppData\\Local\\Temp\\ipykernel_22716\\801327109.py:7: FutureWarning: The frame.append method is deprecated and will be removed from pandas in a future version. Use pandas.concat instead.\n",
      "  test_t = test_t.append(bottom_transac)\n",
      "C:\\Users\\Hammozi\\AppData\\Local\\Temp\\ipykernel_22716\\801327109.py:7: FutureWarning: The frame.append method is deprecated and will be removed from pandas in a future version. Use pandas.concat instead.\n",
      "  test_t = test_t.append(bottom_transac)\n",
      "C:\\Users\\Hammozi\\AppData\\Local\\Temp\\ipykernel_22716\\801327109.py:7: FutureWarning: The frame.append method is deprecated and will be removed from pandas in a future version. Use pandas.concat instead.\n",
      "  test_t = test_t.append(bottom_transac)\n"
     ]
    },
    {
     "name": "stdout",
     "output_type": "stream",
     "text": [
      "949\n",
      "950\n",
      "951\n",
      "952\n"
     ]
    },
    {
     "name": "stderr",
     "output_type": "stream",
     "text": [
      "C:\\Users\\Hammozi\\AppData\\Local\\Temp\\ipykernel_22716\\801327109.py:7: FutureWarning: The frame.append method is deprecated and will be removed from pandas in a future version. Use pandas.concat instead.\n",
      "  test_t = test_t.append(bottom_transac)\n",
      "C:\\Users\\Hammozi\\AppData\\Local\\Temp\\ipykernel_22716\\801327109.py:7: FutureWarning: The frame.append method is deprecated and will be removed from pandas in a future version. Use pandas.concat instead.\n",
      "  test_t = test_t.append(bottom_transac)\n",
      "C:\\Users\\Hammozi\\AppData\\Local\\Temp\\ipykernel_22716\\801327109.py:7: FutureWarning: The frame.append method is deprecated and will be removed from pandas in a future version. Use pandas.concat instead.\n",
      "  test_t = test_t.append(bottom_transac)\n"
     ]
    },
    {
     "name": "stdout",
     "output_type": "stream",
     "text": [
      "953\n",
      "954\n",
      "955\n",
      "956\n"
     ]
    },
    {
     "name": "stderr",
     "output_type": "stream",
     "text": [
      "C:\\Users\\Hammozi\\AppData\\Local\\Temp\\ipykernel_22716\\801327109.py:7: FutureWarning: The frame.append method is deprecated and will be removed from pandas in a future version. Use pandas.concat instead.\n",
      "  test_t = test_t.append(bottom_transac)\n",
      "C:\\Users\\Hammozi\\AppData\\Local\\Temp\\ipykernel_22716\\801327109.py:7: FutureWarning: The frame.append method is deprecated and will be removed from pandas in a future version. Use pandas.concat instead.\n",
      "  test_t = test_t.append(bottom_transac)\n",
      "C:\\Users\\Hammozi\\AppData\\Local\\Temp\\ipykernel_22716\\801327109.py:7: FutureWarning: The frame.append method is deprecated and will be removed from pandas in a future version. Use pandas.concat instead.\n",
      "  test_t = test_t.append(bottom_transac)\n",
      "C:\\Users\\Hammozi\\AppData\\Local\\Temp\\ipykernel_22716\\801327109.py:7: FutureWarning: The frame.append method is deprecated and will be removed from pandas in a future version. Use pandas.concat instead.\n",
      "  test_t = test_t.append(bottom_transac)\n",
      "C:\\Users\\Hammozi\\AppData\\Local\\Temp\\ipykernel_22716\\801327109.py:7: FutureWarning: The frame.append method is deprecated and will be removed from pandas in a future version. Use pandas.concat instead.\n",
      "  test_t = test_t.append(bottom_transac)\n",
      "C:\\Users\\Hammozi\\AppData\\Local\\Temp\\ipykernel_22716\\801327109.py:7: FutureWarning: The frame.append method is deprecated and will be removed from pandas in a future version. Use pandas.concat instead.\n",
      "  test_t = test_t.append(bottom_transac)\n"
     ]
    },
    {
     "name": "stdout",
     "output_type": "stream",
     "text": [
      "957\n",
      "958\n",
      "959\n",
      "960\n"
     ]
    },
    {
     "name": "stderr",
     "output_type": "stream",
     "text": [
      "C:\\Users\\Hammozi\\AppData\\Local\\Temp\\ipykernel_22716\\801327109.py:7: FutureWarning: The frame.append method is deprecated and will be removed from pandas in a future version. Use pandas.concat instead.\n",
      "  test_t = test_t.append(bottom_transac)\n",
      "C:\\Users\\Hammozi\\AppData\\Local\\Temp\\ipykernel_22716\\801327109.py:7: FutureWarning: The frame.append method is deprecated and will be removed from pandas in a future version. Use pandas.concat instead.\n",
      "  test_t = test_t.append(bottom_transac)\n",
      "C:\\Users\\Hammozi\\AppData\\Local\\Temp\\ipykernel_22716\\801327109.py:7: FutureWarning: The frame.append method is deprecated and will be removed from pandas in a future version. Use pandas.concat instead.\n",
      "  test_t = test_t.append(bottom_transac)\n"
     ]
    },
    {
     "name": "stdout",
     "output_type": "stream",
     "text": [
      "961\n",
      "962\n",
      "963\n",
      "964\n"
     ]
    },
    {
     "name": "stderr",
     "output_type": "stream",
     "text": [
      "C:\\Users\\Hammozi\\AppData\\Local\\Temp\\ipykernel_22716\\801327109.py:7: FutureWarning: The frame.append method is deprecated and will be removed from pandas in a future version. Use pandas.concat instead.\n",
      "  test_t = test_t.append(bottom_transac)\n",
      "C:\\Users\\Hammozi\\AppData\\Local\\Temp\\ipykernel_22716\\801327109.py:7: FutureWarning: The frame.append method is deprecated and will be removed from pandas in a future version. Use pandas.concat instead.\n",
      "  test_t = test_t.append(bottom_transac)\n",
      "C:\\Users\\Hammozi\\AppData\\Local\\Temp\\ipykernel_22716\\801327109.py:7: FutureWarning: The frame.append method is deprecated and will be removed from pandas in a future version. Use pandas.concat instead.\n",
      "  test_t = test_t.append(bottom_transac)\n"
     ]
    },
    {
     "name": "stdout",
     "output_type": "stream",
     "text": [
      "965\n",
      "966\n",
      "967\n",
      "968\n"
     ]
    },
    {
     "name": "stderr",
     "output_type": "stream",
     "text": [
      "C:\\Users\\Hammozi\\AppData\\Local\\Temp\\ipykernel_22716\\801327109.py:7: FutureWarning: The frame.append method is deprecated and will be removed from pandas in a future version. Use pandas.concat instead.\n",
      "  test_t = test_t.append(bottom_transac)\n",
      "C:\\Users\\Hammozi\\AppData\\Local\\Temp\\ipykernel_22716\\801327109.py:7: FutureWarning: The frame.append method is deprecated and will be removed from pandas in a future version. Use pandas.concat instead.\n",
      "  test_t = test_t.append(bottom_transac)\n",
      "C:\\Users\\Hammozi\\AppData\\Local\\Temp\\ipykernel_22716\\801327109.py:7: FutureWarning: The frame.append method is deprecated and will be removed from pandas in a future version. Use pandas.concat instead.\n",
      "  test_t = test_t.append(bottom_transac)\n",
      "C:\\Users\\Hammozi\\AppData\\Local\\Temp\\ipykernel_22716\\801327109.py:7: FutureWarning: The frame.append method is deprecated and will be removed from pandas in a future version. Use pandas.concat instead.\n",
      "  test_t = test_t.append(bottom_transac)\n",
      "C:\\Users\\Hammozi\\AppData\\Local\\Temp\\ipykernel_22716\\801327109.py:7: FutureWarning: The frame.append method is deprecated and will be removed from pandas in a future version. Use pandas.concat instead.\n",
      "  test_t = test_t.append(bottom_transac)\n",
      "C:\\Users\\Hammozi\\AppData\\Local\\Temp\\ipykernel_22716\\801327109.py:7: FutureWarning: The frame.append method is deprecated and will be removed from pandas in a future version. Use pandas.concat instead.\n",
      "  test_t = test_t.append(bottom_transac)\n"
     ]
    },
    {
     "name": "stdout",
     "output_type": "stream",
     "text": [
      "969\n",
      "970\n",
      "971\n",
      "972\n"
     ]
    },
    {
     "name": "stderr",
     "output_type": "stream",
     "text": [
      "C:\\Users\\Hammozi\\AppData\\Local\\Temp\\ipykernel_22716\\801327109.py:7: FutureWarning: The frame.append method is deprecated and will be removed from pandas in a future version. Use pandas.concat instead.\n",
      "  test_t = test_t.append(bottom_transac)\n",
      "C:\\Users\\Hammozi\\AppData\\Local\\Temp\\ipykernel_22716\\801327109.py:7: FutureWarning: The frame.append method is deprecated and will be removed from pandas in a future version. Use pandas.concat instead.\n",
      "  test_t = test_t.append(bottom_transac)\n",
      "C:\\Users\\Hammozi\\AppData\\Local\\Temp\\ipykernel_22716\\801327109.py:7: FutureWarning: The frame.append method is deprecated and will be removed from pandas in a future version. Use pandas.concat instead.\n",
      "  test_t = test_t.append(bottom_transac)\n"
     ]
    },
    {
     "name": "stdout",
     "output_type": "stream",
     "text": [
      "973\n",
      "974\n",
      "975\n"
     ]
    },
    {
     "name": "stderr",
     "output_type": "stream",
     "text": [
      "C:\\Users\\Hammozi\\AppData\\Local\\Temp\\ipykernel_22716\\801327109.py:7: FutureWarning: The frame.append method is deprecated and will be removed from pandas in a future version. Use pandas.concat instead.\n",
      "  test_t = test_t.append(bottom_transac)\n",
      "C:\\Users\\Hammozi\\AppData\\Local\\Temp\\ipykernel_22716\\801327109.py:7: FutureWarning: The frame.append method is deprecated and will be removed from pandas in a future version. Use pandas.concat instead.\n",
      "  test_t = test_t.append(bottom_transac)\n",
      "C:\\Users\\Hammozi\\AppData\\Local\\Temp\\ipykernel_22716\\801327109.py:7: FutureWarning: The frame.append method is deprecated and will be removed from pandas in a future version. Use pandas.concat instead.\n",
      "  test_t = test_t.append(bottom_transac)\n"
     ]
    },
    {
     "name": "stdout",
     "output_type": "stream",
     "text": [
      "976\n",
      "977\n",
      "978\n",
      "979\n"
     ]
    },
    {
     "name": "stderr",
     "output_type": "stream",
     "text": [
      "C:\\Users\\Hammozi\\AppData\\Local\\Temp\\ipykernel_22716\\801327109.py:7: FutureWarning: The frame.append method is deprecated and will be removed from pandas in a future version. Use pandas.concat instead.\n",
      "  test_t = test_t.append(bottom_transac)\n",
      "C:\\Users\\Hammozi\\AppData\\Local\\Temp\\ipykernel_22716\\801327109.py:7: FutureWarning: The frame.append method is deprecated and will be removed from pandas in a future version. Use pandas.concat instead.\n",
      "  test_t = test_t.append(bottom_transac)\n",
      "C:\\Users\\Hammozi\\AppData\\Local\\Temp\\ipykernel_22716\\801327109.py:7: FutureWarning: The frame.append method is deprecated and will be removed from pandas in a future version. Use pandas.concat instead.\n",
      "  test_t = test_t.append(bottom_transac)\n"
     ]
    },
    {
     "name": "stdout",
     "output_type": "stream",
     "text": [
      "980\n",
      "981\n",
      "982\n",
      "983\n"
     ]
    },
    {
     "name": "stderr",
     "output_type": "stream",
     "text": [
      "C:\\Users\\Hammozi\\AppData\\Local\\Temp\\ipykernel_22716\\801327109.py:7: FutureWarning: The frame.append method is deprecated and will be removed from pandas in a future version. Use pandas.concat instead.\n",
      "  test_t = test_t.append(bottom_transac)\n",
      "C:\\Users\\Hammozi\\AppData\\Local\\Temp\\ipykernel_22716\\801327109.py:7: FutureWarning: The frame.append method is deprecated and will be removed from pandas in a future version. Use pandas.concat instead.\n",
      "  test_t = test_t.append(bottom_transac)\n",
      "C:\\Users\\Hammozi\\AppData\\Local\\Temp\\ipykernel_22716\\801327109.py:7: FutureWarning: The frame.append method is deprecated and will be removed from pandas in a future version. Use pandas.concat instead.\n",
      "  test_t = test_t.append(bottom_transac)\n",
      "C:\\Users\\Hammozi\\AppData\\Local\\Temp\\ipykernel_22716\\801327109.py:7: FutureWarning: The frame.append method is deprecated and will be removed from pandas in a future version. Use pandas.concat instead.\n",
      "  test_t = test_t.append(bottom_transac)\n",
      "C:\\Users\\Hammozi\\AppData\\Local\\Temp\\ipykernel_22716\\801327109.py:7: FutureWarning: The frame.append method is deprecated and will be removed from pandas in a future version. Use pandas.concat instead.\n",
      "  test_t = test_t.append(bottom_transac)\n",
      "C:\\Users\\Hammozi\\AppData\\Local\\Temp\\ipykernel_22716\\801327109.py:7: FutureWarning: The frame.append method is deprecated and will be removed from pandas in a future version. Use pandas.concat instead.\n",
      "  test_t = test_t.append(bottom_transac)\n"
     ]
    },
    {
     "name": "stdout",
     "output_type": "stream",
     "text": [
      "984\n",
      "985\n",
      "986\n",
      "987\n"
     ]
    },
    {
     "name": "stderr",
     "output_type": "stream",
     "text": [
      "C:\\Users\\Hammozi\\AppData\\Local\\Temp\\ipykernel_22716\\801327109.py:7: FutureWarning: The frame.append method is deprecated and will be removed from pandas in a future version. Use pandas.concat instead.\n",
      "  test_t = test_t.append(bottom_transac)\n",
      "C:\\Users\\Hammozi\\AppData\\Local\\Temp\\ipykernel_22716\\801327109.py:7: FutureWarning: The frame.append method is deprecated and will be removed from pandas in a future version. Use pandas.concat instead.\n",
      "  test_t = test_t.append(bottom_transac)\n",
      "C:\\Users\\Hammozi\\AppData\\Local\\Temp\\ipykernel_22716\\801327109.py:7: FutureWarning: The frame.append method is deprecated and will be removed from pandas in a future version. Use pandas.concat instead.\n",
      "  test_t = test_t.append(bottom_transac)\n"
     ]
    },
    {
     "name": "stdout",
     "output_type": "stream",
     "text": [
      "988\n",
      "989\n",
      "990\n",
      "991\n"
     ]
    },
    {
     "name": "stderr",
     "output_type": "stream",
     "text": [
      "C:\\Users\\Hammozi\\AppData\\Local\\Temp\\ipykernel_22716\\801327109.py:7: FutureWarning: The frame.append method is deprecated and will be removed from pandas in a future version. Use pandas.concat instead.\n",
      "  test_t = test_t.append(bottom_transac)\n",
      "C:\\Users\\Hammozi\\AppData\\Local\\Temp\\ipykernel_22716\\801327109.py:7: FutureWarning: The frame.append method is deprecated and will be removed from pandas in a future version. Use pandas.concat instead.\n",
      "  test_t = test_t.append(bottom_transac)\n",
      "C:\\Users\\Hammozi\\AppData\\Local\\Temp\\ipykernel_22716\\801327109.py:7: FutureWarning: The frame.append method is deprecated and will be removed from pandas in a future version. Use pandas.concat instead.\n",
      "  test_t = test_t.append(bottom_transac)\n"
     ]
    },
    {
     "name": "stdout",
     "output_type": "stream",
     "text": [
      "992\n",
      "993\n",
      "994\n"
     ]
    },
    {
     "name": "stderr",
     "output_type": "stream",
     "text": [
      "C:\\Users\\Hammozi\\AppData\\Local\\Temp\\ipykernel_22716\\801327109.py:7: FutureWarning: The frame.append method is deprecated and will be removed from pandas in a future version. Use pandas.concat instead.\n",
      "  test_t = test_t.append(bottom_transac)\n",
      "C:\\Users\\Hammozi\\AppData\\Local\\Temp\\ipykernel_22716\\801327109.py:7: FutureWarning: The frame.append method is deprecated and will be removed from pandas in a future version. Use pandas.concat instead.\n",
      "  test_t = test_t.append(bottom_transac)\n",
      "C:\\Users\\Hammozi\\AppData\\Local\\Temp\\ipykernel_22716\\801327109.py:7: FutureWarning: The frame.append method is deprecated and will be removed from pandas in a future version. Use pandas.concat instead.\n",
      "  test_t = test_t.append(bottom_transac)\n"
     ]
    },
    {
     "name": "stdout",
     "output_type": "stream",
     "text": [
      "995\n",
      "996\n",
      "997\n",
      "998\n"
     ]
    },
    {
     "name": "stderr",
     "output_type": "stream",
     "text": [
      "C:\\Users\\Hammozi\\AppData\\Local\\Temp\\ipykernel_22716\\801327109.py:7: FutureWarning: The frame.append method is deprecated and will be removed from pandas in a future version. Use pandas.concat instead.\n",
      "  test_t = test_t.append(bottom_transac)\n",
      "C:\\Users\\Hammozi\\AppData\\Local\\Temp\\ipykernel_22716\\801327109.py:7: FutureWarning: The frame.append method is deprecated and will be removed from pandas in a future version. Use pandas.concat instead.\n",
      "  test_t = test_t.append(bottom_transac)\n",
      "C:\\Users\\Hammozi\\AppData\\Local\\Temp\\ipykernel_22716\\801327109.py:7: FutureWarning: The frame.append method is deprecated and will be removed from pandas in a future version. Use pandas.concat instead.\n",
      "  test_t = test_t.append(bottom_transac)\n"
     ]
    },
    {
     "name": "stdout",
     "output_type": "stream",
     "text": [
      "999\n"
     ]
    },
    {
     "name": "stderr",
     "output_type": "stream",
     "text": [
      "C:\\Users\\Hammozi\\AppData\\Local\\Temp\\ipykernel_22716\\801327109.py:7: FutureWarning: The frame.append method is deprecated and will be removed from pandas in a future version. Use pandas.concat instead.\n",
      "  test_t = test_t.append(bottom_transac)\n"
     ]
    },
    {
     "data": {
      "text/plain": [
       "(1792, 7)"
      ]
     },
     "execution_count": 60,
     "metadata": {},
     "output_type": "execute_result"
    }
   ],
   "source": [
    "T.shape\n",
    "test_u = u.sample(n=1000, random_state = 1)\n",
    "test_t = pd.DataFrame()\n",
    "for k,cust in enumerate(test_u['customer_id']):  \n",
    "    cust_transac = T[T['customer_id'] == cust]\n",
    "    bottom_transac = cust_transac[-1 * round(0.20 * len(cust_transac)):]\n",
    "    test_t = test_t.append(bottom_transac)\n",
    "    indexs = bottom_transac.index\n",
    "    T.drop(labels = indexs, axis = 0,inplace=True )\n",
    "    print(k)\n",
    "test_t.shape"
   ]
  },
  {
   "cell_type": "markdown",
   "id": "3c23988e",
   "metadata": {},
   "source": [
    "<h2>Polularity and Random Recommender Precision</h2>"
   ]
  },
  {
   "cell_type": "code",
   "execution_count": 61,
   "id": "16221b17",
   "metadata": {},
   "outputs": [
    {
     "data": {
      "application/vnd.jupyter.widget-view+json": {
       "model_id": "a9452b2bb7b74e3fb1acd89e6c7dd69f",
       "version_major": 2,
       "version_minor": 0
      },
      "text/plain": [
       "0it [00:00, ?it/s]"
      ]
     },
     "metadata": {},
     "output_type": "display_data"
    },
    {
     "name": "stdout",
     "output_type": "stream",
     "text": [
      "MEAN Precison of Popularity Recommender 0.004800000000000001\n",
      "MEAN Precison of Random Recommender 0.0\n",
      "MEAN Precison of Content Based Recommender TFID 0.013999999999999983\n",
      "MEAN Precison of Content Based Recommender COUNT 0.012599999999999988\n"
     ]
    }
   ],
   "source": [
    "precision_list_popularity = []\n",
    "precision_list_random = []\n",
    "precision_list_content = []\n",
    "precision_list_content_count = []\n",
    "for j,user in tqdm(enumerate(test_u['customer_id'])):\n",
    "    popular_recommendations = popularity_recommender(user)\n",
    "    random_recommendations = random_recommender(user)\n",
    "    content_recommendations = content_based_recommender_Tfid(user)\n",
    "    content_recommendations_count = content_based_recommender_count(user)\n",
    "    \n",
    "    u_purchases = test_t[test_t['customer_id'] == user]['article_id'].values\n",
    "    \n",
    "    precision_list_popularity.append(len(np.intersect1d(popular_recommendations,u_purchases))/5)\n",
    "    precision_list_random.append(len(np.intersect1d(random_recommendations,u_purchases))/5)\n",
    "    precision_list_content.append(len(np.intersect1d(content_recommendations, u_purchases))/5)\n",
    "    precision_list_content_count.append(len(np.intersect1d(content_recommendations_count, u_purchases))/5)\n",
    "    \n",
    "#     print(j)\n",
    "print(\"MEAN Precison of Popularity Recommender\",sum(precision_list_popularity)/len(precision_list_popularity))\n",
    "print(\"MEAN Precison of Random Recommender\",sum(precision_list_random)/len(precision_list_random))\n",
    "print(\"MEAN Precison of Content Based Recommender TFID\" ,sum(precision_list_content)/len(precision_list_content))\n",
    "print(\"MEAN Precison of Content Based Recommender COUNT\" ,sum(precision_list_content_count)/len(precision_list_content_count))"
   ]
  },
  {
   "cell_type": "markdown",
   "id": "eb29edcc",
   "metadata": {},
   "source": []
  }
 ],
 "metadata": {
  "kernelspec": {
   "display_name": "Python 3 (ipykernel)",
   "language": "python",
   "name": "python3"
  },
  "language_info": {
   "codemirror_mode": {
    "name": "ipython",
    "version": 3
   },
   "file_extension": ".py",
   "mimetype": "text/x-python",
   "name": "python",
   "nbconvert_exporter": "python",
   "pygments_lexer": "ipython3",
   "version": "3.10.5"
  }
 },
 "nbformat": 4,
 "nbformat_minor": 5
}
