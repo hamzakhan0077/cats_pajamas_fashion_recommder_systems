{
 "cells": [
  {
   "cell_type": "code",
   "execution_count": null,
   "metadata": {
    "id": "yoOvI_uYpWtG"
   },
   "outputs": [],
   "source": [
    "%load_ext autoreload\n",
    "%autoreload 2\n",
    "%matplotlib inline\n"
   ]
  },
  {
   "cell_type": "markdown",
   "metadata": {
    "colab": {
     "base_uri": "https://localhost:8080/",
     "height": 308
    },
    "executionInfo": {
     "elapsed": 4,
     "status": "ok",
     "timestamp": 1677011457034,
     "user": {
      "displayName": "Hamza Hassan Khan",
      "userId": "16404313983786152618"
     },
     "user_tz": 0
    },
    "id": "FjRBzo1PqyiS",
    "outputId": "c3055fc4-edd4-4c99-f330-81a90dcd98d9"
   },
   "source": [
    "\n",
    "<h1>Derek's Metting 21/02/2023/ </h1>\n",
    "\n",
    "<ul>\n",
    "  <li>Use the Fashion Minist Loaded from Keras</li>\n",
    "  <li>Train the CNN again using Derek Way</li>\n",
    "  <li>Pop and add the output layer saying Output = <....> give the to our new  model </li>\n",
    "  <li>Freeze the weights, Train then Unfreeze </li>\n",
    "  \n",
    "  <li> From the main dataset for each class randomly pick certain number of images</li>\n",
    "  <li> Make sure that every class has the same number of the images</li>\n",
    "  <li> Now you have a new image directory, Use Derek's partition.py to partition this directory</li>\n",
    "  <li> Now use this on the drive and in Colab </li>\n",
    "  <li> If you have time maybe try running the whole Image dataset on the GeForce 3080</li>\n",
    "  <li> The vector comes out of predict --> find out</li>\n",
    "  <li> THE LAYER BEFORE THE OUTPUT LAYER</li>\n",
    "  <li> Build a Recommender using that </li>\n",
    "  <li> G'Luck  </li>\n",
    "\n",
    "</ul>\n",
    "\n",
    "\n"
   ]
  },
  {
   "cell_type": "code",
   "execution_count": null,
   "metadata": {
    "id": "Nm2BqsJXp2kV"
   },
   "outputs": [],
   "source": [
    "import pandas as pd\n",
    "import numpy as np\n",
    "import matplotlib.pyplot as plt\n",
    "\n",
    "import os\n",
    "\n",
    "\n",
    "from tensorflow.keras.preprocessing.image import load_img, img_to_array, array_to_img\n",
    "from tensorflow.keras.preprocessing import image_dataset_from_directory\n",
    "\n",
    "from tensorflow.keras import Model\n",
    "from tensorflow.keras import Input\n",
    "from tensorflow.keras import Sequential\n",
    "from tensorflow.keras.layers import RandomFlip\n",
    "from tensorflow.keras.layers import RandomRotation\n",
    "from tensorflow.keras.layers import RandomZoom\n",
    "from tensorflow.keras.layers import RandomTranslation\n",
    "from tensorflow.keras.layers import Rescaling\n",
    "from tensorflow.keras.layers import Dense\n",
    "from tensorflow.keras.layers import Conv2D\n",
    "from tensorflow.keras.layers import MaxPooling2D\n",
    "from tensorflow.keras.layers import Flatten\n",
    "from tensorflow.keras.layers import Dropout\n",
    "from tensorflow.keras.layers import BatchNormalization\n",
    "\n",
    "\n",
    "from keras.utils import to_categorical\n",
    "from sklearn.model_selection import train_test_split\n",
    "from tensorflow.keras.models import load_model\n",
    "\n",
    "from tensorflow.keras.optimizers import RMSprop\n",
    "\n",
    "from tensorflow.keras.callbacks import EarlyStopping,TensorBoard\n",
    "\n",
    "\n",
    "\n",
    "\n",
    "from keras.datasets import fashion_mnist\n",
    "import time\n",
    "import tensorflow as tf\n",
    "\n",
    "\n",
    "import keras"
   ]
  },
  {
   "cell_type": "code",
   "execution_count": null,
   "metadata": {
    "colab": {
     "base_uri": "https://localhost:8080/"
    },
    "executionInfo": {
     "elapsed": 3844,
     "status": "ok",
     "timestamp": 1677011466516,
     "user": {
      "displayName": "Hamza Hassan Khan",
      "userId": "16404313983786152618"
     },
     "user_tz": 0
    },
    "id": "Ye629v4xu1z0",
    "outputId": "80525a31-5e2a-47a2-fa3e-debe9bbcec05"
   },
   "outputs": [
    {
     "name": "stdout",
     "output_type": "stream",
     "text": [
      "Downloading data from https://storage.googleapis.com/tensorflow/tf-keras-datasets/train-labels-idx1-ubyte.gz\n",
      "29515/29515 [==============================] - 0s 0us/step\n",
      "Downloading data from https://storage.googleapis.com/tensorflow/tf-keras-datasets/train-images-idx3-ubyte.gz\n",
      "26421880/26421880 [==============================] - 1s 0us/step\n",
      "Downloading data from https://storage.googleapis.com/tensorflow/tf-keras-datasets/t10k-labels-idx1-ubyte.gz\n",
      "5148/5148 [==============================] - 0s 0us/step\n",
      "Downloading data from https://storage.googleapis.com/tensorflow/tf-keras-datasets/t10k-images-idx3-ubyte.gz\n",
      "4422102/4422102 [==============================] - 0s 0us/step\n"
     ]
    }
   ],
   "source": [
    "(x_train, y_train), (x_test, y_test) = tf.keras.datasets.fashion_mnist.load_data()\n",
    "x_train = x_train.reshape((60000,28,28,1))\n",
    "x_test = x_test.reshape((10000,28,28,1))\n"
   ]
  },
  {
   "cell_type": "code",
   "execution_count": null,
   "metadata": {
    "colab": {
     "base_uri": "https://localhost:8080/",
     "height": 35
    },
    "executionInfo": {
     "elapsed": 6161,
     "status": "ok",
     "timestamp": 1677011472675,
     "user": {
      "displayName": "Hamza Hassan Khan",
      "userId": "16404313983786152618"
     },
     "user_tz": 0
    },
    "id": "sObhrsQ0p4wk",
    "outputId": "7ba943b1-f299-462d-e59d-185843ea322b"
   },
   "outputs": [
    {
     "data": {
      "application/vnd.google.colaboratory.intrinsic+json": {
       "type": "string"
      },
      "text/plain": [
       "'/device:GPU:0'"
      ]
     },
     "execution_count": 5,
     "metadata": {},
     "output_type": "execute_result"
    }
   ],
   "source": [
    "tf.test.gpu_device_name()"
   ]
  },
  {
   "cell_type": "code",
   "execution_count": null,
   "metadata": {
    "colab": {
     "base_uri": "https://localhost:8080/"
    },
    "executionInfo": {
     "elapsed": 18807,
     "status": "ok",
     "timestamp": 1677011491479,
     "user": {
      "displayName": "Hamza Hassan Khan",
      "userId": "16404313983786152618"
     },
     "user_tz": 0
    },
    "id": "1hIvGXEo4KUp",
    "outputId": "a6dd2ba4-a53d-4076-9a39-4f8e5bf81ad4"
   },
   "outputs": [
    {
     "name": "stdout",
     "output_type": "stream",
     "text": [
      "Mounted at /content/gdrive\n"
     ]
    }
   ],
   "source": [
    "from google.colab import drive\n",
    "drive.mount(\"/content/gdrive\")"
   ]
  },
  {
   "cell_type": "code",
   "execution_count": null,
   "metadata": {
    "id": "aUVwV9TGqDBW"
   },
   "outputs": [],
   "source": [
    "start = time.time()"
   ]
  },
  {
   "cell_type": "code",
   "execution_count": null,
   "metadata": {
    "colab": {
     "base_uri": "https://localhost:8080/",
     "height": 74
    },
    "executionInfo": {
     "elapsed": 3,
     "status": "ok",
     "timestamp": 1677011491479,
     "user": {
      "displayName": "Hamza Hassan Khan",
      "userId": "16404313983786152618"
     },
     "user_tz": 0
    },
    "id": "tHnYsj49qJ0O",
    "outputId": "ed2ad095-8425-42bc-e4d7-43fbbbfedb6f"
   },
   "outputs": [
    {
     "data": {
      "text/html": [
       "<h1> Covnet from Scratch for Fashion Mnist </h1>\n"
      ],
      "text/plain": [
       "<IPython.core.display.HTML object>"
      ]
     },
     "metadata": {},
     "output_type": "display_data"
    }
   ],
   "source": [
    "%%html\n",
    "<h1> Covnet from Scratch for Fashion Mnist </h1>"
   ]
  },
  {
   "cell_type": "code",
   "execution_count": null,
   "metadata": {
    "id": "dE4xQz2duAKv"
   },
   "outputs": [],
   "source": [
    "inputs = Input(shape = (28,28,1))\n",
    "x = Rescaling(scale=1./255)(inputs)\n",
    "x = Conv2D(filters=32, kernel_size=(3, 3), activation='relu')(x)\n",
    "x = MaxPooling2D((2, 2))(x)\n",
    "x = Dropout(0.25)(x)\n",
    "\n",
    "x = Conv2D(filters=64, kernel_size=(3, 3), activation='relu')(x)\n",
    "x = MaxPooling2D(pool_size=(2, 2))(x)\n",
    "x = Dropout(0.25)(x)\n",
    "\n",
    "x = Conv2D(filters=128, kernel_size=(3, 3), activation='relu')(x)\n",
    "x = Dropout(0.4)(x)\n",
    "\n",
    "x = Flatten()(x)\n",
    "\n",
    "x = Dense(128, activation='relu')(x)\n",
    "x = Dropout(0.3)(x)\n",
    "outputs = Dense(10, activation='softmax')(x)\n",
    "cnn3 = Model(inputs,outputs)\n",
    "\n"
   ]
  },
  {
   "cell_type": "code",
   "execution_count": null,
   "metadata": {
    "id": "WoS_yoBjwXV9"
   },
   "outputs": [],
   "source": [
    "cnn3.compile(optimizer=RMSprop(learning_rate=0.0001), loss=\"sparse_categorical_crossentropy\", metrics=[\"accuracy\"])"
   ]
  },
  {
   "cell_type": "code",
   "execution_count": null,
   "metadata": {
    "colab": {
     "base_uri": "https://localhost:8080/",
     "height": 34
    },
    "executionInfo": {
     "elapsed": 9,
     "status": "ok",
     "timestamp": 1677011491994,
     "user": {
      "displayName": "Hamza Hassan Khan",
      "userId": "16404313983786152618"
     },
     "user_tz": 0
    },
    "id": "p_z04tNzuxNu",
    "outputId": "83d3cac6-756e-4e0e-e099-630b425b6f23"
   },
   "outputs": [
    {
     "data": {
      "text/html": [
       "<a href = \"https://nbviewer.org/github/khanhnamle1994/fashion-mnist/blob/master/CNN-3Conv.ipynb\">Network from here </a>\n"
      ],
      "text/plain": [
       "<IPython.core.display.HTML object>"
      ]
     },
     "metadata": {},
     "output_type": "display_data"
    }
   ],
   "source": [
    "%%html\n",
    "<a href = \"https://nbviewer.org/github/khanhnamle1994/fashion-mnist/blob/master/CNN-3Conv.ipynb\">Network from here </a>"
   ]
  },
  {
   "cell_type": "code",
   "execution_count": null,
   "metadata": {
    "colab": {
     "base_uri": "https://localhost:8080/"
    },
    "executionInfo": {
     "elapsed": 8,
     "status": "ok",
     "timestamp": 1677011491994,
     "user": {
      "displayName": "Hamza Hassan Khan",
      "userId": "16404313983786152618"
     },
     "user_tz": 0
    },
    "id": "7fKJrS9CuMWI",
    "outputId": "01bc436c-9ca5-4e32-9da5-9d05a2bcc2b4"
   },
   "outputs": [
    {
     "name": "stdout",
     "output_type": "stream",
     "text": [
      "Model: \"model\"\n",
      "_________________________________________________________________\n",
      " Layer (type)                Output Shape              Param #   \n",
      "=================================================================\n",
      " input_1 (InputLayer)        [(None, 28, 28, 1)]       0         \n",
      "                                                                 \n",
      " rescaling (Rescaling)       (None, 28, 28, 1)         0         \n",
      "                                                                 \n",
      " conv2d (Conv2D)             (None, 26, 26, 32)        320       \n",
      "                                                                 \n",
      " max_pooling2d (MaxPooling2D  (None, 13, 13, 32)       0         \n",
      " )                                                               \n",
      "                                                                 \n",
      " dropout (Dropout)           (None, 13, 13, 32)        0         \n",
      "                                                                 \n",
      " conv2d_1 (Conv2D)           (None, 11, 11, 64)        18496     \n",
      "                                                                 \n",
      " max_pooling2d_1 (MaxPooling  (None, 5, 5, 64)         0         \n",
      " 2D)                                                             \n",
      "                                                                 \n",
      " dropout_1 (Dropout)         (None, 5, 5, 64)          0         \n",
      "                                                                 \n",
      " conv2d_2 (Conv2D)           (None, 3, 3, 128)         73856     \n",
      "                                                                 \n",
      " dropout_2 (Dropout)         (None, 3, 3, 128)         0         \n",
      "                                                                 \n",
      " flatten (Flatten)           (None, 1152)              0         \n",
      "                                                                 \n",
      " dense (Dense)               (None, 128)               147584    \n",
      "                                                                 \n",
      " dropout_3 (Dropout)         (None, 128)               0         \n",
      "                                                                 \n",
      " dense_1 (Dense)             (None, 10)                1290      \n",
      "                                                                 \n",
      "=================================================================\n",
      "Total params: 241,546\n",
      "Trainable params: 241,546\n",
      "Non-trainable params: 0\n",
      "_________________________________________________________________\n"
     ]
    }
   ],
   "source": [
    "cnn3.summary()"
   ]
  },
  {
   "cell_type": "code",
   "execution_count": null,
   "metadata": {
    "colab": {
     "base_uri": "https://localhost:8080/"
    },
    "executionInfo": {
     "elapsed": 323464,
     "status": "ok",
     "timestamp": 1677011815455,
     "user": {
      "displayName": "Hamza Hassan Khan",
      "userId": "16404313983786152618"
     },
     "user_tz": 0
    },
    "id": "mp2fqgf-vmPP",
    "outputId": "9695469a-5496-467a-f13a-5ecac93a6319"
   },
   "outputs": [
    {
     "name": "stdout",
     "output_type": "stream",
     "text": [
      "Epoch 1/50\n",
      "1500/1500 [==============================] - 21s 7ms/step - loss: 1.1258 - accuracy: 0.5908 - val_loss: 0.6522 - val_accuracy: 0.7586\n",
      "Epoch 2/50\n",
      "1500/1500 [==============================] - 11s 7ms/step - loss: 0.6834 - accuracy: 0.7432 - val_loss: 0.5477 - val_accuracy: 0.7922\n",
      "Epoch 3/50\n",
      "1500/1500 [==============================] - 9s 6ms/step - loss: 0.5935 - accuracy: 0.7771 - val_loss: 0.4922 - val_accuracy: 0.8195\n",
      "Epoch 4/50\n",
      "1500/1500 [==============================] - 9s 6ms/step - loss: 0.5368 - accuracy: 0.8007 - val_loss: 0.4481 - val_accuracy: 0.8395\n",
      "Epoch 5/50\n",
      "1500/1500 [==============================] - 10s 7ms/step - loss: 0.4927 - accuracy: 0.8176 - val_loss: 0.4137 - val_accuracy: 0.8525\n",
      "Epoch 6/50\n",
      "1500/1500 [==============================] - 9s 6ms/step - loss: 0.4634 - accuracy: 0.8303 - val_loss: 0.3883 - val_accuracy: 0.8652\n",
      "Epoch 7/50\n",
      "1500/1500 [==============================] - 9s 6ms/step - loss: 0.4356 - accuracy: 0.8432 - val_loss: 0.3637 - val_accuracy: 0.8712\n",
      "Epoch 8/50\n",
      "1500/1500 [==============================] - 9s 6ms/step - loss: 0.4186 - accuracy: 0.8490 - val_loss: 0.3505 - val_accuracy: 0.8745\n",
      "Epoch 9/50\n",
      "1500/1500 [==============================] - 9s 6ms/step - loss: 0.4018 - accuracy: 0.8560 - val_loss: 0.3419 - val_accuracy: 0.8737\n",
      "Epoch 10/50\n",
      "1500/1500 [==============================] - 10s 7ms/step - loss: 0.3851 - accuracy: 0.8608 - val_loss: 0.3283 - val_accuracy: 0.8793\n",
      "Epoch 11/50\n",
      "1500/1500 [==============================] - 9s 6ms/step - loss: 0.3754 - accuracy: 0.8650 - val_loss: 0.3221 - val_accuracy: 0.8807\n",
      "Epoch 12/50\n",
      "1500/1500 [==============================] - 9s 6ms/step - loss: 0.3641 - accuracy: 0.8704 - val_loss: 0.3086 - val_accuracy: 0.8865\n",
      "Epoch 13/50\n",
      "1500/1500 [==============================] - 9s 6ms/step - loss: 0.3557 - accuracy: 0.8719 - val_loss: 0.3056 - val_accuracy: 0.8878\n",
      "Epoch 14/50\n",
      "1500/1500 [==============================] - 9s 6ms/step - loss: 0.3465 - accuracy: 0.8741 - val_loss: 0.2981 - val_accuracy: 0.8902\n",
      "Epoch 15/50\n",
      "1500/1500 [==============================] - 9s 6ms/step - loss: 0.3409 - accuracy: 0.8773 - val_loss: 0.2977 - val_accuracy: 0.8912\n",
      "Epoch 16/50\n",
      "1500/1500 [==============================] - 10s 6ms/step - loss: 0.3354 - accuracy: 0.8783 - val_loss: 0.2918 - val_accuracy: 0.8942\n",
      "Epoch 17/50\n",
      "1500/1500 [==============================] - 9s 6ms/step - loss: 0.3291 - accuracy: 0.8828 - val_loss: 0.2929 - val_accuracy: 0.8926\n",
      "Epoch 18/50\n",
      "1500/1500 [==============================] - 9s 6ms/step - loss: 0.3264 - accuracy: 0.8840 - val_loss: 0.2847 - val_accuracy: 0.8956\n",
      "Epoch 19/50\n",
      "1500/1500 [==============================] - 10s 7ms/step - loss: 0.3215 - accuracy: 0.8852 - val_loss: 0.2811 - val_accuracy: 0.8969\n",
      "Epoch 20/50\n",
      "1500/1500 [==============================] - 9s 6ms/step - loss: 0.3159 - accuracy: 0.8861 - val_loss: 0.2794 - val_accuracy: 0.8967\n",
      "Epoch 21/50\n",
      "1500/1500 [==============================] - 10s 6ms/step - loss: 0.3109 - accuracy: 0.8889 - val_loss: 0.2766 - val_accuracy: 0.9007\n",
      "Epoch 22/50\n",
      "1500/1500 [==============================] - 9s 6ms/step - loss: 0.3082 - accuracy: 0.8896 - val_loss: 0.2752 - val_accuracy: 0.8978\n",
      "Epoch 23/50\n",
      "1500/1500 [==============================] - 9s 6ms/step - loss: 0.3032 - accuracy: 0.8917 - val_loss: 0.2738 - val_accuracy: 0.9008\n",
      "Epoch 24/50\n",
      "1500/1500 [==============================] - 9s 6ms/step - loss: 0.3029 - accuracy: 0.8916 - val_loss: 0.2672 - val_accuracy: 0.9013\n",
      "Epoch 25/50\n",
      "1500/1500 [==============================] - 10s 7ms/step - loss: 0.2977 - accuracy: 0.8939 - val_loss: 0.2654 - val_accuracy: 0.9032\n",
      "Epoch 26/50\n",
      "1500/1500 [==============================] - 9s 6ms/step - loss: 0.3010 - accuracy: 0.8925 - val_loss: 0.2589 - val_accuracy: 0.9043\n",
      "Epoch 27/50\n",
      "1500/1500 [==============================] - 9s 6ms/step - loss: 0.2956 - accuracy: 0.8939 - val_loss: 0.2641 - val_accuracy: 0.9032\n",
      "Epoch 28/50\n",
      "1500/1500 [==============================] - 10s 6ms/step - loss: 0.2898 - accuracy: 0.8966 - val_loss: 0.2666 - val_accuracy: 0.9041\n",
      "Epoch 29/50\n",
      "1500/1500 [==============================] - 9s 6ms/step - loss: 0.2926 - accuracy: 0.8958 - val_loss: 0.2549 - val_accuracy: 0.9065\n",
      "Epoch 30/50\n",
      "1500/1500 [==============================] - 10s 7ms/step - loss: 0.2870 - accuracy: 0.8988 - val_loss: 0.2567 - val_accuracy: 0.9070\n",
      "Epoch 31/50\n",
      "1500/1500 [==============================] - 11s 7ms/step - loss: 0.2858 - accuracy: 0.8995 - val_loss: 0.2596 - val_accuracy: 0.9072\n",
      "Epoch 32/50\n",
      "1500/1500 [==============================] - 10s 6ms/step - loss: 0.2835 - accuracy: 0.8999 - val_loss: 0.2623 - val_accuracy: 0.9059\n",
      "Epoch 33/50\n",
      "1500/1500 [==============================] - 9s 6ms/step - loss: 0.2861 - accuracy: 0.8985 - val_loss: 0.2570 - val_accuracy: 0.9076\n",
      "Total time:  322.42502427101135 seconds\n"
     ]
    }
   ],
   "source": [
    "start = time.time()\n",
    "cnn3_history = cnn3.fit(x_train, y_train, epochs=50,\n",
    "                        validation_split=0.2,\n",
    "                callbacks=[EarlyStopping(monitor=\"val_loss\", patience=4, restore_best_weights=True)],\n",
    "                verbose=1)\n",
    "print(\"Total time: \", time.time() - start, \"seconds\")"
   ]
  },
  {
   "cell_type": "code",
   "execution_count": null,
   "metadata": {
    "colab": {
     "base_uri": "https://localhost:8080/",
     "height": 282
    },
    "executionInfo": {
     "elapsed": 8,
     "status": "ok",
     "timestamp": 1677011815456,
     "user": {
      "displayName": "Hamza Hassan Khan",
      "userId": "16404313983786152618"
     },
     "user_tz": 0
    },
    "id": "ezuH2Spf7DH1",
    "outputId": "a2b7f902-f2f7-4f77-ff48-39a0aaa5ae4b"
   },
   "outputs": [
    {
     "data": {
      "text/plain": [
       "<matplotlib.axes._subplots.AxesSubplot at 0x7fa89030e670>"
      ]
     },
     "execution_count": 14,
     "metadata": {},
     "output_type": "execute_result"
    },
    {
     "data": {
      "image/png": "[encoded data removed]",
      "text/plain": [
       "<Figure size 432x288 with 1 Axes>"
      ]
     },
     "metadata": {
      "needs_background": "light"
     },
     "output_type": "display_data"
    }
   ],
   "source": [
    "pd.DataFrame(cnn3_history.history).plot()"
   ]
  },
  {
   "cell_type": "code",
   "execution_count": null,
   "metadata": {
    "colab": {
     "base_uri": "https://localhost:8080/"
    },
    "executionInfo": {
     "elapsed": 7105,
     "status": "ok",
     "timestamp": 1677011822556,
     "user": {
      "displayName": "Hamza Hassan Khan",
      "userId": "16404313983786152618"
     },
     "user_tz": 0
    },
    "id": "70c8640e",
    "outputId": "c3eb8223-4883-45a1-fecb-45f16dc2ad51"
   },
   "outputs": [
    {
     "name": "stdout",
     "output_type": "stream",
     "text": [
      "1875/1875 [==============================] - 7s 4ms/step - loss: 0.2281 - accuracy: 0.9174\n"
     ]
    },
    {
     "data": {
      "text/plain": [
       "0.9174000024795532"
      ]
     },
     "execution_count": 15,
     "metadata": {},
     "output_type": "execute_result"
    }
   ],
   "source": [
    "train_loss, train_acc = cnn3.evaluate(x_train,y_train)\n",
    "train_acc"
   ]
  },
  {
   "cell_type": "code",
   "execution_count": null,
   "metadata": {
    "colab": {
     "base_uri": "https://localhost:8080/"
    },
    "executionInfo": {
     "elapsed": 1428,
     "status": "ok",
     "timestamp": 1677011823980,
     "user": {
      "displayName": "Hamza Hassan Khan",
      "userId": "16404313983786152618"
     },
     "user_tz": 0
    },
    "id": "k1mcZOT-7_Ox",
    "outputId": "f6a6509d-ca57-45d2-c64e-fe4bb550364c"
   },
   "outputs": [
    {
     "name": "stdout",
     "output_type": "stream",
     "text": [
      "313/313 [==============================] - 1s 4ms/step - loss: 0.2645 - accuracy: 0.9057\n"
     ]
    },
    {
     "data": {
      "text/plain": [
       "0.9057000279426575"
      ]
     },
     "execution_count": 16,
     "metadata": {},
     "output_type": "execute_result"
    }
   ],
   "source": [
    "test_loss, test_acc = cnn3.evaluate(x_test,y_test)\n",
    "test_acc"
   ]
  },
  {
   "cell_type": "code",
   "execution_count": null,
   "metadata": {
    "id": "WMaWsW00SQRt"
   },
   "outputs": [],
   "source": [
    "cnn3.save('/content/gdrive/MyDrive/Colab_Notebooks/Weights/cnn3_model.h5')"
   ]
  },
  {
   "cell_type": "code",
   "execution_count": null,
   "metadata": {
    "id": "poI4coCZ8Dxt"
   },
   "outputs": [],
   "source": [
    "train_dir = \"/content/gdrive/MyDrive/Colab_Notebooks/Datasets/train\"\n",
    "val_dir = \"/content/gdrive/MyDrive/Colab_Notebooks/Datasets/val\"\n",
    "test_dir = \"/content/gdrive/MyDrive/Colab_Notebooks/Datasets/test\""
   ]
  },
  {
   "cell_type": "code",
   "execution_count": null,
   "metadata": {
    "colab": {
     "base_uri": "https://localhost:8080/"
    },
    "executionInfo": {
     "elapsed": 30006,
     "status": "ok",
     "timestamp": 1677011854857,
     "user": {
      "displayName": "Hamza Hassan Khan",
      "userId": "16404313983786152618"
     },
     "user_tz": 0
    },
    "id": "UdWNh4G-KnZD",
    "outputId": "86b5cd3e-8e86-42af-a245-b71c9929f53e"
   },
   "outputs": [
    {
     "name": "stdout",
     "output_type": "stream",
     "text": [
      "Found 3045 files belonging to 130 classes.\n",
      "Found 1499 files belonging to 130 classes.\n",
      "Found 1575 files belonging to 130 classes.\n"
     ]
    }
   ],
   "source": [
    "train_dataset = image_dataset_from_directory(directory=train_dir, label_mode=\"categorical\",color_mode ='grayscale', image_size=(28,28))\n",
    "val_dataset = image_dataset_from_directory(directory=val_dir, label_mode=\"categorical\",color_mode='grayscale', image_size=(28, 28))\n",
    "test_dataset = image_dataset_from_directory(directory=test_dir, label_mode=\"categorical\",color_mode='grayscale', image_size=(28, 28))"
   ]
  },
  {
   "cell_type": "code",
   "execution_count": null,
   "metadata": {
    "id": "wEdBM0wjVueQ"
   },
   "outputs": [],
   "source": [
    "# cnn3.pop()\n",
    "inputs = Input(shape = (28,28,1))\n",
    "x = Rescaling(scale=1./255)(inputs)\n",
    "x = cnn3(x)\n",
    "x = Flatten()(x)\n",
    "x = Dense(1024, activation='relu')(x)\n",
    "x = Dropout(0.3)(x)\n",
    "outputs = Dense(130, activation='softmax')(x)\n",
    "cnn3_new = Model(inputs=inputs,outputs=outputs)"
   ]
  },
  {
   "cell_type": "code",
   "execution_count": null,
   "metadata": {
    "id": "H3zpFwm9ALNG"
   },
   "outputs": [],
   "source": [
    "cnn3.trainable = False"
   ]
  },
  {
   "cell_type": "code",
   "execution_count": null,
   "metadata": {
    "colab": {
     "base_uri": "https://localhost:8080/"
    },
    "executionInfo": {
     "elapsed": 7,
     "status": "ok",
     "timestamp": 1677011854858,
     "user": {
      "displayName": "Hamza Hassan Khan",
      "userId": "16404313983786152618"
     },
     "user_tz": 0
    },
    "id": "ihd2O1QoVM9a",
    "outputId": "00887e2f-bcbd-41b2-9579-c3736c97b47b"
   },
   "outputs": [
    {
     "name": "stdout",
     "output_type": "stream",
     "text": [
      "Model: \"model_1\"\n",
      "_________________________________________________________________\n",
      " Layer (type)                Output Shape              Param #   \n",
      "=================================================================\n",
      " input_2 (InputLayer)        [(None, 28, 28, 1)]       0         \n",
      "                                                                 \n",
      " rescaling_1 (Rescaling)     (None, 28, 28, 1)         0         \n",
      "                                                                 \n",
      " model (Functional)          (None, 10)                241546    \n",
      "                                                                 \n",
      " flatten_1 (Flatten)         (None, 10)                0         \n",
      "                                                                 \n",
      " dense_2 (Dense)             (None, 1024)              11264     \n",
      "                                                                 \n",
      " dropout_4 (Dropout)         (None, 1024)              0         \n",
      "                                                                 \n",
      " dense_3 (Dense)             (None, 130)               133250    \n",
      "                                                                 \n",
      "=================================================================\n",
      "Total params: 386,060\n",
      "Trainable params: 144,514\n",
      "Non-trainable params: 241,546\n",
      "_________________________________________________________________\n"
     ]
    }
   ],
   "source": [
    "cnn3_new.compile(optimizer=RMSprop(learning_rate=0.0001), loss=\"categorical_crossentropy\", metrics=[\"accuracy\"])\n",
    "cnn3_new.summary()"
   ]
  },
  {
   "cell_type": "code",
   "execution_count": null,
   "metadata": {
    "colab": {
     "base_uri": "https://localhost:8080/",
     "height": 1862
    },
    "executionInfo": {
     "elapsed": 2624258,
     "status": "ok",
     "timestamp": 1677014479112,
     "user": {
      "displayName": "Hamza Hassan Khan",
      "userId": "16404313983786152618"
     },
     "user_tz": 0
    },
    "id": "VZN9XY8equl0",
    "outputId": "579e88fa-b15d-4e34-c81f-6f70f1c34635"
   },
   "outputs": [
    {
     "name": "stdout",
     "output_type": "stream",
     "text": [
      "Epoch 1/50\n",
      "96/96 [==============================] - 1058s 10s/step - loss: 4.7481 - accuracy: 0.0972 - val_loss: 4.6582 - val_accuracy: 0.1121\n",
      "Epoch 2/50\n",
      "96/96 [==============================] - 34s 337ms/step - loss: 4.5019 - accuracy: 0.1133 - val_loss: 4.3949 - val_accuracy: 0.1161\n",
      "Epoch 3/50\n",
      "96/96 [==============================] - 34s 325ms/step - loss: 4.1904 - accuracy: 0.1159 - val_loss: 4.0707 - val_accuracy: 0.1161\n",
      "Epoch 4/50\n",
      "96/96 [==============================] - 34s 325ms/step - loss: 3.8624 - accuracy: 0.1100 - val_loss: 3.7559 - val_accuracy: 0.1161\n",
      "Epoch 5/50\n",
      "96/96 [==============================] - 35s 336ms/step - loss: 3.6110 - accuracy: 0.1186 - val_loss: 3.5435 - val_accuracy: 0.1161\n",
      "Epoch 6/50\n",
      "96/96 [==============================] - 33s 324ms/step - loss: 3.4782 - accuracy: 0.1117 - val_loss: 3.4445 - val_accuracy: 0.1161\n",
      "Epoch 7/50\n",
      "96/96 [==============================] - 34s 335ms/step - loss: 3.4276 - accuracy: 0.1179 - val_loss: 3.4040 - val_accuracy: 0.1161\n",
      "Epoch 8/50\n",
      "96/96 [==============================] - 36s 344ms/step - loss: 3.4116 - accuracy: 0.1176 - val_loss: 3.3851 - val_accuracy: 0.1161\n",
      "Epoch 9/50\n",
      "96/96 [==============================] - 33s 324ms/step - loss: 3.4007 - accuracy: 0.1123 - val_loss: 3.3740 - val_accuracy: 0.1161\n",
      "Epoch 10/50\n",
      "96/96 [==============================] - 35s 346ms/step - loss: 3.3943 - accuracy: 0.1179 - val_loss: 3.3667 - val_accuracy: 0.1161\n",
      "Epoch 11/50\n",
      "96/96 [==============================] - 33s 327ms/step - loss: 3.3896 - accuracy: 0.1169 - val_loss: 3.3617 - val_accuracy: 0.1161\n",
      "Epoch 12/50\n",
      "96/96 [==============================] - 32s 321ms/step - loss: 3.3853 - accuracy: 0.1140 - val_loss: 3.3576 - val_accuracy: 0.1161\n",
      "Epoch 13/50\n",
      "96/96 [==============================] - 32s 317ms/step - loss: 3.3836 - accuracy: 0.1192 - val_loss: 3.3549 - val_accuracy: 0.1161\n",
      "Epoch 14/50\n",
      "96/96 [==============================] - 43s 435ms/step - loss: 3.3834 - accuracy: 0.1143 - val_loss: 3.3526 - val_accuracy: 0.1161\n",
      "Epoch 15/50\n",
      "96/96 [==============================] - 35s 338ms/step - loss: 3.3838 - accuracy: 0.1163 - val_loss: 3.3511 - val_accuracy: 0.1161\n",
      "Epoch 16/50\n",
      "96/96 [==============================] - 35s 335ms/step - loss: 3.3804 - accuracy: 0.1156 - val_loss: 3.3497 - val_accuracy: 0.1161\n",
      "Epoch 17/50\n",
      "96/96 [==============================] - 35s 339ms/step - loss: 3.3803 - accuracy: 0.1074 - val_loss: 3.3486 - val_accuracy: 0.1161\n",
      "Epoch 18/50\n",
      "96/96 [==============================] - 33s 332ms/step - loss: 3.3776 - accuracy: 0.1156 - val_loss: 3.3480 - val_accuracy: 0.1161\n",
      "Epoch 19/50\n",
      "96/96 [==============================] - 35s 348ms/step - loss: 3.3783 - accuracy: 0.1189 - val_loss: 3.3466 - val_accuracy: 0.1161\n",
      "Epoch 20/50\n",
      "96/96 [==============================] - 34s 332ms/step - loss: 3.3763 - accuracy: 0.1110 - val_loss: 3.3462 - val_accuracy: 0.1161\n",
      "Epoch 21/50\n",
      "96/96 [==============================] - 33s 331ms/step - loss: 3.3747 - accuracy: 0.1215 - val_loss: 3.3454 - val_accuracy: 0.1161\n",
      "Epoch 22/50\n",
      "96/96 [==============================] - 35s 341ms/step - loss: 3.3752 - accuracy: 0.1159 - val_loss: 3.3445 - val_accuracy: 0.1161\n",
      "Epoch 23/50\n",
      "96/96 [==============================] - 35s 350ms/step - loss: 3.3726 - accuracy: 0.1123 - val_loss: 3.3441 - val_accuracy: 0.1161\n",
      "Epoch 24/50\n",
      "96/96 [==============================] - 34s 340ms/step - loss: 3.3760 - accuracy: 0.1169 - val_loss: 3.3435 - val_accuracy: 0.1161\n",
      "Epoch 25/50\n",
      "96/96 [==============================] - 34s 331ms/step - loss: 3.3739 - accuracy: 0.1182 - val_loss: 3.3433 - val_accuracy: 0.1161\n",
      "Epoch 26/50\n",
      "96/96 [==============================] - 35s 328ms/step - loss: 3.3726 - accuracy: 0.1192 - val_loss: 3.3429 - val_accuracy: 0.1161\n",
      "Epoch 27/50\n",
      "96/96 [==============================] - 33s 333ms/step - loss: 3.3738 - accuracy: 0.1136 - val_loss: 3.3427 - val_accuracy: 0.1161\n",
      "Epoch 28/50\n",
      "96/96 [==============================] - 44s 447ms/step - loss: 3.3712 - accuracy: 0.1130 - val_loss: 3.3425 - val_accuracy: 0.1161\n",
      "Epoch 29/50\n",
      "96/96 [==============================] - 35s 340ms/step - loss: 3.3743 - accuracy: 0.1140 - val_loss: 3.3418 - val_accuracy: 0.1161\n",
      "Epoch 30/50\n",
      "96/96 [==============================] - 35s 349ms/step - loss: 3.3754 - accuracy: 0.1143 - val_loss: 3.3420 - val_accuracy: 0.1161\n",
      "Epoch 31/50\n",
      "96/96 [==============================] - 35s 347ms/step - loss: 3.3742 - accuracy: 0.1159 - val_loss: 3.3420 - val_accuracy: 0.1161\n",
      "Epoch 32/50\n",
      "96/96 [==============================] - 33s 329ms/step - loss: 3.3725 - accuracy: 0.1140 - val_loss: 3.3422 - val_accuracy: 0.1161\n",
      "Epoch 33/50\n",
      "96/96 [==============================] - 33s 329ms/step - loss: 3.3747 - accuracy: 0.1169 - val_loss: 3.3416 - val_accuracy: 0.1161\n",
      "Epoch 34/50\n",
      "96/96 [==============================] - 35s 329ms/step - loss: 3.3713 - accuracy: 0.1212 - val_loss: 3.3413 - val_accuracy: 0.1161\n",
      "Epoch 35/50\n",
      "96/96 [==============================] - 35s 339ms/step - loss: 3.3698 - accuracy: 0.1195 - val_loss: 3.3412 - val_accuracy: 0.1161\n",
      "Epoch 36/50\n",
      "96/96 [==============================] - 33s 327ms/step - loss: 3.3720 - accuracy: 0.1176 - val_loss: 3.3410 - val_accuracy: 0.1161\n",
      "Epoch 37/50\n",
      "96/96 [==============================] - 36s 359ms/step - loss: 3.3736 - accuracy: 0.1149 - val_loss: 3.3408 - val_accuracy: 0.1161\n",
      "Epoch 38/50\n",
      "96/96 [==============================] - 33s 324ms/step - loss: 3.3709 - accuracy: 0.1126 - val_loss: 3.3407 - val_accuracy: 0.1161\n",
      "Epoch 39/50\n",
      "96/96 [==============================] - 33s 326ms/step - loss: 3.3736 - accuracy: 0.1159 - val_loss: 3.3402 - val_accuracy: 0.1161\n",
      "Epoch 40/50\n",
      "96/96 [==============================] - 33s 327ms/step - loss: 3.3691 - accuracy: 0.1149 - val_loss: 3.3401 - val_accuracy: 0.1161\n",
      "Epoch 41/50\n",
      "96/96 [==============================] - 35s 344ms/step - loss: 3.3733 - accuracy: 0.1126 - val_loss: 3.3401 - val_accuracy: 0.1161\n",
      "Epoch 42/50\n",
      "96/96 [==============================] - 33s 327ms/step - loss: 3.3743 - accuracy: 0.1169 - val_loss: 3.3402 - val_accuracy: 0.1161\n",
      "Epoch 43/50\n",
      "96/96 [==============================] - 33s 328ms/step - loss: 3.3700 - accuracy: 0.1126 - val_loss: 3.3403 - val_accuracy: 0.1161\n",
      "Epoch 44/50\n",
      "96/96 [==============================] - 37s 351ms/step - loss: 3.3707 - accuracy: 0.1176 - val_loss: 3.3403 - val_accuracy: 0.1161\n",
      "Epoch 45/50\n",
      "96/96 [==============================] - 33s 325ms/step - loss: 3.3709 - accuracy: 0.1192 - val_loss: 3.3403 - val_accuracy: 0.1161\n",
      "Total time:  2623.382073163986 seconds\n"
     ]
    },
    {
     "data": {
      "text/plain": [
       "<matplotlib.axes._subplots.AxesSubplot at 0x7fa833318460>"
      ]
     },
     "execution_count": 23,
     "metadata": {},
     "output_type": "execute_result"
    },
    {
     "data": {
      "image/png": "[encoded data removed]",
      "text/plain": [
       "<Figure size 432x288 with 1 Axes>"
      ]
     },
     "metadata": {
      "needs_background": "light"
     },
     "output_type": "display_data"
    }
   ],
   "source": [
    "start = time.time()\n",
    "cnn3_new_history = cnn3_new.fit(train_dataset, epochs=50, \n",
    "                validation_data=val_dataset, \n",
    "                callbacks=[EarlyStopping(monitor=\"val_loss\", patience=4, restore_best_weights=True)])\n",
    "print(\"Total time: \", time.time() - start, \"seconds\")\n",
    "pd.DataFrame(cnn3_new_history.history).plot()\n"
   ]
  },
  {
   "cell_type": "code",
   "execution_count": null,
   "metadata": {
    "id": "CGrGhZABEs93"
   },
   "outputs": [],
   "source": [
    "cnn3.trainable = True\n",
    "\n"
   ]
  },
  {
   "cell_type": "code",
   "execution_count": null,
   "metadata": {
    "id": "TEbscnFhE0U0"
   },
   "outputs": [],
   "source": [
    "cnn3_new.compile(optimizer=RMSprop(learning_rate=0.001), loss=\"categorical_crossentropy\", metrics=[\"accuracy\"])"
   ]
  },
  {
   "cell_type": "code",
   "execution_count": null,
   "metadata": {
    "colab": {
     "base_uri": "https://localhost:8080/",
     "height": 1098
    },
    "executionInfo": {
     "elapsed": 823893,
     "status": "ok",
     "timestamp": 1677015304271,
     "user": {
      "displayName": "Hamza Hassan Khan",
      "userId": "16404313983786152618"
     },
     "user_tz": 0
    },
    "id": "QkEA-yAdFGzs",
    "outputId": "06d17f6e-cbd0-488e-c577-a30b5e69dfba"
   },
   "outputs": [
    {
     "name": "stdout",
     "output_type": "stream",
     "text": [
      "Epoch 1/50\n",
      "96/96 [==============================] - 36s 327ms/step - loss: 3.4001 - accuracy: 0.1100 - val_loss: 3.3518 - val_accuracy: 0.1161\n",
      "Epoch 2/50\n",
      "96/96 [==============================] - 33s 328ms/step - loss: 3.3928 - accuracy: 0.1146 - val_loss: 3.3456 - val_accuracy: 0.1241\n",
      "Epoch 3/50\n",
      "96/96 [==============================] - 35s 339ms/step - loss: 3.3873 - accuracy: 0.1126 - val_loss: 3.3521 - val_accuracy: 0.1161\n",
      "Epoch 4/50\n",
      "96/96 [==============================] - 44s 448ms/step - loss: 3.3771 - accuracy: 0.1143 - val_loss: 3.3266 - val_accuracy: 0.1328\n",
      "Epoch 5/50\n",
      "96/96 [==============================] - 35s 341ms/step - loss: 3.3600 - accuracy: 0.1225 - val_loss: 3.3019 - val_accuracy: 0.1247\n",
      "Epoch 6/50\n",
      "96/96 [==============================] - 35s 353ms/step - loss: 3.3364 - accuracy: 0.1307 - val_loss: 3.2703 - val_accuracy: 0.1314\n",
      "Epoch 7/50\n",
      "96/96 [==============================] - 35s 342ms/step - loss: 3.3004 - accuracy: 0.1317 - val_loss: 3.2351 - val_accuracy: 0.1481\n",
      "Epoch 8/50\n",
      "96/96 [==============================] - 32s 321ms/step - loss: 3.2744 - accuracy: 0.1448 - val_loss: 3.2475 - val_accuracy: 0.1341\n",
      "Epoch 9/50\n",
      "96/96 [==============================] - 32s 320ms/step - loss: 3.2371 - accuracy: 0.1537 - val_loss: 3.1911 - val_accuracy: 0.1621\n",
      "Epoch 10/50\n",
      "96/96 [==============================] - 35s 341ms/step - loss: 3.2022 - accuracy: 0.1662 - val_loss: 3.1728 - val_accuracy: 0.1828\n",
      "Epoch 11/50\n",
      "96/96 [==============================] - 33s 332ms/step - loss: 3.1655 - accuracy: 0.1744 - val_loss: 3.1822 - val_accuracy: 0.1748\n",
      "Epoch 12/50\n",
      "96/96 [==============================] - 35s 348ms/step - loss: 3.1370 - accuracy: 0.1829 - val_loss: 3.0995 - val_accuracy: 0.1828\n",
      "Epoch 13/50\n",
      "96/96 [==============================] - 36s 356ms/step - loss: 3.0965 - accuracy: 0.1947 - val_loss: 3.0336 - val_accuracy: 0.2048\n",
      "Epoch 14/50\n",
      "96/96 [==============================] - 34s 335ms/step - loss: 3.0489 - accuracy: 0.2082 - val_loss: 2.9880 - val_accuracy: 0.2181\n",
      "Epoch 15/50\n",
      "96/96 [==============================] - 36s 350ms/step - loss: 3.0222 - accuracy: 0.2187 - val_loss: 3.0226 - val_accuracy: 0.2235\n",
      "Epoch 16/50\n",
      "96/96 [==============================] - 38s 375ms/step - loss: 2.9743 - accuracy: 0.2378 - val_loss: 2.9160 - val_accuracy: 0.2428\n",
      "Epoch 17/50\n",
      "96/96 [==============================] - 34s 334ms/step - loss: 2.9150 - accuracy: 0.2588 - val_loss: 2.8837 - val_accuracy: 0.2462\n",
      "Epoch 18/50\n",
      "96/96 [==============================] - 35s 344ms/step - loss: 2.8783 - accuracy: 0.2690 - val_loss: 3.0336 - val_accuracy: 0.2128\n",
      "Epoch 19/50\n",
      "96/96 [==============================] - 35s 337ms/step - loss: 2.8412 - accuracy: 0.2745 - val_loss: 2.8046 - val_accuracy: 0.2782\n",
      "Epoch 20/50\n",
      "96/96 [==============================] - 45s 450ms/step - loss: 2.7973 - accuracy: 0.2860 - val_loss: 2.7975 - val_accuracy: 0.2668\n",
      "Epoch 21/50\n",
      "96/96 [==============================] - 35s 347ms/step - loss: 2.7657 - accuracy: 0.2943 - val_loss: 2.7077 - val_accuracy: 0.3135\n",
      "Epoch 22/50\n",
      "96/96 [==============================] - 34s 331ms/step - loss: 2.7413 - accuracy: 0.2969 - val_loss: 2.7287 - val_accuracy: 0.3062\n",
      "Epoch 23/50\n",
      "96/96 [==============================] - 33s 330ms/step - loss: 2.7068 - accuracy: 0.3080 - val_loss: 2.7255 - val_accuracy: 0.3055\n",
      "Total time:  824.907922744751 seconds\n"
     ]
    },
    {
     "data": {
      "text/plain": [
       "<matplotlib.axes._subplots.AxesSubplot at 0x7fa8338f2d60>"
      ]
     },
     "execution_count": 26,
     "metadata": {},
     "output_type": "execute_result"
    },
    {
     "data": {
      "image/png": "[encoded data removed]",
      "text/plain": [
       "<Figure size 432x288 with 1 Axes>"
      ]
     },
     "metadata": {
      "needs_background": "light"
     },
     "output_type": "display_data"
    }
   ],
   "source": [
    "start = time.time()\n",
    "cnn3_new_history = cnn3_new.fit(train_dataset, epochs=50, \n",
    "                validation_data=val_dataset, \n",
    "                callbacks=[EarlyStopping(monitor=\"val_loss\", patience=2, restore_best_weights=True)])\n",
    "print(\"Total time: \", time.time() - start, \"seconds\")\n",
    "pd.DataFrame(cnn3_new_history.history).plot()"
   ]
  },
  {
   "cell_type": "code",
   "execution_count": null,
   "metadata": {
    "colab": {
     "base_uri": "https://localhost:8080/"
    },
    "executionInfo": {
     "elapsed": 41372,
     "status": "ok",
     "timestamp": 1677015345641,
     "user": {
      "displayName": "Hamza Hassan Khan",
      "userId": "16404313983786152618"
     },
     "user_tz": 0
    },
    "id": "ctWr3-kXquX8",
    "outputId": "7f0f264e-5503-4c7e-9b7b-59d1e7d966aa"
   },
   "outputs": [
    {
     "name": "stdout",
     "output_type": "stream",
     "text": [
      "96/96 [==============================] - 24s 218ms/step - loss: 2.6938 - accuracy: 0.3067\n"
     ]
    },
    {
     "data": {
      "text/plain": [
       "0.3067323565483093"
      ]
     },
     "execution_count": 27,
     "metadata": {},
     "output_type": "execute_result"
    }
   ],
   "source": [
    "train_loss, train_acc = cnn3_new.evaluate(train_dataset)\n",
    "train_acc\n"
   ]
  },
  {
   "cell_type": "code",
   "execution_count": null,
   "metadata": {
    "colab": {
     "base_uri": "https://localhost:8080/"
    },
    "executionInfo": {
     "elapsed": 11263,
     "status": "ok",
     "timestamp": 1677015356896,
     "user": {
      "displayName": "Hamza Hassan Khan",
      "userId": "16404313983786152618"
     },
     "user_tz": 0
    },
    "id": "S3xIqX_aquI3",
    "outputId": "ac656062-e733-4328-f511-26c08aa48822"
   },
   "outputs": [
    {
     "name": "stdout",
     "output_type": "stream",
     "text": [
      "47/47 [==============================] - 12s 187ms/step - loss: 2.7077 - accuracy: 0.3135\n"
     ]
    },
    {
     "data": {
      "text/plain": [
       "0.31354236602783203"
      ]
     },
     "execution_count": 28,
     "metadata": {},
     "output_type": "execute_result"
    }
   ],
   "source": [
    "val_loss, val_acc = cnn3_new.evaluate(val_dataset)\n",
    "val_acc"
   ]
  },
  {
   "cell_type": "code",
   "execution_count": null,
   "metadata": {
    "colab": {
     "base_uri": "https://localhost:8080/"
    },
    "executionInfo": {
     "elapsed": 441835,
     "status": "ok",
     "timestamp": 1677015823354,
     "user": {
      "displayName": "Hamza Hassan Khan",
      "userId": "16404313983786152618"
     },
     "user_tz": 0
    },
    "id": "JroKBIRcqt4A",
    "outputId": "c9a10ae0-d604-49ae-b273-af709e596ce3"
   },
   "outputs": [
    {
     "name": "stdout",
     "output_type": "stream",
     "text": [
      "50/50 [==============================] - 384s 6s/step - loss: 2.8634 - accuracy: 0.2857\n"
     ]
    },
    {
     "data": {
      "text/plain": [
       "0.2857142984867096"
      ]
     },
     "execution_count": 30,
     "metadata": {},
     "output_type": "execute_result"
    }
   ],
   "source": [
    "test_loss, test_acc = cnn3_new.evaluate(test_dataset)\n",
    "test_acc"
   ]
  },
  {
   "cell_type": "code",
   "execution_count": null,
   "metadata": {
    "id": "ImJxUeUK6UZq"
   },
   "outputs": [],
   "source": [
    "cnn3_new.save('/content/gdrive/MyDrive/Colab_Notebooks/Weights/cnn3_new.h5')"
   ]
  },
  {
   "cell_type": "code",
   "execution_count": null,
   "metadata": {
    "colab": {
     "base_uri": "https://localhost:8080/"
    },
    "executionInfo": {
     "elapsed": 660,
     "status": "ok",
     "timestamp": 1677018134867,
     "user": {
      "displayName": "Hamza Hassan Khan",
      "userId": "16404313983786152618"
     },
     "user_tz": 0
    },
    "id": "WT_1BxgsEIrV",
    "outputId": "879a5fd3-cf3c-469c-978c-9562d4a21f13"
   },
   "outputs": [
    {
     "name": "stdout",
     "output_type": "stream",
     "text": [
      "3045\n",
      "1499\n",
      "1575\n"
     ]
    }
   ],
   "source": [
    "!find ./gdrive/MyDrive/Colab_Notebooks/Datasets/train -type f | wc -l\n",
    "!find ./gdrive/MyDrive/Colab_Notebooks/Datasets/val -type f | wc -l\n",
    "!find ./gdrive/MyDrive/Colab_Notebooks/Datasets/test -type f | wc -l"
   ]
  },
  {
   "cell_type": "code",
   "execution_count": null,
   "metadata": {
    "colab": {
     "base_uri": "https://localhost:8080/"
    },
    "executionInfo": {
     "elapsed": 304,
     "status": "ok",
     "timestamp": 1677018186020,
     "user": {
      "displayName": "Hamza Hassan Khan",
      "userId": "16404313983786152618"
     },
     "user_tz": 0
    },
    "id": "ViVBBJCJuF2y",
    "outputId": "9ddde455-745b-4ea0-d596-290e727eaddd"
   },
   "outputs": [
    {
     "data": {
      "text/plain": [
       "11.537832979244975"
      ]
     },
     "execution_count": 56,
     "metadata": {},
     "output_type": "execute_result"
    }
   ],
   "source": [
    "Total_products = 3045 + 1499 + 1575\n",
    "Majority_Class = 174 + 174 + 358 # Trousers\n",
    "Target = Majority_Class/Total_products * 100 # entire dataset\n",
    "Target\n",
    "# we are doing better than the Majority Class\n"
   ]
  },
  {
   "cell_type": "code",
   "execution_count": null,
   "metadata": {
    "id": "-bosYrrQDaQQ"
   },
   "outputs": [],
   "source": [
    "\"\"\" IGNORE \"\"\""
   ]
  },
  {
   "cell_type": "code",
   "execution_count": null,
   "metadata": {
    "id": "0URuop1ouG39"
   },
   "outputs": [],
   "source": [
    "!find ./gdrive/MyDrive/Colab_Notebooks/Datasets/test -type d -print0 | xargs -0 -n1 bash -c   'echo -n \"$1:\"; ls -1 \"$1\" | wc -l' --\n"
   ]
  },
  {
   "cell_type": "code",
   "execution_count": null,
   "metadata": {
    "id": "9i6nYSe7uHI3"
   },
   "outputs": [],
   "source": [
    "!find ./gdrive/MyDrive/Colab_Notebooks/Datasets/val -type d -print0 | xargs -0 -n1 bash -c 'echo -n \"$1:\"; ls -1 \"$1\" | wc -l' --"
   ]
  },
  {
   "cell_type": "code",
   "execution_count": null,
   "metadata": {
    "id": "xdmN2IlrBvdq"
   },
   "outputs": [],
   "source": [
    "!find ./gdrive/MyDrive/Colab_Notebooks/Datasets/train -type d -print0 | xargs -0 -n1 bash -c 'echo -n \"$1:\"; ls -1 \"$1\" | wc -l' --"
   ]
  },
  {
   "cell_type": "code",
   "execution_count": null,
   "metadata": {
    "id": "a7Q2gO61ByAF"
   },
   "outputs": [],
   "source": []
  }
 ],
 "metadata": {
  "accelerator": "GPU",
  "colab": {
   "authorship_tag": "ABX9TyMVsAdu3oMmu0eRM4wHzpPT",
   "mount_file_id": "1qDCLCx1IbQeT9H7sGttSkUuWjjHdPuEA",
   "provenance": []
  },
  "gpuClass": "standard",
  "kernelspec": {
   "display_name": "Python 3 (ipykernel)",
   "language": "python",
   "name": "python3"
  },
  "language_info": {
   "codemirror_mode": {
    "name": "ipython",
    "version": 3
   },
   "file_extension": ".py",
   "mimetype": "text/x-python",
   "name": "python",
   "nbconvert_exporter": "python",
   "pygments_lexer": "ipython3",
   "version": "3.10.5"
  }
 },
 "nbformat": 4,
 "nbformat_minor": 1
}
