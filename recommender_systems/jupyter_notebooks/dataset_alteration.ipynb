{
 "cells": [
  {
   "cell_type": "markdown",
   "id": "8034b003",
   "metadata": {},
   "source": [
    "<h2>Removing duplicates for Binary and TF-IDF vectorizers<h2>"
   ]
  },
  {
   "cell_type": "code",
   "execution_count": 3,
   "id": "26bf0f45",
   "metadata": {},
   "outputs": [],
   "source": [
    "%load_ext autoreload\n",
    "%autoreload 2\n",
    "%matplotlib inline"
   ]
  },
  {
   "cell_type": "code",
   "execution_count": 2,
   "id": "e1b534b0",
   "metadata": {},
   "outputs": [],
   "source": [
    "import pandas as pd\n",
    "import numpy as np\n",
    "\n",
    "from tqdm.auto import tqdm\n",
    "\n",
    "import os"
   ]
  },
  {
   "cell_type": "code",
   "execution_count": 4,
   "id": "42262094",
   "metadata": {},
   "outputs": [],
   "source": [
    "articles_df = pd.read_csv(\"../datasets/articles_transactions_5.csv\")\n",
    "t = pd.read_csv(\"../datasets/transactions_5.csv\")\n",
    "i = articles_df.copy()"
   ]
  },
  {
   "cell_type": "code",
   "execution_count": 5,
   "id": "1e108f35",
   "metadata": {},
   "outputs": [
    {
     "data": {
      "text/plain": [
       "(26722,)"
      ]
     },
     "execution_count": 5,
     "metadata": {},
     "output_type": "execute_result"
    }
   ],
   "source": [
    "i['detail_desc'].shape"
   ]
  },
  {
   "cell_type": "code",
   "execution_count": 6,
   "id": "5f5b8a64",
   "metadata": {},
   "outputs": [],
   "source": [
    "i['detail_desc'] = i['detail_desc'].drop_duplicates()\n",
    "i['detail_desc'] = i['detail_desc'].fillna(\"\")\n",
    "i = i[i['detail_desc']!=\"\"]"
   ]
  },
  {
   "cell_type": "code",
   "execution_count": 7,
   "id": "fc5c7c3a",
   "metadata": {},
   "outputs": [
    {
     "data": {
      "text/plain": [
       "(13241, 26)"
      ]
     },
     "execution_count": 7,
     "metadata": {},
     "output_type": "execute_result"
    }
   ],
   "source": [
    "i.shape"
   ]
  },
  {
   "cell_type": "code",
   "execution_count": 8,
   "id": "a5d5a4e5",
   "metadata": {},
   "outputs": [
    {
     "data": {
      "application/vnd.jupyter.widget-view+json": {
       "model_id": "be1769e2ce2047f99bdc76926683482c",
       "version_major": 2,
       "version_minor": 0
      },
      "text/plain": [
       "  0%|          | 0/13241 [00:00<?, ?it/s]"
      ]
     },
     "metadata": {},
     "output_type": "display_data"
    }
   ],
   "source": [
    "for item in tqdm(i['article_id'].values):\n",
    "    t = t[t['article_id']!= item]\n",
    "t.to_csv('../datasets/transactions_5_no_duplicate_desc_items.csv')"
   ]
  },
  {
   "cell_type": "code",
   "execution_count": 9,
   "id": "328186e6",
   "metadata": {},
   "outputs": [
    {
     "data": {
      "text/plain": [
       "(425384, 7)"
      ]
     },
     "execution_count": 9,
     "metadata": {},
     "output_type": "execute_result"
    }
   ],
   "source": [
    "t.shape"
   ]
  },
  {
   "cell_type": "code",
   "execution_count": 4,
   "id": "d2fac312",
   "metadata": {},
   "outputs": [],
   "source": [
    "items = pd.read_csv(\"../datasets/articles_transactions_5.csv\")\n",
    "tar_it = items.copy()\n",
    "t = pd.read_csv(\"../datasets/transactions_5_no_duplicate_desc_items.csv\")"
   ]
  },
  {
   "cell_type": "code",
   "execution_count": 6,
   "id": "6a79ea89",
   "metadata": {},
   "outputs": [
    {
     "data": {
      "text/plain": [
       "(26722, 26)"
      ]
     },
     "execution_count": 6,
     "metadata": {},
     "output_type": "execute_result"
    }
   ],
   "source": [
    "tar_it.shape"
   ]
  },
  {
   "cell_type": "code",
   "execution_count": 18,
   "id": "9ad3a667",
   "metadata": {},
   "outputs": [
    {
     "data": {
      "text/plain": [
       "(13481,)"
      ]
     },
     "execution_count": 18,
     "metadata": {},
     "output_type": "execute_result"
    }
   ],
   "source": [
    "t['article_id'].drop_duplicates().shape"
   ]
  },
  {
   "cell_type": "code",
   "execution_count": 22,
   "id": "dbcee8d8",
   "metadata": {},
   "outputs": [
    {
     "data": {
      "application/vnd.jupyter.widget-view+json": {
       "model_id": "4922114c48cd4e899c143dff8b9de5d1",
       "version_major": 2,
       "version_minor": 0
      },
      "text/plain": [
       "  0%|          | 0/13481 [00:00<?, ?it/s]"
      ]
     },
     "metadata": {},
     "output_type": "display_data"
    }
   ],
   "source": [
    "new_articles = pd.DataFrame()\n",
    "for prod in tqdm(t['article_id'].drop_duplicates().values):\n",
    "    tar = tar_it[tar_it['article_id']==prod]\n",
    "    new_articles = pd.concat([new_articles,tar])\n",
    "new_articles.to_csv(\"../datasets/articles_T5_no_duplicate_desc_items.csv\")"
   ]
  },
  {
   "cell_type": "code",
   "execution_count": 23,
   "id": "ee81dd26",
   "metadata": {},
   "outputs": [
    {
     "data": {
      "text/plain": [
       "(13481, 26)"
      ]
     },
     "execution_count": 23,
     "metadata": {},
     "output_type": "execute_result"
    }
   ],
   "source": [
    "new_articles.shape"
   ]
  },
  {
   "cell_type": "code",
   "execution_count": null,
   "id": "e6d04895",
   "metadata": {},
   "outputs": [],
   "source": []
  }
 ],
 "metadata": {
  "kernelspec": {
   "display_name": "Python 3 (ipykernel)",
   "language": "python",
   "name": "python3"
  },
  "language_info": {
   "codemirror_mode": {
    "name": "ipython",
    "version": 3
   },
   "file_extension": ".py",
   "mimetype": "text/x-python",
   "name": "python",
   "nbconvert_exporter": "python",
   "pygments_lexer": "ipython3",
   "version": "3.10.5"
  }
 },
 "nbformat": 4,
 "nbformat_minor": 5
}
