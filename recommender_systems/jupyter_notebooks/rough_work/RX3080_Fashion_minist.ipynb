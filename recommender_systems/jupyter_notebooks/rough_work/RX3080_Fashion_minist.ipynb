{
 "cells": [
  {
   "cell_type": "code",
   "execution_count": 1,
   "metadata": {
    "executionInfo": {
     "elapsed": 16,
     "status": "ok",
     "timestamp": 1676658030068,
     "user": {
      "displayName": "Hamza Hassan Khan",
      "userId": "16404313983786152618"
     },
     "user_tz": 0
    },
    "id": "yoOvI_uYpWtG"
   },
   "outputs": [],
   "source": [
    "%load_ext autoreload\n",
    "%autoreload 2\n",
    "%matplotlib inline\n"
   ]
  },
  {
   "cell_type": "code",
   "execution_count": 4,
   "metadata": {
    "executionInfo": {
     "elapsed": 5362,
     "status": "ok",
     "timestamp": 1676658035420,
     "user": {
      "displayName": "Hamza Hassan Khan",
      "userId": "16404313983786152618"
     },
     "user_tz": 0
    },
    "id": "Nm2BqsJXp2kV"
   },
   "outputs": [],
   "source": [
    "import pandas as pd\n",
    "import numpy as np\n",
    "import matplotlib.pyplot as plt\n",
    "\n",
    "import os\n",
    "\n",
    "\n",
    "from tensorflow.keras.preprocessing.image import load_img, img_to_array, array_to_img\n",
    "from tensorflow.keras.preprocessing import image_dataset_from_directory\n",
    "\n",
    "from tensorflow.keras import Model\n",
    "from tensorflow.keras import Input\n",
    "from tensorflow.keras import Sequential\n",
    "from tensorflow.keras.layers import RandomFlip\n",
    "from tensorflow.keras.layers import RandomRotation\n",
    "from tensorflow.keras.layers import RandomZoom\n",
    "from tensorflow.keras.layers import RandomTranslation\n",
    "from tensorflow.keras.layers import Rescaling\n",
    "from tensorflow.keras.layers import Dense\n",
    "from tensorflow.keras.layers import Conv2D\n",
    "from tensorflow.keras.layers import MaxPooling2D\n",
    "from tensorflow.keras.layers import Flatten\n",
    "from tensorflow.keras.layers import Dropout\n",
    "from tensorflow.keras.layers import BatchNormalization\n",
    "\n",
    "\n",
    "from keras.utils import to_categorical\n",
    "# from sklearn.model_selection import train_test_split\n",
    "from tensorflow.keras.models import load_model\n",
    "\n",
    "from tensorflow.keras.optimizers import RMSprop\n",
    "\n",
    "from tensorflow.keras.callbacks import EarlyStopping,TensorBoard\n",
    "\n",
    "\n",
    "from keras.datasets import fashion_mnist\n",
    "import time\n",
    "import tensorflow as tf\n",
    "import keras"
   ]
  },
  {
   "cell_type": "code",
   "execution_count": 5,
   "metadata": {},
   "outputs": [
    {
     "name": "stdout",
     "output_type": "stream",
     "text": [
      "Avaliabe GPU 0\n"
     ]
    }
   ],
   "source": [
    "print(\"Avaliabe GPU\" ,len(tf.config.experimental.list_physical_devices('GPU')))"
   ]
  },
  {
   "cell_type": "code",
   "execution_count": 6,
   "metadata": {},
   "outputs": [
    {
     "data": {
      "text/plain": [
       "False"
      ]
     },
     "execution_count": 6,
     "metadata": {},
     "output_type": "execute_result"
    }
   ],
   "source": [
    "tf.test.is_built_with_cuda()"
   ]
  },
  {
   "cell_type": "code",
   "execution_count": 7,
   "metadata": {
    "colab": {
     "base_uri": "https://localhost:8080/",
     "height": 35
    },
    "executionInfo": {
     "elapsed": 4536,
     "status": "ok",
     "timestamp": 1676658039951,
     "user": {
      "displayName": "Hamza Hassan Khan",
      "userId": "16404313983786152618"
     },
     "user_tz": 0
    },
    "id": "sObhrsQ0p4wk",
    "outputId": "160ac5d7-5e88-4b1e-aaa2-b8d1fc307ae9"
   },
   "outputs": [
    {
     "data": {
      "text/plain": [
       "''"
      ]
     },
     "execution_count": 7,
     "metadata": {},
     "output_type": "execute_result"
    }
   ],
   "source": [
    "tf.test.gpu_device_name()"
   ]
  },
  {
   "cell_type": "code",
   "execution_count": null,
   "metadata": {
    "colab": {
     "base_uri": "https://localhost:8080/"
    },
    "executionInfo": {
     "elapsed": 10702,
     "status": "ok",
     "timestamp": 1676658050645,
     "user": {
      "displayName": "Hamza Hassan Khan",
      "userId": "16404313983786152618"
     },
     "user_tz": 0
    },
    "id": "1hIvGXEo4KUp",
    "outputId": "01d6e852-a227-44b4-da5a-6228700b04cc"
   },
   "outputs": [],
   "source": [
    "# from google.colab import drive\n",
    "# drive.mount(\"/content/gdrive\")"
   ]
  },
  {
   "cell_type": "code",
   "execution_count": null,
   "metadata": {
    "executionInfo": {
     "elapsed": 15,
     "status": "ok",
     "timestamp": 1676658050647,
     "user": {
      "displayName": "Hamza Hassan Khan",
      "userId": "16404313983786152618"
     },
     "user_tz": 0
    },
    "id": "aUVwV9TGqDBW"
   },
   "outputs": [],
   "source": [
    "start = time.time()"
   ]
  },
  {
   "cell_type": "code",
   "execution_count": null,
   "metadata": {
    "colab": {
     "base_uri": "https://localhost:8080/",
     "height": 74
    },
    "executionInfo": {
     "elapsed": 16,
     "status": "ok",
     "timestamp": 1676658050650,
     "user": {
      "displayName": "Hamza Hassan Khan",
      "userId": "16404313983786152618"
     },
     "user_tz": 0
    },
    "id": "tHnYsj49qJ0O",
    "outputId": "aefcd005-8bd8-4ce2-d7ef-3d49bb294d0e"
   },
   "outputs": [],
   "source": [
    "%%html\n",
    "<h1> Covnet from Scratch for Fashion Mnist </h1>"
   ]
  },
  {
   "cell_type": "code",
   "execution_count": null,
   "metadata": {
    "executionInfo": {
     "elapsed": 6890,
     "status": "ok",
     "timestamp": 1676658057526,
     "user": {
      "displayName": "Hamza Hassan Khan",
      "userId": "16404313983786152618"
     },
     "user_tz": 0
    },
    "id": "14f2d708"
   },
   "outputs": [],
   "source": [
    "data_train = pd.read_csv('../../recommender_systems/datasets/fashion_mnist_train.csv')\n",
    "data_test = pd.read_csv('../../recommender_systems/datasets/fashion_mnist_test.csv')\n",
    "\n",
    "X = np.array(data_train.iloc[:, 1:])\n",
    "Y = to_categorical(np.array(data_train.iloc[:, 0]))\n",
    "\n",
    "# Here I split original training data to sub-training (80%) and validation data (20%)\n",
    "X_train, X_val, Y_train, Y_val = train_test_split(X, Y, test_size=0.2, random_state=13)\n",
    "\n",
    "# X_test forms the test images, and y_test forms the test labels\n",
    "X_test = np.array(data_test.iloc[:, 1:])\n",
    "Y_test = to_categorical(np.array(data_test.iloc[:, 0]))"
   ]
  },
  {
   "cell_type": "code",
   "execution_count": null,
   "metadata": {
    "executionInfo": {
     "elapsed": 352,
     "status": "ok",
     "timestamp": 1676658057874,
     "user": {
      "displayName": "Hamza Hassan Khan",
      "userId": "16404313983786152618"
     },
     "user_tz": 0
    },
    "id": "mb1DpXEn5_Bu"
   },
   "outputs": [],
   "source": [
    "img_rows, img_cols = 28, 28\n",
    "input_shape = (img_rows, img_cols, 1)\n",
    "\n",
    "# Prepare the training images\n",
    "X_train = X_train.reshape(X_train.shape[0], img_rows, img_cols, 1)\n",
    "X_train = X_train.astype('float32')\n",
    "X_train /= 255\n",
    "\n",
    "# Prepare the test images\n",
    "X_test = X_test.reshape(X_test.shape[0], img_rows, img_cols, 1)\n",
    "X_test = X_test.astype('float32')\n",
    "X_test /= 255\n",
    "\n",
    "# Prepare the validation images\n",
    "X_val = X_val.reshape(X_val.shape[0], img_rows, img_cols, 1)\n",
    "X_val = X_val.astype('float32')\n",
    "X_val /= 255"
   ]
  },
  {
   "cell_type": "code",
   "execution_count": null,
   "metadata": {
    "colab": {
     "base_uri": "https://localhost:8080/",
     "height": 34
    },
    "executionInfo": {
     "elapsed": 16,
     "status": "ok",
     "timestamp": 1676658057875,
     "user": {
      "displayName": "Hamza Hassan Khan",
      "userId": "16404313983786152618"
     },
     "user_tz": 0
    },
    "id": "p_z04tNzuxNu",
    "outputId": "4dfe5b5a-32c6-42df-e3fb-0c6138b8547b"
   },
   "outputs": [],
   "source": [
    "%%html\n",
    "<a href = \"https://nbviewer.org/github/khanhnamle1994/fashion-mnist/blob/master/CNN-3Conv.ipynb\">Network from here </a>"
   ]
  },
  {
   "cell_type": "code",
   "execution_count": null,
   "metadata": {
    "executionInfo": {
     "elapsed": 16,
     "status": "ok",
     "timestamp": 1676658057877,
     "user": {
      "displayName": "Hamza Hassan Khan",
      "userId": "16404313983786152618"
     },
     "user_tz": 0
    },
    "id": "7-JDGrcEt48X"
   },
   "outputs": [],
   "source": [
    "# inputs = Input(shape=input_shape)\n",
    "# x = Rescaling(scale=1./255)(inputs)\n",
    "\n",
    "# x = Conv2D(filters=32, kernel_size=(3, 3), activation='relu')(x)\n",
    "# x = MaxPooling2D((2, 2))(x)\n",
    "# x = Dropout(0.25)(x)\n",
    "\n",
    "# x = Conv2D(filters=64, kernel_size=(3, 3), activation='relu')(x)\n",
    "# x = MaxPooling2D(pool_size=(2, 2))(x)\n",
    "# x = Dropout(0.25)(x)\n",
    "\n",
    "# x = Conv2D(filters=128, kernel_size=(3, 3), activation='relu')(x)\n",
    "# x = Dropout(0.4)(x)\n",
    "\n",
    "# x = Flatten()(x)\n",
    "\n",
    "# x = Dense(128, activation='relu')(x)\n",
    "# x = Dropout(0.3)(x)\n",
    "# outputs = Dense(10, activation='softmax')(x)\n",
    "# cnn3 = Model(inputs,outputs)\n",
    "\n",
    "\n",
    "cnn3 = Sequential()\n",
    "cnn3.add(Conv2D(32, kernel_size=(3, 3), activation='relu', input_shape=input_shape))\n",
    "cnn3.add(MaxPooling2D((2, 2)))\n",
    "cnn3.add(Dropout(0.25))\n",
    "\n",
    "cnn3.add(Conv2D(64, kernel_size=(3, 3), activation='relu'))\n",
    "cnn3.add(MaxPooling2D(pool_size=(2, 2)))\n",
    "cnn3.add(Dropout(0.25))\n",
    "\n",
    "cnn3.add(Conv2D(128, kernel_size=(3, 3), activation='relu'))\n",
    "cnn3.add(Dropout(0.4))\n",
    "\n",
    "cnn3.add(Flatten())\n",
    "\n",
    "cnn3.add(Dense(128, activation='relu'))\n",
    "cnn3.add(Dropout(0.3))\n",
    "cnn3.add(Dense(10, activation='softmax'))"
   ]
  },
  {
   "cell_type": "code",
   "execution_count": null,
   "metadata": {
    "executionInfo": {
     "elapsed": 209,
     "status": "ok",
     "timestamp": 1676658058071,
     "user": {
      "displayName": "Hamza Hassan Khan",
      "userId": "16404313983786152618"
     },
     "user_tz": 0
    },
    "id": "Q33h76o81POv"
   },
   "outputs": [],
   "source": [
    "cnn3.compile(optimizer=keras.optimizers.Adam(), loss=\"categorical_crossentropy\", metrics=[\"accuracy\"])"
   ]
  },
  {
   "cell_type": "code",
   "execution_count": null,
   "metadata": {
    "colab": {
     "base_uri": "https://localhost:8080/"
    },
    "executionInfo": {
     "elapsed": 383,
     "status": "ok",
     "timestamp": 1676658070252,
     "user": {
      "displayName": "Hamza Hassan Khan",
      "userId": "16404313983786152618"
     },
     "user_tz": 0
    },
    "id": "7fKJrS9CuMWI",
    "outputId": "27e6a788-7f0d-4a76-da4b-a957cff4e06d"
   },
   "outputs": [],
   "source": [
    "cnn3.summary()"
   ]
  },
  {
   "cell_type": "code",
   "execution_count": null,
   "metadata": {
    "executionInfo": {
     "elapsed": 6,
     "status": "ok",
     "timestamp": 1676658071231,
     "user": {
      "displayName": "Hamza Hassan Khan",
      "userId": "16404313983786152618"
     },
     "user_tz": 0
    },
    "id": "aElQq80Zvj3R"
   },
   "outputs": [],
   "source": [
    "start = time.time()"
   ]
  },
  {
   "cell_type": "code",
   "execution_count": null,
   "metadata": {
    "colab": {
     "base_uri": "https://localhost:8080/"
    },
    "executionInfo": {
     "elapsed": 202715,
     "status": "ok",
     "timestamp": 1676658274742,
     "user": {
      "displayName": "Hamza Hassan Khan",
      "userId": "16404313983786152618"
     },
     "user_tz": 0
    },
    "id": "mp2fqgf-vmPP",
    "outputId": "a0204774-2835-4b3d-ac86-8fc2857d3009"
   },
   "outputs": [],
   "source": [
    "cnn3_history = cnn3.fit(X_train, Y_train, epochs=30, \n",
    "                validation_data=(X_val,Y_val), \n",
    "                callbacks=[EarlyStopping(monitor=\"val_loss\", patience=4, restore_best_weights=True)],\n",
    "                verbose=1)\n",
    "print(\"Total time: \", time.time() - start, \"seconds\")"
   ]
  },
  {
   "cell_type": "code",
   "execution_count": null,
   "metadata": {
    "colab": {
     "base_uri": "https://localhost:8080/",
     "height": 282
    },
    "executionInfo": {
     "elapsed": 1183,
     "status": "ok",
     "timestamp": 1676658275889,
     "user": {
      "displayName": "Hamza Hassan Khan",
      "userId": "16404313983786152618"
     },
     "user_tz": 0
    },
    "id": "ezuH2Spf7DH1",
    "outputId": "0e61228a-e372-4733-d619-aecc21e61dac"
   },
   "outputs": [],
   "source": [
    "pd.DataFrame(cnn3_history.history).plot()"
   ]
  },
  {
   "cell_type": "code",
   "execution_count": null,
   "metadata": {
    "colab": {
     "base_uri": "https://localhost:8080/"
    },
    "executionInfo": {
     "elapsed": 3882,
     "status": "ok",
     "timestamp": 1676658279735,
     "user": {
      "displayName": "Hamza Hassan Khan",
      "userId": "16404313983786152618"
     },
     "user_tz": 0
    },
    "id": "70c8640e",
    "outputId": "b77c2f6a-0868-4bad-d519-634d51f66ffd"
   },
   "outputs": [],
   "source": [
    "train_loss, train_acc = cnn3.evaluate(X_train,Y_train)\n",
    "train_acc"
   ]
  },
  {
   "cell_type": "code",
   "execution_count": null,
   "metadata": {
    "colab": {
     "base_uri": "https://localhost:8080/"
    },
    "executionInfo": {
     "elapsed": 1267,
     "status": "ok",
     "timestamp": 1676658280975,
     "user": {
      "displayName": "Hamza Hassan Khan",
      "userId": "16404313983786152618"
     },
     "user_tz": 0
    },
    "id": "A9P_LAcM7YlN",
    "outputId": "98d5e0ed-d640-4ba4-ed6d-9ad07a44557c"
   },
   "outputs": [],
   "source": [
    "val_loss, val_acc = cnn3.evaluate(X_val,Y_val)\n",
    "val_acc"
   ]
  },
  {
   "cell_type": "code",
   "execution_count": null,
   "metadata": {
    "colab": {
     "base_uri": "https://localhost:8080/"
    },
    "executionInfo": {
     "elapsed": 1714,
     "status": "ok",
     "timestamp": 1676658283025,
     "user": {
      "displayName": "Hamza Hassan Khan",
      "userId": "16404313983786152618"
     },
     "user_tz": 0
    },
    "id": "k1mcZOT-7_Ox",
    "outputId": "19e13404-aa5d-4ca8-ca59-bf4177f42158"
   },
   "outputs": [],
   "source": [
    "val_loss, val_acc = cnn3.evaluate(X_test,Y_test)\n",
    "val_acc"
   ]
  },
  {
   "cell_type": "code",
   "execution_count": null,
   "metadata": {
    "executionInfo": {
     "elapsed": 548,
     "status": "ok",
     "timestamp": 1676658283533,
     "user": {
      "displayName": "Hamza Hassan Khan",
      "userId": "16404313983786152618"
     },
     "user_tz": 0
    },
    "id": "WMaWsW00SQRt"
   },
   "outputs": [],
   "source": [
    "cnn3.save('../../recommender_systems/weights/cnn3_model.h5')"
   ]
  },
  {
   "cell_type": "code",
   "execution_count": null,
   "metadata": {
    "executionInfo": {
     "elapsed": 28,
     "status": "ok",
     "timestamp": 1676658283552,
     "user": {
      "displayName": "Hamza Hassan Khan",
      "userId": "16404313983786152618"
     },
     "user_tz": 0
    },
    "id": "poI4coCZ8Dxt"
   },
   "outputs": [],
   "source": [
    "train_dir = \"../../recommender_systems/datasets/train\"\n",
    "val_dir = \"../../recommender_systems/datasets/val\"\n",
    "test_dir = \"../../recommender_systems/datasets/test\""
   ]
  },
  {
   "cell_type": "code",
   "execution_count": null,
   "metadata": {
    "colab": {
     "base_uri": "https://localhost:8080/"
    },
    "executionInfo": {
     "elapsed": 20086,
     "status": "ok",
     "timestamp": 1676658303615,
     "user": {
      "displayName": "Hamza Hassan Khan",
      "userId": "16404313983786152618"
     },
     "user_tz": 0
    },
    "id": "UdWNh4G-KnZD",
    "outputId": "c4081e11-c4ea-45a0-c791-5d7a1b768576"
   },
   "outputs": [],
   "source": [
    "train_dataset = image_dataset_from_directory(directory=train_dir, label_mode=\"categorical\",color_mode ='grayscale', image_size=(28,28))\n",
    "val_dataset = image_dataset_from_directory(directory=val_dir, label_mode=\"categorical\",color_mode='grayscale', image_size=(28, 28))\n",
    "test_dataset = image_dataset_from_directory(directory=test_dir, label_mode=\"categorical\",color_mode='grayscale', image_size=(28, 28))"
   ]
  },
  {
   "cell_type": "code",
   "execution_count": null,
   "metadata": {
    "executionInfo": {
     "elapsed": 28,
     "status": "ok",
     "timestamp": 1676658303616,
     "user": {
      "displayName": "Hamza Hassan Khan",
      "userId": "16404313983786152618"
     },
     "user_tz": 0
    },
    "id": "Wy9unRPqVNgz"
   },
   "outputs": [],
   "source": [
    "#cnn3_model = load_model('cnn3_model.h5')"
   ]
  },
  {
   "cell_type": "code",
   "execution_count": null,
   "metadata": {
    "executionInfo": {
     "elapsed": 25,
     "status": "ok",
     "timestamp": 1676658303616,
     "user": {
      "displayName": "Hamza Hassan Khan",
      "userId": "16404313983786152618"
     },
     "user_tz": 0
    },
    "id": "fHmAw1dvVNLn"
   },
   "outputs": [],
   "source": [
    "#cnn3_model.summary()"
   ]
  },
  {
   "cell_type": "code",
   "execution_count": null,
   "metadata": {
    "executionInfo": {
     "elapsed": 24,
     "status": "ok",
     "timestamp": 1676658303617,
     "user": {
      "displayName": "Hamza Hassan Khan",
      "userId": "16404313983786152618"
     },
     "user_tz": 0
    },
    "id": "pJSDZuGzVur-"
   },
   "outputs": [],
   "source": [
    "#cnn3_model.pop() # Removing Output layer"
   ]
  },
  {
   "cell_type": "code",
   "execution_count": null,
   "metadata": {
    "executionInfo": {
     "elapsed": 24,
     "status": "ok",
     "timestamp": 1676658303618,
     "user": {
      "displayName": "Hamza Hassan Khan",
      "userId": "16404313983786152618"
     },
     "user_tz": 0
    },
    "id": "wEdBM0wjVueQ"
   },
   "outputs": [],
   "source": [
    "#cnn3_model.layers.pop(0) # removing input layer"
   ]
  },
  {
   "cell_type": "code",
   "execution_count": null,
   "metadata": {
    "executionInfo": {
     "elapsed": 21,
     "status": "ok",
     "timestamp": 1676658304056,
     "user": {
      "displayName": "Hamza Hassan Khan",
      "userId": "16404313983786152618"
     },
     "user_tz": 0
    },
    "id": "ihd2O1QoVM9a"
   },
   "outputs": [],
   "source": [
    "#cnn3_model.summary()"
   ]
  },
  {
   "cell_type": "code",
   "execution_count": null,
   "metadata": {
    "executionInfo": {
     "elapsed": 18,
     "status": "ok",
     "timestamp": 1676658304056,
     "user": {
      "displayName": "Hamza Hassan Khan",
      "userId": "16404313983786152618"
     },
     "user_tz": 0
    },
    "id": "TYbAlNY0VMtR"
   },
   "outputs": [],
   "source": [
    "\n",
    "\n",
    "\n",
    "\n",
    "# new_model = Sequential()\n",
    "# new_model.add(Conv2D(32, kernel_size=(3, 3), activation='relu', input_shape=(224,224,1)))\n",
    "# new_model.add(MaxPooling2D((2, 2)))\n",
    "# new_model.add(Dropout(0.25))\n",
    "\n",
    "# new_model.add(Conv2D(64, kernel_size=(3, 3), activation='relu'))\n",
    "# new_model.add(MaxPooling2D(pool_size=(2, 2)))\n",
    "# new_model.add(Dropout(0.25))\n",
    "\n",
    "# new_model.add(Conv2D(128, kernel_size=(3, 3), activation='relu'))\n",
    "# new_model.add(Dropout(0.4))\n",
    "\n",
    "# new_model.add(Flatten())\n",
    "\n",
    "# new_model.add(Dense(128, activation='relu'))\n",
    "# new_model.add(Dropout(0.3))\n",
    "# new_model.add(Dense(130, activation='softmax'))\n",
    "\n",
    "# new_model.load_weights('/content/gdrive/MyDrive/Colab_Notebooks/Weights/cnn3_model.h5',by_name=True)\n",
    "\n",
    "# cnn3_model.add(Conv2D(32, kernel_size=(3, 3), activation='relu', input_shape=(224,224,3)))\n",
    "cnn3.pop()\n",
    "cnn3.add(Dense(130, activation='softmax'))\n",
    "\n",
    "# inputs =  Input(shape=(0,224, 224, 3))\n",
    "# x = Conv2D(32, kernel_size=(3, 3), activation='relu')(inputs)\n",
    "# x = cnn3_model(inputs)\n",
    "# outputs = Dense(130, activation='softmax')\n",
    "# new_model = Model(inputs,outputs)"
   ]
  },
  {
   "cell_type": "code",
   "execution_count": null,
   "metadata": {
    "colab": {
     "base_uri": "https://localhost:8080/"
    },
    "executionInfo": {
     "elapsed": 17,
     "status": "ok",
     "timestamp": 1676658304056,
     "user": {
      "displayName": "Hamza Hassan Khan",
      "userId": "16404313983786152618"
     },
     "user_tz": 0
    },
    "id": "pJKVtaYeepr4",
    "outputId": "e64532c1-c3c3-4e0b-fdfb-0d4ea609038c"
   },
   "outputs": [],
   "source": [
    "cnn3.summary()"
   ]
  },
  {
   "cell_type": "code",
   "execution_count": null,
   "metadata": {
    "executionInfo": {
     "elapsed": 255,
     "status": "ok",
     "timestamp": 1676658480109,
     "user": {
      "displayName": "Hamza Hassan Khan",
      "userId": "16404313983786152618"
     },
     "user_tz": 0
    },
    "id": "j_LP6XpBvgyA"
   },
   "outputs": [],
   "source": [
    "# cnn3.load_weights('/content/gdrive/MyDrive/Colab_Notebooks/Weights/cnn3_model.h5',by_name=True)\n",
    "\"\"\"\n",
    "Resuls with loaded weights again (assuming if the cnn3 has lost its traning)\n",
    "Epoch 30/30\n",
    "96/96 [==============================] - 30s 291ms/step - loss: 3.5056 - accuracy: 0.1172 - val_loss: 3.4740 - val_accuracy: 0.1161\n",
    "Total time:  952.5598855018616 seconds\n",
    "\n",
    "----------- Traning _-----------\n",
    "96/96 [==============================] - 21s 187ms/step - loss: 3.4901 - accuracy: 0.1176\n",
    "0.11756978929042816\n",
    "\n",
    "-------------- Validation\n",
    "47/47 [==============================] - 10s 189ms/step - loss: 3.4740 - accuracy: 0.1161\n",
    "0.11607738584280014\n",
    "\n",
    "\n",
    "\n",
    "\n",
    "\"\"\"\n",
    "\n",
    "\n",
    "\n",
    "\n",
    "cnn3.compile(optimizer=RMSprop(learning_rate=0.0001), loss=\"categorical_crossentropy\", metrics=[\"accuracy\"])"
   ]
  },
  {
   "cell_type": "code",
   "execution_count": null,
   "metadata": {
    "colab": {
     "base_uri": "https://localhost:8080/",
     "height": 1000
    },
    "executionInfo": {
     "elapsed": 2064302,
     "status": "ok",
     "timestamp": 1676660544850,
     "user": {
      "displayName": "Hamza Hassan Khan",
      "userId": "16404313983786152618"
     },
     "user_tz": 0
    },
    "id": "VZN9XY8equl0",
    "outputId": "eaa8eb1f-08b7-4fb1-dfbb-83d7d478f28d"
   },
   "outputs": [],
   "source": [
    "#                 callbacks=[EarlyStopping(monitor=\"val_loss\", patience=4, restore_best_weights=True),TensorBoard(log_dir = '/content/gdrive/MyDrive/Colab_Notebooks/Logs',write_graph=True,embeddings_freq = 1, embeddings_metadata = '/content/gdrive/MyDrive/Colab_Notebooks/MetaData' )],\n",
    "start = time.time()\n",
    "new_model_history = cnn3.fit(train_dataset, epochs=50, \n",
    "                validation_data=val_dataset, \n",
    "                callbacks=[EarlyStopping(monitor=\"val_loss\", patience=4, restore_best_weights=True)])\n",
    "print(\"Total time: \", time.time() - start, \"seconds\")\n",
    "pd.DataFrame(new_model_history.history).plot()\n"
   ]
  },
  {
   "cell_type": "code",
   "execution_count": null,
   "metadata": {
    "colab": {
     "base_uri": "https://localhost:8080/"
    },
    "executionInfo": {
     "elapsed": 20742,
     "status": "ok",
     "timestamp": 1676660579005,
     "user": {
      "displayName": "Hamza Hassan Khan",
      "userId": "16404313983786152618"
     },
     "user_tz": 0
    },
    "id": "ctWr3-kXquX8",
    "outputId": "6ef8ce83-590b-4c38-e74f-1dbbec45bed0"
   },
   "outputs": [],
   "source": [
    "train_loss, train_acc = cnn3.evaluate(train_dataset)\n",
    "train_acc\n"
   ]
  },
  {
   "cell_type": "code",
   "execution_count": null,
   "metadata": {
    "colab": {
     "base_uri": "https://localhost:8080/"
    },
    "executionInfo": {
     "elapsed": 9989,
     "status": "ok",
     "timestamp": 1676660588976,
     "user": {
      "displayName": "Hamza Hassan Khan",
      "userId": "16404313983786152618"
     },
     "user_tz": 0
    },
    "id": "S3xIqX_aquI3",
    "outputId": "667eb8f3-c4e1-482a-e742-9f6504be82f6"
   },
   "outputs": [],
   "source": [
    "val_loss, val_acc = cnn3.evaluate(val_dataset)\n",
    "val_acc"
   ]
  },
  {
   "cell_type": "code",
   "execution_count": null,
   "metadata": {
    "id": "JroKBIRcqt4A"
   },
   "outputs": [],
   "source": [
    "# test_loss, test_acc = cnn3.evaluate(test_dataset)\n",
    "# test_acc"
   ]
  },
  {
   "cell_type": "code",
   "execution_count": null,
   "metadata": {
    "colab": {
     "base_uri": "https://localhost:8080/",
     "height": 334
    },
    "executionInfo": {
     "elapsed": 116256,
     "status": "ok",
     "timestamp": 1676377261128,
     "user": {
      "displayName": "Hamza Hassan Khan",
      "userId": "16404313983786152618"
     },
     "user_tz": 0
    },
    "id": "sLTYIQSdrIiV",
    "outputId": "2ddedf68-3743-4656-dfaf-de1352534de4"
   },
   "outputs": [],
   "source": [
    "\n",
    "\n",
    "# cnn3.load_weights('/content/gdrive/MyDrive/Colab_Notebooks/Weights/cnn3_model.h5',by_name=True)\n",
    "# cnn3.compile(optimizer=keras.optimizers.Adam(), loss=\"categorical_crossentropy\", metrics=[\"accuracy\"])\n",
    "\n",
    "# start = time.time()\n",
    "# new_model_history = cnn3.fit(train_dataset, epochs=30, \n",
    "#                 validation_data=val_dataset, \n",
    "#                 callbacks=[EarlyStopping(monitor=\"val_loss\", patience=2, restore_best_weights=True)],\n",
    "#                 verbose=1)\n",
    "# print(\"Total time: \", time.time() - start, \"seconds\")\n",
    "# pd.DataFrame(new_model_history.history).plot()\n",
    "# train_loss, train_acc = cnn3.evaluate(train_dataset)\n",
    "# train_acc\n",
    "# val_loss, val_acc = cnn3.evaluate(val_dataset)\n",
    "# val_acc"
   ]
  },
  {
   "cell_type": "code",
   "execution_count": null,
   "metadata": {
    "id": "ViVBBJCJuF2y"
   },
   "outputs": [],
   "source": []
  },
  {
   "cell_type": "code",
   "execution_count": null,
   "metadata": {
    "id": "0URuop1ouG39"
   },
   "outputs": [],
   "source": []
  },
  {
   "cell_type": "code",
   "execution_count": null,
   "metadata": {
    "id": "9i6nYSe7uHI3"
   },
   "outputs": [],
   "source": []
  },
  {
   "cell_type": "code",
   "execution_count": null,
   "metadata": {
    "id": "JkN5sF2PQvWu"
   },
   "outputs": [],
   "source": [
    "\n",
    "\n",
    "\n",
    "\n",
    "\n",
    "\n",
    "\n",
    "\n",
    "\n",
    "\n",
    "\n",
    "\n",
    "\n",
    "\n",
    "\n",
    "\n",
    "\n",
    "\n",
    "\n",
    "\n",
    "\n",
    "\n",
    "\n",
    "\n",
    "\n",
    "\n",
    "\n",
    "\n",
    "\n",
    "\n",
    "\n",
    "\n",
    "\n",
    "\n",
    "\n",
    "\n",
    "\n",
    "\n"
   ]
  },
  {
   "cell_type": "code",
   "execution_count": null,
   "metadata": {
    "id": "LKX97GGxQvMg"
   },
   "outputs": [],
   "source": []
  },
  {
   "cell_type": "code",
   "execution_count": null,
   "metadata": {
    "id": "5fpignqYQvA3"
   },
   "outputs": [],
   "source": []
  },
  {
   "cell_type": "code",
   "execution_count": null,
   "metadata": {
    "id": "TyNtic05Qu1H"
   },
   "outputs": [],
   "source": []
  },
  {
   "cell_type": "code",
   "execution_count": null,
   "metadata": {
    "id": "x9GgL2mgQunX"
   },
   "outputs": [],
   "source": []
  },
  {
   "cell_type": "code",
   "execution_count": null,
   "metadata": {
    "id": "zmP6QmDDQuKN"
   },
   "outputs": [],
   "source": []
  },
  {
   "cell_type": "code",
   "execution_count": null,
   "metadata": {
    "id": "Ds0V4YnPQeAe"
   },
   "outputs": [],
   "source": []
  },
  {
   "cell_type": "code",
   "execution_count": null,
   "metadata": {
    "id": "-X4XtWLgQf01"
   },
   "outputs": [],
   "source": []
  },
  {
   "cell_type": "code",
   "execution_count": null,
   "metadata": {
    "id": "GM9ht54tQfpI"
   },
   "outputs": [],
   "source": []
  },
  {
   "cell_type": "code",
   "execution_count": null,
   "metadata": {
    "id": "8yJdInDbQfdl"
   },
   "outputs": [],
   "source": []
  },
  {
   "cell_type": "code",
   "execution_count": null,
   "metadata": {
    "id": "uFTjZjbnQfQo"
   },
   "outputs": [],
   "source": []
  },
  {
   "cell_type": "code",
   "execution_count": null,
   "metadata": {
    "id": "ICZLaW0cQfCo"
   },
   "outputs": [],
   "source": []
  },
  {
   "cell_type": "code",
   "execution_count": null,
   "metadata": {
    "id": "u2rcFjg1Qdy3"
   },
   "outputs": [],
   "source": []
  },
  {
   "cell_type": "code",
   "execution_count": null,
   "metadata": {
    "colab": {
     "base_uri": "https://localhost:8080/",
     "height": 166
    },
    "executionInfo": {
     "elapsed": 45,
     "status": "error",
     "timestamp": 1676635534676,
     "user": {
      "displayName": "Hamza Hassan Khan",
      "userId": "16404313983786152618"
     },
     "user_tz": 0
    },
    "id": "8gfNwEotQdgb",
    "outputId": "ad2d30e0-ee66-483b-ce23-fc9f07ff8f50"
   },
   "outputs": [],
   "source": []
  },
  {
   "cell_type": "code",
   "execution_count": null,
   "metadata": {
    "id": "-gpWCZZ5QdTg"
   },
   "outputs": [],
   "source": []
  },
  {
   "cell_type": "code",
   "execution_count": null,
   "metadata": {
    "id": "ZzfoMkgPQdCp"
   },
   "outputs": [],
   "source": []
  },
  {
   "cell_type": "code",
   "execution_count": null,
   "metadata": {
    "id": "KzZlAX5XuHbN"
   },
   "outputs": [],
   "source": []
  },
  {
   "cell_type": "code",
   "execution_count": null,
   "metadata": {
    "colab": {
     "base_uri": "https://localhost:8080/",
     "height": 165
    },
    "executionInfo": {
     "elapsed": 408,
     "status": "error",
     "timestamp": 1676373842346,
     "user": {
      "displayName": "Hamza Hassan Khan",
      "userId": "16404313983786152618"
     },
     "user_tz": 0
    },
    "id": "9MYCVsvoVMLi",
    "outputId": "52e3337d-798b-4d02-dca7-a4edeb143be2"
   },
   "outputs": [],
   "source": [
    "new_model.compile(optimizer=keras.optimizers.Adam(), loss=\"categorical_crossentropy\", metrics=[\"accuracy\"])"
   ]
  },
  {
   "cell_type": "markdown",
   "metadata": {
    "id": "F1lj52RbXZ9q"
   },
   "source": []
  },
  {
   "cell_type": "code",
   "execution_count": null,
   "metadata": {
    "colab": {
     "base_uri": "https://localhost:8080/"
    },
    "executionInfo": {
     "elapsed": 2226058,
     "status": "ok",
     "timestamp": 1675950346417,
     "user": {
      "displayName": "Hamza Hassan Khan",
      "userId": "16404313983786152618"
     },
     "user_tz": 0
    },
    "id": "IfFdB7zxe4OH",
    "outputId": "29a41e1f-c709-4ee3-823c-7050302ffb47"
   },
   "outputs": [],
   "source": [
    "start = time.time()\n",
    "new_model_history = new_model.fit(train_dataset, epochs=30, \n",
    "                validation_data=val_dataset, \n",
    "                callbacks=[EarlyStopping(monitor=\"val_loss\", patience=2, restore_best_weights=True)],\n",
    "                verbose=0)\n",
    "print(\"Total time: \", time.time() - start, \"seconds\")\n",
    "\n",
    "#1832 runtime"
   ]
  },
  {
   "cell_type": "code",
   "execution_count": null,
   "metadata": {
    "colab": {
     "base_uri": "https://localhost:8080/",
     "height": 282
    },
    "executionInfo": {
     "elapsed": 39,
     "status": "ok",
     "timestamp": 1675950346423,
     "user": {
      "displayName": "Hamza Hassan Khan",
      "userId": "16404313983786152618"
     },
     "user_tz": 0
    },
    "id": "lv_zS6rJe5xi",
    "outputId": "890960d2-771d-4bdf-8e43-b47883e1d249"
   },
   "outputs": [],
   "source": [
    "pd.DataFrame(new_model_history.history).plot()"
   ]
  },
  {
   "cell_type": "code",
   "execution_count": null,
   "metadata": {
    "colab": {
     "base_uri": "https://localhost:8080/"
    },
    "executionInfo": {
     "elapsed": 27467,
     "status": "ok",
     "timestamp": 1675950373864,
     "user": {
      "displayName": "Hamza Hassan Khan",
      "userId": "16404313983786152618"
     },
     "user_tz": 0
    },
    "id": "h9E-SQZDQuTo",
    "outputId": "85e62a4a-cd6e-4bfb-fff5-51bee3aa86e9"
   },
   "outputs": [],
   "source": [
    "train_loss, train_acc = new_model.evaluate(train_dataset)\n",
    "train_acc\n",
    "\n",
    "\n",
    "\"\"\"\n",
    "96/96 [==============================] - 27s 266ms/step - loss: 1.5203 - accuracy: 0.6397\n",
    "0.6397372484207153\n",
    "\"\"\""
   ]
  },
  {
   "cell_type": "code",
   "execution_count": null,
   "metadata": {
    "colab": {
     "base_uri": "https://localhost:8080/"
    },
    "executionInfo": {
     "elapsed": 13922,
     "status": "ok",
     "timestamp": 1675950387753,
     "user": {
      "displayName": "Hamza Hassan Khan",
      "userId": "16404313983786152618"
     },
     "user_tz": 0
    },
    "id": "8tODLJGpQvDt",
    "outputId": "bf943870-74a8-4bb0-9c04-9bcc8f7ea3f6"
   },
   "outputs": [],
   "source": [
    "val_loss, val_acc = new_model.evaluate(val_dataset)\n",
    "val_acc\n",
    "\"\"\"\n",
    "47/47 [==============================] - 14s 247ms/step - loss: 3.0502 - accuracy: 0.3582\n",
    "0.3582388162612915\n",
    "\"\"\"\n"
   ]
  },
  {
   "cell_type": "code",
   "execution_count": null,
   "metadata": {
    "colab": {
     "base_uri": "https://localhost:8080/"
    },
    "executionInfo": {
     "elapsed": 561974,
     "status": "ok",
     "timestamp": 1675950949695,
     "user": {
      "displayName": "Hamza Hassan Khan",
      "userId": "16404313983786152618"
     },
     "user_tz": 0
    },
    "id": "ZfjyyVODQ0lB",
    "outputId": "09be67f9-ad7a-4722-e2e6-bd5dfa631120"
   },
   "outputs": [],
   "source": [
    "\n",
    "test_loss, test_acc = new_model.evaluate(test_dataset)\n",
    "test_acc\n",
    "\n",
    "\"\"\"\n",
    "50/50 [==============================] - 553s 9s/step - loss: 3.2018 - accuracy: 0.3467\n",
    "0.3466666638851166\n",
    "\"\"\""
   ]
  },
  {
   "cell_type": "code",
   "execution_count": null,
   "metadata": {
    "colab": {
     "base_uri": "https://localhost:8080/"
    },
    "executionInfo": {
     "elapsed": 53,
     "status": "ok",
     "timestamp": 1675950949697,
     "user": {
      "displayName": "Hamza Hassan Khan",
      "userId": "16404313983786152618"
     },
     "user_tz": 0
    },
    "id": "hwRlviH7e2BE",
    "outputId": "32f58156-ca7d-49c7-bbdf-22c1e2d4fb88"
   },
   "outputs": [],
   "source": [
    "\n",
    "print(\"Total time: \", time.time() - start, \"seconds\")\n",
    "\n"
   ]
  },
  {
   "cell_type": "code",
   "execution_count": null,
   "metadata": {
    "colab": {
     "base_uri": "https://localhost:8080/",
     "height": 46
    },
    "executionInfo": {
     "elapsed": 446,
     "status": "ok",
     "timestamp": 1676039546526,
     "user": {
      "displayName": "Hamza Hassan Khan",
      "userId": "16404313983786152618"
     },
     "user_tz": 0
    },
    "id": "Tf3x0hzLvONa",
    "outputId": "ee3c5283-4b52-45bf-f559-3240f6b95608"
   },
   "outputs": [],
   "source": [
    "%%html\n",
    "<p> My model is overfitting </p>\n",
    "\n"
   ]
  },
  {
   "cell_type": "code",
   "execution_count": null,
   "metadata": {
    "id": "KGJL2nrPvOoj"
   },
   "outputs": [],
   "source": [
    "new_model_2 = Sequential()\n",
    "new_model_2.add(Conv2D(32, kernel_size=(3, 3), activation='relu', input_shape=(224,224,3)))\n",
    "new_model_2.add(MaxPooling2D((2, 2)))\n",
    "new_model_2.add(Dropout(0.25))\n",
    "\n",
    "new_model_2.add(Conv2D(64, kernel_size=(3, 3), activation='relu'))\n",
    "new_model_2.add(MaxPooling2D(pool_size=(2, 2)))\n",
    "new_model_2.add(Dropout(0.25))\n",
    "\n",
    "new_model_2.add(Conv2D(128, kernel_size=(3, 3), activation='relu'))\n",
    "new_model_2.add(Dropout(0.4))\n",
    "\n",
    "new_model_2.add(Flatten())\n",
    "\n",
    "# new_model_2.add(Dense(128, activation='relu'))\n",
    "# new_model_2.add(Dropout(0.3))\n",
    "new_model_2.add(Dense(130, activation='softmax'))\n",
    "\n",
    "new_model_2.load_weights('/content/gdrive/MyDrive/Colab_Notebooks/Weights/cnn3_model.h5',by_name=True)\n"
   ]
  },
  {
   "cell_type": "code",
   "execution_count": null,
   "metadata": {
    "id": "Y_7TjfcjwwRb"
   },
   "outputs": [],
   "source": [
    "new_model_2.compile(optimizer=keras.optimizers.Adam(), loss=\"categorical_crossentropy\", metrics=[\"accuracy\"])"
   ]
  },
  {
   "cell_type": "code",
   "execution_count": null,
   "metadata": {
    "colab": {
     "base_uri": "https://localhost:8080/"
    },
    "executionInfo": {
     "elapsed": 7,
     "status": "ok",
     "timestamp": 1676040479898,
     "user": {
      "displayName": "Hamza Hassan Khan",
      "userId": "16404313983786152618"
     },
     "user_tz": 0
    },
    "id": "HRa2DXo_wuxi",
    "outputId": "ecfef334-7f48-459d-d502-31ab6cba250d"
   },
   "outputs": [],
   "source": [
    "new_model_2.summary()"
   ]
  },
  {
   "cell_type": "code",
   "execution_count": null,
   "metadata": {
    "colab": {
     "base_uri": "https://localhost:8080/"
    },
    "executionInfo": {
     "elapsed": 1870929,
     "status": "ok",
     "timestamp": 1676042359774,
     "user": {
      "displayName": "Hamza Hassan Khan",
      "userId": "16404313983786152618"
     },
     "user_tz": 0
    },
    "id": "MtKdV8RFysTm",
    "outputId": "e722d674-a521-481a-f980-48645c51aad6"
   },
   "outputs": [],
   "source": [
    "start = time.time()\n",
    "new_model_2_history = new_model_2.fit(train_dataset, epochs=30, \n",
    "                validation_data=val_dataset, \n",
    "                callbacks=[EarlyStopping(monitor=\"val_loss\", patience=2, restore_best_weights=True)],\n",
    "                verbose=0)\n",
    "print(\"Total time: \", time.time() - start, \"seconds\")"
   ]
  },
  {
   "cell_type": "code",
   "execution_count": null,
   "metadata": {
    "colab": {
     "base_uri": "https://localhost:8080/",
     "height": 282
    },
    "executionInfo": {
     "elapsed": 1163,
     "status": "ok",
     "timestamp": 1676042988344,
     "user": {
      "displayName": "Hamza Hassan Khan",
      "userId": "16404313983786152618"
     },
     "user_tz": 0
    },
    "id": "uFSjo2eayu4L",
    "outputId": "b8941aaf-9a59-46d0-f023-b9ba692f7be2"
   },
   "outputs": [],
   "source": [
    "pd.DataFrame(new_model_2_history.history).plot()"
   ]
  },
  {
   "cell_type": "code",
   "execution_count": null,
   "metadata": {
    "colab": {
     "base_uri": "https://localhost:8080/"
    },
    "executionInfo": {
     "elapsed": 29036,
     "status": "ok",
     "timestamp": 1676043030486,
     "user": {
      "displayName": "Hamza Hassan Khan",
      "userId": "16404313983786152618"
     },
     "user_tz": 0
    },
    "id": "A7uzC9dwwf6D",
    "outputId": "9539f5d3-619c-4006-af79-33c7dd0ec92c"
   },
   "outputs": [],
   "source": [
    "train_loss, train_acc = new_model_2.evaluate(train_dataset)\n",
    "train_acc"
   ]
  },
  {
   "cell_type": "code",
   "execution_count": null,
   "metadata": {
    "colab": {
     "base_uri": "https://localhost:8080/"
    },
    "executionInfo": {
     "elapsed": 14525,
     "status": "ok",
     "timestamp": 1676043048796,
     "user": {
      "displayName": "Hamza Hassan Khan",
      "userId": "16404313983786152618"
     },
     "user_tz": 0
    },
    "id": "hQ23KWfRwbe0",
    "outputId": "14c0097e-3d9d-4df5-b7ec-0b734b3a38ab"
   },
   "outputs": [],
   "source": [
    "val_loss, val_acc = new_model_2.evaluate(val_dataset)\n",
    "val_acc"
   ]
  },
  {
   "cell_type": "code",
   "execution_count": null,
   "metadata": {
    "colab": {
     "base_uri": "https://localhost:8080/"
    },
    "executionInfo": {
     "elapsed": 565875,
     "status": "ok",
     "timestamp": 1676043656532,
     "user": {
      "displayName": "Hamza Hassan Khan",
      "userId": "16404313983786152618"
     },
     "user_tz": 0
    },
    "id": "skxqlKIKzFwa",
    "outputId": "bde86679-7907-48f4-96dd-aa8147cafd0c"
   },
   "outputs": [],
   "source": [
    "test_loss, test_acc = new_model_2.evaluate(test_dataset)\n",
    "test_acc\n"
   ]
  }
 ],
 "metadata": {
  "accelerator": "GPU",
  "colab": {
   "authorship_tag": "ABX9TyOLuMbRNynDJR6MRsp3j7Xc",
   "mount_file_id": "1qDCLCx1IbQeT9H7sGttSkUuWjjHdPuEA",
   "provenance": []
  },
  "gpuClass": "standard",
  "kernelspec": {
   "display_name": "Python 3 (ipykernel)",
   "language": "python",
   "name": "python3"
  },
  "language_info": {
   "codemirror_mode": {
    "name": "ipython",
    "version": 3
   },
   "file_extension": ".py",
   "mimetype": "text/x-python",
   "name": "python",
   "nbconvert_exporter": "python",
   "pygments_lexer": "ipython3",
   "version": "3.10.5"
  }
 },
 "nbformat": 4,
 "nbformat_minor": 1
}
