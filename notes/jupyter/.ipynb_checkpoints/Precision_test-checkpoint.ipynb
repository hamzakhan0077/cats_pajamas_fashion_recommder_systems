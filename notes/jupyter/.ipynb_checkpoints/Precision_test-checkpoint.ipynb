{
 "cells": [
  {
   "cell_type": "markdown",
   "id": "fb453d82",
   "metadata": {},
   "source": [
    "<h1> Precision Test </h1>\n",
    "<ul>\n",
    "    <li>Random Recommender</li>\n",
    "    <li>Popularity Based Recommender</li>\n",
    "</ul>"
   ]
  },
  {
   "cell_type": "code",
   "execution_count": null,
   "id": "669bfe5f",
   "metadata": {},
   "outputs": [],
   "source": [
    "%load_ext autoreload\n",
    "%autoreload 2\n",
    "%matplotlib inline\n"
   ]
  },
  {
   "cell_type": "code",
   "execution_count": null,
   "id": "cf630c50",
   "metadata": {},
   "outputs": [],
   "source": [
    "import pandas as pd\n",
    "import numpy as np\n",
    "import random"
   ]
  },
  {
   "cell_type": "code",
   "execution_count": null,
   "id": "b874c9ee",
   "metadata": {},
   "outputs": [],
   "source": [
    "articles_df = pd.read_csv(\"../../recommender_systems/datasets/articles_sample.csv\")\n",
    "transaction_df = pd.read_csv(\"../../recommender_systems/datasets/transactions_sample.csv\")\n",
    "customers_df = pd.read_csv(\"../../recommender_systems/datasets/customers_sample.csv\")\n",
    "pd.set_option(\"display.max_rows\", None)"
   ]
  },
  {
   "cell_type": "markdown",
   "id": "f815eff0",
   "metadata": {},
   "source": [
    "<h2>Random Recommender</h2>"
   ]
  },
  {
   "cell_type": "code",
   "execution_count": null,
   "id": "e0124ec2",
   "metadata": {},
   "outputs": [],
   "source": [
    "def random_recommender(customer):\n",
    "    # print(f\"{customer.customer_id} \", np.random.choice(articles_df['article_id'].values,5))\n",
    "    return random.sample(sorted(articles_df['article_id'].values),5)"
   ]
  },
  {
   "cell_type": "markdown",
   "id": "489653ef",
   "metadata": {},
   "source": [
    "<h2>Popularity Based Recommender</h2>"
   ]
  },
  {
   "cell_type": "code",
   "execution_count": null,
   "id": "e29d2dad",
   "metadata": {},
   "outputs": [],
   "source": [
    "def  popularity_recommender(customer):\n",
    "    # Top 5 most bought\n",
    "    popular_products = transaction_df['article_id'].value_counts().nlargest(5).to_frame()['article_id'].keys().values\n",
    "    return popular_products"
   ]
  },
  {
   "cell_type": "markdown",
   "id": "f95c479d",
   "metadata": {},
   "source": [
    "<h2>Random Recommender Precision</h2>"
   ]
  },
  {
   "cell_type": "code",
   "execution_count": null,
   "id": "50748247",
   "metadata": {},
   "outputs": [],
   "source": [
    "    # Randomly choose 100 users\n",
    "    # take 20 % of data per user eg if a user has 100 transactions we take 20 ??\n",
    "    # for each customer recommend them items\n",
    "    # check how many of those recommendation are actually in their purchases"
   ]
  },
  {
   "cell_type": "code",
   "execution_count": null,
   "id": "2945a2a3",
   "metadata": {},
   "outputs": [],
   "source": [
    "def random_recommender_evaluation():\n",
    "    random_customers = random.sample(sorted(customers_df['customer_id'].values),10)\n",
    "    relevant_recommendation = 0\n",
    "    precision_per_customer = []\n",
    "    for customer in random_customers :\n",
    "        recommended_items = random_recommender(customer)\n",
    "        for item in recommended_items:\n",
    "            if item in transaction_df[['customer_id','article_id']][transaction_df['customer_id'] == customer]['article_id'].values:\n",
    "                relevant_recommendation += 1\n",
    "        precision_per_customer.append(relevant_recommendation/len(recommended_items))\n",
    "        relevant_recommendation *= 0\n",
    "    return sum(precision_per_customer)/len(precision_per_customer)"
   ]
  },
  {
   "cell_type": "code",
   "execution_count": null,
   "id": "7070e4b6",
   "metadata": {},
   "outputs": [],
   "source": [
    "random_recommender_evaluation()"
   ]
  },
  {
   "cell_type": "markdown",
   "id": "8813815a",
   "metadata": {},
   "source": [
    "<h2>Popularity Based Recommender Precision</h2>"
   ]
  },
  {
   "cell_type": "code",
   "execution_count": null,
   "id": "6689ba0a",
   "metadata": {},
   "outputs": [],
   "source": [
    "def popularity_recommender_evaluation():\n",
    "    random_customers = customers_df['customer_id'].values[-10:]\n",
    "    popular_items = popularity_recommender(popularity_recommender(random_customers[0])) # it will  recommend same items to every customer\n",
    "    relevant_recommendation = 0\n",
    "    precision_per_customer = []\n",
    "    for customer in random_customers:\n",
    "        recommended_items = popular_items\n",
    "        for item in popular_items:\n",
    "            if item in transaction_df[['customer_id', 'article_id']][transaction_df['customer_id'] == customer][\n",
    "                'article_id'].values:\n",
    "                relevant_recommendation += 1\n",
    "        precision_per_customer.append(relevant_recommendation / len(recommended_items))\n",
    "        relevant_recommendation *= 0\n",
    "    return sum(precision_per_customer) / len(precision_per_customer)\n",
    "    \n",
    "    "
   ]
  },
  {
   "cell_type": "code",
   "execution_count": null,
   "id": "712c90f8",
   "metadata": {},
   "outputs": [],
   "source": [
    "popularity_recommender_evaluation()"
   ]
  },
  {
   "cell_type": "code",
   "execution_count": null,
   "id": "5437d4a3",
   "metadata": {},
   "outputs": [],
   "source": [
    "def popularity_recommender_evaluation_test():\n",
    "    # Customer that has bought once of the most popular item\n",
    "    random_customers = ['06b253c1f2946179fdef2598b59e9df4bf01d6be4f015ab6ae2d8dd5723d2745']\n",
    "    print(transaction_df[['customer_id', 'article_id']][transaction_df['customer_id'] == random_customers[0]][\n",
    "                'article_id'].values)\n",
    "    popular_items = popularity_recommender(popularity_recommender(random_customers[0])) # it will  recommend same items to every customer\n",
    "    relevant_recommendation = 0\n",
    "    precision_per_customer = []\n",
    "    for customer in random_customers:\n",
    "        recommended_items = popular_items\n",
    "        for item in popular_items:\n",
    "            if item in transaction_df[['customer_id', 'article_id']][transaction_df['customer_id'] == customer][\n",
    "                'article_id'].values:\n",
    "                relevant_recommendation += 1\n",
    "        precision_per_customer.append(relevant_recommendation / len(recommended_items))\n",
    "        relevant_recommendation *= 0\n",
    "    return sum(precision_per_customer) / len(precision_per_customer)\n",
    "    "
   ]
  },
  {
   "cell_type": "code",
   "execution_count": null,
   "id": "233825ef",
   "metadata": {},
   "outputs": [],
   "source": [
    "popularity_recommender_evaluation_test()"
   ]
  },
  {
   "cell_type": "code",
   "execution_count": null,
   "id": "36ffe2f9",
   "metadata": {},
   "outputs": [],
   "source": [
    "    "
   ]
  }
 ],
 "metadata": {
  "kernelspec": {
   "display_name": "Python 3 (ipykernel)",
   "language": "python",
   "name": "python3"
  },
  "language_info": {
   "codemirror_mode": {
    "name": "ipython",
    "version": 3
   },
   "file_extension": ".py",
   "mimetype": "text/x-python",
   "name": "python",
   "nbconvert_exporter": "python",
   "pygments_lexer": "ipython3",
   "version": "3.10.5"
  }
 },
 "nbformat": 4,
 "nbformat_minor": 5
}
