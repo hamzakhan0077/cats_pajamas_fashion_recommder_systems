{
 "cells": [
  {
   "cell_type": "markdown",
   "id": "fb453d82",
   "metadata": {},
   "source": [
    "<h1> Precision Test </h1>\n",
    "<ul>\n",
    "    <li>Random Recommender</li>\n",
    "    <li>Popularity Based Recommender</li>\n",
    "    <li>Test Set Creation</li>\n",
    "    <li>Popularity Based Recommender Precision</li>\n",
    "</ul>"
   ]
  },
  {
   "cell_type": "code",
   "execution_count": 49,
   "id": "669bfe5f",
   "metadata": {},
   "outputs": [
    {
     "name": "stdout",
     "output_type": "stream",
     "text": [
      "The autoreload extension is already loaded. To reload it, use:\n",
      "  %reload_ext autoreload\n"
     ]
    }
   ],
   "source": [
    "%load_ext autoreload\n",
    "%autoreload 2\n",
    "%matplotlib inline\n"
   ]
  },
  {
   "cell_type": "code",
   "execution_count": 50,
   "id": "cf630c50",
   "metadata": {},
   "outputs": [],
   "source": [
    "import pandas as pd\n",
    "import numpy as np\n",
    "import random"
   ]
  },
  {
   "cell_type": "code",
   "execution_count": 51,
   "id": "b874c9ee",
   "metadata": {},
   "outputs": [],
   "source": [
    "articles_df = pd.read_csv(\"../../recommender_systems/datasets/articles_transactions_5.csv\")\n",
    "T = pd.read_csv(\"../../recommender_systems/datasets/transactions_5.csv\")\n",
    "pd.set_option(\"display.max_rows\", None)"
   ]
  },
  {
   "cell_type": "markdown",
   "id": "f815eff0",
   "metadata": {},
   "source": [
    "<h2>Random Recommender</h2>"
   ]
  },
  {
   "cell_type": "code",
   "execution_count": 52,
   "id": "e0124ec2",
   "metadata": {},
   "outputs": [],
   "source": [
    "def random_recommender(customer):\n",
    "    # print(f\"{customer.customer_id} \", np.random.choice(articles_df['article_id'].values,5))\n",
    "    return random.sample(sorted(articles_df['article_id'].values),5)"
   ]
  },
  {
   "cell_type": "markdown",
   "id": "489653ef",
   "metadata": {},
   "source": [
    "<h2>Popularity Based Recommender</h2>"
   ]
  },
  {
   "cell_type": "code",
   "execution_count": 53,
   "id": "e29d2dad",
   "metadata": {},
   "outputs": [],
   "source": [
    "def popularity_recommender(customer):\n",
    "    # Top 5 most bought\n",
    "    popular_products = T['article_id'].value_counts().nlargest(5).to_frame()['article_id'].keys().values\n",
    "    return popular_products"
   ]
  },
  {
   "cell_type": "markdown",
   "id": "cccaae31",
   "metadata": {},
   "source": [
    "<h2>Test Set Creation</h2>"
   ]
  },
  {
   "cell_type": "markdown",
   "id": "8b263453",
   "metadata": {},
   "source": [
    "<p>\n",
    "From the Kaggle transactions, extract a set T for just one month.\n",
    "Let U be the users who have at least one transaction inT.\n",
    "Let I be the items that are in at least one transaction in T.\n",
    "\n",
    "For any user u who has fewer than 5 transactions in T, \n",
    "- delete u from U\n",
    "- delete u's transactions from T.\n",
    "\n",
    "From U, choose 1000 users at random. Call these test-U.\n",
    "\n",
    "For each user u in test-U, \n",
    "- move the last 20% of their transactions from T to test-T (i.e. delete them from T, insert them into test-T).\n",
    "\n",
    "Train a recommender system on T. (This does not apply to the random recommender, but it does apply to the popularity recommender because you need to know which items in T are the most popular.)\n",
    "\n",
    "Test the recommender as follows; for each u in test-U,\n",
    "- obtain n recommendations (e.g. 5 recommendations)\n",
    "- compute precision (based on how many of u's recommendations are in test-T for user u)\n",
    "Afterwards, you have the precision for each user in test-U. So now compute the mean of these.\n",
    "\n",
    "</p>"
   ]
  },
  {
   "cell_type": "code",
   "execution_count": 54,
   "id": "530f441a",
   "metadata": {},
   "outputs": [
    {
     "data": {
      "text/plain": [
       "(788257, 7)"
      ]
     },
     "execution_count": 54,
     "metadata": {},
     "output_type": "execute_result"
    }
   ],
   "source": [
    "T.shape"
   ]
  },
  {
   "cell_type": "code",
   "execution_count": 55,
   "id": "b2ff17f1",
   "metadata": {},
   "outputs": [],
   "source": [
    "u = T['customer_id'].drop_duplicates().to_frame()"
   ]
  },
  {
   "cell_type": "code",
   "execution_count": 56,
   "id": "b4d1658b",
   "metadata": {
    "scrolled": false
   },
   "outputs": [
    {
     "data": {
      "text/plain": [
       "(84234, 1)"
      ]
     },
     "execution_count": 56,
     "metadata": {},
     "output_type": "execute_result"
    }
   ],
   "source": [
    "u.shape"
   ]
  },
  {
   "cell_type": "code",
   "execution_count": 57,
   "id": "0ca3e43f",
   "metadata": {},
   "outputs": [
    {
     "data": {
      "text/plain": [
       "(26722, 1)"
      ]
     },
     "execution_count": 57,
     "metadata": {},
     "output_type": "execute_result"
    }
   ],
   "source": [
    "i = T['article_id'].drop_duplicates().to_frame()\n",
    "i.shape"
   ]
  },
  {
   "cell_type": "code",
   "execution_count": 58,
   "id": "0ab24620",
   "metadata": {},
   "outputs": [
    {
     "name": "stderr",
     "output_type": "stream",
     "text": [
      "C:\\Users\\Hammozi\\AppData\\Local\\Temp\\ipykernel_33060\\472698487.py:7: FutureWarning: The frame.append method is deprecated and will be removed from pandas in a future version. Use pandas.concat instead.\n",
      "  test_t = test_t.append(bottom_transac)\n",
      "C:\\Users\\Hammozi\\AppData\\Local\\Temp\\ipykernel_33060\\472698487.py:7: FutureWarning: The frame.append method is deprecated and will be removed from pandas in a future version. Use pandas.concat instead.\n",
      "  test_t = test_t.append(bottom_transac)\n",
      "C:\\Users\\Hammozi\\AppData\\Local\\Temp\\ipykernel_33060\\472698487.py:7: FutureWarning: The frame.append method is deprecated and will be removed from pandas in a future version. Use pandas.concat instead.\n",
      "  test_t = test_t.append(bottom_transac)\n"
     ]
    },
    {
     "name": "stdout",
     "output_type": "stream",
     "text": [
      "0\n",
      "1\n",
      "2\n",
      "3\n"
     ]
    },
    {
     "name": "stderr",
     "output_type": "stream",
     "text": [
      "C:\\Users\\Hammozi\\AppData\\Local\\Temp\\ipykernel_33060\\472698487.py:7: FutureWarning: The frame.append method is deprecated and will be removed from pandas in a future version. Use pandas.concat instead.\n",
      "  test_t = test_t.append(bottom_transac)\n",
      "C:\\Users\\Hammozi\\AppData\\Local\\Temp\\ipykernel_33060\\472698487.py:7: FutureWarning: The frame.append method is deprecated and will be removed from pandas in a future version. Use pandas.concat instead.\n",
      "  test_t = test_t.append(bottom_transac)\n",
      "C:\\Users\\Hammozi\\AppData\\Local\\Temp\\ipykernel_33060\\472698487.py:7: FutureWarning: The frame.append method is deprecated and will be removed from pandas in a future version. Use pandas.concat instead.\n",
      "  test_t = test_t.append(bottom_transac)\n"
     ]
    },
    {
     "name": "stdout",
     "output_type": "stream",
     "text": [
      "4\n",
      "5\n",
      "6\n"
     ]
    },
    {
     "name": "stderr",
     "output_type": "stream",
     "text": [
      "C:\\Users\\Hammozi\\AppData\\Local\\Temp\\ipykernel_33060\\472698487.py:7: FutureWarning: The frame.append method is deprecated and will be removed from pandas in a future version. Use pandas.concat instead.\n",
      "  test_t = test_t.append(bottom_transac)\n",
      "C:\\Users\\Hammozi\\AppData\\Local\\Temp\\ipykernel_33060\\472698487.py:7: FutureWarning: The frame.append method is deprecated and will be removed from pandas in a future version. Use pandas.concat instead.\n",
      "  test_t = test_t.append(bottom_transac)\n",
      "C:\\Users\\Hammozi\\AppData\\Local\\Temp\\ipykernel_33060\\472698487.py:7: FutureWarning: The frame.append method is deprecated and will be removed from pandas in a future version. Use pandas.concat instead.\n",
      "  test_t = test_t.append(bottom_transac)\n"
     ]
    },
    {
     "name": "stdout",
     "output_type": "stream",
     "text": [
      "7\n",
      "8\n",
      "9\n"
     ]
    },
    {
     "name": "stderr",
     "output_type": "stream",
     "text": [
      "C:\\Users\\Hammozi\\AppData\\Local\\Temp\\ipykernel_33060\\472698487.py:7: FutureWarning: The frame.append method is deprecated and will be removed from pandas in a future version. Use pandas.concat instead.\n",
      "  test_t = test_t.append(bottom_transac)\n",
      "C:\\Users\\Hammozi\\AppData\\Local\\Temp\\ipykernel_33060\\472698487.py:7: FutureWarning: The frame.append method is deprecated and will be removed from pandas in a future version. Use pandas.concat instead.\n",
      "  test_t = test_t.append(bottom_transac)\n",
      "C:\\Users\\Hammozi\\AppData\\Local\\Temp\\ipykernel_33060\\472698487.py:7: FutureWarning: The frame.append method is deprecated and will be removed from pandas in a future version. Use pandas.concat instead.\n",
      "  test_t = test_t.append(bottom_transac)\n"
     ]
    },
    {
     "name": "stdout",
     "output_type": "stream",
     "text": [
      "10\n",
      "11\n",
      "12\n",
      "13\n"
     ]
    },
    {
     "name": "stderr",
     "output_type": "stream",
     "text": [
      "C:\\Users\\Hammozi\\AppData\\Local\\Temp\\ipykernel_33060\\472698487.py:7: FutureWarning: The frame.append method is deprecated and will be removed from pandas in a future version. Use pandas.concat instead.\n",
      "  test_t = test_t.append(bottom_transac)\n",
      "C:\\Users\\Hammozi\\AppData\\Local\\Temp\\ipykernel_33060\\472698487.py:7: FutureWarning: The frame.append method is deprecated and will be removed from pandas in a future version. Use pandas.concat instead.\n",
      "  test_t = test_t.append(bottom_transac)\n",
      "C:\\Users\\Hammozi\\AppData\\Local\\Temp\\ipykernel_33060\\472698487.py:7: FutureWarning: The frame.append method is deprecated and will be removed from pandas in a future version. Use pandas.concat instead.\n",
      "  test_t = test_t.append(bottom_transac)\n"
     ]
    },
    {
     "name": "stdout",
     "output_type": "stream",
     "text": [
      "14\n",
      "15\n",
      "16\n",
      "17\n"
     ]
    },
    {
     "name": "stderr",
     "output_type": "stream",
     "text": [
      "C:\\Users\\Hammozi\\AppData\\Local\\Temp\\ipykernel_33060\\472698487.py:7: FutureWarning: The frame.append method is deprecated and will be removed from pandas in a future version. Use pandas.concat instead.\n",
      "  test_t = test_t.append(bottom_transac)\n",
      "C:\\Users\\Hammozi\\AppData\\Local\\Temp\\ipykernel_33060\\472698487.py:7: FutureWarning: The frame.append method is deprecated and will be removed from pandas in a future version. Use pandas.concat instead.\n",
      "  test_t = test_t.append(bottom_transac)\n",
      "C:\\Users\\Hammozi\\AppData\\Local\\Temp\\ipykernel_33060\\472698487.py:7: FutureWarning: The frame.append method is deprecated and will be removed from pandas in a future version. Use pandas.concat instead.\n",
      "  test_t = test_t.append(bottom_transac)\n",
      "C:\\Users\\Hammozi\\AppData\\Local\\Temp\\ipykernel_33060\\472698487.py:7: FutureWarning: The frame.append method is deprecated and will be removed from pandas in a future version. Use pandas.concat instead.\n",
      "  test_t = test_t.append(bottom_transac)\n",
      "C:\\Users\\Hammozi\\AppData\\Local\\Temp\\ipykernel_33060\\472698487.py:7: FutureWarning: The frame.append method is deprecated and will be removed from pandas in a future version. Use pandas.concat instead.\n",
      "  test_t = test_t.append(bottom_transac)\n",
      "C:\\Users\\Hammozi\\AppData\\Local\\Temp\\ipykernel_33060\\472698487.py:7: FutureWarning: The frame.append method is deprecated and will be removed from pandas in a future version. Use pandas.concat instead.\n",
      "  test_t = test_t.append(bottom_transac)\n"
     ]
    },
    {
     "name": "stdout",
     "output_type": "stream",
     "text": [
      "18\n",
      "19\n",
      "20\n"
     ]
    },
    {
     "name": "stderr",
     "output_type": "stream",
     "text": [
      "C:\\Users\\Hammozi\\AppData\\Local\\Temp\\ipykernel_33060\\472698487.py:7: FutureWarning: The frame.append method is deprecated and will be removed from pandas in a future version. Use pandas.concat instead.\n",
      "  test_t = test_t.append(bottom_transac)\n",
      "C:\\Users\\Hammozi\\AppData\\Local\\Temp\\ipykernel_33060\\472698487.py:7: FutureWarning: The frame.append method is deprecated and will be removed from pandas in a future version. Use pandas.concat instead.\n",
      "  test_t = test_t.append(bottom_transac)\n",
      "C:\\Users\\Hammozi\\AppData\\Local\\Temp\\ipykernel_33060\\472698487.py:7: FutureWarning: The frame.append method is deprecated and will be removed from pandas in a future version. Use pandas.concat instead.\n",
      "  test_t = test_t.append(bottom_transac)\n"
     ]
    },
    {
     "name": "stdout",
     "output_type": "stream",
     "text": [
      "21\n",
      "22\n",
      "23\n"
     ]
    },
    {
     "name": "stderr",
     "output_type": "stream",
     "text": [
      "C:\\Users\\Hammozi\\AppData\\Local\\Temp\\ipykernel_33060\\472698487.py:7: FutureWarning: The frame.append method is deprecated and will be removed from pandas in a future version. Use pandas.concat instead.\n",
      "  test_t = test_t.append(bottom_transac)\n",
      "C:\\Users\\Hammozi\\AppData\\Local\\Temp\\ipykernel_33060\\472698487.py:7: FutureWarning: The frame.append method is deprecated and will be removed from pandas in a future version. Use pandas.concat instead.\n",
      "  test_t = test_t.append(bottom_transac)\n",
      "C:\\Users\\Hammozi\\AppData\\Local\\Temp\\ipykernel_33060\\472698487.py:7: FutureWarning: The frame.append method is deprecated and will be removed from pandas in a future version. Use pandas.concat instead.\n",
      "  test_t = test_t.append(bottom_transac)\n"
     ]
    },
    {
     "name": "stdout",
     "output_type": "stream",
     "text": [
      "24\n",
      "25\n",
      "26\n",
      "27\n"
     ]
    },
    {
     "name": "stderr",
     "output_type": "stream",
     "text": [
      "C:\\Users\\Hammozi\\AppData\\Local\\Temp\\ipykernel_33060\\472698487.py:7: FutureWarning: The frame.append method is deprecated and will be removed from pandas in a future version. Use pandas.concat instead.\n",
      "  test_t = test_t.append(bottom_transac)\n",
      "C:\\Users\\Hammozi\\AppData\\Local\\Temp\\ipykernel_33060\\472698487.py:7: FutureWarning: The frame.append method is deprecated and will be removed from pandas in a future version. Use pandas.concat instead.\n",
      "  test_t = test_t.append(bottom_transac)\n",
      "C:\\Users\\Hammozi\\AppData\\Local\\Temp\\ipykernel_33060\\472698487.py:7: FutureWarning: The frame.append method is deprecated and will be removed from pandas in a future version. Use pandas.concat instead.\n",
      "  test_t = test_t.append(bottom_transac)\n"
     ]
    },
    {
     "name": "stdout",
     "output_type": "stream",
     "text": [
      "28\n",
      "29\n",
      "30\n",
      "31\n"
     ]
    },
    {
     "name": "stderr",
     "output_type": "stream",
     "text": [
      "C:\\Users\\Hammozi\\AppData\\Local\\Temp\\ipykernel_33060\\472698487.py:7: FutureWarning: The frame.append method is deprecated and will be removed from pandas in a future version. Use pandas.concat instead.\n",
      "  test_t = test_t.append(bottom_transac)\n",
      "C:\\Users\\Hammozi\\AppData\\Local\\Temp\\ipykernel_33060\\472698487.py:7: FutureWarning: The frame.append method is deprecated and will be removed from pandas in a future version. Use pandas.concat instead.\n",
      "  test_t = test_t.append(bottom_transac)\n",
      "C:\\Users\\Hammozi\\AppData\\Local\\Temp\\ipykernel_33060\\472698487.py:7: FutureWarning: The frame.append method is deprecated and will be removed from pandas in a future version. Use pandas.concat instead.\n",
      "  test_t = test_t.append(bottom_transac)\n"
     ]
    },
    {
     "name": "stdout",
     "output_type": "stream",
     "text": [
      "32\n",
      "33\n",
      "34\n"
     ]
    },
    {
     "name": "stderr",
     "output_type": "stream",
     "text": [
      "C:\\Users\\Hammozi\\AppData\\Local\\Temp\\ipykernel_33060\\472698487.py:7: FutureWarning: The frame.append method is deprecated and will be removed from pandas in a future version. Use pandas.concat instead.\n",
      "  test_t = test_t.append(bottom_transac)\n",
      "C:\\Users\\Hammozi\\AppData\\Local\\Temp\\ipykernel_33060\\472698487.py:7: FutureWarning: The frame.append method is deprecated and will be removed from pandas in a future version. Use pandas.concat instead.\n",
      "  test_t = test_t.append(bottom_transac)\n",
      "C:\\Users\\Hammozi\\AppData\\Local\\Temp\\ipykernel_33060\\472698487.py:7: FutureWarning: The frame.append method is deprecated and will be removed from pandas in a future version. Use pandas.concat instead.\n",
      "  test_t = test_t.append(bottom_transac)\n"
     ]
    },
    {
     "name": "stdout",
     "output_type": "stream",
     "text": [
      "35\n",
      "36\n",
      "37\n"
     ]
    },
    {
     "name": "stderr",
     "output_type": "stream",
     "text": [
      "C:\\Users\\Hammozi\\AppData\\Local\\Temp\\ipykernel_33060\\472698487.py:7: FutureWarning: The frame.append method is deprecated and will be removed from pandas in a future version. Use pandas.concat instead.\n",
      "  test_t = test_t.append(bottom_transac)\n",
      "C:\\Users\\Hammozi\\AppData\\Local\\Temp\\ipykernel_33060\\472698487.py:7: FutureWarning: The frame.append method is deprecated and will be removed from pandas in a future version. Use pandas.concat instead.\n",
      "  test_t = test_t.append(bottom_transac)\n",
      "C:\\Users\\Hammozi\\AppData\\Local\\Temp\\ipykernel_33060\\472698487.py:7: FutureWarning: The frame.append method is deprecated and will be removed from pandas in a future version. Use pandas.concat instead.\n",
      "  test_t = test_t.append(bottom_transac)\n"
     ]
    },
    {
     "name": "stdout",
     "output_type": "stream",
     "text": [
      "38\n",
      "39\n",
      "40\n",
      "41\n"
     ]
    },
    {
     "name": "stderr",
     "output_type": "stream",
     "text": [
      "C:\\Users\\Hammozi\\AppData\\Local\\Temp\\ipykernel_33060\\472698487.py:7: FutureWarning: The frame.append method is deprecated and will be removed from pandas in a future version. Use pandas.concat instead.\n",
      "  test_t = test_t.append(bottom_transac)\n",
      "C:\\Users\\Hammozi\\AppData\\Local\\Temp\\ipykernel_33060\\472698487.py:7: FutureWarning: The frame.append method is deprecated and will be removed from pandas in a future version. Use pandas.concat instead.\n",
      "  test_t = test_t.append(bottom_transac)\n",
      "C:\\Users\\Hammozi\\AppData\\Local\\Temp\\ipykernel_33060\\472698487.py:7: FutureWarning: The frame.append method is deprecated and will be removed from pandas in a future version. Use pandas.concat instead.\n",
      "  test_t = test_t.append(bottom_transac)\n",
      "C:\\Users\\Hammozi\\AppData\\Local\\Temp\\ipykernel_33060\\472698487.py:7: FutureWarning: The frame.append method is deprecated and will be removed from pandas in a future version. Use pandas.concat instead.\n",
      "  test_t = test_t.append(bottom_transac)\n",
      "C:\\Users\\Hammozi\\AppData\\Local\\Temp\\ipykernel_33060\\472698487.py:7: FutureWarning: The frame.append method is deprecated and will be removed from pandas in a future version. Use pandas.concat instead.\n",
      "  test_t = test_t.append(bottom_transac)\n",
      "C:\\Users\\Hammozi\\AppData\\Local\\Temp\\ipykernel_33060\\472698487.py:7: FutureWarning: The frame.append method is deprecated and will be removed from pandas in a future version. Use pandas.concat instead.\n",
      "  test_t = test_t.append(bottom_transac)\n"
     ]
    },
    {
     "name": "stdout",
     "output_type": "stream",
     "text": [
      "42\n",
      "43\n",
      "44\n"
     ]
    },
    {
     "name": "stderr",
     "output_type": "stream",
     "text": [
      "C:\\Users\\Hammozi\\AppData\\Local\\Temp\\ipykernel_33060\\472698487.py:7: FutureWarning: The frame.append method is deprecated and will be removed from pandas in a future version. Use pandas.concat instead.\n",
      "  test_t = test_t.append(bottom_transac)\n",
      "C:\\Users\\Hammozi\\AppData\\Local\\Temp\\ipykernel_33060\\472698487.py:7: FutureWarning: The frame.append method is deprecated and will be removed from pandas in a future version. Use pandas.concat instead.\n",
      "  test_t = test_t.append(bottom_transac)\n",
      "C:\\Users\\Hammozi\\AppData\\Local\\Temp\\ipykernel_33060\\472698487.py:7: FutureWarning: The frame.append method is deprecated and will be removed from pandas in a future version. Use pandas.concat instead.\n",
      "  test_t = test_t.append(bottom_transac)\n"
     ]
    },
    {
     "name": "stdout",
     "output_type": "stream",
     "text": [
      "45\n",
      "46\n",
      "47\n"
     ]
    },
    {
     "name": "stderr",
     "output_type": "stream",
     "text": [
      "C:\\Users\\Hammozi\\AppData\\Local\\Temp\\ipykernel_33060\\472698487.py:7: FutureWarning: The frame.append method is deprecated and will be removed from pandas in a future version. Use pandas.concat instead.\n",
      "  test_t = test_t.append(bottom_transac)\n",
      "C:\\Users\\Hammozi\\AppData\\Local\\Temp\\ipykernel_33060\\472698487.py:7: FutureWarning: The frame.append method is deprecated and will be removed from pandas in a future version. Use pandas.concat instead.\n",
      "  test_t = test_t.append(bottom_transac)\n",
      "C:\\Users\\Hammozi\\AppData\\Local\\Temp\\ipykernel_33060\\472698487.py:7: FutureWarning: The frame.append method is deprecated and will be removed from pandas in a future version. Use pandas.concat instead.\n",
      "  test_t = test_t.append(bottom_transac)\n"
     ]
    },
    {
     "name": "stdout",
     "output_type": "stream",
     "text": [
      "48\n",
      "49\n",
      "50\n",
      "51\n"
     ]
    },
    {
     "name": "stderr",
     "output_type": "stream",
     "text": [
      "C:\\Users\\Hammozi\\AppData\\Local\\Temp\\ipykernel_33060\\472698487.py:7: FutureWarning: The frame.append method is deprecated and will be removed from pandas in a future version. Use pandas.concat instead.\n",
      "  test_t = test_t.append(bottom_transac)\n",
      "C:\\Users\\Hammozi\\AppData\\Local\\Temp\\ipykernel_33060\\472698487.py:7: FutureWarning: The frame.append method is deprecated and will be removed from pandas in a future version. Use pandas.concat instead.\n",
      "  test_t = test_t.append(bottom_transac)\n",
      "C:\\Users\\Hammozi\\AppData\\Local\\Temp\\ipykernel_33060\\472698487.py:7: FutureWarning: The frame.append method is deprecated and will be removed from pandas in a future version. Use pandas.concat instead.\n",
      "  test_t = test_t.append(bottom_transac)\n"
     ]
    },
    {
     "name": "stdout",
     "output_type": "stream",
     "text": [
      "52\n",
      "53\n",
      "54\n"
     ]
    },
    {
     "name": "stderr",
     "output_type": "stream",
     "text": [
      "C:\\Users\\Hammozi\\AppData\\Local\\Temp\\ipykernel_33060\\472698487.py:7: FutureWarning: The frame.append method is deprecated and will be removed from pandas in a future version. Use pandas.concat instead.\n",
      "  test_t = test_t.append(bottom_transac)\n",
      "C:\\Users\\Hammozi\\AppData\\Local\\Temp\\ipykernel_33060\\472698487.py:7: FutureWarning: The frame.append method is deprecated and will be removed from pandas in a future version. Use pandas.concat instead.\n",
      "  test_t = test_t.append(bottom_transac)\n",
      "C:\\Users\\Hammozi\\AppData\\Local\\Temp\\ipykernel_33060\\472698487.py:7: FutureWarning: The frame.append method is deprecated and will be removed from pandas in a future version. Use pandas.concat instead.\n",
      "  test_t = test_t.append(bottom_transac)\n"
     ]
    },
    {
     "name": "stdout",
     "output_type": "stream",
     "text": [
      "55\n",
      "56\n",
      "57\n",
      "58\n"
     ]
    },
    {
     "name": "stderr",
     "output_type": "stream",
     "text": [
      "C:\\Users\\Hammozi\\AppData\\Local\\Temp\\ipykernel_33060\\472698487.py:7: FutureWarning: The frame.append method is deprecated and will be removed from pandas in a future version. Use pandas.concat instead.\n",
      "  test_t = test_t.append(bottom_transac)\n",
      "C:\\Users\\Hammozi\\AppData\\Local\\Temp\\ipykernel_33060\\472698487.py:7: FutureWarning: The frame.append method is deprecated and will be removed from pandas in a future version. Use pandas.concat instead.\n",
      "  test_t = test_t.append(bottom_transac)\n",
      "C:\\Users\\Hammozi\\AppData\\Local\\Temp\\ipykernel_33060\\472698487.py:7: FutureWarning: The frame.append method is deprecated and will be removed from pandas in a future version. Use pandas.concat instead.\n",
      "  test_t = test_t.append(bottom_transac)\n"
     ]
    },
    {
     "name": "stdout",
     "output_type": "stream",
     "text": [
      "59\n",
      "60\n",
      "61\n"
     ]
    },
    {
     "name": "stderr",
     "output_type": "stream",
     "text": [
      "C:\\Users\\Hammozi\\AppData\\Local\\Temp\\ipykernel_33060\\472698487.py:7: FutureWarning: The frame.append method is deprecated and will be removed from pandas in a future version. Use pandas.concat instead.\n",
      "  test_t = test_t.append(bottom_transac)\n",
      "C:\\Users\\Hammozi\\AppData\\Local\\Temp\\ipykernel_33060\\472698487.py:7: FutureWarning: The frame.append method is deprecated and will be removed from pandas in a future version. Use pandas.concat instead.\n",
      "  test_t = test_t.append(bottom_transac)\n",
      "C:\\Users\\Hammozi\\AppData\\Local\\Temp\\ipykernel_33060\\472698487.py:7: FutureWarning: The frame.append method is deprecated and will be removed from pandas in a future version. Use pandas.concat instead.\n",
      "  test_t = test_t.append(bottom_transac)\n"
     ]
    },
    {
     "name": "stdout",
     "output_type": "stream",
     "text": [
      "62\n",
      "63\n",
      "64\n"
     ]
    },
    {
     "name": "stderr",
     "output_type": "stream",
     "text": [
      "C:\\Users\\Hammozi\\AppData\\Local\\Temp\\ipykernel_33060\\472698487.py:7: FutureWarning: The frame.append method is deprecated and will be removed from pandas in a future version. Use pandas.concat instead.\n",
      "  test_t = test_t.append(bottom_transac)\n",
      "C:\\Users\\Hammozi\\AppData\\Local\\Temp\\ipykernel_33060\\472698487.py:7: FutureWarning: The frame.append method is deprecated and will be removed from pandas in a future version. Use pandas.concat instead.\n",
      "  test_t = test_t.append(bottom_transac)\n",
      "C:\\Users\\Hammozi\\AppData\\Local\\Temp\\ipykernel_33060\\472698487.py:7: FutureWarning: The frame.append method is deprecated and will be removed from pandas in a future version. Use pandas.concat instead.\n",
      "  test_t = test_t.append(bottom_transac)\n"
     ]
    },
    {
     "name": "stdout",
     "output_type": "stream",
     "text": [
      "65\n",
      "66\n",
      "67\n"
     ]
    },
    {
     "name": "stderr",
     "output_type": "stream",
     "text": [
      "C:\\Users\\Hammozi\\AppData\\Local\\Temp\\ipykernel_33060\\472698487.py:7: FutureWarning: The frame.append method is deprecated and will be removed from pandas in a future version. Use pandas.concat instead.\n",
      "  test_t = test_t.append(bottom_transac)\n",
      "C:\\Users\\Hammozi\\AppData\\Local\\Temp\\ipykernel_33060\\472698487.py:7: FutureWarning: The frame.append method is deprecated and will be removed from pandas in a future version. Use pandas.concat instead.\n",
      "  test_t = test_t.append(bottom_transac)\n",
      "C:\\Users\\Hammozi\\AppData\\Local\\Temp\\ipykernel_33060\\472698487.py:7: FutureWarning: The frame.append method is deprecated and will be removed from pandas in a future version. Use pandas.concat instead.\n",
      "  test_t = test_t.append(bottom_transac)\n"
     ]
    },
    {
     "name": "stdout",
     "output_type": "stream",
     "text": [
      "68\n",
      "69\n",
      "70\n"
     ]
    },
    {
     "name": "stderr",
     "output_type": "stream",
     "text": [
      "C:\\Users\\Hammozi\\AppData\\Local\\Temp\\ipykernel_33060\\472698487.py:7: FutureWarning: The frame.append method is deprecated and will be removed from pandas in a future version. Use pandas.concat instead.\n",
      "  test_t = test_t.append(bottom_transac)\n",
      "C:\\Users\\Hammozi\\AppData\\Local\\Temp\\ipykernel_33060\\472698487.py:7: FutureWarning: The frame.append method is deprecated and will be removed from pandas in a future version. Use pandas.concat instead.\n",
      "  test_t = test_t.append(bottom_transac)\n",
      "C:\\Users\\Hammozi\\AppData\\Local\\Temp\\ipykernel_33060\\472698487.py:7: FutureWarning: The frame.append method is deprecated and will be removed from pandas in a future version. Use pandas.concat instead.\n",
      "  test_t = test_t.append(bottom_transac)\n"
     ]
    },
    {
     "name": "stdout",
     "output_type": "stream",
     "text": [
      "71\n",
      "72\n",
      "73\n"
     ]
    },
    {
     "name": "stderr",
     "output_type": "stream",
     "text": [
      "C:\\Users\\Hammozi\\AppData\\Local\\Temp\\ipykernel_33060\\472698487.py:7: FutureWarning: The frame.append method is deprecated and will be removed from pandas in a future version. Use pandas.concat instead.\n",
      "  test_t = test_t.append(bottom_transac)\n",
      "C:\\Users\\Hammozi\\AppData\\Local\\Temp\\ipykernel_33060\\472698487.py:7: FutureWarning: The frame.append method is deprecated and will be removed from pandas in a future version. Use pandas.concat instead.\n",
      "  test_t = test_t.append(bottom_transac)\n",
      "C:\\Users\\Hammozi\\AppData\\Local\\Temp\\ipykernel_33060\\472698487.py:7: FutureWarning: The frame.append method is deprecated and will be removed from pandas in a future version. Use pandas.concat instead.\n",
      "  test_t = test_t.append(bottom_transac)\n"
     ]
    },
    {
     "name": "stdout",
     "output_type": "stream",
     "text": [
      "74\n",
      "75\n",
      "76\n",
      "77\n"
     ]
    },
    {
     "name": "stderr",
     "output_type": "stream",
     "text": [
      "C:\\Users\\Hammozi\\AppData\\Local\\Temp\\ipykernel_33060\\472698487.py:7: FutureWarning: The frame.append method is deprecated and will be removed from pandas in a future version. Use pandas.concat instead.\n",
      "  test_t = test_t.append(bottom_transac)\n",
      "C:\\Users\\Hammozi\\AppData\\Local\\Temp\\ipykernel_33060\\472698487.py:7: FutureWarning: The frame.append method is deprecated and will be removed from pandas in a future version. Use pandas.concat instead.\n",
      "  test_t = test_t.append(bottom_transac)\n",
      "C:\\Users\\Hammozi\\AppData\\Local\\Temp\\ipykernel_33060\\472698487.py:7: FutureWarning: The frame.append method is deprecated and will be removed from pandas in a future version. Use pandas.concat instead.\n",
      "  test_t = test_t.append(bottom_transac)\n",
      "C:\\Users\\Hammozi\\AppData\\Local\\Temp\\ipykernel_33060\\472698487.py:7: FutureWarning: The frame.append method is deprecated and will be removed from pandas in a future version. Use pandas.concat instead.\n",
      "  test_t = test_t.append(bottom_transac)\n",
      "C:\\Users\\Hammozi\\AppData\\Local\\Temp\\ipykernel_33060\\472698487.py:7: FutureWarning: The frame.append method is deprecated and will be removed from pandas in a future version. Use pandas.concat instead.\n",
      "  test_t = test_t.append(bottom_transac)\n",
      "C:\\Users\\Hammozi\\AppData\\Local\\Temp\\ipykernel_33060\\472698487.py:7: FutureWarning: The frame.append method is deprecated and will be removed from pandas in a future version. Use pandas.concat instead.\n",
      "  test_t = test_t.append(bottom_transac)\n"
     ]
    },
    {
     "name": "stdout",
     "output_type": "stream",
     "text": [
      "78\n",
      "79\n",
      "80\n"
     ]
    },
    {
     "name": "stderr",
     "output_type": "stream",
     "text": [
      "C:\\Users\\Hammozi\\AppData\\Local\\Temp\\ipykernel_33060\\472698487.py:7: FutureWarning: The frame.append method is deprecated and will be removed from pandas in a future version. Use pandas.concat instead.\n",
      "  test_t = test_t.append(bottom_transac)\n",
      "C:\\Users\\Hammozi\\AppData\\Local\\Temp\\ipykernel_33060\\472698487.py:7: FutureWarning: The frame.append method is deprecated and will be removed from pandas in a future version. Use pandas.concat instead.\n",
      "  test_t = test_t.append(bottom_transac)\n",
      "C:\\Users\\Hammozi\\AppData\\Local\\Temp\\ipykernel_33060\\472698487.py:7: FutureWarning: The frame.append method is deprecated and will be removed from pandas in a future version. Use pandas.concat instead.\n",
      "  test_t = test_t.append(bottom_transac)\n"
     ]
    },
    {
     "name": "stdout",
     "output_type": "stream",
     "text": [
      "81\n",
      "82\n",
      "83\n",
      "84\n"
     ]
    },
    {
     "name": "stderr",
     "output_type": "stream",
     "text": [
      "C:\\Users\\Hammozi\\AppData\\Local\\Temp\\ipykernel_33060\\472698487.py:7: FutureWarning: The frame.append method is deprecated and will be removed from pandas in a future version. Use pandas.concat instead.\n",
      "  test_t = test_t.append(bottom_transac)\n",
      "C:\\Users\\Hammozi\\AppData\\Local\\Temp\\ipykernel_33060\\472698487.py:7: FutureWarning: The frame.append method is deprecated and will be removed from pandas in a future version. Use pandas.concat instead.\n",
      "  test_t = test_t.append(bottom_transac)\n",
      "C:\\Users\\Hammozi\\AppData\\Local\\Temp\\ipykernel_33060\\472698487.py:7: FutureWarning: The frame.append method is deprecated and will be removed from pandas in a future version. Use pandas.concat instead.\n",
      "  test_t = test_t.append(bottom_transac)\n"
     ]
    },
    {
     "name": "stdout",
     "output_type": "stream",
     "text": [
      "85\n",
      "86\n",
      "87\n"
     ]
    },
    {
     "name": "stderr",
     "output_type": "stream",
     "text": [
      "C:\\Users\\Hammozi\\AppData\\Local\\Temp\\ipykernel_33060\\472698487.py:7: FutureWarning: The frame.append method is deprecated and will be removed from pandas in a future version. Use pandas.concat instead.\n",
      "  test_t = test_t.append(bottom_transac)\n",
      "C:\\Users\\Hammozi\\AppData\\Local\\Temp\\ipykernel_33060\\472698487.py:7: FutureWarning: The frame.append method is deprecated and will be removed from pandas in a future version. Use pandas.concat instead.\n",
      "  test_t = test_t.append(bottom_transac)\n",
      "C:\\Users\\Hammozi\\AppData\\Local\\Temp\\ipykernel_33060\\472698487.py:7: FutureWarning: The frame.append method is deprecated and will be removed from pandas in a future version. Use pandas.concat instead.\n",
      "  test_t = test_t.append(bottom_transac)\n"
     ]
    },
    {
     "name": "stdout",
     "output_type": "stream",
     "text": [
      "88\n",
      "89\n",
      "90\n"
     ]
    },
    {
     "name": "stderr",
     "output_type": "stream",
     "text": [
      "C:\\Users\\Hammozi\\AppData\\Local\\Temp\\ipykernel_33060\\472698487.py:7: FutureWarning: The frame.append method is deprecated and will be removed from pandas in a future version. Use pandas.concat instead.\n",
      "  test_t = test_t.append(bottom_transac)\n",
      "C:\\Users\\Hammozi\\AppData\\Local\\Temp\\ipykernel_33060\\472698487.py:7: FutureWarning: The frame.append method is deprecated and will be removed from pandas in a future version. Use pandas.concat instead.\n",
      "  test_t = test_t.append(bottom_transac)\n",
      "C:\\Users\\Hammozi\\AppData\\Local\\Temp\\ipykernel_33060\\472698487.py:7: FutureWarning: The frame.append method is deprecated and will be removed from pandas in a future version. Use pandas.concat instead.\n",
      "  test_t = test_t.append(bottom_transac)\n"
     ]
    },
    {
     "name": "stdout",
     "output_type": "stream",
     "text": [
      "91\n",
      "92\n",
      "93\n",
      "94\n"
     ]
    },
    {
     "name": "stderr",
     "output_type": "stream",
     "text": [
      "C:\\Users\\Hammozi\\AppData\\Local\\Temp\\ipykernel_33060\\472698487.py:7: FutureWarning: The frame.append method is deprecated and will be removed from pandas in a future version. Use pandas.concat instead.\n",
      "  test_t = test_t.append(bottom_transac)\n",
      "C:\\Users\\Hammozi\\AppData\\Local\\Temp\\ipykernel_33060\\472698487.py:7: FutureWarning: The frame.append method is deprecated and will be removed from pandas in a future version. Use pandas.concat instead.\n",
      "  test_t = test_t.append(bottom_transac)\n",
      "C:\\Users\\Hammozi\\AppData\\Local\\Temp\\ipykernel_33060\\472698487.py:7: FutureWarning: The frame.append method is deprecated and will be removed from pandas in a future version. Use pandas.concat instead.\n",
      "  test_t = test_t.append(bottom_transac)\n"
     ]
    },
    {
     "name": "stdout",
     "output_type": "stream",
     "text": [
      "95\n",
      "96\n",
      "97\n"
     ]
    },
    {
     "name": "stderr",
     "output_type": "stream",
     "text": [
      "C:\\Users\\Hammozi\\AppData\\Local\\Temp\\ipykernel_33060\\472698487.py:7: FutureWarning: The frame.append method is deprecated and will be removed from pandas in a future version. Use pandas.concat instead.\n",
      "  test_t = test_t.append(bottom_transac)\n",
      "C:\\Users\\Hammozi\\AppData\\Local\\Temp\\ipykernel_33060\\472698487.py:7: FutureWarning: The frame.append method is deprecated and will be removed from pandas in a future version. Use pandas.concat instead.\n",
      "  test_t = test_t.append(bottom_transac)\n",
      "C:\\Users\\Hammozi\\AppData\\Local\\Temp\\ipykernel_33060\\472698487.py:7: FutureWarning: The frame.append method is deprecated and will be removed from pandas in a future version. Use pandas.concat instead.\n",
      "  test_t = test_t.append(bottom_transac)\n"
     ]
    },
    {
     "name": "stdout",
     "output_type": "stream",
     "text": [
      "98\n",
      "99\n",
      "100\n",
      "101\n"
     ]
    },
    {
     "name": "stderr",
     "output_type": "stream",
     "text": [
      "C:\\Users\\Hammozi\\AppData\\Local\\Temp\\ipykernel_33060\\472698487.py:7: FutureWarning: The frame.append method is deprecated and will be removed from pandas in a future version. Use pandas.concat instead.\n",
      "  test_t = test_t.append(bottom_transac)\n",
      "C:\\Users\\Hammozi\\AppData\\Local\\Temp\\ipykernel_33060\\472698487.py:7: FutureWarning: The frame.append method is deprecated and will be removed from pandas in a future version. Use pandas.concat instead.\n",
      "  test_t = test_t.append(bottom_transac)\n",
      "C:\\Users\\Hammozi\\AppData\\Local\\Temp\\ipykernel_33060\\472698487.py:7: FutureWarning: The frame.append method is deprecated and will be removed from pandas in a future version. Use pandas.concat instead.\n",
      "  test_t = test_t.append(bottom_transac)\n",
      "C:\\Users\\Hammozi\\AppData\\Local\\Temp\\ipykernel_33060\\472698487.py:7: FutureWarning: The frame.append method is deprecated and will be removed from pandas in a future version. Use pandas.concat instead.\n",
      "  test_t = test_t.append(bottom_transac)\n",
      "C:\\Users\\Hammozi\\AppData\\Local\\Temp\\ipykernel_33060\\472698487.py:7: FutureWarning: The frame.append method is deprecated and will be removed from pandas in a future version. Use pandas.concat instead.\n",
      "  test_t = test_t.append(bottom_transac)\n",
      "C:\\Users\\Hammozi\\AppData\\Local\\Temp\\ipykernel_33060\\472698487.py:7: FutureWarning: The frame.append method is deprecated and will be removed from pandas in a future version. Use pandas.concat instead.\n",
      "  test_t = test_t.append(bottom_transac)\n"
     ]
    },
    {
     "name": "stdout",
     "output_type": "stream",
     "text": [
      "102\n",
      "103\n",
      "104\n"
     ]
    },
    {
     "name": "stderr",
     "output_type": "stream",
     "text": [
      "C:\\Users\\Hammozi\\AppData\\Local\\Temp\\ipykernel_33060\\472698487.py:7: FutureWarning: The frame.append method is deprecated and will be removed from pandas in a future version. Use pandas.concat instead.\n",
      "  test_t = test_t.append(bottom_transac)\n",
      "C:\\Users\\Hammozi\\AppData\\Local\\Temp\\ipykernel_33060\\472698487.py:7: FutureWarning: The frame.append method is deprecated and will be removed from pandas in a future version. Use pandas.concat instead.\n",
      "  test_t = test_t.append(bottom_transac)\n",
      "C:\\Users\\Hammozi\\AppData\\Local\\Temp\\ipykernel_33060\\472698487.py:7: FutureWarning: The frame.append method is deprecated and will be removed from pandas in a future version. Use pandas.concat instead.\n",
      "  test_t = test_t.append(bottom_transac)\n"
     ]
    },
    {
     "name": "stdout",
     "output_type": "stream",
     "text": [
      "105\n",
      "106\n",
      "107\n"
     ]
    },
    {
     "name": "stderr",
     "output_type": "stream",
     "text": [
      "C:\\Users\\Hammozi\\AppData\\Local\\Temp\\ipykernel_33060\\472698487.py:7: FutureWarning: The frame.append method is deprecated and will be removed from pandas in a future version. Use pandas.concat instead.\n",
      "  test_t = test_t.append(bottom_transac)\n",
      "C:\\Users\\Hammozi\\AppData\\Local\\Temp\\ipykernel_33060\\472698487.py:7: FutureWarning: The frame.append method is deprecated and will be removed from pandas in a future version. Use pandas.concat instead.\n",
      "  test_t = test_t.append(bottom_transac)\n",
      "C:\\Users\\Hammozi\\AppData\\Local\\Temp\\ipykernel_33060\\472698487.py:7: FutureWarning: The frame.append method is deprecated and will be removed from pandas in a future version. Use pandas.concat instead.\n",
      "  test_t = test_t.append(bottom_transac)\n"
     ]
    },
    {
     "name": "stdout",
     "output_type": "stream",
     "text": [
      "108\n",
      "109\n",
      "110\n",
      "111\n"
     ]
    },
    {
     "name": "stderr",
     "output_type": "stream",
     "text": [
      "C:\\Users\\Hammozi\\AppData\\Local\\Temp\\ipykernel_33060\\472698487.py:7: FutureWarning: The frame.append method is deprecated and will be removed from pandas in a future version. Use pandas.concat instead.\n",
      "  test_t = test_t.append(bottom_transac)\n",
      "C:\\Users\\Hammozi\\AppData\\Local\\Temp\\ipykernel_33060\\472698487.py:7: FutureWarning: The frame.append method is deprecated and will be removed from pandas in a future version. Use pandas.concat instead.\n",
      "  test_t = test_t.append(bottom_transac)\n",
      "C:\\Users\\Hammozi\\AppData\\Local\\Temp\\ipykernel_33060\\472698487.py:7: FutureWarning: The frame.append method is deprecated and will be removed from pandas in a future version. Use pandas.concat instead.\n",
      "  test_t = test_t.append(bottom_transac)\n"
     ]
    },
    {
     "name": "stdout",
     "output_type": "stream",
     "text": [
      "112\n",
      "113\n",
      "114\n"
     ]
    },
    {
     "name": "stderr",
     "output_type": "stream",
     "text": [
      "C:\\Users\\Hammozi\\AppData\\Local\\Temp\\ipykernel_33060\\472698487.py:7: FutureWarning: The frame.append method is deprecated and will be removed from pandas in a future version. Use pandas.concat instead.\n",
      "  test_t = test_t.append(bottom_transac)\n",
      "C:\\Users\\Hammozi\\AppData\\Local\\Temp\\ipykernel_33060\\472698487.py:7: FutureWarning: The frame.append method is deprecated and will be removed from pandas in a future version. Use pandas.concat instead.\n",
      "  test_t = test_t.append(bottom_transac)\n",
      "C:\\Users\\Hammozi\\AppData\\Local\\Temp\\ipykernel_33060\\472698487.py:7: FutureWarning: The frame.append method is deprecated and will be removed from pandas in a future version. Use pandas.concat instead.\n",
      "  test_t = test_t.append(bottom_transac)\n"
     ]
    },
    {
     "name": "stdout",
     "output_type": "stream",
     "text": [
      "115\n",
      "116\n",
      "117\n"
     ]
    },
    {
     "name": "stderr",
     "output_type": "stream",
     "text": [
      "C:\\Users\\Hammozi\\AppData\\Local\\Temp\\ipykernel_33060\\472698487.py:7: FutureWarning: The frame.append method is deprecated and will be removed from pandas in a future version. Use pandas.concat instead.\n",
      "  test_t = test_t.append(bottom_transac)\n",
      "C:\\Users\\Hammozi\\AppData\\Local\\Temp\\ipykernel_33060\\472698487.py:7: FutureWarning: The frame.append method is deprecated and will be removed from pandas in a future version. Use pandas.concat instead.\n",
      "  test_t = test_t.append(bottom_transac)\n",
      "C:\\Users\\Hammozi\\AppData\\Local\\Temp\\ipykernel_33060\\472698487.py:7: FutureWarning: The frame.append method is deprecated and will be removed from pandas in a future version. Use pandas.concat instead.\n",
      "  test_t = test_t.append(bottom_transac)\n"
     ]
    },
    {
     "name": "stdout",
     "output_type": "stream",
     "text": [
      "118\n",
      "119\n",
      "120\n",
      "121\n"
     ]
    },
    {
     "name": "stderr",
     "output_type": "stream",
     "text": [
      "C:\\Users\\Hammozi\\AppData\\Local\\Temp\\ipykernel_33060\\472698487.py:7: FutureWarning: The frame.append method is deprecated and will be removed from pandas in a future version. Use pandas.concat instead.\n",
      "  test_t = test_t.append(bottom_transac)\n",
      "C:\\Users\\Hammozi\\AppData\\Local\\Temp\\ipykernel_33060\\472698487.py:7: FutureWarning: The frame.append method is deprecated and will be removed from pandas in a future version. Use pandas.concat instead.\n",
      "  test_t = test_t.append(bottom_transac)\n",
      "C:\\Users\\Hammozi\\AppData\\Local\\Temp\\ipykernel_33060\\472698487.py:7: FutureWarning: The frame.append method is deprecated and will be removed from pandas in a future version. Use pandas.concat instead.\n",
      "  test_t = test_t.append(bottom_transac)\n"
     ]
    },
    {
     "name": "stdout",
     "output_type": "stream",
     "text": [
      "122\n",
      "123\n",
      "124\n"
     ]
    },
    {
     "name": "stderr",
     "output_type": "stream",
     "text": [
      "C:\\Users\\Hammozi\\AppData\\Local\\Temp\\ipykernel_33060\\472698487.py:7: FutureWarning: The frame.append method is deprecated and will be removed from pandas in a future version. Use pandas.concat instead.\n",
      "  test_t = test_t.append(bottom_transac)\n",
      "C:\\Users\\Hammozi\\AppData\\Local\\Temp\\ipykernel_33060\\472698487.py:7: FutureWarning: The frame.append method is deprecated and will be removed from pandas in a future version. Use pandas.concat instead.\n",
      "  test_t = test_t.append(bottom_transac)\n",
      "C:\\Users\\Hammozi\\AppData\\Local\\Temp\\ipykernel_33060\\472698487.py:7: FutureWarning: The frame.append method is deprecated and will be removed from pandas in a future version. Use pandas.concat instead.\n",
      "  test_t = test_t.append(bottom_transac)\n"
     ]
    },
    {
     "name": "stdout",
     "output_type": "stream",
     "text": [
      "125\n",
      "126\n",
      "127\n"
     ]
    },
    {
     "name": "stderr",
     "output_type": "stream",
     "text": [
      "C:\\Users\\Hammozi\\AppData\\Local\\Temp\\ipykernel_33060\\472698487.py:7: FutureWarning: The frame.append method is deprecated and will be removed from pandas in a future version. Use pandas.concat instead.\n",
      "  test_t = test_t.append(bottom_transac)\n",
      "C:\\Users\\Hammozi\\AppData\\Local\\Temp\\ipykernel_33060\\472698487.py:7: FutureWarning: The frame.append method is deprecated and will be removed from pandas in a future version. Use pandas.concat instead.\n",
      "  test_t = test_t.append(bottom_transac)\n",
      "C:\\Users\\Hammozi\\AppData\\Local\\Temp\\ipykernel_33060\\472698487.py:7: FutureWarning: The frame.append method is deprecated and will be removed from pandas in a future version. Use pandas.concat instead.\n",
      "  test_t = test_t.append(bottom_transac)\n"
     ]
    },
    {
     "name": "stdout",
     "output_type": "stream",
     "text": [
      "128\n",
      "129\n",
      "130\n",
      "131\n"
     ]
    },
    {
     "name": "stderr",
     "output_type": "stream",
     "text": [
      "C:\\Users\\Hammozi\\AppData\\Local\\Temp\\ipykernel_33060\\472698487.py:7: FutureWarning: The frame.append method is deprecated and will be removed from pandas in a future version. Use pandas.concat instead.\n",
      "  test_t = test_t.append(bottom_transac)\n",
      "C:\\Users\\Hammozi\\AppData\\Local\\Temp\\ipykernel_33060\\472698487.py:7: FutureWarning: The frame.append method is deprecated and will be removed from pandas in a future version. Use pandas.concat instead.\n",
      "  test_t = test_t.append(bottom_transac)\n",
      "C:\\Users\\Hammozi\\AppData\\Local\\Temp\\ipykernel_33060\\472698487.py:7: FutureWarning: The frame.append method is deprecated and will be removed from pandas in a future version. Use pandas.concat instead.\n",
      "  test_t = test_t.append(bottom_transac)\n",
      "C:\\Users\\Hammozi\\AppData\\Local\\Temp\\ipykernel_33060\\472698487.py:7: FutureWarning: The frame.append method is deprecated and will be removed from pandas in a future version. Use pandas.concat instead.\n",
      "  test_t = test_t.append(bottom_transac)\n",
      "C:\\Users\\Hammozi\\AppData\\Local\\Temp\\ipykernel_33060\\472698487.py:7: FutureWarning: The frame.append method is deprecated and will be removed from pandas in a future version. Use pandas.concat instead.\n",
      "  test_t = test_t.append(bottom_transac)\n",
      "C:\\Users\\Hammozi\\AppData\\Local\\Temp\\ipykernel_33060\\472698487.py:7: FutureWarning: The frame.append method is deprecated and will be removed from pandas in a future version. Use pandas.concat instead.\n",
      "  test_t = test_t.append(bottom_transac)\n"
     ]
    },
    {
     "name": "stdout",
     "output_type": "stream",
     "text": [
      "132\n",
      "133\n",
      "134\n"
     ]
    },
    {
     "name": "stderr",
     "output_type": "stream",
     "text": [
      "C:\\Users\\Hammozi\\AppData\\Local\\Temp\\ipykernel_33060\\472698487.py:7: FutureWarning: The frame.append method is deprecated and will be removed from pandas in a future version. Use pandas.concat instead.\n",
      "  test_t = test_t.append(bottom_transac)\n",
      "C:\\Users\\Hammozi\\AppData\\Local\\Temp\\ipykernel_33060\\472698487.py:7: FutureWarning: The frame.append method is deprecated and will be removed from pandas in a future version. Use pandas.concat instead.\n",
      "  test_t = test_t.append(bottom_transac)\n",
      "C:\\Users\\Hammozi\\AppData\\Local\\Temp\\ipykernel_33060\\472698487.py:7: FutureWarning: The frame.append method is deprecated and will be removed from pandas in a future version. Use pandas.concat instead.\n",
      "  test_t = test_t.append(bottom_transac)\n"
     ]
    },
    {
     "name": "stdout",
     "output_type": "stream",
     "text": [
      "135\n",
      "136\n",
      "137\n"
     ]
    },
    {
     "name": "stderr",
     "output_type": "stream",
     "text": [
      "C:\\Users\\Hammozi\\AppData\\Local\\Temp\\ipykernel_33060\\472698487.py:7: FutureWarning: The frame.append method is deprecated and will be removed from pandas in a future version. Use pandas.concat instead.\n",
      "  test_t = test_t.append(bottom_transac)\n",
      "C:\\Users\\Hammozi\\AppData\\Local\\Temp\\ipykernel_33060\\472698487.py:7: FutureWarning: The frame.append method is deprecated and will be removed from pandas in a future version. Use pandas.concat instead.\n",
      "  test_t = test_t.append(bottom_transac)\n",
      "C:\\Users\\Hammozi\\AppData\\Local\\Temp\\ipykernel_33060\\472698487.py:7: FutureWarning: The frame.append method is deprecated and will be removed from pandas in a future version. Use pandas.concat instead.\n",
      "  test_t = test_t.append(bottom_transac)\n"
     ]
    },
    {
     "name": "stdout",
     "output_type": "stream",
     "text": [
      "138\n",
      "139\n",
      "140\n"
     ]
    },
    {
     "name": "stderr",
     "output_type": "stream",
     "text": [
      "C:\\Users\\Hammozi\\AppData\\Local\\Temp\\ipykernel_33060\\472698487.py:7: FutureWarning: The frame.append method is deprecated and will be removed from pandas in a future version. Use pandas.concat instead.\n",
      "  test_t = test_t.append(bottom_transac)\n",
      "C:\\Users\\Hammozi\\AppData\\Local\\Temp\\ipykernel_33060\\472698487.py:7: FutureWarning: The frame.append method is deprecated and will be removed from pandas in a future version. Use pandas.concat instead.\n",
      "  test_t = test_t.append(bottom_transac)\n",
      "C:\\Users\\Hammozi\\AppData\\Local\\Temp\\ipykernel_33060\\472698487.py:7: FutureWarning: The frame.append method is deprecated and will be removed from pandas in a future version. Use pandas.concat instead.\n",
      "  test_t = test_t.append(bottom_transac)\n"
     ]
    },
    {
     "name": "stdout",
     "output_type": "stream",
     "text": [
      "141\n",
      "142\n",
      "143\n"
     ]
    },
    {
     "name": "stderr",
     "output_type": "stream",
     "text": [
      "C:\\Users\\Hammozi\\AppData\\Local\\Temp\\ipykernel_33060\\472698487.py:7: FutureWarning: The frame.append method is deprecated and will be removed from pandas in a future version. Use pandas.concat instead.\n",
      "  test_t = test_t.append(bottom_transac)\n",
      "C:\\Users\\Hammozi\\AppData\\Local\\Temp\\ipykernel_33060\\472698487.py:7: FutureWarning: The frame.append method is deprecated and will be removed from pandas in a future version. Use pandas.concat instead.\n",
      "  test_t = test_t.append(bottom_transac)\n",
      "C:\\Users\\Hammozi\\AppData\\Local\\Temp\\ipykernel_33060\\472698487.py:7: FutureWarning: The frame.append method is deprecated and will be removed from pandas in a future version. Use pandas.concat instead.\n",
      "  test_t = test_t.append(bottom_transac)\n"
     ]
    },
    {
     "name": "stdout",
     "output_type": "stream",
     "text": [
      "144\n",
      "145\n",
      "146\n"
     ]
    },
    {
     "name": "stderr",
     "output_type": "stream",
     "text": [
      "C:\\Users\\Hammozi\\AppData\\Local\\Temp\\ipykernel_33060\\472698487.py:7: FutureWarning: The frame.append method is deprecated and will be removed from pandas in a future version. Use pandas.concat instead.\n",
      "  test_t = test_t.append(bottom_transac)\n",
      "C:\\Users\\Hammozi\\AppData\\Local\\Temp\\ipykernel_33060\\472698487.py:7: FutureWarning: The frame.append method is deprecated and will be removed from pandas in a future version. Use pandas.concat instead.\n",
      "  test_t = test_t.append(bottom_transac)\n",
      "C:\\Users\\Hammozi\\AppData\\Local\\Temp\\ipykernel_33060\\472698487.py:7: FutureWarning: The frame.append method is deprecated and will be removed from pandas in a future version. Use pandas.concat instead.\n",
      "  test_t = test_t.append(bottom_transac)\n"
     ]
    },
    {
     "name": "stdout",
     "output_type": "stream",
     "text": [
      "147\n",
      "148\n",
      "149\n"
     ]
    },
    {
     "name": "stderr",
     "output_type": "stream",
     "text": [
      "C:\\Users\\Hammozi\\AppData\\Local\\Temp\\ipykernel_33060\\472698487.py:7: FutureWarning: The frame.append method is deprecated and will be removed from pandas in a future version. Use pandas.concat instead.\n",
      "  test_t = test_t.append(bottom_transac)\n",
      "C:\\Users\\Hammozi\\AppData\\Local\\Temp\\ipykernel_33060\\472698487.py:7: FutureWarning: The frame.append method is deprecated and will be removed from pandas in a future version. Use pandas.concat instead.\n",
      "  test_t = test_t.append(bottom_transac)\n",
      "C:\\Users\\Hammozi\\AppData\\Local\\Temp\\ipykernel_33060\\472698487.py:7: FutureWarning: The frame.append method is deprecated and will be removed from pandas in a future version. Use pandas.concat instead.\n",
      "  test_t = test_t.append(bottom_transac)\n"
     ]
    },
    {
     "name": "stdout",
     "output_type": "stream",
     "text": [
      "150\n",
      "151\n",
      "152\n",
      "153\n"
     ]
    },
    {
     "name": "stderr",
     "output_type": "stream",
     "text": [
      "C:\\Users\\Hammozi\\AppData\\Local\\Temp\\ipykernel_33060\\472698487.py:7: FutureWarning: The frame.append method is deprecated and will be removed from pandas in a future version. Use pandas.concat instead.\n",
      "  test_t = test_t.append(bottom_transac)\n",
      "C:\\Users\\Hammozi\\AppData\\Local\\Temp\\ipykernel_33060\\472698487.py:7: FutureWarning: The frame.append method is deprecated and will be removed from pandas in a future version. Use pandas.concat instead.\n",
      "  test_t = test_t.append(bottom_transac)\n",
      "C:\\Users\\Hammozi\\AppData\\Local\\Temp\\ipykernel_33060\\472698487.py:7: FutureWarning: The frame.append method is deprecated and will be removed from pandas in a future version. Use pandas.concat instead.\n",
      "  test_t = test_t.append(bottom_transac)\n"
     ]
    },
    {
     "name": "stdout",
     "output_type": "stream",
     "text": [
      "154\n",
      "155\n",
      "156\n"
     ]
    },
    {
     "name": "stderr",
     "output_type": "stream",
     "text": [
      "C:\\Users\\Hammozi\\AppData\\Local\\Temp\\ipykernel_33060\\472698487.py:7: FutureWarning: The frame.append method is deprecated and will be removed from pandas in a future version. Use pandas.concat instead.\n",
      "  test_t = test_t.append(bottom_transac)\n",
      "C:\\Users\\Hammozi\\AppData\\Local\\Temp\\ipykernel_33060\\472698487.py:7: FutureWarning: The frame.append method is deprecated and will be removed from pandas in a future version. Use pandas.concat instead.\n",
      "  test_t = test_t.append(bottom_transac)\n",
      "C:\\Users\\Hammozi\\AppData\\Local\\Temp\\ipykernel_33060\\472698487.py:7: FutureWarning: The frame.append method is deprecated and will be removed from pandas in a future version. Use pandas.concat instead.\n",
      "  test_t = test_t.append(bottom_transac)\n"
     ]
    },
    {
     "name": "stdout",
     "output_type": "stream",
     "text": [
      "157\n",
      "158\n",
      "159\n"
     ]
    },
    {
     "name": "stderr",
     "output_type": "stream",
     "text": [
      "C:\\Users\\Hammozi\\AppData\\Local\\Temp\\ipykernel_33060\\472698487.py:7: FutureWarning: The frame.append method is deprecated and will be removed from pandas in a future version. Use pandas.concat instead.\n",
      "  test_t = test_t.append(bottom_transac)\n",
      "C:\\Users\\Hammozi\\AppData\\Local\\Temp\\ipykernel_33060\\472698487.py:7: FutureWarning: The frame.append method is deprecated and will be removed from pandas in a future version. Use pandas.concat instead.\n",
      "  test_t = test_t.append(bottom_transac)\n",
      "C:\\Users\\Hammozi\\AppData\\Local\\Temp\\ipykernel_33060\\472698487.py:7: FutureWarning: The frame.append method is deprecated and will be removed from pandas in a future version. Use pandas.concat instead.\n",
      "  test_t = test_t.append(bottom_transac)\n"
     ]
    },
    {
     "name": "stdout",
     "output_type": "stream",
     "text": [
      "160\n",
      "161\n",
      "162\n"
     ]
    },
    {
     "name": "stderr",
     "output_type": "stream",
     "text": [
      "C:\\Users\\Hammozi\\AppData\\Local\\Temp\\ipykernel_33060\\472698487.py:7: FutureWarning: The frame.append method is deprecated and will be removed from pandas in a future version. Use pandas.concat instead.\n",
      "  test_t = test_t.append(bottom_transac)\n",
      "C:\\Users\\Hammozi\\AppData\\Local\\Temp\\ipykernel_33060\\472698487.py:7: FutureWarning: The frame.append method is deprecated and will be removed from pandas in a future version. Use pandas.concat instead.\n",
      "  test_t = test_t.append(bottom_transac)\n",
      "C:\\Users\\Hammozi\\AppData\\Local\\Temp\\ipykernel_33060\\472698487.py:7: FutureWarning: The frame.append method is deprecated and will be removed from pandas in a future version. Use pandas.concat instead.\n",
      "  test_t = test_t.append(bottom_transac)\n"
     ]
    },
    {
     "name": "stdout",
     "output_type": "stream",
     "text": [
      "163\n",
      "164\n",
      "165\n"
     ]
    },
    {
     "name": "stderr",
     "output_type": "stream",
     "text": [
      "C:\\Users\\Hammozi\\AppData\\Local\\Temp\\ipykernel_33060\\472698487.py:7: FutureWarning: The frame.append method is deprecated and will be removed from pandas in a future version. Use pandas.concat instead.\n",
      "  test_t = test_t.append(bottom_transac)\n",
      "C:\\Users\\Hammozi\\AppData\\Local\\Temp\\ipykernel_33060\\472698487.py:7: FutureWarning: The frame.append method is deprecated and will be removed from pandas in a future version. Use pandas.concat instead.\n",
      "  test_t = test_t.append(bottom_transac)\n",
      "C:\\Users\\Hammozi\\AppData\\Local\\Temp\\ipykernel_33060\\472698487.py:7: FutureWarning: The frame.append method is deprecated and will be removed from pandas in a future version. Use pandas.concat instead.\n",
      "  test_t = test_t.append(bottom_transac)\n"
     ]
    },
    {
     "name": "stdout",
     "output_type": "stream",
     "text": [
      "166\n",
      "167\n",
      "168\n",
      "169\n"
     ]
    },
    {
     "name": "stderr",
     "output_type": "stream",
     "text": [
      "C:\\Users\\Hammozi\\AppData\\Local\\Temp\\ipykernel_33060\\472698487.py:7: FutureWarning: The frame.append method is deprecated and will be removed from pandas in a future version. Use pandas.concat instead.\n",
      "  test_t = test_t.append(bottom_transac)\n",
      "C:\\Users\\Hammozi\\AppData\\Local\\Temp\\ipykernel_33060\\472698487.py:7: FutureWarning: The frame.append method is deprecated and will be removed from pandas in a future version. Use pandas.concat instead.\n",
      "  test_t = test_t.append(bottom_transac)\n",
      "C:\\Users\\Hammozi\\AppData\\Local\\Temp\\ipykernel_33060\\472698487.py:7: FutureWarning: The frame.append method is deprecated and will be removed from pandas in a future version. Use pandas.concat instead.\n",
      "  test_t = test_t.append(bottom_transac)\n"
     ]
    },
    {
     "name": "stdout",
     "output_type": "stream",
     "text": [
      "170\n",
      "171\n",
      "172\n",
      "173\n"
     ]
    },
    {
     "name": "stderr",
     "output_type": "stream",
     "text": [
      "C:\\Users\\Hammozi\\AppData\\Local\\Temp\\ipykernel_33060\\472698487.py:7: FutureWarning: The frame.append method is deprecated and will be removed from pandas in a future version. Use pandas.concat instead.\n",
      "  test_t = test_t.append(bottom_transac)\n",
      "C:\\Users\\Hammozi\\AppData\\Local\\Temp\\ipykernel_33060\\472698487.py:7: FutureWarning: The frame.append method is deprecated and will be removed from pandas in a future version. Use pandas.concat instead.\n",
      "  test_t = test_t.append(bottom_transac)\n",
      "C:\\Users\\Hammozi\\AppData\\Local\\Temp\\ipykernel_33060\\472698487.py:7: FutureWarning: The frame.append method is deprecated and will be removed from pandas in a future version. Use pandas.concat instead.\n",
      "  test_t = test_t.append(bottom_transac)\n",
      "C:\\Users\\Hammozi\\AppData\\Local\\Temp\\ipykernel_33060\\472698487.py:7: FutureWarning: The frame.append method is deprecated and will be removed from pandas in a future version. Use pandas.concat instead.\n",
      "  test_t = test_t.append(bottom_transac)\n",
      "C:\\Users\\Hammozi\\AppData\\Local\\Temp\\ipykernel_33060\\472698487.py:7: FutureWarning: The frame.append method is deprecated and will be removed from pandas in a future version. Use pandas.concat instead.\n",
      "  test_t = test_t.append(bottom_transac)\n",
      "C:\\Users\\Hammozi\\AppData\\Local\\Temp\\ipykernel_33060\\472698487.py:7: FutureWarning: The frame.append method is deprecated and will be removed from pandas in a future version. Use pandas.concat instead.\n",
      "  test_t = test_t.append(bottom_transac)\n"
     ]
    },
    {
     "name": "stdout",
     "output_type": "stream",
     "text": [
      "174\n",
      "175\n",
      "176\n"
     ]
    },
    {
     "name": "stderr",
     "output_type": "stream",
     "text": [
      "C:\\Users\\Hammozi\\AppData\\Local\\Temp\\ipykernel_33060\\472698487.py:7: FutureWarning: The frame.append method is deprecated and will be removed from pandas in a future version. Use pandas.concat instead.\n",
      "  test_t = test_t.append(bottom_transac)\n",
      "C:\\Users\\Hammozi\\AppData\\Local\\Temp\\ipykernel_33060\\472698487.py:7: FutureWarning: The frame.append method is deprecated and will be removed from pandas in a future version. Use pandas.concat instead.\n",
      "  test_t = test_t.append(bottom_transac)\n",
      "C:\\Users\\Hammozi\\AppData\\Local\\Temp\\ipykernel_33060\\472698487.py:7: FutureWarning: The frame.append method is deprecated and will be removed from pandas in a future version. Use pandas.concat instead.\n",
      "  test_t = test_t.append(bottom_transac)\n"
     ]
    },
    {
     "name": "stdout",
     "output_type": "stream",
     "text": [
      "177\n",
      "178\n",
      "179\n"
     ]
    },
    {
     "name": "stderr",
     "output_type": "stream",
     "text": [
      "C:\\Users\\Hammozi\\AppData\\Local\\Temp\\ipykernel_33060\\472698487.py:7: FutureWarning: The frame.append method is deprecated and will be removed from pandas in a future version. Use pandas.concat instead.\n",
      "  test_t = test_t.append(bottom_transac)\n",
      "C:\\Users\\Hammozi\\AppData\\Local\\Temp\\ipykernel_33060\\472698487.py:7: FutureWarning: The frame.append method is deprecated and will be removed from pandas in a future version. Use pandas.concat instead.\n",
      "  test_t = test_t.append(bottom_transac)\n",
      "C:\\Users\\Hammozi\\AppData\\Local\\Temp\\ipykernel_33060\\472698487.py:7: FutureWarning: The frame.append method is deprecated and will be removed from pandas in a future version. Use pandas.concat instead.\n",
      "  test_t = test_t.append(bottom_transac)\n"
     ]
    },
    {
     "name": "stdout",
     "output_type": "stream",
     "text": [
      "180\n",
      "181\n",
      "182\n"
     ]
    },
    {
     "name": "stderr",
     "output_type": "stream",
     "text": [
      "C:\\Users\\Hammozi\\AppData\\Local\\Temp\\ipykernel_33060\\472698487.py:7: FutureWarning: The frame.append method is deprecated and will be removed from pandas in a future version. Use pandas.concat instead.\n",
      "  test_t = test_t.append(bottom_transac)\n",
      "C:\\Users\\Hammozi\\AppData\\Local\\Temp\\ipykernel_33060\\472698487.py:7: FutureWarning: The frame.append method is deprecated and will be removed from pandas in a future version. Use pandas.concat instead.\n",
      "  test_t = test_t.append(bottom_transac)\n",
      "C:\\Users\\Hammozi\\AppData\\Local\\Temp\\ipykernel_33060\\472698487.py:7: FutureWarning: The frame.append method is deprecated and will be removed from pandas in a future version. Use pandas.concat instead.\n",
      "  test_t = test_t.append(bottom_transac)\n"
     ]
    },
    {
     "name": "stdout",
     "output_type": "stream",
     "text": [
      "183\n",
      "184\n",
      "185\n",
      "186\n"
     ]
    },
    {
     "name": "stderr",
     "output_type": "stream",
     "text": [
      "C:\\Users\\Hammozi\\AppData\\Local\\Temp\\ipykernel_33060\\472698487.py:7: FutureWarning: The frame.append method is deprecated and will be removed from pandas in a future version. Use pandas.concat instead.\n",
      "  test_t = test_t.append(bottom_transac)\n",
      "C:\\Users\\Hammozi\\AppData\\Local\\Temp\\ipykernel_33060\\472698487.py:7: FutureWarning: The frame.append method is deprecated and will be removed from pandas in a future version. Use pandas.concat instead.\n",
      "  test_t = test_t.append(bottom_transac)\n",
      "C:\\Users\\Hammozi\\AppData\\Local\\Temp\\ipykernel_33060\\472698487.py:7: FutureWarning: The frame.append method is deprecated and will be removed from pandas in a future version. Use pandas.concat instead.\n",
      "  test_t = test_t.append(bottom_transac)\n"
     ]
    },
    {
     "name": "stdout",
     "output_type": "stream",
     "text": [
      "187\n",
      "188\n",
      "189\n"
     ]
    },
    {
     "name": "stderr",
     "output_type": "stream",
     "text": [
      "C:\\Users\\Hammozi\\AppData\\Local\\Temp\\ipykernel_33060\\472698487.py:7: FutureWarning: The frame.append method is deprecated and will be removed from pandas in a future version. Use pandas.concat instead.\n",
      "  test_t = test_t.append(bottom_transac)\n",
      "C:\\Users\\Hammozi\\AppData\\Local\\Temp\\ipykernel_33060\\472698487.py:7: FutureWarning: The frame.append method is deprecated and will be removed from pandas in a future version. Use pandas.concat instead.\n",
      "  test_t = test_t.append(bottom_transac)\n",
      "C:\\Users\\Hammozi\\AppData\\Local\\Temp\\ipykernel_33060\\472698487.py:7: FutureWarning: The frame.append method is deprecated and will be removed from pandas in a future version. Use pandas.concat instead.\n",
      "  test_t = test_t.append(bottom_transac)\n"
     ]
    },
    {
     "name": "stdout",
     "output_type": "stream",
     "text": [
      "190\n",
      "191\n",
      "192\n"
     ]
    },
    {
     "name": "stderr",
     "output_type": "stream",
     "text": [
      "C:\\Users\\Hammozi\\AppData\\Local\\Temp\\ipykernel_33060\\472698487.py:7: FutureWarning: The frame.append method is deprecated and will be removed from pandas in a future version. Use pandas.concat instead.\n",
      "  test_t = test_t.append(bottom_transac)\n",
      "C:\\Users\\Hammozi\\AppData\\Local\\Temp\\ipykernel_33060\\472698487.py:7: FutureWarning: The frame.append method is deprecated and will be removed from pandas in a future version. Use pandas.concat instead.\n",
      "  test_t = test_t.append(bottom_transac)\n",
      "C:\\Users\\Hammozi\\AppData\\Local\\Temp\\ipykernel_33060\\472698487.py:7: FutureWarning: The frame.append method is deprecated and will be removed from pandas in a future version. Use pandas.concat instead.\n",
      "  test_t = test_t.append(bottom_transac)\n"
     ]
    },
    {
     "name": "stdout",
     "output_type": "stream",
     "text": [
      "193\n",
      "194\n",
      "195\n"
     ]
    },
    {
     "name": "stderr",
     "output_type": "stream",
     "text": [
      "C:\\Users\\Hammozi\\AppData\\Local\\Temp\\ipykernel_33060\\472698487.py:7: FutureWarning: The frame.append method is deprecated and will be removed from pandas in a future version. Use pandas.concat instead.\n",
      "  test_t = test_t.append(bottom_transac)\n",
      "C:\\Users\\Hammozi\\AppData\\Local\\Temp\\ipykernel_33060\\472698487.py:7: FutureWarning: The frame.append method is deprecated and will be removed from pandas in a future version. Use pandas.concat instead.\n",
      "  test_t = test_t.append(bottom_transac)\n",
      "C:\\Users\\Hammozi\\AppData\\Local\\Temp\\ipykernel_33060\\472698487.py:7: FutureWarning: The frame.append method is deprecated and will be removed from pandas in a future version. Use pandas.concat instead.\n",
      "  test_t = test_t.append(bottom_transac)\n"
     ]
    },
    {
     "name": "stdout",
     "output_type": "stream",
     "text": [
      "196\n",
      "197\n",
      "198\n",
      "199\n"
     ]
    },
    {
     "name": "stderr",
     "output_type": "stream",
     "text": [
      "C:\\Users\\Hammozi\\AppData\\Local\\Temp\\ipykernel_33060\\472698487.py:7: FutureWarning: The frame.append method is deprecated and will be removed from pandas in a future version. Use pandas.concat instead.\n",
      "  test_t = test_t.append(bottom_transac)\n",
      "C:\\Users\\Hammozi\\AppData\\Local\\Temp\\ipykernel_33060\\472698487.py:7: FutureWarning: The frame.append method is deprecated and will be removed from pandas in a future version. Use pandas.concat instead.\n",
      "  test_t = test_t.append(bottom_transac)\n",
      "C:\\Users\\Hammozi\\AppData\\Local\\Temp\\ipykernel_33060\\472698487.py:7: FutureWarning: The frame.append method is deprecated and will be removed from pandas in a future version. Use pandas.concat instead.\n",
      "  test_t = test_t.append(bottom_transac)\n"
     ]
    },
    {
     "name": "stdout",
     "output_type": "stream",
     "text": [
      "200\n",
      "201\n",
      "202\n"
     ]
    },
    {
     "name": "stderr",
     "output_type": "stream",
     "text": [
      "C:\\Users\\Hammozi\\AppData\\Local\\Temp\\ipykernel_33060\\472698487.py:7: FutureWarning: The frame.append method is deprecated and will be removed from pandas in a future version. Use pandas.concat instead.\n",
      "  test_t = test_t.append(bottom_transac)\n",
      "C:\\Users\\Hammozi\\AppData\\Local\\Temp\\ipykernel_33060\\472698487.py:7: FutureWarning: The frame.append method is deprecated and will be removed from pandas in a future version. Use pandas.concat instead.\n",
      "  test_t = test_t.append(bottom_transac)\n",
      "C:\\Users\\Hammozi\\AppData\\Local\\Temp\\ipykernel_33060\\472698487.py:7: FutureWarning: The frame.append method is deprecated and will be removed from pandas in a future version. Use pandas.concat instead.\n",
      "  test_t = test_t.append(bottom_transac)\n"
     ]
    },
    {
     "name": "stdout",
     "output_type": "stream",
     "text": [
      "203\n",
      "204\n",
      "205\n"
     ]
    },
    {
     "name": "stderr",
     "output_type": "stream",
     "text": [
      "C:\\Users\\Hammozi\\AppData\\Local\\Temp\\ipykernel_33060\\472698487.py:7: FutureWarning: The frame.append method is deprecated and will be removed from pandas in a future version. Use pandas.concat instead.\n",
      "  test_t = test_t.append(bottom_transac)\n",
      "C:\\Users\\Hammozi\\AppData\\Local\\Temp\\ipykernel_33060\\472698487.py:7: FutureWarning: The frame.append method is deprecated and will be removed from pandas in a future version. Use pandas.concat instead.\n",
      "  test_t = test_t.append(bottom_transac)\n",
      "C:\\Users\\Hammozi\\AppData\\Local\\Temp\\ipykernel_33060\\472698487.py:7: FutureWarning: The frame.append method is deprecated and will be removed from pandas in a future version. Use pandas.concat instead.\n",
      "  test_t = test_t.append(bottom_transac)\n"
     ]
    },
    {
     "name": "stdout",
     "output_type": "stream",
     "text": [
      "206\n",
      "207\n",
      "208\n"
     ]
    },
    {
     "name": "stderr",
     "output_type": "stream",
     "text": [
      "C:\\Users\\Hammozi\\AppData\\Local\\Temp\\ipykernel_33060\\472698487.py:7: FutureWarning: The frame.append method is deprecated and will be removed from pandas in a future version. Use pandas.concat instead.\n",
      "  test_t = test_t.append(bottom_transac)\n",
      "C:\\Users\\Hammozi\\AppData\\Local\\Temp\\ipykernel_33060\\472698487.py:7: FutureWarning: The frame.append method is deprecated and will be removed from pandas in a future version. Use pandas.concat instead.\n",
      "  test_t = test_t.append(bottom_transac)\n",
      "C:\\Users\\Hammozi\\AppData\\Local\\Temp\\ipykernel_33060\\472698487.py:7: FutureWarning: The frame.append method is deprecated and will be removed from pandas in a future version. Use pandas.concat instead.\n",
      "  test_t = test_t.append(bottom_transac)\n"
     ]
    },
    {
     "name": "stdout",
     "output_type": "stream",
     "text": [
      "209\n",
      "210\n",
      "211\n",
      "212\n"
     ]
    },
    {
     "name": "stderr",
     "output_type": "stream",
     "text": [
      "C:\\Users\\Hammozi\\AppData\\Local\\Temp\\ipykernel_33060\\472698487.py:7: FutureWarning: The frame.append method is deprecated and will be removed from pandas in a future version. Use pandas.concat instead.\n",
      "  test_t = test_t.append(bottom_transac)\n",
      "C:\\Users\\Hammozi\\AppData\\Local\\Temp\\ipykernel_33060\\472698487.py:7: FutureWarning: The frame.append method is deprecated and will be removed from pandas in a future version. Use pandas.concat instead.\n",
      "  test_t = test_t.append(bottom_transac)\n",
      "C:\\Users\\Hammozi\\AppData\\Local\\Temp\\ipykernel_33060\\472698487.py:7: FutureWarning: The frame.append method is deprecated and will be removed from pandas in a future version. Use pandas.concat instead.\n",
      "  test_t = test_t.append(bottom_transac)\n",
      "C:\\Users\\Hammozi\\AppData\\Local\\Temp\\ipykernel_33060\\472698487.py:7: FutureWarning: The frame.append method is deprecated and will be removed from pandas in a future version. Use pandas.concat instead.\n",
      "  test_t = test_t.append(bottom_transac)\n",
      "C:\\Users\\Hammozi\\AppData\\Local\\Temp\\ipykernel_33060\\472698487.py:7: FutureWarning: The frame.append method is deprecated and will be removed from pandas in a future version. Use pandas.concat instead.\n",
      "  test_t = test_t.append(bottom_transac)\n",
      "C:\\Users\\Hammozi\\AppData\\Local\\Temp\\ipykernel_33060\\472698487.py:7: FutureWarning: The frame.append method is deprecated and will be removed from pandas in a future version. Use pandas.concat instead.\n",
      "  test_t = test_t.append(bottom_transac)\n"
     ]
    },
    {
     "name": "stdout",
     "output_type": "stream",
     "text": [
      "213\n",
      "214\n",
      "215\n"
     ]
    },
    {
     "name": "stderr",
     "output_type": "stream",
     "text": [
      "C:\\Users\\Hammozi\\AppData\\Local\\Temp\\ipykernel_33060\\472698487.py:7: FutureWarning: The frame.append method is deprecated and will be removed from pandas in a future version. Use pandas.concat instead.\n",
      "  test_t = test_t.append(bottom_transac)\n",
      "C:\\Users\\Hammozi\\AppData\\Local\\Temp\\ipykernel_33060\\472698487.py:7: FutureWarning: The frame.append method is deprecated and will be removed from pandas in a future version. Use pandas.concat instead.\n",
      "  test_t = test_t.append(bottom_transac)\n",
      "C:\\Users\\Hammozi\\AppData\\Local\\Temp\\ipykernel_33060\\472698487.py:7: FutureWarning: The frame.append method is deprecated and will be removed from pandas in a future version. Use pandas.concat instead.\n",
      "  test_t = test_t.append(bottom_transac)\n"
     ]
    },
    {
     "name": "stdout",
     "output_type": "stream",
     "text": [
      "216\n",
      "217\n",
      "218\n"
     ]
    },
    {
     "name": "stderr",
     "output_type": "stream",
     "text": [
      "C:\\Users\\Hammozi\\AppData\\Local\\Temp\\ipykernel_33060\\472698487.py:7: FutureWarning: The frame.append method is deprecated and will be removed from pandas in a future version. Use pandas.concat instead.\n",
      "  test_t = test_t.append(bottom_transac)\n",
      "C:\\Users\\Hammozi\\AppData\\Local\\Temp\\ipykernel_33060\\472698487.py:7: FutureWarning: The frame.append method is deprecated and will be removed from pandas in a future version. Use pandas.concat instead.\n",
      "  test_t = test_t.append(bottom_transac)\n",
      "C:\\Users\\Hammozi\\AppData\\Local\\Temp\\ipykernel_33060\\472698487.py:7: FutureWarning: The frame.append method is deprecated and will be removed from pandas in a future version. Use pandas.concat instead.\n",
      "  test_t = test_t.append(bottom_transac)\n"
     ]
    },
    {
     "name": "stdout",
     "output_type": "stream",
     "text": [
      "219\n",
      "220\n",
      "221\n"
     ]
    },
    {
     "name": "stderr",
     "output_type": "stream",
     "text": [
      "C:\\Users\\Hammozi\\AppData\\Local\\Temp\\ipykernel_33060\\472698487.py:7: FutureWarning: The frame.append method is deprecated and will be removed from pandas in a future version. Use pandas.concat instead.\n",
      "  test_t = test_t.append(bottom_transac)\n",
      "C:\\Users\\Hammozi\\AppData\\Local\\Temp\\ipykernel_33060\\472698487.py:7: FutureWarning: The frame.append method is deprecated and will be removed from pandas in a future version. Use pandas.concat instead.\n",
      "  test_t = test_t.append(bottom_transac)\n",
      "C:\\Users\\Hammozi\\AppData\\Local\\Temp\\ipykernel_33060\\472698487.py:7: FutureWarning: The frame.append method is deprecated and will be removed from pandas in a future version. Use pandas.concat instead.\n",
      "  test_t = test_t.append(bottom_transac)\n"
     ]
    },
    {
     "name": "stdout",
     "output_type": "stream",
     "text": [
      "222\n",
      "223\n",
      "224\n"
     ]
    },
    {
     "name": "stderr",
     "output_type": "stream",
     "text": [
      "C:\\Users\\Hammozi\\AppData\\Local\\Temp\\ipykernel_33060\\472698487.py:7: FutureWarning: The frame.append method is deprecated and will be removed from pandas in a future version. Use pandas.concat instead.\n",
      "  test_t = test_t.append(bottom_transac)\n",
      "C:\\Users\\Hammozi\\AppData\\Local\\Temp\\ipykernel_33060\\472698487.py:7: FutureWarning: The frame.append method is deprecated and will be removed from pandas in a future version. Use pandas.concat instead.\n",
      "  test_t = test_t.append(bottom_transac)\n",
      "C:\\Users\\Hammozi\\AppData\\Local\\Temp\\ipykernel_33060\\472698487.py:7: FutureWarning: The frame.append method is deprecated and will be removed from pandas in a future version. Use pandas.concat instead.\n",
      "  test_t = test_t.append(bottom_transac)\n"
     ]
    },
    {
     "name": "stdout",
     "output_type": "stream",
     "text": [
      "225\n",
      "226\n",
      "227\n"
     ]
    },
    {
     "name": "stderr",
     "output_type": "stream",
     "text": [
      "C:\\Users\\Hammozi\\AppData\\Local\\Temp\\ipykernel_33060\\472698487.py:7: FutureWarning: The frame.append method is deprecated and will be removed from pandas in a future version. Use pandas.concat instead.\n",
      "  test_t = test_t.append(bottom_transac)\n",
      "C:\\Users\\Hammozi\\AppData\\Local\\Temp\\ipykernel_33060\\472698487.py:7: FutureWarning: The frame.append method is deprecated and will be removed from pandas in a future version. Use pandas.concat instead.\n",
      "  test_t = test_t.append(bottom_transac)\n",
      "C:\\Users\\Hammozi\\AppData\\Local\\Temp\\ipykernel_33060\\472698487.py:7: FutureWarning: The frame.append method is deprecated and will be removed from pandas in a future version. Use pandas.concat instead.\n",
      "  test_t = test_t.append(bottom_transac)\n"
     ]
    },
    {
     "name": "stdout",
     "output_type": "stream",
     "text": [
      "228\n",
      "229\n",
      "230\n"
     ]
    },
    {
     "name": "stderr",
     "output_type": "stream",
     "text": [
      "C:\\Users\\Hammozi\\AppData\\Local\\Temp\\ipykernel_33060\\472698487.py:7: FutureWarning: The frame.append method is deprecated and will be removed from pandas in a future version. Use pandas.concat instead.\n",
      "  test_t = test_t.append(bottom_transac)\n",
      "C:\\Users\\Hammozi\\AppData\\Local\\Temp\\ipykernel_33060\\472698487.py:7: FutureWarning: The frame.append method is deprecated and will be removed from pandas in a future version. Use pandas.concat instead.\n",
      "  test_t = test_t.append(bottom_transac)\n",
      "C:\\Users\\Hammozi\\AppData\\Local\\Temp\\ipykernel_33060\\472698487.py:7: FutureWarning: The frame.append method is deprecated and will be removed from pandas in a future version. Use pandas.concat instead.\n",
      "  test_t = test_t.append(bottom_transac)\n"
     ]
    },
    {
     "name": "stdout",
     "output_type": "stream",
     "text": [
      "231\n",
      "232\n",
      "233\n"
     ]
    },
    {
     "name": "stderr",
     "output_type": "stream",
     "text": [
      "C:\\Users\\Hammozi\\AppData\\Local\\Temp\\ipykernel_33060\\472698487.py:7: FutureWarning: The frame.append method is deprecated and will be removed from pandas in a future version. Use pandas.concat instead.\n",
      "  test_t = test_t.append(bottom_transac)\n",
      "C:\\Users\\Hammozi\\AppData\\Local\\Temp\\ipykernel_33060\\472698487.py:7: FutureWarning: The frame.append method is deprecated and will be removed from pandas in a future version. Use pandas.concat instead.\n",
      "  test_t = test_t.append(bottom_transac)\n",
      "C:\\Users\\Hammozi\\AppData\\Local\\Temp\\ipykernel_33060\\472698487.py:7: FutureWarning: The frame.append method is deprecated and will be removed from pandas in a future version. Use pandas.concat instead.\n",
      "  test_t = test_t.append(bottom_transac)\n"
     ]
    },
    {
     "name": "stdout",
     "output_type": "stream",
     "text": [
      "234\n",
      "235\n",
      "236\n"
     ]
    },
    {
     "name": "stderr",
     "output_type": "stream",
     "text": [
      "C:\\Users\\Hammozi\\AppData\\Local\\Temp\\ipykernel_33060\\472698487.py:7: FutureWarning: The frame.append method is deprecated and will be removed from pandas in a future version. Use pandas.concat instead.\n",
      "  test_t = test_t.append(bottom_transac)\n",
      "C:\\Users\\Hammozi\\AppData\\Local\\Temp\\ipykernel_33060\\472698487.py:7: FutureWarning: The frame.append method is deprecated and will be removed from pandas in a future version. Use pandas.concat instead.\n",
      "  test_t = test_t.append(bottom_transac)\n",
      "C:\\Users\\Hammozi\\AppData\\Local\\Temp\\ipykernel_33060\\472698487.py:7: FutureWarning: The frame.append method is deprecated and will be removed from pandas in a future version. Use pandas.concat instead.\n",
      "  test_t = test_t.append(bottom_transac)\n"
     ]
    },
    {
     "name": "stdout",
     "output_type": "stream",
     "text": [
      "237\n",
      "238\n",
      "239\n",
      "240\n"
     ]
    },
    {
     "name": "stderr",
     "output_type": "stream",
     "text": [
      "C:\\Users\\Hammozi\\AppData\\Local\\Temp\\ipykernel_33060\\472698487.py:7: FutureWarning: The frame.append method is deprecated and will be removed from pandas in a future version. Use pandas.concat instead.\n",
      "  test_t = test_t.append(bottom_transac)\n",
      "C:\\Users\\Hammozi\\AppData\\Local\\Temp\\ipykernel_33060\\472698487.py:7: FutureWarning: The frame.append method is deprecated and will be removed from pandas in a future version. Use pandas.concat instead.\n",
      "  test_t = test_t.append(bottom_transac)\n",
      "C:\\Users\\Hammozi\\AppData\\Local\\Temp\\ipykernel_33060\\472698487.py:7: FutureWarning: The frame.append method is deprecated and will be removed from pandas in a future version. Use pandas.concat instead.\n",
      "  test_t = test_t.append(bottom_transac)\n"
     ]
    },
    {
     "name": "stdout",
     "output_type": "stream",
     "text": [
      "241\n",
      "242\n",
      "243\n",
      "244\n"
     ]
    },
    {
     "name": "stderr",
     "output_type": "stream",
     "text": [
      "C:\\Users\\Hammozi\\AppData\\Local\\Temp\\ipykernel_33060\\472698487.py:7: FutureWarning: The frame.append method is deprecated and will be removed from pandas in a future version. Use pandas.concat instead.\n",
      "  test_t = test_t.append(bottom_transac)\n",
      "C:\\Users\\Hammozi\\AppData\\Local\\Temp\\ipykernel_33060\\472698487.py:7: FutureWarning: The frame.append method is deprecated and will be removed from pandas in a future version. Use pandas.concat instead.\n",
      "  test_t = test_t.append(bottom_transac)\n",
      "C:\\Users\\Hammozi\\AppData\\Local\\Temp\\ipykernel_33060\\472698487.py:7: FutureWarning: The frame.append method is deprecated and will be removed from pandas in a future version. Use pandas.concat instead.\n",
      "  test_t = test_t.append(bottom_transac)\n"
     ]
    },
    {
     "name": "stdout",
     "output_type": "stream",
     "text": [
      "245\n",
      "246\n",
      "247\n"
     ]
    },
    {
     "name": "stderr",
     "output_type": "stream",
     "text": [
      "C:\\Users\\Hammozi\\AppData\\Local\\Temp\\ipykernel_33060\\472698487.py:7: FutureWarning: The frame.append method is deprecated and will be removed from pandas in a future version. Use pandas.concat instead.\n",
      "  test_t = test_t.append(bottom_transac)\n",
      "C:\\Users\\Hammozi\\AppData\\Local\\Temp\\ipykernel_33060\\472698487.py:7: FutureWarning: The frame.append method is deprecated and will be removed from pandas in a future version. Use pandas.concat instead.\n",
      "  test_t = test_t.append(bottom_transac)\n",
      "C:\\Users\\Hammozi\\AppData\\Local\\Temp\\ipykernel_33060\\472698487.py:7: FutureWarning: The frame.append method is deprecated and will be removed from pandas in a future version. Use pandas.concat instead.\n",
      "  test_t = test_t.append(bottom_transac)\n"
     ]
    },
    {
     "name": "stdout",
     "output_type": "stream",
     "text": [
      "248\n",
      "249\n",
      "250\n"
     ]
    },
    {
     "name": "stderr",
     "output_type": "stream",
     "text": [
      "C:\\Users\\Hammozi\\AppData\\Local\\Temp\\ipykernel_33060\\472698487.py:7: FutureWarning: The frame.append method is deprecated and will be removed from pandas in a future version. Use pandas.concat instead.\n",
      "  test_t = test_t.append(bottom_transac)\n",
      "C:\\Users\\Hammozi\\AppData\\Local\\Temp\\ipykernel_33060\\472698487.py:7: FutureWarning: The frame.append method is deprecated and will be removed from pandas in a future version. Use pandas.concat instead.\n",
      "  test_t = test_t.append(bottom_transac)\n",
      "C:\\Users\\Hammozi\\AppData\\Local\\Temp\\ipykernel_33060\\472698487.py:7: FutureWarning: The frame.append method is deprecated and will be removed from pandas in a future version. Use pandas.concat instead.\n",
      "  test_t = test_t.append(bottom_transac)\n"
     ]
    },
    {
     "name": "stdout",
     "output_type": "stream",
     "text": [
      "251\n",
      "252\n",
      "253\n"
     ]
    },
    {
     "name": "stderr",
     "output_type": "stream",
     "text": [
      "C:\\Users\\Hammozi\\AppData\\Local\\Temp\\ipykernel_33060\\472698487.py:7: FutureWarning: The frame.append method is deprecated and will be removed from pandas in a future version. Use pandas.concat instead.\n",
      "  test_t = test_t.append(bottom_transac)\n",
      "C:\\Users\\Hammozi\\AppData\\Local\\Temp\\ipykernel_33060\\472698487.py:7: FutureWarning: The frame.append method is deprecated and will be removed from pandas in a future version. Use pandas.concat instead.\n",
      "  test_t = test_t.append(bottom_transac)\n",
      "C:\\Users\\Hammozi\\AppData\\Local\\Temp\\ipykernel_33060\\472698487.py:7: FutureWarning: The frame.append method is deprecated and will be removed from pandas in a future version. Use pandas.concat instead.\n",
      "  test_t = test_t.append(bottom_transac)\n"
     ]
    },
    {
     "name": "stdout",
     "output_type": "stream",
     "text": [
      "254\n",
      "255\n",
      "256\n"
     ]
    },
    {
     "name": "stderr",
     "output_type": "stream",
     "text": [
      "C:\\Users\\Hammozi\\AppData\\Local\\Temp\\ipykernel_33060\\472698487.py:7: FutureWarning: The frame.append method is deprecated and will be removed from pandas in a future version. Use pandas.concat instead.\n",
      "  test_t = test_t.append(bottom_transac)\n",
      "C:\\Users\\Hammozi\\AppData\\Local\\Temp\\ipykernel_33060\\472698487.py:7: FutureWarning: The frame.append method is deprecated and will be removed from pandas in a future version. Use pandas.concat instead.\n",
      "  test_t = test_t.append(bottom_transac)\n",
      "C:\\Users\\Hammozi\\AppData\\Local\\Temp\\ipykernel_33060\\472698487.py:7: FutureWarning: The frame.append method is deprecated and will be removed from pandas in a future version. Use pandas.concat instead.\n",
      "  test_t = test_t.append(bottom_transac)\n"
     ]
    },
    {
     "name": "stdout",
     "output_type": "stream",
     "text": [
      "257\n",
      "258\n",
      "259\n"
     ]
    },
    {
     "name": "stderr",
     "output_type": "stream",
     "text": [
      "C:\\Users\\Hammozi\\AppData\\Local\\Temp\\ipykernel_33060\\472698487.py:7: FutureWarning: The frame.append method is deprecated and will be removed from pandas in a future version. Use pandas.concat instead.\n",
      "  test_t = test_t.append(bottom_transac)\n",
      "C:\\Users\\Hammozi\\AppData\\Local\\Temp\\ipykernel_33060\\472698487.py:7: FutureWarning: The frame.append method is deprecated and will be removed from pandas in a future version. Use pandas.concat instead.\n",
      "  test_t = test_t.append(bottom_transac)\n",
      "C:\\Users\\Hammozi\\AppData\\Local\\Temp\\ipykernel_33060\\472698487.py:7: FutureWarning: The frame.append method is deprecated and will be removed from pandas in a future version. Use pandas.concat instead.\n",
      "  test_t = test_t.append(bottom_transac)\n"
     ]
    },
    {
     "name": "stdout",
     "output_type": "stream",
     "text": [
      "260\n",
      "261\n",
      "262\n"
     ]
    },
    {
     "name": "stderr",
     "output_type": "stream",
     "text": [
      "C:\\Users\\Hammozi\\AppData\\Local\\Temp\\ipykernel_33060\\472698487.py:7: FutureWarning: The frame.append method is deprecated and will be removed from pandas in a future version. Use pandas.concat instead.\n",
      "  test_t = test_t.append(bottom_transac)\n",
      "C:\\Users\\Hammozi\\AppData\\Local\\Temp\\ipykernel_33060\\472698487.py:7: FutureWarning: The frame.append method is deprecated and will be removed from pandas in a future version. Use pandas.concat instead.\n",
      "  test_t = test_t.append(bottom_transac)\n",
      "C:\\Users\\Hammozi\\AppData\\Local\\Temp\\ipykernel_33060\\472698487.py:7: FutureWarning: The frame.append method is deprecated and will be removed from pandas in a future version. Use pandas.concat instead.\n",
      "  test_t = test_t.append(bottom_transac)\n"
     ]
    },
    {
     "name": "stdout",
     "output_type": "stream",
     "text": [
      "263\n",
      "264\n",
      "265\n"
     ]
    },
    {
     "name": "stderr",
     "output_type": "stream",
     "text": [
      "C:\\Users\\Hammozi\\AppData\\Local\\Temp\\ipykernel_33060\\472698487.py:7: FutureWarning: The frame.append method is deprecated and will be removed from pandas in a future version. Use pandas.concat instead.\n",
      "  test_t = test_t.append(bottom_transac)\n",
      "C:\\Users\\Hammozi\\AppData\\Local\\Temp\\ipykernel_33060\\472698487.py:7: FutureWarning: The frame.append method is deprecated and will be removed from pandas in a future version. Use pandas.concat instead.\n",
      "  test_t = test_t.append(bottom_transac)\n",
      "C:\\Users\\Hammozi\\AppData\\Local\\Temp\\ipykernel_33060\\472698487.py:7: FutureWarning: The frame.append method is deprecated and will be removed from pandas in a future version. Use pandas.concat instead.\n",
      "  test_t = test_t.append(bottom_transac)\n"
     ]
    },
    {
     "name": "stdout",
     "output_type": "stream",
     "text": [
      "266\n",
      "267\n",
      "268\n",
      "269\n"
     ]
    },
    {
     "name": "stderr",
     "output_type": "stream",
     "text": [
      "C:\\Users\\Hammozi\\AppData\\Local\\Temp\\ipykernel_33060\\472698487.py:7: FutureWarning: The frame.append method is deprecated and will be removed from pandas in a future version. Use pandas.concat instead.\n",
      "  test_t = test_t.append(bottom_transac)\n",
      "C:\\Users\\Hammozi\\AppData\\Local\\Temp\\ipykernel_33060\\472698487.py:7: FutureWarning: The frame.append method is deprecated and will be removed from pandas in a future version. Use pandas.concat instead.\n",
      "  test_t = test_t.append(bottom_transac)\n",
      "C:\\Users\\Hammozi\\AppData\\Local\\Temp\\ipykernel_33060\\472698487.py:7: FutureWarning: The frame.append method is deprecated and will be removed from pandas in a future version. Use pandas.concat instead.\n",
      "  test_t = test_t.append(bottom_transac)\n",
      "C:\\Users\\Hammozi\\AppData\\Local\\Temp\\ipykernel_33060\\472698487.py:7: FutureWarning: The frame.append method is deprecated and will be removed from pandas in a future version. Use pandas.concat instead.\n",
      "  test_t = test_t.append(bottom_transac)\n",
      "C:\\Users\\Hammozi\\AppData\\Local\\Temp\\ipykernel_33060\\472698487.py:7: FutureWarning: The frame.append method is deprecated and will be removed from pandas in a future version. Use pandas.concat instead.\n",
      "  test_t = test_t.append(bottom_transac)\n",
      "C:\\Users\\Hammozi\\AppData\\Local\\Temp\\ipykernel_33060\\472698487.py:7: FutureWarning: The frame.append method is deprecated and will be removed from pandas in a future version. Use pandas.concat instead.\n",
      "  test_t = test_t.append(bottom_transac)\n"
     ]
    },
    {
     "name": "stdout",
     "output_type": "stream",
     "text": [
      "270\n",
      "271\n",
      "272\n"
     ]
    },
    {
     "name": "stderr",
     "output_type": "stream",
     "text": [
      "C:\\Users\\Hammozi\\AppData\\Local\\Temp\\ipykernel_33060\\472698487.py:7: FutureWarning: The frame.append method is deprecated and will be removed from pandas in a future version. Use pandas.concat instead.\n",
      "  test_t = test_t.append(bottom_transac)\n",
      "C:\\Users\\Hammozi\\AppData\\Local\\Temp\\ipykernel_33060\\472698487.py:7: FutureWarning: The frame.append method is deprecated and will be removed from pandas in a future version. Use pandas.concat instead.\n",
      "  test_t = test_t.append(bottom_transac)\n",
      "C:\\Users\\Hammozi\\AppData\\Local\\Temp\\ipykernel_33060\\472698487.py:7: FutureWarning: The frame.append method is deprecated and will be removed from pandas in a future version. Use pandas.concat instead.\n",
      "  test_t = test_t.append(bottom_transac)\n"
     ]
    },
    {
     "name": "stdout",
     "output_type": "stream",
     "text": [
      "273\n",
      "274\n",
      "275\n"
     ]
    },
    {
     "name": "stderr",
     "output_type": "stream",
     "text": [
      "C:\\Users\\Hammozi\\AppData\\Local\\Temp\\ipykernel_33060\\472698487.py:7: FutureWarning: The frame.append method is deprecated and will be removed from pandas in a future version. Use pandas.concat instead.\n",
      "  test_t = test_t.append(bottom_transac)\n",
      "C:\\Users\\Hammozi\\AppData\\Local\\Temp\\ipykernel_33060\\472698487.py:7: FutureWarning: The frame.append method is deprecated and will be removed from pandas in a future version. Use pandas.concat instead.\n",
      "  test_t = test_t.append(bottom_transac)\n",
      "C:\\Users\\Hammozi\\AppData\\Local\\Temp\\ipykernel_33060\\472698487.py:7: FutureWarning: The frame.append method is deprecated and will be removed from pandas in a future version. Use pandas.concat instead.\n",
      "  test_t = test_t.append(bottom_transac)\n"
     ]
    },
    {
     "name": "stdout",
     "output_type": "stream",
     "text": [
      "276\n",
      "277\n",
      "278\n"
     ]
    },
    {
     "name": "stderr",
     "output_type": "stream",
     "text": [
      "C:\\Users\\Hammozi\\AppData\\Local\\Temp\\ipykernel_33060\\472698487.py:7: FutureWarning: The frame.append method is deprecated and will be removed from pandas in a future version. Use pandas.concat instead.\n",
      "  test_t = test_t.append(bottom_transac)\n",
      "C:\\Users\\Hammozi\\AppData\\Local\\Temp\\ipykernel_33060\\472698487.py:7: FutureWarning: The frame.append method is deprecated and will be removed from pandas in a future version. Use pandas.concat instead.\n",
      "  test_t = test_t.append(bottom_transac)\n",
      "C:\\Users\\Hammozi\\AppData\\Local\\Temp\\ipykernel_33060\\472698487.py:7: FutureWarning: The frame.append method is deprecated and will be removed from pandas in a future version. Use pandas.concat instead.\n",
      "  test_t = test_t.append(bottom_transac)\n"
     ]
    },
    {
     "name": "stdout",
     "output_type": "stream",
     "text": [
      "279\n",
      "280\n",
      "281\n"
     ]
    },
    {
     "name": "stderr",
     "output_type": "stream",
     "text": [
      "C:\\Users\\Hammozi\\AppData\\Local\\Temp\\ipykernel_33060\\472698487.py:7: FutureWarning: The frame.append method is deprecated and will be removed from pandas in a future version. Use pandas.concat instead.\n",
      "  test_t = test_t.append(bottom_transac)\n",
      "C:\\Users\\Hammozi\\AppData\\Local\\Temp\\ipykernel_33060\\472698487.py:7: FutureWarning: The frame.append method is deprecated and will be removed from pandas in a future version. Use pandas.concat instead.\n",
      "  test_t = test_t.append(bottom_transac)\n",
      "C:\\Users\\Hammozi\\AppData\\Local\\Temp\\ipykernel_33060\\472698487.py:7: FutureWarning: The frame.append method is deprecated and will be removed from pandas in a future version. Use pandas.concat instead.\n",
      "  test_t = test_t.append(bottom_transac)\n"
     ]
    },
    {
     "name": "stdout",
     "output_type": "stream",
     "text": [
      "282\n",
      "283\n",
      "284\n",
      "285\n"
     ]
    },
    {
     "name": "stderr",
     "output_type": "stream",
     "text": [
      "C:\\Users\\Hammozi\\AppData\\Local\\Temp\\ipykernel_33060\\472698487.py:7: FutureWarning: The frame.append method is deprecated and will be removed from pandas in a future version. Use pandas.concat instead.\n",
      "  test_t = test_t.append(bottom_transac)\n",
      "C:\\Users\\Hammozi\\AppData\\Local\\Temp\\ipykernel_33060\\472698487.py:7: FutureWarning: The frame.append method is deprecated and will be removed from pandas in a future version. Use pandas.concat instead.\n",
      "  test_t = test_t.append(bottom_transac)\n",
      "C:\\Users\\Hammozi\\AppData\\Local\\Temp\\ipykernel_33060\\472698487.py:7: FutureWarning: The frame.append method is deprecated and will be removed from pandas in a future version. Use pandas.concat instead.\n",
      "  test_t = test_t.append(bottom_transac)\n"
     ]
    },
    {
     "name": "stdout",
     "output_type": "stream",
     "text": [
      "286\n",
      "287\n",
      "288\n",
      "289\n"
     ]
    },
    {
     "name": "stderr",
     "output_type": "stream",
     "text": [
      "C:\\Users\\Hammozi\\AppData\\Local\\Temp\\ipykernel_33060\\472698487.py:7: FutureWarning: The frame.append method is deprecated and will be removed from pandas in a future version. Use pandas.concat instead.\n",
      "  test_t = test_t.append(bottom_transac)\n",
      "C:\\Users\\Hammozi\\AppData\\Local\\Temp\\ipykernel_33060\\472698487.py:7: FutureWarning: The frame.append method is deprecated and will be removed from pandas in a future version. Use pandas.concat instead.\n",
      "  test_t = test_t.append(bottom_transac)\n",
      "C:\\Users\\Hammozi\\AppData\\Local\\Temp\\ipykernel_33060\\472698487.py:7: FutureWarning: The frame.append method is deprecated and will be removed from pandas in a future version. Use pandas.concat instead.\n",
      "  test_t = test_t.append(bottom_transac)\n"
     ]
    },
    {
     "name": "stdout",
     "output_type": "stream",
     "text": [
      "290\n",
      "291\n",
      "292\n",
      "293\n"
     ]
    },
    {
     "name": "stderr",
     "output_type": "stream",
     "text": [
      "C:\\Users\\Hammozi\\AppData\\Local\\Temp\\ipykernel_33060\\472698487.py:7: FutureWarning: The frame.append method is deprecated and will be removed from pandas in a future version. Use pandas.concat instead.\n",
      "  test_t = test_t.append(bottom_transac)\n",
      "C:\\Users\\Hammozi\\AppData\\Local\\Temp\\ipykernel_33060\\472698487.py:7: FutureWarning: The frame.append method is deprecated and will be removed from pandas in a future version. Use pandas.concat instead.\n",
      "  test_t = test_t.append(bottom_transac)\n",
      "C:\\Users\\Hammozi\\AppData\\Local\\Temp\\ipykernel_33060\\472698487.py:7: FutureWarning: The frame.append method is deprecated and will be removed from pandas in a future version. Use pandas.concat instead.\n",
      "  test_t = test_t.append(bottom_transac)\n",
      "C:\\Users\\Hammozi\\AppData\\Local\\Temp\\ipykernel_33060\\472698487.py:7: FutureWarning: The frame.append method is deprecated and will be removed from pandas in a future version. Use pandas.concat instead.\n",
      "  test_t = test_t.append(bottom_transac)\n",
      "C:\\Users\\Hammozi\\AppData\\Local\\Temp\\ipykernel_33060\\472698487.py:7: FutureWarning: The frame.append method is deprecated and will be removed from pandas in a future version. Use pandas.concat instead.\n",
      "  test_t = test_t.append(bottom_transac)\n",
      "C:\\Users\\Hammozi\\AppData\\Local\\Temp\\ipykernel_33060\\472698487.py:7: FutureWarning: The frame.append method is deprecated and will be removed from pandas in a future version. Use pandas.concat instead.\n",
      "  test_t = test_t.append(bottom_transac)\n"
     ]
    },
    {
     "name": "stdout",
     "output_type": "stream",
     "text": [
      "294\n",
      "295\n",
      "296\n",
      "297\n"
     ]
    },
    {
     "name": "stderr",
     "output_type": "stream",
     "text": [
      "C:\\Users\\Hammozi\\AppData\\Local\\Temp\\ipykernel_33060\\472698487.py:7: FutureWarning: The frame.append method is deprecated and will be removed from pandas in a future version. Use pandas.concat instead.\n",
      "  test_t = test_t.append(bottom_transac)\n",
      "C:\\Users\\Hammozi\\AppData\\Local\\Temp\\ipykernel_33060\\472698487.py:7: FutureWarning: The frame.append method is deprecated and will be removed from pandas in a future version. Use pandas.concat instead.\n",
      "  test_t = test_t.append(bottom_transac)\n",
      "C:\\Users\\Hammozi\\AppData\\Local\\Temp\\ipykernel_33060\\472698487.py:7: FutureWarning: The frame.append method is deprecated and will be removed from pandas in a future version. Use pandas.concat instead.\n",
      "  test_t = test_t.append(bottom_transac)\n"
     ]
    },
    {
     "name": "stdout",
     "output_type": "stream",
     "text": [
      "298\n",
      "299\n",
      "300\n"
     ]
    },
    {
     "name": "stderr",
     "output_type": "stream",
     "text": [
      "C:\\Users\\Hammozi\\AppData\\Local\\Temp\\ipykernel_33060\\472698487.py:7: FutureWarning: The frame.append method is deprecated and will be removed from pandas in a future version. Use pandas.concat instead.\n",
      "  test_t = test_t.append(bottom_transac)\n",
      "C:\\Users\\Hammozi\\AppData\\Local\\Temp\\ipykernel_33060\\472698487.py:7: FutureWarning: The frame.append method is deprecated and will be removed from pandas in a future version. Use pandas.concat instead.\n",
      "  test_t = test_t.append(bottom_transac)\n",
      "C:\\Users\\Hammozi\\AppData\\Local\\Temp\\ipykernel_33060\\472698487.py:7: FutureWarning: The frame.append method is deprecated and will be removed from pandas in a future version. Use pandas.concat instead.\n",
      "  test_t = test_t.append(bottom_transac)\n"
     ]
    },
    {
     "name": "stdout",
     "output_type": "stream",
     "text": [
      "301\n",
      "302\n",
      "303\n",
      "304\n"
     ]
    },
    {
     "name": "stderr",
     "output_type": "stream",
     "text": [
      "C:\\Users\\Hammozi\\AppData\\Local\\Temp\\ipykernel_33060\\472698487.py:7: FutureWarning: The frame.append method is deprecated and will be removed from pandas in a future version. Use pandas.concat instead.\n",
      "  test_t = test_t.append(bottom_transac)\n",
      "C:\\Users\\Hammozi\\AppData\\Local\\Temp\\ipykernel_33060\\472698487.py:7: FutureWarning: The frame.append method is deprecated and will be removed from pandas in a future version. Use pandas.concat instead.\n",
      "  test_t = test_t.append(bottom_transac)\n",
      "C:\\Users\\Hammozi\\AppData\\Local\\Temp\\ipykernel_33060\\472698487.py:7: FutureWarning: The frame.append method is deprecated and will be removed from pandas in a future version. Use pandas.concat instead.\n",
      "  test_t = test_t.append(bottom_transac)\n"
     ]
    },
    {
     "name": "stdout",
     "output_type": "stream",
     "text": [
      "305\n",
      "306\n",
      "307\n",
      "308\n"
     ]
    },
    {
     "name": "stderr",
     "output_type": "stream",
     "text": [
      "C:\\Users\\Hammozi\\AppData\\Local\\Temp\\ipykernel_33060\\472698487.py:7: FutureWarning: The frame.append method is deprecated and will be removed from pandas in a future version. Use pandas.concat instead.\n",
      "  test_t = test_t.append(bottom_transac)\n",
      "C:\\Users\\Hammozi\\AppData\\Local\\Temp\\ipykernel_33060\\472698487.py:7: FutureWarning: The frame.append method is deprecated and will be removed from pandas in a future version. Use pandas.concat instead.\n",
      "  test_t = test_t.append(bottom_transac)\n",
      "C:\\Users\\Hammozi\\AppData\\Local\\Temp\\ipykernel_33060\\472698487.py:7: FutureWarning: The frame.append method is deprecated and will be removed from pandas in a future version. Use pandas.concat instead.\n",
      "  test_t = test_t.append(bottom_transac)\n",
      "C:\\Users\\Hammozi\\AppData\\Local\\Temp\\ipykernel_33060\\472698487.py:7: FutureWarning: The frame.append method is deprecated and will be removed from pandas in a future version. Use pandas.concat instead.\n",
      "  test_t = test_t.append(bottom_transac)\n",
      "C:\\Users\\Hammozi\\AppData\\Local\\Temp\\ipykernel_33060\\472698487.py:7: FutureWarning: The frame.append method is deprecated and will be removed from pandas in a future version. Use pandas.concat instead.\n",
      "  test_t = test_t.append(bottom_transac)\n",
      "C:\\Users\\Hammozi\\AppData\\Local\\Temp\\ipykernel_33060\\472698487.py:7: FutureWarning: The frame.append method is deprecated and will be removed from pandas in a future version. Use pandas.concat instead.\n",
      "  test_t = test_t.append(bottom_transac)\n"
     ]
    },
    {
     "name": "stdout",
     "output_type": "stream",
     "text": [
      "309\n",
      "310\n",
      "311\n"
     ]
    },
    {
     "name": "stderr",
     "output_type": "stream",
     "text": [
      "C:\\Users\\Hammozi\\AppData\\Local\\Temp\\ipykernel_33060\\472698487.py:7: FutureWarning: The frame.append method is deprecated and will be removed from pandas in a future version. Use pandas.concat instead.\n",
      "  test_t = test_t.append(bottom_transac)\n",
      "C:\\Users\\Hammozi\\AppData\\Local\\Temp\\ipykernel_33060\\472698487.py:7: FutureWarning: The frame.append method is deprecated and will be removed from pandas in a future version. Use pandas.concat instead.\n",
      "  test_t = test_t.append(bottom_transac)\n",
      "C:\\Users\\Hammozi\\AppData\\Local\\Temp\\ipykernel_33060\\472698487.py:7: FutureWarning: The frame.append method is deprecated and will be removed from pandas in a future version. Use pandas.concat instead.\n",
      "  test_t = test_t.append(bottom_transac)\n"
     ]
    },
    {
     "name": "stdout",
     "output_type": "stream",
     "text": [
      "312\n",
      "313\n",
      "314\n"
     ]
    },
    {
     "name": "stderr",
     "output_type": "stream",
     "text": [
      "C:\\Users\\Hammozi\\AppData\\Local\\Temp\\ipykernel_33060\\472698487.py:7: FutureWarning: The frame.append method is deprecated and will be removed from pandas in a future version. Use pandas.concat instead.\n",
      "  test_t = test_t.append(bottom_transac)\n",
      "C:\\Users\\Hammozi\\AppData\\Local\\Temp\\ipykernel_33060\\472698487.py:7: FutureWarning: The frame.append method is deprecated and will be removed from pandas in a future version. Use pandas.concat instead.\n",
      "  test_t = test_t.append(bottom_transac)\n",
      "C:\\Users\\Hammozi\\AppData\\Local\\Temp\\ipykernel_33060\\472698487.py:7: FutureWarning: The frame.append method is deprecated and will be removed from pandas in a future version. Use pandas.concat instead.\n",
      "  test_t = test_t.append(bottom_transac)\n"
     ]
    },
    {
     "name": "stdout",
     "output_type": "stream",
     "text": [
      "315\n",
      "316\n",
      "317\n"
     ]
    },
    {
     "name": "stderr",
     "output_type": "stream",
     "text": [
      "C:\\Users\\Hammozi\\AppData\\Local\\Temp\\ipykernel_33060\\472698487.py:7: FutureWarning: The frame.append method is deprecated and will be removed from pandas in a future version. Use pandas.concat instead.\n",
      "  test_t = test_t.append(bottom_transac)\n",
      "C:\\Users\\Hammozi\\AppData\\Local\\Temp\\ipykernel_33060\\472698487.py:7: FutureWarning: The frame.append method is deprecated and will be removed from pandas in a future version. Use pandas.concat instead.\n",
      "  test_t = test_t.append(bottom_transac)\n",
      "C:\\Users\\Hammozi\\AppData\\Local\\Temp\\ipykernel_33060\\472698487.py:7: FutureWarning: The frame.append method is deprecated and will be removed from pandas in a future version. Use pandas.concat instead.\n",
      "  test_t = test_t.append(bottom_transac)\n"
     ]
    },
    {
     "name": "stdout",
     "output_type": "stream",
     "text": [
      "318\n",
      "319\n",
      "320\n"
     ]
    },
    {
     "name": "stderr",
     "output_type": "stream",
     "text": [
      "C:\\Users\\Hammozi\\AppData\\Local\\Temp\\ipykernel_33060\\472698487.py:7: FutureWarning: The frame.append method is deprecated and will be removed from pandas in a future version. Use pandas.concat instead.\n",
      "  test_t = test_t.append(bottom_transac)\n",
      "C:\\Users\\Hammozi\\AppData\\Local\\Temp\\ipykernel_33060\\472698487.py:7: FutureWarning: The frame.append method is deprecated and will be removed from pandas in a future version. Use pandas.concat instead.\n",
      "  test_t = test_t.append(bottom_transac)\n",
      "C:\\Users\\Hammozi\\AppData\\Local\\Temp\\ipykernel_33060\\472698487.py:7: FutureWarning: The frame.append method is deprecated and will be removed from pandas in a future version. Use pandas.concat instead.\n",
      "  test_t = test_t.append(bottom_transac)\n"
     ]
    },
    {
     "name": "stdout",
     "output_type": "stream",
     "text": [
      "321\n",
      "322\n",
      "323\n"
     ]
    },
    {
     "name": "stderr",
     "output_type": "stream",
     "text": [
      "C:\\Users\\Hammozi\\AppData\\Local\\Temp\\ipykernel_33060\\472698487.py:7: FutureWarning: The frame.append method is deprecated and will be removed from pandas in a future version. Use pandas.concat instead.\n",
      "  test_t = test_t.append(bottom_transac)\n",
      "C:\\Users\\Hammozi\\AppData\\Local\\Temp\\ipykernel_33060\\472698487.py:7: FutureWarning: The frame.append method is deprecated and will be removed from pandas in a future version. Use pandas.concat instead.\n",
      "  test_t = test_t.append(bottom_transac)\n",
      "C:\\Users\\Hammozi\\AppData\\Local\\Temp\\ipykernel_33060\\472698487.py:7: FutureWarning: The frame.append method is deprecated and will be removed from pandas in a future version. Use pandas.concat instead.\n",
      "  test_t = test_t.append(bottom_transac)\n"
     ]
    },
    {
     "name": "stdout",
     "output_type": "stream",
     "text": [
      "324\n",
      "325\n",
      "326\n"
     ]
    },
    {
     "name": "stderr",
     "output_type": "stream",
     "text": [
      "C:\\Users\\Hammozi\\AppData\\Local\\Temp\\ipykernel_33060\\472698487.py:7: FutureWarning: The frame.append method is deprecated and will be removed from pandas in a future version. Use pandas.concat instead.\n",
      "  test_t = test_t.append(bottom_transac)\n",
      "C:\\Users\\Hammozi\\AppData\\Local\\Temp\\ipykernel_33060\\472698487.py:7: FutureWarning: The frame.append method is deprecated and will be removed from pandas in a future version. Use pandas.concat instead.\n",
      "  test_t = test_t.append(bottom_transac)\n",
      "C:\\Users\\Hammozi\\AppData\\Local\\Temp\\ipykernel_33060\\472698487.py:7: FutureWarning: The frame.append method is deprecated and will be removed from pandas in a future version. Use pandas.concat instead.\n",
      "  test_t = test_t.append(bottom_transac)\n"
     ]
    },
    {
     "name": "stdout",
     "output_type": "stream",
     "text": [
      "327\n",
      "328\n",
      "329\n"
     ]
    },
    {
     "name": "stderr",
     "output_type": "stream",
     "text": [
      "C:\\Users\\Hammozi\\AppData\\Local\\Temp\\ipykernel_33060\\472698487.py:7: FutureWarning: The frame.append method is deprecated and will be removed from pandas in a future version. Use pandas.concat instead.\n",
      "  test_t = test_t.append(bottom_transac)\n",
      "C:\\Users\\Hammozi\\AppData\\Local\\Temp\\ipykernel_33060\\472698487.py:7: FutureWarning: The frame.append method is deprecated and will be removed from pandas in a future version. Use pandas.concat instead.\n",
      "  test_t = test_t.append(bottom_transac)\n",
      "C:\\Users\\Hammozi\\AppData\\Local\\Temp\\ipykernel_33060\\472698487.py:7: FutureWarning: The frame.append method is deprecated and will be removed from pandas in a future version. Use pandas.concat instead.\n",
      "  test_t = test_t.append(bottom_transac)\n"
     ]
    },
    {
     "name": "stdout",
     "output_type": "stream",
     "text": [
      "330\n",
      "331\n",
      "332\n",
      "333\n"
     ]
    },
    {
     "name": "stderr",
     "output_type": "stream",
     "text": [
      "C:\\Users\\Hammozi\\AppData\\Local\\Temp\\ipykernel_33060\\472698487.py:7: FutureWarning: The frame.append method is deprecated and will be removed from pandas in a future version. Use pandas.concat instead.\n",
      "  test_t = test_t.append(bottom_transac)\n",
      "C:\\Users\\Hammozi\\AppData\\Local\\Temp\\ipykernel_33060\\472698487.py:7: FutureWarning: The frame.append method is deprecated and will be removed from pandas in a future version. Use pandas.concat instead.\n",
      "  test_t = test_t.append(bottom_transac)\n",
      "C:\\Users\\Hammozi\\AppData\\Local\\Temp\\ipykernel_33060\\472698487.py:7: FutureWarning: The frame.append method is deprecated and will be removed from pandas in a future version. Use pandas.concat instead.\n",
      "  test_t = test_t.append(bottom_transac)\n"
     ]
    },
    {
     "name": "stdout",
     "output_type": "stream",
     "text": [
      "334\n",
      "335\n",
      "336\n"
     ]
    },
    {
     "name": "stderr",
     "output_type": "stream",
     "text": [
      "C:\\Users\\Hammozi\\AppData\\Local\\Temp\\ipykernel_33060\\472698487.py:7: FutureWarning: The frame.append method is deprecated and will be removed from pandas in a future version. Use pandas.concat instead.\n",
      "  test_t = test_t.append(bottom_transac)\n",
      "C:\\Users\\Hammozi\\AppData\\Local\\Temp\\ipykernel_33060\\472698487.py:7: FutureWarning: The frame.append method is deprecated and will be removed from pandas in a future version. Use pandas.concat instead.\n",
      "  test_t = test_t.append(bottom_transac)\n",
      "C:\\Users\\Hammozi\\AppData\\Local\\Temp\\ipykernel_33060\\472698487.py:7: FutureWarning: The frame.append method is deprecated and will be removed from pandas in a future version. Use pandas.concat instead.\n",
      "  test_t = test_t.append(bottom_transac)\n"
     ]
    },
    {
     "name": "stdout",
     "output_type": "stream",
     "text": [
      "337\n",
      "338\n",
      "339\n"
     ]
    },
    {
     "name": "stderr",
     "output_type": "stream",
     "text": [
      "C:\\Users\\Hammozi\\AppData\\Local\\Temp\\ipykernel_33060\\472698487.py:7: FutureWarning: The frame.append method is deprecated and will be removed from pandas in a future version. Use pandas.concat instead.\n",
      "  test_t = test_t.append(bottom_transac)\n",
      "C:\\Users\\Hammozi\\AppData\\Local\\Temp\\ipykernel_33060\\472698487.py:7: FutureWarning: The frame.append method is deprecated and will be removed from pandas in a future version. Use pandas.concat instead.\n",
      "  test_t = test_t.append(bottom_transac)\n",
      "C:\\Users\\Hammozi\\AppData\\Local\\Temp\\ipykernel_33060\\472698487.py:7: FutureWarning: The frame.append method is deprecated and will be removed from pandas in a future version. Use pandas.concat instead.\n",
      "  test_t = test_t.append(bottom_transac)\n"
     ]
    },
    {
     "name": "stdout",
     "output_type": "stream",
     "text": [
      "340\n",
      "341\n",
      "342\n",
      "343\n"
     ]
    },
    {
     "name": "stderr",
     "output_type": "stream",
     "text": [
      "C:\\Users\\Hammozi\\AppData\\Local\\Temp\\ipykernel_33060\\472698487.py:7: FutureWarning: The frame.append method is deprecated and will be removed from pandas in a future version. Use pandas.concat instead.\n",
      "  test_t = test_t.append(bottom_transac)\n",
      "C:\\Users\\Hammozi\\AppData\\Local\\Temp\\ipykernel_33060\\472698487.py:7: FutureWarning: The frame.append method is deprecated and will be removed from pandas in a future version. Use pandas.concat instead.\n",
      "  test_t = test_t.append(bottom_transac)\n",
      "C:\\Users\\Hammozi\\AppData\\Local\\Temp\\ipykernel_33060\\472698487.py:7: FutureWarning: The frame.append method is deprecated and will be removed from pandas in a future version. Use pandas.concat instead.\n",
      "  test_t = test_t.append(bottom_transac)\n"
     ]
    },
    {
     "name": "stdout",
     "output_type": "stream",
     "text": [
      "344\n",
      "345\n",
      "346\n"
     ]
    },
    {
     "name": "stderr",
     "output_type": "stream",
     "text": [
      "C:\\Users\\Hammozi\\AppData\\Local\\Temp\\ipykernel_33060\\472698487.py:7: FutureWarning: The frame.append method is deprecated and will be removed from pandas in a future version. Use pandas.concat instead.\n",
      "  test_t = test_t.append(bottom_transac)\n",
      "C:\\Users\\Hammozi\\AppData\\Local\\Temp\\ipykernel_33060\\472698487.py:7: FutureWarning: The frame.append method is deprecated and will be removed from pandas in a future version. Use pandas.concat instead.\n",
      "  test_t = test_t.append(bottom_transac)\n",
      "C:\\Users\\Hammozi\\AppData\\Local\\Temp\\ipykernel_33060\\472698487.py:7: FutureWarning: The frame.append method is deprecated and will be removed from pandas in a future version. Use pandas.concat instead.\n",
      "  test_t = test_t.append(bottom_transac)\n"
     ]
    },
    {
     "name": "stdout",
     "output_type": "stream",
     "text": [
      "347\n",
      "348\n",
      "349\n",
      "350\n"
     ]
    },
    {
     "name": "stderr",
     "output_type": "stream",
     "text": [
      "C:\\Users\\Hammozi\\AppData\\Local\\Temp\\ipykernel_33060\\472698487.py:7: FutureWarning: The frame.append method is deprecated and will be removed from pandas in a future version. Use pandas.concat instead.\n",
      "  test_t = test_t.append(bottom_transac)\n",
      "C:\\Users\\Hammozi\\AppData\\Local\\Temp\\ipykernel_33060\\472698487.py:7: FutureWarning: The frame.append method is deprecated and will be removed from pandas in a future version. Use pandas.concat instead.\n",
      "  test_t = test_t.append(bottom_transac)\n",
      "C:\\Users\\Hammozi\\AppData\\Local\\Temp\\ipykernel_33060\\472698487.py:7: FutureWarning: The frame.append method is deprecated and will be removed from pandas in a future version. Use pandas.concat instead.\n",
      "  test_t = test_t.append(bottom_transac)\n",
      "C:\\Users\\Hammozi\\AppData\\Local\\Temp\\ipykernel_33060\\472698487.py:7: FutureWarning: The frame.append method is deprecated and will be removed from pandas in a future version. Use pandas.concat instead.\n",
      "  test_t = test_t.append(bottom_transac)\n",
      "C:\\Users\\Hammozi\\AppData\\Local\\Temp\\ipykernel_33060\\472698487.py:7: FutureWarning: The frame.append method is deprecated and will be removed from pandas in a future version. Use pandas.concat instead.\n",
      "  test_t = test_t.append(bottom_transac)\n",
      "C:\\Users\\Hammozi\\AppData\\Local\\Temp\\ipykernel_33060\\472698487.py:7: FutureWarning: The frame.append method is deprecated and will be removed from pandas in a future version. Use pandas.concat instead.\n",
      "  test_t = test_t.append(bottom_transac)\n"
     ]
    },
    {
     "name": "stdout",
     "output_type": "stream",
     "text": [
      "351\n",
      "352\n",
      "353\n"
     ]
    },
    {
     "name": "stderr",
     "output_type": "stream",
     "text": [
      "C:\\Users\\Hammozi\\AppData\\Local\\Temp\\ipykernel_33060\\472698487.py:7: FutureWarning: The frame.append method is deprecated and will be removed from pandas in a future version. Use pandas.concat instead.\n",
      "  test_t = test_t.append(bottom_transac)\n",
      "C:\\Users\\Hammozi\\AppData\\Local\\Temp\\ipykernel_33060\\472698487.py:7: FutureWarning: The frame.append method is deprecated and will be removed from pandas in a future version. Use pandas.concat instead.\n",
      "  test_t = test_t.append(bottom_transac)\n",
      "C:\\Users\\Hammozi\\AppData\\Local\\Temp\\ipykernel_33060\\472698487.py:7: FutureWarning: The frame.append method is deprecated and will be removed from pandas in a future version. Use pandas.concat instead.\n",
      "  test_t = test_t.append(bottom_transac)\n"
     ]
    },
    {
     "name": "stdout",
     "output_type": "stream",
     "text": [
      "354\n",
      "355\n",
      "356\n"
     ]
    },
    {
     "name": "stderr",
     "output_type": "stream",
     "text": [
      "C:\\Users\\Hammozi\\AppData\\Local\\Temp\\ipykernel_33060\\472698487.py:7: FutureWarning: The frame.append method is deprecated and will be removed from pandas in a future version. Use pandas.concat instead.\n",
      "  test_t = test_t.append(bottom_transac)\n",
      "C:\\Users\\Hammozi\\AppData\\Local\\Temp\\ipykernel_33060\\472698487.py:7: FutureWarning: The frame.append method is deprecated and will be removed from pandas in a future version. Use pandas.concat instead.\n",
      "  test_t = test_t.append(bottom_transac)\n",
      "C:\\Users\\Hammozi\\AppData\\Local\\Temp\\ipykernel_33060\\472698487.py:7: FutureWarning: The frame.append method is deprecated and will be removed from pandas in a future version. Use pandas.concat instead.\n",
      "  test_t = test_t.append(bottom_transac)\n"
     ]
    },
    {
     "name": "stdout",
     "output_type": "stream",
     "text": [
      "357\n",
      "358\n",
      "359\n"
     ]
    },
    {
     "name": "stderr",
     "output_type": "stream",
     "text": [
      "C:\\Users\\Hammozi\\AppData\\Local\\Temp\\ipykernel_33060\\472698487.py:7: FutureWarning: The frame.append method is deprecated and will be removed from pandas in a future version. Use pandas.concat instead.\n",
      "  test_t = test_t.append(bottom_transac)\n",
      "C:\\Users\\Hammozi\\AppData\\Local\\Temp\\ipykernel_33060\\472698487.py:7: FutureWarning: The frame.append method is deprecated and will be removed from pandas in a future version. Use pandas.concat instead.\n",
      "  test_t = test_t.append(bottom_transac)\n",
      "C:\\Users\\Hammozi\\AppData\\Local\\Temp\\ipykernel_33060\\472698487.py:7: FutureWarning: The frame.append method is deprecated and will be removed from pandas in a future version. Use pandas.concat instead.\n",
      "  test_t = test_t.append(bottom_transac)\n"
     ]
    },
    {
     "name": "stdout",
     "output_type": "stream",
     "text": [
      "360\n",
      "361\n",
      "362\n",
      "363\n"
     ]
    },
    {
     "name": "stderr",
     "output_type": "stream",
     "text": [
      "C:\\Users\\Hammozi\\AppData\\Local\\Temp\\ipykernel_33060\\472698487.py:7: FutureWarning: The frame.append method is deprecated and will be removed from pandas in a future version. Use pandas.concat instead.\n",
      "  test_t = test_t.append(bottom_transac)\n",
      "C:\\Users\\Hammozi\\AppData\\Local\\Temp\\ipykernel_33060\\472698487.py:7: FutureWarning: The frame.append method is deprecated and will be removed from pandas in a future version. Use pandas.concat instead.\n",
      "  test_t = test_t.append(bottom_transac)\n",
      "C:\\Users\\Hammozi\\AppData\\Local\\Temp\\ipykernel_33060\\472698487.py:7: FutureWarning: The frame.append method is deprecated and will be removed from pandas in a future version. Use pandas.concat instead.\n",
      "  test_t = test_t.append(bottom_transac)\n"
     ]
    },
    {
     "name": "stdout",
     "output_type": "stream",
     "text": [
      "364\n",
      "365\n",
      "366\n",
      "367\n"
     ]
    },
    {
     "name": "stderr",
     "output_type": "stream",
     "text": [
      "C:\\Users\\Hammozi\\AppData\\Local\\Temp\\ipykernel_33060\\472698487.py:7: FutureWarning: The frame.append method is deprecated and will be removed from pandas in a future version. Use pandas.concat instead.\n",
      "  test_t = test_t.append(bottom_transac)\n",
      "C:\\Users\\Hammozi\\AppData\\Local\\Temp\\ipykernel_33060\\472698487.py:7: FutureWarning: The frame.append method is deprecated and will be removed from pandas in a future version. Use pandas.concat instead.\n",
      "  test_t = test_t.append(bottom_transac)\n",
      "C:\\Users\\Hammozi\\AppData\\Local\\Temp\\ipykernel_33060\\472698487.py:7: FutureWarning: The frame.append method is deprecated and will be removed from pandas in a future version. Use pandas.concat instead.\n",
      "  test_t = test_t.append(bottom_transac)\n"
     ]
    },
    {
     "name": "stdout",
     "output_type": "stream",
     "text": [
      "368\n",
      "369\n",
      "370\n"
     ]
    },
    {
     "name": "stderr",
     "output_type": "stream",
     "text": [
      "C:\\Users\\Hammozi\\AppData\\Local\\Temp\\ipykernel_33060\\472698487.py:7: FutureWarning: The frame.append method is deprecated and will be removed from pandas in a future version. Use pandas.concat instead.\n",
      "  test_t = test_t.append(bottom_transac)\n",
      "C:\\Users\\Hammozi\\AppData\\Local\\Temp\\ipykernel_33060\\472698487.py:7: FutureWarning: The frame.append method is deprecated and will be removed from pandas in a future version. Use pandas.concat instead.\n",
      "  test_t = test_t.append(bottom_transac)\n",
      "C:\\Users\\Hammozi\\AppData\\Local\\Temp\\ipykernel_33060\\472698487.py:7: FutureWarning: The frame.append method is deprecated and will be removed from pandas in a future version. Use pandas.concat instead.\n",
      "  test_t = test_t.append(bottom_transac)\n"
     ]
    },
    {
     "name": "stdout",
     "output_type": "stream",
     "text": [
      "371\n",
      "372\n",
      "373\n",
      "374\n"
     ]
    },
    {
     "name": "stderr",
     "output_type": "stream",
     "text": [
      "C:\\Users\\Hammozi\\AppData\\Local\\Temp\\ipykernel_33060\\472698487.py:7: FutureWarning: The frame.append method is deprecated and will be removed from pandas in a future version. Use pandas.concat instead.\n",
      "  test_t = test_t.append(bottom_transac)\n",
      "C:\\Users\\Hammozi\\AppData\\Local\\Temp\\ipykernel_33060\\472698487.py:7: FutureWarning: The frame.append method is deprecated and will be removed from pandas in a future version. Use pandas.concat instead.\n",
      "  test_t = test_t.append(bottom_transac)\n",
      "C:\\Users\\Hammozi\\AppData\\Local\\Temp\\ipykernel_33060\\472698487.py:7: FutureWarning: The frame.append method is deprecated and will be removed from pandas in a future version. Use pandas.concat instead.\n",
      "  test_t = test_t.append(bottom_transac)\n",
      "C:\\Users\\Hammozi\\AppData\\Local\\Temp\\ipykernel_33060\\472698487.py:7: FutureWarning: The frame.append method is deprecated and will be removed from pandas in a future version. Use pandas.concat instead.\n",
      "  test_t = test_t.append(bottom_transac)\n",
      "C:\\Users\\Hammozi\\AppData\\Local\\Temp\\ipykernel_33060\\472698487.py:7: FutureWarning: The frame.append method is deprecated and will be removed from pandas in a future version. Use pandas.concat instead.\n",
      "  test_t = test_t.append(bottom_transac)\n",
      "C:\\Users\\Hammozi\\AppData\\Local\\Temp\\ipykernel_33060\\472698487.py:7: FutureWarning: The frame.append method is deprecated and will be removed from pandas in a future version. Use pandas.concat instead.\n",
      "  test_t = test_t.append(bottom_transac)\n"
     ]
    },
    {
     "name": "stdout",
     "output_type": "stream",
     "text": [
      "375\n",
      "376\n",
      "377\n",
      "378\n"
     ]
    },
    {
     "name": "stderr",
     "output_type": "stream",
     "text": [
      "C:\\Users\\Hammozi\\AppData\\Local\\Temp\\ipykernel_33060\\472698487.py:7: FutureWarning: The frame.append method is deprecated and will be removed from pandas in a future version. Use pandas.concat instead.\n",
      "  test_t = test_t.append(bottom_transac)\n",
      "C:\\Users\\Hammozi\\AppData\\Local\\Temp\\ipykernel_33060\\472698487.py:7: FutureWarning: The frame.append method is deprecated and will be removed from pandas in a future version. Use pandas.concat instead.\n",
      "  test_t = test_t.append(bottom_transac)\n",
      "C:\\Users\\Hammozi\\AppData\\Local\\Temp\\ipykernel_33060\\472698487.py:7: FutureWarning: The frame.append method is deprecated and will be removed from pandas in a future version. Use pandas.concat instead.\n",
      "  test_t = test_t.append(bottom_transac)\n"
     ]
    },
    {
     "name": "stdout",
     "output_type": "stream",
     "text": [
      "379\n",
      "380\n",
      "381\n",
      "382\n"
     ]
    },
    {
     "name": "stderr",
     "output_type": "stream",
     "text": [
      "C:\\Users\\Hammozi\\AppData\\Local\\Temp\\ipykernel_33060\\472698487.py:7: FutureWarning: The frame.append method is deprecated and will be removed from pandas in a future version. Use pandas.concat instead.\n",
      "  test_t = test_t.append(bottom_transac)\n",
      "C:\\Users\\Hammozi\\AppData\\Local\\Temp\\ipykernel_33060\\472698487.py:7: FutureWarning: The frame.append method is deprecated and will be removed from pandas in a future version. Use pandas.concat instead.\n",
      "  test_t = test_t.append(bottom_transac)\n",
      "C:\\Users\\Hammozi\\AppData\\Local\\Temp\\ipykernel_33060\\472698487.py:7: FutureWarning: The frame.append method is deprecated and will be removed from pandas in a future version. Use pandas.concat instead.\n",
      "  test_t = test_t.append(bottom_transac)\n"
     ]
    },
    {
     "name": "stdout",
     "output_type": "stream",
     "text": [
      "383\n",
      "384\n",
      "385\n"
     ]
    },
    {
     "name": "stderr",
     "output_type": "stream",
     "text": [
      "C:\\Users\\Hammozi\\AppData\\Local\\Temp\\ipykernel_33060\\472698487.py:7: FutureWarning: The frame.append method is deprecated and will be removed from pandas in a future version. Use pandas.concat instead.\n",
      "  test_t = test_t.append(bottom_transac)\n",
      "C:\\Users\\Hammozi\\AppData\\Local\\Temp\\ipykernel_33060\\472698487.py:7: FutureWarning: The frame.append method is deprecated and will be removed from pandas in a future version. Use pandas.concat instead.\n",
      "  test_t = test_t.append(bottom_transac)\n",
      "C:\\Users\\Hammozi\\AppData\\Local\\Temp\\ipykernel_33060\\472698487.py:7: FutureWarning: The frame.append method is deprecated and will be removed from pandas in a future version. Use pandas.concat instead.\n",
      "  test_t = test_t.append(bottom_transac)\n"
     ]
    },
    {
     "name": "stdout",
     "output_type": "stream",
     "text": [
      "386\n",
      "387\n",
      "388\n",
      "389\n"
     ]
    },
    {
     "name": "stderr",
     "output_type": "stream",
     "text": [
      "C:\\Users\\Hammozi\\AppData\\Local\\Temp\\ipykernel_33060\\472698487.py:7: FutureWarning: The frame.append method is deprecated and will be removed from pandas in a future version. Use pandas.concat instead.\n",
      "  test_t = test_t.append(bottom_transac)\n",
      "C:\\Users\\Hammozi\\AppData\\Local\\Temp\\ipykernel_33060\\472698487.py:7: FutureWarning: The frame.append method is deprecated and will be removed from pandas in a future version. Use pandas.concat instead.\n",
      "  test_t = test_t.append(bottom_transac)\n",
      "C:\\Users\\Hammozi\\AppData\\Local\\Temp\\ipykernel_33060\\472698487.py:7: FutureWarning: The frame.append method is deprecated and will be removed from pandas in a future version. Use pandas.concat instead.\n",
      "  test_t = test_t.append(bottom_transac)\n",
      "C:\\Users\\Hammozi\\AppData\\Local\\Temp\\ipykernel_33060\\472698487.py:7: FutureWarning: The frame.append method is deprecated and will be removed from pandas in a future version. Use pandas.concat instead.\n",
      "  test_t = test_t.append(bottom_transac)\n",
      "C:\\Users\\Hammozi\\AppData\\Local\\Temp\\ipykernel_33060\\472698487.py:7: FutureWarning: The frame.append method is deprecated and will be removed from pandas in a future version. Use pandas.concat instead.\n",
      "  test_t = test_t.append(bottom_transac)\n",
      "C:\\Users\\Hammozi\\AppData\\Local\\Temp\\ipykernel_33060\\472698487.py:7: FutureWarning: The frame.append method is deprecated and will be removed from pandas in a future version. Use pandas.concat instead.\n",
      "  test_t = test_t.append(bottom_transac)\n"
     ]
    },
    {
     "name": "stdout",
     "output_type": "stream",
     "text": [
      "390\n",
      "391\n",
      "392\n",
      "393\n"
     ]
    },
    {
     "name": "stderr",
     "output_type": "stream",
     "text": [
      "C:\\Users\\Hammozi\\AppData\\Local\\Temp\\ipykernel_33060\\472698487.py:7: FutureWarning: The frame.append method is deprecated and will be removed from pandas in a future version. Use pandas.concat instead.\n",
      "  test_t = test_t.append(bottom_transac)\n",
      "C:\\Users\\Hammozi\\AppData\\Local\\Temp\\ipykernel_33060\\472698487.py:7: FutureWarning: The frame.append method is deprecated and will be removed from pandas in a future version. Use pandas.concat instead.\n",
      "  test_t = test_t.append(bottom_transac)\n",
      "C:\\Users\\Hammozi\\AppData\\Local\\Temp\\ipykernel_33060\\472698487.py:7: FutureWarning: The frame.append method is deprecated and will be removed from pandas in a future version. Use pandas.concat instead.\n",
      "  test_t = test_t.append(bottom_transac)\n"
     ]
    },
    {
     "name": "stdout",
     "output_type": "stream",
     "text": [
      "394\n",
      "395\n",
      "396\n",
      "397\n"
     ]
    },
    {
     "name": "stderr",
     "output_type": "stream",
     "text": [
      "C:\\Users\\Hammozi\\AppData\\Local\\Temp\\ipykernel_33060\\472698487.py:7: FutureWarning: The frame.append method is deprecated and will be removed from pandas in a future version. Use pandas.concat instead.\n",
      "  test_t = test_t.append(bottom_transac)\n",
      "C:\\Users\\Hammozi\\AppData\\Local\\Temp\\ipykernel_33060\\472698487.py:7: FutureWarning: The frame.append method is deprecated and will be removed from pandas in a future version. Use pandas.concat instead.\n",
      "  test_t = test_t.append(bottom_transac)\n",
      "C:\\Users\\Hammozi\\AppData\\Local\\Temp\\ipykernel_33060\\472698487.py:7: FutureWarning: The frame.append method is deprecated and will be removed from pandas in a future version. Use pandas.concat instead.\n",
      "  test_t = test_t.append(bottom_transac)\n"
     ]
    },
    {
     "name": "stdout",
     "output_type": "stream",
     "text": [
      "398\n",
      "399\n",
      "400\n",
      "401\n"
     ]
    },
    {
     "name": "stderr",
     "output_type": "stream",
     "text": [
      "C:\\Users\\Hammozi\\AppData\\Local\\Temp\\ipykernel_33060\\472698487.py:7: FutureWarning: The frame.append method is deprecated and will be removed from pandas in a future version. Use pandas.concat instead.\n",
      "  test_t = test_t.append(bottom_transac)\n",
      "C:\\Users\\Hammozi\\AppData\\Local\\Temp\\ipykernel_33060\\472698487.py:7: FutureWarning: The frame.append method is deprecated and will be removed from pandas in a future version. Use pandas.concat instead.\n",
      "  test_t = test_t.append(bottom_transac)\n",
      "C:\\Users\\Hammozi\\AppData\\Local\\Temp\\ipykernel_33060\\472698487.py:7: FutureWarning: The frame.append method is deprecated and will be removed from pandas in a future version. Use pandas.concat instead.\n",
      "  test_t = test_t.append(bottom_transac)\n",
      "C:\\Users\\Hammozi\\AppData\\Local\\Temp\\ipykernel_33060\\472698487.py:7: FutureWarning: The frame.append method is deprecated and will be removed from pandas in a future version. Use pandas.concat instead.\n",
      "  test_t = test_t.append(bottom_transac)\n",
      "C:\\Users\\Hammozi\\AppData\\Local\\Temp\\ipykernel_33060\\472698487.py:7: FutureWarning: The frame.append method is deprecated and will be removed from pandas in a future version. Use pandas.concat instead.\n",
      "  test_t = test_t.append(bottom_transac)\n",
      "C:\\Users\\Hammozi\\AppData\\Local\\Temp\\ipykernel_33060\\472698487.py:7: FutureWarning: The frame.append method is deprecated and will be removed from pandas in a future version. Use pandas.concat instead.\n",
      "  test_t = test_t.append(bottom_transac)\n"
     ]
    },
    {
     "name": "stdout",
     "output_type": "stream",
     "text": [
      "402\n",
      "403\n",
      "404\n"
     ]
    },
    {
     "name": "stderr",
     "output_type": "stream",
     "text": [
      "C:\\Users\\Hammozi\\AppData\\Local\\Temp\\ipykernel_33060\\472698487.py:7: FutureWarning: The frame.append method is deprecated and will be removed from pandas in a future version. Use pandas.concat instead.\n",
      "  test_t = test_t.append(bottom_transac)\n",
      "C:\\Users\\Hammozi\\AppData\\Local\\Temp\\ipykernel_33060\\472698487.py:7: FutureWarning: The frame.append method is deprecated and will be removed from pandas in a future version. Use pandas.concat instead.\n",
      "  test_t = test_t.append(bottom_transac)\n",
      "C:\\Users\\Hammozi\\AppData\\Local\\Temp\\ipykernel_33060\\472698487.py:7: FutureWarning: The frame.append method is deprecated and will be removed from pandas in a future version. Use pandas.concat instead.\n",
      "  test_t = test_t.append(bottom_transac)\n"
     ]
    },
    {
     "name": "stdout",
     "output_type": "stream",
     "text": [
      "405\n",
      "406\n",
      "407\n"
     ]
    },
    {
     "name": "stderr",
     "output_type": "stream",
     "text": [
      "C:\\Users\\Hammozi\\AppData\\Local\\Temp\\ipykernel_33060\\472698487.py:7: FutureWarning: The frame.append method is deprecated and will be removed from pandas in a future version. Use pandas.concat instead.\n",
      "  test_t = test_t.append(bottom_transac)\n",
      "C:\\Users\\Hammozi\\AppData\\Local\\Temp\\ipykernel_33060\\472698487.py:7: FutureWarning: The frame.append method is deprecated and will be removed from pandas in a future version. Use pandas.concat instead.\n",
      "  test_t = test_t.append(bottom_transac)\n",
      "C:\\Users\\Hammozi\\AppData\\Local\\Temp\\ipykernel_33060\\472698487.py:7: FutureWarning: The frame.append method is deprecated and will be removed from pandas in a future version. Use pandas.concat instead.\n",
      "  test_t = test_t.append(bottom_transac)\n"
     ]
    },
    {
     "name": "stdout",
     "output_type": "stream",
     "text": [
      "408\n",
      "409\n",
      "410\n",
      "411\n"
     ]
    },
    {
     "name": "stderr",
     "output_type": "stream",
     "text": [
      "C:\\Users\\Hammozi\\AppData\\Local\\Temp\\ipykernel_33060\\472698487.py:7: FutureWarning: The frame.append method is deprecated and will be removed from pandas in a future version. Use pandas.concat instead.\n",
      "  test_t = test_t.append(bottom_transac)\n",
      "C:\\Users\\Hammozi\\AppData\\Local\\Temp\\ipykernel_33060\\472698487.py:7: FutureWarning: The frame.append method is deprecated and will be removed from pandas in a future version. Use pandas.concat instead.\n",
      "  test_t = test_t.append(bottom_transac)\n",
      "C:\\Users\\Hammozi\\AppData\\Local\\Temp\\ipykernel_33060\\472698487.py:7: FutureWarning: The frame.append method is deprecated and will be removed from pandas in a future version. Use pandas.concat instead.\n",
      "  test_t = test_t.append(bottom_transac)\n"
     ]
    },
    {
     "name": "stdout",
     "output_type": "stream",
     "text": [
      "412\n",
      "413\n",
      "414\n",
      "415\n"
     ]
    },
    {
     "name": "stderr",
     "output_type": "stream",
     "text": [
      "C:\\Users\\Hammozi\\AppData\\Local\\Temp\\ipykernel_33060\\472698487.py:7: FutureWarning: The frame.append method is deprecated and will be removed from pandas in a future version. Use pandas.concat instead.\n",
      "  test_t = test_t.append(bottom_transac)\n",
      "C:\\Users\\Hammozi\\AppData\\Local\\Temp\\ipykernel_33060\\472698487.py:7: FutureWarning: The frame.append method is deprecated and will be removed from pandas in a future version. Use pandas.concat instead.\n",
      "  test_t = test_t.append(bottom_transac)\n",
      "C:\\Users\\Hammozi\\AppData\\Local\\Temp\\ipykernel_33060\\472698487.py:7: FutureWarning: The frame.append method is deprecated and will be removed from pandas in a future version. Use pandas.concat instead.\n",
      "  test_t = test_t.append(bottom_transac)\n"
     ]
    },
    {
     "name": "stdout",
     "output_type": "stream",
     "text": [
      "416\n",
      "417\n",
      "418\n",
      "419\n"
     ]
    },
    {
     "name": "stderr",
     "output_type": "stream",
     "text": [
      "C:\\Users\\Hammozi\\AppData\\Local\\Temp\\ipykernel_33060\\472698487.py:7: FutureWarning: The frame.append method is deprecated and will be removed from pandas in a future version. Use pandas.concat instead.\n",
      "  test_t = test_t.append(bottom_transac)\n",
      "C:\\Users\\Hammozi\\AppData\\Local\\Temp\\ipykernel_33060\\472698487.py:7: FutureWarning: The frame.append method is deprecated and will be removed from pandas in a future version. Use pandas.concat instead.\n",
      "  test_t = test_t.append(bottom_transac)\n",
      "C:\\Users\\Hammozi\\AppData\\Local\\Temp\\ipykernel_33060\\472698487.py:7: FutureWarning: The frame.append method is deprecated and will be removed from pandas in a future version. Use pandas.concat instead.\n",
      "  test_t = test_t.append(bottom_transac)\n",
      "C:\\Users\\Hammozi\\AppData\\Local\\Temp\\ipykernel_33060\\472698487.py:7: FutureWarning: The frame.append method is deprecated and will be removed from pandas in a future version. Use pandas.concat instead.\n",
      "  test_t = test_t.append(bottom_transac)\n",
      "C:\\Users\\Hammozi\\AppData\\Local\\Temp\\ipykernel_33060\\472698487.py:7: FutureWarning: The frame.append method is deprecated and will be removed from pandas in a future version. Use pandas.concat instead.\n",
      "  test_t = test_t.append(bottom_transac)\n",
      "C:\\Users\\Hammozi\\AppData\\Local\\Temp\\ipykernel_33060\\472698487.py:7: FutureWarning: The frame.append method is deprecated and will be removed from pandas in a future version. Use pandas.concat instead.\n",
      "  test_t = test_t.append(bottom_transac)\n"
     ]
    },
    {
     "name": "stdout",
     "output_type": "stream",
     "text": [
      "420\n",
      "421\n",
      "422\n"
     ]
    },
    {
     "name": "stderr",
     "output_type": "stream",
     "text": [
      "C:\\Users\\Hammozi\\AppData\\Local\\Temp\\ipykernel_33060\\472698487.py:7: FutureWarning: The frame.append method is deprecated and will be removed from pandas in a future version. Use pandas.concat instead.\n",
      "  test_t = test_t.append(bottom_transac)\n",
      "C:\\Users\\Hammozi\\AppData\\Local\\Temp\\ipykernel_33060\\472698487.py:7: FutureWarning: The frame.append method is deprecated and will be removed from pandas in a future version. Use pandas.concat instead.\n",
      "  test_t = test_t.append(bottom_transac)\n",
      "C:\\Users\\Hammozi\\AppData\\Local\\Temp\\ipykernel_33060\\472698487.py:7: FutureWarning: The frame.append method is deprecated and will be removed from pandas in a future version. Use pandas.concat instead.\n",
      "  test_t = test_t.append(bottom_transac)\n"
     ]
    },
    {
     "name": "stdout",
     "output_type": "stream",
     "text": [
      "423\n",
      "424\n",
      "425\n",
      "426\n"
     ]
    },
    {
     "name": "stderr",
     "output_type": "stream",
     "text": [
      "C:\\Users\\Hammozi\\AppData\\Local\\Temp\\ipykernel_33060\\472698487.py:7: FutureWarning: The frame.append method is deprecated and will be removed from pandas in a future version. Use pandas.concat instead.\n",
      "  test_t = test_t.append(bottom_transac)\n",
      "C:\\Users\\Hammozi\\AppData\\Local\\Temp\\ipykernel_33060\\472698487.py:7: FutureWarning: The frame.append method is deprecated and will be removed from pandas in a future version. Use pandas.concat instead.\n",
      "  test_t = test_t.append(bottom_transac)\n",
      "C:\\Users\\Hammozi\\AppData\\Local\\Temp\\ipykernel_33060\\472698487.py:7: FutureWarning: The frame.append method is deprecated and will be removed from pandas in a future version. Use pandas.concat instead.\n",
      "  test_t = test_t.append(bottom_transac)\n"
     ]
    },
    {
     "name": "stdout",
     "output_type": "stream",
     "text": [
      "427\n",
      "428\n",
      "429\n"
     ]
    },
    {
     "name": "stderr",
     "output_type": "stream",
     "text": [
      "C:\\Users\\Hammozi\\AppData\\Local\\Temp\\ipykernel_33060\\472698487.py:7: FutureWarning: The frame.append method is deprecated and will be removed from pandas in a future version. Use pandas.concat instead.\n",
      "  test_t = test_t.append(bottom_transac)\n",
      "C:\\Users\\Hammozi\\AppData\\Local\\Temp\\ipykernel_33060\\472698487.py:7: FutureWarning: The frame.append method is deprecated and will be removed from pandas in a future version. Use pandas.concat instead.\n",
      "  test_t = test_t.append(bottom_transac)\n",
      "C:\\Users\\Hammozi\\AppData\\Local\\Temp\\ipykernel_33060\\472698487.py:7: FutureWarning: The frame.append method is deprecated and will be removed from pandas in a future version. Use pandas.concat instead.\n",
      "  test_t = test_t.append(bottom_transac)\n"
     ]
    },
    {
     "name": "stdout",
     "output_type": "stream",
     "text": [
      "430\n",
      "431\n",
      "432\n",
      "433\n"
     ]
    },
    {
     "name": "stderr",
     "output_type": "stream",
     "text": [
      "C:\\Users\\Hammozi\\AppData\\Local\\Temp\\ipykernel_33060\\472698487.py:7: FutureWarning: The frame.append method is deprecated and will be removed from pandas in a future version. Use pandas.concat instead.\n",
      "  test_t = test_t.append(bottom_transac)\n",
      "C:\\Users\\Hammozi\\AppData\\Local\\Temp\\ipykernel_33060\\472698487.py:7: FutureWarning: The frame.append method is deprecated and will be removed from pandas in a future version. Use pandas.concat instead.\n",
      "  test_t = test_t.append(bottom_transac)\n",
      "C:\\Users\\Hammozi\\AppData\\Local\\Temp\\ipykernel_33060\\472698487.py:7: FutureWarning: The frame.append method is deprecated and will be removed from pandas in a future version. Use pandas.concat instead.\n",
      "  test_t = test_t.append(bottom_transac)\n"
     ]
    },
    {
     "name": "stdout",
     "output_type": "stream",
     "text": [
      "434\n",
      "435\n",
      "436\n",
      "437\n"
     ]
    },
    {
     "name": "stderr",
     "output_type": "stream",
     "text": [
      "C:\\Users\\Hammozi\\AppData\\Local\\Temp\\ipykernel_33060\\472698487.py:7: FutureWarning: The frame.append method is deprecated and will be removed from pandas in a future version. Use pandas.concat instead.\n",
      "  test_t = test_t.append(bottom_transac)\n",
      "C:\\Users\\Hammozi\\AppData\\Local\\Temp\\ipykernel_33060\\472698487.py:7: FutureWarning: The frame.append method is deprecated and will be removed from pandas in a future version. Use pandas.concat instead.\n",
      "  test_t = test_t.append(bottom_transac)\n",
      "C:\\Users\\Hammozi\\AppData\\Local\\Temp\\ipykernel_33060\\472698487.py:7: FutureWarning: The frame.append method is deprecated and will be removed from pandas in a future version. Use pandas.concat instead.\n",
      "  test_t = test_t.append(bottom_transac)\n",
      "C:\\Users\\Hammozi\\AppData\\Local\\Temp\\ipykernel_33060\\472698487.py:7: FutureWarning: The frame.append method is deprecated and will be removed from pandas in a future version. Use pandas.concat instead.\n",
      "  test_t = test_t.append(bottom_transac)\n",
      "C:\\Users\\Hammozi\\AppData\\Local\\Temp\\ipykernel_33060\\472698487.py:7: FutureWarning: The frame.append method is deprecated and will be removed from pandas in a future version. Use pandas.concat instead.\n",
      "  test_t = test_t.append(bottom_transac)\n",
      "C:\\Users\\Hammozi\\AppData\\Local\\Temp\\ipykernel_33060\\472698487.py:7: FutureWarning: The frame.append method is deprecated and will be removed from pandas in a future version. Use pandas.concat instead.\n",
      "  test_t = test_t.append(bottom_transac)\n"
     ]
    },
    {
     "name": "stdout",
     "output_type": "stream",
     "text": [
      "438\n",
      "439\n",
      "440\n"
     ]
    },
    {
     "name": "stderr",
     "output_type": "stream",
     "text": [
      "C:\\Users\\Hammozi\\AppData\\Local\\Temp\\ipykernel_33060\\472698487.py:7: FutureWarning: The frame.append method is deprecated and will be removed from pandas in a future version. Use pandas.concat instead.\n",
      "  test_t = test_t.append(bottom_transac)\n",
      "C:\\Users\\Hammozi\\AppData\\Local\\Temp\\ipykernel_33060\\472698487.py:7: FutureWarning: The frame.append method is deprecated and will be removed from pandas in a future version. Use pandas.concat instead.\n",
      "  test_t = test_t.append(bottom_transac)\n",
      "C:\\Users\\Hammozi\\AppData\\Local\\Temp\\ipykernel_33060\\472698487.py:7: FutureWarning: The frame.append method is deprecated and will be removed from pandas in a future version. Use pandas.concat instead.\n",
      "  test_t = test_t.append(bottom_transac)\n"
     ]
    },
    {
     "name": "stdout",
     "output_type": "stream",
     "text": [
      "441\n",
      "442\n",
      "443\n"
     ]
    },
    {
     "name": "stderr",
     "output_type": "stream",
     "text": [
      "C:\\Users\\Hammozi\\AppData\\Local\\Temp\\ipykernel_33060\\472698487.py:7: FutureWarning: The frame.append method is deprecated and will be removed from pandas in a future version. Use pandas.concat instead.\n",
      "  test_t = test_t.append(bottom_transac)\n",
      "C:\\Users\\Hammozi\\AppData\\Local\\Temp\\ipykernel_33060\\472698487.py:7: FutureWarning: The frame.append method is deprecated and will be removed from pandas in a future version. Use pandas.concat instead.\n",
      "  test_t = test_t.append(bottom_transac)\n",
      "C:\\Users\\Hammozi\\AppData\\Local\\Temp\\ipykernel_33060\\472698487.py:7: FutureWarning: The frame.append method is deprecated and will be removed from pandas in a future version. Use pandas.concat instead.\n",
      "  test_t = test_t.append(bottom_transac)\n"
     ]
    },
    {
     "name": "stdout",
     "output_type": "stream",
     "text": [
      "444\n",
      "445\n",
      "446\n"
     ]
    },
    {
     "name": "stderr",
     "output_type": "stream",
     "text": [
      "C:\\Users\\Hammozi\\AppData\\Local\\Temp\\ipykernel_33060\\472698487.py:7: FutureWarning: The frame.append method is deprecated and will be removed from pandas in a future version. Use pandas.concat instead.\n",
      "  test_t = test_t.append(bottom_transac)\n",
      "C:\\Users\\Hammozi\\AppData\\Local\\Temp\\ipykernel_33060\\472698487.py:7: FutureWarning: The frame.append method is deprecated and will be removed from pandas in a future version. Use pandas.concat instead.\n",
      "  test_t = test_t.append(bottom_transac)\n",
      "C:\\Users\\Hammozi\\AppData\\Local\\Temp\\ipykernel_33060\\472698487.py:7: FutureWarning: The frame.append method is deprecated and will be removed from pandas in a future version. Use pandas.concat instead.\n",
      "  test_t = test_t.append(bottom_transac)\n"
     ]
    },
    {
     "name": "stdout",
     "output_type": "stream",
     "text": [
      "447\n",
      "448\n",
      "449\n"
     ]
    },
    {
     "name": "stderr",
     "output_type": "stream",
     "text": [
      "C:\\Users\\Hammozi\\AppData\\Local\\Temp\\ipykernel_33060\\472698487.py:7: FutureWarning: The frame.append method is deprecated and will be removed from pandas in a future version. Use pandas.concat instead.\n",
      "  test_t = test_t.append(bottom_transac)\n",
      "C:\\Users\\Hammozi\\AppData\\Local\\Temp\\ipykernel_33060\\472698487.py:7: FutureWarning: The frame.append method is deprecated and will be removed from pandas in a future version. Use pandas.concat instead.\n",
      "  test_t = test_t.append(bottom_transac)\n",
      "C:\\Users\\Hammozi\\AppData\\Local\\Temp\\ipykernel_33060\\472698487.py:7: FutureWarning: The frame.append method is deprecated and will be removed from pandas in a future version. Use pandas.concat instead.\n",
      "  test_t = test_t.append(bottom_transac)\n"
     ]
    },
    {
     "name": "stdout",
     "output_type": "stream",
     "text": [
      "450\n",
      "451\n",
      "452\n"
     ]
    },
    {
     "name": "stderr",
     "output_type": "stream",
     "text": [
      "C:\\Users\\Hammozi\\AppData\\Local\\Temp\\ipykernel_33060\\472698487.py:7: FutureWarning: The frame.append method is deprecated and will be removed from pandas in a future version. Use pandas.concat instead.\n",
      "  test_t = test_t.append(bottom_transac)\n",
      "C:\\Users\\Hammozi\\AppData\\Local\\Temp\\ipykernel_33060\\472698487.py:7: FutureWarning: The frame.append method is deprecated and will be removed from pandas in a future version. Use pandas.concat instead.\n",
      "  test_t = test_t.append(bottom_transac)\n",
      "C:\\Users\\Hammozi\\AppData\\Local\\Temp\\ipykernel_33060\\472698487.py:7: FutureWarning: The frame.append method is deprecated and will be removed from pandas in a future version. Use pandas.concat instead.\n",
      "  test_t = test_t.append(bottom_transac)\n"
     ]
    },
    {
     "name": "stdout",
     "output_type": "stream",
     "text": [
      "453\n",
      "454\n",
      "455\n",
      "456\n"
     ]
    },
    {
     "name": "stderr",
     "output_type": "stream",
     "text": [
      "C:\\Users\\Hammozi\\AppData\\Local\\Temp\\ipykernel_33060\\472698487.py:7: FutureWarning: The frame.append method is deprecated and will be removed from pandas in a future version. Use pandas.concat instead.\n",
      "  test_t = test_t.append(bottom_transac)\n",
      "C:\\Users\\Hammozi\\AppData\\Local\\Temp\\ipykernel_33060\\472698487.py:7: FutureWarning: The frame.append method is deprecated and will be removed from pandas in a future version. Use pandas.concat instead.\n",
      "  test_t = test_t.append(bottom_transac)\n",
      "C:\\Users\\Hammozi\\AppData\\Local\\Temp\\ipykernel_33060\\472698487.py:7: FutureWarning: The frame.append method is deprecated and will be removed from pandas in a future version. Use pandas.concat instead.\n",
      "  test_t = test_t.append(bottom_transac)\n"
     ]
    },
    {
     "name": "stdout",
     "output_type": "stream",
     "text": [
      "457\n",
      "458\n",
      "459\n"
     ]
    },
    {
     "name": "stderr",
     "output_type": "stream",
     "text": [
      "C:\\Users\\Hammozi\\AppData\\Local\\Temp\\ipykernel_33060\\472698487.py:7: FutureWarning: The frame.append method is deprecated and will be removed from pandas in a future version. Use pandas.concat instead.\n",
      "  test_t = test_t.append(bottom_transac)\n",
      "C:\\Users\\Hammozi\\AppData\\Local\\Temp\\ipykernel_33060\\472698487.py:7: FutureWarning: The frame.append method is deprecated and will be removed from pandas in a future version. Use pandas.concat instead.\n",
      "  test_t = test_t.append(bottom_transac)\n",
      "C:\\Users\\Hammozi\\AppData\\Local\\Temp\\ipykernel_33060\\472698487.py:7: FutureWarning: The frame.append method is deprecated and will be removed from pandas in a future version. Use pandas.concat instead.\n",
      "  test_t = test_t.append(bottom_transac)\n"
     ]
    },
    {
     "name": "stdout",
     "output_type": "stream",
     "text": [
      "460\n",
      "461\n",
      "462\n",
      "463\n"
     ]
    },
    {
     "name": "stderr",
     "output_type": "stream",
     "text": [
      "C:\\Users\\Hammozi\\AppData\\Local\\Temp\\ipykernel_33060\\472698487.py:7: FutureWarning: The frame.append method is deprecated and will be removed from pandas in a future version. Use pandas.concat instead.\n",
      "  test_t = test_t.append(bottom_transac)\n",
      "C:\\Users\\Hammozi\\AppData\\Local\\Temp\\ipykernel_33060\\472698487.py:7: FutureWarning: The frame.append method is deprecated and will be removed from pandas in a future version. Use pandas.concat instead.\n",
      "  test_t = test_t.append(bottom_transac)\n",
      "C:\\Users\\Hammozi\\AppData\\Local\\Temp\\ipykernel_33060\\472698487.py:7: FutureWarning: The frame.append method is deprecated and will be removed from pandas in a future version. Use pandas.concat instead.\n",
      "  test_t = test_t.append(bottom_transac)\n"
     ]
    },
    {
     "name": "stdout",
     "output_type": "stream",
     "text": [
      "464\n",
      "465\n",
      "466\n",
      "467\n"
     ]
    },
    {
     "name": "stderr",
     "output_type": "stream",
     "text": [
      "C:\\Users\\Hammozi\\AppData\\Local\\Temp\\ipykernel_33060\\472698487.py:7: FutureWarning: The frame.append method is deprecated and will be removed from pandas in a future version. Use pandas.concat instead.\n",
      "  test_t = test_t.append(bottom_transac)\n",
      "C:\\Users\\Hammozi\\AppData\\Local\\Temp\\ipykernel_33060\\472698487.py:7: FutureWarning: The frame.append method is deprecated and will be removed from pandas in a future version. Use pandas.concat instead.\n",
      "  test_t = test_t.append(bottom_transac)\n",
      "C:\\Users\\Hammozi\\AppData\\Local\\Temp\\ipykernel_33060\\472698487.py:7: FutureWarning: The frame.append method is deprecated and will be removed from pandas in a future version. Use pandas.concat instead.\n",
      "  test_t = test_t.append(bottom_transac)\n",
      "C:\\Users\\Hammozi\\AppData\\Local\\Temp\\ipykernel_33060\\472698487.py:7: FutureWarning: The frame.append method is deprecated and will be removed from pandas in a future version. Use pandas.concat instead.\n",
      "  test_t = test_t.append(bottom_transac)\n",
      "C:\\Users\\Hammozi\\AppData\\Local\\Temp\\ipykernel_33060\\472698487.py:7: FutureWarning: The frame.append method is deprecated and will be removed from pandas in a future version. Use pandas.concat instead.\n",
      "  test_t = test_t.append(bottom_transac)\n",
      "C:\\Users\\Hammozi\\AppData\\Local\\Temp\\ipykernel_33060\\472698487.py:7: FutureWarning: The frame.append method is deprecated and will be removed from pandas in a future version. Use pandas.concat instead.\n",
      "  test_t = test_t.append(bottom_transac)\n"
     ]
    },
    {
     "name": "stdout",
     "output_type": "stream",
     "text": [
      "468\n",
      "469\n",
      "470\n",
      "471\n"
     ]
    },
    {
     "name": "stderr",
     "output_type": "stream",
     "text": [
      "C:\\Users\\Hammozi\\AppData\\Local\\Temp\\ipykernel_33060\\472698487.py:7: FutureWarning: The frame.append method is deprecated and will be removed from pandas in a future version. Use pandas.concat instead.\n",
      "  test_t = test_t.append(bottom_transac)\n",
      "C:\\Users\\Hammozi\\AppData\\Local\\Temp\\ipykernel_33060\\472698487.py:7: FutureWarning: The frame.append method is deprecated and will be removed from pandas in a future version. Use pandas.concat instead.\n",
      "  test_t = test_t.append(bottom_transac)\n",
      "C:\\Users\\Hammozi\\AppData\\Local\\Temp\\ipykernel_33060\\472698487.py:7: FutureWarning: The frame.append method is deprecated and will be removed from pandas in a future version. Use pandas.concat instead.\n",
      "  test_t = test_t.append(bottom_transac)\n"
     ]
    },
    {
     "name": "stdout",
     "output_type": "stream",
     "text": [
      "472\n",
      "473\n",
      "474\n",
      "475\n"
     ]
    },
    {
     "name": "stderr",
     "output_type": "stream",
     "text": [
      "C:\\Users\\Hammozi\\AppData\\Local\\Temp\\ipykernel_33060\\472698487.py:7: FutureWarning: The frame.append method is deprecated and will be removed from pandas in a future version. Use pandas.concat instead.\n",
      "  test_t = test_t.append(bottom_transac)\n",
      "C:\\Users\\Hammozi\\AppData\\Local\\Temp\\ipykernel_33060\\472698487.py:7: FutureWarning: The frame.append method is deprecated and will be removed from pandas in a future version. Use pandas.concat instead.\n",
      "  test_t = test_t.append(bottom_transac)\n",
      "C:\\Users\\Hammozi\\AppData\\Local\\Temp\\ipykernel_33060\\472698487.py:7: FutureWarning: The frame.append method is deprecated and will be removed from pandas in a future version. Use pandas.concat instead.\n",
      "  test_t = test_t.append(bottom_transac)\n"
     ]
    },
    {
     "name": "stdout",
     "output_type": "stream",
     "text": [
      "476\n",
      "477\n",
      "478\n"
     ]
    },
    {
     "name": "stderr",
     "output_type": "stream",
     "text": [
      "C:\\Users\\Hammozi\\AppData\\Local\\Temp\\ipykernel_33060\\472698487.py:7: FutureWarning: The frame.append method is deprecated and will be removed from pandas in a future version. Use pandas.concat instead.\n",
      "  test_t = test_t.append(bottom_transac)\n",
      "C:\\Users\\Hammozi\\AppData\\Local\\Temp\\ipykernel_33060\\472698487.py:7: FutureWarning: The frame.append method is deprecated and will be removed from pandas in a future version. Use pandas.concat instead.\n",
      "  test_t = test_t.append(bottom_transac)\n",
      "C:\\Users\\Hammozi\\AppData\\Local\\Temp\\ipykernel_33060\\472698487.py:7: FutureWarning: The frame.append method is deprecated and will be removed from pandas in a future version. Use pandas.concat instead.\n",
      "  test_t = test_t.append(bottom_transac)\n"
     ]
    },
    {
     "name": "stdout",
     "output_type": "stream",
     "text": [
      "479\n",
      "480\n",
      "481\n",
      "482\n"
     ]
    },
    {
     "name": "stderr",
     "output_type": "stream",
     "text": [
      "C:\\Users\\Hammozi\\AppData\\Local\\Temp\\ipykernel_33060\\472698487.py:7: FutureWarning: The frame.append method is deprecated and will be removed from pandas in a future version. Use pandas.concat instead.\n",
      "  test_t = test_t.append(bottom_transac)\n",
      "C:\\Users\\Hammozi\\AppData\\Local\\Temp\\ipykernel_33060\\472698487.py:7: FutureWarning: The frame.append method is deprecated and will be removed from pandas in a future version. Use pandas.concat instead.\n",
      "  test_t = test_t.append(bottom_transac)\n",
      "C:\\Users\\Hammozi\\AppData\\Local\\Temp\\ipykernel_33060\\472698487.py:7: FutureWarning: The frame.append method is deprecated and will be removed from pandas in a future version. Use pandas.concat instead.\n",
      "  test_t = test_t.append(bottom_transac)\n",
      "C:\\Users\\Hammozi\\AppData\\Local\\Temp\\ipykernel_33060\\472698487.py:7: FutureWarning: The frame.append method is deprecated and will be removed from pandas in a future version. Use pandas.concat instead.\n",
      "  test_t = test_t.append(bottom_transac)\n",
      "C:\\Users\\Hammozi\\AppData\\Local\\Temp\\ipykernel_33060\\472698487.py:7: FutureWarning: The frame.append method is deprecated and will be removed from pandas in a future version. Use pandas.concat instead.\n",
      "  test_t = test_t.append(bottom_transac)\n",
      "C:\\Users\\Hammozi\\AppData\\Local\\Temp\\ipykernel_33060\\472698487.py:7: FutureWarning: The frame.append method is deprecated and will be removed from pandas in a future version. Use pandas.concat instead.\n",
      "  test_t = test_t.append(bottom_transac)\n"
     ]
    },
    {
     "name": "stdout",
     "output_type": "stream",
     "text": [
      "483\n",
      "484\n",
      "485\n",
      "486\n"
     ]
    },
    {
     "name": "stderr",
     "output_type": "stream",
     "text": [
      "C:\\Users\\Hammozi\\AppData\\Local\\Temp\\ipykernel_33060\\472698487.py:7: FutureWarning: The frame.append method is deprecated and will be removed from pandas in a future version. Use pandas.concat instead.\n",
      "  test_t = test_t.append(bottom_transac)\n",
      "C:\\Users\\Hammozi\\AppData\\Local\\Temp\\ipykernel_33060\\472698487.py:7: FutureWarning: The frame.append method is deprecated and will be removed from pandas in a future version. Use pandas.concat instead.\n",
      "  test_t = test_t.append(bottom_transac)\n",
      "C:\\Users\\Hammozi\\AppData\\Local\\Temp\\ipykernel_33060\\472698487.py:7: FutureWarning: The frame.append method is deprecated and will be removed from pandas in a future version. Use pandas.concat instead.\n",
      "  test_t = test_t.append(bottom_transac)\n"
     ]
    },
    {
     "name": "stdout",
     "output_type": "stream",
     "text": [
      "487\n",
      "488\n",
      "489\n",
      "490\n"
     ]
    },
    {
     "name": "stderr",
     "output_type": "stream",
     "text": [
      "C:\\Users\\Hammozi\\AppData\\Local\\Temp\\ipykernel_33060\\472698487.py:7: FutureWarning: The frame.append method is deprecated and will be removed from pandas in a future version. Use pandas.concat instead.\n",
      "  test_t = test_t.append(bottom_transac)\n",
      "C:\\Users\\Hammozi\\AppData\\Local\\Temp\\ipykernel_33060\\472698487.py:7: FutureWarning: The frame.append method is deprecated and will be removed from pandas in a future version. Use pandas.concat instead.\n",
      "  test_t = test_t.append(bottom_transac)\n",
      "C:\\Users\\Hammozi\\AppData\\Local\\Temp\\ipykernel_33060\\472698487.py:7: FutureWarning: The frame.append method is deprecated and will be removed from pandas in a future version. Use pandas.concat instead.\n",
      "  test_t = test_t.append(bottom_transac)\n"
     ]
    },
    {
     "name": "stdout",
     "output_type": "stream",
     "text": [
      "491\n",
      "492\n",
      "493\n"
     ]
    },
    {
     "name": "stderr",
     "output_type": "stream",
     "text": [
      "C:\\Users\\Hammozi\\AppData\\Local\\Temp\\ipykernel_33060\\472698487.py:7: FutureWarning: The frame.append method is deprecated and will be removed from pandas in a future version. Use pandas.concat instead.\n",
      "  test_t = test_t.append(bottom_transac)\n",
      "C:\\Users\\Hammozi\\AppData\\Local\\Temp\\ipykernel_33060\\472698487.py:7: FutureWarning: The frame.append method is deprecated and will be removed from pandas in a future version. Use pandas.concat instead.\n",
      "  test_t = test_t.append(bottom_transac)\n",
      "C:\\Users\\Hammozi\\AppData\\Local\\Temp\\ipykernel_33060\\472698487.py:7: FutureWarning: The frame.append method is deprecated and will be removed from pandas in a future version. Use pandas.concat instead.\n",
      "  test_t = test_t.append(bottom_transac)\n"
     ]
    },
    {
     "name": "stdout",
     "output_type": "stream",
     "text": [
      "494\n",
      "495\n",
      "496\n",
      "497\n"
     ]
    },
    {
     "name": "stderr",
     "output_type": "stream",
     "text": [
      "C:\\Users\\Hammozi\\AppData\\Local\\Temp\\ipykernel_33060\\472698487.py:7: FutureWarning: The frame.append method is deprecated and will be removed from pandas in a future version. Use pandas.concat instead.\n",
      "  test_t = test_t.append(bottom_transac)\n",
      "C:\\Users\\Hammozi\\AppData\\Local\\Temp\\ipykernel_33060\\472698487.py:7: FutureWarning: The frame.append method is deprecated and will be removed from pandas in a future version. Use pandas.concat instead.\n",
      "  test_t = test_t.append(bottom_transac)\n",
      "C:\\Users\\Hammozi\\AppData\\Local\\Temp\\ipykernel_33060\\472698487.py:7: FutureWarning: The frame.append method is deprecated and will be removed from pandas in a future version. Use pandas.concat instead.\n",
      "  test_t = test_t.append(bottom_transac)\n",
      "C:\\Users\\Hammozi\\AppData\\Local\\Temp\\ipykernel_33060\\472698487.py:7: FutureWarning: The frame.append method is deprecated and will be removed from pandas in a future version. Use pandas.concat instead.\n",
      "  test_t = test_t.append(bottom_transac)\n",
      "C:\\Users\\Hammozi\\AppData\\Local\\Temp\\ipykernel_33060\\472698487.py:7: FutureWarning: The frame.append method is deprecated and will be removed from pandas in a future version. Use pandas.concat instead.\n",
      "  test_t = test_t.append(bottom_transac)\n",
      "C:\\Users\\Hammozi\\AppData\\Local\\Temp\\ipykernel_33060\\472698487.py:7: FutureWarning: The frame.append method is deprecated and will be removed from pandas in a future version. Use pandas.concat instead.\n",
      "  test_t = test_t.append(bottom_transac)\n"
     ]
    },
    {
     "name": "stdout",
     "output_type": "stream",
     "text": [
      "498\n",
      "499\n",
      "500\n"
     ]
    },
    {
     "name": "stderr",
     "output_type": "stream",
     "text": [
      "C:\\Users\\Hammozi\\AppData\\Local\\Temp\\ipykernel_33060\\472698487.py:7: FutureWarning: The frame.append method is deprecated and will be removed from pandas in a future version. Use pandas.concat instead.\n",
      "  test_t = test_t.append(bottom_transac)\n",
      "C:\\Users\\Hammozi\\AppData\\Local\\Temp\\ipykernel_33060\\472698487.py:7: FutureWarning: The frame.append method is deprecated and will be removed from pandas in a future version. Use pandas.concat instead.\n",
      "  test_t = test_t.append(bottom_transac)\n",
      "C:\\Users\\Hammozi\\AppData\\Local\\Temp\\ipykernel_33060\\472698487.py:7: FutureWarning: The frame.append method is deprecated and will be removed from pandas in a future version. Use pandas.concat instead.\n",
      "  test_t = test_t.append(bottom_transac)\n"
     ]
    },
    {
     "name": "stdout",
     "output_type": "stream",
     "text": [
      "501\n",
      "502\n",
      "503\n",
      "504\n"
     ]
    },
    {
     "name": "stderr",
     "output_type": "stream",
     "text": [
      "C:\\Users\\Hammozi\\AppData\\Local\\Temp\\ipykernel_33060\\472698487.py:7: FutureWarning: The frame.append method is deprecated and will be removed from pandas in a future version. Use pandas.concat instead.\n",
      "  test_t = test_t.append(bottom_transac)\n",
      "C:\\Users\\Hammozi\\AppData\\Local\\Temp\\ipykernel_33060\\472698487.py:7: FutureWarning: The frame.append method is deprecated and will be removed from pandas in a future version. Use pandas.concat instead.\n",
      "  test_t = test_t.append(bottom_transac)\n",
      "C:\\Users\\Hammozi\\AppData\\Local\\Temp\\ipykernel_33060\\472698487.py:7: FutureWarning: The frame.append method is deprecated and will be removed from pandas in a future version. Use pandas.concat instead.\n",
      "  test_t = test_t.append(bottom_transac)\n"
     ]
    },
    {
     "name": "stdout",
     "output_type": "stream",
     "text": [
      "505\n",
      "506\n",
      "507\n"
     ]
    },
    {
     "name": "stderr",
     "output_type": "stream",
     "text": [
      "C:\\Users\\Hammozi\\AppData\\Local\\Temp\\ipykernel_33060\\472698487.py:7: FutureWarning: The frame.append method is deprecated and will be removed from pandas in a future version. Use pandas.concat instead.\n",
      "  test_t = test_t.append(bottom_transac)\n",
      "C:\\Users\\Hammozi\\AppData\\Local\\Temp\\ipykernel_33060\\472698487.py:7: FutureWarning: The frame.append method is deprecated and will be removed from pandas in a future version. Use pandas.concat instead.\n",
      "  test_t = test_t.append(bottom_transac)\n",
      "C:\\Users\\Hammozi\\AppData\\Local\\Temp\\ipykernel_33060\\472698487.py:7: FutureWarning: The frame.append method is deprecated and will be removed from pandas in a future version. Use pandas.concat instead.\n",
      "  test_t = test_t.append(bottom_transac)\n"
     ]
    },
    {
     "name": "stdout",
     "output_type": "stream",
     "text": [
      "508\n",
      "509\n",
      "510\n"
     ]
    },
    {
     "name": "stderr",
     "output_type": "stream",
     "text": [
      "C:\\Users\\Hammozi\\AppData\\Local\\Temp\\ipykernel_33060\\472698487.py:7: FutureWarning: The frame.append method is deprecated and will be removed from pandas in a future version. Use pandas.concat instead.\n",
      "  test_t = test_t.append(bottom_transac)\n",
      "C:\\Users\\Hammozi\\AppData\\Local\\Temp\\ipykernel_33060\\472698487.py:7: FutureWarning: The frame.append method is deprecated and will be removed from pandas in a future version. Use pandas.concat instead.\n",
      "  test_t = test_t.append(bottom_transac)\n",
      "C:\\Users\\Hammozi\\AppData\\Local\\Temp\\ipykernel_33060\\472698487.py:7: FutureWarning: The frame.append method is deprecated and will be removed from pandas in a future version. Use pandas.concat instead.\n",
      "  test_t = test_t.append(bottom_transac)\n"
     ]
    },
    {
     "name": "stdout",
     "output_type": "stream",
     "text": [
      "511\n",
      "512\n",
      "513\n"
     ]
    },
    {
     "name": "stderr",
     "output_type": "stream",
     "text": [
      "C:\\Users\\Hammozi\\AppData\\Local\\Temp\\ipykernel_33060\\472698487.py:7: FutureWarning: The frame.append method is deprecated and will be removed from pandas in a future version. Use pandas.concat instead.\n",
      "  test_t = test_t.append(bottom_transac)\n",
      "C:\\Users\\Hammozi\\AppData\\Local\\Temp\\ipykernel_33060\\472698487.py:7: FutureWarning: The frame.append method is deprecated and will be removed from pandas in a future version. Use pandas.concat instead.\n",
      "  test_t = test_t.append(bottom_transac)\n",
      "C:\\Users\\Hammozi\\AppData\\Local\\Temp\\ipykernel_33060\\472698487.py:7: FutureWarning: The frame.append method is deprecated and will be removed from pandas in a future version. Use pandas.concat instead.\n",
      "  test_t = test_t.append(bottom_transac)\n"
     ]
    },
    {
     "name": "stdout",
     "output_type": "stream",
     "text": [
      "514\n",
      "515\n",
      "516\n"
     ]
    },
    {
     "name": "stderr",
     "output_type": "stream",
     "text": [
      "C:\\Users\\Hammozi\\AppData\\Local\\Temp\\ipykernel_33060\\472698487.py:7: FutureWarning: The frame.append method is deprecated and will be removed from pandas in a future version. Use pandas.concat instead.\n",
      "  test_t = test_t.append(bottom_transac)\n",
      "C:\\Users\\Hammozi\\AppData\\Local\\Temp\\ipykernel_33060\\472698487.py:7: FutureWarning: The frame.append method is deprecated and will be removed from pandas in a future version. Use pandas.concat instead.\n",
      "  test_t = test_t.append(bottom_transac)\n",
      "C:\\Users\\Hammozi\\AppData\\Local\\Temp\\ipykernel_33060\\472698487.py:7: FutureWarning: The frame.append method is deprecated and will be removed from pandas in a future version. Use pandas.concat instead.\n",
      "  test_t = test_t.append(bottom_transac)\n"
     ]
    },
    {
     "name": "stdout",
     "output_type": "stream",
     "text": [
      "517\n",
      "518\n",
      "519\n"
     ]
    },
    {
     "name": "stderr",
     "output_type": "stream",
     "text": [
      "C:\\Users\\Hammozi\\AppData\\Local\\Temp\\ipykernel_33060\\472698487.py:7: FutureWarning: The frame.append method is deprecated and will be removed from pandas in a future version. Use pandas.concat instead.\n",
      "  test_t = test_t.append(bottom_transac)\n",
      "C:\\Users\\Hammozi\\AppData\\Local\\Temp\\ipykernel_33060\\472698487.py:7: FutureWarning: The frame.append method is deprecated and will be removed from pandas in a future version. Use pandas.concat instead.\n",
      "  test_t = test_t.append(bottom_transac)\n",
      "C:\\Users\\Hammozi\\AppData\\Local\\Temp\\ipykernel_33060\\472698487.py:7: FutureWarning: The frame.append method is deprecated and will be removed from pandas in a future version. Use pandas.concat instead.\n",
      "  test_t = test_t.append(bottom_transac)\n"
     ]
    },
    {
     "name": "stdout",
     "output_type": "stream",
     "text": [
      "520\n",
      "521\n",
      "522\n"
     ]
    },
    {
     "name": "stderr",
     "output_type": "stream",
     "text": [
      "C:\\Users\\Hammozi\\AppData\\Local\\Temp\\ipykernel_33060\\472698487.py:7: FutureWarning: The frame.append method is deprecated and will be removed from pandas in a future version. Use pandas.concat instead.\n",
      "  test_t = test_t.append(bottom_transac)\n",
      "C:\\Users\\Hammozi\\AppData\\Local\\Temp\\ipykernel_33060\\472698487.py:7: FutureWarning: The frame.append method is deprecated and will be removed from pandas in a future version. Use pandas.concat instead.\n",
      "  test_t = test_t.append(bottom_transac)\n",
      "C:\\Users\\Hammozi\\AppData\\Local\\Temp\\ipykernel_33060\\472698487.py:7: FutureWarning: The frame.append method is deprecated and will be removed from pandas in a future version. Use pandas.concat instead.\n",
      "  test_t = test_t.append(bottom_transac)\n"
     ]
    },
    {
     "name": "stdout",
     "output_type": "stream",
     "text": [
      "523\n",
      "524\n",
      "525\n"
     ]
    },
    {
     "name": "stderr",
     "output_type": "stream",
     "text": [
      "C:\\Users\\Hammozi\\AppData\\Local\\Temp\\ipykernel_33060\\472698487.py:7: FutureWarning: The frame.append method is deprecated and will be removed from pandas in a future version. Use pandas.concat instead.\n",
      "  test_t = test_t.append(bottom_transac)\n",
      "C:\\Users\\Hammozi\\AppData\\Local\\Temp\\ipykernel_33060\\472698487.py:7: FutureWarning: The frame.append method is deprecated and will be removed from pandas in a future version. Use pandas.concat instead.\n",
      "  test_t = test_t.append(bottom_transac)\n",
      "C:\\Users\\Hammozi\\AppData\\Local\\Temp\\ipykernel_33060\\472698487.py:7: FutureWarning: The frame.append method is deprecated and will be removed from pandas in a future version. Use pandas.concat instead.\n",
      "  test_t = test_t.append(bottom_transac)\n"
     ]
    },
    {
     "name": "stdout",
     "output_type": "stream",
     "text": [
      "526\n",
      "527\n",
      "528\n"
     ]
    },
    {
     "name": "stderr",
     "output_type": "stream",
     "text": [
      "C:\\Users\\Hammozi\\AppData\\Local\\Temp\\ipykernel_33060\\472698487.py:7: FutureWarning: The frame.append method is deprecated and will be removed from pandas in a future version. Use pandas.concat instead.\n",
      "  test_t = test_t.append(bottom_transac)\n",
      "C:\\Users\\Hammozi\\AppData\\Local\\Temp\\ipykernel_33060\\472698487.py:7: FutureWarning: The frame.append method is deprecated and will be removed from pandas in a future version. Use pandas.concat instead.\n",
      "  test_t = test_t.append(bottom_transac)\n",
      "C:\\Users\\Hammozi\\AppData\\Local\\Temp\\ipykernel_33060\\472698487.py:7: FutureWarning: The frame.append method is deprecated and will be removed from pandas in a future version. Use pandas.concat instead.\n",
      "  test_t = test_t.append(bottom_transac)\n"
     ]
    },
    {
     "name": "stdout",
     "output_type": "stream",
     "text": [
      "529\n",
      "530\n",
      "531\n",
      "532\n"
     ]
    },
    {
     "name": "stderr",
     "output_type": "stream",
     "text": [
      "C:\\Users\\Hammozi\\AppData\\Local\\Temp\\ipykernel_33060\\472698487.py:7: FutureWarning: The frame.append method is deprecated and will be removed from pandas in a future version. Use pandas.concat instead.\n",
      "  test_t = test_t.append(bottom_transac)\n",
      "C:\\Users\\Hammozi\\AppData\\Local\\Temp\\ipykernel_33060\\472698487.py:7: FutureWarning: The frame.append method is deprecated and will be removed from pandas in a future version. Use pandas.concat instead.\n",
      "  test_t = test_t.append(bottom_transac)\n",
      "C:\\Users\\Hammozi\\AppData\\Local\\Temp\\ipykernel_33060\\472698487.py:7: FutureWarning: The frame.append method is deprecated and will be removed from pandas in a future version. Use pandas.concat instead.\n",
      "  test_t = test_t.append(bottom_transac)\n"
     ]
    },
    {
     "name": "stdout",
     "output_type": "stream",
     "text": [
      "533\n",
      "534\n",
      "535\n",
      "536\n"
     ]
    },
    {
     "name": "stderr",
     "output_type": "stream",
     "text": [
      "C:\\Users\\Hammozi\\AppData\\Local\\Temp\\ipykernel_33060\\472698487.py:7: FutureWarning: The frame.append method is deprecated and will be removed from pandas in a future version. Use pandas.concat instead.\n",
      "  test_t = test_t.append(bottom_transac)\n",
      "C:\\Users\\Hammozi\\AppData\\Local\\Temp\\ipykernel_33060\\472698487.py:7: FutureWarning: The frame.append method is deprecated and will be removed from pandas in a future version. Use pandas.concat instead.\n",
      "  test_t = test_t.append(bottom_transac)\n",
      "C:\\Users\\Hammozi\\AppData\\Local\\Temp\\ipykernel_33060\\472698487.py:7: FutureWarning: The frame.append method is deprecated and will be removed from pandas in a future version. Use pandas.concat instead.\n",
      "  test_t = test_t.append(bottom_transac)\n",
      "C:\\Users\\Hammozi\\AppData\\Local\\Temp\\ipykernel_33060\\472698487.py:7: FutureWarning: The frame.append method is deprecated and will be removed from pandas in a future version. Use pandas.concat instead.\n",
      "  test_t = test_t.append(bottom_transac)\n",
      "C:\\Users\\Hammozi\\AppData\\Local\\Temp\\ipykernel_33060\\472698487.py:7: FutureWarning: The frame.append method is deprecated and will be removed from pandas in a future version. Use pandas.concat instead.\n",
      "  test_t = test_t.append(bottom_transac)\n",
      "C:\\Users\\Hammozi\\AppData\\Local\\Temp\\ipykernel_33060\\472698487.py:7: FutureWarning: The frame.append method is deprecated and will be removed from pandas in a future version. Use pandas.concat instead.\n",
      "  test_t = test_t.append(bottom_transac)\n"
     ]
    },
    {
     "name": "stdout",
     "output_type": "stream",
     "text": [
      "537\n",
      "538\n",
      "539\n",
      "540\n"
     ]
    },
    {
     "name": "stderr",
     "output_type": "stream",
     "text": [
      "C:\\Users\\Hammozi\\AppData\\Local\\Temp\\ipykernel_33060\\472698487.py:7: FutureWarning: The frame.append method is deprecated and will be removed from pandas in a future version. Use pandas.concat instead.\n",
      "  test_t = test_t.append(bottom_transac)\n",
      "C:\\Users\\Hammozi\\AppData\\Local\\Temp\\ipykernel_33060\\472698487.py:7: FutureWarning: The frame.append method is deprecated and will be removed from pandas in a future version. Use pandas.concat instead.\n",
      "  test_t = test_t.append(bottom_transac)\n",
      "C:\\Users\\Hammozi\\AppData\\Local\\Temp\\ipykernel_33060\\472698487.py:7: FutureWarning: The frame.append method is deprecated and will be removed from pandas in a future version. Use pandas.concat instead.\n",
      "  test_t = test_t.append(bottom_transac)\n"
     ]
    },
    {
     "name": "stdout",
     "output_type": "stream",
     "text": [
      "541\n",
      "542\n",
      "543\n",
      "544\n"
     ]
    },
    {
     "name": "stderr",
     "output_type": "stream",
     "text": [
      "C:\\Users\\Hammozi\\AppData\\Local\\Temp\\ipykernel_33060\\472698487.py:7: FutureWarning: The frame.append method is deprecated and will be removed from pandas in a future version. Use pandas.concat instead.\n",
      "  test_t = test_t.append(bottom_transac)\n",
      "C:\\Users\\Hammozi\\AppData\\Local\\Temp\\ipykernel_33060\\472698487.py:7: FutureWarning: The frame.append method is deprecated and will be removed from pandas in a future version. Use pandas.concat instead.\n",
      "  test_t = test_t.append(bottom_transac)\n",
      "C:\\Users\\Hammozi\\AppData\\Local\\Temp\\ipykernel_33060\\472698487.py:7: FutureWarning: The frame.append method is deprecated and will be removed from pandas in a future version. Use pandas.concat instead.\n",
      "  test_t = test_t.append(bottom_transac)\n"
     ]
    },
    {
     "name": "stdout",
     "output_type": "stream",
     "text": [
      "545\n",
      "546\n",
      "547\n",
      "548\n"
     ]
    },
    {
     "name": "stderr",
     "output_type": "stream",
     "text": [
      "C:\\Users\\Hammozi\\AppData\\Local\\Temp\\ipykernel_33060\\472698487.py:7: FutureWarning: The frame.append method is deprecated and will be removed from pandas in a future version. Use pandas.concat instead.\n",
      "  test_t = test_t.append(bottom_transac)\n",
      "C:\\Users\\Hammozi\\AppData\\Local\\Temp\\ipykernel_33060\\472698487.py:7: FutureWarning: The frame.append method is deprecated and will be removed from pandas in a future version. Use pandas.concat instead.\n",
      "  test_t = test_t.append(bottom_transac)\n",
      "C:\\Users\\Hammozi\\AppData\\Local\\Temp\\ipykernel_33060\\472698487.py:7: FutureWarning: The frame.append method is deprecated and will be removed from pandas in a future version. Use pandas.concat instead.\n",
      "  test_t = test_t.append(bottom_transac)\n",
      "C:\\Users\\Hammozi\\AppData\\Local\\Temp\\ipykernel_33060\\472698487.py:7: FutureWarning: The frame.append method is deprecated and will be removed from pandas in a future version. Use pandas.concat instead.\n",
      "  test_t = test_t.append(bottom_transac)\n",
      "C:\\Users\\Hammozi\\AppData\\Local\\Temp\\ipykernel_33060\\472698487.py:7: FutureWarning: The frame.append method is deprecated and will be removed from pandas in a future version. Use pandas.concat instead.\n",
      "  test_t = test_t.append(bottom_transac)\n",
      "C:\\Users\\Hammozi\\AppData\\Local\\Temp\\ipykernel_33060\\472698487.py:7: FutureWarning: The frame.append method is deprecated and will be removed from pandas in a future version. Use pandas.concat instead.\n",
      "  test_t = test_t.append(bottom_transac)\n"
     ]
    },
    {
     "name": "stdout",
     "output_type": "stream",
     "text": [
      "549\n",
      "550\n",
      "551\n",
      "552\n"
     ]
    },
    {
     "name": "stderr",
     "output_type": "stream",
     "text": [
      "C:\\Users\\Hammozi\\AppData\\Local\\Temp\\ipykernel_33060\\472698487.py:7: FutureWarning: The frame.append method is deprecated and will be removed from pandas in a future version. Use pandas.concat instead.\n",
      "  test_t = test_t.append(bottom_transac)\n",
      "C:\\Users\\Hammozi\\AppData\\Local\\Temp\\ipykernel_33060\\472698487.py:7: FutureWarning: The frame.append method is deprecated and will be removed from pandas in a future version. Use pandas.concat instead.\n",
      "  test_t = test_t.append(bottom_transac)\n",
      "C:\\Users\\Hammozi\\AppData\\Local\\Temp\\ipykernel_33060\\472698487.py:7: FutureWarning: The frame.append method is deprecated and will be removed from pandas in a future version. Use pandas.concat instead.\n",
      "  test_t = test_t.append(bottom_transac)\n"
     ]
    },
    {
     "name": "stdout",
     "output_type": "stream",
     "text": [
      "553\n",
      "554\n",
      "555\n"
     ]
    },
    {
     "name": "stderr",
     "output_type": "stream",
     "text": [
      "C:\\Users\\Hammozi\\AppData\\Local\\Temp\\ipykernel_33060\\472698487.py:7: FutureWarning: The frame.append method is deprecated and will be removed from pandas in a future version. Use pandas.concat instead.\n",
      "  test_t = test_t.append(bottom_transac)\n",
      "C:\\Users\\Hammozi\\AppData\\Local\\Temp\\ipykernel_33060\\472698487.py:7: FutureWarning: The frame.append method is deprecated and will be removed from pandas in a future version. Use pandas.concat instead.\n",
      "  test_t = test_t.append(bottom_transac)\n",
      "C:\\Users\\Hammozi\\AppData\\Local\\Temp\\ipykernel_33060\\472698487.py:7: FutureWarning: The frame.append method is deprecated and will be removed from pandas in a future version. Use pandas.concat instead.\n",
      "  test_t = test_t.append(bottom_transac)\n"
     ]
    },
    {
     "name": "stdout",
     "output_type": "stream",
     "text": [
      "556\n",
      "557\n",
      "558\n"
     ]
    },
    {
     "name": "stderr",
     "output_type": "stream",
     "text": [
      "C:\\Users\\Hammozi\\AppData\\Local\\Temp\\ipykernel_33060\\472698487.py:7: FutureWarning: The frame.append method is deprecated and will be removed from pandas in a future version. Use pandas.concat instead.\n",
      "  test_t = test_t.append(bottom_transac)\n",
      "C:\\Users\\Hammozi\\AppData\\Local\\Temp\\ipykernel_33060\\472698487.py:7: FutureWarning: The frame.append method is deprecated and will be removed from pandas in a future version. Use pandas.concat instead.\n",
      "  test_t = test_t.append(bottom_transac)\n",
      "C:\\Users\\Hammozi\\AppData\\Local\\Temp\\ipykernel_33060\\472698487.py:7: FutureWarning: The frame.append method is deprecated and will be removed from pandas in a future version. Use pandas.concat instead.\n",
      "  test_t = test_t.append(bottom_transac)\n"
     ]
    },
    {
     "name": "stdout",
     "output_type": "stream",
     "text": [
      "559\n",
      "560\n",
      "561\n",
      "562\n"
     ]
    },
    {
     "name": "stderr",
     "output_type": "stream",
     "text": [
      "C:\\Users\\Hammozi\\AppData\\Local\\Temp\\ipykernel_33060\\472698487.py:7: FutureWarning: The frame.append method is deprecated and will be removed from pandas in a future version. Use pandas.concat instead.\n",
      "  test_t = test_t.append(bottom_transac)\n",
      "C:\\Users\\Hammozi\\AppData\\Local\\Temp\\ipykernel_33060\\472698487.py:7: FutureWarning: The frame.append method is deprecated and will be removed from pandas in a future version. Use pandas.concat instead.\n",
      "  test_t = test_t.append(bottom_transac)\n",
      "C:\\Users\\Hammozi\\AppData\\Local\\Temp\\ipykernel_33060\\472698487.py:7: FutureWarning: The frame.append method is deprecated and will be removed from pandas in a future version. Use pandas.concat instead.\n",
      "  test_t = test_t.append(bottom_transac)\n"
     ]
    },
    {
     "name": "stdout",
     "output_type": "stream",
     "text": [
      "563\n",
      "564\n",
      "565\n"
     ]
    },
    {
     "name": "stderr",
     "output_type": "stream",
     "text": [
      "C:\\Users\\Hammozi\\AppData\\Local\\Temp\\ipykernel_33060\\472698487.py:7: FutureWarning: The frame.append method is deprecated and will be removed from pandas in a future version. Use pandas.concat instead.\n",
      "  test_t = test_t.append(bottom_transac)\n",
      "C:\\Users\\Hammozi\\AppData\\Local\\Temp\\ipykernel_33060\\472698487.py:7: FutureWarning: The frame.append method is deprecated and will be removed from pandas in a future version. Use pandas.concat instead.\n",
      "  test_t = test_t.append(bottom_transac)\n",
      "C:\\Users\\Hammozi\\AppData\\Local\\Temp\\ipykernel_33060\\472698487.py:7: FutureWarning: The frame.append method is deprecated and will be removed from pandas in a future version. Use pandas.concat instead.\n",
      "  test_t = test_t.append(bottom_transac)\n"
     ]
    },
    {
     "name": "stdout",
     "output_type": "stream",
     "text": [
      "566\n",
      "567\n",
      "568\n"
     ]
    },
    {
     "name": "stderr",
     "output_type": "stream",
     "text": [
      "C:\\Users\\Hammozi\\AppData\\Local\\Temp\\ipykernel_33060\\472698487.py:7: FutureWarning: The frame.append method is deprecated and will be removed from pandas in a future version. Use pandas.concat instead.\n",
      "  test_t = test_t.append(bottom_transac)\n",
      "C:\\Users\\Hammozi\\AppData\\Local\\Temp\\ipykernel_33060\\472698487.py:7: FutureWarning: The frame.append method is deprecated and will be removed from pandas in a future version. Use pandas.concat instead.\n",
      "  test_t = test_t.append(bottom_transac)\n",
      "C:\\Users\\Hammozi\\AppData\\Local\\Temp\\ipykernel_33060\\472698487.py:7: FutureWarning: The frame.append method is deprecated and will be removed from pandas in a future version. Use pandas.concat instead.\n",
      "  test_t = test_t.append(bottom_transac)\n"
     ]
    },
    {
     "name": "stdout",
     "output_type": "stream",
     "text": [
      "569\n",
      "570\n",
      "571\n"
     ]
    },
    {
     "name": "stderr",
     "output_type": "stream",
     "text": [
      "C:\\Users\\Hammozi\\AppData\\Local\\Temp\\ipykernel_33060\\472698487.py:7: FutureWarning: The frame.append method is deprecated and will be removed from pandas in a future version. Use pandas.concat instead.\n",
      "  test_t = test_t.append(bottom_transac)\n",
      "C:\\Users\\Hammozi\\AppData\\Local\\Temp\\ipykernel_33060\\472698487.py:7: FutureWarning: The frame.append method is deprecated and will be removed from pandas in a future version. Use pandas.concat instead.\n",
      "  test_t = test_t.append(bottom_transac)\n",
      "C:\\Users\\Hammozi\\AppData\\Local\\Temp\\ipykernel_33060\\472698487.py:7: FutureWarning: The frame.append method is deprecated and will be removed from pandas in a future version. Use pandas.concat instead.\n",
      "  test_t = test_t.append(bottom_transac)\n"
     ]
    },
    {
     "name": "stdout",
     "output_type": "stream",
     "text": [
      "572\n",
      "573\n",
      "574\n"
     ]
    },
    {
     "name": "stderr",
     "output_type": "stream",
     "text": [
      "C:\\Users\\Hammozi\\AppData\\Local\\Temp\\ipykernel_33060\\472698487.py:7: FutureWarning: The frame.append method is deprecated and will be removed from pandas in a future version. Use pandas.concat instead.\n",
      "  test_t = test_t.append(bottom_transac)\n",
      "C:\\Users\\Hammozi\\AppData\\Local\\Temp\\ipykernel_33060\\472698487.py:7: FutureWarning: The frame.append method is deprecated and will be removed from pandas in a future version. Use pandas.concat instead.\n",
      "  test_t = test_t.append(bottom_transac)\n",
      "C:\\Users\\Hammozi\\AppData\\Local\\Temp\\ipykernel_33060\\472698487.py:7: FutureWarning: The frame.append method is deprecated and will be removed from pandas in a future version. Use pandas.concat instead.\n",
      "  test_t = test_t.append(bottom_transac)\n"
     ]
    },
    {
     "name": "stdout",
     "output_type": "stream",
     "text": [
      "575\n",
      "576\n",
      "577\n",
      "578\n"
     ]
    },
    {
     "name": "stderr",
     "output_type": "stream",
     "text": [
      "C:\\Users\\Hammozi\\AppData\\Local\\Temp\\ipykernel_33060\\472698487.py:7: FutureWarning: The frame.append method is deprecated and will be removed from pandas in a future version. Use pandas.concat instead.\n",
      "  test_t = test_t.append(bottom_transac)\n",
      "C:\\Users\\Hammozi\\AppData\\Local\\Temp\\ipykernel_33060\\472698487.py:7: FutureWarning: The frame.append method is deprecated and will be removed from pandas in a future version. Use pandas.concat instead.\n",
      "  test_t = test_t.append(bottom_transac)\n",
      "C:\\Users\\Hammozi\\AppData\\Local\\Temp\\ipykernel_33060\\472698487.py:7: FutureWarning: The frame.append method is deprecated and will be removed from pandas in a future version. Use pandas.concat instead.\n",
      "  test_t = test_t.append(bottom_transac)\n",
      "C:\\Users\\Hammozi\\AppData\\Local\\Temp\\ipykernel_33060\\472698487.py:7: FutureWarning: The frame.append method is deprecated and will be removed from pandas in a future version. Use pandas.concat instead.\n",
      "  test_t = test_t.append(bottom_transac)\n",
      "C:\\Users\\Hammozi\\AppData\\Local\\Temp\\ipykernel_33060\\472698487.py:7: FutureWarning: The frame.append method is deprecated and will be removed from pandas in a future version. Use pandas.concat instead.\n",
      "  test_t = test_t.append(bottom_transac)\n",
      "C:\\Users\\Hammozi\\AppData\\Local\\Temp\\ipykernel_33060\\472698487.py:7: FutureWarning: The frame.append method is deprecated and will be removed from pandas in a future version. Use pandas.concat instead.\n",
      "  test_t = test_t.append(bottom_transac)\n"
     ]
    },
    {
     "name": "stdout",
     "output_type": "stream",
     "text": [
      "579\n",
      "580\n",
      "581\n",
      "582\n"
     ]
    },
    {
     "name": "stderr",
     "output_type": "stream",
     "text": [
      "C:\\Users\\Hammozi\\AppData\\Local\\Temp\\ipykernel_33060\\472698487.py:7: FutureWarning: The frame.append method is deprecated and will be removed from pandas in a future version. Use pandas.concat instead.\n",
      "  test_t = test_t.append(bottom_transac)\n",
      "C:\\Users\\Hammozi\\AppData\\Local\\Temp\\ipykernel_33060\\472698487.py:7: FutureWarning: The frame.append method is deprecated and will be removed from pandas in a future version. Use pandas.concat instead.\n",
      "  test_t = test_t.append(bottom_transac)\n",
      "C:\\Users\\Hammozi\\AppData\\Local\\Temp\\ipykernel_33060\\472698487.py:7: FutureWarning: The frame.append method is deprecated and will be removed from pandas in a future version. Use pandas.concat instead.\n",
      "  test_t = test_t.append(bottom_transac)\n"
     ]
    },
    {
     "name": "stdout",
     "output_type": "stream",
     "text": [
      "583\n",
      "584\n",
      "585\n"
     ]
    },
    {
     "name": "stderr",
     "output_type": "stream",
     "text": [
      "C:\\Users\\Hammozi\\AppData\\Local\\Temp\\ipykernel_33060\\472698487.py:7: FutureWarning: The frame.append method is deprecated and will be removed from pandas in a future version. Use pandas.concat instead.\n",
      "  test_t = test_t.append(bottom_transac)\n",
      "C:\\Users\\Hammozi\\AppData\\Local\\Temp\\ipykernel_33060\\472698487.py:7: FutureWarning: The frame.append method is deprecated and will be removed from pandas in a future version. Use pandas.concat instead.\n",
      "  test_t = test_t.append(bottom_transac)\n",
      "C:\\Users\\Hammozi\\AppData\\Local\\Temp\\ipykernel_33060\\472698487.py:7: FutureWarning: The frame.append method is deprecated and will be removed from pandas in a future version. Use pandas.concat instead.\n",
      "  test_t = test_t.append(bottom_transac)\n"
     ]
    },
    {
     "name": "stdout",
     "output_type": "stream",
     "text": [
      "586\n",
      "587\n",
      "588\n",
      "589\n"
     ]
    },
    {
     "name": "stderr",
     "output_type": "stream",
     "text": [
      "C:\\Users\\Hammozi\\AppData\\Local\\Temp\\ipykernel_33060\\472698487.py:7: FutureWarning: The frame.append method is deprecated and will be removed from pandas in a future version. Use pandas.concat instead.\n",
      "  test_t = test_t.append(bottom_transac)\n",
      "C:\\Users\\Hammozi\\AppData\\Local\\Temp\\ipykernel_33060\\472698487.py:7: FutureWarning: The frame.append method is deprecated and will be removed from pandas in a future version. Use pandas.concat instead.\n",
      "  test_t = test_t.append(bottom_transac)\n",
      "C:\\Users\\Hammozi\\AppData\\Local\\Temp\\ipykernel_33060\\472698487.py:7: FutureWarning: The frame.append method is deprecated and will be removed from pandas in a future version. Use pandas.concat instead.\n",
      "  test_t = test_t.append(bottom_transac)\n"
     ]
    },
    {
     "name": "stdout",
     "output_type": "stream",
     "text": [
      "590\n",
      "591\n",
      "592\n",
      "593\n"
     ]
    },
    {
     "name": "stderr",
     "output_type": "stream",
     "text": [
      "C:\\Users\\Hammozi\\AppData\\Local\\Temp\\ipykernel_33060\\472698487.py:7: FutureWarning: The frame.append method is deprecated and will be removed from pandas in a future version. Use pandas.concat instead.\n",
      "  test_t = test_t.append(bottom_transac)\n",
      "C:\\Users\\Hammozi\\AppData\\Local\\Temp\\ipykernel_33060\\472698487.py:7: FutureWarning: The frame.append method is deprecated and will be removed from pandas in a future version. Use pandas.concat instead.\n",
      "  test_t = test_t.append(bottom_transac)\n",
      "C:\\Users\\Hammozi\\AppData\\Local\\Temp\\ipykernel_33060\\472698487.py:7: FutureWarning: The frame.append method is deprecated and will be removed from pandas in a future version. Use pandas.concat instead.\n",
      "  test_t = test_t.append(bottom_transac)\n",
      "C:\\Users\\Hammozi\\AppData\\Local\\Temp\\ipykernel_33060\\472698487.py:7: FutureWarning: The frame.append method is deprecated and will be removed from pandas in a future version. Use pandas.concat instead.\n",
      "  test_t = test_t.append(bottom_transac)\n",
      "C:\\Users\\Hammozi\\AppData\\Local\\Temp\\ipykernel_33060\\472698487.py:7: FutureWarning: The frame.append method is deprecated and will be removed from pandas in a future version. Use pandas.concat instead.\n",
      "  test_t = test_t.append(bottom_transac)\n",
      "C:\\Users\\Hammozi\\AppData\\Local\\Temp\\ipykernel_33060\\472698487.py:7: FutureWarning: The frame.append method is deprecated and will be removed from pandas in a future version. Use pandas.concat instead.\n",
      "  test_t = test_t.append(bottom_transac)\n"
     ]
    },
    {
     "name": "stdout",
     "output_type": "stream",
     "text": [
      "594\n",
      "595\n",
      "596\n"
     ]
    },
    {
     "name": "stderr",
     "output_type": "stream",
     "text": [
      "C:\\Users\\Hammozi\\AppData\\Local\\Temp\\ipykernel_33060\\472698487.py:7: FutureWarning: The frame.append method is deprecated and will be removed from pandas in a future version. Use pandas.concat instead.\n",
      "  test_t = test_t.append(bottom_transac)\n",
      "C:\\Users\\Hammozi\\AppData\\Local\\Temp\\ipykernel_33060\\472698487.py:7: FutureWarning: The frame.append method is deprecated and will be removed from pandas in a future version. Use pandas.concat instead.\n",
      "  test_t = test_t.append(bottom_transac)\n",
      "C:\\Users\\Hammozi\\AppData\\Local\\Temp\\ipykernel_33060\\472698487.py:7: FutureWarning: The frame.append method is deprecated and will be removed from pandas in a future version. Use pandas.concat instead.\n",
      "  test_t = test_t.append(bottom_transac)\n"
     ]
    },
    {
     "name": "stdout",
     "output_type": "stream",
     "text": [
      "597\n",
      "598\n",
      "599\n",
      "600\n"
     ]
    },
    {
     "name": "stderr",
     "output_type": "stream",
     "text": [
      "C:\\Users\\Hammozi\\AppData\\Local\\Temp\\ipykernel_33060\\472698487.py:7: FutureWarning: The frame.append method is deprecated and will be removed from pandas in a future version. Use pandas.concat instead.\n",
      "  test_t = test_t.append(bottom_transac)\n",
      "C:\\Users\\Hammozi\\AppData\\Local\\Temp\\ipykernel_33060\\472698487.py:7: FutureWarning: The frame.append method is deprecated and will be removed from pandas in a future version. Use pandas.concat instead.\n",
      "  test_t = test_t.append(bottom_transac)\n",
      "C:\\Users\\Hammozi\\AppData\\Local\\Temp\\ipykernel_33060\\472698487.py:7: FutureWarning: The frame.append method is deprecated and will be removed from pandas in a future version. Use pandas.concat instead.\n",
      "  test_t = test_t.append(bottom_transac)\n"
     ]
    },
    {
     "name": "stdout",
     "output_type": "stream",
     "text": [
      "601\n",
      "602\n",
      "603\n",
      "604\n"
     ]
    },
    {
     "name": "stderr",
     "output_type": "stream",
     "text": [
      "C:\\Users\\Hammozi\\AppData\\Local\\Temp\\ipykernel_33060\\472698487.py:7: FutureWarning: The frame.append method is deprecated and will be removed from pandas in a future version. Use pandas.concat instead.\n",
      "  test_t = test_t.append(bottom_transac)\n",
      "C:\\Users\\Hammozi\\AppData\\Local\\Temp\\ipykernel_33060\\472698487.py:7: FutureWarning: The frame.append method is deprecated and will be removed from pandas in a future version. Use pandas.concat instead.\n",
      "  test_t = test_t.append(bottom_transac)\n",
      "C:\\Users\\Hammozi\\AppData\\Local\\Temp\\ipykernel_33060\\472698487.py:7: FutureWarning: The frame.append method is deprecated and will be removed from pandas in a future version. Use pandas.concat instead.\n",
      "  test_t = test_t.append(bottom_transac)\n"
     ]
    },
    {
     "name": "stdout",
     "output_type": "stream",
     "text": [
      "605\n",
      "606\n",
      "607\n"
     ]
    },
    {
     "name": "stderr",
     "output_type": "stream",
     "text": [
      "C:\\Users\\Hammozi\\AppData\\Local\\Temp\\ipykernel_33060\\472698487.py:7: FutureWarning: The frame.append method is deprecated and will be removed from pandas in a future version. Use pandas.concat instead.\n",
      "  test_t = test_t.append(bottom_transac)\n",
      "C:\\Users\\Hammozi\\AppData\\Local\\Temp\\ipykernel_33060\\472698487.py:7: FutureWarning: The frame.append method is deprecated and will be removed from pandas in a future version. Use pandas.concat instead.\n",
      "  test_t = test_t.append(bottom_transac)\n",
      "C:\\Users\\Hammozi\\AppData\\Local\\Temp\\ipykernel_33060\\472698487.py:7: FutureWarning: The frame.append method is deprecated and will be removed from pandas in a future version. Use pandas.concat instead.\n",
      "  test_t = test_t.append(bottom_transac)\n"
     ]
    },
    {
     "name": "stdout",
     "output_type": "stream",
     "text": [
      "608\n",
      "609\n",
      "610\n",
      "611\n"
     ]
    },
    {
     "name": "stderr",
     "output_type": "stream",
     "text": [
      "C:\\Users\\Hammozi\\AppData\\Local\\Temp\\ipykernel_33060\\472698487.py:7: FutureWarning: The frame.append method is deprecated and will be removed from pandas in a future version. Use pandas.concat instead.\n",
      "  test_t = test_t.append(bottom_transac)\n",
      "C:\\Users\\Hammozi\\AppData\\Local\\Temp\\ipykernel_33060\\472698487.py:7: FutureWarning: The frame.append method is deprecated and will be removed from pandas in a future version. Use pandas.concat instead.\n",
      "  test_t = test_t.append(bottom_transac)\n",
      "C:\\Users\\Hammozi\\AppData\\Local\\Temp\\ipykernel_33060\\472698487.py:7: FutureWarning: The frame.append method is deprecated and will be removed from pandas in a future version. Use pandas.concat instead.\n",
      "  test_t = test_t.append(bottom_transac)\n",
      "C:\\Users\\Hammozi\\AppData\\Local\\Temp\\ipykernel_33060\\472698487.py:7: FutureWarning: The frame.append method is deprecated and will be removed from pandas in a future version. Use pandas.concat instead.\n",
      "  test_t = test_t.append(bottom_transac)\n",
      "C:\\Users\\Hammozi\\AppData\\Local\\Temp\\ipykernel_33060\\472698487.py:7: FutureWarning: The frame.append method is deprecated and will be removed from pandas in a future version. Use pandas.concat instead.\n",
      "  test_t = test_t.append(bottom_transac)\n",
      "C:\\Users\\Hammozi\\AppData\\Local\\Temp\\ipykernel_33060\\472698487.py:7: FutureWarning: The frame.append method is deprecated and will be removed from pandas in a future version. Use pandas.concat instead.\n",
      "  test_t = test_t.append(bottom_transac)\n"
     ]
    },
    {
     "name": "stdout",
     "output_type": "stream",
     "text": [
      "612\n",
      "613\n",
      "614\n"
     ]
    },
    {
     "name": "stderr",
     "output_type": "stream",
     "text": [
      "C:\\Users\\Hammozi\\AppData\\Local\\Temp\\ipykernel_33060\\472698487.py:7: FutureWarning: The frame.append method is deprecated and will be removed from pandas in a future version. Use pandas.concat instead.\n",
      "  test_t = test_t.append(bottom_transac)\n",
      "C:\\Users\\Hammozi\\AppData\\Local\\Temp\\ipykernel_33060\\472698487.py:7: FutureWarning: The frame.append method is deprecated and will be removed from pandas in a future version. Use pandas.concat instead.\n",
      "  test_t = test_t.append(bottom_transac)\n",
      "C:\\Users\\Hammozi\\AppData\\Local\\Temp\\ipykernel_33060\\472698487.py:7: FutureWarning: The frame.append method is deprecated and will be removed from pandas in a future version. Use pandas.concat instead.\n",
      "  test_t = test_t.append(bottom_transac)\n"
     ]
    },
    {
     "name": "stdout",
     "output_type": "stream",
     "text": [
      "615\n",
      "616\n",
      "617\n",
      "618\n"
     ]
    },
    {
     "name": "stderr",
     "output_type": "stream",
     "text": [
      "C:\\Users\\Hammozi\\AppData\\Local\\Temp\\ipykernel_33060\\472698487.py:7: FutureWarning: The frame.append method is deprecated and will be removed from pandas in a future version. Use pandas.concat instead.\n",
      "  test_t = test_t.append(bottom_transac)\n",
      "C:\\Users\\Hammozi\\AppData\\Local\\Temp\\ipykernel_33060\\472698487.py:7: FutureWarning: The frame.append method is deprecated and will be removed from pandas in a future version. Use pandas.concat instead.\n",
      "  test_t = test_t.append(bottom_transac)\n",
      "C:\\Users\\Hammozi\\AppData\\Local\\Temp\\ipykernel_33060\\472698487.py:7: FutureWarning: The frame.append method is deprecated and will be removed from pandas in a future version. Use pandas.concat instead.\n",
      "  test_t = test_t.append(bottom_transac)\n"
     ]
    },
    {
     "name": "stdout",
     "output_type": "stream",
     "text": [
      "619\n",
      "620\n",
      "621\n"
     ]
    },
    {
     "name": "stderr",
     "output_type": "stream",
     "text": [
      "C:\\Users\\Hammozi\\AppData\\Local\\Temp\\ipykernel_33060\\472698487.py:7: FutureWarning: The frame.append method is deprecated and will be removed from pandas in a future version. Use pandas.concat instead.\n",
      "  test_t = test_t.append(bottom_transac)\n",
      "C:\\Users\\Hammozi\\AppData\\Local\\Temp\\ipykernel_33060\\472698487.py:7: FutureWarning: The frame.append method is deprecated and will be removed from pandas in a future version. Use pandas.concat instead.\n",
      "  test_t = test_t.append(bottom_transac)\n",
      "C:\\Users\\Hammozi\\AppData\\Local\\Temp\\ipykernel_33060\\472698487.py:7: FutureWarning: The frame.append method is deprecated and will be removed from pandas in a future version. Use pandas.concat instead.\n",
      "  test_t = test_t.append(bottom_transac)\n"
     ]
    },
    {
     "name": "stdout",
     "output_type": "stream",
     "text": [
      "622\n",
      "623\n",
      "624\n"
     ]
    },
    {
     "name": "stderr",
     "output_type": "stream",
     "text": [
      "C:\\Users\\Hammozi\\AppData\\Local\\Temp\\ipykernel_33060\\472698487.py:7: FutureWarning: The frame.append method is deprecated and will be removed from pandas in a future version. Use pandas.concat instead.\n",
      "  test_t = test_t.append(bottom_transac)\n",
      "C:\\Users\\Hammozi\\AppData\\Local\\Temp\\ipykernel_33060\\472698487.py:7: FutureWarning: The frame.append method is deprecated and will be removed from pandas in a future version. Use pandas.concat instead.\n",
      "  test_t = test_t.append(bottom_transac)\n",
      "C:\\Users\\Hammozi\\AppData\\Local\\Temp\\ipykernel_33060\\472698487.py:7: FutureWarning: The frame.append method is deprecated and will be removed from pandas in a future version. Use pandas.concat instead.\n",
      "  test_t = test_t.append(bottom_transac)\n"
     ]
    },
    {
     "name": "stdout",
     "output_type": "stream",
     "text": [
      "625\n",
      "626\n",
      "627\n"
     ]
    },
    {
     "name": "stderr",
     "output_type": "stream",
     "text": [
      "C:\\Users\\Hammozi\\AppData\\Local\\Temp\\ipykernel_33060\\472698487.py:7: FutureWarning: The frame.append method is deprecated and will be removed from pandas in a future version. Use pandas.concat instead.\n",
      "  test_t = test_t.append(bottom_transac)\n",
      "C:\\Users\\Hammozi\\AppData\\Local\\Temp\\ipykernel_33060\\472698487.py:7: FutureWarning: The frame.append method is deprecated and will be removed from pandas in a future version. Use pandas.concat instead.\n",
      "  test_t = test_t.append(bottom_transac)\n",
      "C:\\Users\\Hammozi\\AppData\\Local\\Temp\\ipykernel_33060\\472698487.py:7: FutureWarning: The frame.append method is deprecated and will be removed from pandas in a future version. Use pandas.concat instead.\n",
      "  test_t = test_t.append(bottom_transac)\n"
     ]
    },
    {
     "name": "stdout",
     "output_type": "stream",
     "text": [
      "628\n",
      "629\n",
      "630\n"
     ]
    },
    {
     "name": "stderr",
     "output_type": "stream",
     "text": [
      "C:\\Users\\Hammozi\\AppData\\Local\\Temp\\ipykernel_33060\\472698487.py:7: FutureWarning: The frame.append method is deprecated and will be removed from pandas in a future version. Use pandas.concat instead.\n",
      "  test_t = test_t.append(bottom_transac)\n",
      "C:\\Users\\Hammozi\\AppData\\Local\\Temp\\ipykernel_33060\\472698487.py:7: FutureWarning: The frame.append method is deprecated and will be removed from pandas in a future version. Use pandas.concat instead.\n",
      "  test_t = test_t.append(bottom_transac)\n",
      "C:\\Users\\Hammozi\\AppData\\Local\\Temp\\ipykernel_33060\\472698487.py:7: FutureWarning: The frame.append method is deprecated and will be removed from pandas in a future version. Use pandas.concat instead.\n",
      "  test_t = test_t.append(bottom_transac)\n"
     ]
    },
    {
     "name": "stdout",
     "output_type": "stream",
     "text": [
      "631\n",
      "632\n",
      "633\n"
     ]
    },
    {
     "name": "stderr",
     "output_type": "stream",
     "text": [
      "C:\\Users\\Hammozi\\AppData\\Local\\Temp\\ipykernel_33060\\472698487.py:7: FutureWarning: The frame.append method is deprecated and will be removed from pandas in a future version. Use pandas.concat instead.\n",
      "  test_t = test_t.append(bottom_transac)\n",
      "C:\\Users\\Hammozi\\AppData\\Local\\Temp\\ipykernel_33060\\472698487.py:7: FutureWarning: The frame.append method is deprecated and will be removed from pandas in a future version. Use pandas.concat instead.\n",
      "  test_t = test_t.append(bottom_transac)\n",
      "C:\\Users\\Hammozi\\AppData\\Local\\Temp\\ipykernel_33060\\472698487.py:7: FutureWarning: The frame.append method is deprecated and will be removed from pandas in a future version. Use pandas.concat instead.\n",
      "  test_t = test_t.append(bottom_transac)\n"
     ]
    },
    {
     "name": "stdout",
     "output_type": "stream",
     "text": [
      "634\n",
      "635\n",
      "636\n"
     ]
    },
    {
     "name": "stderr",
     "output_type": "stream",
     "text": [
      "C:\\Users\\Hammozi\\AppData\\Local\\Temp\\ipykernel_33060\\472698487.py:7: FutureWarning: The frame.append method is deprecated and will be removed from pandas in a future version. Use pandas.concat instead.\n",
      "  test_t = test_t.append(bottom_transac)\n",
      "C:\\Users\\Hammozi\\AppData\\Local\\Temp\\ipykernel_33060\\472698487.py:7: FutureWarning: The frame.append method is deprecated and will be removed from pandas in a future version. Use pandas.concat instead.\n",
      "  test_t = test_t.append(bottom_transac)\n",
      "C:\\Users\\Hammozi\\AppData\\Local\\Temp\\ipykernel_33060\\472698487.py:7: FutureWarning: The frame.append method is deprecated and will be removed from pandas in a future version. Use pandas.concat instead.\n",
      "  test_t = test_t.append(bottom_transac)\n"
     ]
    },
    {
     "name": "stdout",
     "output_type": "stream",
     "text": [
      "637\n",
      "638\n",
      "639\n",
      "640\n"
     ]
    },
    {
     "name": "stderr",
     "output_type": "stream",
     "text": [
      "C:\\Users\\Hammozi\\AppData\\Local\\Temp\\ipykernel_33060\\472698487.py:7: FutureWarning: The frame.append method is deprecated and will be removed from pandas in a future version. Use pandas.concat instead.\n",
      "  test_t = test_t.append(bottom_transac)\n",
      "C:\\Users\\Hammozi\\AppData\\Local\\Temp\\ipykernel_33060\\472698487.py:7: FutureWarning: The frame.append method is deprecated and will be removed from pandas in a future version. Use pandas.concat instead.\n",
      "  test_t = test_t.append(bottom_transac)\n",
      "C:\\Users\\Hammozi\\AppData\\Local\\Temp\\ipykernel_33060\\472698487.py:7: FutureWarning: The frame.append method is deprecated and will be removed from pandas in a future version. Use pandas.concat instead.\n",
      "  test_t = test_t.append(bottom_transac)\n"
     ]
    },
    {
     "name": "stdout",
     "output_type": "stream",
     "text": [
      "641\n",
      "642\n",
      "643\n",
      "644\n"
     ]
    },
    {
     "name": "stderr",
     "output_type": "stream",
     "text": [
      "C:\\Users\\Hammozi\\AppData\\Local\\Temp\\ipykernel_33060\\472698487.py:7: FutureWarning: The frame.append method is deprecated and will be removed from pandas in a future version. Use pandas.concat instead.\n",
      "  test_t = test_t.append(bottom_transac)\n",
      "C:\\Users\\Hammozi\\AppData\\Local\\Temp\\ipykernel_33060\\472698487.py:7: FutureWarning: The frame.append method is deprecated and will be removed from pandas in a future version. Use pandas.concat instead.\n",
      "  test_t = test_t.append(bottom_transac)\n",
      "C:\\Users\\Hammozi\\AppData\\Local\\Temp\\ipykernel_33060\\472698487.py:7: FutureWarning: The frame.append method is deprecated and will be removed from pandas in a future version. Use pandas.concat instead.\n",
      "  test_t = test_t.append(bottom_transac)\n",
      "C:\\Users\\Hammozi\\AppData\\Local\\Temp\\ipykernel_33060\\472698487.py:7: FutureWarning: The frame.append method is deprecated and will be removed from pandas in a future version. Use pandas.concat instead.\n",
      "  test_t = test_t.append(bottom_transac)\n",
      "C:\\Users\\Hammozi\\AppData\\Local\\Temp\\ipykernel_33060\\472698487.py:7: FutureWarning: The frame.append method is deprecated and will be removed from pandas in a future version. Use pandas.concat instead.\n",
      "  test_t = test_t.append(bottom_transac)\n",
      "C:\\Users\\Hammozi\\AppData\\Local\\Temp\\ipykernel_33060\\472698487.py:7: FutureWarning: The frame.append method is deprecated and will be removed from pandas in a future version. Use pandas.concat instead.\n",
      "  test_t = test_t.append(bottom_transac)\n"
     ]
    },
    {
     "name": "stdout",
     "output_type": "stream",
     "text": [
      "645\n",
      "646\n",
      "647\n"
     ]
    },
    {
     "name": "stderr",
     "output_type": "stream",
     "text": [
      "C:\\Users\\Hammozi\\AppData\\Local\\Temp\\ipykernel_33060\\472698487.py:7: FutureWarning: The frame.append method is deprecated and will be removed from pandas in a future version. Use pandas.concat instead.\n",
      "  test_t = test_t.append(bottom_transac)\n",
      "C:\\Users\\Hammozi\\AppData\\Local\\Temp\\ipykernel_33060\\472698487.py:7: FutureWarning: The frame.append method is deprecated and will be removed from pandas in a future version. Use pandas.concat instead.\n",
      "  test_t = test_t.append(bottom_transac)\n",
      "C:\\Users\\Hammozi\\AppData\\Local\\Temp\\ipykernel_33060\\472698487.py:7: FutureWarning: The frame.append method is deprecated and will be removed from pandas in a future version. Use pandas.concat instead.\n",
      "  test_t = test_t.append(bottom_transac)\n"
     ]
    },
    {
     "name": "stdout",
     "output_type": "stream",
     "text": [
      "648\n",
      "649\n",
      "650\n"
     ]
    },
    {
     "name": "stderr",
     "output_type": "stream",
     "text": [
      "C:\\Users\\Hammozi\\AppData\\Local\\Temp\\ipykernel_33060\\472698487.py:7: FutureWarning: The frame.append method is deprecated and will be removed from pandas in a future version. Use pandas.concat instead.\n",
      "  test_t = test_t.append(bottom_transac)\n",
      "C:\\Users\\Hammozi\\AppData\\Local\\Temp\\ipykernel_33060\\472698487.py:7: FutureWarning: The frame.append method is deprecated and will be removed from pandas in a future version. Use pandas.concat instead.\n",
      "  test_t = test_t.append(bottom_transac)\n",
      "C:\\Users\\Hammozi\\AppData\\Local\\Temp\\ipykernel_33060\\472698487.py:7: FutureWarning: The frame.append method is deprecated and will be removed from pandas in a future version. Use pandas.concat instead.\n",
      "  test_t = test_t.append(bottom_transac)\n"
     ]
    },
    {
     "name": "stdout",
     "output_type": "stream",
     "text": [
      "651\n",
      "652\n",
      "653\n",
      "654\n"
     ]
    },
    {
     "name": "stderr",
     "output_type": "stream",
     "text": [
      "C:\\Users\\Hammozi\\AppData\\Local\\Temp\\ipykernel_33060\\472698487.py:7: FutureWarning: The frame.append method is deprecated and will be removed from pandas in a future version. Use pandas.concat instead.\n",
      "  test_t = test_t.append(bottom_transac)\n",
      "C:\\Users\\Hammozi\\AppData\\Local\\Temp\\ipykernel_33060\\472698487.py:7: FutureWarning: The frame.append method is deprecated and will be removed from pandas in a future version. Use pandas.concat instead.\n",
      "  test_t = test_t.append(bottom_transac)\n",
      "C:\\Users\\Hammozi\\AppData\\Local\\Temp\\ipykernel_33060\\472698487.py:7: FutureWarning: The frame.append method is deprecated and will be removed from pandas in a future version. Use pandas.concat instead.\n",
      "  test_t = test_t.append(bottom_transac)\n"
     ]
    },
    {
     "name": "stdout",
     "output_type": "stream",
     "text": [
      "655\n",
      "656\n",
      "657\n"
     ]
    },
    {
     "name": "stderr",
     "output_type": "stream",
     "text": [
      "C:\\Users\\Hammozi\\AppData\\Local\\Temp\\ipykernel_33060\\472698487.py:7: FutureWarning: The frame.append method is deprecated and will be removed from pandas in a future version. Use pandas.concat instead.\n",
      "  test_t = test_t.append(bottom_transac)\n",
      "C:\\Users\\Hammozi\\AppData\\Local\\Temp\\ipykernel_33060\\472698487.py:7: FutureWarning: The frame.append method is deprecated and will be removed from pandas in a future version. Use pandas.concat instead.\n",
      "  test_t = test_t.append(bottom_transac)\n",
      "C:\\Users\\Hammozi\\AppData\\Local\\Temp\\ipykernel_33060\\472698487.py:7: FutureWarning: The frame.append method is deprecated and will be removed from pandas in a future version. Use pandas.concat instead.\n",
      "  test_t = test_t.append(bottom_transac)\n"
     ]
    },
    {
     "name": "stdout",
     "output_type": "stream",
     "text": [
      "658\n",
      "659\n",
      "660\n",
      "661\n"
     ]
    },
    {
     "name": "stderr",
     "output_type": "stream",
     "text": [
      "C:\\Users\\Hammozi\\AppData\\Local\\Temp\\ipykernel_33060\\472698487.py:7: FutureWarning: The frame.append method is deprecated and will be removed from pandas in a future version. Use pandas.concat instead.\n",
      "  test_t = test_t.append(bottom_transac)\n",
      "C:\\Users\\Hammozi\\AppData\\Local\\Temp\\ipykernel_33060\\472698487.py:7: FutureWarning: The frame.append method is deprecated and will be removed from pandas in a future version. Use pandas.concat instead.\n",
      "  test_t = test_t.append(bottom_transac)\n",
      "C:\\Users\\Hammozi\\AppData\\Local\\Temp\\ipykernel_33060\\472698487.py:7: FutureWarning: The frame.append method is deprecated and will be removed from pandas in a future version. Use pandas.concat instead.\n",
      "  test_t = test_t.append(bottom_transac)\n"
     ]
    },
    {
     "name": "stdout",
     "output_type": "stream",
     "text": [
      "662\n",
      "663\n",
      "664\n",
      "665\n"
     ]
    },
    {
     "name": "stderr",
     "output_type": "stream",
     "text": [
      "C:\\Users\\Hammozi\\AppData\\Local\\Temp\\ipykernel_33060\\472698487.py:7: FutureWarning: The frame.append method is deprecated and will be removed from pandas in a future version. Use pandas.concat instead.\n",
      "  test_t = test_t.append(bottom_transac)\n",
      "C:\\Users\\Hammozi\\AppData\\Local\\Temp\\ipykernel_33060\\472698487.py:7: FutureWarning: The frame.append method is deprecated and will be removed from pandas in a future version. Use pandas.concat instead.\n",
      "  test_t = test_t.append(bottom_transac)\n",
      "C:\\Users\\Hammozi\\AppData\\Local\\Temp\\ipykernel_33060\\472698487.py:7: FutureWarning: The frame.append method is deprecated and will be removed from pandas in a future version. Use pandas.concat instead.\n",
      "  test_t = test_t.append(bottom_transac)\n",
      "C:\\Users\\Hammozi\\AppData\\Local\\Temp\\ipykernel_33060\\472698487.py:7: FutureWarning: The frame.append method is deprecated and will be removed from pandas in a future version. Use pandas.concat instead.\n",
      "  test_t = test_t.append(bottom_transac)\n",
      "C:\\Users\\Hammozi\\AppData\\Local\\Temp\\ipykernel_33060\\472698487.py:7: FutureWarning: The frame.append method is deprecated and will be removed from pandas in a future version. Use pandas.concat instead.\n",
      "  test_t = test_t.append(bottom_transac)\n",
      "C:\\Users\\Hammozi\\AppData\\Local\\Temp\\ipykernel_33060\\472698487.py:7: FutureWarning: The frame.append method is deprecated and will be removed from pandas in a future version. Use pandas.concat instead.\n",
      "  test_t = test_t.append(bottom_transac)\n"
     ]
    },
    {
     "name": "stdout",
     "output_type": "stream",
     "text": [
      "666\n",
      "667\n",
      "668\n"
     ]
    },
    {
     "name": "stderr",
     "output_type": "stream",
     "text": [
      "C:\\Users\\Hammozi\\AppData\\Local\\Temp\\ipykernel_33060\\472698487.py:7: FutureWarning: The frame.append method is deprecated and will be removed from pandas in a future version. Use pandas.concat instead.\n",
      "  test_t = test_t.append(bottom_transac)\n",
      "C:\\Users\\Hammozi\\AppData\\Local\\Temp\\ipykernel_33060\\472698487.py:7: FutureWarning: The frame.append method is deprecated and will be removed from pandas in a future version. Use pandas.concat instead.\n",
      "  test_t = test_t.append(bottom_transac)\n",
      "C:\\Users\\Hammozi\\AppData\\Local\\Temp\\ipykernel_33060\\472698487.py:7: FutureWarning: The frame.append method is deprecated and will be removed from pandas in a future version. Use pandas.concat instead.\n",
      "  test_t = test_t.append(bottom_transac)\n"
     ]
    },
    {
     "name": "stdout",
     "output_type": "stream",
     "text": [
      "669\n",
      "670\n",
      "671\n",
      "672\n"
     ]
    },
    {
     "name": "stderr",
     "output_type": "stream",
     "text": [
      "C:\\Users\\Hammozi\\AppData\\Local\\Temp\\ipykernel_33060\\472698487.py:7: FutureWarning: The frame.append method is deprecated and will be removed from pandas in a future version. Use pandas.concat instead.\n",
      "  test_t = test_t.append(bottom_transac)\n",
      "C:\\Users\\Hammozi\\AppData\\Local\\Temp\\ipykernel_33060\\472698487.py:7: FutureWarning: The frame.append method is deprecated and will be removed from pandas in a future version. Use pandas.concat instead.\n",
      "  test_t = test_t.append(bottom_transac)\n",
      "C:\\Users\\Hammozi\\AppData\\Local\\Temp\\ipykernel_33060\\472698487.py:7: FutureWarning: The frame.append method is deprecated and will be removed from pandas in a future version. Use pandas.concat instead.\n",
      "  test_t = test_t.append(bottom_transac)\n"
     ]
    },
    {
     "name": "stdout",
     "output_type": "stream",
     "text": [
      "673\n",
      "674\n",
      "675\n",
      "676\n"
     ]
    },
    {
     "name": "stderr",
     "output_type": "stream",
     "text": [
      "C:\\Users\\Hammozi\\AppData\\Local\\Temp\\ipykernel_33060\\472698487.py:7: FutureWarning: The frame.append method is deprecated and will be removed from pandas in a future version. Use pandas.concat instead.\n",
      "  test_t = test_t.append(bottom_transac)\n",
      "C:\\Users\\Hammozi\\AppData\\Local\\Temp\\ipykernel_33060\\472698487.py:7: FutureWarning: The frame.append method is deprecated and will be removed from pandas in a future version. Use pandas.concat instead.\n",
      "  test_t = test_t.append(bottom_transac)\n",
      "C:\\Users\\Hammozi\\AppData\\Local\\Temp\\ipykernel_33060\\472698487.py:7: FutureWarning: The frame.append method is deprecated and will be removed from pandas in a future version. Use pandas.concat instead.\n",
      "  test_t = test_t.append(bottom_transac)\n"
     ]
    },
    {
     "name": "stdout",
     "output_type": "stream",
     "text": [
      "677\n",
      "678\n",
      "679\n"
     ]
    },
    {
     "name": "stderr",
     "output_type": "stream",
     "text": [
      "C:\\Users\\Hammozi\\AppData\\Local\\Temp\\ipykernel_33060\\472698487.py:7: FutureWarning: The frame.append method is deprecated and will be removed from pandas in a future version. Use pandas.concat instead.\n",
      "  test_t = test_t.append(bottom_transac)\n",
      "C:\\Users\\Hammozi\\AppData\\Local\\Temp\\ipykernel_33060\\472698487.py:7: FutureWarning: The frame.append method is deprecated and will be removed from pandas in a future version. Use pandas.concat instead.\n",
      "  test_t = test_t.append(bottom_transac)\n",
      "C:\\Users\\Hammozi\\AppData\\Local\\Temp\\ipykernel_33060\\472698487.py:7: FutureWarning: The frame.append method is deprecated and will be removed from pandas in a future version. Use pandas.concat instead.\n",
      "  test_t = test_t.append(bottom_transac)\n"
     ]
    },
    {
     "name": "stdout",
     "output_type": "stream",
     "text": [
      "680\n",
      "681\n",
      "682\n",
      "683\n"
     ]
    },
    {
     "name": "stderr",
     "output_type": "stream",
     "text": [
      "C:\\Users\\Hammozi\\AppData\\Local\\Temp\\ipykernel_33060\\472698487.py:7: FutureWarning: The frame.append method is deprecated and will be removed from pandas in a future version. Use pandas.concat instead.\n",
      "  test_t = test_t.append(bottom_transac)\n",
      "C:\\Users\\Hammozi\\AppData\\Local\\Temp\\ipykernel_33060\\472698487.py:7: FutureWarning: The frame.append method is deprecated and will be removed from pandas in a future version. Use pandas.concat instead.\n",
      "  test_t = test_t.append(bottom_transac)\n",
      "C:\\Users\\Hammozi\\AppData\\Local\\Temp\\ipykernel_33060\\472698487.py:7: FutureWarning: The frame.append method is deprecated and will be removed from pandas in a future version. Use pandas.concat instead.\n",
      "  test_t = test_t.append(bottom_transac)\n",
      "C:\\Users\\Hammozi\\AppData\\Local\\Temp\\ipykernel_33060\\472698487.py:7: FutureWarning: The frame.append method is deprecated and will be removed from pandas in a future version. Use pandas.concat instead.\n",
      "  test_t = test_t.append(bottom_transac)\n",
      "C:\\Users\\Hammozi\\AppData\\Local\\Temp\\ipykernel_33060\\472698487.py:7: FutureWarning: The frame.append method is deprecated and will be removed from pandas in a future version. Use pandas.concat instead.\n",
      "  test_t = test_t.append(bottom_transac)\n",
      "C:\\Users\\Hammozi\\AppData\\Local\\Temp\\ipykernel_33060\\472698487.py:7: FutureWarning: The frame.append method is deprecated and will be removed from pandas in a future version. Use pandas.concat instead.\n",
      "  test_t = test_t.append(bottom_transac)\n"
     ]
    },
    {
     "name": "stdout",
     "output_type": "stream",
     "text": [
      "684\n",
      "685\n",
      "686\n"
     ]
    },
    {
     "name": "stderr",
     "output_type": "stream",
     "text": [
      "C:\\Users\\Hammozi\\AppData\\Local\\Temp\\ipykernel_33060\\472698487.py:7: FutureWarning: The frame.append method is deprecated and will be removed from pandas in a future version. Use pandas.concat instead.\n",
      "  test_t = test_t.append(bottom_transac)\n",
      "C:\\Users\\Hammozi\\AppData\\Local\\Temp\\ipykernel_33060\\472698487.py:7: FutureWarning: The frame.append method is deprecated and will be removed from pandas in a future version. Use pandas.concat instead.\n",
      "  test_t = test_t.append(bottom_transac)\n",
      "C:\\Users\\Hammozi\\AppData\\Local\\Temp\\ipykernel_33060\\472698487.py:7: FutureWarning: The frame.append method is deprecated and will be removed from pandas in a future version. Use pandas.concat instead.\n",
      "  test_t = test_t.append(bottom_transac)\n"
     ]
    },
    {
     "name": "stdout",
     "output_type": "stream",
     "text": [
      "687\n",
      "688\n",
      "689\n"
     ]
    },
    {
     "name": "stderr",
     "output_type": "stream",
     "text": [
      "C:\\Users\\Hammozi\\AppData\\Local\\Temp\\ipykernel_33060\\472698487.py:7: FutureWarning: The frame.append method is deprecated and will be removed from pandas in a future version. Use pandas.concat instead.\n",
      "  test_t = test_t.append(bottom_transac)\n",
      "C:\\Users\\Hammozi\\AppData\\Local\\Temp\\ipykernel_33060\\472698487.py:7: FutureWarning: The frame.append method is deprecated and will be removed from pandas in a future version. Use pandas.concat instead.\n",
      "  test_t = test_t.append(bottom_transac)\n",
      "C:\\Users\\Hammozi\\AppData\\Local\\Temp\\ipykernel_33060\\472698487.py:7: FutureWarning: The frame.append method is deprecated and will be removed from pandas in a future version. Use pandas.concat instead.\n",
      "  test_t = test_t.append(bottom_transac)\n"
     ]
    },
    {
     "name": "stdout",
     "output_type": "stream",
     "text": [
      "690\n",
      "691\n",
      "692\n"
     ]
    },
    {
     "name": "stderr",
     "output_type": "stream",
     "text": [
      "C:\\Users\\Hammozi\\AppData\\Local\\Temp\\ipykernel_33060\\472698487.py:7: FutureWarning: The frame.append method is deprecated and will be removed from pandas in a future version. Use pandas.concat instead.\n",
      "  test_t = test_t.append(bottom_transac)\n",
      "C:\\Users\\Hammozi\\AppData\\Local\\Temp\\ipykernel_33060\\472698487.py:7: FutureWarning: The frame.append method is deprecated and will be removed from pandas in a future version. Use pandas.concat instead.\n",
      "  test_t = test_t.append(bottom_transac)\n",
      "C:\\Users\\Hammozi\\AppData\\Local\\Temp\\ipykernel_33060\\472698487.py:7: FutureWarning: The frame.append method is deprecated and will be removed from pandas in a future version. Use pandas.concat instead.\n",
      "  test_t = test_t.append(bottom_transac)\n"
     ]
    },
    {
     "name": "stdout",
     "output_type": "stream",
     "text": [
      "693\n",
      "694\n",
      "695\n",
      "696\n"
     ]
    },
    {
     "name": "stderr",
     "output_type": "stream",
     "text": [
      "C:\\Users\\Hammozi\\AppData\\Local\\Temp\\ipykernel_33060\\472698487.py:7: FutureWarning: The frame.append method is deprecated and will be removed from pandas in a future version. Use pandas.concat instead.\n",
      "  test_t = test_t.append(bottom_transac)\n",
      "C:\\Users\\Hammozi\\AppData\\Local\\Temp\\ipykernel_33060\\472698487.py:7: FutureWarning: The frame.append method is deprecated and will be removed from pandas in a future version. Use pandas.concat instead.\n",
      "  test_t = test_t.append(bottom_transac)\n",
      "C:\\Users\\Hammozi\\AppData\\Local\\Temp\\ipykernel_33060\\472698487.py:7: FutureWarning: The frame.append method is deprecated and will be removed from pandas in a future version. Use pandas.concat instead.\n",
      "  test_t = test_t.append(bottom_transac)\n"
     ]
    },
    {
     "name": "stdout",
     "output_type": "stream",
     "text": [
      "697\n",
      "698\n",
      "699\n",
      "700\n"
     ]
    },
    {
     "name": "stderr",
     "output_type": "stream",
     "text": [
      "C:\\Users\\Hammozi\\AppData\\Local\\Temp\\ipykernel_33060\\472698487.py:7: FutureWarning: The frame.append method is deprecated and will be removed from pandas in a future version. Use pandas.concat instead.\n",
      "  test_t = test_t.append(bottom_transac)\n",
      "C:\\Users\\Hammozi\\AppData\\Local\\Temp\\ipykernel_33060\\472698487.py:7: FutureWarning: The frame.append method is deprecated and will be removed from pandas in a future version. Use pandas.concat instead.\n",
      "  test_t = test_t.append(bottom_transac)\n",
      "C:\\Users\\Hammozi\\AppData\\Local\\Temp\\ipykernel_33060\\472698487.py:7: FutureWarning: The frame.append method is deprecated and will be removed from pandas in a future version. Use pandas.concat instead.\n",
      "  test_t = test_t.append(bottom_transac)\n"
     ]
    },
    {
     "name": "stdout",
     "output_type": "stream",
     "text": [
      "701\n",
      "702\n",
      "703\n",
      "704\n"
     ]
    },
    {
     "name": "stderr",
     "output_type": "stream",
     "text": [
      "C:\\Users\\Hammozi\\AppData\\Local\\Temp\\ipykernel_33060\\472698487.py:7: FutureWarning: The frame.append method is deprecated and will be removed from pandas in a future version. Use pandas.concat instead.\n",
      "  test_t = test_t.append(bottom_transac)\n",
      "C:\\Users\\Hammozi\\AppData\\Local\\Temp\\ipykernel_33060\\472698487.py:7: FutureWarning: The frame.append method is deprecated and will be removed from pandas in a future version. Use pandas.concat instead.\n",
      "  test_t = test_t.append(bottom_transac)\n",
      "C:\\Users\\Hammozi\\AppData\\Local\\Temp\\ipykernel_33060\\472698487.py:7: FutureWarning: The frame.append method is deprecated and will be removed from pandas in a future version. Use pandas.concat instead.\n",
      "  test_t = test_t.append(bottom_transac)\n",
      "C:\\Users\\Hammozi\\AppData\\Local\\Temp\\ipykernel_33060\\472698487.py:7: FutureWarning: The frame.append method is deprecated and will be removed from pandas in a future version. Use pandas.concat instead.\n",
      "  test_t = test_t.append(bottom_transac)\n",
      "C:\\Users\\Hammozi\\AppData\\Local\\Temp\\ipykernel_33060\\472698487.py:7: FutureWarning: The frame.append method is deprecated and will be removed from pandas in a future version. Use pandas.concat instead.\n",
      "  test_t = test_t.append(bottom_transac)\n",
      "C:\\Users\\Hammozi\\AppData\\Local\\Temp\\ipykernel_33060\\472698487.py:7: FutureWarning: The frame.append method is deprecated and will be removed from pandas in a future version. Use pandas.concat instead.\n",
      "  test_t = test_t.append(bottom_transac)\n"
     ]
    },
    {
     "name": "stdout",
     "output_type": "stream",
     "text": [
      "705\n",
      "706\n",
      "707\n",
      "708\n"
     ]
    },
    {
     "name": "stderr",
     "output_type": "stream",
     "text": [
      "C:\\Users\\Hammozi\\AppData\\Local\\Temp\\ipykernel_33060\\472698487.py:7: FutureWarning: The frame.append method is deprecated and will be removed from pandas in a future version. Use pandas.concat instead.\n",
      "  test_t = test_t.append(bottom_transac)\n",
      "C:\\Users\\Hammozi\\AppData\\Local\\Temp\\ipykernel_33060\\472698487.py:7: FutureWarning: The frame.append method is deprecated and will be removed from pandas in a future version. Use pandas.concat instead.\n",
      "  test_t = test_t.append(bottom_transac)\n",
      "C:\\Users\\Hammozi\\AppData\\Local\\Temp\\ipykernel_33060\\472698487.py:7: FutureWarning: The frame.append method is deprecated and will be removed from pandas in a future version. Use pandas.concat instead.\n",
      "  test_t = test_t.append(bottom_transac)\n"
     ]
    },
    {
     "name": "stdout",
     "output_type": "stream",
     "text": [
      "709\n",
      "710\n",
      "711\n",
      "712\n"
     ]
    },
    {
     "name": "stderr",
     "output_type": "stream",
     "text": [
      "C:\\Users\\Hammozi\\AppData\\Local\\Temp\\ipykernel_33060\\472698487.py:7: FutureWarning: The frame.append method is deprecated and will be removed from pandas in a future version. Use pandas.concat instead.\n",
      "  test_t = test_t.append(bottom_transac)\n",
      "C:\\Users\\Hammozi\\AppData\\Local\\Temp\\ipykernel_33060\\472698487.py:7: FutureWarning: The frame.append method is deprecated and will be removed from pandas in a future version. Use pandas.concat instead.\n",
      "  test_t = test_t.append(bottom_transac)\n",
      "C:\\Users\\Hammozi\\AppData\\Local\\Temp\\ipykernel_33060\\472698487.py:7: FutureWarning: The frame.append method is deprecated and will be removed from pandas in a future version. Use pandas.concat instead.\n",
      "  test_t = test_t.append(bottom_transac)\n"
     ]
    },
    {
     "name": "stdout",
     "output_type": "stream",
     "text": [
      "713\n",
      "714\n",
      "715\n",
      "716\n"
     ]
    },
    {
     "name": "stderr",
     "output_type": "stream",
     "text": [
      "C:\\Users\\Hammozi\\AppData\\Local\\Temp\\ipykernel_33060\\472698487.py:7: FutureWarning: The frame.append method is deprecated and will be removed from pandas in a future version. Use pandas.concat instead.\n",
      "  test_t = test_t.append(bottom_transac)\n",
      "C:\\Users\\Hammozi\\AppData\\Local\\Temp\\ipykernel_33060\\472698487.py:7: FutureWarning: The frame.append method is deprecated and will be removed from pandas in a future version. Use pandas.concat instead.\n",
      "  test_t = test_t.append(bottom_transac)\n",
      "C:\\Users\\Hammozi\\AppData\\Local\\Temp\\ipykernel_33060\\472698487.py:7: FutureWarning: The frame.append method is deprecated and will be removed from pandas in a future version. Use pandas.concat instead.\n",
      "  test_t = test_t.append(bottom_transac)\n",
      "C:\\Users\\Hammozi\\AppData\\Local\\Temp\\ipykernel_33060\\472698487.py:7: FutureWarning: The frame.append method is deprecated and will be removed from pandas in a future version. Use pandas.concat instead.\n",
      "  test_t = test_t.append(bottom_transac)\n",
      "C:\\Users\\Hammozi\\AppData\\Local\\Temp\\ipykernel_33060\\472698487.py:7: FutureWarning: The frame.append method is deprecated and will be removed from pandas in a future version. Use pandas.concat instead.\n",
      "  test_t = test_t.append(bottom_transac)\n",
      "C:\\Users\\Hammozi\\AppData\\Local\\Temp\\ipykernel_33060\\472698487.py:7: FutureWarning: The frame.append method is deprecated and will be removed from pandas in a future version. Use pandas.concat instead.\n",
      "  test_t = test_t.append(bottom_transac)\n"
     ]
    },
    {
     "name": "stdout",
     "output_type": "stream",
     "text": [
      "717\n",
      "718\n",
      "719\n"
     ]
    },
    {
     "name": "stderr",
     "output_type": "stream",
     "text": [
      "C:\\Users\\Hammozi\\AppData\\Local\\Temp\\ipykernel_33060\\472698487.py:7: FutureWarning: The frame.append method is deprecated and will be removed from pandas in a future version. Use pandas.concat instead.\n",
      "  test_t = test_t.append(bottom_transac)\n",
      "C:\\Users\\Hammozi\\AppData\\Local\\Temp\\ipykernel_33060\\472698487.py:7: FutureWarning: The frame.append method is deprecated and will be removed from pandas in a future version. Use pandas.concat instead.\n",
      "  test_t = test_t.append(bottom_transac)\n",
      "C:\\Users\\Hammozi\\AppData\\Local\\Temp\\ipykernel_33060\\472698487.py:7: FutureWarning: The frame.append method is deprecated and will be removed from pandas in a future version. Use pandas.concat instead.\n",
      "  test_t = test_t.append(bottom_transac)\n"
     ]
    },
    {
     "name": "stdout",
     "output_type": "stream",
     "text": [
      "720\n",
      "721\n",
      "722\n"
     ]
    },
    {
     "name": "stderr",
     "output_type": "stream",
     "text": [
      "C:\\Users\\Hammozi\\AppData\\Local\\Temp\\ipykernel_33060\\472698487.py:7: FutureWarning: The frame.append method is deprecated and will be removed from pandas in a future version. Use pandas.concat instead.\n",
      "  test_t = test_t.append(bottom_transac)\n",
      "C:\\Users\\Hammozi\\AppData\\Local\\Temp\\ipykernel_33060\\472698487.py:7: FutureWarning: The frame.append method is deprecated and will be removed from pandas in a future version. Use pandas.concat instead.\n",
      "  test_t = test_t.append(bottom_transac)\n",
      "C:\\Users\\Hammozi\\AppData\\Local\\Temp\\ipykernel_33060\\472698487.py:7: FutureWarning: The frame.append method is deprecated and will be removed from pandas in a future version. Use pandas.concat instead.\n",
      "  test_t = test_t.append(bottom_transac)\n"
     ]
    },
    {
     "name": "stdout",
     "output_type": "stream",
     "text": [
      "723\n",
      "724\n",
      "725\n"
     ]
    },
    {
     "name": "stderr",
     "output_type": "stream",
     "text": [
      "C:\\Users\\Hammozi\\AppData\\Local\\Temp\\ipykernel_33060\\472698487.py:7: FutureWarning: The frame.append method is deprecated and will be removed from pandas in a future version. Use pandas.concat instead.\n",
      "  test_t = test_t.append(bottom_transac)\n",
      "C:\\Users\\Hammozi\\AppData\\Local\\Temp\\ipykernel_33060\\472698487.py:7: FutureWarning: The frame.append method is deprecated and will be removed from pandas in a future version. Use pandas.concat instead.\n",
      "  test_t = test_t.append(bottom_transac)\n",
      "C:\\Users\\Hammozi\\AppData\\Local\\Temp\\ipykernel_33060\\472698487.py:7: FutureWarning: The frame.append method is deprecated and will be removed from pandas in a future version. Use pandas.concat instead.\n",
      "  test_t = test_t.append(bottom_transac)\n"
     ]
    },
    {
     "name": "stdout",
     "output_type": "stream",
     "text": [
      "726\n",
      "727\n",
      "728\n"
     ]
    },
    {
     "name": "stderr",
     "output_type": "stream",
     "text": [
      "C:\\Users\\Hammozi\\AppData\\Local\\Temp\\ipykernel_33060\\472698487.py:7: FutureWarning: The frame.append method is deprecated and will be removed from pandas in a future version. Use pandas.concat instead.\n",
      "  test_t = test_t.append(bottom_transac)\n",
      "C:\\Users\\Hammozi\\AppData\\Local\\Temp\\ipykernel_33060\\472698487.py:7: FutureWarning: The frame.append method is deprecated and will be removed from pandas in a future version. Use pandas.concat instead.\n",
      "  test_t = test_t.append(bottom_transac)\n",
      "C:\\Users\\Hammozi\\AppData\\Local\\Temp\\ipykernel_33060\\472698487.py:7: FutureWarning: The frame.append method is deprecated and will be removed from pandas in a future version. Use pandas.concat instead.\n",
      "  test_t = test_t.append(bottom_transac)\n"
     ]
    },
    {
     "name": "stdout",
     "output_type": "stream",
     "text": [
      "729\n",
      "730\n",
      "731\n"
     ]
    },
    {
     "name": "stderr",
     "output_type": "stream",
     "text": [
      "C:\\Users\\Hammozi\\AppData\\Local\\Temp\\ipykernel_33060\\472698487.py:7: FutureWarning: The frame.append method is deprecated and will be removed from pandas in a future version. Use pandas.concat instead.\n",
      "  test_t = test_t.append(bottom_transac)\n",
      "C:\\Users\\Hammozi\\AppData\\Local\\Temp\\ipykernel_33060\\472698487.py:7: FutureWarning: The frame.append method is deprecated and will be removed from pandas in a future version. Use pandas.concat instead.\n",
      "  test_t = test_t.append(bottom_transac)\n",
      "C:\\Users\\Hammozi\\AppData\\Local\\Temp\\ipykernel_33060\\472698487.py:7: FutureWarning: The frame.append method is deprecated and will be removed from pandas in a future version. Use pandas.concat instead.\n",
      "  test_t = test_t.append(bottom_transac)\n"
     ]
    },
    {
     "name": "stdout",
     "output_type": "stream",
     "text": [
      "732\n",
      "733\n",
      "734\n",
      "735\n"
     ]
    },
    {
     "name": "stderr",
     "output_type": "stream",
     "text": [
      "C:\\Users\\Hammozi\\AppData\\Local\\Temp\\ipykernel_33060\\472698487.py:7: FutureWarning: The frame.append method is deprecated and will be removed from pandas in a future version. Use pandas.concat instead.\n",
      "  test_t = test_t.append(bottom_transac)\n",
      "C:\\Users\\Hammozi\\AppData\\Local\\Temp\\ipykernel_33060\\472698487.py:7: FutureWarning: The frame.append method is deprecated and will be removed from pandas in a future version. Use pandas.concat instead.\n",
      "  test_t = test_t.append(bottom_transac)\n",
      "C:\\Users\\Hammozi\\AppData\\Local\\Temp\\ipykernel_33060\\472698487.py:7: FutureWarning: The frame.append method is deprecated and will be removed from pandas in a future version. Use pandas.concat instead.\n",
      "  test_t = test_t.append(bottom_transac)\n"
     ]
    },
    {
     "name": "stdout",
     "output_type": "stream",
     "text": [
      "736\n",
      "737\n",
      "738\n",
      "739\n"
     ]
    },
    {
     "name": "stderr",
     "output_type": "stream",
     "text": [
      "C:\\Users\\Hammozi\\AppData\\Local\\Temp\\ipykernel_33060\\472698487.py:7: FutureWarning: The frame.append method is deprecated and will be removed from pandas in a future version. Use pandas.concat instead.\n",
      "  test_t = test_t.append(bottom_transac)\n",
      "C:\\Users\\Hammozi\\AppData\\Local\\Temp\\ipykernel_33060\\472698487.py:7: FutureWarning: The frame.append method is deprecated and will be removed from pandas in a future version. Use pandas.concat instead.\n",
      "  test_t = test_t.append(bottom_transac)\n",
      "C:\\Users\\Hammozi\\AppData\\Local\\Temp\\ipykernel_33060\\472698487.py:7: FutureWarning: The frame.append method is deprecated and will be removed from pandas in a future version. Use pandas.concat instead.\n",
      "  test_t = test_t.append(bottom_transac)\n"
     ]
    },
    {
     "name": "stdout",
     "output_type": "stream",
     "text": [
      "740\n",
      "741\n",
      "742\n"
     ]
    },
    {
     "name": "stderr",
     "output_type": "stream",
     "text": [
      "C:\\Users\\Hammozi\\AppData\\Local\\Temp\\ipykernel_33060\\472698487.py:7: FutureWarning: The frame.append method is deprecated and will be removed from pandas in a future version. Use pandas.concat instead.\n",
      "  test_t = test_t.append(bottom_transac)\n",
      "C:\\Users\\Hammozi\\AppData\\Local\\Temp\\ipykernel_33060\\472698487.py:7: FutureWarning: The frame.append method is deprecated and will be removed from pandas in a future version. Use pandas.concat instead.\n",
      "  test_t = test_t.append(bottom_transac)\n",
      "C:\\Users\\Hammozi\\AppData\\Local\\Temp\\ipykernel_33060\\472698487.py:7: FutureWarning: The frame.append method is deprecated and will be removed from pandas in a future version. Use pandas.concat instead.\n",
      "  test_t = test_t.append(bottom_transac)\n"
     ]
    },
    {
     "name": "stdout",
     "output_type": "stream",
     "text": [
      "743\n",
      "744\n",
      "745\n",
      "746\n"
     ]
    },
    {
     "name": "stderr",
     "output_type": "stream",
     "text": [
      "C:\\Users\\Hammozi\\AppData\\Local\\Temp\\ipykernel_33060\\472698487.py:7: FutureWarning: The frame.append method is deprecated and will be removed from pandas in a future version. Use pandas.concat instead.\n",
      "  test_t = test_t.append(bottom_transac)\n",
      "C:\\Users\\Hammozi\\AppData\\Local\\Temp\\ipykernel_33060\\472698487.py:7: FutureWarning: The frame.append method is deprecated and will be removed from pandas in a future version. Use pandas.concat instead.\n",
      "  test_t = test_t.append(bottom_transac)\n",
      "C:\\Users\\Hammozi\\AppData\\Local\\Temp\\ipykernel_33060\\472698487.py:7: FutureWarning: The frame.append method is deprecated and will be removed from pandas in a future version. Use pandas.concat instead.\n",
      "  test_t = test_t.append(bottom_transac)\n",
      "C:\\Users\\Hammozi\\AppData\\Local\\Temp\\ipykernel_33060\\472698487.py:7: FutureWarning: The frame.append method is deprecated and will be removed from pandas in a future version. Use pandas.concat instead.\n",
      "  test_t = test_t.append(bottom_transac)\n",
      "C:\\Users\\Hammozi\\AppData\\Local\\Temp\\ipykernel_33060\\472698487.py:7: FutureWarning: The frame.append method is deprecated and will be removed from pandas in a future version. Use pandas.concat instead.\n",
      "  test_t = test_t.append(bottom_transac)\n",
      "C:\\Users\\Hammozi\\AppData\\Local\\Temp\\ipykernel_33060\\472698487.py:7: FutureWarning: The frame.append method is deprecated and will be removed from pandas in a future version. Use pandas.concat instead.\n",
      "  test_t = test_t.append(bottom_transac)\n"
     ]
    },
    {
     "name": "stdout",
     "output_type": "stream",
     "text": [
      "747\n",
      "748\n",
      "749\n",
      "750\n"
     ]
    },
    {
     "name": "stderr",
     "output_type": "stream",
     "text": [
      "C:\\Users\\Hammozi\\AppData\\Local\\Temp\\ipykernel_33060\\472698487.py:7: FutureWarning: The frame.append method is deprecated and will be removed from pandas in a future version. Use pandas.concat instead.\n",
      "  test_t = test_t.append(bottom_transac)\n",
      "C:\\Users\\Hammozi\\AppData\\Local\\Temp\\ipykernel_33060\\472698487.py:7: FutureWarning: The frame.append method is deprecated and will be removed from pandas in a future version. Use pandas.concat instead.\n",
      "  test_t = test_t.append(bottom_transac)\n",
      "C:\\Users\\Hammozi\\AppData\\Local\\Temp\\ipykernel_33060\\472698487.py:7: FutureWarning: The frame.append method is deprecated and will be removed from pandas in a future version. Use pandas.concat instead.\n",
      "  test_t = test_t.append(bottom_transac)\n"
     ]
    },
    {
     "name": "stdout",
     "output_type": "stream",
     "text": [
      "751\n",
      "752\n",
      "753\n"
     ]
    },
    {
     "name": "stderr",
     "output_type": "stream",
     "text": [
      "C:\\Users\\Hammozi\\AppData\\Local\\Temp\\ipykernel_33060\\472698487.py:7: FutureWarning: The frame.append method is deprecated and will be removed from pandas in a future version. Use pandas.concat instead.\n",
      "  test_t = test_t.append(bottom_transac)\n",
      "C:\\Users\\Hammozi\\AppData\\Local\\Temp\\ipykernel_33060\\472698487.py:7: FutureWarning: The frame.append method is deprecated and will be removed from pandas in a future version. Use pandas.concat instead.\n",
      "  test_t = test_t.append(bottom_transac)\n",
      "C:\\Users\\Hammozi\\AppData\\Local\\Temp\\ipykernel_33060\\472698487.py:7: FutureWarning: The frame.append method is deprecated and will be removed from pandas in a future version. Use pandas.concat instead.\n",
      "  test_t = test_t.append(bottom_transac)\n"
     ]
    },
    {
     "name": "stdout",
     "output_type": "stream",
     "text": [
      "754\n",
      "755\n",
      "756\n",
      "757\n"
     ]
    },
    {
     "name": "stderr",
     "output_type": "stream",
     "text": [
      "C:\\Users\\Hammozi\\AppData\\Local\\Temp\\ipykernel_33060\\472698487.py:7: FutureWarning: The frame.append method is deprecated and will be removed from pandas in a future version. Use pandas.concat instead.\n",
      "  test_t = test_t.append(bottom_transac)\n",
      "C:\\Users\\Hammozi\\AppData\\Local\\Temp\\ipykernel_33060\\472698487.py:7: FutureWarning: The frame.append method is deprecated and will be removed from pandas in a future version. Use pandas.concat instead.\n",
      "  test_t = test_t.append(bottom_transac)\n",
      "C:\\Users\\Hammozi\\AppData\\Local\\Temp\\ipykernel_33060\\472698487.py:7: FutureWarning: The frame.append method is deprecated and will be removed from pandas in a future version. Use pandas.concat instead.\n",
      "  test_t = test_t.append(bottom_transac)\n"
     ]
    },
    {
     "name": "stdout",
     "output_type": "stream",
     "text": [
      "758\n",
      "759\n",
      "760\n"
     ]
    },
    {
     "name": "stderr",
     "output_type": "stream",
     "text": [
      "C:\\Users\\Hammozi\\AppData\\Local\\Temp\\ipykernel_33060\\472698487.py:7: FutureWarning: The frame.append method is deprecated and will be removed from pandas in a future version. Use pandas.concat instead.\n",
      "  test_t = test_t.append(bottom_transac)\n",
      "C:\\Users\\Hammozi\\AppData\\Local\\Temp\\ipykernel_33060\\472698487.py:7: FutureWarning: The frame.append method is deprecated and will be removed from pandas in a future version. Use pandas.concat instead.\n",
      "  test_t = test_t.append(bottom_transac)\n",
      "C:\\Users\\Hammozi\\AppData\\Local\\Temp\\ipykernel_33060\\472698487.py:7: FutureWarning: The frame.append method is deprecated and will be removed from pandas in a future version. Use pandas.concat instead.\n",
      "  test_t = test_t.append(bottom_transac)\n"
     ]
    },
    {
     "name": "stdout",
     "output_type": "stream",
     "text": [
      "761\n",
      "762\n",
      "763\n",
      "764\n"
     ]
    },
    {
     "name": "stderr",
     "output_type": "stream",
     "text": [
      "C:\\Users\\Hammozi\\AppData\\Local\\Temp\\ipykernel_33060\\472698487.py:7: FutureWarning: The frame.append method is deprecated and will be removed from pandas in a future version. Use pandas.concat instead.\n",
      "  test_t = test_t.append(bottom_transac)\n",
      "C:\\Users\\Hammozi\\AppData\\Local\\Temp\\ipykernel_33060\\472698487.py:7: FutureWarning: The frame.append method is deprecated and will be removed from pandas in a future version. Use pandas.concat instead.\n",
      "  test_t = test_t.append(bottom_transac)\n",
      "C:\\Users\\Hammozi\\AppData\\Local\\Temp\\ipykernel_33060\\472698487.py:7: FutureWarning: The frame.append method is deprecated and will be removed from pandas in a future version. Use pandas.concat instead.\n",
      "  test_t = test_t.append(bottom_transac)\n",
      "C:\\Users\\Hammozi\\AppData\\Local\\Temp\\ipykernel_33060\\472698487.py:7: FutureWarning: The frame.append method is deprecated and will be removed from pandas in a future version. Use pandas.concat instead.\n",
      "  test_t = test_t.append(bottom_transac)\n",
      "C:\\Users\\Hammozi\\AppData\\Local\\Temp\\ipykernel_33060\\472698487.py:7: FutureWarning: The frame.append method is deprecated and will be removed from pandas in a future version. Use pandas.concat instead.\n",
      "  test_t = test_t.append(bottom_transac)\n",
      "C:\\Users\\Hammozi\\AppData\\Local\\Temp\\ipykernel_33060\\472698487.py:7: FutureWarning: The frame.append method is deprecated and will be removed from pandas in a future version. Use pandas.concat instead.\n",
      "  test_t = test_t.append(bottom_transac)\n"
     ]
    },
    {
     "name": "stdout",
     "output_type": "stream",
     "text": [
      "765\n",
      "766\n",
      "767\n",
      "768\n"
     ]
    },
    {
     "name": "stderr",
     "output_type": "stream",
     "text": [
      "C:\\Users\\Hammozi\\AppData\\Local\\Temp\\ipykernel_33060\\472698487.py:7: FutureWarning: The frame.append method is deprecated and will be removed from pandas in a future version. Use pandas.concat instead.\n",
      "  test_t = test_t.append(bottom_transac)\n",
      "C:\\Users\\Hammozi\\AppData\\Local\\Temp\\ipykernel_33060\\472698487.py:7: FutureWarning: The frame.append method is deprecated and will be removed from pandas in a future version. Use pandas.concat instead.\n",
      "  test_t = test_t.append(bottom_transac)\n",
      "C:\\Users\\Hammozi\\AppData\\Local\\Temp\\ipykernel_33060\\472698487.py:7: FutureWarning: The frame.append method is deprecated and will be removed from pandas in a future version. Use pandas.concat instead.\n",
      "  test_t = test_t.append(bottom_transac)\n"
     ]
    },
    {
     "name": "stdout",
     "output_type": "stream",
     "text": [
      "769\n",
      "770\n",
      "771\n"
     ]
    },
    {
     "name": "stderr",
     "output_type": "stream",
     "text": [
      "C:\\Users\\Hammozi\\AppData\\Local\\Temp\\ipykernel_33060\\472698487.py:7: FutureWarning: The frame.append method is deprecated and will be removed from pandas in a future version. Use pandas.concat instead.\n",
      "  test_t = test_t.append(bottom_transac)\n",
      "C:\\Users\\Hammozi\\AppData\\Local\\Temp\\ipykernel_33060\\472698487.py:7: FutureWarning: The frame.append method is deprecated and will be removed from pandas in a future version. Use pandas.concat instead.\n",
      "  test_t = test_t.append(bottom_transac)\n",
      "C:\\Users\\Hammozi\\AppData\\Local\\Temp\\ipykernel_33060\\472698487.py:7: FutureWarning: The frame.append method is deprecated and will be removed from pandas in a future version. Use pandas.concat instead.\n",
      "  test_t = test_t.append(bottom_transac)\n"
     ]
    },
    {
     "name": "stdout",
     "output_type": "stream",
     "text": [
      "772\n",
      "773\n",
      "774\n"
     ]
    },
    {
     "name": "stderr",
     "output_type": "stream",
     "text": [
      "C:\\Users\\Hammozi\\AppData\\Local\\Temp\\ipykernel_33060\\472698487.py:7: FutureWarning: The frame.append method is deprecated and will be removed from pandas in a future version. Use pandas.concat instead.\n",
      "  test_t = test_t.append(bottom_transac)\n",
      "C:\\Users\\Hammozi\\AppData\\Local\\Temp\\ipykernel_33060\\472698487.py:7: FutureWarning: The frame.append method is deprecated and will be removed from pandas in a future version. Use pandas.concat instead.\n",
      "  test_t = test_t.append(bottom_transac)\n",
      "C:\\Users\\Hammozi\\AppData\\Local\\Temp\\ipykernel_33060\\472698487.py:7: FutureWarning: The frame.append method is deprecated and will be removed from pandas in a future version. Use pandas.concat instead.\n",
      "  test_t = test_t.append(bottom_transac)\n"
     ]
    },
    {
     "name": "stdout",
     "output_type": "stream",
     "text": [
      "775\n",
      "776\n",
      "777\n",
      "778\n"
     ]
    },
    {
     "name": "stderr",
     "output_type": "stream",
     "text": [
      "C:\\Users\\Hammozi\\AppData\\Local\\Temp\\ipykernel_33060\\472698487.py:7: FutureWarning: The frame.append method is deprecated and will be removed from pandas in a future version. Use pandas.concat instead.\n",
      "  test_t = test_t.append(bottom_transac)\n",
      "C:\\Users\\Hammozi\\AppData\\Local\\Temp\\ipykernel_33060\\472698487.py:7: FutureWarning: The frame.append method is deprecated and will be removed from pandas in a future version. Use pandas.concat instead.\n",
      "  test_t = test_t.append(bottom_transac)\n",
      "C:\\Users\\Hammozi\\AppData\\Local\\Temp\\ipykernel_33060\\472698487.py:7: FutureWarning: The frame.append method is deprecated and will be removed from pandas in a future version. Use pandas.concat instead.\n",
      "  test_t = test_t.append(bottom_transac)\n"
     ]
    },
    {
     "name": "stdout",
     "output_type": "stream",
     "text": [
      "779\n",
      "780\n",
      "781\n",
      "782\n"
     ]
    },
    {
     "name": "stderr",
     "output_type": "stream",
     "text": [
      "C:\\Users\\Hammozi\\AppData\\Local\\Temp\\ipykernel_33060\\472698487.py:7: FutureWarning: The frame.append method is deprecated and will be removed from pandas in a future version. Use pandas.concat instead.\n",
      "  test_t = test_t.append(bottom_transac)\n",
      "C:\\Users\\Hammozi\\AppData\\Local\\Temp\\ipykernel_33060\\472698487.py:7: FutureWarning: The frame.append method is deprecated and will be removed from pandas in a future version. Use pandas.concat instead.\n",
      "  test_t = test_t.append(bottom_transac)\n",
      "C:\\Users\\Hammozi\\AppData\\Local\\Temp\\ipykernel_33060\\472698487.py:7: FutureWarning: The frame.append method is deprecated and will be removed from pandas in a future version. Use pandas.concat instead.\n",
      "  test_t = test_t.append(bottom_transac)\n",
      "C:\\Users\\Hammozi\\AppData\\Local\\Temp\\ipykernel_33060\\472698487.py:7: FutureWarning: The frame.append method is deprecated and will be removed from pandas in a future version. Use pandas.concat instead.\n",
      "  test_t = test_t.append(bottom_transac)\n",
      "C:\\Users\\Hammozi\\AppData\\Local\\Temp\\ipykernel_33060\\472698487.py:7: FutureWarning: The frame.append method is deprecated and will be removed from pandas in a future version. Use pandas.concat instead.\n",
      "  test_t = test_t.append(bottom_transac)\n",
      "C:\\Users\\Hammozi\\AppData\\Local\\Temp\\ipykernel_33060\\472698487.py:7: FutureWarning: The frame.append method is deprecated and will be removed from pandas in a future version. Use pandas.concat instead.\n",
      "  test_t = test_t.append(bottom_transac)\n"
     ]
    },
    {
     "name": "stdout",
     "output_type": "stream",
     "text": [
      "783\n",
      "784\n",
      "785\n",
      "786\n"
     ]
    },
    {
     "name": "stderr",
     "output_type": "stream",
     "text": [
      "C:\\Users\\Hammozi\\AppData\\Local\\Temp\\ipykernel_33060\\472698487.py:7: FutureWarning: The frame.append method is deprecated and will be removed from pandas in a future version. Use pandas.concat instead.\n",
      "  test_t = test_t.append(bottom_transac)\n",
      "C:\\Users\\Hammozi\\AppData\\Local\\Temp\\ipykernel_33060\\472698487.py:7: FutureWarning: The frame.append method is deprecated and will be removed from pandas in a future version. Use pandas.concat instead.\n",
      "  test_t = test_t.append(bottom_transac)\n",
      "C:\\Users\\Hammozi\\AppData\\Local\\Temp\\ipykernel_33060\\472698487.py:7: FutureWarning: The frame.append method is deprecated and will be removed from pandas in a future version. Use pandas.concat instead.\n",
      "  test_t = test_t.append(bottom_transac)\n"
     ]
    },
    {
     "name": "stdout",
     "output_type": "stream",
     "text": [
      "787\n",
      "788\n",
      "789\n"
     ]
    },
    {
     "name": "stderr",
     "output_type": "stream",
     "text": [
      "C:\\Users\\Hammozi\\AppData\\Local\\Temp\\ipykernel_33060\\472698487.py:7: FutureWarning: The frame.append method is deprecated and will be removed from pandas in a future version. Use pandas.concat instead.\n",
      "  test_t = test_t.append(bottom_transac)\n",
      "C:\\Users\\Hammozi\\AppData\\Local\\Temp\\ipykernel_33060\\472698487.py:7: FutureWarning: The frame.append method is deprecated and will be removed from pandas in a future version. Use pandas.concat instead.\n",
      "  test_t = test_t.append(bottom_transac)\n",
      "C:\\Users\\Hammozi\\AppData\\Local\\Temp\\ipykernel_33060\\472698487.py:7: FutureWarning: The frame.append method is deprecated and will be removed from pandas in a future version. Use pandas.concat instead.\n",
      "  test_t = test_t.append(bottom_transac)\n"
     ]
    },
    {
     "name": "stdout",
     "output_type": "stream",
     "text": [
      "790\n",
      "791\n",
      "792\n"
     ]
    },
    {
     "name": "stderr",
     "output_type": "stream",
     "text": [
      "C:\\Users\\Hammozi\\AppData\\Local\\Temp\\ipykernel_33060\\472698487.py:7: FutureWarning: The frame.append method is deprecated and will be removed from pandas in a future version. Use pandas.concat instead.\n",
      "  test_t = test_t.append(bottom_transac)\n",
      "C:\\Users\\Hammozi\\AppData\\Local\\Temp\\ipykernel_33060\\472698487.py:7: FutureWarning: The frame.append method is deprecated and will be removed from pandas in a future version. Use pandas.concat instead.\n",
      "  test_t = test_t.append(bottom_transac)\n",
      "C:\\Users\\Hammozi\\AppData\\Local\\Temp\\ipykernel_33060\\472698487.py:7: FutureWarning: The frame.append method is deprecated and will be removed from pandas in a future version. Use pandas.concat instead.\n",
      "  test_t = test_t.append(bottom_transac)\n"
     ]
    },
    {
     "name": "stdout",
     "output_type": "stream",
     "text": [
      "793\n",
      "794\n",
      "795\n"
     ]
    },
    {
     "name": "stderr",
     "output_type": "stream",
     "text": [
      "C:\\Users\\Hammozi\\AppData\\Local\\Temp\\ipykernel_33060\\472698487.py:7: FutureWarning: The frame.append method is deprecated and will be removed from pandas in a future version. Use pandas.concat instead.\n",
      "  test_t = test_t.append(bottom_transac)\n",
      "C:\\Users\\Hammozi\\AppData\\Local\\Temp\\ipykernel_33060\\472698487.py:7: FutureWarning: The frame.append method is deprecated and will be removed from pandas in a future version. Use pandas.concat instead.\n",
      "  test_t = test_t.append(bottom_transac)\n",
      "C:\\Users\\Hammozi\\AppData\\Local\\Temp\\ipykernel_33060\\472698487.py:7: FutureWarning: The frame.append method is deprecated and will be removed from pandas in a future version. Use pandas.concat instead.\n",
      "  test_t = test_t.append(bottom_transac)\n"
     ]
    },
    {
     "name": "stdout",
     "output_type": "stream",
     "text": [
      "796\n",
      "797\n",
      "798\n",
      "799\n"
     ]
    },
    {
     "name": "stderr",
     "output_type": "stream",
     "text": [
      "C:\\Users\\Hammozi\\AppData\\Local\\Temp\\ipykernel_33060\\472698487.py:7: FutureWarning: The frame.append method is deprecated and will be removed from pandas in a future version. Use pandas.concat instead.\n",
      "  test_t = test_t.append(bottom_transac)\n",
      "C:\\Users\\Hammozi\\AppData\\Local\\Temp\\ipykernel_33060\\472698487.py:7: FutureWarning: The frame.append method is deprecated and will be removed from pandas in a future version. Use pandas.concat instead.\n",
      "  test_t = test_t.append(bottom_transac)\n",
      "C:\\Users\\Hammozi\\AppData\\Local\\Temp\\ipykernel_33060\\472698487.py:7: FutureWarning: The frame.append method is deprecated and will be removed from pandas in a future version. Use pandas.concat instead.\n",
      "  test_t = test_t.append(bottom_transac)\n"
     ]
    },
    {
     "name": "stdout",
     "output_type": "stream",
     "text": [
      "800\n",
      "801\n",
      "802\n",
      "803\n"
     ]
    },
    {
     "name": "stderr",
     "output_type": "stream",
     "text": [
      "C:\\Users\\Hammozi\\AppData\\Local\\Temp\\ipykernel_33060\\472698487.py:7: FutureWarning: The frame.append method is deprecated and will be removed from pandas in a future version. Use pandas.concat instead.\n",
      "  test_t = test_t.append(bottom_transac)\n",
      "C:\\Users\\Hammozi\\AppData\\Local\\Temp\\ipykernel_33060\\472698487.py:7: FutureWarning: The frame.append method is deprecated and will be removed from pandas in a future version. Use pandas.concat instead.\n",
      "  test_t = test_t.append(bottom_transac)\n",
      "C:\\Users\\Hammozi\\AppData\\Local\\Temp\\ipykernel_33060\\472698487.py:7: FutureWarning: The frame.append method is deprecated and will be removed from pandas in a future version. Use pandas.concat instead.\n",
      "  test_t = test_t.append(bottom_transac)\n",
      "C:\\Users\\Hammozi\\AppData\\Local\\Temp\\ipykernel_33060\\472698487.py:7: FutureWarning: The frame.append method is deprecated and will be removed from pandas in a future version. Use pandas.concat instead.\n",
      "  test_t = test_t.append(bottom_transac)\n",
      "C:\\Users\\Hammozi\\AppData\\Local\\Temp\\ipykernel_33060\\472698487.py:7: FutureWarning: The frame.append method is deprecated and will be removed from pandas in a future version. Use pandas.concat instead.\n",
      "  test_t = test_t.append(bottom_transac)\n",
      "C:\\Users\\Hammozi\\AppData\\Local\\Temp\\ipykernel_33060\\472698487.py:7: FutureWarning: The frame.append method is deprecated and will be removed from pandas in a future version. Use pandas.concat instead.\n",
      "  test_t = test_t.append(bottom_transac)\n"
     ]
    },
    {
     "name": "stdout",
     "output_type": "stream",
     "text": [
      "804\n",
      "805\n",
      "806\n"
     ]
    },
    {
     "name": "stderr",
     "output_type": "stream",
     "text": [
      "C:\\Users\\Hammozi\\AppData\\Local\\Temp\\ipykernel_33060\\472698487.py:7: FutureWarning: The frame.append method is deprecated and will be removed from pandas in a future version. Use pandas.concat instead.\n",
      "  test_t = test_t.append(bottom_transac)\n",
      "C:\\Users\\Hammozi\\AppData\\Local\\Temp\\ipykernel_33060\\472698487.py:7: FutureWarning: The frame.append method is deprecated and will be removed from pandas in a future version. Use pandas.concat instead.\n",
      "  test_t = test_t.append(bottom_transac)\n",
      "C:\\Users\\Hammozi\\AppData\\Local\\Temp\\ipykernel_33060\\472698487.py:7: FutureWarning: The frame.append method is deprecated and will be removed from pandas in a future version. Use pandas.concat instead.\n",
      "  test_t = test_t.append(bottom_transac)\n"
     ]
    },
    {
     "name": "stdout",
     "output_type": "stream",
     "text": [
      "807\n",
      "808\n",
      "809\n"
     ]
    },
    {
     "name": "stderr",
     "output_type": "stream",
     "text": [
      "C:\\Users\\Hammozi\\AppData\\Local\\Temp\\ipykernel_33060\\472698487.py:7: FutureWarning: The frame.append method is deprecated and will be removed from pandas in a future version. Use pandas.concat instead.\n",
      "  test_t = test_t.append(bottom_transac)\n",
      "C:\\Users\\Hammozi\\AppData\\Local\\Temp\\ipykernel_33060\\472698487.py:7: FutureWarning: The frame.append method is deprecated and will be removed from pandas in a future version. Use pandas.concat instead.\n",
      "  test_t = test_t.append(bottom_transac)\n",
      "C:\\Users\\Hammozi\\AppData\\Local\\Temp\\ipykernel_33060\\472698487.py:7: FutureWarning: The frame.append method is deprecated and will be removed from pandas in a future version. Use pandas.concat instead.\n",
      "  test_t = test_t.append(bottom_transac)\n"
     ]
    },
    {
     "name": "stdout",
     "output_type": "stream",
     "text": [
      "810\n",
      "811\n",
      "812\n"
     ]
    },
    {
     "name": "stderr",
     "output_type": "stream",
     "text": [
      "C:\\Users\\Hammozi\\AppData\\Local\\Temp\\ipykernel_33060\\472698487.py:7: FutureWarning: The frame.append method is deprecated and will be removed from pandas in a future version. Use pandas.concat instead.\n",
      "  test_t = test_t.append(bottom_transac)\n",
      "C:\\Users\\Hammozi\\AppData\\Local\\Temp\\ipykernel_33060\\472698487.py:7: FutureWarning: The frame.append method is deprecated and will be removed from pandas in a future version. Use pandas.concat instead.\n",
      "  test_t = test_t.append(bottom_transac)\n",
      "C:\\Users\\Hammozi\\AppData\\Local\\Temp\\ipykernel_33060\\472698487.py:7: FutureWarning: The frame.append method is deprecated and will be removed from pandas in a future version. Use pandas.concat instead.\n",
      "  test_t = test_t.append(bottom_transac)\n"
     ]
    },
    {
     "name": "stdout",
     "output_type": "stream",
     "text": [
      "813\n",
      "814\n",
      "815\n",
      "816\n"
     ]
    },
    {
     "name": "stderr",
     "output_type": "stream",
     "text": [
      "C:\\Users\\Hammozi\\AppData\\Local\\Temp\\ipykernel_33060\\472698487.py:7: FutureWarning: The frame.append method is deprecated and will be removed from pandas in a future version. Use pandas.concat instead.\n",
      "  test_t = test_t.append(bottom_transac)\n",
      "C:\\Users\\Hammozi\\AppData\\Local\\Temp\\ipykernel_33060\\472698487.py:7: FutureWarning: The frame.append method is deprecated and will be removed from pandas in a future version. Use pandas.concat instead.\n",
      "  test_t = test_t.append(bottom_transac)\n",
      "C:\\Users\\Hammozi\\AppData\\Local\\Temp\\ipykernel_33060\\472698487.py:7: FutureWarning: The frame.append method is deprecated and will be removed from pandas in a future version. Use pandas.concat instead.\n",
      "  test_t = test_t.append(bottom_transac)\n"
     ]
    },
    {
     "name": "stdout",
     "output_type": "stream",
     "text": [
      "817\n",
      "818\n",
      "819\n"
     ]
    },
    {
     "name": "stderr",
     "output_type": "stream",
     "text": [
      "C:\\Users\\Hammozi\\AppData\\Local\\Temp\\ipykernel_33060\\472698487.py:7: FutureWarning: The frame.append method is deprecated and will be removed from pandas in a future version. Use pandas.concat instead.\n",
      "  test_t = test_t.append(bottom_transac)\n",
      "C:\\Users\\Hammozi\\AppData\\Local\\Temp\\ipykernel_33060\\472698487.py:7: FutureWarning: The frame.append method is deprecated and will be removed from pandas in a future version. Use pandas.concat instead.\n",
      "  test_t = test_t.append(bottom_transac)\n",
      "C:\\Users\\Hammozi\\AppData\\Local\\Temp\\ipykernel_33060\\472698487.py:7: FutureWarning: The frame.append method is deprecated and will be removed from pandas in a future version. Use pandas.concat instead.\n",
      "  test_t = test_t.append(bottom_transac)\n"
     ]
    },
    {
     "name": "stdout",
     "output_type": "stream",
     "text": [
      "820\n",
      "821\n",
      "822\n",
      "823\n"
     ]
    },
    {
     "name": "stderr",
     "output_type": "stream",
     "text": [
      "C:\\Users\\Hammozi\\AppData\\Local\\Temp\\ipykernel_33060\\472698487.py:7: FutureWarning: The frame.append method is deprecated and will be removed from pandas in a future version. Use pandas.concat instead.\n",
      "  test_t = test_t.append(bottom_transac)\n",
      "C:\\Users\\Hammozi\\AppData\\Local\\Temp\\ipykernel_33060\\472698487.py:7: FutureWarning: The frame.append method is deprecated and will be removed from pandas in a future version. Use pandas.concat instead.\n",
      "  test_t = test_t.append(bottom_transac)\n",
      "C:\\Users\\Hammozi\\AppData\\Local\\Temp\\ipykernel_33060\\472698487.py:7: FutureWarning: The frame.append method is deprecated and will be removed from pandas in a future version. Use pandas.concat instead.\n",
      "  test_t = test_t.append(bottom_transac)\n"
     ]
    },
    {
     "name": "stdout",
     "output_type": "stream",
     "text": [
      "824\n",
      "825\n",
      "826\n"
     ]
    },
    {
     "name": "stderr",
     "output_type": "stream",
     "text": [
      "C:\\Users\\Hammozi\\AppData\\Local\\Temp\\ipykernel_33060\\472698487.py:7: FutureWarning: The frame.append method is deprecated and will be removed from pandas in a future version. Use pandas.concat instead.\n",
      "  test_t = test_t.append(bottom_transac)\n",
      "C:\\Users\\Hammozi\\AppData\\Local\\Temp\\ipykernel_33060\\472698487.py:7: FutureWarning: The frame.append method is deprecated and will be removed from pandas in a future version. Use pandas.concat instead.\n",
      "  test_t = test_t.append(bottom_transac)\n",
      "C:\\Users\\Hammozi\\AppData\\Local\\Temp\\ipykernel_33060\\472698487.py:7: FutureWarning: The frame.append method is deprecated and will be removed from pandas in a future version. Use pandas.concat instead.\n",
      "  test_t = test_t.append(bottom_transac)\n"
     ]
    },
    {
     "name": "stdout",
     "output_type": "stream",
     "text": [
      "827\n",
      "828\n",
      "829\n"
     ]
    },
    {
     "name": "stderr",
     "output_type": "stream",
     "text": [
      "C:\\Users\\Hammozi\\AppData\\Local\\Temp\\ipykernel_33060\\472698487.py:7: FutureWarning: The frame.append method is deprecated and will be removed from pandas in a future version. Use pandas.concat instead.\n",
      "  test_t = test_t.append(bottom_transac)\n",
      "C:\\Users\\Hammozi\\AppData\\Local\\Temp\\ipykernel_33060\\472698487.py:7: FutureWarning: The frame.append method is deprecated and will be removed from pandas in a future version. Use pandas.concat instead.\n",
      "  test_t = test_t.append(bottom_transac)\n",
      "C:\\Users\\Hammozi\\AppData\\Local\\Temp\\ipykernel_33060\\472698487.py:7: FutureWarning: The frame.append method is deprecated and will be removed from pandas in a future version. Use pandas.concat instead.\n",
      "  test_t = test_t.append(bottom_transac)\n"
     ]
    },
    {
     "name": "stdout",
     "output_type": "stream",
     "text": [
      "830\n",
      "831\n",
      "832\n"
     ]
    },
    {
     "name": "stderr",
     "output_type": "stream",
     "text": [
      "C:\\Users\\Hammozi\\AppData\\Local\\Temp\\ipykernel_33060\\472698487.py:7: FutureWarning: The frame.append method is deprecated and will be removed from pandas in a future version. Use pandas.concat instead.\n",
      "  test_t = test_t.append(bottom_transac)\n",
      "C:\\Users\\Hammozi\\AppData\\Local\\Temp\\ipykernel_33060\\472698487.py:7: FutureWarning: The frame.append method is deprecated and will be removed from pandas in a future version. Use pandas.concat instead.\n",
      "  test_t = test_t.append(bottom_transac)\n",
      "C:\\Users\\Hammozi\\AppData\\Local\\Temp\\ipykernel_33060\\472698487.py:7: FutureWarning: The frame.append method is deprecated and will be removed from pandas in a future version. Use pandas.concat instead.\n",
      "  test_t = test_t.append(bottom_transac)\n"
     ]
    },
    {
     "name": "stdout",
     "output_type": "stream",
     "text": [
      "833\n",
      "834\n",
      "835\n"
     ]
    },
    {
     "name": "stderr",
     "output_type": "stream",
     "text": [
      "C:\\Users\\Hammozi\\AppData\\Local\\Temp\\ipykernel_33060\\472698487.py:7: FutureWarning: The frame.append method is deprecated and will be removed from pandas in a future version. Use pandas.concat instead.\n",
      "  test_t = test_t.append(bottom_transac)\n",
      "C:\\Users\\Hammozi\\AppData\\Local\\Temp\\ipykernel_33060\\472698487.py:7: FutureWarning: The frame.append method is deprecated and will be removed from pandas in a future version. Use pandas.concat instead.\n",
      "  test_t = test_t.append(bottom_transac)\n",
      "C:\\Users\\Hammozi\\AppData\\Local\\Temp\\ipykernel_33060\\472698487.py:7: FutureWarning: The frame.append method is deprecated and will be removed from pandas in a future version. Use pandas.concat instead.\n",
      "  test_t = test_t.append(bottom_transac)\n"
     ]
    },
    {
     "name": "stdout",
     "output_type": "stream",
     "text": [
      "836\n",
      "837\n",
      "838\n",
      "839\n"
     ]
    },
    {
     "name": "stderr",
     "output_type": "stream",
     "text": [
      "C:\\Users\\Hammozi\\AppData\\Local\\Temp\\ipykernel_33060\\472698487.py:7: FutureWarning: The frame.append method is deprecated and will be removed from pandas in a future version. Use pandas.concat instead.\n",
      "  test_t = test_t.append(bottom_transac)\n",
      "C:\\Users\\Hammozi\\AppData\\Local\\Temp\\ipykernel_33060\\472698487.py:7: FutureWarning: The frame.append method is deprecated and will be removed from pandas in a future version. Use pandas.concat instead.\n",
      "  test_t = test_t.append(bottom_transac)\n",
      "C:\\Users\\Hammozi\\AppData\\Local\\Temp\\ipykernel_33060\\472698487.py:7: FutureWarning: The frame.append method is deprecated and will be removed from pandas in a future version. Use pandas.concat instead.\n",
      "  test_t = test_t.append(bottom_transac)\n",
      "C:\\Users\\Hammozi\\AppData\\Local\\Temp\\ipykernel_33060\\472698487.py:7: FutureWarning: The frame.append method is deprecated and will be removed from pandas in a future version. Use pandas.concat instead.\n",
      "  test_t = test_t.append(bottom_transac)\n",
      "C:\\Users\\Hammozi\\AppData\\Local\\Temp\\ipykernel_33060\\472698487.py:7: FutureWarning: The frame.append method is deprecated and will be removed from pandas in a future version. Use pandas.concat instead.\n",
      "  test_t = test_t.append(bottom_transac)\n",
      "C:\\Users\\Hammozi\\AppData\\Local\\Temp\\ipykernel_33060\\472698487.py:7: FutureWarning: The frame.append method is deprecated and will be removed from pandas in a future version. Use pandas.concat instead.\n",
      "  test_t = test_t.append(bottom_transac)\n"
     ]
    },
    {
     "name": "stdout",
     "output_type": "stream",
     "text": [
      "840\n",
      "841\n",
      "842\n"
     ]
    },
    {
     "name": "stderr",
     "output_type": "stream",
     "text": [
      "C:\\Users\\Hammozi\\AppData\\Local\\Temp\\ipykernel_33060\\472698487.py:7: FutureWarning: The frame.append method is deprecated and will be removed from pandas in a future version. Use pandas.concat instead.\n",
      "  test_t = test_t.append(bottom_transac)\n",
      "C:\\Users\\Hammozi\\AppData\\Local\\Temp\\ipykernel_33060\\472698487.py:7: FutureWarning: The frame.append method is deprecated and will be removed from pandas in a future version. Use pandas.concat instead.\n",
      "  test_t = test_t.append(bottom_transac)\n",
      "C:\\Users\\Hammozi\\AppData\\Local\\Temp\\ipykernel_33060\\472698487.py:7: FutureWarning: The frame.append method is deprecated and will be removed from pandas in a future version. Use pandas.concat instead.\n",
      "  test_t = test_t.append(bottom_transac)\n"
     ]
    },
    {
     "name": "stdout",
     "output_type": "stream",
     "text": [
      "843\n",
      "844\n",
      "845\n"
     ]
    },
    {
     "name": "stderr",
     "output_type": "stream",
     "text": [
      "C:\\Users\\Hammozi\\AppData\\Local\\Temp\\ipykernel_33060\\472698487.py:7: FutureWarning: The frame.append method is deprecated and will be removed from pandas in a future version. Use pandas.concat instead.\n",
      "  test_t = test_t.append(bottom_transac)\n",
      "C:\\Users\\Hammozi\\AppData\\Local\\Temp\\ipykernel_33060\\472698487.py:7: FutureWarning: The frame.append method is deprecated and will be removed from pandas in a future version. Use pandas.concat instead.\n",
      "  test_t = test_t.append(bottom_transac)\n",
      "C:\\Users\\Hammozi\\AppData\\Local\\Temp\\ipykernel_33060\\472698487.py:7: FutureWarning: The frame.append method is deprecated and will be removed from pandas in a future version. Use pandas.concat instead.\n",
      "  test_t = test_t.append(bottom_transac)\n"
     ]
    },
    {
     "name": "stdout",
     "output_type": "stream",
     "text": [
      "846\n",
      "847\n",
      "848\n",
      "849\n"
     ]
    },
    {
     "name": "stderr",
     "output_type": "stream",
     "text": [
      "C:\\Users\\Hammozi\\AppData\\Local\\Temp\\ipykernel_33060\\472698487.py:7: FutureWarning: The frame.append method is deprecated and will be removed from pandas in a future version. Use pandas.concat instead.\n",
      "  test_t = test_t.append(bottom_transac)\n",
      "C:\\Users\\Hammozi\\AppData\\Local\\Temp\\ipykernel_33060\\472698487.py:7: FutureWarning: The frame.append method is deprecated and will be removed from pandas in a future version. Use pandas.concat instead.\n",
      "  test_t = test_t.append(bottom_transac)\n",
      "C:\\Users\\Hammozi\\AppData\\Local\\Temp\\ipykernel_33060\\472698487.py:7: FutureWarning: The frame.append method is deprecated and will be removed from pandas in a future version. Use pandas.concat instead.\n",
      "  test_t = test_t.append(bottom_transac)\n"
     ]
    },
    {
     "name": "stdout",
     "output_type": "stream",
     "text": [
      "850\n",
      "851\n",
      "852\n"
     ]
    },
    {
     "name": "stderr",
     "output_type": "stream",
     "text": [
      "C:\\Users\\Hammozi\\AppData\\Local\\Temp\\ipykernel_33060\\472698487.py:7: FutureWarning: The frame.append method is deprecated and will be removed from pandas in a future version. Use pandas.concat instead.\n",
      "  test_t = test_t.append(bottom_transac)\n",
      "C:\\Users\\Hammozi\\AppData\\Local\\Temp\\ipykernel_33060\\472698487.py:7: FutureWarning: The frame.append method is deprecated and will be removed from pandas in a future version. Use pandas.concat instead.\n",
      "  test_t = test_t.append(bottom_transac)\n",
      "C:\\Users\\Hammozi\\AppData\\Local\\Temp\\ipykernel_33060\\472698487.py:7: FutureWarning: The frame.append method is deprecated and will be removed from pandas in a future version. Use pandas.concat instead.\n",
      "  test_t = test_t.append(bottom_transac)\n"
     ]
    },
    {
     "name": "stdout",
     "output_type": "stream",
     "text": [
      "853\n",
      "854\n",
      "855\n"
     ]
    },
    {
     "name": "stderr",
     "output_type": "stream",
     "text": [
      "C:\\Users\\Hammozi\\AppData\\Local\\Temp\\ipykernel_33060\\472698487.py:7: FutureWarning: The frame.append method is deprecated and will be removed from pandas in a future version. Use pandas.concat instead.\n",
      "  test_t = test_t.append(bottom_transac)\n",
      "C:\\Users\\Hammozi\\AppData\\Local\\Temp\\ipykernel_33060\\472698487.py:7: FutureWarning: The frame.append method is deprecated and will be removed from pandas in a future version. Use pandas.concat instead.\n",
      "  test_t = test_t.append(bottom_transac)\n",
      "C:\\Users\\Hammozi\\AppData\\Local\\Temp\\ipykernel_33060\\472698487.py:7: FutureWarning: The frame.append method is deprecated and will be removed from pandas in a future version. Use pandas.concat instead.\n",
      "  test_t = test_t.append(bottom_transac)\n"
     ]
    },
    {
     "name": "stdout",
     "output_type": "stream",
     "text": [
      "856\n",
      "857\n",
      "858\n"
     ]
    },
    {
     "name": "stderr",
     "output_type": "stream",
     "text": [
      "C:\\Users\\Hammozi\\AppData\\Local\\Temp\\ipykernel_33060\\472698487.py:7: FutureWarning: The frame.append method is deprecated and will be removed from pandas in a future version. Use pandas.concat instead.\n",
      "  test_t = test_t.append(bottom_transac)\n",
      "C:\\Users\\Hammozi\\AppData\\Local\\Temp\\ipykernel_33060\\472698487.py:7: FutureWarning: The frame.append method is deprecated and will be removed from pandas in a future version. Use pandas.concat instead.\n",
      "  test_t = test_t.append(bottom_transac)\n",
      "C:\\Users\\Hammozi\\AppData\\Local\\Temp\\ipykernel_33060\\472698487.py:7: FutureWarning: The frame.append method is deprecated and will be removed from pandas in a future version. Use pandas.concat instead.\n",
      "  test_t = test_t.append(bottom_transac)\n"
     ]
    },
    {
     "name": "stdout",
     "output_type": "stream",
     "text": [
      "859\n",
      "860\n",
      "861\n"
     ]
    },
    {
     "name": "stderr",
     "output_type": "stream",
     "text": [
      "C:\\Users\\Hammozi\\AppData\\Local\\Temp\\ipykernel_33060\\472698487.py:7: FutureWarning: The frame.append method is deprecated and will be removed from pandas in a future version. Use pandas.concat instead.\n",
      "  test_t = test_t.append(bottom_transac)\n",
      "C:\\Users\\Hammozi\\AppData\\Local\\Temp\\ipykernel_33060\\472698487.py:7: FutureWarning: The frame.append method is deprecated and will be removed from pandas in a future version. Use pandas.concat instead.\n",
      "  test_t = test_t.append(bottom_transac)\n",
      "C:\\Users\\Hammozi\\AppData\\Local\\Temp\\ipykernel_33060\\472698487.py:7: FutureWarning: The frame.append method is deprecated and will be removed from pandas in a future version. Use pandas.concat instead.\n",
      "  test_t = test_t.append(bottom_transac)\n"
     ]
    },
    {
     "name": "stdout",
     "output_type": "stream",
     "text": [
      "862\n",
      "863\n",
      "864\n"
     ]
    },
    {
     "name": "stderr",
     "output_type": "stream",
     "text": [
      "C:\\Users\\Hammozi\\AppData\\Local\\Temp\\ipykernel_33060\\472698487.py:7: FutureWarning: The frame.append method is deprecated and will be removed from pandas in a future version. Use pandas.concat instead.\n",
      "  test_t = test_t.append(bottom_transac)\n",
      "C:\\Users\\Hammozi\\AppData\\Local\\Temp\\ipykernel_33060\\472698487.py:7: FutureWarning: The frame.append method is deprecated and will be removed from pandas in a future version. Use pandas.concat instead.\n",
      "  test_t = test_t.append(bottom_transac)\n",
      "C:\\Users\\Hammozi\\AppData\\Local\\Temp\\ipykernel_33060\\472698487.py:7: FutureWarning: The frame.append method is deprecated and will be removed from pandas in a future version. Use pandas.concat instead.\n",
      "  test_t = test_t.append(bottom_transac)\n"
     ]
    },
    {
     "name": "stdout",
     "output_type": "stream",
     "text": [
      "865\n",
      "866\n",
      "867\n"
     ]
    },
    {
     "name": "stderr",
     "output_type": "stream",
     "text": [
      "C:\\Users\\Hammozi\\AppData\\Local\\Temp\\ipykernel_33060\\472698487.py:7: FutureWarning: The frame.append method is deprecated and will be removed from pandas in a future version. Use pandas.concat instead.\n",
      "  test_t = test_t.append(bottom_transac)\n",
      "C:\\Users\\Hammozi\\AppData\\Local\\Temp\\ipykernel_33060\\472698487.py:7: FutureWarning: The frame.append method is deprecated and will be removed from pandas in a future version. Use pandas.concat instead.\n",
      "  test_t = test_t.append(bottom_transac)\n",
      "C:\\Users\\Hammozi\\AppData\\Local\\Temp\\ipykernel_33060\\472698487.py:7: FutureWarning: The frame.append method is deprecated and will be removed from pandas in a future version. Use pandas.concat instead.\n",
      "  test_t = test_t.append(bottom_transac)\n"
     ]
    },
    {
     "name": "stdout",
     "output_type": "stream",
     "text": [
      "868\n",
      "869\n",
      "870\n"
     ]
    },
    {
     "name": "stderr",
     "output_type": "stream",
     "text": [
      "C:\\Users\\Hammozi\\AppData\\Local\\Temp\\ipykernel_33060\\472698487.py:7: FutureWarning: The frame.append method is deprecated and will be removed from pandas in a future version. Use pandas.concat instead.\n",
      "  test_t = test_t.append(bottom_transac)\n",
      "C:\\Users\\Hammozi\\AppData\\Local\\Temp\\ipykernel_33060\\472698487.py:7: FutureWarning: The frame.append method is deprecated and will be removed from pandas in a future version. Use pandas.concat instead.\n",
      "  test_t = test_t.append(bottom_transac)\n",
      "C:\\Users\\Hammozi\\AppData\\Local\\Temp\\ipykernel_33060\\472698487.py:7: FutureWarning: The frame.append method is deprecated and will be removed from pandas in a future version. Use pandas.concat instead.\n",
      "  test_t = test_t.append(bottom_transac)\n"
     ]
    },
    {
     "name": "stdout",
     "output_type": "stream",
     "text": [
      "871\n",
      "872\n",
      "873\n"
     ]
    },
    {
     "name": "stderr",
     "output_type": "stream",
     "text": [
      "C:\\Users\\Hammozi\\AppData\\Local\\Temp\\ipykernel_33060\\472698487.py:7: FutureWarning: The frame.append method is deprecated and will be removed from pandas in a future version. Use pandas.concat instead.\n",
      "  test_t = test_t.append(bottom_transac)\n",
      "C:\\Users\\Hammozi\\AppData\\Local\\Temp\\ipykernel_33060\\472698487.py:7: FutureWarning: The frame.append method is deprecated and will be removed from pandas in a future version. Use pandas.concat instead.\n",
      "  test_t = test_t.append(bottom_transac)\n",
      "C:\\Users\\Hammozi\\AppData\\Local\\Temp\\ipykernel_33060\\472698487.py:7: FutureWarning: The frame.append method is deprecated and will be removed from pandas in a future version. Use pandas.concat instead.\n",
      "  test_t = test_t.append(bottom_transac)\n"
     ]
    },
    {
     "name": "stdout",
     "output_type": "stream",
     "text": [
      "874\n",
      "875\n",
      "876\n"
     ]
    },
    {
     "name": "stderr",
     "output_type": "stream",
     "text": [
      "C:\\Users\\Hammozi\\AppData\\Local\\Temp\\ipykernel_33060\\472698487.py:7: FutureWarning: The frame.append method is deprecated and will be removed from pandas in a future version. Use pandas.concat instead.\n",
      "  test_t = test_t.append(bottom_transac)\n",
      "C:\\Users\\Hammozi\\AppData\\Local\\Temp\\ipykernel_33060\\472698487.py:7: FutureWarning: The frame.append method is deprecated and will be removed from pandas in a future version. Use pandas.concat instead.\n",
      "  test_t = test_t.append(bottom_transac)\n",
      "C:\\Users\\Hammozi\\AppData\\Local\\Temp\\ipykernel_33060\\472698487.py:7: FutureWarning: The frame.append method is deprecated and will be removed from pandas in a future version. Use pandas.concat instead.\n",
      "  test_t = test_t.append(bottom_transac)\n"
     ]
    },
    {
     "name": "stdout",
     "output_type": "stream",
     "text": [
      "877\n",
      "878\n",
      "879\n"
     ]
    },
    {
     "name": "stderr",
     "output_type": "stream",
     "text": [
      "C:\\Users\\Hammozi\\AppData\\Local\\Temp\\ipykernel_33060\\472698487.py:7: FutureWarning: The frame.append method is deprecated and will be removed from pandas in a future version. Use pandas.concat instead.\n",
      "  test_t = test_t.append(bottom_transac)\n",
      "C:\\Users\\Hammozi\\AppData\\Local\\Temp\\ipykernel_33060\\472698487.py:7: FutureWarning: The frame.append method is deprecated and will be removed from pandas in a future version. Use pandas.concat instead.\n",
      "  test_t = test_t.append(bottom_transac)\n",
      "C:\\Users\\Hammozi\\AppData\\Local\\Temp\\ipykernel_33060\\472698487.py:7: FutureWarning: The frame.append method is deprecated and will be removed from pandas in a future version. Use pandas.concat instead.\n",
      "  test_t = test_t.append(bottom_transac)\n"
     ]
    },
    {
     "name": "stdout",
     "output_type": "stream",
     "text": [
      "880\n",
      "881\n",
      "882\n"
     ]
    },
    {
     "name": "stderr",
     "output_type": "stream",
     "text": [
      "C:\\Users\\Hammozi\\AppData\\Local\\Temp\\ipykernel_33060\\472698487.py:7: FutureWarning: The frame.append method is deprecated and will be removed from pandas in a future version. Use pandas.concat instead.\n",
      "  test_t = test_t.append(bottom_transac)\n",
      "C:\\Users\\Hammozi\\AppData\\Local\\Temp\\ipykernel_33060\\472698487.py:7: FutureWarning: The frame.append method is deprecated and will be removed from pandas in a future version. Use pandas.concat instead.\n",
      "  test_t = test_t.append(bottom_transac)\n",
      "C:\\Users\\Hammozi\\AppData\\Local\\Temp\\ipykernel_33060\\472698487.py:7: FutureWarning: The frame.append method is deprecated and will be removed from pandas in a future version. Use pandas.concat instead.\n",
      "  test_t = test_t.append(bottom_transac)\n"
     ]
    },
    {
     "name": "stdout",
     "output_type": "stream",
     "text": [
      "883\n",
      "884\n",
      "885\n"
     ]
    },
    {
     "name": "stderr",
     "output_type": "stream",
     "text": [
      "C:\\Users\\Hammozi\\AppData\\Local\\Temp\\ipykernel_33060\\472698487.py:7: FutureWarning: The frame.append method is deprecated and will be removed from pandas in a future version. Use pandas.concat instead.\n",
      "  test_t = test_t.append(bottom_transac)\n",
      "C:\\Users\\Hammozi\\AppData\\Local\\Temp\\ipykernel_33060\\472698487.py:7: FutureWarning: The frame.append method is deprecated and will be removed from pandas in a future version. Use pandas.concat instead.\n",
      "  test_t = test_t.append(bottom_transac)\n",
      "C:\\Users\\Hammozi\\AppData\\Local\\Temp\\ipykernel_33060\\472698487.py:7: FutureWarning: The frame.append method is deprecated and will be removed from pandas in a future version. Use pandas.concat instead.\n",
      "  test_t = test_t.append(bottom_transac)\n"
     ]
    },
    {
     "name": "stdout",
     "output_type": "stream",
     "text": [
      "886\n",
      "887\n",
      "888\n"
     ]
    },
    {
     "name": "stderr",
     "output_type": "stream",
     "text": [
      "C:\\Users\\Hammozi\\AppData\\Local\\Temp\\ipykernel_33060\\472698487.py:7: FutureWarning: The frame.append method is deprecated and will be removed from pandas in a future version. Use pandas.concat instead.\n",
      "  test_t = test_t.append(bottom_transac)\n",
      "C:\\Users\\Hammozi\\AppData\\Local\\Temp\\ipykernel_33060\\472698487.py:7: FutureWarning: The frame.append method is deprecated and will be removed from pandas in a future version. Use pandas.concat instead.\n",
      "  test_t = test_t.append(bottom_transac)\n",
      "C:\\Users\\Hammozi\\AppData\\Local\\Temp\\ipykernel_33060\\472698487.py:7: FutureWarning: The frame.append method is deprecated and will be removed from pandas in a future version. Use pandas.concat instead.\n",
      "  test_t = test_t.append(bottom_transac)\n"
     ]
    },
    {
     "name": "stdout",
     "output_type": "stream",
     "text": [
      "889\n",
      "890\n",
      "891\n"
     ]
    },
    {
     "name": "stderr",
     "output_type": "stream",
     "text": [
      "C:\\Users\\Hammozi\\AppData\\Local\\Temp\\ipykernel_33060\\472698487.py:7: FutureWarning: The frame.append method is deprecated and will be removed from pandas in a future version. Use pandas.concat instead.\n",
      "  test_t = test_t.append(bottom_transac)\n",
      "C:\\Users\\Hammozi\\AppData\\Local\\Temp\\ipykernel_33060\\472698487.py:7: FutureWarning: The frame.append method is deprecated and will be removed from pandas in a future version. Use pandas.concat instead.\n",
      "  test_t = test_t.append(bottom_transac)\n",
      "C:\\Users\\Hammozi\\AppData\\Local\\Temp\\ipykernel_33060\\472698487.py:7: FutureWarning: The frame.append method is deprecated and will be removed from pandas in a future version. Use pandas.concat instead.\n",
      "  test_t = test_t.append(bottom_transac)\n"
     ]
    },
    {
     "name": "stdout",
     "output_type": "stream",
     "text": [
      "892\n",
      "893\n",
      "894\n"
     ]
    },
    {
     "name": "stderr",
     "output_type": "stream",
     "text": [
      "C:\\Users\\Hammozi\\AppData\\Local\\Temp\\ipykernel_33060\\472698487.py:7: FutureWarning: The frame.append method is deprecated and will be removed from pandas in a future version. Use pandas.concat instead.\n",
      "  test_t = test_t.append(bottom_transac)\n",
      "C:\\Users\\Hammozi\\AppData\\Local\\Temp\\ipykernel_33060\\472698487.py:7: FutureWarning: The frame.append method is deprecated and will be removed from pandas in a future version. Use pandas.concat instead.\n",
      "  test_t = test_t.append(bottom_transac)\n",
      "C:\\Users\\Hammozi\\AppData\\Local\\Temp\\ipykernel_33060\\472698487.py:7: FutureWarning: The frame.append method is deprecated and will be removed from pandas in a future version. Use pandas.concat instead.\n",
      "  test_t = test_t.append(bottom_transac)\n"
     ]
    },
    {
     "name": "stdout",
     "output_type": "stream",
     "text": [
      "895\n",
      "896\n",
      "897\n",
      "898\n"
     ]
    },
    {
     "name": "stderr",
     "output_type": "stream",
     "text": [
      "C:\\Users\\Hammozi\\AppData\\Local\\Temp\\ipykernel_33060\\472698487.py:7: FutureWarning: The frame.append method is deprecated and will be removed from pandas in a future version. Use pandas.concat instead.\n",
      "  test_t = test_t.append(bottom_transac)\n",
      "C:\\Users\\Hammozi\\AppData\\Local\\Temp\\ipykernel_33060\\472698487.py:7: FutureWarning: The frame.append method is deprecated and will be removed from pandas in a future version. Use pandas.concat instead.\n",
      "  test_t = test_t.append(bottom_transac)\n",
      "C:\\Users\\Hammozi\\AppData\\Local\\Temp\\ipykernel_33060\\472698487.py:7: FutureWarning: The frame.append method is deprecated and will be removed from pandas in a future version. Use pandas.concat instead.\n",
      "  test_t = test_t.append(bottom_transac)\n"
     ]
    },
    {
     "name": "stdout",
     "output_type": "stream",
     "text": [
      "899\n",
      "900\n",
      "901\n"
     ]
    },
    {
     "name": "stderr",
     "output_type": "stream",
     "text": [
      "C:\\Users\\Hammozi\\AppData\\Local\\Temp\\ipykernel_33060\\472698487.py:7: FutureWarning: The frame.append method is deprecated and will be removed from pandas in a future version. Use pandas.concat instead.\n",
      "  test_t = test_t.append(bottom_transac)\n",
      "C:\\Users\\Hammozi\\AppData\\Local\\Temp\\ipykernel_33060\\472698487.py:7: FutureWarning: The frame.append method is deprecated and will be removed from pandas in a future version. Use pandas.concat instead.\n",
      "  test_t = test_t.append(bottom_transac)\n",
      "C:\\Users\\Hammozi\\AppData\\Local\\Temp\\ipykernel_33060\\472698487.py:7: FutureWarning: The frame.append method is deprecated and will be removed from pandas in a future version. Use pandas.concat instead.\n",
      "  test_t = test_t.append(bottom_transac)\n"
     ]
    },
    {
     "name": "stdout",
     "output_type": "stream",
     "text": [
      "902\n",
      "903\n",
      "904\n"
     ]
    },
    {
     "name": "stderr",
     "output_type": "stream",
     "text": [
      "C:\\Users\\Hammozi\\AppData\\Local\\Temp\\ipykernel_33060\\472698487.py:7: FutureWarning: The frame.append method is deprecated and will be removed from pandas in a future version. Use pandas.concat instead.\n",
      "  test_t = test_t.append(bottom_transac)\n",
      "C:\\Users\\Hammozi\\AppData\\Local\\Temp\\ipykernel_33060\\472698487.py:7: FutureWarning: The frame.append method is deprecated and will be removed from pandas in a future version. Use pandas.concat instead.\n",
      "  test_t = test_t.append(bottom_transac)\n",
      "C:\\Users\\Hammozi\\AppData\\Local\\Temp\\ipykernel_33060\\472698487.py:7: FutureWarning: The frame.append method is deprecated and will be removed from pandas in a future version. Use pandas.concat instead.\n",
      "  test_t = test_t.append(bottom_transac)\n"
     ]
    },
    {
     "name": "stdout",
     "output_type": "stream",
     "text": [
      "905\n",
      "906\n",
      "907\n"
     ]
    },
    {
     "name": "stderr",
     "output_type": "stream",
     "text": [
      "C:\\Users\\Hammozi\\AppData\\Local\\Temp\\ipykernel_33060\\472698487.py:7: FutureWarning: The frame.append method is deprecated and will be removed from pandas in a future version. Use pandas.concat instead.\n",
      "  test_t = test_t.append(bottom_transac)\n",
      "C:\\Users\\Hammozi\\AppData\\Local\\Temp\\ipykernel_33060\\472698487.py:7: FutureWarning: The frame.append method is deprecated and will be removed from pandas in a future version. Use pandas.concat instead.\n",
      "  test_t = test_t.append(bottom_transac)\n",
      "C:\\Users\\Hammozi\\AppData\\Local\\Temp\\ipykernel_33060\\472698487.py:7: FutureWarning: The frame.append method is deprecated and will be removed from pandas in a future version. Use pandas.concat instead.\n",
      "  test_t = test_t.append(bottom_transac)\n"
     ]
    },
    {
     "name": "stdout",
     "output_type": "stream",
     "text": [
      "908\n",
      "909\n",
      "910\n",
      "911\n"
     ]
    },
    {
     "name": "stderr",
     "output_type": "stream",
     "text": [
      "C:\\Users\\Hammozi\\AppData\\Local\\Temp\\ipykernel_33060\\472698487.py:7: FutureWarning: The frame.append method is deprecated and will be removed from pandas in a future version. Use pandas.concat instead.\n",
      "  test_t = test_t.append(bottom_transac)\n",
      "C:\\Users\\Hammozi\\AppData\\Local\\Temp\\ipykernel_33060\\472698487.py:7: FutureWarning: The frame.append method is deprecated and will be removed from pandas in a future version. Use pandas.concat instead.\n",
      "  test_t = test_t.append(bottom_transac)\n",
      "C:\\Users\\Hammozi\\AppData\\Local\\Temp\\ipykernel_33060\\472698487.py:7: FutureWarning: The frame.append method is deprecated and will be removed from pandas in a future version. Use pandas.concat instead.\n",
      "  test_t = test_t.append(bottom_transac)\n",
      "C:\\Users\\Hammozi\\AppData\\Local\\Temp\\ipykernel_33060\\472698487.py:7: FutureWarning: The frame.append method is deprecated and will be removed from pandas in a future version. Use pandas.concat instead.\n",
      "  test_t = test_t.append(bottom_transac)\n",
      "C:\\Users\\Hammozi\\AppData\\Local\\Temp\\ipykernel_33060\\472698487.py:7: FutureWarning: The frame.append method is deprecated and will be removed from pandas in a future version. Use pandas.concat instead.\n",
      "  test_t = test_t.append(bottom_transac)\n",
      "C:\\Users\\Hammozi\\AppData\\Local\\Temp\\ipykernel_33060\\472698487.py:7: FutureWarning: The frame.append method is deprecated and will be removed from pandas in a future version. Use pandas.concat instead.\n",
      "  test_t = test_t.append(bottom_transac)\n"
     ]
    },
    {
     "name": "stdout",
     "output_type": "stream",
     "text": [
      "912\n",
      "913\n",
      "914\n"
     ]
    },
    {
     "name": "stderr",
     "output_type": "stream",
     "text": [
      "C:\\Users\\Hammozi\\AppData\\Local\\Temp\\ipykernel_33060\\472698487.py:7: FutureWarning: The frame.append method is deprecated and will be removed from pandas in a future version. Use pandas.concat instead.\n",
      "  test_t = test_t.append(bottom_transac)\n",
      "C:\\Users\\Hammozi\\AppData\\Local\\Temp\\ipykernel_33060\\472698487.py:7: FutureWarning: The frame.append method is deprecated and will be removed from pandas in a future version. Use pandas.concat instead.\n",
      "  test_t = test_t.append(bottom_transac)\n",
      "C:\\Users\\Hammozi\\AppData\\Local\\Temp\\ipykernel_33060\\472698487.py:7: FutureWarning: The frame.append method is deprecated and will be removed from pandas in a future version. Use pandas.concat instead.\n",
      "  test_t = test_t.append(bottom_transac)\n"
     ]
    },
    {
     "name": "stdout",
     "output_type": "stream",
     "text": [
      "915\n",
      "916\n",
      "917\n",
      "918\n"
     ]
    },
    {
     "name": "stderr",
     "output_type": "stream",
     "text": [
      "C:\\Users\\Hammozi\\AppData\\Local\\Temp\\ipykernel_33060\\472698487.py:7: FutureWarning: The frame.append method is deprecated and will be removed from pandas in a future version. Use pandas.concat instead.\n",
      "  test_t = test_t.append(bottom_transac)\n",
      "C:\\Users\\Hammozi\\AppData\\Local\\Temp\\ipykernel_33060\\472698487.py:7: FutureWarning: The frame.append method is deprecated and will be removed from pandas in a future version. Use pandas.concat instead.\n",
      "  test_t = test_t.append(bottom_transac)\n",
      "C:\\Users\\Hammozi\\AppData\\Local\\Temp\\ipykernel_33060\\472698487.py:7: FutureWarning: The frame.append method is deprecated and will be removed from pandas in a future version. Use pandas.concat instead.\n",
      "  test_t = test_t.append(bottom_transac)\n"
     ]
    },
    {
     "name": "stdout",
     "output_type": "stream",
     "text": [
      "919\n",
      "920\n",
      "921\n"
     ]
    },
    {
     "name": "stderr",
     "output_type": "stream",
     "text": [
      "C:\\Users\\Hammozi\\AppData\\Local\\Temp\\ipykernel_33060\\472698487.py:7: FutureWarning: The frame.append method is deprecated and will be removed from pandas in a future version. Use pandas.concat instead.\n",
      "  test_t = test_t.append(bottom_transac)\n",
      "C:\\Users\\Hammozi\\AppData\\Local\\Temp\\ipykernel_33060\\472698487.py:7: FutureWarning: The frame.append method is deprecated and will be removed from pandas in a future version. Use pandas.concat instead.\n",
      "  test_t = test_t.append(bottom_transac)\n",
      "C:\\Users\\Hammozi\\AppData\\Local\\Temp\\ipykernel_33060\\472698487.py:7: FutureWarning: The frame.append method is deprecated and will be removed from pandas in a future version. Use pandas.concat instead.\n",
      "  test_t = test_t.append(bottom_transac)\n"
     ]
    },
    {
     "name": "stdout",
     "output_type": "stream",
     "text": [
      "922\n",
      "923\n",
      "924\n"
     ]
    },
    {
     "name": "stderr",
     "output_type": "stream",
     "text": [
      "C:\\Users\\Hammozi\\AppData\\Local\\Temp\\ipykernel_33060\\472698487.py:7: FutureWarning: The frame.append method is deprecated and will be removed from pandas in a future version. Use pandas.concat instead.\n",
      "  test_t = test_t.append(bottom_transac)\n",
      "C:\\Users\\Hammozi\\AppData\\Local\\Temp\\ipykernel_33060\\472698487.py:7: FutureWarning: The frame.append method is deprecated and will be removed from pandas in a future version. Use pandas.concat instead.\n",
      "  test_t = test_t.append(bottom_transac)\n",
      "C:\\Users\\Hammozi\\AppData\\Local\\Temp\\ipykernel_33060\\472698487.py:7: FutureWarning: The frame.append method is deprecated and will be removed from pandas in a future version. Use pandas.concat instead.\n",
      "  test_t = test_t.append(bottom_transac)\n"
     ]
    },
    {
     "name": "stdout",
     "output_type": "stream",
     "text": [
      "925\n",
      "926\n",
      "927\n"
     ]
    },
    {
     "name": "stderr",
     "output_type": "stream",
     "text": [
      "C:\\Users\\Hammozi\\AppData\\Local\\Temp\\ipykernel_33060\\472698487.py:7: FutureWarning: The frame.append method is deprecated and will be removed from pandas in a future version. Use pandas.concat instead.\n",
      "  test_t = test_t.append(bottom_transac)\n",
      "C:\\Users\\Hammozi\\AppData\\Local\\Temp\\ipykernel_33060\\472698487.py:7: FutureWarning: The frame.append method is deprecated and will be removed from pandas in a future version. Use pandas.concat instead.\n",
      "  test_t = test_t.append(bottom_transac)\n",
      "C:\\Users\\Hammozi\\AppData\\Local\\Temp\\ipykernel_33060\\472698487.py:7: FutureWarning: The frame.append method is deprecated and will be removed from pandas in a future version. Use pandas.concat instead.\n",
      "  test_t = test_t.append(bottom_transac)\n"
     ]
    },
    {
     "name": "stdout",
     "output_type": "stream",
     "text": [
      "928\n",
      "929\n",
      "930\n"
     ]
    },
    {
     "name": "stderr",
     "output_type": "stream",
     "text": [
      "C:\\Users\\Hammozi\\AppData\\Local\\Temp\\ipykernel_33060\\472698487.py:7: FutureWarning: The frame.append method is deprecated and will be removed from pandas in a future version. Use pandas.concat instead.\n",
      "  test_t = test_t.append(bottom_transac)\n",
      "C:\\Users\\Hammozi\\AppData\\Local\\Temp\\ipykernel_33060\\472698487.py:7: FutureWarning: The frame.append method is deprecated and will be removed from pandas in a future version. Use pandas.concat instead.\n",
      "  test_t = test_t.append(bottom_transac)\n",
      "C:\\Users\\Hammozi\\AppData\\Local\\Temp\\ipykernel_33060\\472698487.py:7: FutureWarning: The frame.append method is deprecated and will be removed from pandas in a future version. Use pandas.concat instead.\n",
      "  test_t = test_t.append(bottom_transac)\n"
     ]
    },
    {
     "name": "stdout",
     "output_type": "stream",
     "text": [
      "931\n",
      "932\n",
      "933\n"
     ]
    },
    {
     "name": "stderr",
     "output_type": "stream",
     "text": [
      "C:\\Users\\Hammozi\\AppData\\Local\\Temp\\ipykernel_33060\\472698487.py:7: FutureWarning: The frame.append method is deprecated and will be removed from pandas in a future version. Use pandas.concat instead.\n",
      "  test_t = test_t.append(bottom_transac)\n",
      "C:\\Users\\Hammozi\\AppData\\Local\\Temp\\ipykernel_33060\\472698487.py:7: FutureWarning: The frame.append method is deprecated and will be removed from pandas in a future version. Use pandas.concat instead.\n",
      "  test_t = test_t.append(bottom_transac)\n",
      "C:\\Users\\Hammozi\\AppData\\Local\\Temp\\ipykernel_33060\\472698487.py:7: FutureWarning: The frame.append method is deprecated and will be removed from pandas in a future version. Use pandas.concat instead.\n",
      "  test_t = test_t.append(bottom_transac)\n"
     ]
    },
    {
     "name": "stdout",
     "output_type": "stream",
     "text": [
      "934\n",
      "935\n",
      "936\n",
      "937\n"
     ]
    },
    {
     "name": "stderr",
     "output_type": "stream",
     "text": [
      "C:\\Users\\Hammozi\\AppData\\Local\\Temp\\ipykernel_33060\\472698487.py:7: FutureWarning: The frame.append method is deprecated and will be removed from pandas in a future version. Use pandas.concat instead.\n",
      "  test_t = test_t.append(bottom_transac)\n",
      "C:\\Users\\Hammozi\\AppData\\Local\\Temp\\ipykernel_33060\\472698487.py:7: FutureWarning: The frame.append method is deprecated and will be removed from pandas in a future version. Use pandas.concat instead.\n",
      "  test_t = test_t.append(bottom_transac)\n",
      "C:\\Users\\Hammozi\\AppData\\Local\\Temp\\ipykernel_33060\\472698487.py:7: FutureWarning: The frame.append method is deprecated and will be removed from pandas in a future version. Use pandas.concat instead.\n",
      "  test_t = test_t.append(bottom_transac)\n"
     ]
    },
    {
     "name": "stdout",
     "output_type": "stream",
     "text": [
      "938\n",
      "939\n",
      "940\n"
     ]
    },
    {
     "name": "stderr",
     "output_type": "stream",
     "text": [
      "C:\\Users\\Hammozi\\AppData\\Local\\Temp\\ipykernel_33060\\472698487.py:7: FutureWarning: The frame.append method is deprecated and will be removed from pandas in a future version. Use pandas.concat instead.\n",
      "  test_t = test_t.append(bottom_transac)\n",
      "C:\\Users\\Hammozi\\AppData\\Local\\Temp\\ipykernel_33060\\472698487.py:7: FutureWarning: The frame.append method is deprecated and will be removed from pandas in a future version. Use pandas.concat instead.\n",
      "  test_t = test_t.append(bottom_transac)\n",
      "C:\\Users\\Hammozi\\AppData\\Local\\Temp\\ipykernel_33060\\472698487.py:7: FutureWarning: The frame.append method is deprecated and will be removed from pandas in a future version. Use pandas.concat instead.\n",
      "  test_t = test_t.append(bottom_transac)\n"
     ]
    },
    {
     "name": "stdout",
     "output_type": "stream",
     "text": [
      "941\n",
      "942\n",
      "943\n",
      "944\n"
     ]
    },
    {
     "name": "stderr",
     "output_type": "stream",
     "text": [
      "C:\\Users\\Hammozi\\AppData\\Local\\Temp\\ipykernel_33060\\472698487.py:7: FutureWarning: The frame.append method is deprecated and will be removed from pandas in a future version. Use pandas.concat instead.\n",
      "  test_t = test_t.append(bottom_transac)\n",
      "C:\\Users\\Hammozi\\AppData\\Local\\Temp\\ipykernel_33060\\472698487.py:7: FutureWarning: The frame.append method is deprecated and will be removed from pandas in a future version. Use pandas.concat instead.\n",
      "  test_t = test_t.append(bottom_transac)\n",
      "C:\\Users\\Hammozi\\AppData\\Local\\Temp\\ipykernel_33060\\472698487.py:7: FutureWarning: The frame.append method is deprecated and will be removed from pandas in a future version. Use pandas.concat instead.\n",
      "  test_t = test_t.append(bottom_transac)\n",
      "C:\\Users\\Hammozi\\AppData\\Local\\Temp\\ipykernel_33060\\472698487.py:7: FutureWarning: The frame.append method is deprecated and will be removed from pandas in a future version. Use pandas.concat instead.\n",
      "  test_t = test_t.append(bottom_transac)\n",
      "C:\\Users\\Hammozi\\AppData\\Local\\Temp\\ipykernel_33060\\472698487.py:7: FutureWarning: The frame.append method is deprecated and will be removed from pandas in a future version. Use pandas.concat instead.\n",
      "  test_t = test_t.append(bottom_transac)\n",
      "C:\\Users\\Hammozi\\AppData\\Local\\Temp\\ipykernel_33060\\472698487.py:7: FutureWarning: The frame.append method is deprecated and will be removed from pandas in a future version. Use pandas.concat instead.\n",
      "  test_t = test_t.append(bottom_transac)\n"
     ]
    },
    {
     "name": "stdout",
     "output_type": "stream",
     "text": [
      "945\n",
      "946\n",
      "947\n"
     ]
    },
    {
     "name": "stderr",
     "output_type": "stream",
     "text": [
      "C:\\Users\\Hammozi\\AppData\\Local\\Temp\\ipykernel_33060\\472698487.py:7: FutureWarning: The frame.append method is deprecated and will be removed from pandas in a future version. Use pandas.concat instead.\n",
      "  test_t = test_t.append(bottom_transac)\n",
      "C:\\Users\\Hammozi\\AppData\\Local\\Temp\\ipykernel_33060\\472698487.py:7: FutureWarning: The frame.append method is deprecated and will be removed from pandas in a future version. Use pandas.concat instead.\n",
      "  test_t = test_t.append(bottom_transac)\n",
      "C:\\Users\\Hammozi\\AppData\\Local\\Temp\\ipykernel_33060\\472698487.py:7: FutureWarning: The frame.append method is deprecated and will be removed from pandas in a future version. Use pandas.concat instead.\n",
      "  test_t = test_t.append(bottom_transac)\n"
     ]
    },
    {
     "name": "stdout",
     "output_type": "stream",
     "text": [
      "948\n",
      "949\n",
      "950\n"
     ]
    },
    {
     "name": "stderr",
     "output_type": "stream",
     "text": [
      "C:\\Users\\Hammozi\\AppData\\Local\\Temp\\ipykernel_33060\\472698487.py:7: FutureWarning: The frame.append method is deprecated and will be removed from pandas in a future version. Use pandas.concat instead.\n",
      "  test_t = test_t.append(bottom_transac)\n",
      "C:\\Users\\Hammozi\\AppData\\Local\\Temp\\ipykernel_33060\\472698487.py:7: FutureWarning: The frame.append method is deprecated and will be removed from pandas in a future version. Use pandas.concat instead.\n",
      "  test_t = test_t.append(bottom_transac)\n",
      "C:\\Users\\Hammozi\\AppData\\Local\\Temp\\ipykernel_33060\\472698487.py:7: FutureWarning: The frame.append method is deprecated and will be removed from pandas in a future version. Use pandas.concat instead.\n",
      "  test_t = test_t.append(bottom_transac)\n"
     ]
    },
    {
     "name": "stdout",
     "output_type": "stream",
     "text": [
      "951\n",
      "952\n",
      "953\n",
      "954\n"
     ]
    },
    {
     "name": "stderr",
     "output_type": "stream",
     "text": [
      "C:\\Users\\Hammozi\\AppData\\Local\\Temp\\ipykernel_33060\\472698487.py:7: FutureWarning: The frame.append method is deprecated and will be removed from pandas in a future version. Use pandas.concat instead.\n",
      "  test_t = test_t.append(bottom_transac)\n",
      "C:\\Users\\Hammozi\\AppData\\Local\\Temp\\ipykernel_33060\\472698487.py:7: FutureWarning: The frame.append method is deprecated and will be removed from pandas in a future version. Use pandas.concat instead.\n",
      "  test_t = test_t.append(bottom_transac)\n",
      "C:\\Users\\Hammozi\\AppData\\Local\\Temp\\ipykernel_33060\\472698487.py:7: FutureWarning: The frame.append method is deprecated and will be removed from pandas in a future version. Use pandas.concat instead.\n",
      "  test_t = test_t.append(bottom_transac)\n"
     ]
    },
    {
     "name": "stdout",
     "output_type": "stream",
     "text": [
      "955\n",
      "956\n",
      "957\n"
     ]
    },
    {
     "name": "stderr",
     "output_type": "stream",
     "text": [
      "C:\\Users\\Hammozi\\AppData\\Local\\Temp\\ipykernel_33060\\472698487.py:7: FutureWarning: The frame.append method is deprecated and will be removed from pandas in a future version. Use pandas.concat instead.\n",
      "  test_t = test_t.append(bottom_transac)\n",
      "C:\\Users\\Hammozi\\AppData\\Local\\Temp\\ipykernel_33060\\472698487.py:7: FutureWarning: The frame.append method is deprecated and will be removed from pandas in a future version. Use pandas.concat instead.\n",
      "  test_t = test_t.append(bottom_transac)\n",
      "C:\\Users\\Hammozi\\AppData\\Local\\Temp\\ipykernel_33060\\472698487.py:7: FutureWarning: The frame.append method is deprecated and will be removed from pandas in a future version. Use pandas.concat instead.\n",
      "  test_t = test_t.append(bottom_transac)\n"
     ]
    },
    {
     "name": "stdout",
     "output_type": "stream",
     "text": [
      "958\n",
      "959\n",
      "960\n"
     ]
    },
    {
     "name": "stderr",
     "output_type": "stream",
     "text": [
      "C:\\Users\\Hammozi\\AppData\\Local\\Temp\\ipykernel_33060\\472698487.py:7: FutureWarning: The frame.append method is deprecated and will be removed from pandas in a future version. Use pandas.concat instead.\n",
      "  test_t = test_t.append(bottom_transac)\n",
      "C:\\Users\\Hammozi\\AppData\\Local\\Temp\\ipykernel_33060\\472698487.py:7: FutureWarning: The frame.append method is deprecated and will be removed from pandas in a future version. Use pandas.concat instead.\n",
      "  test_t = test_t.append(bottom_transac)\n",
      "C:\\Users\\Hammozi\\AppData\\Local\\Temp\\ipykernel_33060\\472698487.py:7: FutureWarning: The frame.append method is deprecated and will be removed from pandas in a future version. Use pandas.concat instead.\n",
      "  test_t = test_t.append(bottom_transac)\n"
     ]
    },
    {
     "name": "stdout",
     "output_type": "stream",
     "text": [
      "961\n",
      "962\n",
      "963\n",
      "964\n"
     ]
    },
    {
     "name": "stderr",
     "output_type": "stream",
     "text": [
      "C:\\Users\\Hammozi\\AppData\\Local\\Temp\\ipykernel_33060\\472698487.py:7: FutureWarning: The frame.append method is deprecated and will be removed from pandas in a future version. Use pandas.concat instead.\n",
      "  test_t = test_t.append(bottom_transac)\n",
      "C:\\Users\\Hammozi\\AppData\\Local\\Temp\\ipykernel_33060\\472698487.py:7: FutureWarning: The frame.append method is deprecated and will be removed from pandas in a future version. Use pandas.concat instead.\n",
      "  test_t = test_t.append(bottom_transac)\n",
      "C:\\Users\\Hammozi\\AppData\\Local\\Temp\\ipykernel_33060\\472698487.py:7: FutureWarning: The frame.append method is deprecated and will be removed from pandas in a future version. Use pandas.concat instead.\n",
      "  test_t = test_t.append(bottom_transac)\n"
     ]
    },
    {
     "name": "stdout",
     "output_type": "stream",
     "text": [
      "965\n",
      "966\n",
      "967\n"
     ]
    },
    {
     "name": "stderr",
     "output_type": "stream",
     "text": [
      "C:\\Users\\Hammozi\\AppData\\Local\\Temp\\ipykernel_33060\\472698487.py:7: FutureWarning: The frame.append method is deprecated and will be removed from pandas in a future version. Use pandas.concat instead.\n",
      "  test_t = test_t.append(bottom_transac)\n",
      "C:\\Users\\Hammozi\\AppData\\Local\\Temp\\ipykernel_33060\\472698487.py:7: FutureWarning: The frame.append method is deprecated and will be removed from pandas in a future version. Use pandas.concat instead.\n",
      "  test_t = test_t.append(bottom_transac)\n",
      "C:\\Users\\Hammozi\\AppData\\Local\\Temp\\ipykernel_33060\\472698487.py:7: FutureWarning: The frame.append method is deprecated and will be removed from pandas in a future version. Use pandas.concat instead.\n",
      "  test_t = test_t.append(bottom_transac)\n"
     ]
    },
    {
     "name": "stdout",
     "output_type": "stream",
     "text": [
      "968\n",
      "969\n",
      "970\n"
     ]
    },
    {
     "name": "stderr",
     "output_type": "stream",
     "text": [
      "C:\\Users\\Hammozi\\AppData\\Local\\Temp\\ipykernel_33060\\472698487.py:7: FutureWarning: The frame.append method is deprecated and will be removed from pandas in a future version. Use pandas.concat instead.\n",
      "  test_t = test_t.append(bottom_transac)\n",
      "C:\\Users\\Hammozi\\AppData\\Local\\Temp\\ipykernel_33060\\472698487.py:7: FutureWarning: The frame.append method is deprecated and will be removed from pandas in a future version. Use pandas.concat instead.\n",
      "  test_t = test_t.append(bottom_transac)\n",
      "C:\\Users\\Hammozi\\AppData\\Local\\Temp\\ipykernel_33060\\472698487.py:7: FutureWarning: The frame.append method is deprecated and will be removed from pandas in a future version. Use pandas.concat instead.\n",
      "  test_t = test_t.append(bottom_transac)\n"
     ]
    },
    {
     "name": "stdout",
     "output_type": "stream",
     "text": [
      "971\n",
      "972\n",
      "973\n"
     ]
    },
    {
     "name": "stderr",
     "output_type": "stream",
     "text": [
      "C:\\Users\\Hammozi\\AppData\\Local\\Temp\\ipykernel_33060\\472698487.py:7: FutureWarning: The frame.append method is deprecated and will be removed from pandas in a future version. Use pandas.concat instead.\n",
      "  test_t = test_t.append(bottom_transac)\n",
      "C:\\Users\\Hammozi\\AppData\\Local\\Temp\\ipykernel_33060\\472698487.py:7: FutureWarning: The frame.append method is deprecated and will be removed from pandas in a future version. Use pandas.concat instead.\n",
      "  test_t = test_t.append(bottom_transac)\n",
      "C:\\Users\\Hammozi\\AppData\\Local\\Temp\\ipykernel_33060\\472698487.py:7: FutureWarning: The frame.append method is deprecated and will be removed from pandas in a future version. Use pandas.concat instead.\n",
      "  test_t = test_t.append(bottom_transac)\n"
     ]
    },
    {
     "name": "stdout",
     "output_type": "stream",
     "text": [
      "974\n",
      "975\n",
      "976\n"
     ]
    },
    {
     "name": "stderr",
     "output_type": "stream",
     "text": [
      "C:\\Users\\Hammozi\\AppData\\Local\\Temp\\ipykernel_33060\\472698487.py:7: FutureWarning: The frame.append method is deprecated and will be removed from pandas in a future version. Use pandas.concat instead.\n",
      "  test_t = test_t.append(bottom_transac)\n",
      "C:\\Users\\Hammozi\\AppData\\Local\\Temp\\ipykernel_33060\\472698487.py:7: FutureWarning: The frame.append method is deprecated and will be removed from pandas in a future version. Use pandas.concat instead.\n",
      "  test_t = test_t.append(bottom_transac)\n",
      "C:\\Users\\Hammozi\\AppData\\Local\\Temp\\ipykernel_33060\\472698487.py:7: FutureWarning: The frame.append method is deprecated and will be removed from pandas in a future version. Use pandas.concat instead.\n",
      "  test_t = test_t.append(bottom_transac)\n"
     ]
    },
    {
     "name": "stdout",
     "output_type": "stream",
     "text": [
      "977\n",
      "978\n",
      "979\n"
     ]
    },
    {
     "name": "stderr",
     "output_type": "stream",
     "text": [
      "C:\\Users\\Hammozi\\AppData\\Local\\Temp\\ipykernel_33060\\472698487.py:7: FutureWarning: The frame.append method is deprecated and will be removed from pandas in a future version. Use pandas.concat instead.\n",
      "  test_t = test_t.append(bottom_transac)\n",
      "C:\\Users\\Hammozi\\AppData\\Local\\Temp\\ipykernel_33060\\472698487.py:7: FutureWarning: The frame.append method is deprecated and will be removed from pandas in a future version. Use pandas.concat instead.\n",
      "  test_t = test_t.append(bottom_transac)\n",
      "C:\\Users\\Hammozi\\AppData\\Local\\Temp\\ipykernel_33060\\472698487.py:7: FutureWarning: The frame.append method is deprecated and will be removed from pandas in a future version. Use pandas.concat instead.\n",
      "  test_t = test_t.append(bottom_transac)\n"
     ]
    },
    {
     "name": "stdout",
     "output_type": "stream",
     "text": [
      "980\n",
      "981\n",
      "982\n",
      "983\n"
     ]
    },
    {
     "name": "stderr",
     "output_type": "stream",
     "text": [
      "C:\\Users\\Hammozi\\AppData\\Local\\Temp\\ipykernel_33060\\472698487.py:7: FutureWarning: The frame.append method is deprecated and will be removed from pandas in a future version. Use pandas.concat instead.\n",
      "  test_t = test_t.append(bottom_transac)\n",
      "C:\\Users\\Hammozi\\AppData\\Local\\Temp\\ipykernel_33060\\472698487.py:7: FutureWarning: The frame.append method is deprecated and will be removed from pandas in a future version. Use pandas.concat instead.\n",
      "  test_t = test_t.append(bottom_transac)\n",
      "C:\\Users\\Hammozi\\AppData\\Local\\Temp\\ipykernel_33060\\472698487.py:7: FutureWarning: The frame.append method is deprecated and will be removed from pandas in a future version. Use pandas.concat instead.\n",
      "  test_t = test_t.append(bottom_transac)\n",
      "C:\\Users\\Hammozi\\AppData\\Local\\Temp\\ipykernel_33060\\472698487.py:7: FutureWarning: The frame.append method is deprecated and will be removed from pandas in a future version. Use pandas.concat instead.\n",
      "  test_t = test_t.append(bottom_transac)\n",
      "C:\\Users\\Hammozi\\AppData\\Local\\Temp\\ipykernel_33060\\472698487.py:7: FutureWarning: The frame.append method is deprecated and will be removed from pandas in a future version. Use pandas.concat instead.\n",
      "  test_t = test_t.append(bottom_transac)\n",
      "C:\\Users\\Hammozi\\AppData\\Local\\Temp\\ipykernel_33060\\472698487.py:7: FutureWarning: The frame.append method is deprecated and will be removed from pandas in a future version. Use pandas.concat instead.\n",
      "  test_t = test_t.append(bottom_transac)\n"
     ]
    },
    {
     "name": "stdout",
     "output_type": "stream",
     "text": [
      "984\n",
      "985\n",
      "986\n"
     ]
    },
    {
     "name": "stderr",
     "output_type": "stream",
     "text": [
      "C:\\Users\\Hammozi\\AppData\\Local\\Temp\\ipykernel_33060\\472698487.py:7: FutureWarning: The frame.append method is deprecated and will be removed from pandas in a future version. Use pandas.concat instead.\n",
      "  test_t = test_t.append(bottom_transac)\n",
      "C:\\Users\\Hammozi\\AppData\\Local\\Temp\\ipykernel_33060\\472698487.py:7: FutureWarning: The frame.append method is deprecated and will be removed from pandas in a future version. Use pandas.concat instead.\n",
      "  test_t = test_t.append(bottom_transac)\n",
      "C:\\Users\\Hammozi\\AppData\\Local\\Temp\\ipykernel_33060\\472698487.py:7: FutureWarning: The frame.append method is deprecated and will be removed from pandas in a future version. Use pandas.concat instead.\n",
      "  test_t = test_t.append(bottom_transac)\n"
     ]
    },
    {
     "name": "stdout",
     "output_type": "stream",
     "text": [
      "987\n",
      "988\n",
      "989\n"
     ]
    },
    {
     "name": "stderr",
     "output_type": "stream",
     "text": [
      "C:\\Users\\Hammozi\\AppData\\Local\\Temp\\ipykernel_33060\\472698487.py:7: FutureWarning: The frame.append method is deprecated and will be removed from pandas in a future version. Use pandas.concat instead.\n",
      "  test_t = test_t.append(bottom_transac)\n",
      "C:\\Users\\Hammozi\\AppData\\Local\\Temp\\ipykernel_33060\\472698487.py:7: FutureWarning: The frame.append method is deprecated and will be removed from pandas in a future version. Use pandas.concat instead.\n",
      "  test_t = test_t.append(bottom_transac)\n",
      "C:\\Users\\Hammozi\\AppData\\Local\\Temp\\ipykernel_33060\\472698487.py:7: FutureWarning: The frame.append method is deprecated and will be removed from pandas in a future version. Use pandas.concat instead.\n",
      "  test_t = test_t.append(bottom_transac)\n"
     ]
    },
    {
     "name": "stdout",
     "output_type": "stream",
     "text": [
      "990\n",
      "991\n",
      "992\n"
     ]
    },
    {
     "name": "stderr",
     "output_type": "stream",
     "text": [
      "C:\\Users\\Hammozi\\AppData\\Local\\Temp\\ipykernel_33060\\472698487.py:7: FutureWarning: The frame.append method is deprecated and will be removed from pandas in a future version. Use pandas.concat instead.\n",
      "  test_t = test_t.append(bottom_transac)\n",
      "C:\\Users\\Hammozi\\AppData\\Local\\Temp\\ipykernel_33060\\472698487.py:7: FutureWarning: The frame.append method is deprecated and will be removed from pandas in a future version. Use pandas.concat instead.\n",
      "  test_t = test_t.append(bottom_transac)\n",
      "C:\\Users\\Hammozi\\AppData\\Local\\Temp\\ipykernel_33060\\472698487.py:7: FutureWarning: The frame.append method is deprecated and will be removed from pandas in a future version. Use pandas.concat instead.\n",
      "  test_t = test_t.append(bottom_transac)\n"
     ]
    },
    {
     "name": "stdout",
     "output_type": "stream",
     "text": [
      "993\n",
      "994\n",
      "995\n",
      "996\n"
     ]
    },
    {
     "name": "stderr",
     "output_type": "stream",
     "text": [
      "C:\\Users\\Hammozi\\AppData\\Local\\Temp\\ipykernel_33060\\472698487.py:7: FutureWarning: The frame.append method is deprecated and will be removed from pandas in a future version. Use pandas.concat instead.\n",
      "  test_t = test_t.append(bottom_transac)\n",
      "C:\\Users\\Hammozi\\AppData\\Local\\Temp\\ipykernel_33060\\472698487.py:7: FutureWarning: The frame.append method is deprecated and will be removed from pandas in a future version. Use pandas.concat instead.\n",
      "  test_t = test_t.append(bottom_transac)\n",
      "C:\\Users\\Hammozi\\AppData\\Local\\Temp\\ipykernel_33060\\472698487.py:7: FutureWarning: The frame.append method is deprecated and will be removed from pandas in a future version. Use pandas.concat instead.\n",
      "  test_t = test_t.append(bottom_transac)\n"
     ]
    },
    {
     "name": "stdout",
     "output_type": "stream",
     "text": [
      "997\n",
      "998\n",
      "999\n"
     ]
    },
    {
     "name": "stderr",
     "output_type": "stream",
     "text": [
      "C:\\Users\\Hammozi\\AppData\\Local\\Temp\\ipykernel_33060\\472698487.py:7: FutureWarning: The frame.append method is deprecated and will be removed from pandas in a future version. Use pandas.concat instead.\n",
      "  test_t = test_t.append(bottom_transac)\n"
     ]
    },
    {
     "data": {
      "text/plain": [
       "(1792, 7)"
      ]
     },
     "execution_count": 58,
     "metadata": {},
     "output_type": "execute_result"
    }
   ],
   "source": [
    "T.shape\n",
    "test_u = u.sample(n=1000, random_state = 1)\n",
    "test_t = pd.DataFrame()\n",
    "for i,cust in enumerate(test_u['customer_id']):  \n",
    "    cust_transac = T[T['customer_id'] == cust]\n",
    "    bottom_transac = cust_transac[-1 * round(0.20 * len(cust_transac)):]\n",
    "    test_t = test_t.append(bottom_transac)\n",
    "    indexs = bottom_transac.index\n",
    "    T.drop(labels = indexs, axis = 0,inplace=True )\n",
    "    print(i)\n",
    "test_t.shape"
   ]
  },
  {
   "cell_type": "markdown",
   "id": "3c23988e",
   "metadata": {},
   "source": [
    "<h2>Polularity and Random Recommender Precision</h2>"
   ]
  },
  {
   "cell_type": "code",
   "execution_count": 59,
   "id": "16221b17",
   "metadata": {},
   "outputs": [
    {
     "name": "stdout",
     "output_type": "stream",
     "text": [
      "0\n",
      "1\n",
      "2\n",
      "3\n",
      "4\n",
      "5\n",
      "6\n",
      "7\n",
      "8\n",
      "9\n",
      "10\n",
      "11\n",
      "12\n",
      "13\n",
      "14\n",
      "15\n",
      "16\n",
      "17\n",
      "18\n",
      "19\n",
      "20\n",
      "21\n",
      "22\n",
      "23\n",
      "24\n",
      "25\n",
      "26\n",
      "27\n",
      "28\n",
      "29\n",
      "30\n",
      "31\n",
      "32\n",
      "33\n",
      "34\n",
      "35\n",
      "36\n",
      "37\n",
      "38\n",
      "39\n",
      "40\n",
      "41\n",
      "42\n",
      "43\n",
      "44\n",
      "45\n",
      "46\n",
      "47\n",
      "48\n",
      "49\n",
      "50\n",
      "51\n",
      "52\n",
      "53\n",
      "54\n",
      "55\n",
      "56\n",
      "57\n",
      "58\n",
      "59\n",
      "60\n",
      "61\n",
      "62\n",
      "63\n",
      "64\n",
      "65\n",
      "66\n",
      "67\n",
      "68\n",
      "69\n",
      "70\n",
      "71\n",
      "72\n",
      "73\n",
      "74\n",
      "75\n",
      "76\n",
      "77\n",
      "78\n",
      "79\n",
      "80\n",
      "81\n",
      "82\n",
      "83\n",
      "84\n",
      "85\n",
      "86\n",
      "87\n",
      "88\n",
      "89\n",
      "90\n",
      "91\n",
      "92\n",
      "93\n",
      "94\n",
      "95\n",
      "96\n",
      "97\n",
      "98\n",
      "99\n",
      "100\n",
      "101\n",
      "102\n",
      "103\n",
      "104\n",
      "105\n",
      "106\n",
      "107\n",
      "108\n",
      "109\n",
      "110\n",
      "111\n",
      "112\n",
      "113\n",
      "114\n",
      "115\n",
      "116\n",
      "117\n",
      "118\n",
      "119\n",
      "120\n",
      "121\n",
      "122\n",
      "123\n",
      "124\n",
      "125\n",
      "126\n",
      "127\n",
      "128\n",
      "129\n",
      "130\n",
      "131\n",
      "132\n",
      "133\n",
      "134\n",
      "135\n",
      "136\n",
      "137\n",
      "138\n",
      "139\n",
      "140\n",
      "141\n",
      "142\n",
      "143\n",
      "144\n",
      "145\n",
      "146\n",
      "147\n",
      "148\n",
      "149\n",
      "150\n",
      "151\n",
      "152\n",
      "153\n",
      "154\n",
      "155\n",
      "156\n",
      "157\n",
      "158\n",
      "159\n",
      "160\n",
      "161\n",
      "162\n",
      "163\n",
      "164\n",
      "165\n",
      "166\n",
      "167\n",
      "168\n",
      "169\n",
      "170\n",
      "171\n",
      "172\n",
      "173\n",
      "174\n",
      "175\n",
      "176\n",
      "177\n",
      "178\n",
      "179\n",
      "180\n",
      "181\n",
      "182\n",
      "183\n",
      "184\n",
      "185\n",
      "186\n",
      "187\n",
      "188\n",
      "189\n",
      "190\n",
      "191\n",
      "192\n",
      "193\n",
      "194\n",
      "195\n",
      "196\n",
      "197\n",
      "198\n",
      "199\n",
      "200\n",
      "201\n",
      "202\n",
      "203\n",
      "204\n",
      "205\n",
      "206\n",
      "207\n",
      "208\n",
      "209\n",
      "210\n",
      "211\n",
      "212\n",
      "213\n",
      "214\n",
      "215\n",
      "216\n",
      "217\n",
      "218\n",
      "219\n",
      "220\n",
      "221\n",
      "222\n",
      "223\n",
      "224\n",
      "225\n",
      "226\n",
      "227\n",
      "228\n",
      "229\n",
      "230\n",
      "231\n",
      "232\n",
      "233\n",
      "234\n",
      "235\n",
      "236\n",
      "237\n",
      "238\n",
      "239\n",
      "240\n",
      "241\n",
      "242\n",
      "243\n",
      "244\n",
      "245\n",
      "246\n",
      "247\n",
      "248\n",
      "249\n",
      "250\n",
      "251\n",
      "252\n",
      "253\n",
      "254\n",
      "255\n",
      "256\n",
      "257\n",
      "258\n",
      "259\n",
      "260\n",
      "261\n",
      "262\n",
      "263\n",
      "264\n",
      "265\n",
      "266\n",
      "267\n",
      "268\n",
      "269\n",
      "270\n",
      "271\n",
      "272\n",
      "273\n",
      "274\n",
      "275\n",
      "276\n",
      "277\n",
      "278\n",
      "279\n",
      "280\n",
      "281\n",
      "282\n",
      "283\n",
      "284\n",
      "285\n",
      "286\n",
      "287\n",
      "288\n",
      "289\n",
      "290\n",
      "291\n",
      "292\n",
      "293\n",
      "294\n",
      "295\n",
      "296\n",
      "297\n",
      "298\n",
      "299\n",
      "300\n",
      "301\n",
      "302\n",
      "303\n",
      "304\n",
      "305\n",
      "306\n",
      "307\n",
      "308\n",
      "309\n",
      "310\n",
      "311\n",
      "312\n",
      "313\n",
      "314\n",
      "315\n",
      "316\n",
      "317\n",
      "318\n",
      "319\n",
      "320\n",
      "321\n",
      "322\n",
      "323\n",
      "324\n",
      "325\n",
      "326\n",
      "327\n",
      "328\n",
      "329\n",
      "330\n",
      "331\n",
      "332\n",
      "333\n",
      "334\n",
      "335\n",
      "336\n",
      "337\n",
      "338\n",
      "339\n",
      "340\n",
      "341\n",
      "342\n",
      "343\n",
      "344\n",
      "345\n",
      "346\n",
      "347\n",
      "348\n",
      "349\n",
      "350\n",
      "351\n",
      "352\n",
      "353\n",
      "354\n",
      "355\n",
      "356\n",
      "357\n",
      "358\n",
      "359\n",
      "360\n",
      "361\n",
      "362\n",
      "363\n",
      "364\n",
      "365\n",
      "366\n",
      "367\n",
      "368\n",
      "369\n",
      "370\n",
      "371\n",
      "372\n",
      "373\n",
      "374\n",
      "375\n",
      "376\n",
      "377\n",
      "378\n",
      "379\n",
      "380\n",
      "381\n",
      "382\n",
      "383\n",
      "384\n",
      "385\n",
      "386\n",
      "387\n",
      "388\n",
      "389\n",
      "390\n",
      "391\n",
      "392\n",
      "393\n",
      "394\n",
      "395\n",
      "396\n",
      "397\n",
      "398\n",
      "399\n",
      "400\n",
      "401\n",
      "402\n",
      "403\n",
      "404\n",
      "405\n",
      "406\n",
      "407\n",
      "408\n",
      "409\n",
      "410\n",
      "411\n",
      "412\n",
      "413\n",
      "414\n",
      "415\n",
      "416\n",
      "417\n",
      "418\n",
      "419\n",
      "420\n",
      "421\n",
      "422\n",
      "423\n",
      "424\n",
      "425\n",
      "426\n",
      "427\n",
      "428\n",
      "429\n",
      "430\n",
      "431\n",
      "432\n",
      "433\n",
      "434\n",
      "435\n",
      "436\n",
      "437\n",
      "438\n",
      "439\n",
      "440\n",
      "441\n",
      "442\n",
      "443\n",
      "444\n",
      "445\n",
      "446\n",
      "447\n",
      "448\n",
      "449\n",
      "450\n",
      "451\n",
      "452\n",
      "453\n",
      "454\n",
      "455\n",
      "456\n",
      "457\n",
      "458\n",
      "459\n",
      "460\n",
      "461\n",
      "462\n",
      "463\n",
      "464\n",
      "465\n",
      "466\n",
      "467\n",
      "468\n",
      "469\n",
      "470\n",
      "471\n",
      "472\n",
      "473\n",
      "474\n",
      "475\n",
      "476\n",
      "477\n",
      "478\n",
      "479\n",
      "480\n",
      "481\n",
      "482\n",
      "483\n",
      "484\n",
      "485\n",
      "486\n",
      "487\n",
      "488\n",
      "489\n",
      "490\n",
      "491\n",
      "492\n",
      "493\n",
      "494\n",
      "495\n",
      "496\n",
      "497\n",
      "498\n",
      "499\n",
      "500\n",
      "501\n",
      "502\n",
      "503\n",
      "504\n",
      "505\n",
      "506\n",
      "507\n",
      "508\n",
      "509\n",
      "510\n",
      "511\n",
      "512\n",
      "513\n",
      "514\n",
      "515\n",
      "516\n",
      "517\n",
      "518\n",
      "519\n",
      "520\n",
      "521\n",
      "522\n",
      "523\n",
      "524\n",
      "525\n",
      "526\n",
      "527\n",
      "528\n",
      "529\n",
      "530\n",
      "531\n",
      "532\n",
      "533\n",
      "534\n",
      "535\n",
      "536\n",
      "537\n",
      "538\n",
      "539\n",
      "540\n",
      "541\n",
      "542\n",
      "543\n",
      "544\n",
      "545\n",
      "546\n",
      "547\n",
      "548\n",
      "549\n",
      "550\n",
      "551\n",
      "552\n",
      "553\n",
      "554\n",
      "555\n",
      "556\n",
      "557\n",
      "558\n",
      "559\n",
      "560\n",
      "561\n",
      "562\n",
      "563\n",
      "564\n",
      "565\n",
      "566\n",
      "567\n",
      "568\n",
      "569\n",
      "570\n",
      "571\n",
      "572\n",
      "573\n",
      "574\n",
      "575\n",
      "576\n",
      "577\n",
      "578\n",
      "579\n",
      "580\n",
      "581\n",
      "582\n",
      "583\n",
      "584\n",
      "585\n",
      "586\n",
      "587\n",
      "588\n",
      "589\n",
      "590\n",
      "591\n",
      "592\n",
      "593\n",
      "594\n",
      "595\n",
      "596\n",
      "597\n",
      "598\n",
      "599\n",
      "600\n",
      "601\n",
      "602\n",
      "603\n",
      "604\n",
      "605\n",
      "606\n",
      "607\n",
      "608\n",
      "609\n",
      "610\n",
      "611\n",
      "612\n",
      "613\n",
      "614\n",
      "615\n",
      "616\n",
      "617\n",
      "618\n",
      "619\n",
      "620\n",
      "621\n",
      "622\n",
      "623\n",
      "624\n",
      "625\n",
      "626\n",
      "627\n",
      "628\n",
      "629\n",
      "630\n",
      "631\n",
      "632\n",
      "633\n",
      "634\n",
      "635\n",
      "636\n",
      "637\n",
      "638\n",
      "639\n",
      "640\n",
      "641\n",
      "642\n",
      "643\n",
      "644\n",
      "645\n",
      "646\n",
      "647\n",
      "648\n",
      "649\n",
      "650\n",
      "651\n",
      "652\n",
      "653\n",
      "654\n",
      "655\n",
      "656\n",
      "657\n",
      "658\n",
      "659\n",
      "660\n",
      "661\n",
      "662\n",
      "663\n",
      "664\n",
      "665\n",
      "666\n",
      "667\n",
      "668\n",
      "669\n",
      "670\n",
      "671\n",
      "672\n",
      "673\n",
      "674\n",
      "675\n",
      "676\n",
      "677\n",
      "678\n",
      "679\n",
      "680\n",
      "681\n",
      "682\n",
      "683\n",
      "684\n",
      "685\n",
      "686\n",
      "687\n",
      "688\n",
      "689\n",
      "690\n",
      "691\n",
      "692\n",
      "693\n",
      "694\n",
      "695\n",
      "696\n",
      "697\n",
      "698\n",
      "699\n",
      "700\n",
      "701\n",
      "702\n",
      "703\n",
      "704\n",
      "705\n",
      "706\n",
      "707\n",
      "708\n",
      "709\n",
      "710\n",
      "711\n",
      "712\n",
      "713\n",
      "714\n",
      "715\n",
      "716\n",
      "717\n",
      "718\n",
      "719\n",
      "720\n",
      "721\n",
      "722\n",
      "723\n",
      "724\n",
      "725\n",
      "726\n",
      "727\n",
      "728\n",
      "729\n",
      "730\n",
      "731\n",
      "732\n",
      "733\n",
      "734\n",
      "735\n",
      "736\n",
      "737\n",
      "738\n",
      "739\n",
      "740\n",
      "741\n",
      "742\n",
      "743\n",
      "744\n",
      "745\n",
      "746\n",
      "747\n",
      "748\n",
      "749\n",
      "750\n",
      "751\n",
      "752\n",
      "753\n",
      "754\n",
      "755\n",
      "756\n",
      "757\n",
      "758\n",
      "759\n",
      "760\n",
      "761\n",
      "762\n",
      "763\n",
      "764\n",
      "765\n",
      "766\n",
      "767\n",
      "768\n",
      "769\n",
      "770\n",
      "771\n",
      "772\n",
      "773\n",
      "774\n",
      "775\n",
      "776\n",
      "777\n",
      "778\n",
      "779\n",
      "780\n",
      "781\n",
      "782\n",
      "783\n",
      "784\n",
      "785\n",
      "786\n",
      "787\n",
      "788\n",
      "789\n",
      "790\n",
      "791\n",
      "792\n",
      "793\n",
      "794\n",
      "795\n",
      "796\n",
      "797\n",
      "798\n",
      "799\n",
      "800\n",
      "801\n",
      "802\n",
      "803\n",
      "804\n",
      "805\n",
      "806\n",
      "807\n",
      "808\n",
      "809\n",
      "810\n",
      "811\n",
      "812\n",
      "813\n",
      "814\n",
      "815\n",
      "816\n",
      "817\n",
      "818\n",
      "819\n",
      "820\n",
      "821\n",
      "822\n",
      "823\n",
      "824\n",
      "825\n",
      "826\n",
      "827\n",
      "828\n",
      "829\n",
      "830\n",
      "831\n",
      "832\n",
      "833\n",
      "834\n",
      "835\n",
      "836\n",
      "837\n",
      "838\n",
      "839\n",
      "840\n",
      "841\n",
      "842\n",
      "843\n",
      "844\n",
      "845\n",
      "846\n",
      "847\n",
      "848\n",
      "849\n",
      "850\n",
      "851\n",
      "852\n",
      "853\n",
      "854\n",
      "855\n",
      "856\n",
      "857\n",
      "858\n",
      "859\n",
      "860\n",
      "861\n",
      "862\n",
      "863\n",
      "864\n",
      "865\n",
      "866\n",
      "867\n",
      "868\n",
      "869\n",
      "870\n",
      "871\n",
      "872\n",
      "873\n",
      "874\n",
      "875\n",
      "876\n",
      "877\n",
      "878\n",
      "879\n",
      "880\n",
      "881\n",
      "882\n",
      "883\n",
      "884\n",
      "885\n",
      "886\n",
      "887\n",
      "888\n",
      "889\n",
      "890\n",
      "891\n",
      "892\n",
      "893\n",
      "894\n",
      "895\n",
      "896\n",
      "897\n",
      "898\n",
      "899\n",
      "900\n",
      "901\n",
      "902\n",
      "903\n",
      "904\n",
      "905\n",
      "906\n",
      "907\n",
      "908\n",
      "909\n",
      "910\n",
      "911\n",
      "912\n",
      "913\n",
      "914\n",
      "915\n",
      "916\n",
      "917\n",
      "918\n",
      "919\n",
      "920\n",
      "921\n",
      "922\n",
      "923\n",
      "924\n",
      "925\n",
      "926\n",
      "927\n",
      "928\n",
      "929\n",
      "930\n",
      "931\n",
      "932\n",
      "933\n",
      "934\n",
      "935\n",
      "936\n",
      "937\n",
      "938\n",
      "939\n",
      "940\n",
      "941\n",
      "942\n",
      "943\n",
      "944\n",
      "945\n",
      "946\n",
      "947\n",
      "948\n",
      "949\n",
      "950\n",
      "951\n",
      "952\n",
      "953\n",
      "954\n",
      "955\n",
      "956\n",
      "957\n",
      "958\n",
      "959\n",
      "960\n",
      "961\n",
      "962\n",
      "963\n",
      "964\n",
      "965\n",
      "966\n",
      "967\n",
      "968\n",
      "969\n",
      "970\n",
      "971\n",
      "972\n",
      "973\n",
      "974\n",
      "975\n",
      "976\n",
      "977\n",
      "978\n",
      "979\n",
      "980\n",
      "981\n",
      "982\n",
      "983\n",
      "984\n",
      "985\n",
      "986\n",
      "987\n",
      "988\n",
      "989\n",
      "990\n",
      "991\n",
      "992\n",
      "993\n",
      "994\n",
      "995\n",
      "996\n",
      "997\n",
      "998\n",
      "999\n",
      "MEAN Precison of Popularity Recommender 0.004800000000000001\n",
      "MEAN Precison of Random Recommender 0.0\n"
     ]
    }
   ],
   "source": [
    "precision_list_popularity = []\n",
    "precision_list_random = []\n",
    "for j,user in enumerate(test_u['customer_id']):\n",
    "    popular_recommendations = popularity_recommender(u)\n",
    "    random_recommendations = random_recommender(u)\n",
    "    u_purchases = test_t[test_t['customer_id'] == user]['article_id'].values\n",
    "    precision_list_popularity.append(len(np.intersect1d(popular_recommendations,u_purchases))/5)\n",
    "    precision_list_random.append(len(np.intersect1d(random_recommendations,u_purchases))/5)\n",
    "    print(j)\n",
    "print(\"MEAN Precison of Popularity Recommender\",sum(precision_list_popularity)/len(precision_list_popularity))\n",
    "print(\"MEAN Precison of Random Recommender\",sum(precision_list_random)/len(precision_list_random))"
   ]
  },
  {
   "cell_type": "code",
   "execution_count": null,
   "id": "ef7bf54a",
   "metadata": {},
   "outputs": [],
   "source": []
  },
  {
   "cell_type": "code",
   "execution_count": null,
   "id": "83c2ebff",
   "metadata": {},
   "outputs": [],
   "source": []
  },
  {
   "cell_type": "code",
   "execution_count": null,
   "id": "edd73aeb",
   "metadata": {},
   "outputs": [],
   "source": []
  },
  {
   "cell_type": "code",
   "execution_count": null,
   "id": "d93b8838",
   "metadata": {},
   "outputs": [],
   "source": []
  }
 ],
 "metadata": {
  "kernelspec": {
   "display_name": "Python 3 (ipykernel)",
   "language": "python",
   "name": "python3"
  },
  "language_info": {
   "codemirror_mode": {
    "name": "ipython",
    "version": 3
   },
   "file_extension": ".py",
   "mimetype": "text/x-python",
   "name": "python",
   "nbconvert_exporter": "python",
   "pygments_lexer": "ipython3",
   "version": "3.10.5"
  }
 },
 "nbformat": 4,
 "nbformat_minor": 5
}
