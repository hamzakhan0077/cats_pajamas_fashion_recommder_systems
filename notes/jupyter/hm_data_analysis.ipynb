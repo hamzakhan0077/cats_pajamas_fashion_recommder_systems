{
 "cells": [
  {
   "cell_type": "markdown",
   "id": "3604d4ed",
   "metadata": {},
   "source": [
    "<h1> H&M Dataset Analysis</h1>\n",
    "<ul>\n",
    "    <li>Dataset Info</li>\n",
    "    <li>Customer Info</li>\n",
    "    <li>Transaction Info</li>\n",
    "    <li>Sparsity</li>\n",
    "    <li>Random Recommenmder</li>\n",
    "    <li>Popularity Based Recommender</li>\n",
    "</ul>\n"
   ]
  },
  {
   "cell_type": "code",
   "execution_count": 2,
   "id": "6d0b91a5",
   "metadata": {},
   "outputs": [],
   "source": [
    "%load_ext autoreload\n",
    "%autoreload 2\n",
    "%matplotlib inline"
   ]
  },
  {
   "cell_type": "code",
   "execution_count": 3,
   "id": "cbd679d6",
   "metadata": {},
   "outputs": [],
   "source": [
    "import pandas as pd\n",
    "import random"
   ]
  },
  {
   "cell_type": "markdown",
   "id": "9311f37e",
   "metadata": {},
   "source": [
    "<h2> Dataset Info </h2>\n",
    "<p> \n",
    "    The transactions_train.csv has over <b>13 Million</b> Transactions resulting in a 3.5GB File.\n",
    "    I picked a sample data of over 2 million transactions resulting in a file of 200MB. \n",
    "    This was done by selecting the transaction rows with the date greater than 2020-08-01 and\n",
    "    deleting the rest using the method taught in the AI1 Lab.\n",
    "    Then the resulting sample dataframe was converted into csv using to_csv method.\n",
    "    \n",
    "</p>\n",
    "<p> \n",
    "    The OtherBig Data was spilitted by choosing the products and customers \n",
    "    that were in the sample transactions above and was done by the \n",
    "    following process\n",
    "</p>\n",
    "<ol>\n",
    "    <li>Sample transaction dataframe was merged with the products and customers dataframe.</li>\n",
    "    <li>\n",
    "        The resulting dataframe was then re-assigned to the merged \n",
    "        dataframe, all the \"product\" columns were choosen for\n",
    "        the sample products dataset and \"customer\" columns for the\n",
    "        sample customer dataset. The duplicates \n",
    "        were dropped.\n",
    "    </li>\n",
    "    <li>The resulting data frame was converted to csv</li>\n",
    "</ol>\n",
    "</p>Below is the commented Code </p>\n",
    "<p>\n",
    "    # TRANSACTIONS\n",
    "    # transaction_df = transaction_df[transaction_df['t_dat'] > '2020-08-01'].copy()\n",
    "    # transaction_df.to_csv('datasets/transactions_sample.csv')\n",
    "    \n",
    "    # ARTICLES (PRODUCTS)\n",
    "    # merged_df = transaction_df.merge(articles_df)\n",
    "    # merged_df = merged_df[['article_id', 'product_code', 'prod_name', 'product_type_no',\n",
    "    #    'product_type_name', 'product_group_name', 'graphical_appearance_no',\n",
    "    #    'graphical_appearance_name', 'colour_group_code', 'colour_group_name',\n",
    "    #    'perceived_colour_value_id', 'perceived_colour_value_name',\n",
    "    #    'perceived_colour_master_id', 'perceived_colour_master_name',\n",
    "    #    'department_no', 'department_name', 'index_code', 'index_name',\n",
    "    #    'index_group_no', 'index_group_name', 'section_no', 'section_name',\n",
    "    #    'garment_group_no', 'garment_group_name', 'detail_desc']].copy().drop_duplicates()\n",
    "    # merged_df.to_csv('datasets/articles_sample.csv')\n",
    "    \n",
    "    # CUSTOMERS\n",
    "    # cust_merge_df = transaction_df.merge(customers_df)\n",
    "    # cust_merge_df = cust_merge_df[['customer_id', 'FN', 'Active', 'club_member_status',\n",
    "    #    'fashion_news_frequency', 'age', 'postal_code']].copy().drop_duplicates()\n",
    "    # cust_merge_df.to_csv('datasets/customers_sample.csv')\n",
    "    \n",
    "\n",
    "</p>\n",
    "\n"
   ]
  },
  {
   "cell_type": "markdown",
   "id": "d593d8d4",
   "metadata": {},
   "source": [
    "<h2> Product Info </h2>"
   ]
  },
  {
   "cell_type": "code",
   "execution_count": 4,
   "id": "fc11294f",
   "metadata": {},
   "outputs": [],
   "source": [
    "articles_df = pd.read_csv(\"../../recommender_systems/datasets/articles_sample.csv\")\n",
    "transaction_df = pd.read_csv(\"../../recommender_systems/datasets/transactions_sample.csv\")\n",
    "customers_df = pd.read_csv(\"../../recommender_systems/datasets/customers_sample.csv\")\n",
    "pd.set_option(\"display.max_rows\", None)"
   ]
  },
  {
   "cell_type": "markdown",
   "id": "5b1cbaa2",
   "metadata": {},
   "source": [
    "<p>\n",
    "    Based on how I have spillited the data\n",
    "    All the customer that appear in the transaction must be present in  \n",
    "    the customer dataframe. This test was done by getting all the\n",
    "    customers from the transactions dataframe and then checked if they are  \n",
    "    equal to the number of the customers in the customers dataframe\n",
    "    \n",
    "\n",
    "</p>\n",
    "\n"
   ]
  },
  {
   "cell_type": "code",
   "execution_count": 5,
   "id": "4e6e088e",
   "metadata": {},
   "outputs": [
    {
     "data": {
      "text/plain": [
       "359222"
      ]
     },
     "execution_count": 5,
     "metadata": {},
     "output_type": "execute_result"
    }
   ],
   "source": [
    "len(transaction_df['customer_id'].unique())\n",
    "customers_df['customer_id'].count()"
   ]
  },
  {
   "cell_type": "markdown",
   "id": "bbc4b5bf",
   "metadata": {},
   "source": [
    "<p> Similarly, the products dataset was tested </p>"
   ]
  },
  {
   "cell_type": "code",
   "execution_count": 6,
   "id": "753819c9",
   "metadata": {},
   "outputs": [
    {
     "data": {
      "text/plain": [
       "34636"
      ]
     },
     "execution_count": 6,
     "metadata": {},
     "output_type": "execute_result"
    }
   ],
   "source": [
    "len(transaction_df['article_id'].unique())\n",
    "articles_df['article_id'].count()"
   ]
  },
  {
   "cell_type": "code",
   "execution_count": 7,
   "id": "89ed85bc",
   "metadata": {},
   "outputs": [
    {
     "data": {
      "text/plain": [
       "(34636, 26)"
      ]
     },
     "execution_count": 7,
     "metadata": {},
     "output_type": "execute_result"
    }
   ],
   "source": [
    "articles_df.shape"
   ]
  },
  {
   "cell_type": "code",
   "execution_count": 8,
   "id": "87d52b46",
   "metadata": {},
   "outputs": [
    {
     "data": {
      "text/plain": [
       "Index(['Unnamed: 0', 'article_id', 'product_code', 'prod_name',\n",
       "       'product_type_no', 'product_type_name', 'product_group_name',\n",
       "       'graphical_appearance_no', 'graphical_appearance_name',\n",
       "       'colour_group_code', 'colour_group_name', 'perceived_colour_value_id',\n",
       "       'perceived_colour_value_name', 'perceived_colour_master_id',\n",
       "       'perceived_colour_master_name', 'department_no', 'department_name',\n",
       "       'index_code', 'index_name', 'index_group_no', 'index_group_name',\n",
       "       'section_no', 'section_name', 'garment_group_no', 'garment_group_name',\n",
       "       'detail_desc'],\n",
       "      dtype='object')"
      ]
     },
     "execution_count": 8,
     "metadata": {},
     "output_type": "execute_result"
    }
   ],
   "source": [
    "articles_df.columns"
   ]
  },
  {
   "cell_type": "code",
   "execution_count": 5,
   "id": "3bfb9c18",
   "metadata": {},
   "outputs": [
    {
     "data": {
      "text/plain": [
       "count                  34636\n",
       "unique                    17\n",
       "top       Garment Upper body\n",
       "freq                   12789\n",
       "Name: product_group_name, dtype: object"
      ]
     },
     "execution_count": 5,
     "metadata": {},
     "output_type": "execute_result"
    }
   ],
   "source": [
    "articles_df['product_group_name'].describe()"
   ]
  },
  {
   "cell_type": "code",
   "execution_count": null,
   "id": "79fa56c2",
   "metadata": {},
   "outputs": [],
   "source": [
    "articles_df['product_group_name'].value_counts(dropna=False) \n",
    "# dropna = False include the NaN values"
   ]
  },
  {
   "cell_type": "code",
   "execution_count": null,
   "id": "0dcbcfdd",
   "metadata": {},
   "outputs": [],
   "source": [
    "articles_df['product_type_name'].describe()"
   ]
  },
  {
   "cell_type": "code",
   "execution_count": null,
   "id": "d8d8adc1",
   "metadata": {},
   "outputs": [],
   "source": [
    "articles_df['product_type_name'].value_counts(dropna=False)"
   ]
  },
  {
   "cell_type": "code",
   "execution_count": null,
   "id": "4edbe85a",
   "metadata": {},
   "outputs": [],
   "source": [
    "articles_df['colour_group_name'].describe()"
   ]
  },
  {
   "cell_type": "code",
   "execution_count": null,
   "id": "f486086a",
   "metadata": {},
   "outputs": [],
   "source": [
    "articles_df['colour_group_name'].value_counts(dropna=False)"
   ]
  },
  {
   "cell_type": "code",
   "execution_count": null,
   "id": "57026332",
   "metadata": {},
   "outputs": [],
   "source": [
    "articles_df['graphical_appearance_name'].describe()"
   ]
  },
  {
   "cell_type": "code",
   "execution_count": null,
   "id": "9c28f520",
   "metadata": {},
   "outputs": [],
   "source": [
    "articles_df['graphical_appearance_name'].value_counts(dropna=False)"
   ]
  },
  {
   "cell_type": "code",
   "execution_count": null,
   "id": "44bf0a23",
   "metadata": {},
   "outputs": [],
   "source": [
    "transaction_df['article_id'].value_counts() # Each product with its frequency of sales"
   ]
  },
  {
   "cell_type": "code",
   "execution_count": null,
   "id": "3e78ff5e",
   "metadata": {},
   "outputs": [],
   "source": [
    "articles_df[articles_df['article_id'] == 706016001] # Most popular item"
   ]
  },
  {
   "cell_type": "code",
   "execution_count": null,
   "id": "6263d3d5",
   "metadata": {},
   "outputs": [],
   "source": [
    "articles_df[articles_df['article_id'] == 918292001] #second most popular item"
   ]
  },
  {
   "cell_type": "code",
   "execution_count": null,
   "id": "d8c62cc4",
   "metadata": {},
   "outputs": [],
   "source": [
    "# most popular color\n",
    "# most popular type\n",
    "merged_df = transaction_df.merge(articles_df ,left_on='article_id', right_on='article_id')"
   ]
  },
  {
   "cell_type": "code",
   "execution_count": null,
   "id": "2dfc0987",
   "metadata": {},
   "outputs": [],
   "source": [
    "merged_df.shape "
   ]
  },
  {
   "cell_type": "code",
   "execution_count": null,
   "id": "55effb6f",
   "metadata": {},
   "outputs": [],
   "source": [
    "transaction_df.shape"
   ]
  },
  {
   "cell_type": "code",
   "execution_count": null,
   "id": "0f0a57bb",
   "metadata": {},
   "outputs": [],
   "source": [
    "# top 5 most purchased colors\n",
    "merged_df['colour_group_name'].value_counts().nlargest(5)"
   ]
  },
  {
   "cell_type": "code",
   "execution_count": null,
   "id": "62a4fabb",
   "metadata": {},
   "outputs": [],
   "source": [
    "# top 5 most purchased garment\n",
    "merged_df['product_group_name'].value_counts().nlargest(5)"
   ]
  },
  {
   "cell_type": "code",
   "execution_count": null,
   "id": "4572a968",
   "metadata": {},
   "outputs": [],
   "source": [
    "# top 5 most purchased type\n",
    "merged_df['product_type_name'].value_counts().nlargest(5)"
   ]
  },
  {
   "cell_type": "markdown",
   "id": "46197feb",
   "metadata": {},
   "source": [
    "<h2> Customer Info </h2>"
   ]
  },
  {
   "cell_type": "code",
   "execution_count": 9,
   "id": "fc54204a",
   "metadata": {},
   "outputs": [
    {
     "data": {
      "text/plain": [
       "Index(['Unnamed: 0', 'customer_id', 'FN', 'Active', 'club_member_status',\n",
       "       'fashion_news_frequency', 'age', 'postal_code'],\n",
       "      dtype='object')"
      ]
     },
     "execution_count": 9,
     "metadata": {},
     "output_type": "execute_result"
    }
   ],
   "source": [
    "customers_df.columns"
   ]
  },
  {
   "cell_type": "code",
   "execution_count": 17,
   "id": "bdc2d8e3",
   "metadata": {},
   "outputs": [
    {
     "data": {
      "text/plain": [
       "359222"
      ]
     },
     "execution_count": 17,
     "metadata": {},
     "output_type": "execute_result"
    }
   ],
   "source": [
    "\n",
    "customers_df['customer_id'].count()"
   ]
  },
  {
   "cell_type": "markdown",
   "id": "6b9f64e5",
   "metadata": {},
   "source": [
    "71884 is the 20 %"
   ]
  },
  {
   "cell_type": "code",
   "execution_count": null,
   "id": "d4318744",
   "metadata": {},
   "outputs": [],
   "source": [
    "customers_df['Active'].describe() "
   ]
  },
  {
   "cell_type": "code",
   "execution_count": null,
   "id": "4cea3d5b",
   "metadata": {},
   "outputs": [],
   "source": [
    "customers_df['Active'].value_counts(dropna=False)# total number customer that are currently active"
   ]
  },
  {
   "cell_type": "code",
   "execution_count": null,
   "id": "33ab3207",
   "metadata": {},
   "outputs": [],
   "source": [
    "customers_df['age'].describe()"
   ]
  },
  {
   "cell_type": "code",
   "execution_count": null,
   "id": "77a65988",
   "metadata": {},
   "outputs": [],
   "source": [
    "customers_df['age'].value_counts(dropna=False)"
   ]
  },
  {
   "cell_type": "code",
   "execution_count": null,
   "id": "a65902d9",
   "metadata": {},
   "outputs": [],
   "source": [
    "transaction_df.groupby('customer_id')['price'].aggregate('sum') # Every Customer with their total spendings"
   ]
  },
  {
   "cell_type": "code",
   "execution_count": null,
   "id": "a384ea1c",
   "metadata": {},
   "outputs": [],
   "source": [
    "transaction_df.groupby('customer_id')['price'].aggregate('sum').describe() # average purchases"
   ]
  },
  {
   "cell_type": "code",
   "execution_count": null,
   "id": "d677c5fa",
   "metadata": {},
   "outputs": [],
   "source": [
    "transaction_df.groupby('customer_id')['price'].aggregate('sum').nlargest(3) # top 3 customers with highests purchases"
   ]
  },
  {
   "cell_type": "code",
   "execution_count": null,
   "id": "9a712aa5",
   "metadata": {},
   "outputs": [],
   "source": [
    "# Top 3 customers with highest number of transactions\n",
    "transaction_df['customer_id'].value_counts(dropna=False).nlargest(5)"
   ]
  },
  {
   "cell_type": "markdown",
   "id": "be006295",
   "metadata": {},
   "source": [
    "<h2> Transaction info </h2>"
   ]
  },
  {
   "cell_type": "code",
   "execution_count": 23,
   "id": "c0c1b0a9",
   "metadata": {},
   "outputs": [
    {
     "data": {
      "text/html": [
       "<div>\n",
       "<style scoped>\n",
       "    .dataframe tbody tr th:only-of-type {\n",
       "        vertical-align: middle;\n",
       "    }\n",
       "\n",
       "    .dataframe tbody tr th {\n",
       "        vertical-align: top;\n",
       "    }\n",
       "\n",
       "    .dataframe thead th {\n",
       "        text-align: right;\n",
       "    }\n",
       "</style>\n",
       "<table border=\"1\" class=\"dataframe\">\n",
       "  <thead>\n",
       "    <tr style=\"text-align: right;\">\n",
       "      <th></th>\n",
       "      <th>Unnamed: 0</th>\n",
       "      <th>t_dat</th>\n",
       "      <th>customer_id</th>\n",
       "      <th>article_id</th>\n",
       "      <th>price</th>\n",
       "      <th>sales_channel_id</th>\n",
       "    </tr>\n",
       "  </thead>\n",
       "  <tbody>\n",
       "    <tr>\n",
       "      <th>0</th>\n",
       "      <td>29794821</td>\n",
       "      <td>2020-08-02</td>\n",
       "      <td>0001d44dbe7f6c4b35200abdb052c77a87596fe1bdcc37...</td>\n",
       "      <td>853474004</td>\n",
       "      <td>0.033881</td>\n",
       "      <td>2</td>\n",
       "    </tr>\n",
       "  </tbody>\n",
       "</table>\n",
       "</div>"
      ],
      "text/plain": [
       "   Unnamed: 0       t_dat                                        customer_id  \\\n",
       "0    29794821  2020-08-02  0001d44dbe7f6c4b35200abdb052c77a87596fe1bdcc37...   \n",
       "\n",
       "   article_id     price  sales_channel_id  \n",
       "0   853474004  0.033881                 2  "
      ]
     },
     "execution_count": 23,
     "metadata": {},
     "output_type": "execute_result"
    }
   ],
   "source": [
    "transaction_df.iloc[:1]"
   ]
  },
  {
   "cell_type": "code",
   "execution_count": null,
   "id": "b393c8a3",
   "metadata": {},
   "outputs": [],
   "source": [
    "transaction_df.shape"
   ]
  },
  {
   "cell_type": "code",
   "execution_count": null,
   "id": "87102510",
   "metadata": {},
   "outputs": [],
   "source": [
    "transaction_df['t_dat'].min()"
   ]
  },
  {
   "cell_type": "code",
   "execution_count": null,
   "id": "b86e6b45",
   "metadata": {},
   "outputs": [],
   "source": [
    "print(0)"
   ]
  },
  {
   "cell_type": "code",
   "execution_count": null,
   "id": "3bbd2bcf",
   "metadata": {},
   "outputs": [],
   "source": [
    "transaction_df['t_dat'].max()"
   ]
  },
  {
   "cell_type": "code",
   "execution_count": null,
   "id": "d89925be",
   "metadata": {},
   "outputs": [],
   "source": [
    "# shows how many items were bought per percentage of customer\n",
    "# Number of items purchased by the customers on avrage\n",
    "transaction_df.groupby('customer_id')['article_id'].count().describe()"
   ]
  },
  {
   "cell_type": "code",
   "execution_count": null,
   "id": "30cb9271",
   "metadata": {},
   "outputs": [],
   "source": [
    "# shows percentage of how much money was spent per customer \n",
    "# in total 359222 customer had purchased items. On avrage a customer spends 0.16....\n",
    "# 0.00056 was the lowest that was ever  spent\n",
    "# 11.6 was the maximum that an individual customer spent\n",
    "# average percentage of customers twith their spendings\n",
    "transaction_df.groupby('customer_id')['price'].sum().describe()"
   ]
  },
  {
   "cell_type": "markdown",
   "id": "67f39393",
   "metadata": {},
   "source": [
    "<h2>Sparsity</h2>"
   ]
  },
  {
   "cell_type": "markdown",
   "id": "e8218c7c",
   "metadata": {},
   "source": [
    "<p>Take the distinct Purchases divided by the actual purchases.\n",
    "Sparsity is 1 -  Number of all distinct purchases/ (Number of Customers)(total product groups Products)\n",
    "</p>"
   ]
  },
  {
   "cell_type": "code",
   "execution_count": 8,
   "id": "d9feb827",
   "metadata": {},
   "outputs": [
    {
     "data": {
      "text/plain": [
       "0                           Dress\n",
       "1                      Bikini top\n",
       "2                 Swimwear bottom\n",
       "3                        Swimsuit\n",
       "4                        Trousers\n",
       "6                           Skirt\n",
       "7                         Sweater\n",
       "10                       Vest top\n",
       "15                         Blouse\n",
       "18                        T-shirt\n",
       "20                            Top\n",
       "23                           Belt\n",
       "27                     Sunglasses\n",
       "29                            Bra\n",
       "30                        Unknown\n",
       "32               Underwear bottom\n",
       "35                          Shirt\n",
       "36                         Jacket\n",
       "40                    Garment Set\n",
       "48              Other accessories\n",
       "69                         Blazer\n",
       "86                        Earring\n",
       "91                         Hoodie\n",
       "101               Hair/alice band\n",
       "103                        Shorts\n",
       "106                      Sneakers\n",
       "113                       Sandals\n",
       "116             Jumpsuit/Playsuit\n",
       "119                    Other shoe\n",
       "138                      Cardigan\n",
       "153                         Wedge\n",
       "175                           Bag\n",
       "190               Leggings/Tights\n",
       "204                   Hair string\n",
       "212                     Flat shoe\n",
       "215                      Hat/brim\n",
       "220                    Night gown\n",
       "236                Heeled sandals\n",
       "237                         Heels\n",
       "307                    Flat shoes\n",
       "360                         Socks\n",
       "413              Underwear Tights\n",
       "418                          Ring\n",
       "434                    Wood balls\n",
       "511                      Necklace\n",
       "540                      Slippers\n",
       "557                    Ballerinas\n",
       "607                          Robe\n",
       "611                     Hair ties\n",
       "618                         Boots\n",
       "687                        Sarong\n",
       "689                Underwear body\n",
       "694                      Bracelet\n",
       "739                      Bodysuit\n",
       "796                    Polo shirt\n",
       "897                         Pumps\n",
       "916                    Pyjama set\n",
       "947                      Earrings\n",
       "951              Outdoor trousers\n",
       "963                        Braces\n",
       "964                           Tie\n",
       "1105                    Flip flop\n",
       "1142                  Mobile case\n",
       "1144                Pyjama bottom\n",
       "1326                    Hair clip\n",
       "1401                Nipple covers\n",
       "1412                    Dungarees\n",
       "1554                   Hat/beanie\n",
       "1588                        Scarf\n",
       "1729                          Cap\n",
       "1997                     Tote bag\n",
       "2183                     Costumes\n",
       "2685              Weekend/Gym bag\n",
       "2722                   Cap/peaked\n",
       "2767       Wireless earphone case\n",
       "2881                   Underdress\n",
       "3165               Cross-body bag\n",
       "3283                     Hairband\n",
       "3399                 Swimwear set\n",
       "3512                     Backpack\n",
       "3514            Outdoor Waistcoat\n",
       "3608                    Straw hat\n",
       "3655                     Felt hat\n",
       "3805                         Coat\n",
       "3809                       Beanie\n",
       "4395     Pyjama jumpsuit/playsuit\n",
       "4519                     Umbrella\n",
       "4696                 Shoulder bag\n",
       "4834                       Gloves\n",
       "4966                Underwear set\n",
       "4977                       Wallet\n",
       "5334           Kids Underwear top\n",
       "5564                        Watch\n",
       "5572                  Washing bag\n",
       "6498                   Bucket hat\n",
       "7300              Outdoor overall\n",
       "8141                 Bra extender\n",
       "8551                     Baby Bib\n",
       "8660                     Keychain\n",
       "9052                      Giftbox\n",
       "9259                    Long John\n",
       "9369                 Swimwear top\n",
       "9515           Tailored Waistcoat\n",
       "9695                   Marker pen\n",
       "10446              Fine cosmetics\n",
       "10533                  Alice band\n",
       "11364                      Bootie\n",
       "15459               Sleeping sack\n",
       "16436                   Soft Toys\n",
       "17761                 Leg warmers\n",
       "18492         Stain remover spray\n",
       "18551             Accessories set\n",
       "21156                  Eyeglasses\n",
       "24077                   Moccasins\n",
       "26494                      Bumbag\n",
       "29360                  Sewing kit\n",
       "30465                 Waterbottle\n",
       "30890                    Dog Wear\n",
       "31361                         Toy\n",
       "31548                 Zipper head\n",
       "32628                    Dog wear\n",
       "34293                    Headband\n",
       "Name: product_type_name, dtype: object"
      ]
     },
     "execution_count": 8,
     "metadata": {},
     "output_type": "execute_result"
    }
   ],
   "source": [
    "articles_df['product_type_name'].drop_duplicates()"
   ]
  },
  {
   "cell_type": "code",
   "execution_count": 34,
   "id": "dd27fcbc",
   "metadata": {},
   "outputs": [
    {
     "name": "stdout",
     "output_type": "stream",
     "text": [
      "<pandas.core.groupby.generic.DataFrameGroupBy object at 0x0000018749F7B700>\n"
     ]
    }
   ],
   "source": [
    "transaction_df[['customer_id','article_id']][transaction_df['customer_id'] == '06b253c1f2946179fdef2598b59e9df4bf01d6be4f015ab6ae2d8dd5723d2745'].groupby('customer_id')"
   ]
  },
  {
   "cell_type": "code",
   "execution_count": null,
   "id": "8aa14d4d",
   "metadata": {},
   "outputs": [],
   "source": []
  },
  {
   "cell_type": "code",
   "execution_count": null,
   "id": "64de82f5",
   "metadata": {},
   "outputs": [],
   "source": []
  },
  {
   "cell_type": "code",
   "execution_count": null,
   "id": "2ddb973f",
   "metadata": {},
   "outputs": [],
   "source": []
  },
  {
   "cell_type": "markdown",
   "id": "de32d3a6",
   "metadata": {},
   "source": [
    "<h2> Random Recommender </h2>"
   ]
  },
  {
   "cell_type": "code",
   "execution_count": null,
   "id": "983763af",
   "metadata": {},
   "outputs": [],
   "source": [
    "customers = customers_df.to_records()[-5:]"
   ]
  },
  {
   "cell_type": "code",
   "execution_count": null,
   "id": "35426af2",
   "metadata": {},
   "outputs": [],
   "source": [
    "# Recommeding an individual product\n",
    "# can recommend a specific color randomly\n",
    "# can recommend items from  specific department randomly\n",
    "# But I just kept it sime and recommend 5 individual products \n",
    "\n",
    "def random_recommender(customer):\n",
    "    print(f\"{customer.customer_id} \", random.choice(articles_df[['article_id','product_group_name','prod_name','colour_group_name']].values))\n",
    "\n"
   ]
  },
  {
   "cell_type": "code",
   "execution_count": null,
   "id": "c37bb7cc",
   "metadata": {},
   "outputs": [],
   "source": [
    "for customer in customers:\n",
    "    random_recommender(customer)"
   ]
  },
  {
   "cell_type": "markdown",
   "id": "7854437c",
   "metadata": {},
   "source": [
    "<h2> Popularity Based Recommender </h2>"
   ]
  },
  {
   "cell_type": "code",
   "execution_count": null,
   "id": "9a7eae7b",
   "metadata": {},
   "outputs": [],
   "source": [
    "# recommends 5 most purchased items\n",
    "def  popularity_recommender(customer):\n",
    "    # Top 5 most bought\n",
    "    popular_products = transaction_df['article_id'].value_counts().nlargest(5).to_frame()['article_id'].keys().values\n",
    "    for product in popular_products:\n",
    "        print(articles_df[['prod_name','product_group_name','colour_group_name']][articles_df['article_id'] == product],'\\n')\n"
   ]
  },
  {
   "cell_type": "code",
   "execution_count": null,
   "id": "9938ac18",
   "metadata": {},
   "outputs": [],
   "source": [
    "popularity_recommender(customers[1])"
   ]
  },
  {
   "cell_type": "code",
   "execution_count": null,
   "id": "b1f4745f",
   "metadata": {},
   "outputs": [],
   "source": []
  }
 ],
 "metadata": {
  "kernelspec": {
   "display_name": "Python 3 (ipykernel)",
   "language": "python",
   "name": "python3"
  },
  "language_info": {
   "codemirror_mode": {
    "name": "ipython",
    "version": 3
   },
   "file_extension": ".py",
   "mimetype": "text/x-python",
   "name": "python",
   "nbconvert_exporter": "python",
   "pygments_lexer": "ipython3",
   "version": "3.10.5"
  }
 },
 "nbformat": 4,
 "nbformat_minor": 5
}
