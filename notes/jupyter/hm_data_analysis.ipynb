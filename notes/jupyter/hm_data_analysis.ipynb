{
 "cells": [
  {
   "cell_type": "markdown",
   "id": "3604d4ed",
   "metadata": {},
   "source": [
    "<h1> H&M Dataset Analysis</h1>\n",
    "<ul>\n",
    "    <li>Dataset Info</li>\n",
    "    <li>Customer Info</li>\n",
    "    <li>Transaction Info</li>\n",
    "    <li>Random Recommenmder</li>\n",
    "    <li>Popularity Based Recommender</li>\n",
    "</ul>\n"
   ]
  },
  {
   "cell_type": "code",
   "execution_count": 2,
   "id": "6d0b91a5",
   "metadata": {},
   "outputs": [],
   "source": [
    "%load_ext autoreload\n",
    "%autoreload 2\n",
    "%matplotlib inline"
   ]
  },
  {
   "cell_type": "code",
   "execution_count": 3,
   "id": "cbd679d6",
   "metadata": {},
   "outputs": [],
   "source": [
    "import pandas as pd\n",
    "import random"
   ]
  },
  {
   "cell_type": "markdown",
   "id": "9311f37e",
   "metadata": {},
   "source": [
    "<h2> Dataset Info </h2>\n",
    "<p> \n",
    "    The transactions_train.csv has over <b>13 Million</b> Transactions resulting in a 3.5GB File.\n",
    "    I picked a sample data of over 2 million transactions resulting in a file of 200MB. \n",
    "    This was done by selecting the transaction rows with the date greater than 2020-08-01 and\n",
    "    deleting the rest using the method taught in the AI1 Lab.\n",
    "    Then the resulting sample dataframe was converted into csv using to_csv method.\n",
    "    \n",
    "</p>\n",
    "<p> \n",
    "    The OtherBig Data was spilitted by choosing the products and customers \n",
    "    that were in the sample transactions above and was done by the \n",
    "    following process\n",
    "</p>\n",
    "<ol>\n",
    "    <li>Sample transaction dataframe was merged with the products and customers dataframe.</li>\n",
    "    <li>\n",
    "        The resulting dataframe was then re-assigned to the merged \n",
    "        dataframe, all the \"product\" columns were choosen for\n",
    "        the sample products dataset and \"customer\" columns for the\n",
    "        sample customer dataset. The duplicates \n",
    "        were dropped.\n",
    "    </li>\n",
    "    <li>The resulting data frame was converted to csv</li>\n",
    "</ol>\n",
    "</p>Below is the commented Code </p>\n",
    "<p>\n",
    "    # TRANSACTIONS\n",
    "    # transaction_df = transaction_df[transaction_df['t_dat'] > '2020-08-01'].copy()\n",
    "    # transaction_df.to_csv('datasets/transactions_sample.csv')\n",
    "    \n",
    "    # ARTICLES (PRODUCTS)\n",
    "    # merged_df = transaction_df.merge(articles_df)\n",
    "    # merged_df = merged_df[['article_id', 'product_code', 'prod_name', 'product_type_no',\n",
    "    #    'product_type_name', 'product_group_name', 'graphical_appearance_no',\n",
    "    #    'graphical_appearance_name', 'colour_group_code', 'colour_group_name',\n",
    "    #    'perceived_colour_value_id', 'perceived_colour_value_name',\n",
    "    #    'perceived_colour_master_id', 'perceived_colour_master_name',\n",
    "    #    'department_no', 'department_name', 'index_code', 'index_name',\n",
    "    #    'index_group_no', 'index_group_name', 'section_no', 'section_name',\n",
    "    #    'garment_group_no', 'garment_group_name', 'detail_desc']].copy().drop_duplicates()\n",
    "    # merged_df.to_csv('datasets/articles_sample.csv')\n",
    "    \n",
    "    # CUSTOMERS\n",
    "    # cust_merge_df = transaction_df.merge(customers_df)\n",
    "    # cust_merge_df = cust_merge_df[['customer_id', 'FN', 'Active', 'club_member_status',\n",
    "    #    'fashion_news_frequency', 'age', 'postal_code']].copy().drop_duplicates()\n",
    "    # cust_merge_df.to_csv('datasets/customers_sample.csv')\n",
    "    \n",
    "\n",
    "</p>\n",
    "\n"
   ]
  },
  {
   "cell_type": "markdown",
   "id": "d593d8d4",
   "metadata": {},
   "source": [
    "<h2> Product Info </h2>"
   ]
  },
  {
   "cell_type": "code",
   "execution_count": 4,
   "id": "fc11294f",
   "metadata": {},
   "outputs": [],
   "source": [
    "articles_df = pd.read_csv(\"../../recommender_systems/datasets/articles_sample.csv\")\n",
    "transaction_df = pd.read_csv(\"../../recommender_systems/datasets/transactions_sample.csv\")\n",
    "customers_df = pd.read_csv(\"../../recommender_systems/datasets/customers_sample.csv\")\n",
    "pd.set_option(\"display.max_rows\", None)"
   ]
  },
  {
   "cell_type": "markdown",
   "id": "5b1cbaa2",
   "metadata": {},
   "source": [
    "<p>\n",
    "    Based on how I have spillited the data\n",
    "    All the customer that appear in the transaction must be present in  \n",
    "    the customer dataframe. This test was done by getting all the\n",
    "    customers from the transactions dataframe and then checked if they are  \n",
    "    equal to the number of the customers in the customers dataframe\n",
    "    \n",
    "\n",
    "</p>\n",
    "\n"
   ]
  },
  {
   "cell_type": "code",
   "execution_count": null,
   "id": "4e6e088e",
   "metadata": {},
   "outputs": [],
   "source": [
    "len(transaction_df['customer_id'].unique())\n",
    "customers_df['customer_id'].count()"
   ]
  },
  {
   "cell_type": "markdown",
   "id": "bbc4b5bf",
   "metadata": {},
   "source": [
    "<p> Similarly, the products dataset was tested </p>"
   ]
  },
  {
   "cell_type": "code",
   "execution_count": null,
   "id": "753819c9",
   "metadata": {},
   "outputs": [],
   "source": [
    "len(transaction_df['article_id'].unique())\n",
    "articles_df['article_id'].count()"
   ]
  },
  {
   "cell_type": "code",
   "execution_count": null,
   "id": "89ed85bc",
   "metadata": {},
   "outputs": [],
   "source": [
    "articles_df.shape"
   ]
  },
  {
   "cell_type": "code",
   "execution_count": null,
   "id": "87d52b46",
   "metadata": {},
   "outputs": [],
   "source": [
    "articles_df.columns"
   ]
  },
  {
   "cell_type": "code",
   "execution_count": 5,
   "id": "3bfb9c18",
   "metadata": {},
   "outputs": [
    {
     "data": {
      "text/plain": [
       "count                  34636\n",
       "unique                    17\n",
       "top       Garment Upper body\n",
       "freq                   12789\n",
       "Name: product_group_name, dtype: object"
      ]
     },
     "execution_count": 5,
     "metadata": {},
     "output_type": "execute_result"
    }
   ],
   "source": [
    "articles_df['product_group_name'].describe()"
   ]
  },
  {
   "cell_type": "code",
   "execution_count": null,
   "id": "79fa56c2",
   "metadata": {},
   "outputs": [],
   "source": [
    "articles_df['product_group_name'].value_counts(dropna=False) \n",
    "# dropna = False include the NaN values"
   ]
  },
  {
   "cell_type": "code",
   "execution_count": null,
   "id": "0dcbcfdd",
   "metadata": {},
   "outputs": [],
   "source": [
    "articles_df['product_type_name'].describe()"
   ]
  },
  {
   "cell_type": "code",
   "execution_count": null,
   "id": "d8d8adc1",
   "metadata": {},
   "outputs": [],
   "source": [
    "articles_df['product_type_name'].value_counts(dropna=False)"
   ]
  },
  {
   "cell_type": "code",
   "execution_count": null,
   "id": "4edbe85a",
   "metadata": {},
   "outputs": [],
   "source": [
    "articles_df['colour_group_name'].describe()"
   ]
  },
  {
   "cell_type": "code",
   "execution_count": null,
   "id": "f486086a",
   "metadata": {},
   "outputs": [],
   "source": [
    "articles_df['colour_group_name'].value_counts(dropna=False)"
   ]
  },
  {
   "cell_type": "code",
   "execution_count": null,
   "id": "57026332",
   "metadata": {},
   "outputs": [],
   "source": [
    "articles_df['graphical_appearance_name'].describe()"
   ]
  },
  {
   "cell_type": "code",
   "execution_count": null,
   "id": "9c28f520",
   "metadata": {},
   "outputs": [],
   "source": [
    "articles_df['graphical_appearance_name'].value_counts(dropna=False)"
   ]
  },
  {
   "cell_type": "code",
   "execution_count": null,
   "id": "44bf0a23",
   "metadata": {},
   "outputs": [],
   "source": [
    "transaction_df['article_id'].value_counts() # Each product with its frequency of sales"
   ]
  },
  {
   "cell_type": "code",
   "execution_count": null,
   "id": "3e78ff5e",
   "metadata": {},
   "outputs": [],
   "source": [
    "articles_df[articles_df['article_id'] == 706016001] # Most popular item"
   ]
  },
  {
   "cell_type": "code",
   "execution_count": null,
   "id": "6263d3d5",
   "metadata": {},
   "outputs": [],
   "source": [
    "articles_df[articles_df['article_id'] == 918292001] #second most popular item"
   ]
  },
  {
   "cell_type": "code",
   "execution_count": null,
   "id": "d8c62cc4",
   "metadata": {},
   "outputs": [],
   "source": [
    "# most popular color\n",
    "# most popular type\n",
    "merged_df = transaction_df.merge(articles_df ,left_on='article_id', right_on='article_id')"
   ]
  },
  {
   "cell_type": "code",
   "execution_count": null,
   "id": "2dfc0987",
   "metadata": {},
   "outputs": [],
   "source": [
    "merged_df.shape "
   ]
  },
  {
   "cell_type": "code",
   "execution_count": null,
   "id": "55effb6f",
   "metadata": {},
   "outputs": [],
   "source": [
    "transaction_df.shape"
   ]
  },
  {
   "cell_type": "code",
   "execution_count": null,
   "id": "0f0a57bb",
   "metadata": {},
   "outputs": [],
   "source": [
    "# top 5 most purchased colors\n",
    "merged_df['colour_group_name'].value_counts().nlargest(5)"
   ]
  },
  {
   "cell_type": "code",
   "execution_count": null,
   "id": "62a4fabb",
   "metadata": {},
   "outputs": [],
   "source": [
    "# top 5 most purchased garment\n",
    "merged_df['product_group_name'].value_counts().nlargest(5)"
   ]
  },
  {
   "cell_type": "code",
   "execution_count": null,
   "id": "4572a968",
   "metadata": {},
   "outputs": [],
   "source": [
    "# top 5 most purchased type\n",
    "merged_df['product_type_name'].value_counts().nlargest(5)"
   ]
  },
  {
   "cell_type": "markdown",
   "id": "46197feb",
   "metadata": {},
   "source": [
    "<h2> Customer Info </h2>"
   ]
  },
  {
   "cell_type": "code",
   "execution_count": null,
   "id": "fc54204a",
   "metadata": {},
   "outputs": [],
   "source": [
    "customers_df.columns"
   ]
  },
  {
   "cell_type": "code",
   "execution_count": null,
   "id": "d4318744",
   "metadata": {},
   "outputs": [],
   "source": [
    "customers_df['Active'].describe() "
   ]
  },
  {
   "cell_type": "code",
   "execution_count": null,
   "id": "4cea3d5b",
   "metadata": {},
   "outputs": [],
   "source": [
    "customers_df['Active'].value_counts(dropna=False)# total number customer that are currently active"
   ]
  },
  {
   "cell_type": "code",
   "execution_count": null,
   "id": "33ab3207",
   "metadata": {},
   "outputs": [],
   "source": [
    "customers_df['age'].describe()"
   ]
  },
  {
   "cell_type": "code",
   "execution_count": null,
   "id": "77a65988",
   "metadata": {},
   "outputs": [],
   "source": [
    "customers_df['age'].value_counts(dropna=False)"
   ]
  },
  {
   "cell_type": "code",
   "execution_count": null,
   "id": "a65902d9",
   "metadata": {},
   "outputs": [],
   "source": [
    "transaction_df.groupby('customer_id')['price'].aggregate('sum') # Every Customer with their total spendings"
   ]
  },
  {
   "cell_type": "code",
   "execution_count": null,
   "id": "a384ea1c",
   "metadata": {},
   "outputs": [],
   "source": [
    "transaction_df.groupby('customer_id')['price'].aggregate('sum').describe() # average purchases"
   ]
  },
  {
   "cell_type": "code",
   "execution_count": null,
   "id": "d677c5fa",
   "metadata": {},
   "outputs": [],
   "source": [
    "transaction_df.groupby('customer_id')['price'].aggregate('sum').nlargest(3) # top 3 customers with highests purchases"
   ]
  },
  {
   "cell_type": "code",
   "execution_count": null,
   "id": "9a712aa5",
   "metadata": {},
   "outputs": [],
   "source": [
    "# Top 3 customers with highest number of transactions\n",
    "transaction_df['customer_id'].value_counts(dropna=False).nlargest(5)"
   ]
  },
  {
   "cell_type": "markdown",
   "id": "be006295",
   "metadata": {},
   "source": [
    "<h2> Transaction info </h2>"
   ]
  },
  {
   "cell_type": "code",
   "execution_count": null,
   "id": "a72b2e8e",
   "metadata": {},
   "outputs": [],
   "source": [
    "transaction_df.columns"
   ]
  },
  {
   "cell_type": "code",
   "execution_count": null,
   "id": "b393c8a3",
   "metadata": {},
   "outputs": [],
   "source": [
    "transaction_df.shape"
   ]
  },
  {
   "cell_type": "code",
   "execution_count": null,
   "id": "87102510",
   "metadata": {},
   "outputs": [],
   "source": [
    "transaction_df['t_dat'].min()"
   ]
  },
  {
   "cell_type": "code",
   "execution_count": null,
   "id": "3bbd2bcf",
   "metadata": {},
   "outputs": [],
   "source": [
    "transaction_df['t_dat'].max()"
   ]
  },
  {
   "cell_type": "code",
   "execution_count": null,
   "id": "d89925be",
   "metadata": {},
   "outputs": [],
   "source": [
    "# shows how many items were bought per percentage of customer\n",
    "# Number of items purchased by the customers on avrage\n",
    "\n",
    "transaction_df.groupby('customer_id')['article_id'].count().describe()"
   ]
  },
  {
   "cell_type": "code",
   "execution_count": null,
   "id": "30cb9271",
   "metadata": {},
   "outputs": [],
   "source": [
    "# shows percentage of how much money was spent per customer \n",
    "# in total 359222 customer had purchased items. On avrage a customer spends 0.16....\n",
    "# 0.00056 was the lowest that was ever  spent\n",
    "# 11.6 was the maximum that an individual customer spent\n",
    "# average percentage of customers twith their spendings\n",
    "transaction_df.groupby('customer_id')['price'].sum().describe()"
   ]
  },
  {
   "cell_type": "markdown",
   "id": "de32d3a6",
   "metadata": {},
   "source": [
    "<h2> Random Recommender </h2>"
   ]
  },
  {
   "cell_type": "code",
   "execution_count": null,
   "id": "983763af",
   "metadata": {},
   "outputs": [],
   "source": [
    "customers = customers_df.to_records()[-5:]"
   ]
  },
  {
   "cell_type": "code",
   "execution_count": null,
   "id": "35426af2",
   "metadata": {},
   "outputs": [],
   "source": [
    "# Recommeding an individual product\n",
    "# can recommend a specific color randomly\n",
    "# can recommend items from  specific department randomly\n",
    "# But I just kept it sime and recommend 5 individual products \n",
    "\n",
    "def random_recommender(customer):\n",
    "    print(f\"{customer.customer_id} \", random.choice(articles_df[['article_id','product_group_name','prod_name','colour_group_name']].values))\n",
    "\n"
   ]
  },
  {
   "cell_type": "code",
   "execution_count": null,
   "id": "c37bb7cc",
   "metadata": {},
   "outputs": [],
   "source": [
    "for customer in customers:\n",
    "    random_recommender(customer)"
   ]
  },
  {
   "cell_type": "markdown",
   "id": "7854437c",
   "metadata": {},
   "source": [
    "<h2> Popularity Based Recommender </h2>"
   ]
  },
  {
   "cell_type": "code",
   "execution_count": null,
   "id": "9a7eae7b",
   "metadata": {},
   "outputs": [],
   "source": [
    "# recommends 5 most purchased items\n",
    "def  popularity_recommender(customer):\n",
    "    # Top 5 most bought\n",
    "    popular_products = transaction_df['article_id'].value_counts().nlargest(5).to_frame()['article_id'].keys().values\n",
    "    for product in popular_products:\n",
    "        print(articles_df[['prod_name','product_group_name','colour_group_name']][articles_df['article_id'] == product],'\\n')\n"
   ]
  },
  {
   "cell_type": "code",
   "execution_count": null,
   "id": "9938ac18",
   "metadata": {},
   "outputs": [],
   "source": [
    "popularity_recommender(customers[1])"
   ]
  },
  {
   "cell_type": "code",
   "execution_count": null,
   "id": "b1f4745f",
   "metadata": {},
   "outputs": [],
   "source": []
  }
 ],
 "metadata": {
  "kernelspec": {
   "display_name": "Python 3 (ipykernel)",
   "language": "python",
   "name": "python3"
  },
  "language_info": {
   "codemirror_mode": {
    "name": "ipython",
    "version": 3
   },
   "file_extension": ".py",
   "mimetype": "text/x-python",
   "name": "python",
   "nbconvert_exporter": "python",
   "pygments_lexer": "ipython3",
   "version": "3.10.5"
  }
 },
 "nbformat": 4,
 "nbformat_minor": 5
}
